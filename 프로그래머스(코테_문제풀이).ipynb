{
  "nbformat": 4,
  "nbformat_minor": 0,
  "metadata": {
    "colab": {
      "provenance": [],
      "authorship_tag": "ABX9TyM2jaH+MbvOmLgEs14F1fwp",
      "include_colab_link": true
    },
    "kernelspec": {
      "name": "python3",
      "display_name": "Python 3"
    },
    "language_info": {
      "name": "python"
    }
  },
  "cells": [
    {
      "cell_type": "markdown",
      "metadata": {
        "id": "view-in-github",
        "colab_type": "text"
      },
      "source": [
        "<a href=\"https://colab.research.google.com/github/YuSeongShim/Python_colab/blob/main/%ED%94%84%EB%A1%9C%EA%B7%B8%EB%9E%98%EB%A8%B8%EC%8A%A4(%EC%BD%94%ED%85%8C_%EB%AC%B8%EC%A0%9C%ED%92%80%EC%9D%B4).ipynb\" target=\"_parent\"><img src=\"https://colab.research.google.com/assets/colab-badge.svg\" alt=\"Open In Colab\"/></a>"
      ]
    },
    {
      "cell_type": "markdown",
      "source": [
        "## Day1"
      ],
      "metadata": {
        "id": "rlC1v--AUbqE"
      }
    },
    {
      "cell_type": "code",
      "execution_count": 1,
      "metadata": {
        "colab": {
          "base_uri": "https://localhost:8080/"
        },
        "id": "iFpX6vbhUVhh",
        "outputId": "656a39a6-5e79-4677-bf32-e85ed383b09e"
      },
      "outputs": [
        {
          "output_type": "stream",
          "name": "stdout",
          "text": [
            "HelloWorld!\n",
            "HelloWorld!\n"
          ]
        }
      ],
      "source": [
        "# 1. 문자열 출력하기\n",
        "## 문자열 str이 주어질 때, str을 출력하는 코드를 작성해 보세요.\n",
        "\n",
        "\n",
        "str = input()\n",
        "print(str)"
      ]
    },
    {
      "cell_type": "code",
      "source": [
        "# 2.a와 b 출력하기\n",
        "## 정수 a와 b가 주어집니다. 각 수를 입력받아 입출력 예와 같은 형식으로 출력하는 코드를 작성해 보세요.\n",
        "\n",
        "a, b = map(int, input().strip().split(' '))\n",
        "\n",
        "print(\"a =\", a)\n",
        "print(\"b =\", b)"
      ],
      "metadata": {
        "id": "x3R_qwwyUoPw"
      },
      "execution_count": null,
      "outputs": []
    },
    {
      "cell_type": "code",
      "source": [
        "# 3. 문자열 반복해서 출력하기\n",
        "## str이 n번 반복된 문자열을 만들어 출력하는 코드를 작성해 보세요.\n",
        "\n",
        "str, n = input().strip().split(' ')\n",
        "print(str*int(n))"
      ],
      "metadata": {
        "id": "kIuEFOJVU0Tw"
      },
      "execution_count": null,
      "outputs": []
    },
    {
      "cell_type": "code",
      "source": [
        "# 4. 대소문자 바꿔서 출력하기\n",
        "## 각 알파벳을 대문자는 소문자로 소문자는 대문자로 변환해서 출력하는 코드를 작성\n",
        "\n",
        "str = input()\n",
        "\n",
        "print(str.swapcase())"
      ],
      "metadata": {
        "id": "KavW7kiVVBX0"
      },
      "execution_count": null,
      "outputs": []
    },
    {
      "cell_type": "code",
      "source": [
        "# 5. 특수문자 출력하기\n",
        "## 다음과 같이 출력하도록 코드를 작성해 주세요.\n",
        "\n",
        "print(\"!@#$%^&*(\\\\'\"\"\"\"\"<>?:;\"\"\")"
      ],
      "metadata": {
        "id": "yBpUP4ATVLbg"
      },
      "execution_count": null,
      "outputs": []
    },
    {
      "cell_type": "markdown",
      "source": [
        "## PCCE 기출문제 1회"
      ],
      "metadata": {
        "id": "xjH5ULwWVV9E"
      }
    },
    {
      "cell_type": "code",
      "source": [
        "# [PCCE 기출문제] 1번 / 문자 출력\n",
        "## 주어진 코드는 변수에 데이터를 저장하고 출력하는 코드입니다. 아래와 같이 출력되도록 빈칸을 채워 코드를 완성해 주세요.\n",
        "\n",
        "message = \"Let's go!\"\n",
        "\n",
        "print(\"3\\n2\\n1\")\n",
        "print(message)"
      ],
      "metadata": {
        "colab": {
          "base_uri": "https://localhost:8080/"
        },
        "id": "-AuPmq4fViLc",
        "outputId": "dabcc5a5-f839-4a1c-974d-864140554c4d"
      },
      "execution_count": 2,
      "outputs": [
        {
          "output_type": "stream",
          "name": "stdout",
          "text": [
            "3\n",
            "2\n",
            "1\n",
            "Let's go!\n"
          ]
        }
      ]
    },
    {
      "cell_type": "code",
      "source": [
        "# [PCCE 기출문제] 2번 / 각도 합치기\n",
        "##  두 각의 합을 0도 이상 360도 미만으로 출력하는 코드입니다. 코드가 올바르게 작동하도록 한 줄을 수정해 주세요.\n",
        "\n",
        "angle1 = int(input())\n",
        "angle2 = int(input())\n",
        "\n",
        "sum_angle = (angle1 + angle2) % 360\n",
        "print(sum_angle)"
      ],
      "metadata": {
        "id": "zDY0N7SwVxaE"
      },
      "execution_count": null,
      "outputs": []
    },
    {
      "cell_type": "code",
      "source": [
        "# [PCCE 기출문제] 3번 / 수 나누기\n",
        "## 주어진 코드는 이 수를 2자리씩 자른 뒤, 자른 수를 모두 더해서 그 합을 출력하는 코드입니다. 코드가 올바르게 작동하도록 한 줄을 수정해 주세요.\n",
        "\n",
        "number = int(input())\n",
        "\n",
        "answer = 0\n",
        "\n",
        "for i in range(5):\n",
        "    answer += number % 100\n",
        "    number //= 100\n",
        "\n",
        "print(answer)"
      ],
      "metadata": {
        "id": "D2ouYEF4V_wE"
      },
      "execution_count": null,
      "outputs": []
    },
    {
      "cell_type": "code",
      "source": [
        "# [PCCE 기출문제] 4번 / 병과분류\n",
        "## 환자의 코드를 나타내는 문자열 code를 입력받아 위 표에 맞는 병과를 출력하도록 빈칸을 채워 코드를 완성해 주세요.\n",
        "# 위 표의 단어로 끝나지 않는다면 \"direct recommendation\"를 출력합니다.\n",
        "\n",
        "code = input()\n",
        "last_four_words = code[-4:]\n",
        "\n",
        "if last_four_words == '_eye':\n",
        "    print(\"Ophthalmologyc\")\n",
        "elif last_four_words == 'head':\n",
        "    print(\"Neurosurgery\")\n",
        "elif last_four_words == 'infl':\n",
        "    print(\"Orthopedics\")\n",
        "elif last_four_words == 'skin':\n",
        "    print(\"Dermatology\")\n",
        "else:\n",
        "    print(\"direct recommendation\")"
      ],
      "metadata": {
        "id": "xx2p-1iaWH04"
      },
      "execution_count": null,
      "outputs": []
    },
    {
      "cell_type": "code",
      "source": [
        "# [PCCE 기출문제] 5번 / 심폐소생술\n",
        "##"
      ],
      "metadata": {
        "id": "GqsDGKrvWgEg"
      },
      "execution_count": null,
      "outputs": []
    }
  ]
}