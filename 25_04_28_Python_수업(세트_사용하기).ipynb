{
  "nbformat": 4,
  "nbformat_minor": 0,
  "metadata": {
    "colab": {
      "provenance": [],
      "authorship_tag": "ABX9TyPohP9idNDAtnySl3aAKCuo",
      "include_colab_link": true
    },
    "kernelspec": {
      "name": "python3",
      "display_name": "Python 3"
    },
    "language_info": {
      "name": "python"
    }
  },
  "cells": [
    {
      "cell_type": "markdown",
      "metadata": {
        "id": "view-in-github",
        "colab_type": "text"
      },
      "source": [
        "<a href=\"https://colab.research.google.com/github/YuSeongShim/Python_colab/blob/main/25_04_28_Python_%EC%88%98%EC%97%85(%EC%84%B8%ED%8A%B8_%EC%82%AC%EC%9A%A9%ED%95%98%EA%B8%B0).ipynb\" target=\"_parent\"><img src=\"https://colab.research.google.com/assets/colab-badge.svg\" alt=\"Open In Colab\"/></a>"
      ]
    },
    {
      "cell_type": "markdown",
      "source": [
        "## 세트 만들기"
      ],
      "metadata": {
        "id": "OiUn41V5lAsU"
      }
    },
    {
      "cell_type": "code",
      "source": [
        "# 세트는 {}(중괄호)안에 값을 지정하여 각 값은, (콤마)로 구분해줌"
      ],
      "metadata": {
        "id": "mYF3RkNJlIGH"
      },
      "execution_count": null,
      "outputs": []
    },
    {
      "cell_type": "code",
      "source": [
        "# 세트는 요소의 순서가 정해져 있지 x\n",
        "# 따라서 세트를 출력해보면 매번 요소의 순서가 다르게 나옴\n",
        "\n",
        "\n",
        "fruits = {'strawberry', 'grape', 'orange', 'pineapple', 'cherry'}\n",
        "fruits"
      ],
      "metadata": {
        "colab": {
          "base_uri": "https://localhost:8080/"
        },
        "id": "Q_6-WLdZlWST",
        "outputId": "3bf04aad-1345-4786-ee4f-e2dab682f700"
      },
      "execution_count": null,
      "outputs": [
        {
          "output_type": "execute_result",
          "data": {
            "text/plain": [
              "{'cherry', 'grape', 'orange', 'pineapple', 'strawberry'}"
            ]
          },
          "metadata": {},
          "execution_count": 4
        }
      ]
    },
    {
      "cell_type": "code",
      "source": [
        "# 세트에 들어가는 요소는 중복 x\n",
        "\n",
        "fruits = {'orange','orange','cherry'}\n",
        "fruits"
      ],
      "metadata": {
        "colab": {
          "base_uri": "https://localhost:8080/"
        },
        "id": "7rvMXu-olhw1",
        "outputId": "d2540854-6a1e-432b-822c-19393163f2d6"
      },
      "execution_count": null,
      "outputs": [
        {
          "output_type": "execute_result",
          "data": {
            "text/plain": [
              "{'cherry', 'orange'}"
            ]
          },
          "metadata": {},
          "execution_count": 5
        }
      ]
    },
    {
      "cell_type": "code",
      "source": [
        "# 세트는 리스트, 튜플, 딕셔너리와 달리 [](대괄호)로 특정 요소만 출력 x\n",
        "\n",
        "fruits = {'strawberry', 'grape', 'orange', 'pineapple', 'cherry'}\n",
        "print(fruits[0])"
      ],
      "metadata": {
        "colab": {
          "base_uri": "https://localhost:8080/",
          "height": 110
        },
        "id": "NFTF7Mn-mFrT",
        "outputId": "369c4f38-3311-4ad7-f5b0-6d4592d3825d"
      },
      "execution_count": null,
      "outputs": [
        {
          "output_type": "error",
          "ename": "SyntaxError",
          "evalue": "invalid syntax (<ipython-input-6-a96a8704a9b8>, line 3)",
          "traceback": [
            "\u001b[0;36m  File \u001b[0;32m\"<ipython-input-6-a96a8704a9b8>\"\u001b[0;36m, line \u001b[0;32m3\u001b[0m\n\u001b[0;31m    fruits = {'strawberry', 'grape', 'orange', 'pineapple', 'cherry'}0\u001b[0m\n\u001b[0m                                                                     ^\u001b[0m\n\u001b[0;31mSyntaxError\u001b[0m\u001b[0;31m:\u001b[0m invalid syntax\n"
          ]
        }
      ]
    },
    {
      "cell_type": "code",
      "source": [
        "fruits['strawberry']"
      ],
      "metadata": {
        "colab": {
          "base_uri": "https://localhost:8080/",
          "height": 146
        },
        "id": "db5jofqomcVz",
        "outputId": "5609a310-60ba-482c-dcd5-15e314292f9d"
      },
      "execution_count": null,
      "outputs": [
        {
          "output_type": "error",
          "ename": "TypeError",
          "evalue": "'set' object is not subscriptable",
          "traceback": [
            "\u001b[0;31m---------------------------------------------------------------------------\u001b[0m",
            "\u001b[0;31mTypeError\u001b[0m                                 Traceback (most recent call last)",
            "\u001b[0;32m<ipython-input-7-e160fcb7095a>\u001b[0m in \u001b[0;36m<cell line: 0>\u001b[0;34m()\u001b[0m\n\u001b[0;32m----> 1\u001b[0;31m \u001b[0mfruits\u001b[0m\u001b[0;34m[\u001b[0m\u001b[0;34m'strawberry'\u001b[0m\u001b[0;34m]\u001b[0m\u001b[0;34m\u001b[0m\u001b[0;34m\u001b[0m\u001b[0m\n\u001b[0m",
            "\u001b[0;31mTypeError\u001b[0m: 'set' object is not subscriptable"
          ]
        }
      ]
    },
    {
      "cell_type": "markdown",
      "source": [
        "## 세트에 특정 값이 있는지 확인하기"
      ],
      "metadata": {
        "id": "168M40Kzmugu"
      }
    },
    {
      "cell_type": "code",
      "source": [
        "# 값 in 세트\n",
        "# 세트에 특정 값이 있으면 True, 없으면 False가 나옴\n",
        "\n",
        "fruits = {'strawberry', 'grape', 'orange', 'pineapple', 'cherry'}\n",
        "\n",
        "'orange' in fruits"
      ],
      "metadata": {
        "colab": {
          "base_uri": "https://localhost:8080/"
        },
        "id": "nxRWZ65pmiVL",
        "outputId": "e1677887-90a6-4a88-eacc-48bcb407ca2d"
      },
      "execution_count": null,
      "outputs": [
        {
          "output_type": "execute_result",
          "data": {
            "text/plain": [
              "True"
            ]
          },
          "metadata": {},
          "execution_count": 8
        }
      ]
    },
    {
      "cell_type": "code",
      "source": [
        "'peach' in fruits"
      ],
      "metadata": {
        "colab": {
          "base_uri": "https://localhost:8080/"
        },
        "id": "oHop4rfnnDDC",
        "outputId": "b49529f6-0de4-4f15-f9b8-f94355b5a7ec"
      },
      "execution_count": null,
      "outputs": [
        {
          "output_type": "execute_result",
          "data": {
            "text/plain": [
              "False"
            ]
          },
          "metadata": {},
          "execution_count": 9
        }
      ]
    },
    {
      "cell_type": "code",
      "source": [
        "# 값 not in 세트\n",
        "# 반대로 in 안에 not을 붙이면 특정 값이 없는지 확인 함\n",
        "\n",
        "'peach' not in fruits"
      ],
      "metadata": {
        "colab": {
          "base_uri": "https://localhost:8080/"
        },
        "id": "cYJYpAtZnFtM",
        "outputId": "84bf3dce-73a2-4e81-d7a8-17810041ff1c"
      },
      "execution_count": null,
      "outputs": [
        {
          "output_type": "execute_result",
          "data": {
            "text/plain": [
              "True"
            ]
          },
          "metadata": {},
          "execution_count": 10
        }
      ]
    },
    {
      "cell_type": "code",
      "source": [
        "'orange' not in fruits"
      ],
      "metadata": {
        "colab": {
          "base_uri": "https://localhost:8080/"
        },
        "id": "mgcBvJswnkPe",
        "outputId": "a5b635c2-cafb-4ee9-bbf9-bbe7a8174a55"
      },
      "execution_count": null,
      "outputs": [
        {
          "output_type": "execute_result",
          "data": {
            "text/plain": [
              "False"
            ]
          },
          "metadata": {},
          "execution_count": 11
        }
      ]
    },
    {
      "cell_type": "markdown",
      "source": [
        "## set을 이용하여 세트 만들기"
      ],
      "metadata": {
        "id": "pZo4T1EDnpic"
      }
    },
    {
      "cell_type": "code",
      "source": [
        "# set(반복가능한객체)\n",
        "\n",
        "a = set('apple') # 유일한 문자만 세트로 만듦\n",
        "a"
      ],
      "metadata": {
        "colab": {
          "base_uri": "https://localhost:8080/"
        },
        "id": "YH8q0MZZnmb3",
        "outputId": "085802d3-d0ce-4198-d376-2cb6ee6c2137"
      },
      "execution_count": null,
      "outputs": [
        {
          "output_type": "execute_result",
          "data": {
            "text/plain": [
              "{'a', 'e', 'l', 'p'}"
            ]
          },
          "metadata": {},
          "execution_count": 12
        }
      ]
    },
    {
      "cell_type": "code",
      "source": [
        "# range를 사용하면 0부터 4까지 숫자를 가진 세트를 만들 수 있음\n",
        "\n",
        "b = set(range(5))\n",
        "b"
      ],
      "metadata": {
        "colab": {
          "base_uri": "https://localhost:8080/"
        },
        "id": "LwpVhBc2n7uP",
        "outputId": "eb55dea6-c638-4b05-c208-c0c140142f7a"
      },
      "execution_count": null,
      "outputs": [
        {
          "output_type": "execute_result",
          "data": {
            "text/plain": [
              "{0, 1, 2, 3, 4}"
            ]
          },
          "metadata": {},
          "execution_count": 13
        }
      ]
    },
    {
      "cell_type": "code",
      "source": [
        "# 빈 세트는 아무것도 지정하지 않으면 됨\n",
        "\n",
        "c = set()\n",
        "c"
      ],
      "metadata": {
        "colab": {
          "base_uri": "https://localhost:8080/"
        },
        "id": "5u29yYkzoHDX",
        "outputId": "f51da732-d43f-4600-df6c-6eb0c3aad0a7"
      },
      "execution_count": null,
      "outputs": [
        {
          "output_type": "execute_result",
          "data": {
            "text/plain": [
              "set()"
            ]
          },
          "metadata": {},
          "execution_count": 14
        }
      ]
    },
    {
      "cell_type": "code",
      "source": [
        "# 단 세트가 {}를 사용한다고 해서 c = {}와 같이 만들면 빈 딕셔너리가 만들어짐\n",
        "# type을 사용 = 자료형의 종류를 알 수 있음\n",
        "\n",
        "c = {}\n",
        "type(c)"
      ],
      "metadata": {
        "colab": {
          "base_uri": "https://localhost:8080/"
        },
        "id": "J7UJoEtAoNe0",
        "outputId": "a41b58de-c263-495d-cf08-47b23af3372b"
      },
      "execution_count": null,
      "outputs": [
        {
          "output_type": "execute_result",
          "data": {
            "text/plain": [
              "dict"
            ]
          },
          "metadata": {},
          "execution_count": 15
        }
      ]
    },
    {
      "cell_type": "code",
      "source": [
        "c = set()\n",
        "type(c)"
      ],
      "metadata": {
        "colab": {
          "base_uri": "https://localhost:8080/"
        },
        "id": "lUHKmBfhokvF",
        "outputId": "377b3784-5bb3-4caa-de35-1e762ba0db4e"
      },
      "execution_count": null,
      "outputs": [
        {
          "output_type": "execute_result",
          "data": {
            "text/plain": [
              "set"
            ]
          },
          "metadata": {},
          "execution_count": 16
        }
      ]
    },
    {
      "cell_type": "markdown",
      "source": [
        "## 한글 문자열을 세트로 만들기"
      ],
      "metadata": {
        "id": "x4hJkfh6ossn"
      }
    },
    {
      "cell_type": "code",
      "source": [
        "# set을 사용하여 한글 문자열을 세트로 만들면 다음과 같이 음절 단위로 만들어짐\n",
        "\n",
        "set('안녕하세요')"
      ],
      "metadata": {
        "colab": {
          "base_uri": "https://localhost:8080/"
        },
        "id": "GhXuh-Ceop_G",
        "outputId": "8505d670-656b-4d20-a877-3b7fcf8ebabf"
      },
      "execution_count": null,
      "outputs": [
        {
          "output_type": "execute_result",
          "data": {
            "text/plain": [
              "{'녕', '세', '안', '요', '하'}"
            ]
          },
          "metadata": {},
          "execution_count": 17
        }
      ]
    },
    {
      "cell_type": "markdown",
      "source": [
        "## 세트 안에 세트 넣기"
      ],
      "metadata": {
        "id": "wp5_nerco6FQ"
      }
    },
    {
      "cell_type": "code",
      "source": [
        "# 세트는 리스트, 딕셔너리와 달리 세트 안에 세트를 넣을 수 x\n",
        "\n",
        "a = {{1, 2}, {3, 4}}"
      ],
      "metadata": {
        "colab": {
          "base_uri": "https://localhost:8080/",
          "height": 182
        },
        "id": "Y5XAPWEbo4lB",
        "outputId": "0ebd2853-3ae4-49c3-d527-f8a478ec59b2"
      },
      "execution_count": null,
      "outputs": [
        {
          "output_type": "error",
          "ename": "TypeError",
          "evalue": "unhashable type: 'set'",
          "traceback": [
            "\u001b[0;31m---------------------------------------------------------------------------\u001b[0m",
            "\u001b[0;31mTypeError\u001b[0m                                 Traceback (most recent call last)",
            "\u001b[0;32m<ipython-input-18-a9f85b8517c8>\u001b[0m in \u001b[0;36m<cell line: 0>\u001b[0;34m()\u001b[0m\n\u001b[1;32m      1\u001b[0m \u001b[0;31m# 세트는 리스트, 딕셔너리와 달리 세트 안에 세트를 넣을 수 x\u001b[0m\u001b[0;34m\u001b[0m\u001b[0;34m\u001b[0m\u001b[0m\n\u001b[1;32m      2\u001b[0m \u001b[0;34m\u001b[0m\u001b[0m\n\u001b[0;32m----> 3\u001b[0;31m \u001b[0ma\u001b[0m \u001b[0;34m=\u001b[0m \u001b[0;34m{\u001b[0m\u001b[0;34m{\u001b[0m\u001b[0;36m1\u001b[0m\u001b[0;34m,\u001b[0m \u001b[0;36m2\u001b[0m\u001b[0;34m}\u001b[0m\u001b[0;34m,\u001b[0m \u001b[0;34m{\u001b[0m\u001b[0;36m3\u001b[0m\u001b[0;34m,\u001b[0m \u001b[0;36m4\u001b[0m\u001b[0;34m}\u001b[0m\u001b[0;34m}\u001b[0m\u001b[0;34m\u001b[0m\u001b[0;34m\u001b[0m\u001b[0m\n\u001b[0m",
            "\u001b[0;31mTypeError\u001b[0m: unhashable type: 'set'"
          ]
        }
      ]
    },
    {
      "cell_type": "markdown",
      "source": [
        "## 프로즌 세트"
      ],
      "metadata": {
        "id": "s0zp7Fa9pHGR"
      }
    },
    {
      "cell_type": "code",
      "source": [
        "# 파이썬은 내용을 변경할 수 없는 세트도 제공함\n",
        "# 프로즌세트 = forzenset(반복가능한객체)\n",
        "\n",
        "a = frozenset(range(10))\n",
        "a"
      ],
      "metadata": {
        "colab": {
          "base_uri": "https://localhost:8080/"
        },
        "id": "fHFEcilCpEoU",
        "outputId": "d8a3badc-61d7-4739-c746-fa13a6c9eee1"
      },
      "execution_count": null,
      "outputs": [
        {
          "output_type": "execute_result",
          "data": {
            "text/plain": [
              "frozenset({0, 1, 2, 3, 4, 5, 6, 7, 8, 9})"
            ]
          },
          "metadata": {},
          "execution_count": 19
        }
      ]
    },
    {
      "cell_type": "code",
      "source": [
        "# frozenset는 집합 연산과 메서드에서 요소를 추가하거나, 삭제하는 연산, 메서드는 사용할 수 x\n",
        "\n",
        "a = frozenset(range(10))\n",
        "a|= 10"
      ],
      "metadata": {
        "colab": {
          "base_uri": "https://localhost:8080/",
          "height": 182
        },
        "id": "3vCYBbEqpce0",
        "outputId": "d589ac1c-b297-4e46-c00d-74621368272a"
      },
      "execution_count": null,
      "outputs": [
        {
          "output_type": "error",
          "ename": "TypeError",
          "evalue": "unsupported operand type(s) for |=: 'frozenset' and 'int'",
          "traceback": [
            "\u001b[0;31m---------------------------------------------------------------------------\u001b[0m",
            "\u001b[0;31mTypeError\u001b[0m                                 Traceback (most recent call last)",
            "\u001b[0;32m<ipython-input-20-d802e33bbd31>\u001b[0m in \u001b[0;36m<cell line: 0>\u001b[0;34m()\u001b[0m\n\u001b[1;32m      2\u001b[0m \u001b[0;34m\u001b[0m\u001b[0m\n\u001b[1;32m      3\u001b[0m \u001b[0ma\u001b[0m \u001b[0;34m=\u001b[0m \u001b[0mfrozenset\u001b[0m\u001b[0;34m(\u001b[0m\u001b[0mrange\u001b[0m\u001b[0;34m(\u001b[0m\u001b[0;36m10\u001b[0m\u001b[0;34m)\u001b[0m\u001b[0;34m)\u001b[0m\u001b[0;34m\u001b[0m\u001b[0;34m\u001b[0m\u001b[0m\n\u001b[0;32m----> 4\u001b[0;31m \u001b[0ma\u001b[0m\u001b[0;34m|=\u001b[0m \u001b[0;36m10\u001b[0m\u001b[0;34m\u001b[0m\u001b[0;34m\u001b[0m\u001b[0m\n\u001b[0m",
            "\u001b[0;31mTypeError\u001b[0m: unsupported operand type(s) for |=: 'frozenset' and 'int'"
          ]
        }
      ]
    },
    {
      "cell_type": "code",
      "source": [
        "a.update({10})"
      ],
      "metadata": {
        "colab": {
          "base_uri": "https://localhost:8080/",
          "height": 146
        },
        "id": "_IdEJs8Ypt21",
        "outputId": "91547ade-30c5-4bfc-a88f-8f622a34ca2a"
      },
      "execution_count": null,
      "outputs": [
        {
          "output_type": "error",
          "ename": "AttributeError",
          "evalue": "'frozenset' object has no attribute 'update'",
          "traceback": [
            "\u001b[0;31m---------------------------------------------------------------------------\u001b[0m",
            "\u001b[0;31mAttributeError\u001b[0m                            Traceback (most recent call last)",
            "\u001b[0;32m<ipython-input-21-babcabbb12ed>\u001b[0m in \u001b[0;36m<cell line: 0>\u001b[0;34m()\u001b[0m\n\u001b[0;32m----> 1\u001b[0;31m \u001b[0ma\u001b[0m\u001b[0;34m.\u001b[0m\u001b[0mupdate\u001b[0m\u001b[0;34m(\u001b[0m\u001b[0;34m{\u001b[0m\u001b[0;36m10\u001b[0m\u001b[0;34m}\u001b[0m\u001b[0;34m)\u001b[0m\u001b[0;34m\u001b[0m\u001b[0;34m\u001b[0m\u001b[0m\n\u001b[0m",
            "\u001b[0;31mAttributeError\u001b[0m: 'frozenset' object has no attribute 'update'"
          ]
        }
      ]
    },
    {
      "cell_type": "code",
      "source": [
        "# frozenset은 세트 안에 세트를 넣고 싶을 때 사용함\n",
        "# frozenset은 중첩해서 넣을 수는 있지만, 일반 set 넣지 x\n",
        "\n",
        "frozenset({frozenset({1, 2}), frozenset({3, 4})})"
      ],
      "metadata": {
        "colab": {
          "base_uri": "https://localhost:8080/"
        },
        "id": "B7Ie1tU7pw2M",
        "outputId": "1997329e-48d3-4988-9e72-14c0f91f239f"
      },
      "execution_count": null,
      "outputs": [
        {
          "output_type": "execute_result",
          "data": {
            "text/plain": [
              "frozenset({frozenset({3, 4}), frozenset({1, 2})})"
            ]
          },
          "metadata": {},
          "execution_count": 22
        }
      ]
    },
    {
      "cell_type": "markdown",
      "source": [
        "## 집합 연산 사용하기"
      ],
      "metadata": {
        "id": "Gh1wnfThqJ4s"
      }
    },
    {
      "cell_type": "code",
      "source": [
        "# 집합 연산은 파이썬의 산술 연산자와 논리 연산자 사용\n",
        "# |연산자는 합집합을 구하며, OR연산자도 | 사용, set, union 메서드와 동작이 같음\n",
        "\n",
        "# 세트 1 | 세트 2\n",
        "# set.union(세트1, 세트2)\n",
        "\n",
        "a = {1, 2, 3, 4}\n",
        "b = {3, 4, 5, 6}\n",
        "a | b"
      ],
      "metadata": {
        "colab": {
          "base_uri": "https://localhost:8080/"
        },
        "id": "KswgCCA2qHgF",
        "outputId": "9a392d73-1128-40d0-ecd2-a3a608a5db5c"
      },
      "execution_count": null,
      "outputs": [
        {
          "output_type": "execute_result",
          "data": {
            "text/plain": [
              "{1, 2, 3, 4, 5, 6}"
            ]
          },
          "metadata": {},
          "execution_count": 23
        }
      ]
    },
    {
      "cell_type": "code",
      "source": [
        "set.union(a, b)"
      ],
      "metadata": {
        "colab": {
          "base_uri": "https://localhost:8080/"
        },
        "id": "ZazyR1wequd-",
        "outputId": "9ab47fea-a580-4d4f-fc66-8a06d53fd2f6"
      },
      "execution_count": null,
      "outputs": [
        {
          "output_type": "execute_result",
          "data": {
            "text/plain": [
              "{1, 2, 3, 4, 5, 6}"
            ]
          },
          "metadata": {},
          "execution_count": 24
        }
      ]
    },
    {
      "cell_type": "code",
      "source": [
        "# &연산자는 교집합을 구하며, AND 연산자 &를 사용\n",
        "# set.intersection 메서드와 동작이 ==\n",
        "\n",
        "# 세트 1 & 세트 2\n",
        "# set.intersection(세트1, 세트2)\n",
        "\n",
        "a & b"
      ],
      "metadata": {
        "colab": {
          "base_uri": "https://localhost:8080/"
        },
        "id": "gXUYVoMtqwMq",
        "outputId": "e1b587a3-d6f0-444c-853f-652a6a835d18"
      },
      "execution_count": null,
      "outputs": [
        {
          "output_type": "execute_result",
          "data": {
            "text/plain": [
              "{3, 4}"
            ]
          },
          "metadata": {},
          "execution_count": 25
        }
      ]
    },
    {
      "cell_type": "code",
      "source": [
        "set.intersection(a,b)"
      ],
      "metadata": {
        "colab": {
          "base_uri": "https://localhost:8080/"
        },
        "id": "VIVqAo3zrJzW",
        "outputId": "f630080f-5ddf-4e78-dd13-360f4628cb55"
      },
      "execution_count": null,
      "outputs": [
        {
          "output_type": "execute_result",
          "data": {
            "text/plain": [
              "{3, 4}"
            ]
          },
          "metadata": {},
          "execution_count": 26
        }
      ]
    },
    {
      "cell_type": "code",
      "source": [
        "# -연산자는 차집합을 구하며 뺄셈 연산자를 사용\n",
        "# set.difference 메서드와 동작이 같음\n",
        "\n",
        "# 세트1 - 세트2\n",
        "# set.difference(세트1, 세트2)\n",
        "\n",
        "a - b"
      ],
      "metadata": {
        "colab": {
          "base_uri": "https://localhost:8080/"
        },
        "id": "uEQsbH0frM4r",
        "outputId": "d30dcf9f-8b30-45f9-eb21-ba3bf85dc327"
      },
      "execution_count": null,
      "outputs": [
        {
          "output_type": "execute_result",
          "data": {
            "text/plain": [
              "{1, 2}"
            ]
          },
          "metadata": {},
          "execution_count": 27
        }
      ]
    },
    {
      "cell_type": "code",
      "source": [
        "set.difference(a, b)"
      ],
      "metadata": {
        "colab": {
          "base_uri": "https://localhost:8080/"
        },
        "id": "m7DbB88lrh5A",
        "outputId": "08bb81f5-8651-4431-8b6b-24fb8a9f74b6"
      },
      "execution_count": null,
      "outputs": [
        {
          "output_type": "execute_result",
          "data": {
            "text/plain": [
              "{1, 2}"
            ]
          },
          "metadata": {},
          "execution_count": 28
        }
      ]
    },
    {
      "cell_type": "code",
      "source": [
        "# ^연산자는 대칭차집합을 구하며, XOR 연산자 ^을 사용함\n",
        "# set.symmetric_difference 메서드와 동작이 같음\n",
        "# 대칭차집합은 XOR 연산자의 특성을 그대로 따르는데, 서로 다르면 참임\n",
        "# 두 집합 중 겹치지 않는 요소만 포함하면 됨\n",
        "\n",
        "# 세트1 ^ 세트 2\n",
        "# set.symmetric_difference(세트 1, 세트 2)\n",
        "\n",
        "a ^ b"
      ],
      "metadata": {
        "colab": {
          "base_uri": "https://localhost:8080/"
        },
        "id": "GM7JwtdSrjJT",
        "outputId": "bb46a460-e6b9-42ea-8509-a66669d4580a"
      },
      "execution_count": null,
      "outputs": [
        {
          "output_type": "execute_result",
          "data": {
            "text/plain": [
              "{1, 2, 5, 6}"
            ]
          },
          "metadata": {},
          "execution_count": 30
        }
      ]
    },
    {
      "cell_type": "code",
      "source": [
        "set.symmetric_difference(a, b)"
      ],
      "metadata": {
        "colab": {
          "base_uri": "https://localhost:8080/"
        },
        "id": "_4EWEh76sPkf",
        "outputId": "27620c56-e939-443c-eb72-51dbc7e926ea"
      },
      "execution_count": null,
      "outputs": [
        {
          "output_type": "execute_result",
          "data": {
            "text/plain": [
              "{1, 2, 5, 6}"
            ]
          },
          "metadata": {},
          "execution_count": 31
        }
      ]
    },
    {
      "cell_type": "markdown",
      "source": [
        "## 집합 연산 후 할당 연산자 사용하기"
      ],
      "metadata": {
        "id": "t6bMlb3qtKAS"
      }
    },
    {
      "cell_type": "code",
      "source": [
        "# 세트 자료형에 |, &, -, ^ 연산자와 할당 연산자 =를 함께 사용하면 집합 연산의 결과를 변수에 다시 저장함\n",
        "# |=는 현재 세트에 다른 세트를 더하여 update 메서드와 같음\n",
        "\n",
        "# 세트1 |= 세트2\n",
        "# 세트1.update(세트2)\n",
        "\n",
        "a = {1, 2, 3, 4}\n",
        "a |= {5}\n",
        "a"
      ],
      "metadata": {
        "colab": {
          "base_uri": "https://localhost:8080/"
        },
        "id": "2gJwF_ZRsTBN",
        "outputId": "b92d9125-1e1d-4158-e2b4-59f69e6f9e86"
      },
      "execution_count": null,
      "outputs": [
        {
          "output_type": "execute_result",
          "data": {
            "text/plain": [
              "{1, 2, 3, 4, 5}"
            ]
          },
          "metadata": {},
          "execution_count": 32
        }
      ]
    },
    {
      "cell_type": "code",
      "source": [
        "a = {1, 2, 3, 4}\n",
        "a.update({5})\n",
        "a"
      ],
      "metadata": {
        "colab": {
          "base_uri": "https://localhost:8080/"
        },
        "id": "7D_1LxlLuLSm",
        "outputId": "c4289f2b-12fd-4f65-d0cb-ef1755a86832"
      },
      "execution_count": null,
      "outputs": [
        {
          "output_type": "execute_result",
          "data": {
            "text/plain": [
              "{1, 2, 3, 4, 5}"
            ]
          },
          "metadata": {},
          "execution_count": 33
        }
      ]
    },
    {
      "cell_type": "code",
      "source": [
        "# &=은 현재 세트와 다른 세트 중에서 겹치는 요소만 현재 세트에 저장하여 itersection_update 메서드와 같음\n",
        "\n",
        "# 세트1 &= 세트2\n",
        "# 세트1.intersection_update({0, 1, 2, 3, 4})\n",
        "\n",
        "a = {1, 2, 3, 4}\n",
        "a &= {0, 1, 2, 3, 4}\n",
        "a"
      ],
      "metadata": {
        "colab": {
          "base_uri": "https://localhost:8080/"
        },
        "id": "uwBu6hzPuPGb",
        "outputId": "6cd65abe-4b3c-43bb-b329-c64c9bfa6574"
      },
      "execution_count": null,
      "outputs": [
        {
          "output_type": "execute_result",
          "data": {
            "text/plain": [
              "{1, 2, 3, 4}"
            ]
          },
          "metadata": {},
          "execution_count": 35
        }
      ]
    },
    {
      "cell_type": "code",
      "source": [
        "a = {1, 2, 3, 4}\n",
        "a.intersection_update({0, 1, 2, 3, 4})\n",
        "a"
      ],
      "metadata": {
        "colab": {
          "base_uri": "https://localhost:8080/"
        },
        "id": "gaUqIZLbulA0",
        "outputId": "547e3c76-1406-4cdd-fc2f-bee3f9b24a73"
      },
      "execution_count": null,
      "outputs": [
        {
          "output_type": "execute_result",
          "data": {
            "text/plain": [
              "{1, 2, 3, 4}"
            ]
          },
          "metadata": {},
          "execution_count": 36
        }
      ]
    },
    {
      "cell_type": "code",
      "source": [
        "# -=는 현재 세트에서 다른 세트를 빼며 difference_update 메서드와 같음\n",
        "\n",
        "# 세트1 -= 세트2\n",
        "# 세트1.difference_update(세트2)\n",
        "\n",
        "a = {1, 2, 3, 4}\n",
        "a -= {3}\n",
        "a"
      ],
      "metadata": {
        "colab": {
          "base_uri": "https://localhost:8080/"
        },
        "id": "q03pd_oVuxPn",
        "outputId": "c700ecca-7b65-4b42-da69-6ca92a987d86"
      },
      "execution_count": null,
      "outputs": [
        {
          "output_type": "execute_result",
          "data": {
            "text/plain": [
              "{1, 2, 4}"
            ]
          },
          "metadata": {},
          "execution_count": 37
        }
      ]
    },
    {
      "cell_type": "code",
      "source": [
        "a = {1, 2, 3, 4}\n",
        "a.difference_update({3})\n",
        "a"
      ],
      "metadata": {
        "colab": {
          "base_uri": "https://localhost:8080/"
        },
        "id": "-svj3aD6u_rZ",
        "outputId": "eb14d092-bfc9-4d74-d7da-ebe58b68b6ac"
      },
      "execution_count": null,
      "outputs": [
        {
          "output_type": "execute_result",
          "data": {
            "text/plain": [
              "{1, 2, 4}"
            ]
          },
          "metadata": {},
          "execution_count": 38
        }
      ]
    },
    {
      "cell_type": "code",
      "source": [
        "# ^=은 현재 세트와 다른 세트 중에서 겹치지 않는 요소만 현재 세트에 저장함 -> symmetric_difference_update 메서드와 같음\n",
        "\n",
        "# 세트1 ^= 세트2\n",
        "# 세트1.symmetric_difference_update(세트2)\n",
        "\n",
        "a = {1, 2, 3, 4}\n",
        "a ^= {3, 4, 5, 6}\n",
        "a"
      ],
      "metadata": {
        "colab": {
          "base_uri": "https://localhost:8080/"
        },
        "id": "udOopJEhvFO7",
        "outputId": "9defedcc-3ab0-493b-e764-796f32bc4655"
      },
      "execution_count": null,
      "outputs": [
        {
          "output_type": "execute_result",
          "data": {
            "text/plain": [
              "{1, 2, 5, 6}"
            ]
          },
          "metadata": {},
          "execution_count": 39
        }
      ]
    },
    {
      "cell_type": "code",
      "source": [
        "a = {1, 2, 3, 4}\n",
        "a.symmetric_difference_update({3, 4, 5, 6})\n",
        "a"
      ],
      "metadata": {
        "colab": {
          "base_uri": "https://localhost:8080/"
        },
        "id": "PFjBuLPevpWV",
        "outputId": "dfba8656-47cf-4642-cd64-b1399a6bf4a4"
      },
      "execution_count": null,
      "outputs": [
        {
          "output_type": "execute_result",
          "data": {
            "text/plain": [
              "{1, 2, 5, 6}"
            ]
          },
          "metadata": {},
          "execution_count": 40
        }
      ]
    },
    {
      "cell_type": "markdown",
      "source": [
        "## 부분집합과 상위집합 확인하기"
      ],
      "metadata": {
        "id": "liQ85YTMvvKT"
      }
    },
    {
      "cell_type": "code",
      "source": [
        "# <=는 현재 세트가 다른 세트의 부분 집합인지 확인 -> issubset 메서드와 같음\n",
        "# 다음은 세트 {1, 2, 3, 4}가 {1, 2, 3, 4}의 부분집합이므로 참\n",
        "\n",
        "# 현재세트 <= 다른세트\n",
        "# 현재세트.issubset(다른세트)\n",
        "\n",
        "a = {1, 2, 3, 4}\n",
        "a <= {1, 2, 3, 4}"
      ],
      "metadata": {
        "colab": {
          "base_uri": "https://localhost:8080/"
        },
        "id": "sQv-uTr_vtjY",
        "outputId": "924a7ccd-4188-4130-e470-e069fd9659d0"
      },
      "execution_count": null,
      "outputs": [
        {
          "output_type": "execute_result",
          "data": {
            "text/plain": [
              "True"
            ]
          },
          "metadata": {},
          "execution_count": 41
        }
      ]
    },
    {
      "cell_type": "code",
      "source": [
        "a.issubset({1, 2, 3, 4, 5})"
      ],
      "metadata": {
        "colab": {
          "base_uri": "https://localhost:8080/"
        },
        "id": "fCQ3S1oKwZKL",
        "outputId": "60de5134-5b76-4bb4-cb20-13199aac07df"
      },
      "execution_count": null,
      "outputs": [
        {
          "output_type": "execute_result",
          "data": {
            "text/plain": [
              "True"
            ]
          },
          "metadata": {},
          "execution_count": 42
        }
      ]
    },
    {
      "cell_type": "code",
      "source": [
        "# <은 현재 세트가 다른 세트의 진부분집합 인지 확인하여 메서드 x\n",
        "# 부분집합이지만 같지는 않을 때는 참임\n",
        "\n",
        "# 현재세트 < 다른세트\n",
        "\n",
        "a = {1, 2, 3, 4}\n",
        "a < {1, 2, 3, 4, 5}"
      ],
      "metadata": {
        "colab": {
          "base_uri": "https://localhost:8080/"
        },
        "id": "xWZVJ567wb6C",
        "outputId": "fbce0bda-414f-4313-d047-04a5a97c8241"
      },
      "execution_count": null,
      "outputs": [
        {
          "output_type": "execute_result",
          "data": {
            "text/plain": [
              "True"
            ]
          },
          "metadata": {},
          "execution_count": 43
        }
      ]
    },
    {
      "cell_type": "code",
      "source": [
        "# >=은 현재 세트가 다른 세트의 상위집합인지 확인 = issuperset 메서드와 같음\n",
        "\n",
        "# 현재세트 >= 다른세트\n",
        "# 현재세트.issuperset(다른세트)\n",
        "\n",
        "a = {1, 2, 3, 4}\n",
        "a >= {1, 2, 3, 4}\n"
      ],
      "metadata": {
        "colab": {
          "base_uri": "https://localhost:8080/"
        },
        "id": "zPCMCDxswzqZ",
        "outputId": "9ec10220-05eb-493a-bd4d-2bafb5c2fabe"
      },
      "execution_count": null,
      "outputs": [
        {
          "output_type": "execute_result",
          "data": {
            "text/plain": [
              "True"
            ]
          },
          "metadata": {},
          "execution_count": 44
        }
      ]
    },
    {
      "cell_type": "code",
      "source": [
        "a.issuperset({1, 2, 3, 4})"
      ],
      "metadata": {
        "colab": {
          "base_uri": "https://localhost:8080/"
        },
        "id": "OF7RrMBFxF-S",
        "outputId": "92e549b4-6aec-4359-c30a-b63ebb3acf1a"
      },
      "execution_count": null,
      "outputs": [
        {
          "output_type": "execute_result",
          "data": {
            "text/plain": [
              "True"
            ]
          },
          "metadata": {},
          "execution_count": 45
        }
      ]
    },
    {
      "cell_type": "code",
      "source": [
        "# >은 현재 세트가 다른 세트의 진상위집합 인지 확인 -> 메서드 x\n",
        "\n",
        "# 현재세트 > 다른세트\n",
        "\n",
        "a = {1, 2, 3, 4}\n",
        "a > {1, 2, 3}"
      ],
      "metadata": {
        "colab": {
          "base_uri": "https://localhost:8080/"
        },
        "id": "HbEC1Ps6xIo9",
        "outputId": "5100f8ba-ea80-432f-8d14-498dbc901b79"
      },
      "execution_count": null,
      "outputs": [
        {
          "output_type": "execute_result",
          "data": {
            "text/plain": [
              "True"
            ]
          },
          "metadata": {},
          "execution_count": 46
        }
      ]
    },
    {
      "cell_type": "markdown",
      "source": [
        "## 세트가 같은지 다른지 확인하기"
      ],
      "metadata": {
        "id": "8VuUHdxKxX5O"
      }
    },
    {
      "cell_type": "code",
      "source": [
        "# 세트는 == 연산자를 사용하여 서로 같은지 확인 가능\n",
        "# 세트는 요소의 순서가 정해져 있지 않아 == 로 비교했을 때, 각 요소만 같으면 참\n",
        "\n",
        "a = {1, 2, 3, 4}\n",
        "a == {1, 2, 3, 4}"
      ],
      "metadata": {
        "colab": {
          "base_uri": "https://localhost:8080/"
        },
        "id": "AXRIHTALxWJ1",
        "outputId": "df438f96-c216-4cdd-95da-ce59482e574a"
      },
      "execution_count": null,
      "outputs": [
        {
          "output_type": "execute_result",
          "data": {
            "text/plain": [
              "True"
            ]
          },
          "metadata": {},
          "execution_count": 47
        }
      ]
    },
    {
      "cell_type": "code",
      "source": [
        "a == {4, 2, 1, 3}"
      ],
      "metadata": {
        "colab": {
          "base_uri": "https://localhost:8080/"
        },
        "id": "fO9SCN0uxjpL",
        "outputId": "922663d8-2114-482a-d0ac-f02a0144f0fb"
      },
      "execution_count": null,
      "outputs": [
        {
          "output_type": "execute_result",
          "data": {
            "text/plain": [
              "True"
            ]
          },
          "metadata": {},
          "execution_count": 48
        }
      ]
    },
    {
      "cell_type": "code",
      "source": [
        "# != 연산자는 세트가 다른지 확인\n",
        "\n",
        "a = {1, 2, 3, 4}\n",
        "a != {1, 2, 3}"
      ],
      "metadata": {
        "colab": {
          "base_uri": "https://localhost:8080/"
        },
        "id": "NnRxrz5yxlLV",
        "outputId": "8db404c4-81b9-4010-9da2-d9fbfa338fe5"
      },
      "execution_count": null,
      "outputs": [
        {
          "output_type": "execute_result",
          "data": {
            "text/plain": [
              "True"
            ]
          },
          "metadata": {},
          "execution_count": 49
        }
      ]
    },
    {
      "cell_type": "markdown",
      "source": [
        "## 세트가 겹치지 않는지 확인하기"
      ],
      "metadata": {
        "id": "oIsS0Wl-x35F"
      }
    },
    {
      "cell_type": "code",
      "source": [
        "# disjoint는 현재 세트가 다른 세트와 겹치지 않는지 확인함\n",
        "# 겹치는 요소가 없으면 True, 있으면 False 임\n",
        "\n",
        "# 현재세트.isdisjoint(다른세트)\n",
        "\n",
        "a = {1, 2, 3, 4}\n",
        "a.isdisjoint({5, 6, 7, 8}) # 겹치는 요소 x"
      ],
      "metadata": {
        "colab": {
          "base_uri": "https://localhost:8080/"
        },
        "id": "RycrjtmHx29S",
        "outputId": "1ab94cb2-fab8-4a23-e082-c73a8538d38d"
      },
      "execution_count": null,
      "outputs": [
        {
          "output_type": "execute_result",
          "data": {
            "text/plain": [
              "True"
            ]
          },
          "metadata": {},
          "execution_count": 51
        }
      ]
    },
    {
      "cell_type": "code",
      "source": [
        "a.isdisjoint({3, 4, 5, 6}) # a와 3, 4가 겹침"
      ],
      "metadata": {
        "colab": {
          "base_uri": "https://localhost:8080/"
        },
        "id": "JTuK7SLiyWne",
        "outputId": "6814c899-05f6-4195-92e3-7ceef96fb5ee"
      },
      "execution_count": null,
      "outputs": [
        {
          "output_type": "execute_result",
          "data": {
            "text/plain": [
              "False"
            ]
          },
          "metadata": {},
          "execution_count": 52
        }
      ]
    },
    {
      "cell_type": "markdown",
      "source": [
        "## 세트 조작하기"
      ],
      "metadata": {
        "id": "ddCSqSG9yapQ"
      }
    },
    {
      "cell_type": "markdown",
      "source": [
        "## 세트에 요소를 추가하기"
      ],
      "metadata": {
        "id": "YR3Vf0TZyddV"
      }
    },
    {
      "cell_type": "code",
      "source": [
        "# add(요소)는 세트에 요소를 추가함\n",
        "\n",
        "a = {1, 2, 3, 4}\n",
        "a.add(5)\n",
        "a"
      ],
      "metadata": {
        "colab": {
          "base_uri": "https://localhost:8080/"
        },
        "id": "sXTF1PdOyZSQ",
        "outputId": "0a32d5b3-19ca-4a33-e47c-e708aad88c2c"
      },
      "execution_count": null,
      "outputs": [
        {
          "output_type": "execute_result",
          "data": {
            "text/plain": [
              "{1, 2, 3, 4, 5}"
            ]
          },
          "metadata": {},
          "execution_count": 53
        }
      ]
    },
    {
      "cell_type": "markdown",
      "source": [
        "## 세트에서 특정 요소를 삭제하기"
      ],
      "metadata": {
        "id": "q1ivFOg3ynZV"
      }
    },
    {
      "cell_type": "code",
      "source": [
        "# remove(요소)는 세트에서 특정 요소를 삭제하고 요소가 없으면 에러를 발생시킴\n",
        "\n",
        "a.remove(3)\n",
        "a"
      ],
      "metadata": {
        "colab": {
          "base_uri": "https://localhost:8080/"
        },
        "id": "2DJCuOf-ymMx",
        "outputId": "648b9b45-85ae-44f4-effc-d876aca8e95a"
      },
      "execution_count": null,
      "outputs": [
        {
          "output_type": "execute_result",
          "data": {
            "text/plain": [
              "{1, 2, 4, 5}"
            ]
          },
          "metadata": {},
          "execution_count": 54
        }
      ]
    },
    {
      "cell_type": "code",
      "source": [
        "# discard(요소)는 세트에서 특정 요소를 삭제하고 요소가 없으면 그냥 넘어감\n",
        "\n",
        "a.discard(2)\n",
        "a"
      ],
      "metadata": {
        "colab": {
          "base_uri": "https://localhost:8080/"
        },
        "id": "4nsUpBehyxjM",
        "outputId": "3403b394-b9ea-49c9-deeb-e2058bfe5ed6"
      },
      "execution_count": null,
      "outputs": [
        {
          "output_type": "execute_result",
          "data": {
            "text/plain": [
              "{1, 4, 5}"
            ]
          },
          "metadata": {},
          "execution_count": 55
        }
      ]
    },
    {
      "cell_type": "code",
      "source": [
        "a.discard(3)\n",
        "a"
      ],
      "metadata": {
        "colab": {
          "base_uri": "https://localhost:8080/"
        },
        "id": "IaouGPkey650",
        "outputId": "a4e0367f-8dfa-46d3-b4b6-2671e250aaf1"
      },
      "execution_count": null,
      "outputs": [
        {
          "output_type": "execute_result",
          "data": {
            "text/plain": [
              "{1, 4, 5}"
            ]
          },
          "metadata": {},
          "execution_count": 57
        }
      ]
    },
    {
      "cell_type": "markdown",
      "source": [
        "## 세트에서 임의의 요소를 삭제하기"
      ],
      "metadata": {
        "id": "fIWKKmzMy_TZ"
      }
    },
    {
      "cell_type": "code",
      "source": [
        "# pop()은 세트에서 임의의 요소를 삭제하고 해당 요소를 반환함\n",
        "# 만약 요소가 없으면 에러를 발생시킴\n",
        "\n",
        "a = {1, 2, 3, 4}\n",
        "a.pop()"
      ],
      "metadata": {
        "colab": {
          "base_uri": "https://localhost:8080/"
        },
        "id": "rRXCi7yFy8MQ",
        "outputId": "46c2b2ed-41f9-4291-9c24-da9383e8a099"
      },
      "execution_count": null,
      "outputs": [
        {
          "output_type": "execute_result",
          "data": {
            "text/plain": [
              "1"
            ]
          },
          "metadata": {},
          "execution_count": 58
        }
      ]
    },
    {
      "cell_type": "code",
      "source": [
        "a"
      ],
      "metadata": {
        "colab": {
          "base_uri": "https://localhost:8080/"
        },
        "id": "uoaHh6NFzPqo",
        "outputId": "bb65cb03-630c-4333-c1a9-7a6c1e66ee23"
      },
      "execution_count": null,
      "outputs": [
        {
          "output_type": "execute_result",
          "data": {
            "text/plain": [
              "{2, 3, 4}"
            ]
          },
          "metadata": {},
          "execution_count": 59
        }
      ]
    },
    {
      "cell_type": "markdown",
      "source": [
        "## 세트의 모든 요소를 삭제하기"
      ],
      "metadata": {
        "id": "VbPVvp6GzQ6i"
      }
    },
    {
      "cell_type": "code",
      "source": [
        "# clear()는 세트에서 모든 요소를 삭제시킴\n",
        "\n",
        "a.clear()\n",
        "a"
      ],
      "metadata": {
        "colab": {
          "base_uri": "https://localhost:8080/"
        },
        "id": "wUE2MV92zP6w",
        "outputId": "689e0e77-ef25-40a7-a0d5-bfd842635cbb"
      },
      "execution_count": null,
      "outputs": [
        {
          "output_type": "execute_result",
          "data": {
            "text/plain": [
              "set()"
            ]
          },
          "metadata": {},
          "execution_count": 60
        }
      ]
    },
    {
      "cell_type": "markdown",
      "source": [
        "## 세트의 요소 개수 구하기"
      ],
      "metadata": {
        "id": "wgLW5Io6zbwj"
      }
    },
    {
      "cell_type": "code",
      "source": [
        "# len() 세트는 세트의 요소 개수(길이)를 구함\n",
        "\n",
        "a = {1, 2, 3, 4}\n",
        "len(a)"
      ],
      "metadata": {
        "colab": {
          "base_uri": "https://localhost:8080/"
        },
        "id": "RGYs2mzMzZyt",
        "outputId": "2d77a047-aa97-42fb-fd46-8b3ee3f54bb1"
      },
      "execution_count": null,
      "outputs": [
        {
          "output_type": "execute_result",
          "data": {
            "text/plain": [
              "4"
            ]
          },
          "metadata": {},
          "execution_count": 61
        }
      ]
    },
    {
      "cell_type": "markdown",
      "source": [
        "## 세트의 할당과 복사"
      ],
      "metadata": {
        "id": "N37m0EjBzsKF"
      }
    },
    {
      "cell_type": "code",
      "source": [
        "# 세트도 리스트, 딕셔너리 처럼 할당과 복사의 차이점이 있음\n",
        "\n",
        "a = {1, 2, 3, 4}\n",
        "b = a"
      ],
      "metadata": {
        "id": "SJiLLf48zp69"
      },
      "execution_count": null,
      "outputs": []
    },
    {
      "cell_type": "code",
      "source": [
        "# b = a를 서로 비교하면 실제로는 세트가 1개임\n",
        "# 변수이름만 다를 뿐 a와 b는 같은 객체\n",
        "\n",
        "a is b"
      ],
      "metadata": {
        "colab": {
          "base_uri": "https://localhost:8080/"
        },
        "id": "Pm3sUe13z6Om",
        "outputId": "0d744dd3-bb57-402b-ffcf-48cd9254d627"
      },
      "execution_count": null,
      "outputs": [
        {
          "output_type": "execute_result",
          "data": {
            "text/plain": [
              "True"
            ]
          },
          "metadata": {},
          "execution_count": 63
        }
      ]
    },
    {
      "cell_type": "code",
      "source": [
        "# a와 b는 같으므로 b에 요소를 추가하면 세트 a와 b에 모두 반영됨\n",
        "\n",
        "b.add(5)\n",
        "a"
      ],
      "metadata": {
        "colab": {
          "base_uri": "https://localhost:8080/"
        },
        "id": "eYKpetnE0G2X",
        "outputId": "e62ff167-0e9b-49a8-cd02-380eaf441bf8"
      },
      "execution_count": null,
      "outputs": [
        {
          "output_type": "execute_result",
          "data": {
            "text/plain": [
              "{1, 2, 3, 4, 5}"
            ]
          },
          "metadata": {},
          "execution_count": 64
        }
      ]
    },
    {
      "cell_type": "code",
      "source": [
        "b"
      ],
      "metadata": {
        "colab": {
          "base_uri": "https://localhost:8080/"
        },
        "id": "KpTSL2fP0RBX",
        "outputId": "82cc55c7-042b-4289-b174-c8efb8108f07"
      },
      "execution_count": null,
      "outputs": [
        {
          "output_type": "execute_result",
          "data": {
            "text/plain": [
              "{1, 2, 3, 4, 5}"
            ]
          },
          "metadata": {},
          "execution_count": 65
        }
      ]
    },
    {
      "cell_type": "code",
      "source": [
        "# 세트 a와 b를 완전히 두 개로 만들려면 copy 메서드로 모든 요소를 복사해야 함\n",
        "\n",
        "a = {1, 2, 3, 4}\n",
        "b = a.copy()"
      ],
      "metadata": {
        "id": "cqyyvXVT0Rw7"
      },
      "execution_count": null,
      "outputs": []
    },
    {
      "cell_type": "code",
      "source": [
        "# 두 세트의 객체는 다른 객체\n",
        "# 복사한 요소는 같기 때문에 ==로 비교하면 True가 나옴\n",
        "\n",
        "a is b"
      ],
      "metadata": {
        "colab": {
          "base_uri": "https://localhost:8080/"
        },
        "id": "XE9Lof_70exN",
        "outputId": "1f3a17de-9870-4482-d666-85364feb4642"
      },
      "execution_count": null,
      "outputs": [
        {
          "output_type": "execute_result",
          "data": {
            "text/plain": [
              "False"
            ]
          },
          "metadata": {},
          "execution_count": 67
        }
      ]
    },
    {
      "cell_type": "code",
      "source": [
        "a == b"
      ],
      "metadata": {
        "colab": {
          "base_uri": "https://localhost:8080/"
        },
        "id": "F_3oWmlJ0r21",
        "outputId": "5444d992-f99e-4ab7-f2dc-9dd750fe5d69"
      },
      "execution_count": null,
      "outputs": [
        {
          "output_type": "execute_result",
          "data": {
            "text/plain": [
              "True"
            ]
          },
          "metadata": {},
          "execution_count": 68
        }
      ]
    },
    {
      "cell_type": "code",
      "source": [
        "# 세트 a와 b는 별개이므로 한쪽의 값을 변경해도 다른 세트에 영향을 미치지 x\n",
        "\n",
        "a = {1, 2, 3, 4}\n",
        "b = a.copy()\n",
        "b.add(5)\n",
        "a"
      ],
      "metadata": {
        "colab": {
          "base_uri": "https://localhost:8080/"
        },
        "id": "QYoOzT570sZ8",
        "outputId": "85b47458-917d-4893-8bc8-bcde481e9cf4"
      },
      "execution_count": null,
      "outputs": [
        {
          "output_type": "execute_result",
          "data": {
            "text/plain": [
              "{1, 2, 3, 4}"
            ]
          },
          "metadata": {},
          "execution_count": 69
        }
      ]
    },
    {
      "cell_type": "code",
      "source": [
        "b"
      ],
      "metadata": {
        "colab": {
          "base_uri": "https://localhost:8080/"
        },
        "id": "I7k1KrYd04pI",
        "outputId": "2fdee657-c185-4b48-9993-c780f2123310"
      },
      "execution_count": null,
      "outputs": [
        {
          "output_type": "execute_result",
          "data": {
            "text/plain": [
              "{1, 2, 3, 4, 5}"
            ]
          },
          "metadata": {},
          "execution_count": 70
        }
      ]
    },
    {
      "cell_type": "markdown",
      "source": [
        "## 반복문으로 세트와 요소를 모두 출력하기"
      ],
      "metadata": {
        "id": "ZpG-MThA06M1"
      }
    },
    {
      "cell_type": "code",
      "source": [
        "# for로 세트 a의 요소를 출력\n",
        "# 세트의 요소는 순서가 x, 출력할 때마다 순서가 달라짐(숫자로만 이루어진 세트는 순서대로 출력됨)\n",
        "\n",
        "a = {1, 2, 3, 4}\n",
        "for i in a:   # 세트 a에서 요소를 꺼내서 i에 저장 및 꺼낼 때 마다 코드 반복\n",
        "    print(i) # print로 출력하면 요소 모두 출력"
      ],
      "metadata": {
        "colab": {
          "base_uri": "https://localhost:8080/"
        },
        "id": "hp1qqoHO05D5",
        "outputId": "426e7147-0407-4975-ddf4-251f59ff8a15"
      },
      "execution_count": null,
      "outputs": [
        {
          "output_type": "stream",
          "name": "stdout",
          "text": [
            "1\n",
            "2\n",
            "3\n",
            "4\n"
          ]
        }
      ]
    },
    {
      "cell_type": "code",
      "source": [
        "# in 다음에 세트를 직접 지정해도 상관 x\n",
        "\n",
        "for i in {1, 2, 3, 4}:\n",
        "    print(i)"
      ],
      "metadata": {
        "colab": {
          "base_uri": "https://localhost:8080/"
        },
        "id": "E8BYgb_o1Hso",
        "outputId": "c12ab4c6-3b1c-48c8-d294-dfc21cabf597"
      },
      "execution_count": null,
      "outputs": [
        {
          "output_type": "stream",
          "name": "stdout",
          "text": [
            "1\n",
            "2\n",
            "3\n",
            "4\n"
          ]
        }
      ]
    },
    {
      "cell_type": "markdown",
      "source": [
        "## 세트 표현식 사용하기"
      ],
      "metadata": {
        "id": "2JYNIp511u1Z"
      }
    },
    {
      "cell_type": "code",
      "source": [
        "# {식 for 변수 in 반복가능한객체}\n",
        "# set(식 for 변수 in 반복가능한객체)\n",
        "\n",
        "# {} 또는 set() 안에 식, for, 변수 in, 반복 가능한 객체를 지정하여 세트를 생성\n",
        "a = {i for i in 'apple'}\n",
        "a"
      ],
      "metadata": {
        "colab": {
          "base_uri": "https://localhost:8080/"
        },
        "id": "FPToI5cK1uHa",
        "outputId": "ed5e3e65-6574-471d-da80-bb3eada61fd2"
      },
      "execution_count": null,
      "outputs": [
        {
          "output_type": "execute_result",
          "data": {
            "text/plain": [
              "{'a', 'e', 'l', 'p'}"
            ]
          },
          "metadata": {},
          "execution_count": 73
        }
      ]
    },
    {
      "cell_type": "markdown",
      "source": [
        "## 세트 표현식에 if 조건문 사용하기"
      ],
      "metadata": {
        "id": "YAuYTtAS2SRt"
      }
    },
    {
      "cell_type": "code",
      "source": [
        "# {식 for 변수 in 세트 if 조건식}\n",
        "# set(식 for 변수 in 세트 if 조건식)\n",
        "\n",
        "a = {i for i in 'pineapple' if i not in 'apl'} # 문자를 하나씩 비교하고 and로 연결하는 if 조건문과 같음\n",
        "a"
      ],
      "metadata": {
        "colab": {
          "base_uri": "https://localhost:8080/"
        },
        "id": "6Otw9I7_2Am-",
        "outputId": "363a7c59-c166-44eb-ce13-fe7b51f57f0c"
      },
      "execution_count": null,
      "outputs": [
        {
          "output_type": "execute_result",
          "data": {
            "text/plain": [
              "{'e', 'i', 'n'}"
            ]
          },
          "metadata": {},
          "execution_count": 76
        }
      ]
    },
    {
      "cell_type": "markdown",
      "source": [
        "## 퀴즈"
      ],
      "metadata": {
        "id": "XDAaXR-V29lC"
      }
    },
    {
      "cell_type": "code",
      "source": [
        "# 다음 중 세트를 만드는 방법으로 올바르지 않은 것을 고르세요\n",
        "\n",
        "# 답: b"
      ],
      "metadata": {
        "id": "EOownBdU2kTd"
      },
      "execution_count": null,
      "outputs": []
    },
    {
      "cell_type": "code",
      "source": [
        "#  세트 a = {1, 2, 3} 그리고 b = {3, 4, 5}가 있을 때 집합 연산의 결과로 잘못된 것을 모두 고르시오\n",
        "\n",
        "# 답 : b, e"
      ],
      "metadata": {
        "id": "ZekQmjG63NTr"
      },
      "execution_count": null,
      "outputs": []
    },
    {
      "cell_type": "code",
      "source": [
        "# 다음 중 부분집합, 상위집합에 대한 설명으로 잘못된 것을 모두 고르세요\n",
        "\n",
        "# 답 : b, d"
      ],
      "metadata": {
        "id": "07yni8df3ik2"
      },
      "execution_count": null,
      "outputs": []
    },
    {
      "cell_type": "code",
      "source": [
        "# 다음 중 세트 메서드에 대한 설명으로 올바른 것을 모두 고르시오\n",
        "\n",
        "# 답 : a, b, c"
      ],
      "metadata": {
        "id": "dEiZhZTR4A7W"
      },
      "execution_count": null,
      "outputs": []
    },
    {
      "cell_type": "code",
      "source": [
        "# 다음 중 메서드와 연산자의 기능이 잘못 짝 지어진 것을 고르시오\n",
        "\n",
        "# 답 : c, d"
      ],
      "metadata": {
        "id": "Vj3Iymv14T5u"
      },
      "execution_count": null,
      "outputs": []
    },
    {
      "cell_type": "code",
      "source": [
        "# 다음 중 세트 {0, 1, 3, 4, 5, 6, 8, 9}를 만드는 방법으로 올바른 것을 고르시오\n",
        "\n",
        "# 답 : a"
      ],
      "metadata": {
        "id": "Yn8rGANj4faM"
      },
      "execution_count": null,
      "outputs": []
    },
    {
      "cell_type": "markdown",
      "source": [
        "## 심사문제 : 공배수 구하기"
      ],
      "metadata": {
        "id": "GK6H8nhf4w2p"
      }
    },
    {
      "cell_type": "code",
      "source": [
        "a = {i for i in range(1, 101) if i % 3 == 0}\n",
        "b = {i for i in range(1, 101) if i % 5 == 0}\n",
        "\n",
        "print(a & b)"
      ],
      "metadata": {
        "colab": {
          "base_uri": "https://localhost:8080/"
        },
        "id": "vJYksBz94ziT",
        "outputId": "0f4e7400-412b-4408-b216-8f6e0a6d36e8"
      },
      "execution_count": null,
      "outputs": [
        {
          "output_type": "stream",
          "name": "stdout",
          "text": [
            "{75, 45, 15, 90, 60, 30}\n"
          ]
        }
      ]
    },
    {
      "cell_type": "code",
      "source": [
        "i"
      ],
      "metadata": {
        "id": "p-9Kra5zCRQA",
        "outputId": "2e3106c8-ca46-4e9d-ff29-2f2cc64dcc79",
        "colab": {
          "base_uri": "https://localhost:8080/"
        }
      },
      "execution_count": null,
      "outputs": [
        {
          "output_type": "execute_result",
          "data": {
            "text/plain": [
              "4"
            ]
          },
          "metadata": {},
          "execution_count": 88
        }
      ]
    },
    {
      "cell_type": "markdown",
      "source": [
        "## 심사문제 : 공약수 구하기"
      ],
      "metadata": {
        "id": "ClOALC5a5KbX"
      }
    },
    {
      "cell_type": "code",
      "source": [
        "a, b = map(int, input().split())\n",
        "\n",
        "a_set = {i for i in range(1, a + 1) if (a % i == 0)}\n",
        "b_set = {i for i in range(1, a + 1) if (b % i == 0)}\n",
        "\n",
        "divisor = a_set & b_set\n",
        "\n",
        "result = 0\n",
        "if type(divisor) == set:\n",
        "    result = sum(divisor)\n",
        "\n",
        "print(result)"
      ],
      "metadata": {
        "colab": {
          "base_uri": "https://localhost:8080/"
        },
        "id": "FiTqjKJj5IeD",
        "outputId": "dc88915b-cee2-434c-e5b3-482f2b16a989"
      },
      "execution_count": null,
      "outputs": [
        {
          "output_type": "stream",
          "name": "stdout",
          "text": [
            "10 20\n",
            "18\n"
          ]
        }
      ]
    },
    {
      "cell_type": "code",
      "source": [],
      "metadata": {
        "id": "Tlc7KtMu1aHO"
      },
      "execution_count": null,
      "outputs": []
    }
  ]
}