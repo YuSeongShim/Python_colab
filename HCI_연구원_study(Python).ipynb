{
  "nbformat": 4,
  "nbformat_minor": 0,
  "metadata": {
    "colab": {
      "provenance": [],
      "authorship_tag": "ABX9TyOyyT/si9as2lD6dqHv704p",
      "include_colab_link": true
    },
    "kernelspec": {
      "name": "python3",
      "display_name": "Python 3"
    },
    "language_info": {
      "name": "python"
    }
  },
  "cells": [
    {
      "cell_type": "markdown",
      "metadata": {
        "id": "view-in-github",
        "colab_type": "text"
      },
      "source": [
        "<a href=\"https://colab.research.google.com/github/YuSeongShim/Python_colab/blob/main/HCI_%EC%97%B0%EA%B5%AC%EC%9B%90_study(Python).ipynb\" target=\"_parent\"><img src=\"https://colab.research.google.com/assets/colab-badge.svg\" alt=\"Open In Colab\"/></a>"
      ]
    },
    {
      "cell_type": "markdown",
      "source": [
        "## 5월 26일 (월)"
      ],
      "metadata": {
        "id": "9wlD3jtA5ZIo"
      }
    },
    {
      "cell_type": "markdown",
      "source": [
        "## 2-1. 기본 코드 실습"
      ],
      "metadata": {
        "id": "INBszWT55edY"
      }
    },
    {
      "cell_type": "code",
      "execution_count": null,
      "metadata": {
        "colab": {
          "base_uri": "https://localhost:8080/"
        },
        "id": "5lIQUy1j5N6B",
        "outputId": "cdc64908-9190-45a8-cdfa-2b30be38cfa2"
      },
      "outputs": [
        {
          "output_type": "stream",
          "name": "stdout",
          "text": [
            "당신의 이름은? 심유성\n",
            "안녕하세요, 심유성 님!\n"
          ]
        }
      ],
      "source": [
        "name = input('당신의 이름은? ')\n",
        "print(\"안녕하세요,\", name, \"님!\")"
      ]
    },
    {
      "cell_type": "markdown",
      "source": [
        "## 2-2. 확장 실습"
      ],
      "metadata": {
        "id": "nC5D8L6q5tvH"
      }
    },
    {
      "cell_type": "code",
      "source": [
        "language = input('당신이 가장 좋아하는 언어는? ')\n",
        "print(name, \"은\", language,'을 좋아합니다.')"
      ],
      "metadata": {
        "colab": {
          "base_uri": "https://localhost:8080/"
        },
        "id": "J4EPdJh45psZ",
        "outputId": "d1805ee0-dfbb-426f-8de1-73b6006d28d8"
      },
      "execution_count": null,
      "outputs": [
        {
          "output_type": "stream",
          "name": "stdout",
          "text": [
            "당신이 가장 좋아하는 언어는? Python\n",
            "심유성 은 Python 을 좋아합니다.\n"
          ]
        }
      ]
    },
    {
      "cell_type": "markdown",
      "source": [
        "## 5월 27일(화)"
      ],
      "metadata": {
        "id": "xcW3PiT6H0nY"
      }
    },
    {
      "cell_type": "markdown",
      "source": [
        "## 2-1. 기본 리스트 실습"
      ],
      "metadata": {
        "id": "Uy1QXHq_H24O"
      }
    },
    {
      "cell_type": "code",
      "source": [
        "companys = [\"Apple\", \"Google\", \"Amazon\"]\n",
        "for company in companys:\n",
        "    print(\"내가 가장 좋아하는 회사는\", company)"
      ],
      "metadata": {
        "id": "mGdNSAel6MlR",
        "colab": {
          "base_uri": "https://localhost:8080/"
        },
        "outputId": "a9f9c125-ab2f-4de3-de3c-aa13ca386451"
      },
      "execution_count": 4,
      "outputs": [
        {
          "output_type": "stream",
          "name": "stdout",
          "text": [
            "내가 가장 좋아하는 회사는 Apple\n",
            "내가 가장 좋아하는 회사는 Google\n",
            "내가 가장 좋아하는 회사는 Amazon\n"
          ]
        }
      ]
    },
    {
      "cell_type": "code",
      "source": [
        "if \"Apple\" in companys:\n",
        "    print(\"Apple이 리스트에 있어요!\")"
      ],
      "metadata": {
        "colab": {
          "base_uri": "https://localhost:8080/"
        },
        "id": "fH8PVHiAIWjR",
        "outputId": "6f7bf8f4-ce94-4056-8e2c-675358572efa"
      },
      "execution_count": 5,
      "outputs": [
        {
          "output_type": "stream",
          "name": "stdout",
          "text": [
            "Apple이 리스트에 있어요!\n"
          ]
        }
      ]
    },
    {
      "cell_type": "markdown",
      "source": [
        "## 2-2. 응용문제"
      ],
      "metadata": {
        "id": "T72i9-XjIr1b"
      }
    },
    {
      "cell_type": "code",
      "source": [
        "nums = []\n",
        "\n",
        "for i in range(5):\n",
        "    n = int(input(\"숫자 입력: \"))\n",
        "    nums.append(n)\n",
        "\n",
        "for n in nums:\n",
        "    if n % 2 == 0:\n",
        "        print(n, \"은 짝수입니다.\")"
      ],
      "metadata": {
        "colab": {
          "base_uri": "https://localhost:8080/"
        },
        "id": "VBD3H2SwIpwy",
        "outputId": "c771750e-271c-4720-9638-e08443e50990"
      },
      "execution_count": 8,
      "outputs": [
        {
          "output_type": "stream",
          "name": "stdout",
          "text": [
            "숫자 입력: 1\n",
            "숫자 입력: 2\n",
            "숫자 입력: 3\n",
            "숫자 입력: 4\n",
            "숫자 입력: 5\n",
            "2 은 짝수입니다.\n",
            "4 은 짝수입니다.\n"
          ]
        }
      ]
    },
    {
      "cell_type": "code",
      "source": [],
      "metadata": {
        "id": "Yv0B0eMNI_Li"
      },
      "execution_count": null,
      "outputs": []
    }
  ]
}