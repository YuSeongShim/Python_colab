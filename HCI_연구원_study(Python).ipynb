{
  "nbformat": 4,
  "nbformat_minor": 0,
  "metadata": {
    "colab": {
      "provenance": [],
      "authorship_tag": "ABX9TyOME7XpWeQpw6qiOmslKzdB",
      "include_colab_link": true
    },
    "kernelspec": {
      "name": "python3",
      "display_name": "Python 3"
    },
    "language_info": {
      "name": "python"
    }
  },
  "cells": [
    {
      "cell_type": "markdown",
      "metadata": {
        "id": "view-in-github",
        "colab_type": "text"
      },
      "source": [
        "<a href=\"https://colab.research.google.com/github/YuSeongShim/Python_colab/blob/main/HCI_%EC%97%B0%EA%B5%AC%EC%9B%90_study(Python).ipynb\" target=\"_parent\"><img src=\"https://colab.research.google.com/assets/colab-badge.svg\" alt=\"Open In Colab\"/></a>"
      ]
    },
    {
      "cell_type": "markdown",
      "source": [
        "## 5월 26일 (월)"
      ],
      "metadata": {
        "id": "9wlD3jtA5ZIo"
      }
    },
    {
      "cell_type": "markdown",
      "source": [
        "## 2-1. 기본 코드 실습"
      ],
      "metadata": {
        "id": "INBszWT55edY"
      }
    },
    {
      "cell_type": "code",
      "execution_count": 1,
      "metadata": {
        "colab": {
          "base_uri": "https://localhost:8080/"
        },
        "id": "5lIQUy1j5N6B",
        "outputId": "cdc64908-9190-45a8-cdfa-2b30be38cfa2"
      },
      "outputs": [
        {
          "output_type": "stream",
          "name": "stdout",
          "text": [
            "당신의 이름은? 심유성\n",
            "안녕하세요, 심유성 님!\n"
          ]
        }
      ],
      "source": [
        "name = input('당신의 이름은? ')\n",
        "print(\"안녕하세요,\", name, \"님!\")"
      ]
    },
    {
      "cell_type": "markdown",
      "source": [
        "## 2-2. 확장 실습"
      ],
      "metadata": {
        "id": "nC5D8L6q5tvH"
      }
    },
    {
      "cell_type": "code",
      "source": [
        "language = input('당신이 가장 좋아하는 언어는? ')\n",
        "print(name, \"은\", language,'을 좋아합니다.')"
      ],
      "metadata": {
        "colab": {
          "base_uri": "https://localhost:8080/"
        },
        "id": "J4EPdJh45psZ",
        "outputId": "d1805ee0-dfbb-426f-8de1-73b6006d28d8"
      },
      "execution_count": 3,
      "outputs": [
        {
          "output_type": "stream",
          "name": "stdout",
          "text": [
            "당신이 가장 좋아하는 언어는? Python\n",
            "심유성 은 Python 을 좋아합니다.\n"
          ]
        }
      ]
    },
    {
      "cell_type": "code",
      "source": [],
      "metadata": {
        "id": "mGdNSAel6MlR"
      },
      "execution_count": null,
      "outputs": []
    }
  ]
}