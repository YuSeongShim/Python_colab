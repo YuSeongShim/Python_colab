{
  "nbformat": 4,
  "nbformat_minor": 0,
  "metadata": {
    "colab": {
      "provenance": [],
      "authorship_tag": "ABX9TyO+i7N+/lgV7SNpQTC6W9UA",
      "include_colab_link": true
    },
    "kernelspec": {
      "name": "python3",
      "display_name": "Python 3"
    },
    "language_info": {
      "name": "python"
    }
  },
  "cells": [
    {
      "cell_type": "markdown",
      "metadata": {
        "id": "view-in-github",
        "colab_type": "text"
      },
      "source": [
        "<a href=\"https://colab.research.google.com/github/YuSeongShim/Python_colab/blob/main/HCI_%EC%97%B0%EA%B5%AC%EC%9B%90_study(Python).ipynb\" target=\"_parent\"><img src=\"https://colab.research.google.com/assets/colab-badge.svg\" alt=\"Open In Colab\"/></a>"
      ]
    },
    {
      "cell_type": "markdown",
      "source": [
        "## 7월 23일 (수)"
      ],
      "metadata": {
        "id": "9wlD3jtA5ZIo"
      }
    },
    {
      "cell_type": "code",
      "source": [
        "# 숫자형, 문자열 변수 선언\n",
        "\n",
        "age = 25\n",
        "name = \"홍길동\"\n",
        "height = 174.2\n",
        "print(age, type(age))\n",
        "print(name, type(name))\n",
        "print(height, type(height))"
      ],
      "metadata": {
        "colab": {
          "base_uri": "https://localhost:8080/"
        },
        "id": "Ffd0TqY9yXsI",
        "outputId": "5cc4d7ce-e1cd-4b51-f979-c5270b7847b3"
      },
      "execution_count": null,
      "outputs": [
        {
          "output_type": "stream",
          "name": "stdout",
          "text": [
            "25 <class 'int'>\n",
            "홍길동 <class 'str'>\n",
            "174.2 <class 'float'>\n"
          ]
        }
      ]
    },
    {
      "cell_type": "code",
      "source": [
        "# 사용자 입력값 받아서 활용해보기\n",
        "user_name = input(\"이름을 입력해주세요: \")\n",
        "print(\"안녕하세요,\",user_name)"
      ],
      "metadata": {
        "colab": {
          "base_uri": "https://localhost:8080/"
        },
        "id": "mdsnr0BPyeYP",
        "outputId": "2577b34c-656c-46f6-88ef-66acaa31b6e2"
      },
      "execution_count": null,
      "outputs": [
        {
          "output_type": "stream",
          "name": "stdout",
          "text": [
            "이름을 입력해주세요: 심유성\n",
            "안녕하세요, 심유성\n"
          ]
        }
      ]
    },
    {
      "cell_type": "code",
      "source": [
        "# 여러 데이터 다루기\n",
        "scores = [90, 85, 77, 100]\n",
        "print(\"첫번째 점수: \", scores[0])\n",
        "print(\"전체 평균: \", sum(scores)/len(scores))"
      ],
      "metadata": {
        "colab": {
          "base_uri": "https://localhost:8080/"
        },
        "id": "gzyP7bSiygoS",
        "outputId": "8e692b43-e1d0-4926-c0cd-7118d98fe09d"
      },
      "execution_count": null,
      "outputs": [
        {
          "output_type": "stream",
          "name": "stdout",
          "text": [
            "첫번째 점수:  90\n",
            "전체 평균:  88.0\n"
          ]
        }
      ]
    },
    {
      "cell_type": "code",
      "source": [
        "# 미션 1\n",
        "\n",
        "name = input(\"이름을 입력해 주세요: \")\n",
        "age = input(\"나이를 입력해 주세요: \")\n",
        "job = input(\"전공을 입력해 주세요: \")\n",
        "\n",
        "print(\"당신의 이름은\", name, \"이고 나이는\", age, \"이고 전공은\", job, \"입니다.\")\n"
      ],
      "metadata": {
        "colab": {
          "base_uri": "https://localhost:8080/"
        },
        "id": "-HlMSvzXylf1",
        "outputId": "19804536-4f73-4763-a5bb-662fedcd7eda"
      },
      "execution_count": null,
      "outputs": [
        {
          "output_type": "stream",
          "name": "stdout",
          "text": [
            "이름을 입력해 주세요: 심유성\n",
            "나이를 입력해 주세요: 23\n",
            "전공을 입력해 주세요: IT응용공학과\n",
            "당신의 이름은 심유성 이고 나이는 23 이고 전공은 IT응용공학과 입니다.\n"
          ]
        }
      ]
    },
    {
      "cell_type": "code",
      "source": [
        "# 미션 2\n",
        "# 숫자형 리스트에서 최대값, 최소값, 평균 구해보기\n",
        "\n",
        "num = [70, 89, 60, 80, 100]\n",
        "\n",
        "print(max(num))\n",
        "print(min(num))\n",
        "print(sum(num)/ 5)"
      ],
      "metadata": {
        "colab": {
          "base_uri": "https://localhost:8080/"
        },
        "id": "oPiN-c6aytmT",
        "outputId": "d8ee7306-921e-4655-96aa-f069347bc042"
      },
      "execution_count": null,
      "outputs": [
        {
          "output_type": "stream",
          "name": "stdout",
          "text": [
            "100\n",
            "60\n",
            "79.8\n"
          ]
        }
      ]
    },
    {
      "cell_type": "markdown",
      "source": [
        "## 7월 26일"
      ],
      "metadata": {
        "id": "uZYRUl4ZW9nX"
      }
    },
    {
      "cell_type": "code",
      "source": [
        "# 리스트 생성 및 기본 연산\n",
        "\n",
        "fruits = [\"apple\", \"banana\", \"cherry\"]\n",
        "print(\"과일 목록:\", fruits)\n",
        "print(\"첫 번째 과일:\", fruits[0])\n",
        "print(\"전체 과일 개수: \", len(fruits))"
      ],
      "metadata": {
        "id": "xIyQ-aOVzOVg",
        "colab": {
          "base_uri": "https://localhost:8080/"
        },
        "outputId": "38ac5016-6132-4541-bcfe-be228138cffe"
      },
      "execution_count": 1,
      "outputs": [
        {
          "output_type": "stream",
          "name": "stdout",
          "text": [
            "과일 목록: ['apple', 'banana', 'cherry']\n",
            "첫 번째 과일: apple\n",
            "전체 과일 개수:  3\n"
          ]
        }
      ]
    },
    {
      "cell_type": "code",
      "source": [
        "# 좋아하는 영화, 음악, 책 3-5개 리스트로 만들고, 하나씩 출력해보기\n",
        "\n",
        "likes = [\"tomorrow lend\", \"Mr.Moonlight\", \"android unexpected history\"]\n",
        "print(\"영화 제목:\", likes[0])\n",
        "print(\"제일 좋아하는 영화: \", likes[1])\n",
        "print(\"책: \", likes[2])"
      ],
      "metadata": {
        "colab": {
          "base_uri": "https://localhost:8080/"
        },
        "id": "SgWMF2OxXwd-",
        "outputId": "5e851572-21c5-4d20-e895-96aa540f4eb6"
      },
      "execution_count": 2,
      "outputs": [
        {
          "output_type": "stream",
          "name": "stdout",
          "text": [
            "영화 제목: tomorrow lend\n",
            "제일 좋아하는 영화:  Mr.Moonlight\n",
            "책:  android unexpected history\n"
          ]
        }
      ]
    },
    {
      "cell_type": "code",
      "source": [
        "# 반복문(for) 기초\n",
        "# 리스트 내 모든 원소 순회하며 출력\n",
        "\n",
        "for fruit in fruits:\n",
        "    print(\"맛있는: \", fruit)\n"
      ],
      "metadata": {
        "colab": {
          "base_uri": "https://localhost:8080/"
        },
        "id": "cc5BUsZHarQZ",
        "outputId": "71e41560-63c2-4f96-e388-cf74aaf969be"
      },
      "execution_count": 3,
      "outputs": [
        {
          "output_type": "stream",
          "name": "stdout",
          "text": [
            "맛있는:  apple\n",
            "맛있는:  banana\n",
            "맛있는:  cherry\n"
          ]
        }
      ]
    },
    {
      "cell_type": "code",
      "source": [
        "# 딕셔너리(Dictionary)\n",
        "# 딕셔너리 선언 및 사용\n",
        "\n",
        "# 딕셔너리 선언 및 사용\n",
        "user_info = {\"이름\": \"민수\", \"나이\": 22, \"전공\": \"IT응용공학\"}\n",
        "print(\"사용자 정보:\", user_info)\n",
        "print(\"이름:\", user_info[\"이름\"])\n",
        "print(\"전공:\", user_info.get(\"전공\"))\n"
      ],
      "metadata": {
        "id": "RLyjr414a33F"
      },
      "execution_count": null,
      "outputs": []
    },
    {
      "cell_type": "code",
      "source": [
        "# 간단 데이터 분석 실습\n",
        "\n",
        "scores = [82, 95, 77, 88, 100]\n",
        "print(\"최대 점수: \", max(scores))\n",
        "print(\"최소 점수: \", min(scores))\n",
        "print(\"평균 점수: \", sum(scores) / len(scores))"
      ],
      "metadata": {
        "colab": {
          "base_uri": "https://localhost:8080/"
        },
        "id": "Oh3WJKMcb7jL",
        "outputId": "a45139bf-ea50-4e31-9f59-e6d051d28eb7"
      },
      "execution_count": 4,
      "outputs": [
        {
          "output_type": "stream",
          "name": "stdout",
          "text": [
            "최대 점수:  100\n",
            "최소 점수:  77\n",
            "평균 점수:  88.4\n"
          ]
        }
      ]
    },
    {
      "cell_type": "code",
      "source": [
        "# 미션\n",
        "\n",
        "scores = [77, 87, 56, 67, 86, 97]\n",
        "print(\"최대 점수: \", max(scores))\n",
        "print(\"최소 점수: \", min(scores))\n",
        "print(\"평균 점수: \", sum(scores) / len(scores))"
      ],
      "metadata": {
        "colab": {
          "base_uri": "https://localhost:8080/"
        },
        "id": "Pzzw5-LIcZpU",
        "outputId": "16f3b737-c4ca-4b43-c160-fb9bed7759f0"
      },
      "execution_count": 5,
      "outputs": [
        {
          "output_type": "stream",
          "name": "stdout",
          "text": [
            "최대 점수:  97\n",
            "최소 점수:  56\n",
            "평균 점수:  78.33333333333333\n"
          ]
        }
      ]
    },
    {
      "cell_type": "code",
      "source": [
        "# 간단 미니 프로젝트\n",
        "\n",
        "friend1 = {\"이름\": \"우진\", \"나이\": 23, \"연락처\" : \"010-1234-5678\"}\n",
        "friend2 = {\"이름\": \"혜지\", \"나이\": 25, \"연락처\" : \"010-2345-6756\"}\n",
        "friend3 = {\"이름\": \"지연\", \"나이\": 24, \"연락처\" : \"010-3456-5678\"}\n",
        "friends = [friend1, friend2, friend3]\n",
        "for f in friends:\n",
        "    print(f[\"이름\"], f[\"나이\"], f[\"연락처\"])"
      ],
      "metadata": {
        "colab": {
          "base_uri": "https://localhost:8080/"
        },
        "id": "sqTD2Emcc7Ap",
        "outputId": "289e6a8c-b1b2-4713-b2da-da53053b45b3"
      },
      "execution_count": 7,
      "outputs": [
        {
          "output_type": "stream",
          "name": "stdout",
          "text": [
            "우진 23 010-1234-5678\n",
            "혜지 25 010-2345-6756\n",
            "지연 24 010-3456-5678\n"
          ]
        }
      ]
    },
    {
      "cell_type": "code",
      "source": [],
      "metadata": {
        "id": "VPG5a1QGeEau"
      },
      "execution_count": null,
      "outputs": []
    }
  ]
}