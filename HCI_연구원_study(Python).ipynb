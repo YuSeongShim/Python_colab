{
  "nbformat": 4,
  "nbformat_minor": 0,
  "metadata": {
    "colab": {
      "provenance": [],
      "authorship_tag": "ABX9TyNc6TOMqFcgQHBm1LMYeFcs",
      "include_colab_link": true
    },
    "kernelspec": {
      "name": "python3",
      "display_name": "Python 3"
    },
    "language_info": {
      "name": "python"
    }
  },
  "cells": [
    {
      "cell_type": "markdown",
      "metadata": {
        "id": "view-in-github",
        "colab_type": "text"
      },
      "source": [
        "<a href=\"https://colab.research.google.com/github/YuSeongShim/Python_colab/blob/main/HCI_%EC%97%B0%EA%B5%AC%EC%9B%90_study(Python).ipynb\" target=\"_parent\"><img src=\"https://colab.research.google.com/assets/colab-badge.svg\" alt=\"Open In Colab\"/></a>"
      ]
    },
    {
      "cell_type": "markdown",
      "source": [
        "## 7월 23일 (수)"
      ],
      "metadata": {
        "id": "9wlD3jtA5ZIo"
      }
    },
    {
      "cell_type": "code",
      "source": [
        "# 숫자형, 문자열 변수 선언\n",
        "\n",
        "age = 25\n",
        "name = \"홍길동\"\n",
        "height = 174.2\n",
        "print(age, type(age))\n",
        "print(name, type(name))\n",
        "print(height, type(height))"
      ],
      "metadata": {
        "colab": {
          "base_uri": "https://localhost:8080/"
        },
        "id": "Ffd0TqY9yXsI",
        "outputId": "5cc4d7ce-e1cd-4b51-f979-c5270b7847b3"
      },
      "execution_count": 4,
      "outputs": [
        {
          "output_type": "stream",
          "name": "stdout",
          "text": [
            "25 <class 'int'>\n",
            "홍길동 <class 'str'>\n",
            "174.2 <class 'float'>\n"
          ]
        }
      ]
    },
    {
      "cell_type": "code",
      "source": [
        "# 사용자 입력값 받아서 활용해보기\n",
        "user_name = input(\"이름을 입력해주세요: \")\n",
        "print(\"안녕하세요,\",user_name)"
      ],
      "metadata": {
        "colab": {
          "base_uri": "https://localhost:8080/"
        },
        "id": "mdsnr0BPyeYP",
        "outputId": "2577b34c-656c-46f6-88ef-66acaa31b6e2"
      },
      "execution_count": 5,
      "outputs": [
        {
          "output_type": "stream",
          "name": "stdout",
          "text": [
            "이름을 입력해주세요: 심유성\n",
            "안녕하세요, 심유성\n"
          ]
        }
      ]
    },
    {
      "cell_type": "code",
      "source": [
        "# 여러 데이터 다루기\n",
        "scores = [90, 85, 77, 100]\n",
        "print(\"첫번째 점수: \", scores[0])\n",
        "print(\"전체 평균: \", sum(scores)/len(scores))"
      ],
      "metadata": {
        "colab": {
          "base_uri": "https://localhost:8080/"
        },
        "id": "gzyP7bSiygoS",
        "outputId": "8e692b43-e1d0-4926-c0cd-7118d98fe09d"
      },
      "execution_count": 6,
      "outputs": [
        {
          "output_type": "stream",
          "name": "stdout",
          "text": [
            "첫번째 점수:  90\n",
            "전체 평균:  88.0\n"
          ]
        }
      ]
    },
    {
      "cell_type": "code",
      "source": [
        "# 미션 1\n",
        "\n",
        "name = input(\"이름을 입력해 주세요: \")\n",
        "age = input(\"나이를 입력해 주세요: \")\n",
        "job = input(\"전공을 입력해 주세요: \")\n",
        "\n",
        "print(\"당신의 이름은\", name, \"이고 나이는\", age, \"이고 전공은\", job, \"입니다.\")\n"
      ],
      "metadata": {
        "colab": {
          "base_uri": "https://localhost:8080/"
        },
        "id": "-HlMSvzXylf1",
        "outputId": "19804536-4f73-4763-a5bb-662fedcd7eda"
      },
      "execution_count": 7,
      "outputs": [
        {
          "output_type": "stream",
          "name": "stdout",
          "text": [
            "이름을 입력해 주세요: 심유성\n",
            "나이를 입력해 주세요: 23\n",
            "전공을 입력해 주세요: IT응용공학과\n",
            "당신의 이름은 심유성 이고 나이는 23 이고 전공은 IT응용공학과 입니다.\n"
          ]
        }
      ]
    },
    {
      "cell_type": "code",
      "source": [
        "# 미션 2\n",
        "# 숫자형 리스트에서 최대값, 최소값, 평균 구해보기\n",
        "\n",
        "num = [70, 89, 60, 80, 100]\n",
        "\n",
        "print(max(num))\n",
        "print(min(num))\n",
        "print(sum(num)/ 5)"
      ],
      "metadata": {
        "colab": {
          "base_uri": "https://localhost:8080/"
        },
        "id": "oPiN-c6aytmT",
        "outputId": "d8ee7306-921e-4655-96aa-f069347bc042"
      },
      "execution_count": 2,
      "outputs": [
        {
          "output_type": "stream",
          "name": "stdout",
          "text": [
            "100\n",
            "60\n",
            "79.8\n"
          ]
        }
      ]
    },
    {
      "cell_type": "code",
      "source": [],
      "metadata": {
        "id": "xIyQ-aOVzOVg"
      },
      "execution_count": null,
      "outputs": []
    }
  ]
}