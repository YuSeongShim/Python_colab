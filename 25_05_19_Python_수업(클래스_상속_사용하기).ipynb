{
  "nbformat": 4,
  "nbformat_minor": 0,
  "metadata": {
    "colab": {
      "provenance": [],
      "authorship_tag": "ABX9TyNSh5Yzixm+8sGZfRCid6t2",
      "include_colab_link": true
    },
    "kernelspec": {
      "name": "python3",
      "display_name": "Python 3"
    },
    "language_info": {
      "name": "python"
    }
  },
  "cells": [
    {
      "cell_type": "markdown",
      "metadata": {
        "id": "view-in-github",
        "colab_type": "text"
      },
      "source": [
        "<a href=\"https://colab.research.google.com/github/YuSeongShim/Python_colab/blob/main/25_05_19_Python_%EC%88%98%EC%97%85(%ED%81%B4%EB%9E%98%EC%8A%A4_%EC%83%81%EC%86%8D_%EC%82%AC%EC%9A%A9%ED%95%98%EA%B8%B0).ipynb\" target=\"_parent\"><img src=\"https://colab.research.google.com/assets/colab-badge.svg\" alt=\"Open In Colab\"/></a>"
      ]
    },
    {
      "cell_type": "code",
      "execution_count": null,
      "metadata": {
        "id": "HdFOORYJNsos"
      },
      "outputs": [],
      "source": [
        "# 클래스 상속 = 무언가를 물려받는다는 뜻, 물려받는 기능을 유지 한 채로 다른 기능을 추가할 때 사용하는 기능\n",
        "# 기반 클래스 = 기능을 물려주는 클래스, 부모, 슈퍼 클래스\n",
        "# 파생 클래스 = 상속을 받아 새롭게 만드는 클래스, 자식, 서브 클래스"
      ]
    },
    {
      "cell_type": "markdown",
      "source": [
        "## 사람 클래스로 학생 클래스 만들기"
      ],
      "metadata": {
        "id": "rB0Ubl0ETiPo"
      }
    },
    {
      "cell_type": "code",
      "source": [
        "# 다음과 같이 클래스를 만들 때 ()괄호를 붙이고 안에 기반 클래스 이름을 넣음\n",
        "\n",
        "class 기반클래스이름:\n",
        "    코드\n",
        "\n",
        "class 파생클래스이름(기반클래스이름):\n",
        "    코드"
      ],
      "metadata": {
        "id": "dWAml244TlDf"
      },
      "execution_count": null,
      "outputs": []
    },
    {
      "cell_type": "code",
      "source": [
        "# 사람클래스를 상속받아 학생 클래스를 만들어봄 사람클래스를 상속받아 학생 클래스를 만들어봄\n",
        "\n",
        "class Person:\n",
        "    def greeting(self):\n",
        "        print('안녕하세요.')\n",
        "\n",
        "class Student(Person):\n",
        "    def study(self):\n",
        "        print('공부하기')\n",
        "\n",
        "james = Student()\n",
        "james.greeting()  # 안녕하세요. : 기반 클래스 Person의 메서드 호출\n",
        "james.study()     # 공부하기: 파생 클래스 Student에 추가된 study 메서드"
      ],
      "metadata": {
        "colab": {
          "base_uri": "https://localhost:8080/"
        },
        "id": "-vjeEduCUjUH",
        "outputId": "c5e772fe-df81-417b-db4c-e2fe2d5affa0"
      },
      "execution_count": null,
      "outputs": [
        {
          "output_type": "stream",
          "name": "stdout",
          "text": [
            "안녕하세요.\n",
            "공부하기\n"
          ]
        }
      ]
    },
    {
      "cell_type": "code",
      "source": [
        "# 클래스 상속은 기반 클래스의 기능을 유지, + 새로운 기능 추가\n",
        "# 연관되면서 동등한 기능 일때 사용가능\n",
        "# 학생은 사람이므로 연관된 개념, 학생은 사람에서 역할만 확장되었을 뿐, 동등한 개념"
      ],
      "metadata": {
        "id": "sN1BNWspWjW8"
      },
      "execution_count": null,
      "outputs": []
    },
    {
      "cell_type": "markdown",
      "source": [
        "## 상속 관계 확인하기"
      ],
      "metadata": {
        "id": "vgpLTR_WXsxJ"
      }
    },
    {
      "cell_type": "code",
      "source": [
        "# 클래스의 상속 관계를 확인하고 싶을 때 issubclass 함수 사용\n",
        "# 클래스가 기반 클래스의 파생 클래스인지 확인함\n",
        "# 기반 클래스의 파생 클래스가 맞으면 True, 아니면 False 반환\n",
        "\n",
        "# issubclass(파생클래스, 기반클래스)\n",
        "\n",
        "class Person:\n",
        "      pass\n",
        "\n",
        "class Student(Person):\n",
        "      pass\n",
        "\n",
        "issubclass(Student, Person)\n"
      ],
      "metadata": {
        "colab": {
          "base_uri": "https://localhost:8080/"
        },
        "id": "jZPkoG-vXup4",
        "outputId": "1fbe6b38-74e2-41a1-e186-70c2bc3f776d"
      },
      "execution_count": null,
      "outputs": [
        {
          "output_type": "execute_result",
          "data": {
            "text/plain": [
              "True"
            ]
          },
          "metadata": {},
          "execution_count": 2
        }
      ]
    },
    {
      "cell_type": "markdown",
      "source": [
        "## 상속 관계와 포함 관계 알아보기"
      ],
      "metadata": {
        "id": "TlzPbdPBYMmg"
      }
    },
    {
      "cell_type": "markdown",
      "source": [
        "## 상속 관계"
      ],
      "metadata": {
        "id": "qZpxLIwPYRnI"
      }
    },
    {
      "cell_type": "code",
      "source": [
        "# 앞에서 만든 Student 클래스는 Person 클래스를 상속받아서 사용함\n",
        "# 상속은 명확하게 같은 종류이며 동등한 관계일 때 사용\n",
        "# 상속 관계를 영어로 is-a 관계라고 함\n",
        "\n",
        "class Person:\n",
        "    def greeting(self):\n",
        "        print('안녕하세요.')\n",
        "\n",
        "class Student(Person):\n",
        "    def study(self):\n",
        "        print('공부하기')"
      ],
      "metadata": {
        "id": "xePXVRilYJfs"
      },
      "execution_count": null,
      "outputs": []
    },
    {
      "cell_type": "markdown",
      "source": [
        "## 포함 관계"
      ],
      "metadata": {
        "id": "72wHX9zpZBgZ"
      }
    },
    {
      "cell_type": "code",
      "source": [
        "# 학생 클래스가 아닌 사람 목록을 관리하는 클래스를 만든다면??\n",
        "# 사람 목록 PersonList와 사람 Person은 동등한 관계 x, 포함관계 -> has-a 관계\n",
        "\n",
        "class Person:\n",
        "    def greeting(self):\n",
        "        print('안녕하세요.')\n",
        "\n",
        "class PersonList:\n",
        "    def __init__(self):\n",
        "        self.person_list = [] # 리스트 속성에 Person 인스턴스를 넣어서 관리함\n",
        "\n",
        "    def append_person(self, person):  # 리스트 속성에 Person 인스턴스를 추가하는 함수\n",
        "        self.person_list.append(person)"
      ],
      "metadata": {
        "id": "qU7iuRIHYouH"
      },
      "execution_count": null,
      "outputs": []
    },
    {
      "cell_type": "markdown",
      "source": [
        "## 기반 클래스의 속성 사용하기"
      ],
      "metadata": {
        "id": "Vaga40NvabF5"
      }
    },
    {
      "cell_type": "code",
      "source": [
        "# Person 클래스에 hello 속성 O\n",
        "# Person 클래스를 상속받아 Student 클래스를 만듬 -> Student로 인스턴스를 만들고 hello 속성에 접근\n",
        "\n",
        "class Person:\n",
        "    def __init__(self):\n",
        "        print('Person __init__')\n",
        "        self.hello = '안녕하세요.'\n",
        "\n",
        "class Student(Person):\n",
        "    def __init__(self):\n",
        "        print('Student __init__')\n",
        "        self.school = '파이썬 코딩 도장'\n",
        "\n",
        "james = Student()\n",
        "print(james.school)\n",
        "print(james.hello) # 기반 클래스의 속성을 출력하려고 하면 에러가 발생함"
      ],
      "metadata": {
        "colab": {
          "base_uri": "https://localhost:8080/",
          "height": 221
        },
        "id": "8QYVlPUOZjhg",
        "outputId": "b24ec612-4d1b-48cc-9f2a-556682bde3eb"
      },
      "execution_count": null,
      "outputs": [
        {
          "output_type": "stream",
          "name": "stdout",
          "text": [
            "Student __init__\n",
            "파이썬 코딩 도장\n"
          ]
        },
        {
          "output_type": "error",
          "ename": "AttributeError",
          "evalue": "'Student' object has no attribute 'hello'",
          "traceback": [
            "\u001b[0;31m---------------------------------------------------------------------------\u001b[0m",
            "\u001b[0;31mAttributeError\u001b[0m                            Traceback (most recent call last)",
            "\u001b[0;32m<ipython-input-5-c28b56cdc684>\u001b[0m in \u001b[0;36m<cell line: 0>\u001b[0;34m()\u001b[0m\n\u001b[1;32m     14\u001b[0m \u001b[0mjames\u001b[0m \u001b[0;34m=\u001b[0m \u001b[0mStudent\u001b[0m\u001b[0;34m(\u001b[0m\u001b[0;34m)\u001b[0m\u001b[0;34m\u001b[0m\u001b[0;34m\u001b[0m\u001b[0m\n\u001b[1;32m     15\u001b[0m \u001b[0mprint\u001b[0m\u001b[0;34m(\u001b[0m\u001b[0mjames\u001b[0m\u001b[0;34m.\u001b[0m\u001b[0mschool\u001b[0m\u001b[0;34m)\u001b[0m\u001b[0;34m\u001b[0m\u001b[0;34m\u001b[0m\u001b[0m\n\u001b[0;32m---> 16\u001b[0;31m \u001b[0mprint\u001b[0m\u001b[0;34m(\u001b[0m\u001b[0mjames\u001b[0m\u001b[0;34m.\u001b[0m\u001b[0mhello\u001b[0m\u001b[0;34m)\u001b[0m \u001b[0;31m# 기반 클래스의 속성을 출력하려고 하면 에러가 발생함\u001b[0m\u001b[0;34m\u001b[0m\u001b[0;34m\u001b[0m\u001b[0m\n\u001b[0m",
            "\u001b[0;31mAttributeError\u001b[0m: 'Student' object has no attribute 'hello'"
          ]
        }
      ]
    },
    {
      "cell_type": "markdown",
      "source": [
        "## 36.3.1 super()로 기반 클래스 초기화하기"
      ],
      "metadata": {
        "id": "r6LPGsoE5h3w"
      }
    },
    {
      "cell_type": "code",
      "source": [
        "# super().메서드()\n",
        "\n",
        "class Person:\n",
        "    def __init__(self):\n",
        "        print('Person __init__')\n",
        "        self.hello = '안녕하세요.'\n",
        "\n",
        "class Student(Person):\n",
        "    def __init__(self):\n",
        "        print('Student __init__')\n",
        "        super().__init__() # super()로 기반 클래스의 __init__ 메서드 호출\n",
        "        self.school = '파이썬 코딩 도장'\n",
        "\n",
        "james = Student()\n",
        "print(james.school)\n",
        "print(james.hello)"
      ],
      "metadata": {
        "id": "XLYrqMGjbSop",
        "colab": {
          "base_uri": "https://localhost:8080/"
        },
        "outputId": "adef75f4-1f23-4a3a-cd4c-9b6f44544b18"
      },
      "execution_count": 1,
      "outputs": [
        {
          "output_type": "stream",
          "name": "stdout",
          "text": [
            "Student __init__\n",
            "Person __init__\n",
            "파이썬 코딩 도장\n",
            "안녕하세요.\n"
          ]
        }
      ]
    },
    {
      "cell_type": "markdown",
      "source": [
        "## 36.3.2 기반 클래스를 초기화하지 않아도 되는 경우"
      ],
      "metadata": {
        "id": "OSEcRSJw6lkD"
      }
    },
    {
      "cell_type": "code",
      "source": [
        "# 파생 클래스에서 __init__ 메서드를 생략한다면, 기반 클래스의 __init__이 자동으로 호출되므로 super()는 사용 x\n",
        "\n",
        "class Person:\n",
        "    def __init__(self):\n",
        "        print('Person __init_')\n",
        "        self.hello = '안녕하세요.'\n",
        "\n",
        "class Student(Person):\n",
        "    pass\n",
        "\n",
        "james = Student()\n",
        "print(james.hello)"
      ],
      "metadata": {
        "colab": {
          "base_uri": "https://localhost:8080/"
        },
        "id": "dmBZ74cY6Pn1",
        "outputId": "ddb6bd9b-6526-4b3d-dfaa-539689fa7e33"
      },
      "execution_count": 2,
      "outputs": [
        {
          "output_type": "stream",
          "name": "stdout",
          "text": [
            "Person __init_\n",
            "안녕하세요.\n"
          ]
        }
      ]
    },
    {
      "cell_type": "markdown",
      "source": [
        "## 좀 더 명확하게 super 사용하기"
      ],
      "metadata": {
        "id": "Lu5El0II7RFs"
      }
    },
    {
      "cell_type": "code",
      "source": [
        "# super는 다음과 같이 파생 클래스와 self를 넣어서 현재 클래스인지 명확하게 표시하는 방법도 있음\n",
        "\n",
        "# super(파생클래스, self).메서드\n",
        "\n",
        "class Student(Person):\n",
        "    def __init__(self):\n",
        "        print('Student __init__')\n",
        "        super(Student, self).__init___() # super(파생클래스, self)로 기반 클래스의 메서드 호출\n",
        "        self.school = '파이썬 코딩 도장'"
      ],
      "metadata": {
        "id": "y2KEgY7j7JqH"
      },
      "execution_count": 3,
      "outputs": []
    },
    {
      "cell_type": "markdown",
      "source": [
        "## 메서드 오버라이딩 사용하기"
      ],
      "metadata": {
        "id": "ix1ffoAJ8KzO"
      }
    },
    {
      "cell_type": "code",
      "source": [
        "# person의 greeting 메서드가 있는 상태에서 Student에도 greeting 메서드 만들기\n",
        "# 오버라이딩은 무시하다, 우선하다라는 뜻이 있는데, 말 그대로 기반 클래스의 매서드를 무시하고 새로운 메서드를 만든다는 뜻\n",
        "\n",
        "class Person:\n",
        "    def greeting(self):\n",
        "        print('안녕하세요.')\n",
        "\n",
        "class Student(Person):\n",
        "    def greeting(self):\n",
        "        print('안녕하세요. 저는 파이썬 코딩 도장 학생입니다.')\n",
        "\n",
        "james = Student()\n",
        "james.greeting()"
      ],
      "metadata": {
        "colab": {
          "base_uri": "https://localhost:8080/"
        },
        "id": "hISSibVz8CMI",
        "outputId": "d9f8ec28-fb04-4c03-a32c-f5fa7fd10abf"
      },
      "execution_count": 5,
      "outputs": [
        {
          "output_type": "stream",
          "name": "stdout",
          "text": [
            "안녕하세요. 저는 파이썬 코딩 도장 학생입니다.\n"
          ]
        }
      ]
    },
    {
      "cell_type": "code",
      "source": [
        "# 기반 클래스의 메서드를 재활용하면 중복을 줄일 수 있음\n",
        "\n",
        "class Person:\n",
        "    def greeting(self):\n",
        "        print('안녕하세요.')\n",
        "\n",
        "class Student(Person):\n",
        "    def greeting(self):\n",
        "        super().greeting() # 기반 클래스의 메서드를 호출하여 중복을 줄임\n",
        "        print('저는 파이썬 코딩 도장 학생입니다.')\n",
        "\n",
        "james = Student()\n",
        "james.greeting()"
      ],
      "metadata": {
        "colab": {
          "base_uri": "https://localhost:8080/"
        },
        "id": "PFcr7K5HC5e4",
        "outputId": "e58104d3-ec81-4c1a-cf8f-2b715329cb77"
      },
      "execution_count": 7,
      "outputs": [
        {
          "output_type": "stream",
          "name": "stdout",
          "text": [
            "안녕하세요.\n",
            "저는 파이썬 코딩 도장 학생입니다.\n"
          ]
        }
      ]
    },
    {
      "cell_type": "markdown",
      "source": [
        "## 다중 상속 사용하기"
      ],
      "metadata": {
        "id": "HrlOut5pFmnV"
      }
    },
    {
      "cell_type": "code",
      "source": [
        "# 여러 기반 클래스로부터 상속을 받아서 파생 클래스를 만드는 방법\n",
        "# 클래스를 만들 때 () 안에 클래스 이름을 ,로 구분해서 넣음\n",
        "\n",
        "class 기반클래스이름1:\n",
        "    코드\n",
        "class 기반클래스이름2:\n",
        "    코드\n",
        "\n",
        "class 파생클래스이름(기반클래스이름1, 기반클래스이름2):"
      ],
      "metadata": {
        "colab": {
          "base_uri": "https://localhost:8080/",
          "height": 110
        },
        "id": "Dxsc7x00FaMk",
        "outputId": "f0064776-25b9-4f8e-c1b3-e537769e82f0"
      },
      "execution_count": 8,
      "outputs": [
        {
          "output_type": "error",
          "ename": "SyntaxError",
          "evalue": "incomplete input (<ipython-input-8-e04637e6d528>, line 9)",
          "traceback": [
            "\u001b[0;36m  File \u001b[0;32m\"<ipython-input-8-e04637e6d528>\"\u001b[0;36m, line \u001b[0;32m9\u001b[0m\n\u001b[0;31m    class 파생클래스이름(기반클래스이름1, 기반클래스이름2):\u001b[0m\n\u001b[0m                                      ^\u001b[0m\n\u001b[0;31mSyntaxError\u001b[0m\u001b[0;31m:\u001b[0m incomplete input\n"
          ]
        }
      ]
    },
    {
      "cell_type": "code",
      "source": [
        "# 사람 클래스와 대학교 클래스를 만든 뒤 다중 상속으로 대학생 클래스 만들기\n",
        "\n",
        "class Person:\n",
        "    def greeting(self):\n",
        "        print('안녕하세요.')\n",
        "\n",
        "class University:\n",
        "    def manage_credit(self):\n",
        "        print('학점 관리')\n",
        "\n",
        "class Undergraduate(Person, University):\n",
        "    def study(self):\n",
        "        print('공부하기')\n",
        "\n",
        "james = Undergraduate()\n",
        "james.greeting()  # 안녕하세요. : 기반 클래스 person의 메서드 호출\n",
        "james.manage_credit() # 학점 관리: 기반 클래스 University의 메서드 호출\n",
        "james.study() # 공부하기 : 파생 클래스 Undergraduate 에 추가한 study 메서드"
      ],
      "metadata": {
        "colab": {
          "base_uri": "https://localhost:8080/"
        },
        "id": "5Ccws-JbGBMM",
        "outputId": "a9bcd1f9-bb1d-4c8c-97c0-2f5213ad70fb"
      },
      "execution_count": 10,
      "outputs": [
        {
          "output_type": "stream",
          "name": "stdout",
          "text": [
            "안녕하세요.\n",
            "학점 관리\n",
            "공부하기\n"
          ]
        }
      ]
    },
    {
      "cell_type": "markdown",
      "source": [
        "## 다이아몬드 상속"
      ],
      "metadata": {
        "id": "d4waQPxHHVXl"
      }
    },
    {
      "cell_type": "code",
      "source": [
        "class A:\n",
        "    def greeting(self):\n",
        "        print('안녕하세요. A입니다.')\n",
        "\n",
        "class B:\n",
        "    def greeting(self):\n",
        "        print('안녕하세요. B입니다.')\n",
        "\n",
        "\n",
        "class C:\n",
        "    def greeting(self):\n",
        "        print('안녕하세요. C입니다.')\n",
        "\n",
        "class D(B, C):\n",
        "    pass\n",
        "\n",
        "x = D()\n",
        "x.greeting() # 안녕하세요. B입니다.\n",
        "\n",
        ""
      ],
      "metadata": {
        "colab": {
          "base_uri": "https://localhost:8080/"
        },
        "id": "izuBaYq-HQ2b",
        "outputId": "b7ccb458-1d16-4f26-8c53-45bd0d9a9445"
      },
      "execution_count": 11,
      "outputs": [
        {
          "output_type": "stream",
          "name": "stdout",
          "text": [
            "안녕하세요. B입니다.\n"
          ]
        }
      ]
    },
    {
      "cell_type": "markdown",
      "source": [
        "## 메서드 탐색 순서 확인하기"
      ],
      "metadata": {
        "id": "RHhW6v8STqn3"
      }
    },
    {
      "cell_type": "code",
      "source": [
        "# 다이아몬드 상속의 해결책을 제시하고 있는 데 이를 메서드 탐색 순서라고 함\n",
        "\n",
        "# 클래스.mro()\n",
        "\n",
        "D.mro()"
      ],
      "metadata": {
        "colab": {
          "base_uri": "https://localhost:8080/"
        },
        "id": "EqXshqjSTUNZ",
        "outputId": "57033072-1133-4997-f780-26c6bb9017e1"
      },
      "execution_count": 12,
      "outputs": [
        {
          "output_type": "execute_result",
          "data": {
            "text/plain": [
              "[__main__.D, __main__.B, __main__.C, object]"
            ]
          },
          "metadata": {},
          "execution_count": 12
        }
      ]
    },
    {
      "cell_type": "code",
      "source": [
        "# MRO에 따르면 호출 순서는 자기 자신 D, B\n",
        "# 따라서 D로 인스턴스 만들고 greeting을 호출하면 B가 호출"
      ],
      "metadata": {
        "id": "DQ2zST_MUgZf"
      },
      "execution_count": 13,
      "outputs": []
    },
    {
      "cell_type": "code",
      "source": [
        "X = D()\n",
        "x.greeting() # 안녕하세요. B입니다."
      ],
      "metadata": {
        "id": "QuKSqLVdUqLj"
      },
      "execution_count": null,
      "outputs": []
    },
    {
      "cell_type": "markdown",
      "source": [
        "## object 클래스"
      ],
      "metadata": {
        "id": "qCxpGfckVXvT"
      }
    },
    {
      "cell_type": "code",
      "source": [
        "# 파이썬에서 object는 모든 클래스의 조상. 그래서 int의 MRO를 출력하면 int 자기자신을 출력함\n",
        "\n",
        "int.mro()"
      ],
      "metadata": {
        "colab": {
          "base_uri": "https://localhost:8080/"
        },
        "id": "kumrEPtoVdN0",
        "outputId": "aecc995c-20ba-4b52-b844-28d4d8799de1"
      },
      "execution_count": 14,
      "outputs": [
        {
          "output_type": "execute_result",
          "data": {
            "text/plain": [
              "[int, object]"
            ]
          },
          "metadata": {},
          "execution_count": 14
        }
      ]
    },
    {
      "cell_type": "code",
      "source": [
        "# 파이썬 3에서 모든 클래스는 object 클래스를 상속받으므로 기본적인 object 생략함\n",
        "\n",
        "class x:\n",
        "    pass"
      ],
      "metadata": {
        "id": "7tbdKGprVwf6"
      },
      "execution_count": null,
      "outputs": []
    },
    {
      "cell_type": "code",
      "source": [
        "# 괄호 안에 object 넣은 것과 같음\n",
        "\n",
        "class X(object):\n",
        "    pass"
      ],
      "metadata": {
        "id": "fCt7FUUVV-Cj"
      },
      "execution_count": null,
      "outputs": []
    },
    {
      "cell_type": "markdown",
      "source": [
        "## 추상 클래스 사용하기"
      ],
      "metadata": {
        "id": "NaD5ZxUhWSS9"
      }
    },
    {
      "cell_type": "code",
      "source": [
        "# 추상 클래스는 메서드의 목록만 가진 클래스\n",
        "# 상속받는 클래스에서 매서드 구현을 강제하기 위해 사용함\n",
        "\n",
        "from abc import *\n",
        "\n",
        "class 추상클래스이름(metaclass=ABCMeta):\n",
        "    @abstractmethod\n",
        "    def 메서드이름(self):\n",
        "        코드"
      ],
      "metadata": {
        "id": "Kxy3_Pw1Wbjy"
      },
      "execution_count": null,
      "outputs": []
    },
    {
      "cell_type": "code",
      "source": [
        "# 학생 추상 클래스 StudentBase를 만들고 이 추상 클래스를 상속받아 학생 클래스를 만들어봄\n",
        "# 오류가 나는 이유는 상속받은 study 메서드만 구현했기 때문\n",
        "\n",
        "from abc import *\n",
        "\n",
        "class StudentBase(metaclass=ABCMeta):\n",
        "    @abstractmethod\n",
        "    def study(self):\n",
        "        pass\n",
        "\n",
        "\n",
        "    @abstractmethod\n",
        "    def go_to_school(self):\n",
        "        pass\n",
        "\n",
        "class Student(StudentBase):\n",
        "    def study(self):\n",
        "        print('공부하기')\n",
        "\n",
        "james = Student()\n",
        "james.study()"
      ],
      "metadata": {
        "colab": {
          "base_uri": "https://localhost:8080/",
          "height": 202
        },
        "id": "uKgF08gYXDs_",
        "outputId": "5ffdc967-1d8e-42a6-e49d-452d09370661"
      },
      "execution_count": 17,
      "outputs": [
        {
          "output_type": "error",
          "ename": "TypeError",
          "evalue": "Can't instantiate abstract class Student with abstract method go_to_school",
          "traceback": [
            "\u001b[0;31m---------------------------------------------------------------------------\u001b[0m",
            "\u001b[0;31mTypeError\u001b[0m                                 Traceback (most recent call last)",
            "\u001b[0;32m<ipython-input-17-778885f1613b>\u001b[0m in \u001b[0;36m<cell line: 0>\u001b[0;34m()\u001b[0m\n\u001b[1;32m     17\u001b[0m         \u001b[0mprint\u001b[0m\u001b[0;34m(\u001b[0m\u001b[0;34m'공부하기'\u001b[0m\u001b[0;34m)\u001b[0m\u001b[0;34m\u001b[0m\u001b[0;34m\u001b[0m\u001b[0m\n\u001b[1;32m     18\u001b[0m \u001b[0;34m\u001b[0m\u001b[0m\n\u001b[0;32m---> 19\u001b[0;31m \u001b[0mjames\u001b[0m \u001b[0;34m=\u001b[0m \u001b[0mStudent\u001b[0m\u001b[0;34m(\u001b[0m\u001b[0;34m)\u001b[0m\u001b[0;34m\u001b[0m\u001b[0;34m\u001b[0m\u001b[0m\n\u001b[0m\u001b[1;32m     20\u001b[0m \u001b[0mjames\u001b[0m\u001b[0;34m.\u001b[0m\u001b[0mstudy\u001b[0m\u001b[0;34m(\u001b[0m\u001b[0;34m)\u001b[0m\u001b[0;34m\u001b[0m\u001b[0;34m\u001b[0m\u001b[0m\n",
            "\u001b[0;31mTypeError\u001b[0m: Can't instantiate abstract class Student with abstract method go_to_school"
          ]
        }
      ]
    },
    {
      "cell_type": "code",
      "source": [
        "\n",
        "class StudentBase(metaclass=ABCMeta):\n",
        "    @abstractmethod\n",
        "    def study(self):\n",
        "        pass\n",
        "\n",
        "    @abstractmethod\n",
        "    def go_to_school(self):\n",
        "        pass\n",
        "\n",
        "class Student(StudentBase):\n",
        "    def study(self):\n",
        "        print('공부하기')\n",
        "\n",
        "    def go_to_school(self):\n",
        "        print('학교가기')\n",
        "\n",
        "james = Student()\n",
        "james.study()\n",
        "james.go_to_school()"
      ],
      "metadata": {
        "colab": {
          "base_uri": "https://localhost:8080/"
        },
        "id": "z2FuP5Yha6RQ",
        "outputId": "6f713034-e092-43e2-d4c6-f1eaf9567d07"
      },
      "execution_count": 20,
      "outputs": [
        {
          "output_type": "stream",
          "name": "stdout",
          "text": [
            "공부하기\n",
            "학교가기\n"
          ]
        }
      ]
    },
    {
      "cell_type": "markdown",
      "source": [
        "## 추상 메서드를 빈 메서드로 만드는 이유"
      ],
      "metadata": {
        "id": "6yUdAEKVccAH"
      }
    },
    {
      "cell_type": "code",
      "source": [
        "james = StudentBase()"
      ],
      "metadata": {
        "colab": {
          "base_uri": "https://localhost:8080/",
          "height": 147
        },
        "id": "8XMLU-ytcFXm",
        "outputId": "b24d8a4b-d1be-4ccf-ffd6-a98e04a0b3c9"
      },
      "execution_count": 21,
      "outputs": [
        {
          "output_type": "error",
          "ename": "TypeError",
          "evalue": "Can't instantiate abstract class StudentBase with abstract methods go_to_school, study",
          "traceback": [
            "\u001b[0;31m---------------------------------------------------------------------------\u001b[0m",
            "\u001b[0;31mTypeError\u001b[0m                                 Traceback (most recent call last)",
            "\u001b[0;32m<ipython-input-21-fcffb19d946f>\u001b[0m in \u001b[0;36m<cell line: 0>\u001b[0;34m()\u001b[0m\n\u001b[0;32m----> 1\u001b[0;31m \u001b[0mjames\u001b[0m \u001b[0;34m=\u001b[0m \u001b[0mStudentBase\u001b[0m\u001b[0;34m(\u001b[0m\u001b[0;34m)\u001b[0m\u001b[0;34m\u001b[0m\u001b[0;34m\u001b[0m\u001b[0m\n\u001b[0m",
            "\u001b[0;31mTypeError\u001b[0m: Can't instantiate abstract class StudentBase with abstract methods go_to_school, study"
          ]
        }
      ]
    },
    {
      "cell_type": "code",
      "source": [
        "# 추상 클래스는 오로지 상속에만 사용함!!\n",
        "# 파생 클래스에서 반드시 구현해야 할 매소드를 정해 줄 때 사용함\n",
        "\n",
        "@abstractmethod\n",
        "def study(self):\n",
        "    pass # 추상 메서드는 호출 할 일이 없으므로 빈 메서드를 만듬\n",
        "\n",
        "@abstractmethod\n",
        "def go_to_school(self):\n",
        "    pass # 추상 메서드는 호출할 일이 없으므로 빈 메서드를 만듬"
      ],
      "metadata": {
        "id": "wH4cI5Q3cg9i"
      },
      "execution_count": null,
      "outputs": []
    },
    {
      "cell_type": "markdown",
      "source": [
        "## 연습문제: 리스트에 기능 추가하기"
      ],
      "metadata": {
        "id": "KCo8l1Z_duz3"
      }
    },
    {
      "cell_type": "code",
      "source": [
        "class AdvancedList(list):\n",
        "    def replace(self, old, new):\n",
        "        while old in self:\n",
        "            self[self.index(old)] = new\n",
        "\n",
        "x = AdvancedList([1, 2, 3, 1, 2, 3, 1, 2, 3])\n",
        "x.replace(1, 100)\n",
        "print(x)"
      ],
      "metadata": {
        "colab": {
          "base_uri": "https://localhost:8080/"
        },
        "id": "tAQiz0XAd1Gj",
        "outputId": "96efa415-9eeb-40ee-de5e-e8a53ce2946e"
      },
      "execution_count": 22,
      "outputs": [
        {
          "output_type": "stream",
          "name": "stdout",
          "text": [
            "[100, 2, 3, 100, 2, 3, 100, 2, 3]\n"
          ]
        }
      ]
    },
    {
      "cell_type": "markdown",
      "source": [
        "## 심사문제: 다중 상속 사용하기"
      ],
      "metadata": {
        "id": "AFt1zqiteTxv"
      }
    },
    {
      "cell_type": "code",
      "source": [
        "class Animal:\n",
        "    def eat(self):\n",
        "        print('먹다')\n",
        "\n",
        "class Wing:\n",
        "    def flap(self):\n",
        "        print('파닥거리다')\n",
        "\n",
        "class Bird(Animal, Wing):\n",
        "    def fly(self):\n",
        "        print('날다')\n",
        "\n",
        "b = Bird()\n",
        "b.eat()\n",
        "b.flap()\n",
        "b.fly()\n",
        "print(issubclass(Bird, Animal))\n",
        "print(issubclass(Bird, Wing))"
      ],
      "metadata": {
        "colab": {
          "base_uri": "https://localhost:8080/"
        },
        "id": "tjiqQIsZeHNe",
        "outputId": "4af3a93c-4f01-43a9-c03c-0a41baf7f4c7"
      },
      "execution_count": 29,
      "outputs": [
        {
          "output_type": "stream",
          "name": "stdout",
          "text": [
            "먹다\n",
            "파닥거리다\n",
            "날다\n",
            "True\n",
            "True\n"
          ]
        }
      ]
    },
    {
      "cell_type": "code",
      "source": [],
      "metadata": {
        "id": "dgR9j4J2e4T_"
      },
      "execution_count": 27,
      "outputs": []
    }
  ]
}