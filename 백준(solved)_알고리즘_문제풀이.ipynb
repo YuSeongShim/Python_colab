{
  "nbformat": 4,
  "nbformat_minor": 0,
  "metadata": {
    "colab": {
      "provenance": [],
      "authorship_tag": "ABX9TyOgW8+H3GyPeKNM309OsyD5",
      "include_colab_link": true
    },
    "kernelspec": {
      "name": "python3",
      "display_name": "Python 3"
    },
    "language_info": {
      "name": "python"
    }
  },
  "cells": [
    {
      "cell_type": "markdown",
      "metadata": {
        "id": "view-in-github",
        "colab_type": "text"
      },
      "source": [
        "<a href=\"https://colab.research.google.com/github/YuSeongShim/Python_colab/blob/main/%EB%B0%B1%EC%A4%80(solved)_%EC%95%8C%EA%B3%A0%EB%A6%AC%EC%A6%98_%EB%AC%B8%EC%A0%9C%ED%92%80%EC%9D%B4.ipynb\" target=\"_parent\"><img src=\"https://colab.research.google.com/assets/colab-badge.svg\" alt=\"Open In Colab\"/></a>"
      ]
    },
    {
      "cell_type": "markdown",
      "source": [
        "## 브론즈 5"
      ],
      "metadata": {
        "id": "rRPWTg3rRyg1"
      }
    },
    {
      "cell_type": "code",
      "execution_count": null,
      "metadata": {
        "id": "oFjJu48gRck_"
      },
      "outputs": [],
      "source": [
        "# 두 정수 A와 B를 입력받은 다음, A+B를 출력하는 프로그램을 작성하시오.\n",
        "\n",
        "a, b = map(int,input(\"\").split())\n",
        "\n",
        "print(a+b)"
      ]
    },
    {
      "cell_type": "code",
      "source": [
        "# 두 정수 A와 B를 입력받은 다음, A-B를 출력하는 프로그램을 작성하시오.\n",
        "\n",
        "a, b = map(int, input(\"\").split())\n",
        "\n",
        "print(a-b)"
      ],
      "metadata": {
        "colab": {
          "base_uri": "https://localhost:8080/"
        },
        "id": "8plWQGncRjSY",
        "outputId": "04144819-d01c-4ee1-d6d6-735b7b434e6c"
      },
      "execution_count": null,
      "outputs": [
        {
          "output_type": "stream",
          "name": "stdout",
          "text": [
            "5 3\n",
            "2\n"
          ]
        }
      ]
    },
    {
      "cell_type": "code",
      "source": [
        "## 두 정수 A와 B를 입력받은 다음, A/B를 출력하는 프로그램을 작성하시오.\n",
        "\n",
        "a, b = map(int,input(\"\").split())\n",
        "\n",
        "print(a/b)"
      ],
      "metadata": {
        "colab": {
          "base_uri": "https://localhost:8080/"
        },
        "id": "ZW3rZ-4QRt7T",
        "outputId": "66b415bb-782a-4333-9de6-6c42a97157e9"
      },
      "execution_count": null,
      "outputs": [
        {
          "output_type": "stream",
          "name": "stdout",
          "text": [
            "4 5\n",
            "0.8\n"
          ]
        }
      ]
    },
    {
      "cell_type": "code",
      "source": [
        "## 갑부 최백준 조교는 동전을 최소로 바꾸는데 성공했으나 김재홍 조교가 그 돈을 발견해서 최백준 조교에게 그 돈을 나누자고 따진다.\n",
        "\n",
        "## 그 사실이 전 우주로 알려지자 우주에 있던 많은 생명체들이 자신들에게 돈을 분배해 달라고 당장 달려오기 시작했다.\n",
        "\n",
        "## 프로토스 중앙 우주 정부의 정책인, ‘모든 지적 생명체는 동등하다’라는 규칙에 입각해서 돈을 똑같이 분배하고자 한다.\n",
        "\n",
        "## 한 생명체에게 얼마씩 돈을 줄 수 있는가?\n",
        "\n",
        "## 또, 생명체들에게 동일하게 분배한 후 남는 돈은 얼마인가?\n",
        "\n",
        "n, m = map(int, input(\"\").split())\n",
        "\n",
        "print(n // m)\n",
        "print(n % m)\n",
        "\n",
        "\n",
        "\n"
      ],
      "metadata": {
        "colab": {
          "base_uri": "https://localhost:8080/"
        },
        "id": "M9O6u38fSa3H",
        "outputId": "4d7e7030-cb6d-4f00-af43-4b756d06b1b8"
      },
      "execution_count": null,
      "outputs": [
        {
          "output_type": "stream",
          "name": "stdout",
          "text": [
            "1000 100\n",
            "10\n",
            "0\n"
          ]
        }
      ]
    },
    {
      "cell_type": "code",
      "source": [
        "## 두 정수 A와 B가 주어졌을 때, A와 B를 비교하는 프로그램을 작성하시오.\n",
        "\n",
        "a, b = map(int,input(\"\").split())\n",
        "\n",
        "if a > b:\n",
        "  print(\">\")\n",
        "\n",
        "if a < b:\n",
        "  print(\"<\")\n",
        "\n",
        "if a == b:\n",
        "  print(\"==\")"
      ],
      "metadata": {
        "colab": {
          "base_uri": "https://localhost:8080/"
        },
        "id": "MnoGCKSSU3ih",
        "outputId": "fa2ffd98-e7b2-4fa5-b10c-80edbb22d81d"
      },
      "execution_count": null,
      "outputs": [
        {
          "output_type": "stream",
          "name": "stdout",
          "text": [
            "5 5\n",
            "==\n"
          ]
        }
      ]
    },
    {
      "cell_type": "code",
      "source": [
        "## 요건 번외 문제 Golfscript를 통해서 씀\n",
        "\n",
        "## You’ve decided to buy a farm and start a new life.\n",
        "##To pass some time while you wait for the title of the\n",
        "## land to go through,\n",
        "## produce the following ascii cow.\n",
        "\n",
        "## '(___)\n",
        "## (o o)____/\n",
        "## @@      \\\n",
        "##  \\ ____,/\n",
        "##  //   //\n",
        "## ^^   ^^'\n",
        "\n",
        "\n",
        "\n"
      ],
      "metadata": {
        "colab": {
          "base_uri": "https://localhost:8080/",
          "height": 106
        },
        "id": "NoRILGJFW3Rc",
        "outputId": "bc0fd72b-9a73-4bf4-bfae-8b9959d6b9b8"
      },
      "execution_count": null,
      "outputs": [
        {
          "output_type": "error",
          "ename": "SyntaxError",
          "evalue": "unterminated string literal (detected at line 6) (<ipython-input-33-8b9d52ad1239>, line 6)",
          "traceback": [
            "\u001b[0;36m  File \u001b[0;32m\"<ipython-input-33-8b9d52ad1239>\"\u001b[0;36m, line \u001b[0;32m6\u001b[0m\n\u001b[0;31m    '(---)\u001b[0m\n\u001b[0m    ^\u001b[0m\n\u001b[0;31mSyntaxError\u001b[0m\u001b[0;31m:\u001b[0m unterminated string literal (detected at line 6)\n"
          ]
        }
      ]
    },
    {
      "cell_type": "code",
      "source": [
        "## 두 수 A, B를 입력받아, A+B, A-B, A×B를 구하는 프로그램을 작성하시오.\n",
        "\n",
        "a = int(input(\"\"))\n",
        "b = int(input(\"\"))\n",
        "\n",
        "print(a+b)\n",
        "print(a-b)\n",
        "print(a*b)\n",
        "\n"
      ],
      "metadata": {
        "colab": {
          "base_uri": "https://localhost:8080/"
        },
        "id": "x20Q39zzacRq",
        "outputId": "d05372b1-8f20-4719-c59f-ca41c24fd6d5"
      },
      "execution_count": null,
      "outputs": [
        {
          "output_type": "stream",
          "name": "stdout",
          "text": [
            "1\n",
            "0\n",
            "1\n",
            "1\n",
            "0\n"
          ]
        }
      ]
    },
    {
      "cell_type": "code",
      "source": [],
      "metadata": {
        "id": "TnZwHKWfivBv"
      },
      "execution_count": null,
      "outputs": []
    },
    {
      "cell_type": "code",
      "source": [
        "# You have just learned how to output text to the screen and your teacher has challenged you to create an ASCII art of a chess piece. You have decided to make your favorite piece, the rook.\n",
        "print(\"  ___  ___  ___\")\n",
        "print(\"  | |__| |__| |\")\n",
        "print(\"  |           |\")\n",
        "print(\"   \\_________/\")\n",
        "print(\"    \\_______/\")\n",
        "print(\"     |     |\")\n",
        "print(\"     |     |\")\n",
        "print(\"     |     |\")\n",
        "print(\"     |     |\")\n",
        "print(\"     |_____|\")\n",
        "print(\"  __/       \\__\")\n",
        "print(\" /             \\\\\")\n",
        "print(\"/_______________\\\\\")\n",
        "\n",
        "\n"
      ],
      "metadata": {
        "id": "rPvf2c10QCHv",
        "colab": {
          "base_uri": "https://localhost:8080/"
        },
        "outputId": "2b40ba59-309c-4ed3-bf3f-30285554f347"
      },
      "execution_count": null,
      "outputs": [
        {
          "output_type": "stream",
          "name": "stdout",
          "text": [
            "  ___  ___  ___\n",
            "  | |__| |__| |\n",
            "  |           |\n",
            "   \\_________/\n",
            "    \\_______/\n",
            "     |     |\n",
            "     |     |\n",
            "     |     |\n",
            "     |     |\n",
            "     |_____|\n",
            "  __/       \\__\n",
            " /             \\\n",
            "/_______________\\\n"
          ]
        }
      ]
    },
    {
      "cell_type": "code",
      "source": [
        "# 사파리월드는 인터넷으로만 존재하는 미스테리한 나라이다. 사파리월드에는 2개의 서브도메인이 seunghwan.royal.gov.sw와 kyuhyun.royal.gov.sw 이 있는데, 이것이 couple.royal.gov.sw으로 합쳐질 것이다.\n",
        "# 그러나 도메인 관리 센터 SWNIC(센터장: 김동규)에는 엄격한 룰이 있다. 두 서브도메인을 합칠 때, 유명도의 차이가 너무 차이나지 않을 경우에만 두 서브도메인을 결혼시키는 것이다. 서브도메인의 유명도는 정수이다.\n",
        "# 두 서브도메인의 유명도가 주어졌을 때, 그 차이를 구하는 프로그램을 작성하시오.\n",
        "\n",
        "n, m = map(int,input(\"\").split())\n",
        "\n",
        "num = abs(n - m)\n",
        "\n",
        "print(num)\n"
      ],
      "metadata": {
        "colab": {
          "base_uri": "https://localhost:8080/"
        },
        "id": "iJgwJd0Jk5Yw",
        "outputId": "396c902e-5c3d-46cf-ebbc-35208d4186ed"
      },
      "execution_count": null,
      "outputs": [
        {
          "output_type": "stream",
          "name": "stdout",
          "text": [
            "-2 5\n",
            "7\n"
          ]
        }
      ]
    },
    {
      "cell_type": "code",
      "source": [
        "# Hello World!를 출력하시오.\n",
        "\n",
        "print(\"Hello World!\")"
      ],
      "metadata": {
        "id": "yBV-co0Y9u2j",
        "colab": {
          "base_uri": "https://localhost:8080/"
        },
        "outputId": "a127a1ec-b98a-47cb-ac89-5b3031eaa840"
      },
      "execution_count": null,
      "outputs": [
        {
          "output_type": "stream",
          "name": "stdout",
          "text": [
            "Hello World!\n"
          ]
        }
      ]
    },
    {
      "cell_type": "code",
      "source": [
        "# 두 정수 A와 B를 입력받은 다음, A+B를 출력하는 프로그램을 작성하시오.\n",
        "\n",
        "a = int(input(\"\"))\n",
        "b = int(input(\"\"))\n",
        "\n",
        "print(a+b)\n"
      ],
      "metadata": {
        "colab": {
          "base_uri": "https://localhost:8080/"
        },
        "id": "yMU3m97bUeKu",
        "outputId": "f65b4f1b-85d2-4268-cb0e-f92cfd44e4d6"
      },
      "execution_count": null,
      "outputs": [
        {
          "output_type": "stream",
          "name": "stdout",
          "text": [
            "1\n",
            "2\n",
            "3\n"
          ]
        }
      ]
    },
    {
      "cell_type": "code",
      "source": [
        "# 컴퓨터를 제조하는 회사인 KOI 전자에서는 제조하는 컴퓨터마다 6자리의 고유번호를 매긴다.\n",
        "# 고유번호의 처음 5자리에는 00000부터 99999까지의 수 중 하나가 주어지며 6번째 자리에는 검증수가 들어간다.\n",
        "# 검증수는 고유번호의 처음 5자리에 들어가는 5개의 숫자를 각각 제곱한 수의 합을 10으로 나눈 나머지이다.\n",
        "# 예를 들어 고유번호의 처음 5자리의 숫자들이 04256이면,\n",
        "# 각 숫자를 제곱한 수들의 합 0+16+4+25+36 = 81 을 10으로 나눈 나머지인 1이 검증수이다.\n"
      ],
      "metadata": {
        "colab": {
          "base_uri": "https://localhost:8080/",
          "height": 202
        },
        "id": "Q21sz2i-W9pK",
        "outputId": "768789be-45cf-484b-b0e3-a09d433abc24"
      },
      "execution_count": null,
      "outputs": [
        {
          "name": "stdout",
          "output_type": "stream",
          "text": [
            "0 4 2 5 6\n"
          ]
        },
        {
          "output_type": "error",
          "ename": "TypeError",
          "evalue": "unsupported operand type(s) for +: 'map' and 'int'",
          "traceback": [
            "\u001b[0;31m---------------------------------------------------------------------------\u001b[0m",
            "\u001b[0;31mTypeError\u001b[0m                                 Traceback (most recent call last)",
            "\u001b[0;32m<ipython-input-5-2d05cc55da08>\u001b[0m in \u001b[0;36m<cell line: 0>\u001b[0;34m()\u001b[0m\n\u001b[1;32m      7\u001b[0m \u001b[0mn\u001b[0m \u001b[0;34m=\u001b[0m \u001b[0mmap\u001b[0m\u001b[0;34m(\u001b[0m\u001b[0mint\u001b[0m\u001b[0;34m,\u001b[0m\u001b[0minput\u001b[0m\u001b[0;34m(\u001b[0m\u001b[0;34m\"\"\u001b[0m\u001b[0;34m)\u001b[0m\u001b[0;34m.\u001b[0m\u001b[0msplit\u001b[0m\u001b[0;34m(\u001b[0m\u001b[0;34m)\u001b[0m\u001b[0;34m)\u001b[0m\u001b[0;34m\u001b[0m\u001b[0;34m\u001b[0m\u001b[0m\n\u001b[1;32m      8\u001b[0m \u001b[0;34m\u001b[0m\u001b[0m\n\u001b[0;32m----> 9\u001b[0;31m \u001b[0mprint\u001b[0m\u001b[0;34m(\u001b[0m\u001b[0mn\u001b[0m \u001b[0;34m+\u001b[0m \u001b[0;36m10\u001b[0m\u001b[0;34m)\u001b[0m\u001b[0;34m\u001b[0m\u001b[0;34m\u001b[0m\u001b[0m\n\u001b[0m",
            "\u001b[0;31mTypeError\u001b[0m: unsupported operand type(s) for +: 'map' and 'int'"
          ]
        }
      ]
    },
    {
      "cell_type": "code",
      "source": [
        "# 두 정수 A와 B를 입력받은 다음, A+B를 출력하는 프로그램을 작성하시오.\n",
        "\n",
        "a, b = map(int,input(\"\").split())\n",
        "\n",
        "print(a + b)"
      ],
      "metadata": {
        "colab": {
          "base_uri": "https://localhost:8080/"
        },
        "id": "PkTKt7IgYMFy",
        "outputId": "3574fb4c-674d-45a1-8536-91f8bbeec5c4"
      },
      "execution_count": null,
      "outputs": [
        {
          "output_type": "stream",
          "name": "stdout",
          "text": [
            "9223372036854775807  9223372036854775808\n",
            "18446744073709551615\n"
          ]
        }
      ]
    },
    {
      "cell_type": "code",
      "source": [
        "# 시험 점수를 입력받아 90 ~ 100점은 A, 80 ~ 89점은 B, 70 ~ 79점은 C, 60 ~ 69점은 D, 나머지 점수는 F를 출력하는 프로그램을 작성하시오.\n",
        "\n",
        "n = int(input(\"\"))\n",
        "\n",
        "if n >= 90:\n",
        "  print(\"A\")\n",
        "\n",
        "elif n >= 80:\n",
        "  print(\"B\")\n",
        "\n",
        "elif n >= 70:\n",
        "  print(\"C\")\n",
        "\n",
        "elif n >= 60:\n",
        "  print(\"D\")\n",
        "\n",
        "else:\n",
        "  print(\"F\")"
      ],
      "metadata": {
        "colab": {
          "base_uri": "https://localhost:8080/"
        },
        "id": "sRpcI7CHwwMW",
        "outputId": "4c25f1d8-d7d0-4308-bfc2-ce63bb56f868"
      },
      "execution_count": null,
      "outputs": [
        {
          "output_type": "stream",
          "name": "stdout",
          "text": [
            "100\n",
            "A\n"
          ]
        }
      ]
    },
    {
      "cell_type": "code",
      "source": [
        "# (A+B)%C는 ((A%C) + (B%C))%C 와 같을까?\n",
        "\n",
        "# (A×B)%C는 ((A%C) × (B%C))%C 와 같을까?\n",
        "\n",
        "# 세 수 A, B, C가 주어졌을 때, 위의 네 가지 값을 구하는 프로그램을 작성하시오.\n",
        "\n",
        "A, B, C = map(int,input(\"\").split())\n",
        "\n",
        "print((A+B)%C)\n",
        "print(((A%C) + (B%C)) % C)\n",
        "print((A*B)%C)\n",
        "print(((A%C) * (B%C)) % C)"
      ],
      "metadata": {
        "colab": {
          "base_uri": "https://localhost:8080/"
        },
        "id": "gDGxOaGvyFAR",
        "outputId": "8e7da8fd-30a0-409b-db8c-25c6b9477668"
      },
      "execution_count": null,
      "outputs": [
        {
          "output_type": "stream",
          "name": "stdout",
          "text": [
            "5 8 4\n",
            "1\n",
            "1\n",
            "0\n",
            "0\n"
          ]
        }
      ]
    },
    {
      "cell_type": "code",
      "source": [
        "# 첫째 줄에 준하의 놀람을 출력한다. 놀람은 아이디 뒤에 ??!를 붙여서 나타낸다.\n",
        "\n",
        "n = input()\n",
        "\n",
        "if n == n:\n",
        "  print(n+\"??!\")"
      ],
      "metadata": {
        "id": "lOEVdiH52kEo",
        "colab": {
          "base_uri": "https://localhost:8080/"
        },
        "outputId": "d20a5097-b995-496c-d49a-0971c8bd4377"
      },
      "execution_count": null,
      "outputs": [
        {
          "output_type": "stream",
          "name": "stdout",
          "text": [
            "joonas\n",
            "joonas??!\n"
          ]
        }
      ]
    },
    {
      "cell_type": "code",
      "source": [
        "# 서기 연도를 알아보고 싶은 불기 연도 y가 주어진다. (1000 ≤ y ≤ 3000)\n",
        "\n",
        "n = int(input())\n",
        "\n",
        "if n == n:\n",
        "  print(n-543)"
      ],
      "metadata": {
        "colab": {
          "base_uri": "https://localhost:8080/"
        },
        "id": "jagcrKWzLZbv",
        "outputId": "7963ea79-c0cd-49c7-9b58-bfc1f22bf02b"
      },
      "execution_count": null,
      "outputs": [
        {
          "output_type": "stream",
          "name": "stdout",
          "text": [
            "2541\n",
            "1998\n"
          ]
        }
      ]
    },
    {
      "cell_type": "code",
      "source": [
        "# (1)과 (2)위치에 들어갈 세 자리 자연수가 주어질 때 (3), (4), (5), (6)위치에 들어갈 값을 구하는 프로그램을 작성하시오.\n",
        "\n",
        "a = int(input())\n",
        "b = int(input())\n",
        "\n",
        "one = b % 10\n",
        "two = b // 10 % 10\n",
        "three = b // 100\n",
        "\n",
        "print(a*one)\n",
        "print(a*two)\n",
        "print(a*three)\n",
        "print(a*b)"
      ],
      "metadata": {
        "colab": {
          "base_uri": "https://localhost:8080/"
        },
        "id": "VhQMVQtXM96Y",
        "outputId": "ccc203f9-4221-4580-8ed8-1b34b3fcca55"
      },
      "execution_count": null,
      "outputs": [
        {
          "output_type": "stream",
          "name": "stdout",
          "text": [
            "472\n",
            "385\n",
            "2360\n",
            "3776\n",
            "1416\n",
            "181720\n"
          ]
        }
      ]
    },
    {
      "cell_type": "code",
      "source": [
        "## N을 입력받은 뒤, 구구단 N단을 출력하는 프로그램을 작성하시오. 출력 형식에 맞춰서 출력하면 된다.\n",
        "\n",
        "n = int(input())\n",
        "\n",
        "for i in range(1, 10):\n",
        "    print(n, \"*\", i, \"=\", n*i)\n",
        "\n",
        "    if i == n:\n",
        "      break\n",
        "\n"
      ],
      "metadata": {
        "id": "kFcQwiRWP3lC",
        "colab": {
          "base_uri": "https://localhost:8080/"
        },
        "outputId": "afb596e6-47b2-49e7-d808-d2ddefb89ab3"
      },
      "execution_count": null,
      "outputs": [
        {
          "output_type": "stream",
          "name": "stdout",
          "text": [
            "5\n",
            "5 * 1 = 5\n",
            "5 * 2 = 10\n",
            "5 * 3 = 15\n",
            "5 * 4 = 20\n",
            "5 * 5 = 25\n"
          ]
        }
      ]
    },
    {
      "cell_type": "code",
      "source": [
        "# 자연수 N이 주어졌을 때, 1부터 N까지 한 줄에 하나씩 출력하는 프로그램을 작성하시오.\n",
        "\n",
        "n = int(input())\n",
        "\n",
        "for i in range(1,n+1):\n",
        "    print(i)"
      ],
      "metadata": {
        "colab": {
          "base_uri": "https://localhost:8080/"
        },
        "id": "eiZSuTnviqzb",
        "outputId": "96d78da4-375c-4e5f-f200-814ecd2e9e23"
      },
      "execution_count": null,
      "outputs": [
        {
          "output_type": "stream",
          "name": "stdout",
          "text": [
            "5\n",
            "1\n",
            "2\n",
            "3\n",
            "4\n",
            "5\n"
          ]
        }
      ]
    },
    {
      "cell_type": "code",
      "source": [
        "# 아래 예제와 같이 고양이를 출력하시오.\n",
        "\n",
        "print(\"\\    /\\\\\"\"\")\n",
        "print(\" )  ( ')\")\n",
        "print(\"(  /  )\")\n",
        "print(\" \\(__)|\")"
      ],
      "metadata": {
        "colab": {
          "base_uri": "https://localhost:8080/"
        },
        "id": "eg8aQFNsjpJ-",
        "outputId": "61739469-99be-4845-f4c3-a9e609db6ba4"
      },
      "execution_count": null,
      "outputs": [
        {
          "output_type": "stream",
          "name": "stdout",
          "text": [
            "\\    /\\\n",
            " )  ( ')\n",
            "(  /  )\n",
            " \\(__)|\n"
          ]
        }
      ]
    },
    {
      "cell_type": "code",
      "source": [
        "# 아래 예제와 같이 개를 출력하시오.\n",
        "\n",
        "print(\"|\\_/|\")\n",
        "print(\"|q p|   /}\")\n",
        "print('( 0 )\"\"\"\\\\')\n",
        "print('|\"^\"`    |')\n",
        "print(\"||_/=\\\\\\__|\")\n"
      ],
      "metadata": {
        "colab": {
          "base_uri": "https://localhost:8080/"
        },
        "id": "ps77jfcuHelt",
        "outputId": "5c4bfafc-f4dd-4be6-c96c-1ec7b33b7df7"
      },
      "execution_count": null,
      "outputs": [
        {
          "output_type": "stream",
          "name": "stdout",
          "text": [
            "|\\_/|\n",
            "|q p|   /}\n",
            "( 0 )\"\"\"\\\n",
            "|\"^\"`    |\n",
            "||_/=\\\\__|\n"
          ]
        }
      ]
    },
    {
      "cell_type": "code",
      "source": [
        "# 연도가 주어졌을 때, 윤년이면 1, 아니면 0을 출력하는 프로그램을 작성하시오.\n",
        "\n",
        "year = int(input())\n",
        "\n",
        "if (1 <= year <= 4000):\n",
        "  if (year % 4) or (year % 100) or (year % 400):\n",
        "        print('1')\n",
        "  else:\n",
        "      print('0')"
      ],
      "metadata": {
        "colab": {
          "base_uri": "https://localhost:8080/"
        },
        "id": "HjWSsOFiKTN3",
        "outputId": "b070f9e7-9a52-4e34-c579-0900f41459d5"
      },
      "execution_count": null,
      "outputs": [
        {
          "output_type": "stream",
          "name": "stdout",
          "text": [
            "2004\n",
            "1\n"
          ]
        }
      ]
    },
    {
      "cell_type": "code",
      "source": [
        "# 3 つの整数 A, B, C が与えられる．\n",
        "# 3 つの値の合計が 21 以下なら 1 を，そうでないなら 0 を出力せよ．\n",
        "\n",
        "a = int(input())\n",
        "b = int(input())\n",
        "c = int(input())\n",
        "\n",
        "sum = a + b + c\n",
        "\n",
        "if sum <= 21:\n",
        "    print('1')\n",
        "else:\n",
        "    print('0')"
      ],
      "metadata": {
        "colab": {
          "base_uri": "https://localhost:8080/"
        },
        "id": "bpWb3Vb0Vhpg",
        "outputId": "4d50503a-511d-47e5-eeec-4f7cf40f6f64"
      },
      "execution_count": null,
      "outputs": [
        {
          "output_type": "stream",
          "name": "stdout",
          "text": [
            "7\n",
            "8\n",
            "13\n",
            "0\n"
          ]
        }
      ]
    },
    {
      "cell_type": "code",
      "source": [
        "# 비타로는 1000엔 지폐를 A 장, 10000엔 지폐를 B 매 가지고 있다. 전부 얼마를 가지고 있는지 출력하라.\n",
        "\n",
        "a = int(input())\n",
        "b = int(input())\n",
        "\n",
        "print(1000 * a + 10000 * b)"
      ],
      "metadata": {
        "colab": {
          "base_uri": "https://localhost:8080/"
        },
        "id": "EJbgaCKAb-0e",
        "outputId": "75660a16-fa04-44da-ff18-e919bbfceb0e"
      },
      "execution_count": null,
      "outputs": [
        {
          "output_type": "stream",
          "name": "stdout",
          "text": [
            "7\n",
            "2\n",
            "27000\n"
          ]
        }
      ]
    },
    {
      "cell_type": "code",
      "source": [
        "# 백준 16170번\n",
        "## 지금 시각을 UTC+0(세계 표준시)을 기준으로 나타냈을 때의 연도, 월, 일을 한 줄에 하나씩 순서대로 출력한다.\n",
        "\n",
        "from datetime import datetime\n",
        "\n",
        "datetime.today().year\n",
        "datetime.today().month\n",
        "datetime.today().day\n",
        "\n",
        "print(datetime.today().year)\n",
        "print(datetime.today().month)\n",
        "print(datetime.today().day)\n"
      ],
      "metadata": {
        "colab": {
          "base_uri": "https://localhost:8080/"
        },
        "id": "RSTo0MA2hNtW",
        "outputId": "58dca094-12a6-40b8-c088-109a1decedaf"
      },
      "execution_count": null,
      "outputs": [
        {
          "output_type": "stream",
          "name": "stdout",
          "text": [
            "2025\n",
            "4\n",
            "10\n"
          ]
        }
      ]
    },
    {
      "cell_type": "code",
      "source": [
        "# 장훈이형 문제 2\n",
        "# 숫자를 입력했을때 그 숫자의 자릿수가 출력되게\n",
        "# ex) 367 -> 3, 123456789 -> 9, 7 -> 1\n",
        "\n",
        "n = int(input()) # 값 입력\n",
        "count = 0 # 초기값 설정\n",
        "\n",
        "while(n != 0): # n이 0이 아닐 때\n",
        "  n1 = n % 10 # n의 나머지 값을 n1에 넣음\n",
        "  if n1 % 1 == 0: # 만약 n1을 1로 나눴을 때 나머지가 0이라면\n",
        "    count += 1  # count에 1을 추가해서 값을 넣어줌\n",
        "\n",
        "  n = n // 10 # 십의 자리가 백의 자리를 구하기 위해서 n을 10으로 나눠 n에 넣어줌\n",
        "\n",
        "print(count) # 지금 까지 추가된 count값 추가\n"
      ],
      "metadata": {
        "id": "zPaanTBDckPN",
        "colab": {
          "base_uri": "https://localhost:8080/"
        },
        "outputId": "b7d01968-f813-4556-fcfc-0a27b9ba6c52"
      },
      "execution_count": null,
      "outputs": [
        {
          "output_type": "stream",
          "name": "stdout",
          "text": [
            "123456789\n",
            "9\n"
          ]
        }
      ]
    },
    {
      "cell_type": "code",
      "source": [
        "n = int(input())\n",
        "count = 0\n",
        "\n",
        "while(n != 0):\n",
        "    count += 1\n",
        "    n = n // 10\n",
        "print(count)"
      ],
      "metadata": {
        "id": "tmfzkVUOnYNx",
        "colab": {
          "base_uri": "https://localhost:8080/"
        },
        "outputId": "e8819b5e-e3ac-4120-9a37-69ee3cc8519d"
      },
      "execution_count": null,
      "outputs": [
        {
          "output_type": "stream",
          "name": "stdout",
          "text": [
            "7\n",
            "1\n"
          ]
        }
      ]
    },
    {
      "cell_type": "code",
      "source": [
        "# 백준 30676\n",
        "# 계기판에 표시된 별빛의 파장 $\\lambda$ 가 주어진다. 파장은 항상 정수로 주어지며 단위는 $\\textrm{nm}$이다. $(380 \\leq \\lambda \\leq 780)$\n",
        "\n",
        "n = int(input())\n",
        "\n",
        "if n >= 620 and n <= 780:\n",
        "    print('Red')\n",
        "\n",
        "if n >= 590 and n < 620:\n",
        "    print('Orange')\n",
        "\n",
        "if n >= 570 and n < 590:\n",
        "    print('Yellow')\n",
        "\n",
        "if n >= 495 and n < 570:\n",
        "    print('Green')\n",
        "\n",
        "if n >= 450 and n < 495:\n",
        "    print('Blue')\n",
        "\n",
        "if n >= 425 and n < 450:\n",
        "    print('Indigo')\n",
        "\n",
        "if n >= 380 and n < 425:\n",
        "    print('Violet')"
      ],
      "metadata": {
        "colab": {
          "base_uri": "https://localhost:8080/"
        },
        "id": "3q0JWThUVSTF",
        "outputId": "382df48f-6fa9-4cb0-926b-7547dd64845e"
      },
      "execution_count": null,
      "outputs": [
        {
          "output_type": "stream",
          "name": "stdout",
          "text": [
            "516\n",
            "Green\n"
          ]
        }
      ]
    },
    {
      "cell_type": "code",
      "source": [
        "# 백준 31610\n",
        "# 1 個 A 円の飴を B 個と，C 円の袋を 1 つ買う．合計金額はいくらか求めよ．\n",
        "\n",
        "A = int(input())\n",
        "B = int(input())\n",
        "C = int(input())\n",
        "\n",
        "print(A*B+C)\n"
      ],
      "metadata": {
        "colab": {
          "base_uri": "https://localhost:8080/"
        },
        "id": "NqEhh2IjV-be",
        "outputId": "c81ef610-8894-4bde-d26e-4c732cc6102c"
      },
      "execution_count": null,
      "outputs": [
        {
          "output_type": "stream",
          "name": "stdout",
          "text": [
            "70\n",
            "2\n",
            "100\n",
            "240\n"
          ]
        }
      ]
    },
    {
      "cell_type": "code",
      "source": [
        "# 백준 27327\n",
        "# 1 日は 24 時間である．\n",
        "# 整数 X が与えられる． X 日は何時間か求めよ．\n",
        "\n",
        "x = int(input())\n",
        "\n",
        "print(x*24)"
      ],
      "metadata": {
        "colab": {
          "base_uri": "https://localhost:8080/"
        },
        "id": "YIfv56poYaA0",
        "outputId": "e84e7a6c-ebed-4d80-c075-5f7895721f80"
      },
      "execution_count": null,
      "outputs": [
        {
          "output_type": "stream",
          "name": "stdout",
          "text": [
            "100\n",
            "2400\n"
          ]
        }
      ]
    },
    {
      "cell_type": "code",
      "source": [
        "# 백준 27328\n",
        "# 三方比較 (Three-Way Comparison)\n",
        "# 2 つの整数 A, B が与えられる．\n",
        "# A と B の大小を比較し，A ＜ B ならば -1 を，A ＝ B ならば 0 を，A ＞ B ならば 1 を出力せよ\n",
        "\n",
        "a = int(input())\n",
        "b = int(input())\n",
        "\n",
        "if a < b:\n",
        "    print('-1')\n",
        "\n",
        "if a == b:\n",
        "    print('0')\n",
        "\n",
        "if a > b:\n",
        "    print('1')"
      ],
      "metadata": {
        "id": "WI_3utfvmiam",
        "colab": {
          "base_uri": "https://localhost:8080/"
        },
        "outputId": "6ad87e74-6555-4058-d3b9-74ab6d5efb6c"
      },
      "execution_count": null,
      "outputs": [
        {
          "output_type": "stream",
          "name": "stdout",
          "text": [
            "1000\n",
            "1\n",
            "1\n"
          ]
        }
      ]
    },
    {
      "cell_type": "code",
      "source": [
        "# 백준 24078\n",
        "# X を 21 で割った余りを出力せよ．\n",
        "\n",
        "x = int(input())\n",
        "\n",
        "print(x % 21)"
      ],
      "metadata": {
        "colab": {
          "base_uri": "https://localhost:8080/"
        },
        "id": "rwBexDbCgK_x",
        "outputId": "e295aa2c-fb7d-417b-94cc-b20a00b607dc"
      },
      "execution_count": null,
      "outputs": [
        {
          "output_type": "stream",
          "name": "stdout",
          "text": [
            "50\n",
            "8\n"
          ]
        }
      ]
    },
    {
      "cell_type": "code",
      "source": [
        "# 백준 31606\n",
        "# リンゴとミカンとバナナが合わせて何個あるか，単位 (個) を省いて出力せよ．\n",
        "# 結果以外は何も出力しないこと．(入力を促す文章なども出力しないこと．)\n",
        "\n",
        "x = int(input())\n",
        "y = int(input())\n",
        "z = 3\n",
        "\n",
        "print(x+y+z)"
      ],
      "metadata": {
        "colab": {
          "base_uri": "https://localhost:8080/"
        },
        "id": "4_cIJaw6hoGf",
        "outputId": "03df2e54-c4c6-44da-a3e3-66ca03ba1aec"
      },
      "execution_count": null,
      "outputs": [
        {
          "output_type": "stream",
          "name": "stdout",
          "text": [
            "2\n",
            "4\n",
            "9\n"
          ]
        }
      ]
    },
    {
      "cell_type": "code",
      "source": [
        "# 백준 27324\n",
        "# 十進法で 2 桁の整数 N が与えられる．\n",
        "# N の十の位の数字と一の位の数字が同じである場合は 1 を，そうでない場合は 0 を出力せよ．\n",
        "\n",
        "n = int(input())\n",
        "count = 0\n",
        "\n",
        "n1 = n % 10\n",
        "n2 = n // 10\n",
        "\n",
        "if n1 == n2:\n",
        "    count += 1\n",
        "\n",
        "print(count)"
      ],
      "metadata": {
        "id": "EQKhqEyBmJbu",
        "colab": {
          "base_uri": "https://localhost:8080/"
        },
        "outputId": "ea035851-78a4-4e88-e5ca-cd89ef609e5b"
      },
      "execution_count": null,
      "outputs": [
        {
          "output_type": "stream",
          "name": "stdout",
          "text": [
            "22\n",
            "1\n"
          ]
        }
      ]
    },
    {
      "cell_type": "code",
      "source": [
        "# 백준 31654\n",
        "# Output either correct! if $A + B = C$, or wrong! if $A + B \\ne C$.\n",
        "\n",
        "A, B, C = map(int,input().split())\n",
        "\n",
        "if A + B == C:\n",
        "    print(\"correct!\")\n",
        "else :\n",
        "    print(\"worng!\")\n",
        "\n"
      ],
      "metadata": {
        "colab": {
          "base_uri": "https://localhost:8080/"
        },
        "id": "Ud0oyyWAe6uQ",
        "outputId": "aa3f9fdc-5046-4929-d59f-e0d343f19d14"
      },
      "execution_count": null,
      "outputs": [
        {
          "output_type": "stream",
          "name": "stdout",
          "text": [
            "2 3 5\n",
            "correct!\n"
          ]
        }
      ]
    },
    {
      "cell_type": "code",
      "source": [
        "A, B, C = input().split()\n",
        "\n",
        "A = int(A)\n",
        "B = int(B)\n",
        "C = int(C)\n",
        "\n",
        "if A + B == C :\n",
        "    print(\"correct!\")\n",
        "else :\n",
        "    print(\"wrong!\")"
      ],
      "metadata": {
        "colab": {
          "base_uri": "https://localhost:8080/"
        },
        "id": "P21Tm7cGhO8K",
        "outputId": "619791ef-8496-4305-df16-49f365f89647"
      },
      "execution_count": null,
      "outputs": [
        {
          "output_type": "stream",
          "name": "stdout",
          "text": [
            "2 3 5\n",
            "correct!\n"
          ]
        }
      ]
    },
    {
      "cell_type": "markdown",
      "source": [
        "## 4월 20일"
      ],
      "metadata": {
        "id": "ce_4S3jQaXHb"
      }
    },
    {
      "cell_type": "code",
      "source": [
        "# 백준 1237\n",
        "# 첫째 줄에 문제의 정답을 출력한다.\n",
        "\n",
        "print('문제의 정답')\n"
      ],
      "metadata": {
        "id": "_eDPf9yclvnL",
        "colab": {
          "base_uri": "https://localhost:8080/"
        },
        "outputId": "8141bdb3-705c-492e-da11-c1bb97272a29"
      },
      "execution_count": null,
      "outputs": [
        {
          "output_type": "stream",
          "name": "stdout",
          "text": [
            "문제의 정답\n"
          ]
        }
      ]
    },
    {
      "cell_type": "code",
      "source": [
        "# 백준 24883\n",
        "# 주어진 알파벳이 N 또는 n 이면 \"Naver D2\", 아니라면 \"Naver Whale\"을 따옴표를 제외하고 출력한다.\n",
        "\n",
        "n = input()\n",
        "\n",
        "if n == 'N' or n == 'n':\n",
        "    print('Naver D2')\n",
        "else:\n",
        "    print('Naver Whale')"
      ],
      "metadata": {
        "id": "UQsRKQ1MbNEn",
        "colab": {
          "base_uri": "https://localhost:8080/"
        },
        "outputId": "d9896ac5-7941-40c4-825f-7a0781f1a9d4"
      },
      "execution_count": null,
      "outputs": [
        {
          "output_type": "stream",
          "name": "stdout",
          "text": [
            "A\n",
            "Naver Whale\n"
          ]
        }
      ]
    },
    {
      "cell_type": "markdown",
      "source": [
        "## 4월 21일"
      ],
      "metadata": {
        "id": "9RuRq7Fm1TuU"
      }
    },
    {
      "cell_type": "code",
      "source": [
        "# 백준 32458\n",
        "# 출력은 입력 숫자의 바닥인 단일 정수여야 합니다.$x$소수점을 출력하지 마세요.\n",
        "\n",
        "n = float(input())\n",
        "\n",
        "print(int(n))"
      ],
      "metadata": {
        "colab": {
          "base_uri": "https://localhost:8080/"
        },
        "id": "WQgeHT_fpF30",
        "outputId": "d3c645e0-8b85-4e11-a54c-efbe90b4544c"
      },
      "execution_count": null,
      "outputs": [
        {
          "output_type": "stream",
          "name": "stdout",
          "text": [
            "2.00000\n",
            "2\n"
          ]
        }
      ]
    },
    {
      "cell_type": "code",
      "source": [
        "# 백준 32326\n",
        "# 식사 비용을 달러로 나타낸 음이 아닌 정수 C를 출력합니다.\n",
        "\n",
        "gim = int(input())\n",
        "sushi = int(input())\n",
        "sushi2 = int(input())\n",
        "\n",
        "red = 3\n",
        "green = 4\n",
        "blue = 5\n",
        "\n",
        "print(gim*3+sushi*4+sushi2*5)"
      ],
      "metadata": {
        "id": "dLsqr0Fmsy1J",
        "colab": {
          "base_uri": "https://localhost:8080/"
        },
        "outputId": "db74d71b-eddd-473d-dfb4-71c4546ae83b"
      },
      "execution_count": null,
      "outputs": [
        {
          "output_type": "stream",
          "name": "stdout",
          "text": [
            "0\n",
            "2\n",
            "4\n",
            "28\n"
          ]
        }
      ]
    },
    {
      "cell_type": "markdown",
      "source": [
        "## 4월 22일"
      ],
      "metadata": {
        "id": "T4bmzarK7eLE"
      }
    },
    {
      "cell_type": "code",
      "source": [
        "# 백준 8545\n",
        "# 주어진 세 글자 단어를 뒤집어서 출력하는 프로그램을 작성하세요.\n",
        "\n",
        "n = input()\n",
        "\n",
        "print(n[::-1])"
      ],
      "metadata": {
        "id": "f0bNF5RT2YxH",
        "colab": {
          "base_uri": "https://localhost:8080/"
        },
        "outputId": "1c308723-2c4d-4c9a-b476-bafccd003d0c"
      },
      "execution_count": null,
      "outputs": [
        {
          "output_type": "stream",
          "name": "stdout",
          "text": [
            "abc\n",
            "cba\n"
          ]
        }
      ]
    },
    {
      "cell_type": "code",
      "source": [
        "# 백준 28691\n",
        "# 첫 줄에 민재가 생각하는 동아리의 전체 이름을 대소문자를 구분하여 출력해 보자.\n",
        "\n",
        "n = input()\n",
        "\n",
        "if n == 'M':\n",
        "    print('MatKor')\n",
        "\n",
        "elif n == 'W':\n",
        "    print('WiCys')\n",
        "\n",
        "elif n == 'C':\n",
        "    print('CyKor')\n",
        "\n",
        "elif n == 'A':\n",
        "    print('AlKor')\n",
        "\n",
        "elif n == '$':\n",
        "    print('$clear')\n"
      ],
      "metadata": {
        "colab": {
          "base_uri": "https://localhost:8080/"
        },
        "id": "DubHm3YN7pwe",
        "outputId": "f9032d95-042b-44b1-c005-d77ad4625592"
      },
      "execution_count": null,
      "outputs": [
        {
          "output_type": "stream",
          "name": "stdout",
          "text": [
            "$\n",
            "$clear\n"
          ]
        }
      ]
    },
    {
      "cell_type": "markdown",
      "source": [
        "## 4월 27일"
      ],
      "metadata": {
        "id": "D8HxnUbWPyZ4"
      }
    },
    {
      "cell_type": "code",
      "source": [
        "# 백준 3003번\n",
        "# 동혁이가 발견한 흰색 피스의 개수가 주어졌을 때, 몇 개를 더하거나 빼야 올바른 세트가 되는지 구하는 프로그램을 작성하시오.\n",
        "\n",
        "n = list(map(int, input().split()))\n",
        "\n",
        "standard = [1, 1, 2, 2, 2, 8]\n",
        "\n",
        "for i in range(6):\n",
        "    print(standard[i] - n[i], end=' ')"
      ],
      "metadata": {
        "id": "I2TIkPA_8LX-",
        "colab": {
          "base_uri": "https://localhost:8080/",
          "height": 373
        },
        "outputId": "d0503222-4247-4eda-ffe3-6a60b13ac30b"
      },
      "execution_count": null,
      "outputs": [
        {
          "output_type": "error",
          "ename": "KeyboardInterrupt",
          "evalue": "Interrupted by user",
          "traceback": [
            "\u001b[0;31m---------------------------------------------------------------------------\u001b[0m",
            "\u001b[0;31mKeyboardInterrupt\u001b[0m                         Traceback (most recent call last)",
            "\u001b[0;32m<ipython-input-3-bd375fb1b632>\u001b[0m in \u001b[0;36m<cell line: 0>\u001b[0;34m()\u001b[0m\n\u001b[1;32m      2\u001b[0m \u001b[0;31m# 동혁이가 발견한 흰색 피스의 개수가 주어졌을 때, 몇 개를 더하거나 빼야 올바른 세트가 되는지 구하는 프로그램을 작성하시오.\u001b[0m\u001b[0;34m\u001b[0m\u001b[0;34m\u001b[0m\u001b[0m\n\u001b[1;32m      3\u001b[0m \u001b[0;34m\u001b[0m\u001b[0m\n\u001b[0;32m----> 4\u001b[0;31m \u001b[0mn\u001b[0m \u001b[0;34m=\u001b[0m \u001b[0mlist\u001b[0m\u001b[0;34m(\u001b[0m\u001b[0mmap\u001b[0m\u001b[0;34m(\u001b[0m\u001b[0mint\u001b[0m\u001b[0;34m,\u001b[0m \u001b[0minput\u001b[0m\u001b[0;34m(\u001b[0m\u001b[0;34m)\u001b[0m\u001b[0;34m.\u001b[0m\u001b[0msplit\u001b[0m\u001b[0;34m(\u001b[0m\u001b[0;34m)\u001b[0m\u001b[0;34m)\u001b[0m\u001b[0;34m)\u001b[0m\u001b[0;34m\u001b[0m\u001b[0;34m\u001b[0m\u001b[0m\n\u001b[0m\u001b[1;32m      5\u001b[0m \u001b[0;34m\u001b[0m\u001b[0m\n\u001b[1;32m      6\u001b[0m \u001b[0mstandard\u001b[0m \u001b[0;34m=\u001b[0m \u001b[0;34m[\u001b[0m\u001b[0;36m1\u001b[0m\u001b[0;34m,\u001b[0m \u001b[0;36m1\u001b[0m\u001b[0;34m,\u001b[0m \u001b[0;36m2\u001b[0m\u001b[0;34m,\u001b[0m \u001b[0;36m2\u001b[0m\u001b[0;34m,\u001b[0m \u001b[0;36m2\u001b[0m\u001b[0;34m,\u001b[0m \u001b[0;36m8\u001b[0m\u001b[0;34m]\u001b[0m\u001b[0;34m\u001b[0m\u001b[0;34m\u001b[0m\u001b[0m\n",
            "\u001b[0;32m/usr/local/lib/python3.11/dist-packages/ipykernel/kernelbase.py\u001b[0m in \u001b[0;36mraw_input\u001b[0;34m(self, prompt)\u001b[0m\n\u001b[1;32m   1175\u001b[0m                 \u001b[0;34m\"raw_input was called, but this frontend does not support input requests.\"\u001b[0m\u001b[0;34m\u001b[0m\u001b[0;34m\u001b[0m\u001b[0m\n\u001b[1;32m   1176\u001b[0m             )\n\u001b[0;32m-> 1177\u001b[0;31m         return self._input_request(\n\u001b[0m\u001b[1;32m   1178\u001b[0m             \u001b[0mstr\u001b[0m\u001b[0;34m(\u001b[0m\u001b[0mprompt\u001b[0m\u001b[0;34m)\u001b[0m\u001b[0;34m,\u001b[0m\u001b[0;34m\u001b[0m\u001b[0;34m\u001b[0m\u001b[0m\n\u001b[1;32m   1179\u001b[0m             \u001b[0mself\u001b[0m\u001b[0;34m.\u001b[0m\u001b[0m_parent_ident\u001b[0m\u001b[0;34m[\u001b[0m\u001b[0;34m\"shell\"\u001b[0m\u001b[0;34m]\u001b[0m\u001b[0;34m,\u001b[0m\u001b[0;34m\u001b[0m\u001b[0;34m\u001b[0m\u001b[0m\n",
            "\u001b[0;32m/usr/local/lib/python3.11/dist-packages/ipykernel/kernelbase.py\u001b[0m in \u001b[0;36m_input_request\u001b[0;34m(self, prompt, ident, parent, password)\u001b[0m\n\u001b[1;32m   1217\u001b[0m             \u001b[0;32mexcept\u001b[0m \u001b[0mKeyboardInterrupt\u001b[0m\u001b[0;34m:\u001b[0m\u001b[0;34m\u001b[0m\u001b[0;34m\u001b[0m\u001b[0m\n\u001b[1;32m   1218\u001b[0m                 \u001b[0;31m# re-raise KeyboardInterrupt, to truncate traceback\u001b[0m\u001b[0;34m\u001b[0m\u001b[0;34m\u001b[0m\u001b[0m\n\u001b[0;32m-> 1219\u001b[0;31m                 \u001b[0;32mraise\u001b[0m \u001b[0mKeyboardInterrupt\u001b[0m\u001b[0;34m(\u001b[0m\u001b[0;34m\"Interrupted by user\"\u001b[0m\u001b[0;34m)\u001b[0m \u001b[0;32mfrom\u001b[0m \u001b[0;32mNone\u001b[0m\u001b[0;34m\u001b[0m\u001b[0;34m\u001b[0m\u001b[0m\n\u001b[0m\u001b[1;32m   1220\u001b[0m             \u001b[0;32mexcept\u001b[0m \u001b[0mException\u001b[0m\u001b[0;34m:\u001b[0m\u001b[0;34m\u001b[0m\u001b[0;34m\u001b[0m\u001b[0m\n\u001b[1;32m   1221\u001b[0m                 \u001b[0mself\u001b[0m\u001b[0;34m.\u001b[0m\u001b[0mlog\u001b[0m\u001b[0;34m.\u001b[0m\u001b[0mwarning\u001b[0m\u001b[0;34m(\u001b[0m\u001b[0;34m\"Invalid Message:\"\u001b[0m\u001b[0;34m,\u001b[0m \u001b[0mexc_info\u001b[0m\u001b[0;34m=\u001b[0m\u001b[0;32mTrue\u001b[0m\u001b[0;34m)\u001b[0m\u001b[0;34m\u001b[0m\u001b[0;34m\u001b[0m\u001b[0m\n",
            "\u001b[0;31mKeyboardInterrupt\u001b[0m: Interrupted by user"
          ]
        }
      ]
    },
    {
      "cell_type": "code",
      "source": [
        "# 백준 4999\n",
        "# 입력은 두 줄로 이루어져 있다. 첫째 줄은 재환이가 가장 길게 낼 수 있는 \"aaah\"이다.\n",
        "# 둘째 줄은 의사가 듣기를 원하는 \"aah\"이다. 두 문자열은 모두 a와 h로만 이루어져 있다.\n",
        "# a의 개수는 0보다 크거나 같고, 999보다 작거나 같으며, 항상 h는 마지막에 하나만 주어진다.\n",
        "\n",
        "first = input()\n",
        "second = input()\n",
        "\n",
        "if first.count('a') >= second.count('a'):\n",
        "    print('go')\n",
        "else:\n",
        "    print('no')"
      ],
      "metadata": {
        "id": "N5MeieqwIcon",
        "colab": {
          "base_uri": "https://localhost:8080/"
        },
        "outputId": "ec93df1a-4f64-472b-a59b-b801c2b2a060"
      },
      "execution_count": null,
      "outputs": [
        {
          "output_type": "stream",
          "name": "stdout",
          "text": [
            "aaah\n",
            "aaaaah\n",
            "No\n"
          ]
        }
      ]
    },
    {
      "cell_type": "markdown",
      "source": [
        "## 4월 30일"
      ],
      "metadata": {
        "id": "MncycU4yPYXr"
      }
    },
    {
      "cell_type": "code",
      "source": [
        "# 백준 : 6840\n",
        "# 골디락스와 곰 세 마리 이야기에서 곰들은 각자 좋아하는 의자에 앉아 죽을 한 그릇씩 먹었습니다.\n",
        "# 이야기에서 언급하지 않은 것은 골디락스가 그릇들을 테이블 위에서 이리저리 옮겨 놓아 그릇들이 제자리에 있지 않았다는 것입니다.\n",
        "# 그릇들은 무게 순으로 정렬할 수 있는데, 가장 가벼운 그릇이 아기 곰의 그릇, 중간 무게가 엄마 곰의 그릇, 가장 무거운 그릇이 아빠 곰의 그릇입니다.\n",
        "# 세 가지 무게 값을 입력받아 엄마 곰의 그릇 무게를 출력하는 프로그램을 작성하세요.\n",
        "\n",
        "child = int(input())\n",
        "mom = int(input())\n",
        "father = int(input())\n",
        "\n",
        "n = [child, mom, father]\n",
        "\n",
        "sorted_nums = sorted(n)\n",
        "print(sorted_nums[1])"
      ],
      "metadata": {
        "id": "V9nRu-hH-ns0",
        "colab": {
          "base_uri": "https://localhost:8080/"
        },
        "outputId": "4ad0b77e-a2aa-493c-b912-cbf5996d972d"
      },
      "execution_count": null,
      "outputs": [
        {
          "output_type": "stream",
          "name": "stdout",
          "text": [
            "10\n",
            "5\n",
            "8\n",
            "8\n"
          ]
        }
      ]
    },
    {
      "cell_type": "markdown",
      "source": [
        "## 5월 1일"
      ],
      "metadata": {
        "id": "PPqLu7kyU7FR"
      }
    },
    {
      "cell_type": "code",
      "source": [
        "# 백준 10807\n",
        "# 총 N개의 정수가 주어졌을 때, 정수 v가 몇 개인지 구하는 프로그램을 작성하시오.\n",
        "\n",
        "N = int(input())\n",
        "\n",
        "numbers = list(map(int, input().split()))\n",
        "\n",
        "v = int(input())\n",
        "\n",
        "print(numbers.count(v))\n"
      ],
      "metadata": {
        "colab": {
          "base_uri": "https://localhost:8080/"
        },
        "id": "o5hvOabXTXmQ",
        "outputId": "20d7fd87-1ac3-466e-93b5-b501f80d7ae3"
      },
      "execution_count": null,
      "outputs": [
        {
          "output_type": "stream",
          "name": "stdout",
          "text": [
            "11\n",
            "1 4 1 2 4 2 4 2 3 4 4\n",
            "2\n",
            "3\n"
          ]
        }
      ]
    },
    {
      "cell_type": "markdown",
      "source": [
        "## 5월 4일"
      ],
      "metadata": {
        "id": "Q6W163H07Wnl"
      }
    },
    {
      "cell_type": "code",
      "source": [
        "# 백준: 5522\n",
        "# JOI군은 카드 게임을 하고 있다. 이 카드 게임은 5회의 게임으로 진행되며, 그 총점으로 승부를 하는 게임이다.\n",
        "# JOI군의 각 게임의 득점을 나타내는 정수가 주어졌을 때, JOI군의 총점을 구하는 프로그램을 작성하라.\n",
        "# 표준 출력에 JOI군의 총점을 한 줄로 출력하라.\n",
        "a = int(input())\n",
        "b = int(input())\n",
        "c = int(input())\n",
        "d = int(input())\n",
        "e = int(input())\n",
        "\n",
        "print(a+b+c+d+e)\n"
      ],
      "metadata": {
        "id": "TR_LH6YsTytp",
        "colab": {
          "base_uri": "https://localhost:8080/"
        },
        "outputId": "a7a9aa7d-2526-4381-b596-fe11ee58337a"
      },
      "execution_count": null,
      "outputs": [
        {
          "output_type": "stream",
          "name": "stdout",
          "text": [
            "1\n",
            "2\n",
            "3\n",
            "4\n",
            "5\n",
            "15\n"
          ]
        }
      ]
    },
    {
      "cell_type": "code",
      "source": [
        "# 백준 14645\n",
        "# 첫 줄에 출발역과 종착역을 제외한 정거장의 수 N(1 ≤ N ≤ 100,000)과\n",
        "# 출발역에서 탑승하는 사람의 수 K(1 ≤ K ≤ 10,000)가 주어진다.\n",
        "# 둘째 줄부터 N개의 줄에 걸쳐 각 줄마다 i번째 정거장에서 탑승하는 인원 A와\n",
        "# 하차하는 인원 B가 주어진다. (0 ≤ A, B ≤ 10,000)\n",
        "# 출력 : 종착역에 도착했을 때, 버스 운전수의 이름을 출력해라.\n",
        "\n",
        "N, K = map(int, input().split()) # 정거장 수 N, 출발 시 탑승 인원 K\n",
        "\n",
        "people = K # 현재 버스에 있는 사람 수\n",
        "\n",
        "for i in range(N): # N번 반복\n",
        "  A, B = map(int, input().split()) # 타는 인원 A, 내리는 인원 B\n",
        "  people -= B # 내림\n",
        "  people -= A # 탐\n",
        "\n",
        "print(\"비와이\")"
      ],
      "metadata": {
        "colab": {
          "base_uri": "https://localhost:8080/"
        },
        "id": "svlOMv1V_iC2",
        "outputId": "c404a1ef-87aa-4120-9487-82f0c1109343"
      },
      "execution_count": null,
      "outputs": [
        {
          "output_type": "stream",
          "name": "stdout",
          "text": [
            "3 2\n",
            "10 3\n",
            "21 8\n",
            "0 15\n",
            "비와이\n"
          ]
        }
      ]
    },
    {
      "cell_type": "markdown",
      "source": [
        "## 5월 6일"
      ],
      "metadata": {
        "id": "srcT4VYbAVyD"
      }
    },
    {
      "cell_type": "code",
      "source": [
        "# 백준 29751\n",
        "# 양의 정수 $W$, $H$가 주어진다. 밑변의 길이가 $W$이고, 높이가 $H$인 삼각형의 넓이를 구하시오.\n",
        "\n",
        "W, H = map(int,input().split())\n",
        "\n",
        "print((W*H) / 2)"
      ],
      "metadata": {
        "id": "lg1ChzWPCGNj",
        "colab": {
          "base_uri": "https://localhost:8080/"
        },
        "outputId": "00788d88-24f0-406e-9f98-2651e4f4bae9"
      },
      "execution_count": null,
      "outputs": [
        {
          "output_type": "stream",
          "name": "stdout",
          "text": [
            "1 1\n",
            "0.5\n"
          ]
        }
      ]
    },
    {
      "cell_type": "markdown",
      "source": [
        "## 5월 7일"
      ],
      "metadata": {
        "id": "-7tg6CESbXna"
      }
    },
    {
      "cell_type": "code",
      "source": [
        "# 백준 10430\n",
        "# 첫째 줄에 (A+B)%C, 둘째 줄에 ((A%C) + (B%C))%C, 셋째 줄에 (A×B)%C, 넷째 줄에 ((A%C) × (B%C))%C를 출력한다.\n",
        "\n",
        "A, B, C = map(int, input().split())\n",
        "\n",
        "print((A+B)%C)\n",
        "print(((A%C) + (B%C)) % C)\n",
        "print((A*B)%C)\n",
        "print(((A%C) * (B%C)) % C)"
      ],
      "metadata": {
        "id": "O6fzLDHYA2et",
        "colab": {
          "base_uri": "https://localhost:8080/"
        },
        "outputId": "6081b88d-d1b4-4cf8-849f-e493f7478c58"
      },
      "execution_count": null,
      "outputs": [
        {
          "output_type": "stream",
          "name": "stdout",
          "text": [
            "5 8 4\n",
            "1\n",
            "1\n",
            "0\n",
            "0\n"
          ]
        }
      ]
    },
    {
      "cell_type": "markdown",
      "source": [
        "## 5월 8일"
      ],
      "metadata": {
        "id": "FBJ9QEpRsqvJ"
      }
    },
    {
      "cell_type": "code",
      "source": [
        "# 백준 14681\n",
        "# 점의 좌표를 입력받아 그 점이 어느 사분면에 속하는지 알아내는 프로그램을 작성하시오. 단, x좌표와 y좌표는 모두 양수나 음수라고 가정한다.\n",
        "\n",
        "x = int(input())\n",
        "y = int(input())\n",
        "\n",
        "if (x > 0 and y > 0):\n",
        "  print(\"1\")\n",
        "\n",
        "elif (x < 0 and y > 0):\n",
        "  print(\"2\")\n",
        "\n",
        "elif (x < 0 and y < 0):\n",
        "  print(\"3\")\n",
        "\n",
        "elif (x > 0 and y < 0):\n",
        "  print(\"4\")"
      ],
      "metadata": {
        "id": "-UiBvmQ0gwOy",
        "colab": {
          "base_uri": "https://localhost:8080/"
        },
        "outputId": "3231d5dc-5c69-43ce-9637-6d0c361d9ac8"
      },
      "execution_count": null,
      "outputs": [
        {
          "output_type": "stream",
          "name": "stdout",
          "text": [
            "9\n",
            "-13\n",
            "4\n"
          ]
        }
      ]
    },
    {
      "cell_type": "markdown",
      "source": [
        "## 5월 13일"
      ],
      "metadata": {
        "id": "wvkaZ962Q1s9"
      }
    },
    {
      "cell_type": "code",
      "source": [
        "# 백준 10872번 – 팩토리얼\n",
        "# 자연수 N이 주어졌을 때, N! 값을 계산하는 문제\n",
        "\n",
        "n = int(input())\n",
        "\n",
        "def factorial(n):\n",
        "    if n == 0:\n",
        "        return 1\n",
        "    return n * factorial(n - 1)\n",
        "\n",
        "print(factorial(n))"
      ],
      "metadata": {
        "id": "J2ny9uyktTIH"
      },
      "execution_count": null,
      "outputs": []
    },
    {
      "cell_type": "code",
      "source": [
        "# 백준 15232\n",
        "# Read two integer numbers R and C from the standard input and then print R lines with C asterisks (*) each.\n",
        "\n",
        "R = int(input())\n",
        "C = int(input())\n",
        "\n",
        "for i in range(R):\n",
        "    for j in range(C):\n",
        "        print('*', end='')\n",
        "    print()"
      ],
      "metadata": {
        "colab": {
          "base_uri": "https://localhost:8080/"
        },
        "id": "KLz35vfRRCRT",
        "outputId": "5cb33175-81d3-460b-b707-1001e4c5daac"
      },
      "execution_count": null,
      "outputs": [
        {
          "output_type": "stream",
          "name": "stdout",
          "text": [
            "3\n",
            "5\n",
            "*****\n",
            "*****\n",
            "*****\n"
          ]
        }
      ]
    },
    {
      "cell_type": "markdown",
      "source": [
        "## 5월 14일"
      ],
      "metadata": {
        "id": "12-0ESL9dng6"
      }
    },
    {
      "cell_type": "code",
      "source": [
        "# 백준 28701\n",
        "# 입력된 세 줄을 출력하세요.\n",
        "\n",
        "n = int(input())\n",
        "\n",
        "sum = 0\n",
        "for i in range(1, n+1):\n",
        "    sum += i\n",
        "\n",
        "print(sum)\n",
        "print(sum**2)\n",
        "print(sum**2)"
      ],
      "metadata": {
        "id": "x8AxwyjlRdU8",
        "colab": {
          "base_uri": "https://localhost:8080/"
        },
        "outputId": "167bac9f-5683-4bc9-8a0a-352a515fa081"
      },
      "execution_count": null,
      "outputs": [
        {
          "output_type": "stream",
          "name": "stdout",
          "text": [
            "5\n",
            "15\n",
            "225\n",
            "225\n"
          ]
        }
      ]
    },
    {
      "cell_type": "code",
      "source": [
        "# 백준 21598\n",
        "# \"SciComLove\"를 예제와 같이 N번 출력합니다. 단, 따옴표는 출력하지 않습니다.\n",
        "\n",
        "n = int(input())\n",
        "\n",
        "if n == 1:\n",
        "    print('SciComLove')\n",
        "\n",
        "if n == 2:\n",
        "    print('SciComLove\\n' * 2)"
      ],
      "metadata": {
        "colab": {
          "base_uri": "https://localhost:8080/"
        },
        "id": "Rub0i9Xfebpi",
        "outputId": "150c0b8f-be8d-4a53-c320-98ee69b47d7e"
      },
      "execution_count": null,
      "outputs": [
        {
          "output_type": "stream",
          "name": "stdout",
          "text": [
            "2\n",
            "SciComLove\n",
            "SciComLove\n",
            "\n"
          ]
        }
      ]
    },
    {
      "cell_type": "markdown",
      "source": [
        "## 5월 15일"
      ],
      "metadata": {
        "id": "THg-4gs9yGKD"
      }
    },
    {
      "cell_type": "code",
      "source": [
        "# 백준 28235\n",
        "# 첫 번째 줄에 네 가지 구호 중 한 가지에 해당하는 문자열이 주어진다.\n",
        "\n",
        "n = input()\n",
        "\n",
        "if n == 'SONGDO':\n",
        "    print(\"HIGHSCHOOL\")\n",
        "\n",
        "if n == 'CODE':\n",
        "    print(\"MASTER\")\n",
        "\n",
        "if n == '2023':\n",
        "    print(\"0611\")\n",
        "\n",
        "if n == 'ALGORITHM':\n",
        "    print(\"CONTEST\")"
      ],
      "metadata": {
        "id": "9_2SpfL9nDxw",
        "colab": {
          "base_uri": "https://localhost:8080/"
        },
        "outputId": "15bb1371-46f4-4297-c9d1-63a39aedea1c"
      },
      "execution_count": null,
      "outputs": [
        {
          "output_type": "stream",
          "name": "stdout",
          "text": [
            "CODE\n",
            "MASTER\n"
          ]
        }
      ]
    },
    {
      "cell_type": "code",
      "source": [
        "# 백준 27323\n",
        "# 세로 길이가 A cm, 가로 길이가 B cm인 직사각형의 넓이를 cm2 단위로 구하고, 단위 (cm2)를 생략하여 출력한다.\n",
        "\n",
        "a = int(input())\n",
        "b = int(input())\n",
        "\n",
        "print(a*b)"
      ],
      "metadata": {
        "colab": {
          "base_uri": "https://localhost:8080/"
        },
        "id": "IkESqT5DwozN",
        "outputId": "984ae4df-efe5-49e7-ac3e-e36dc93fbd41"
      },
      "execution_count": null,
      "outputs": [
        {
          "output_type": "stream",
          "name": "stdout",
          "text": [
            "4\n",
            "4\n",
            "16\n"
          ]
        }
      ]
    },
    {
      "cell_type": "markdown",
      "source": [
        "## 5월 16일"
      ],
      "metadata": {
        "id": "WezG0hJsQf-7"
      }
    },
    {
      "cell_type": "code",
      "source": [
        "# 백준 33612\n",
        "# 첫째 줄에 $N$번째 피갤컵이 열리는 연도와 월을 공백을 두고 출력한다.\n",
        "\n",
        "n = int(input())\n",
        "\n",
        "start_year = 2024\n",
        "start_month = 8\n",
        "start_total_months = start_year * 12 + start_month\n",
        "\n",
        "passed_months = (n - 1) * 7\n",
        "\n",
        "target_total_months = start_total_months + passed_months\n",
        "\n",
        "year = target_total_months // 12\n",
        "month = target_total_months % 12\n",
        "\n",
        "if month == 0:\n",
        "    month = 12\n",
        "    year -= 1\n",
        "\n",
        "print(year, month)\n"
      ],
      "metadata": {
        "id": "To0rpV8K1k2L",
        "colab": {
          "base_uri": "https://localhost:8080/"
        },
        "outputId": "4f8246f2-4a38-42a2-b01e-72bd1f814043"
      },
      "execution_count": null,
      "outputs": [
        {
          "output_type": "stream",
          "name": "stdout",
          "text": [
            "1\n",
            "2024 8\n"
          ]
        }
      ]
    },
    {
      "cell_type": "markdown",
      "source": [
        "## 5월 17일"
      ],
      "metadata": {
        "id": "zDRPYSSkyo3g"
      }
    },
    {
      "cell_type": "code",
      "source": [
        "# 백준 7891\n",
        "# For each test case output output the sum of the corresponding integers.\n",
        "\n",
        "t = int(input())\n",
        "\n",
        "for i in range(t):\n",
        "    a, b = map(int, input().split())\n",
        "    print(a+b)"
      ],
      "metadata": {
        "id": "Dewp6A5Megca",
        "colab": {
          "base_uri": "https://localhost:8080/"
        },
        "outputId": "56064e46-0034-43d2-eebd-dcc49a78041c"
      },
      "execution_count": null,
      "outputs": [
        {
          "output_type": "stream",
          "name": "stdout",
          "text": [
            "4\n",
            "-100 100\n",
            "0\n",
            "2 3\n",
            "5\n",
            "0 110101\n",
            "110101\n",
            "-1000000000 1\n",
            "-999999999\n"
          ]
        }
      ]
    },
    {
      "cell_type": "code",
      "source": [
        "# 백준 24568\n",
        "# Output the number of cupcakes that are left over.\n",
        "\n",
        "R = int(input())\n",
        "S = int(input())\n",
        "\n",
        "student = 28\n",
        "\n",
        "cup = (R*8) + (S*3)\n",
        "\n",
        "print(cup - student)"
      ],
      "metadata": {
        "colab": {
          "base_uri": "https://localhost:8080/"
        },
        "id": "6QQfeitozQXj",
        "outputId": "eb98e15a-c7a7-4e7a-dc54-fa5f5237d7f1"
      },
      "execution_count": null,
      "outputs": [
        {
          "output_type": "stream",
          "name": "stdout",
          "text": [
            "2\n",
            "4\n",
            "0\n"
          ]
        }
      ]
    },
    {
      "cell_type": "code",
      "source": [
        "N, M = map(int, input().split())\n",
        "\n",
        "if N == M:\n",
        "    print('1')\n",
        "else:\n",
        "    print('0')"
      ],
      "metadata": {
        "colab": {
          "base_uri": "https://localhost:8080/"
        },
        "id": "W4_IEHct7wZ_",
        "outputId": "52eff865-f64c-4fdf-edff-f878353dc89c"
      },
      "execution_count": null,
      "outputs": [
        {
          "output_type": "stream",
          "name": "stdout",
          "text": [
            "1 0\n",
            "0\n"
          ]
        }
      ]
    },
    {
      "cell_type": "markdown",
      "source": [
        "## 5월 21일"
      ],
      "metadata": {
        "id": "aBgPiqUzKVMn"
      }
    },
    {
      "cell_type": "code",
      "source": [
        "# 백준: 15740\n",
        "# 두 정수 A와 B를 입력받은 다음, A+B를 출력하는 프로그램을 작성하시오.\n",
        "\n",
        "a, b = map(int, input().split())\n",
        "\n",
        "print(a+b)"
      ],
      "metadata": {
        "id": "lhNAx2bcDXgd",
        "colab": {
          "base_uri": "https://localhost:8080/",
          "height": 193
        },
        "outputId": "dcf7290f-e344-4892-b1be-e2d486b7b5eb"
      },
      "execution_count": null,
      "outputs": [
        {
          "name": "stdout",
          "output_type": "stream",
          "text": [
            "-999999999 1000000000'\n"
          ]
        },
        {
          "output_type": "error",
          "ename": "ValueError",
          "evalue": "invalid literal for int() with base 10: \"1000000000'\"",
          "traceback": [
            "\u001b[0;31m---------------------------------------------------------------------------\u001b[0m",
            "\u001b[0;31mValueError\u001b[0m                                Traceback (most recent call last)",
            "\u001b[0;32m<ipython-input-3-abda260efed7>\u001b[0m in \u001b[0;36m<cell line: 0>\u001b[0;34m()\u001b[0m\n\u001b[0;32m----> 1\u001b[0;31m \u001b[0ma\u001b[0m\u001b[0;34m,\u001b[0m \u001b[0mb\u001b[0m \u001b[0;34m=\u001b[0m \u001b[0mmap\u001b[0m\u001b[0;34m(\u001b[0m\u001b[0mint\u001b[0m\u001b[0;34m,\u001b[0m \u001b[0minput\u001b[0m\u001b[0;34m(\u001b[0m\u001b[0;34m)\u001b[0m\u001b[0;34m.\u001b[0m\u001b[0msplit\u001b[0m\u001b[0;34m(\u001b[0m\u001b[0;34m)\u001b[0m\u001b[0;34m)\u001b[0m\u001b[0;34m\u001b[0m\u001b[0;34m\u001b[0m\u001b[0m\n\u001b[0m\u001b[1;32m      2\u001b[0m \u001b[0;34m\u001b[0m\u001b[0m\n\u001b[1;32m      3\u001b[0m \u001b[0mprint\u001b[0m\u001b[0;34m(\u001b[0m\u001b[0ma\u001b[0m\u001b[0;34m+\u001b[0m\u001b[0mb\u001b[0m\u001b[0;34m)\u001b[0m\u001b[0;34m\u001b[0m\u001b[0;34m\u001b[0m\u001b[0m\n",
            "\u001b[0;31mValueError\u001b[0m: invalid literal for int() with base 10: \"1000000000'\""
          ]
        }
      ]
    },
    {
      "cell_type": "markdown",
      "source": [
        "## 5월 23일"
      ],
      "metadata": {
        "id": "0oz5XmSewZjS"
      }
    },
    {
      "cell_type": "code",
      "source": [
        "# 백준 26545\n",
        "# Output the resulting integer. The output should be one line containing one integer value.\n",
        "\n",
        "n = int(input())\n",
        "\n",
        "sum = 0\n",
        "\n",
        "for _ in range(n):\n",
        "  num = int(input())\n",
        "  sum += num\n",
        "\n",
        "print(sum)"
      ],
      "metadata": {
        "id": "D5fwuMOHKvu-",
        "colab": {
          "base_uri": "https://localhost:8080/"
        },
        "outputId": "ee3fdd35-4b44-4ffa-9790-f4ab829add1d"
      },
      "execution_count": null,
      "outputs": [
        {
          "output_type": "stream",
          "name": "stdout",
          "text": [
            "3\n",
            "1\n",
            "2\n",
            "3\n",
            "6\n"
          ]
        }
      ]
    },
    {
      "cell_type": "markdown",
      "source": [
        "## 6월 1일"
      ],
      "metadata": {
        "id": "qHzS9KYXXkJ0"
      }
    },
    {
      "cell_type": "code",
      "source": [
        "# 백준 32951\n",
        "# 첫 번째 줄에 N년이 2024년으로부터 몇 년이나 지났는지 출력한다.\n",
        "year = 2024\n",
        "\n",
        "n = int(input())\n",
        "print(n - year)"
      ],
      "metadata": {
        "id": "eQ5_sHJ00zYa",
        "colab": {
          "base_uri": "https://localhost:8080/"
        },
        "outputId": "12b0f6fa-45b6-4df0-cba5-e7369472e614"
      },
      "execution_count": null,
      "outputs": [
        {
          "output_type": "stream",
          "name": "stdout",
          "text": [
            "2024\n",
            "0\n"
          ]
        }
      ]
    },
    {
      "cell_type": "code",
      "source": [
        "# 백준 32775\n",
        "# 람들이 역 a에서 역 b로 이동할 때, 어느 교통수단을 더 많이 이용하는지 알려주세요.\n",
        "#  단, 공항과 역 간 이동 시간은 무시합니다.\n",
        "\n",
        "a = int(input())\n",
        "b = int(input())\n",
        "\n",
        "if a < b:\n",
        "    print('high speed rail')\n",
        "else:\n",
        "    print('flight')\n",
        "\n",
        "# a -> b 가는데 소요시간\n",
        "# 공항 a -> b 가는데 소요시간\n",
        "# 공항 b에서 역 b로 가는데 소요시간"
      ],
      "metadata": {
        "id": "OwOQ_R0PwoHj",
        "colab": {
          "base_uri": "https://localhost:8080/"
        },
        "outputId": "678c4859-6d77-49fa-94ee-9bee824d3917"
      },
      "execution_count": null,
      "outputs": [
        {
          "output_type": "stream",
          "name": "stdout",
          "text": [
            "99\n",
            "98\n",
            "flight\n"
          ]
        }
      ]
    },
    {
      "cell_type": "markdown",
      "source": [
        "## 6월 7일"
      ],
      "metadata": {
        "id": "RkbjO95MtqPt"
      }
    },
    {
      "cell_type": "code",
      "source": [
        "# 백준 10953\n",
        "# 두 정수 A와 B를 입력받은 다음, A+B를 출력하는 프로그램을 작성하시오.\n",
        "\n",
        "n = int(input())\n",
        "\n",
        "for i in range(n):\n",
        "    a, b = map(int, input().split(','))\n",
        "    print(a+b)"
      ],
      "metadata": {
        "id": "Mmns6lnKdS6V",
        "colab": {
          "base_uri": "https://localhost:8080/"
        },
        "outputId": "6eb4b72b-dd47-4bc6-814f-c7a24b3201c6"
      },
      "execution_count": null,
      "outputs": [
        {
          "output_type": "stream",
          "name": "stdout",
          "text": [
            "5\n",
            "1,1\n",
            "2\n",
            "2,3\n",
            "5\n",
            "3,4\n",
            "7\n",
            "9,8\n",
            "17\n",
            "5,2\n",
            "7\n"
          ]
        }
      ]
    },
    {
      "cell_type": "code",
      "source": [
        "# 백준 9316\n",
        "# 한 줄에 하나의 Hello World, Judge i! 를 출력한다.\n",
        "\n",
        "n = int(input())\n",
        "\n",
        "for i in range(1, n+1):\n",
        "    print(\"Hello World, Judge {}!\".format(i))\n"
      ],
      "metadata": {
        "colab": {
          "base_uri": "https://localhost:8080/"
        },
        "id": "k0Lp_jv5z0nh",
        "outputId": "9378f679-1209-4778-cb8f-f75e3ae17d6b"
      },
      "execution_count": null,
      "outputs": [
        {
          "output_type": "stream",
          "name": "stdout",
          "text": [
            "3\n",
            "Hello World, Judge 1!\n",
            "Hello World, Judge 2!\n",
            "Hello World, Judge 3!\n"
          ]
        }
      ]
    },
    {
      "cell_type": "markdown",
      "source": [
        "## 6월 8일"
      ],
      "metadata": {
        "id": "bMqZFaigSq2m"
      }
    },
    {
      "cell_type": "code",
      "source": [
        "# 백준 2742\n",
        "# 자연수 N이 주어졌을 때, N부터 1까지 한 줄에 하나씩 출력하는 프로그램을 작성하시오.\n",
        "\n",
        "n = int(input())\n",
        "\n",
        "for i in range(n, 0, -1):\n",
        "    print(i)"
      ],
      "metadata": {
        "colab": {
          "base_uri": "https://localhost:8080/"
        },
        "id": "bEtJnPUh5ppT",
        "outputId": "12350e09-2389-4cf4-b732-bd9c04e7dd72"
      },
      "execution_count": null,
      "outputs": [
        {
          "output_type": "stream",
          "name": "stdout",
          "text": [
            "5\n",
            "5\n",
            "4\n",
            "3\n",
            "2\n",
            "1\n"
          ]
        }
      ]
    },
    {
      "cell_type": "code",
      "source": [
        "# 백준 11021\n",
        "# 두 정수 A와 B를 입력받은 다음, A+B를 출력하는 프로그램을 작성하시오.\n",
        "\n",
        "n = int(input())\n",
        "\n",
        "for i in range(n):\n",
        "  a, b = map(int, input().split())\n",
        "  print(f\"Case #{i+1}: {a + b}\")\n"
      ],
      "metadata": {
        "id": "aokV_OWk_lyd",
        "colab": {
          "base_uri": "https://localhost:8080/"
        },
        "outputId": "edc8b386-204d-466a-9975-4a9620f6c15a"
      },
      "execution_count": null,
      "outputs": [
        {
          "output_type": "stream",
          "name": "stdout",
          "text": [
            "5\n",
            "1 1\n",
            "Case #1: 2\n",
            "2 3\n",
            "Case #2: 5\n",
            "3 4\n",
            "Case #3: 7\n",
            "9 8\n",
            "Case #4: 17\n",
            "5 2\n",
            "Case #5: 7\n"
          ]
        }
      ]
    },
    {
      "cell_type": "code",
      "source": [
        "# 백준 14581\n",
        "# 3개의 줄에 걸쳐, 팬들에게 둘러싸인 홍준의 모습을 출력한다.\n",
        "\n",
        "n = input()\n",
        "\n",
        "print(\":fan::fan::fan:\")\n",
        "print(f\":fan::{n}::fan:\" )\n",
        "print(\":fan::fan::fan:\")"
      ],
      "metadata": {
        "colab": {
          "base_uri": "https://localhost:8080/"
        },
        "id": "ZZ1lWZAwQMCR",
        "outputId": "500195fc-f541-4b2e-86b8-deb967bf11a3"
      },
      "execution_count": null,
      "outputs": [
        {
          "output_type": "stream",
          "name": "stdout",
          "text": [
            "appa\n",
            ":fan::fan::fan:\n",
            ":fan::appa::fan:\n",
            ":fan::fan::fan:\n"
          ]
        }
      ]
    },
    {
      "cell_type": "markdown",
      "source": [
        "## 6월 9일"
      ],
      "metadata": {
        "id": "BzcZFTXC7DQn"
      }
    },
    {
      "cell_type": "code",
      "source": [
        "# 백준 11022\n",
        "# 두 정수 A와 B를 입력받은 다음, A+B를 출력하는 프로그램을 작성하시오.\n",
        "\n",
        "n = int(input())\n",
        "\n",
        "for i in range(n):\n",
        "    a, b = map(int, input().split())\n",
        "    print(f\"Case #{i+1}: {a} + {b} = {a + b}\")\n"
      ],
      "metadata": {
        "id": "LuH_roNATnJ9",
        "colab": {
          "base_uri": "https://localhost:8080/"
        },
        "outputId": "14b07932-b9c2-41d2-afba-cb85dc5fcc20"
      },
      "execution_count": null,
      "outputs": [
        {
          "output_type": "stream",
          "name": "stdout",
          "text": [
            "5\n",
            "1 1\n",
            "Case #1: 1 + 1 = 2\n",
            "2 3\n",
            "Case #2: 2 + 3 = 5\n",
            "3 4\n",
            "Case #3: 3 + 4 = 7\n",
            "9 8\n",
            "Case #4: 9 + 8 = 17\n",
            "5 2\n",
            "Case #5: 5 + 2 = 7\n"
          ]
        }
      ]
    },
    {
      "cell_type": "code",
      "source": [
        "# 백준 24086\n",
        "# JOI 君のこの 1 年間の身長の伸びは何 cm であるか，単位 (cm) を省いて出力せよ．\n",
        "\n",
        "a = int(input())\n",
        "b = int(input())\n",
        "\n",
        "print(abs(a - b))"
      ],
      "metadata": {
        "colab": {
          "base_uri": "https://localhost:8080/"
        },
        "id": "JUFzrTSJ7ZmB",
        "outputId": "e4a22958-7456-47a1-aa7e-94e56a8cc8ad"
      },
      "execution_count": null,
      "outputs": [
        {
          "output_type": "stream",
          "name": "stdout",
          "text": [
            "150\n",
            "155\n",
            "5\n"
          ]
        }
      ]
    },
    {
      "cell_type": "markdown",
      "source": [
        "## 6월 12일"
      ],
      "metadata": {
        "id": "leb6ahG1P6Je"
      }
    },
    {
      "cell_type": "code",
      "source": [
        "# 백준 8437\n",
        "# 프로그램은 두 개의 정수를 연속된 두 줄에 한 줄씩 (표준 출력에) 출력해야 합니다. 첫 줄에는 클라우디아의 사과 개수가,\n",
        "# 두 번째 줄에는 나탈리아의 사과 개수가 입력되어야 합니다. 여자아이들은 항상 통째로 사과를 먹는다는 것은 잘 알려진 사실입니다.\n",
        "\n",
        "a = int(input())\n",
        "b = int(input())\n",
        "\n",
        "print((a+b) // 2)\n",
        "print((a-b) // 2)"
      ],
      "metadata": {
        "id": "yklZKTGU-BBB",
        "colab": {
          "base_uri": "https://localhost:8080/"
        },
        "outputId": "8dd8a127-9ba1-49ea-9b64-21bf0ec71f9b"
      },
      "execution_count": null,
      "outputs": [
        {
          "output_type": "stream",
          "name": "stdout",
          "text": [
            "10\n",
            "2\n",
            "6\n",
            "4\n"
          ]
        }
      ]
    },
    {
      "cell_type": "code",
      "source": [
        "# 백준 9086\n",
        "# 각 테스트 케이스에 대해서 주어진 문자열의 첫 글자와 마지막 글자를 연속하여 출력한다.\n",
        "\n",
        "n = int(input())\n",
        "\n",
        "for i in range(n):\n",
        "    num = input()\n",
        "    print(num[0]+num[-1])"
      ],
      "metadata": {
        "id": "mZVqlhY_M0zQ",
        "colab": {
          "base_uri": "https://localhost:8080/"
        },
        "outputId": "aaa43ddb-00c5-4c89-913e-28b907f2202b"
      },
      "execution_count": null,
      "outputs": [
        {
          "output_type": "stream",
          "name": "stdout",
          "text": [
            "3\n",
            "ACDKJFOWIEGHE\n",
            "AE\n",
            "O\n",
            "OO\n",
            "AB\n",
            "AB\n"
          ]
        }
      ]
    },
    {
      "cell_type": "markdown",
      "source": [
        "## 6월 14일"
      ],
      "metadata": {
        "id": "mleMCjbpVdYA"
      }
    },
    {
      "cell_type": "code",
      "source": [
        "# 복습 필요!!!\n",
        "# 백준 25314\n",
        "# 혜아가 n 바이트 정수까지 저장할 수 있다고 생각하는 정수 자료형의 이름을 출력하여라.\n",
        "\n",
        "n = int(input())\n",
        "\n",
        "for i in range(n // 4):\n",
        "    print(\"long\", end=\" \")\n",
        "\n",
        "print(\"int\")\n"
      ],
      "metadata": {
        "id": "y129_DyzT8KV",
        "colab": {
          "base_uri": "https://localhost:8080/"
        },
        "outputId": "07ebdc2d-bccf-442c-84b7-65d5584e4d3c"
      },
      "execution_count": null,
      "outputs": [
        {
          "output_type": "stream",
          "name": "stdout",
          "text": [
            "4\n",
            "long int\n"
          ]
        }
      ]
    },
    {
      "cell_type": "markdown",
      "source": [
        "## 6월 15일"
      ],
      "metadata": {
        "id": "DT2xX116dIGO"
      }
    },
    {
      "cell_type": "code",
      "source": [
        "# 백준 26082\n",
        "# 경쟁사 제품의 가격 A, 경쟁사 제품의 성능 B, WARBOY의 가격 C가 주어질 때, WARBOY의 성능을 구해보자\n",
        "\n",
        "a, b, c = map(int, input().split())\n",
        "\n",
        "warboy = (3 * b * c // a)\n",
        "\n",
        "print(warboy)"
      ],
      "metadata": {
        "id": "HkAaE_6-W15t",
        "colab": {
          "base_uri": "https://localhost:8080/"
        },
        "outputId": "5cde0c43-d887-4a47-c7d0-c9eadf667467"
      },
      "execution_count": null,
      "outputs": [
        {
          "output_type": "stream",
          "name": "stdout",
          "text": [
            "10 100 7\n",
            "210\n"
          ]
        }
      ]
    },
    {
      "cell_type": "markdown",
      "source": [
        "## 6월 18일"
      ],
      "metadata": {
        "id": "h95G52yAW2NY"
      }
    },
    {
      "cell_type": "code",
      "source": [
        "# 백준 10818\n",
        "# N개의 정수가 주어진다. 이때, 최솟값과 최댓값을 구하는 프로그램을 작성하시오.\n",
        "\n",
        "n = int(input())\n",
        "\n",
        "num = list(map(int,input().split()))\n",
        "\n",
        "print(min(num), max(num))"
      ],
      "metadata": {
        "colab": {
          "base_uri": "https://localhost:8080/"
        },
        "id": "GnAGL-4ceZsf",
        "outputId": "a3bb4da0-00b2-48b5-e70d-d50e7d3b27c8"
      },
      "execution_count": 22,
      "outputs": [
        {
          "output_type": "stream",
          "name": "stdout",
          "text": [
            "5\n",
            "20 10 35 30 7\n",
            "7 35\n"
          ]
        }
      ]
    },
    {
      "cell_type": "code",
      "source": [
        "# 백준: 2750번\n",
        "# 첫째 줄부터 N개의 줄에 오름차순으로 정렬한 결과를 한 줄에 하나씩 출력한다.\n",
        "\n",
        "n = int(input())\n",
        "\n",
        "n_line = []\n",
        "\n",
        "for i in range(n):\n",
        "    n_line.append(int(input()))\n",
        "\n",
        "n_line.sort()\n",
        "\n",
        "for num in n_line:\n",
        "    print(num)\n"
      ],
      "metadata": {
        "id": "euFDRrqBgtc5",
        "colab": {
          "base_uri": "https://localhost:8080/"
        },
        "outputId": "e1380cbe-c16a-484b-d2de-583e8371f2ce"
      },
      "execution_count": 43,
      "outputs": [
        {
          "output_type": "stream",
          "name": "stdout",
          "text": [
            "5\n",
            "5\n",
            "2\n",
            "3\n",
            "4\n",
            "1\n",
            "1\n",
            "2\n",
            "3\n",
            "4\n",
            "5\n"
          ]
        }
      ]
    },
    {
      "cell_type": "code",
      "source": [],
      "metadata": {
        "id": "khddl2UQYCcs"
      },
      "execution_count": null,
      "outputs": []
    }
  ]
}