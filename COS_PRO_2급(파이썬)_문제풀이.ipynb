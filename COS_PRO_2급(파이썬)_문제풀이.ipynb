{
  "nbformat": 4,
  "nbformat_minor": 0,
  "metadata": {
    "colab": {
      "provenance": [],
      "authorship_tag": "ABX9TyMq0Hy6No+iqXOrZ8ZGUkY6",
      "include_colab_link": true
    },
    "kernelspec": {
      "name": "python3",
      "display_name": "Python 3"
    },
    "language_info": {
      "name": "python"
    }
  },
  "cells": [
    {
      "cell_type": "markdown",
      "metadata": {
        "id": "view-in-github",
        "colab_type": "text"
      },
      "source": [
        "<a href=\"https://colab.research.google.com/github/YuSeongShim/Python_colab/blob/main/COS_PRO_2%EA%B8%89(%ED%8C%8C%EC%9D%B4%EC%8D%AC)_%EB%AC%B8%EC%A0%9C%ED%92%80%EC%9D%B4.ipynb\" target=\"_parent\"><img src=\"https://colab.research.google.com/assets/colab-badge.svg\" alt=\"Open In Colab\"/></a>"
      ]
    },
    {
      "cell_type": "markdown",
      "source": [
        "## 2차"
      ],
      "metadata": {
        "id": "i9xAfhzr2Mt7"
      }
    },
    {
      "cell_type": "code",
      "source": [
        "# 문제 5\n",
        "\n",
        "def solution(words):\n",
        "    answer = ''\n",
        "    for i in words:\n",
        "        if len(i) >= 5:\n",
        "            answer += i\n",
        "\n",
        "        if len(answer) == 0:\n",
        "            answer = 'empty'\n",
        "\n",
        "    return answer\n",
        "\n",
        "words1 = [\"my\", \"favorite\", \"color\", \"is\", \"violet\"]\n",
        "ret1 = solution(words1);\n",
        "\n",
        "print(\"solution 함수의 반환 값은\", ret1, \"입니다.\")\n",
        "\n",
        "word2 = [\"yes\", \"i\", \"am\"]\n",
        "ret2 = solution(word2);\n",
        "\n",
        "print(\"solution 함수의 반환 값은\", ret2, \"입니다.\")"
      ],
      "metadata": {
        "colab": {
          "base_uri": "https://localhost:8080/"
        },
        "id": "SsifjgWtMIdh",
        "outputId": "a5e77fa5-3267-4e7d-ca2c-beab51a62f4b"
      },
      "execution_count": null,
      "outputs": [
        {
          "output_type": "stream",
          "name": "stdout",
          "text": [
            "solution 함수의 반환 값은 emptyfavoritecolorviolet 입니다.\n",
            "solution 함수의 반환 값은 empty 입니다.\n"
          ]
        }
      ]
    },
    {
      "cell_type": "code",
      "execution_count": null,
      "metadata": {
        "id": "94XE0utT2GVZ",
        "colab": {
          "base_uri": "https://localhost:8080/"
        },
        "outputId": "66787e3d-ae01-4e4c-8550-44241aee0a8d"
      },
      "outputs": [
        {
          "output_type": "stream",
          "name": "stdout",
          "text": [
            "solution 함수의 반환 값은 7 입니다.\n"
          ]
        }
      ],
      "source": [
        "# 문제 6\n",
        "\n",
        "def solution(floors):\n",
        "  dist = 0\n",
        "  length = len(floors)\n",
        "  for i in range(1, length):\n",
        "      if floors[i] > floors[i-1]:\n",
        "          dist += floors[i] - floors[i-1]\n",
        "      else:\n",
        "          dist += floors[i-1] - floors[i]\n",
        "  return dist\n",
        "\n",
        "floors = [1, 2, 5, 4, 2]\n",
        "ret = solution(floors)\n",
        "\n",
        "print(\"solution 함수의 반환 값은\", ret, \"입니다.\")"
      ]
    },
    {
      "cell_type": "markdown",
      "source": [
        "3차"
      ],
      "metadata": {
        "id": "UEKRtled7k3o"
      }
    },
    {
      "cell_type": "code",
      "source": [
        "# 문제 1\n",
        "\n",
        "def func_a(scores, score):\n",
        "\trank = 1\n",
        "\tfor s in scores:\n",
        "\t\tif s == score:\n",
        "\t\t\treturn rank\n",
        "\t\trank += 1\n",
        "\treturn 0\n",
        "\n",
        "def func_b(arr):\n",
        "\tarr.sort(reverse=True)\n",
        "\n",
        "def func_c(arr, n):\n",
        "\treturn arr[n]\n",
        "\n",
        "scores = [20, 60, 98, 59]\n",
        "n = 3\n",
        "ret = solution(scores, n)\n",
        "\n",
        "print(\"solution 함수의 반환 값은\", ret, \"입니다.\")"
      ],
      "metadata": {
        "id": "TowvvbLIMPv3"
      },
      "execution_count": null,
      "outputs": []
    },
    {
      "cell_type": "code",
      "source": [
        "# 문제 2\n",
        "\n",
        "def func_a(current_grade, last_grade, rank, max_diff_grade):\n",
        "\tarr_length = len(current_grade)\n",
        "\tcount = 0\n",
        "\tfor i in range(arr_length):\n",
        "\t\tif current_grade[i] >= 80 and rank[i] <= arr_length // 10:\n",
        "\t\t\tcount += 1\n",
        "\t\telif current_grade[i] >= 80 and rank[i] == 1:\n",
        "\t\t\tcount += 1\n",
        "\t\telif max_diff_grade > 0 and max_diff_grade == current_grade[i] - last_grade[i]:\n",
        "\t\t\tcount += 1\n",
        "\treturn count\n",
        "\n",
        "def func_b(current_grade):\n",
        "\tarr_length = len(current_grade)\n",
        "\trank = [1] * arr_length\n",
        "\tfor i in range(arr_length):\n",
        "\t\tfor j in range(arr_length):\n",
        "\t\t\tif current_grade[i] < current_grade[j]:\n",
        "\t\t\t\trank[i] += 1\n",
        "\treturn rank\n",
        "\n",
        "def func_c(current_grade, last_grade):\n",
        "\tmax_diff_grade = 1\n",
        "\tfor i in range(len(current_grade)):\n",
        "\t\tmax_diff_grade = max(max_diff_grade, current_grade[i] - last_grade[i])\n",
        "\treturn max_diff_grade\n",
        "\n",
        "def solution(current_grade, last_grade):\n",
        "\trank = func_b(current_grade)\n",
        "\tmax_diff_grade = func_c(current_grade, last_grade)\n",
        "\tanswer = func_a(current_grade, last_grade, rank, max_diff_grade)\n",
        "\treturn answer\n",
        "\n",
        "current_grade = [70, 100, 70, 80, 50, 95]\n",
        "last_grade = [35, 65, 80, 50, 20, 60]\n",
        "ret = solution(current_grade, last_grade)\n",
        "\n",
        "print(\"solution 함수의 반환 값은\", ret, \"입니다.\")"
      ],
      "metadata": {
        "id": "oaKas92FMQDV"
      },
      "execution_count": null,
      "outputs": []
    },
    {
      "cell_type": "code",
      "source": [
        "# 문제 3\n",
        "\n",
        "def solution(scores):\n",
        "    answer = ((sum(scores) - max(scores) - min(scores)) // (len(scores)-2))\n",
        "\n",
        "    return answer\n",
        "\n",
        "scores1 = [35, 28, 98, 34, 20, 50, 85, 74, 71, 7] # 가장 높은 값과 작은 값을 뺀 나머지를 더하라\n",
        "ret1 = solution(scores1)\n",
        "\n",
        "print(\"solution 함수의 반환 값은\", ret1, \"입니다.\")\n",
        "\n",
        "scores2 = [1, 1, 1, 1, 1] # 가장 높은 값과 작은 값을 뺀 나머지를 더하라\n",
        "ret2 = solution(scores2)\n",
        "\n",
        "print(\"solution 함수의 반환 값은\", ret2, \"입니다.\")"
      ],
      "metadata": {
        "colab": {
          "base_uri": "https://localhost:8080/"
        },
        "id": "GmZTc3P3PNEA",
        "outputId": "2cfe23cc-96f9-4c8f-92e6-d0ee36c2aea5"
      },
      "execution_count": null,
      "outputs": [
        {
          "output_type": "stream",
          "name": "stdout",
          "text": [
            "solution 함수의 반환 값은 49 입니다.\n",
            "solution 함수의 반환 값은 1 입니다.\n"
          ]
        }
      ]
    },
    {
      "cell_type": "code",
      "source": [
        "words = [\"CODE\", \"COED\", \"CDEO\"]\n",
        "correct = \"CODE\"\n",
        "\n",
        "for word in words:\n",
        "    count = 0\n",
        "\n",
        "    for i in range(len(word)):\n",
        "        if word[i] != correct[i]:\n",
        "            count += 1\n",
        "\n",
        "    print(count)\n",
        "\n"
      ],
      "metadata": {
        "colab": {
          "base_uri": "https://localhost:8080/"
        },
        "id": "B7URYA1W1div",
        "outputId": "ffb90fd9-6695-4376-b8c7-cf5a94e397c7"
      },
      "execution_count": null,
      "outputs": [
        {
          "output_type": "stream",
          "name": "stdout",
          "text": [
            "0\n",
            "2\n",
            "3\n"
          ]
        }
      ]
    },
    {
      "cell_type": "code",
      "source": [
        "def solution(words, word):\n",
        "    count = 0\n",
        "\n",
        "    for i in words:\n",
        "        for j in range(len(word)):\n",
        "            if i[j] != word[j]:\n",
        "                count += 1\n",
        "\n",
        "    return count\n",
        "\n",
        "words = [\"CODE\", \"COED\", \"CDEO\"]\n",
        "word = \"CODE\"\n",
        "ret = solution(words, word)\n",
        "\n",
        "print(\"solution 함수의 반환 값은\", ret, \"입니다.\")"
      ],
      "metadata": {
        "colab": {
          "base_uri": "https://localhost:8080/"
        },
        "id": "OqKUJfBCslov",
        "outputId": "621b8919-1e94-49e2-f25f-b7f3c238b6fc"
      },
      "execution_count": null,
      "outputs": [
        {
          "output_type": "stream",
          "name": "stdout",
          "text": [
            "solution 함수의 반환 값은 5 입니다.\n"
          ]
        }
      ]
    },
    {
      "cell_type": "code",
      "source": [
        "# 문제 7\n",
        "\n",
        "def solution(num_apple, num_carrot, k):\n",
        "\tanswer = 0\n",
        "\n",
        "\tif num_apple < (3 * num_carrot):\n",
        "\t\tanswer = num_apple // 3\n",
        "\telse:\n",
        "\t\tanswer = num_carrot\n",
        "\n",
        "\tnum_apple -= answer * 3\n",
        "\tnum_carrot -= answer\n",
        "\n",
        "\ti = 0\n",
        "\tk = k - (num_apple + num_carrot)\n",
        "\n",
        "\twhile k > 0:\n",
        "\t\tif i % 4 == 0:\n",
        "\t\t\tanswer = answer - 1\n",
        "\t\ti = i + 1\n",
        "\t\tk = k - 1\n",
        "\n",
        "\treturn answer\n",
        "\n",
        "\n",
        "num_apple1 = 5\n",
        "num_carrot1 = 1\n",
        "k1 = 2\n",
        "ret1 = solution(num_apple1, num_carrot1, k1)\n",
        "\n",
        "print(\"solution 함수의 반환 값은\", ret1, \"입니다.\")\n",
        "\n",
        "num_apple2 = 10\n",
        "num_carrot2 = 5\n",
        "k2 = 4\n",
        "ret2 = solution(num_apple2, num_carrot2, k2)\n",
        "\n",
        "print(\"solution 함수의 반환 값은\", ret2, \"입니다.\")"
      ],
      "metadata": {
        "id": "VebkrRPD-IuW"
      },
      "execution_count": null,
      "outputs": []
    },
    {
      "cell_type": "code",
      "source": [
        "# 문제 8\n",
        "\n",
        "def solution(programs):\n",
        "\tanswer = 0\n",
        "\tused_tv = [0] * 25\n",
        "\n",
        "\tfor program in programs:\n",
        "\t\tfor i in range(program[0], program[1]):\n",
        "\t\t\tused_tv[i] = used_tv[i] + 1\n",
        "\n",
        "\tfor i in used_tv:\n",
        "\t\tif i >= 2:\n",
        "\t\t\tanswer = answer + 1\n",
        "\treturn answer\n",
        "\n",
        "programs = [[1, 6], [3, 5], [2, 8]]\n",
        "ret = solution(programs)\n",
        "\n",
        "print(\"solution 함수의 반환 값은\", ret, \"입니다.\")"
      ],
      "metadata": {
        "id": "k0TA8ciM7udp"
      },
      "execution_count": null,
      "outputs": []
    },
    {
      "cell_type": "code",
      "source": [
        "# 문제 9\n",
        "\n",
        "def solution(day, numbers):\n",
        "\tcount = 0\n",
        "\tfor number in numbers:\n",
        "\t\tif number%2 != day%1:\n",
        "\t\t\tcount += 1\n",
        "\treturn count\n",
        "\n",
        "day = 17\n",
        "numbers = [3285, 1724, 4438, 2988, 3131, 2998]\n",
        "ret = solution(day, numbers)\n",
        "\n",
        "print(\"solution 함수의 반환 값은\", ret, \"입니다.\")"
      ],
      "metadata": {
        "id": "Q865qMG172if"
      },
      "execution_count": null,
      "outputs": []
    },
    {
      "cell_type": "code",
      "source": [
        "# 문제 10\n",
        "\n",
        "def solution(arr):\n",
        "\tanswer = 0\n",
        "\tfor i in arr:\n",
        "\t\tif i/2 in arr:\n",
        "\t\t\tanswer += 1\n",
        "\treturn answer\n",
        "\n",
        "arr = [4, 8, 3, 6, 7]\n",
        "ret = solution(arr)\n",
        "\n",
        "#[실행] 버튼을 누르면 출력 값을 볼 수 있습니다.\n",
        "print(\"solution 함수의 반환 값은\", ret, \"입니다.\")"
      ],
      "metadata": {
        "id": "VlmAwZYJ78S3"
      },
      "execution_count": null,
      "outputs": []
    },
    {
      "cell_type": "markdown",
      "source": [
        "## 4차"
      ],
      "metadata": {
        "id": "0rFUUCTWMnxp"
      }
    },
    {
      "cell_type": "code",
      "source": [
        "# 문제 9\n",
        "\n",
        "def solution(height):\n",
        "    count = 0\n",
        "    for i in height:\n",
        "        for j in range(len(height)):\n",
        "            count += 1\n",
        "    return count\n",
        "\n",
        "height = [[3, 6, 2, 8], [7, 3, 4, 2], [8, 6, 7, 3], [5, 3, 2, 9]]\n",
        "ret = solution(height)\n",
        "\n",
        "print(\"solution 함수의 반환 값은\", ret, \"입니다.\")"
      ],
      "metadata": {
        "colab": {
          "base_uri": "https://localhost:8080/"
        },
        "id": "8aeSj3eFxf-C",
        "outputId": "3747ecd0-b588-41df-f138-ad427c468f8c"
      },
      "execution_count": null,
      "outputs": [
        {
          "output_type": "stream",
          "name": "stdout",
          "text": [
            "solution 함수의 반환 값은 16 입니다.\n"
          ]
        }
      ]
    },
    {
      "cell_type": "code",
      "source": [
        "# 문제 10\n",
        "\n",
        "def solution(scores, cutline):\n",
        "    answer = 0\n",
        "    for i in scores:\n",
        "        if i >= cutline:\n",
        "            answer += 1\n",
        "    return answer\n",
        "\n",
        "\n",
        "scores = [80, 90, 55, 60, 59]\n",
        "cutline = 60\n",
        "ret = solution(scores, cutline)\n",
        "\n",
        "print(\"solution 함수의 반환 값은\", ret, \"입니다.\")"
      ],
      "metadata": {
        "colab": {
          "base_uri": "https://localhost:8080/"
        },
        "id": "VvqZ-kRGxyGz",
        "outputId": "d47b63b2-d9f9-4552-d72d-66422456953d"
      },
      "execution_count": null,
      "outputs": [
        {
          "output_type": "stream",
          "name": "stdout",
          "text": [
            "solution 함수의 반환 값은 3 입니다.\n"
          ]
        }
      ]
    }
  ]
}