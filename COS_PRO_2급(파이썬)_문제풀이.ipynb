{
  "nbformat": 4,
  "nbformat_minor": 0,
  "metadata": {
    "colab": {
      "provenance": [],
      "authorship_tag": "ABX9TyMU1PoXEeAlTGltNMqekHvW",
      "include_colab_link": true
    },
    "kernelspec": {
      "name": "python3",
      "display_name": "Python 3"
    },
    "language_info": {
      "name": "python"
    }
  },
  "cells": [
    {
      "cell_type": "markdown",
      "metadata": {
        "id": "view-in-github",
        "colab_type": "text"
      },
      "source": [
        "<a href=\"https://colab.research.google.com/github/YuSeongShim/Python_colab/blob/main/COS_PRO_2%EA%B8%89(%ED%8C%8C%EC%9D%B4%EC%8D%AC)_%EB%AC%B8%EC%A0%9C%ED%92%80%EC%9D%B4.ipynb\" target=\"_parent\"><img src=\"https://colab.research.google.com/assets/colab-badge.svg\" alt=\"Open In Colab\"/></a>"
      ]
    },
    {
      "cell_type": "markdown",
      "source": [
        "## 2차"
      ],
      "metadata": {
        "id": "i9xAfhzr2Mt7"
      }
    },
    {
      "cell_type": "code",
      "source": [
        "# 문제 5\n",
        "\n",
        "def solution(words):\n",
        "    answer = ''\n",
        "    for i in words:\n",
        "        if len(i) >= 5:\n",
        "            answer += i\n",
        "\n",
        "        if len(answer) == 0:\n",
        "            answer = 'empty'\n",
        "\n",
        "    return answer\n",
        "\n",
        "words1 = [\"my\", \"favorite\", \"color\", \"is\", \"violet\"]\n",
        "ret1 = solution(words1);\n",
        "\n",
        "print(\"solution 함수의 반환 값은\", ret1, \"입니다.\")\n",
        "\n",
        "word2 = [\"yes\", \"i\", \"am\"]\n",
        "ret2 = solution(word2);\n",
        "\n",
        "print(\"solution 함수의 반환 값은\", ret2, \"입니다.\")"
      ],
      "metadata": {
        "colab": {
          "base_uri": "https://localhost:8080/"
        },
        "id": "SsifjgWtMIdh",
        "outputId": "a5e77fa5-3267-4e7d-ca2c-beab51a62f4b"
      },
      "execution_count": null,
      "outputs": [
        {
          "output_type": "stream",
          "name": "stdout",
          "text": [
            "solution 함수의 반환 값은 emptyfavoritecolorviolet 입니다.\n",
            "solution 함수의 반환 값은 empty 입니다.\n"
          ]
        }
      ]
    },
    {
      "cell_type": "code",
      "execution_count": null,
      "metadata": {
        "id": "94XE0utT2GVZ",
        "colab": {
          "base_uri": "https://localhost:8080/"
        },
        "outputId": "66787e3d-ae01-4e4c-8550-44241aee0a8d"
      },
      "outputs": [
        {
          "output_type": "stream",
          "name": "stdout",
          "text": [
            "solution 함수의 반환 값은 7 입니다.\n"
          ]
        }
      ],
      "source": [
        "# 문제 6\n",
        "\n",
        "def solution(floors):\n",
        "  dist = 0\n",
        "  length = len(floors)\n",
        "  for i in range(1, length):\n",
        "      if floors[i] > floors[i-1]:\n",
        "          dist += floors[i] - floors[i-1]\n",
        "      else:\n",
        "          dist += floors[i-1] - floors[i]\n",
        "  return dist\n",
        "\n",
        "floors = [1, 2, 5, 4, 2]\n",
        "ret = solution(floors)\n",
        "\n",
        "print(\"solution 함수의 반환 값은\", ret, \"입니다.\")"
      ]
    },
    {
      "cell_type": "markdown",
      "source": [
        "3차"
      ],
      "metadata": {
        "id": "UEKRtled7k3o"
      }
    },
    {
      "cell_type": "code",
      "source": [
        "# 문제 7\n",
        "\n",
        "def solution(num_apple, num_carrot, k):\n",
        "\tanswer = 0\n",
        "\n",
        "\tif num_apple < (3 * num_carrot):\n",
        "\t\tanswer = num_apple // 3\n",
        "\telse:\n",
        "\t\tanswer = num_carrot\n",
        "\n",
        "\tnum_apple -= answer * 3\n",
        "\tnum_carrot -= answer\n",
        "\n",
        "\ti = 0\n",
        "\tk = k - (num_apple + num_carrot)\n",
        "\n",
        "\twhile k > 0:\n",
        "\t\tif i % 4 == 0:\n",
        "\t\t\tanswer = answer - 1\n",
        "\t\ti = i + 1\n",
        "\t\tk = k - 1\n",
        "\n",
        "\treturn answer\n",
        "\n",
        "\n",
        "num_apple1 = 5\n",
        "num_carrot1 = 1\n",
        "k1 = 2\n",
        "ret1 = solution(num_apple1, num_carrot1, k1)\n",
        "\n",
        "print(\"solution 함수의 반환 값은\", ret1, \"입니다.\")\n",
        "\n",
        "num_apple2 = 10\n",
        "num_carrot2 = 5\n",
        "k2 = 4\n",
        "ret2 = solution(num_apple2, num_carrot2, k2)\n",
        "\n",
        "print(\"solution 함수의 반환 값은\", ret2, \"입니다.\")"
      ],
      "metadata": {
        "id": "VebkrRPD-IuW"
      },
      "execution_count": null,
      "outputs": []
    },
    {
      "cell_type": "code",
      "source": [
        "# 문제 8\n",
        "\n",
        "def solution(programs):\n",
        "\tanswer = 0\n",
        "\tused_tv = [0] * 25\n",
        "\n",
        "\tfor program in programs:\n",
        "\t\tfor i in range(program[0], program[1]):\n",
        "\t\t\tused_tv[i] = used_tv[i] + 1\n",
        "\n",
        "\tfor i in used_tv:\n",
        "\t\tif i >= 2:\n",
        "\t\t\tanswer = answer + 1\n",
        "\treturn answer\n",
        "\n",
        "programs = [[1, 6], [3, 5], [2, 8]]\n",
        "ret = solution(programs)\n",
        "\n",
        "print(\"solution 함수의 반환 값은\", ret, \"입니다.\")"
      ],
      "metadata": {
        "id": "k0TA8ciM7udp"
      },
      "execution_count": null,
      "outputs": []
    },
    {
      "cell_type": "code",
      "source": [
        "# 문제 9\n",
        "\n",
        "def solution(day, numbers):\n",
        "\tcount = 0\n",
        "\tfor number in numbers:\n",
        "\t\tif number%2 != day%1:\n",
        "\t\t\tcount += 1\n",
        "\treturn count\n",
        "\n",
        "day = 17\n",
        "numbers = [3285, 1724, 4438, 2988, 3131, 2998]\n",
        "ret = solution(day, numbers)\n",
        "\n",
        "print(\"solution 함수의 반환 값은\", ret, \"입니다.\")"
      ],
      "metadata": {
        "id": "Q865qMG172if"
      },
      "execution_count": null,
      "outputs": []
    },
    {
      "cell_type": "code",
      "source": [
        "# 문제 10\n",
        "\n",
        "def solution(arr):\n",
        "\tanswer = 0\n",
        "\tfor i in arr:\n",
        "\t\tif i/2 in arr:\n",
        "\t\t\tanswer += 1\n",
        "\treturn answer\n",
        "\n",
        "arr = [4, 8, 3, 6, 7]\n",
        "ret = solution(arr)\n",
        "\n",
        "#[실행] 버튼을 누르면 출력 값을 볼 수 있습니다.\n",
        "print(\"solution 함수의 반환 값은\", ret, \"입니다.\")"
      ],
      "metadata": {
        "id": "VlmAwZYJ78S3"
      },
      "execution_count": null,
      "outputs": []
    }
  ]
}