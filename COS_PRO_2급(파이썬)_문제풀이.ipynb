{
  "nbformat": 4,
  "nbformat_minor": 0,
  "metadata": {
    "colab": {
      "provenance": [],
      "authorship_tag": "ABX9TyP6vHj1wTp6wi5duqlqnj7E",
      "include_colab_link": true
    },
    "kernelspec": {
      "name": "python3",
      "display_name": "Python 3"
    },
    "language_info": {
      "name": "python"
    }
  },
  "cells": [
    {
      "cell_type": "markdown",
      "metadata": {
        "id": "view-in-github",
        "colab_type": "text"
      },
      "source": [
        "<a href=\"https://colab.research.google.com/github/YuSeongShim/Python_colab/blob/main/COS_PRO_2%EA%B8%89(%ED%8C%8C%EC%9D%B4%EC%8D%AC)_%EB%AC%B8%EC%A0%9C%ED%92%80%EC%9D%B4.ipynb\" target=\"_parent\"><img src=\"https://colab.research.google.com/assets/colab-badge.svg\" alt=\"Open In Colab\"/></a>"
      ]
    },
    {
      "cell_type": "markdown",
      "source": [
        "## 1차"
      ],
      "metadata": {
        "id": "9lS3NwnyGZ7a"
      }
    },
    {
      "cell_type": "code",
      "source": [
        "# 문제 1\n",
        "\n",
        "def solution(shirt_size):\n",
        "    answer = [0, 0, 0, 0, 0, 0]  # XS, S, M, L, XL, XXL 순서\n",
        "\n",
        "    for ch in shirt_size:\n",
        "        if ch == \"XS\":\n",
        "            answer[0] += 1\n",
        "        if ch == \"S\":\n",
        "            answer[1] += 1\n",
        "        if ch == \"M\":\n",
        "            answer[2] += 1\n",
        "        if ch == \"L\":\n",
        "            answer[3] += 1\n",
        "        if ch == \"XL\":\n",
        "            answer[4] += 1\n",
        "        if ch == \"XXL\":\n",
        "            answer[5] += 1\n",
        "\n",
        "    return answer\n",
        "\n",
        "shirt_size = [\"XS\", \"S\", \"L\", \"L\", \"XL\", \"S\"]\n",
        "ret = solution(shirt_size);\n",
        "\n",
        "print(\"solution 함수의 반환 값은\", ret, \"입니다.\")"
      ],
      "metadata": {
        "id": "0_GrgyAXGevd"
      },
      "execution_count": null,
      "outputs": []
    },
    {
      "cell_type": "code",
      "source": [
        "# 문제 2\n",
        "\n",
        "def solution(price, grade):\n",
        "\tanswer = 0\n",
        "\n",
        "\tif grade == 'S':\n",
        "\t\tanswer = int(price - price * 0.05)\n",
        "\n",
        "\telif grade == 'G':\n",
        "\t\tanswer = int(price - price * 0.1)\n",
        "\n",
        "\telif grade == 'V':\n",
        "\t\tanswer = int(price - price * 0.15)\n",
        "\n",
        "\treturn answer\n",
        "\n",
        "price1 = 2500\n",
        "grade1 = \"V\"\n",
        "ret1 = solution(price1, grade1)\n",
        "\n",
        "print(\"solution 함수의 반환 값은\", ret1, \"입니다.\")\n",
        "\n",
        "price2 = 96900\n",
        "grade2 = \"S\"\n",
        "ret2 = solution(price2, grade2)\n",
        "\n",
        "print(\"solution 함수의 반환 값은\", ret2, \"입니다.\")"
      ],
      "metadata": {
        "id": "WcdiRQPMGmpO"
      },
      "execution_count": null,
      "outputs": []
    },
    {
      "cell_type": "code",
      "source": [
        "# 문제 3\n",
        "\n",
        "def func_a(month, day):\n",
        "\tmonth_list = [31, 28, 31, 30, 31, 30, 31, 31, 30, 31, 30, 31]\n",
        "\ttotal = 0;\n",
        "\tfor i in range(month-1):\n",
        "\t\ttotal += month_list[i]\n",
        "\ttotal += day\n",
        "\treturn total - 1\n",
        "\n",
        "def solution(start_month, start_day, end_month, end_day):\n",
        "\tstart_total = func_a(start_month, start_day)\n",
        "\tend_total = func_a(end_month, end_day)\n",
        "\treturn end_total - start_total\n",
        "\n",
        "start_month = 1\n",
        "start_day = 2\n",
        "end_month = 2\n",
        "end_day = 2\n",
        "ret = solution(start_month, start_day, end_month, end_day)\n",
        "\n",
        "print(\"solution 함수의 반환 값은\", ret, \"입니다.\")"
      ],
      "metadata": {
        "id": "z917IJ4MGvT3"
      },
      "execution_count": null,
      "outputs": []
    },
    {
      "cell_type": "code",
      "source": [
        "# 문제 4\n",
        "\n",
        "def func_a(arr):\n",
        "\tcounter = [0 for _ in range(1001)]\n",
        "\tfor x in arr:\n",
        "\t\tcounter[x] += 1\n",
        "\treturn counter\n",
        "\n",
        "def func_b(arr):\n",
        "\tret = 0\n",
        "\tfor x in arr:\n",
        "\t\tif ret < x:\n",
        "\t\t\tret = x\n",
        "\treturn ret\n",
        "\n",
        "def func_c(arr):\n",
        "\tINF = 1001\n",
        "\tret = INF\n",
        "\tfor x in arr:\n",
        "\t\tif x != 0 and ret > x:\n",
        "\t\t\tret = x\n",
        "\treturn ret\n",
        "\n",
        "\n",
        "def solution(arr):\n",
        "\tcounter = func_a(arr)\n",
        "\tmax_cnt = func_b(counter)\n",
        "\tmin_cnt = func_c(counter)\n",
        "\treturn max_cnt // min_cnt\n",
        "\n",
        "arr = [1, 2, 3, 3, 1, 3, 3, 2, 3, 2]\n",
        "ret = solution(arr)\n",
        "\n",
        "print(\"solution 함수의 반환 값은\", ret, \"입니다.\")"
      ],
      "metadata": {
        "id": "TvoWgQrzG3Ex"
      },
      "execution_count": null,
      "outputs": []
    },
    {
      "cell_type": "code",
      "source": [
        "# 문제 5\n",
        "\n",
        "def solution(arr):\n",
        "\tleft, right = 0, len(arr)-1\n",
        "\twhile right-1:\n",
        "\t\tarr[left], arr[right] = arr[right], arr[left]\n",
        "\t\tleft += 1\n",
        "\t\tright -= 1\n",
        "\treturn arr\n",
        "\n",
        "arr = [1, 4, 2, 3]\n",
        "ret = solution(arr)\n",
        "\n",
        "print(\"solution 함수의 반환 값은\", ret, \"입니다.\")"
      ],
      "metadata": {
        "id": "wmdFLi-EHFfK"
      },
      "execution_count": null,
      "outputs": []
    },
    {
      "cell_type": "code",
      "source": [
        "# 문제 6\n",
        "\n",
        "def solution(number):\n",
        "\tcount = 0\n",
        "\tfor i in range(1, number + 1):\n",
        "\t\tcurrent = i\n",
        "\t\twhile current != 0:\n",
        "\t\t\tif i % 3 == 0 and i != 3:\n",
        "\t\t\t\tcount += 1\n",
        "\t\t\tcurrent = current // 10\n",
        "\treturn count\n",
        "\n",
        "number = 40\n",
        "ret = solution(number)\n",
        "\n",
        "print(\"solution 함수의 반환 값은\", ret, \"입니다.\")"
      ],
      "metadata": {
        "id": "qQTBXENAHNfJ"
      },
      "execution_count": null,
      "outputs": []
    },
    {
      "cell_type": "code",
      "source": [
        "# 문제 7\n",
        "\n",
        "def solution(scores):\n",
        "\tcount = 0\n",
        "\tfor s in scores:\n",
        "\t\tif 650 <= s and s < 800:\n",
        "\t\t\tcount += 1\n",
        "\treturn count\n",
        "\n",
        "scores = [650, 722, 914, 558, 714, 803, 650, 679, 669, 800]\n",
        "ret = solution(scores)\n",
        "\n",
        "print(\"solution 함수의 반환 값은\", ret, \"입니다.\")"
      ],
      "metadata": {
        "id": "8EFI9KtUHSai"
      },
      "execution_count": null,
      "outputs": []
    },
    {
      "cell_type": "code",
      "source": [
        "# 문제 8\n",
        "\n",
        "\n",
        "def solution(sentence):\n",
        "\tstr = ''\n",
        "\tfor c in sentence:\n",
        "\t\tif c != '.' and c != ' ':\n",
        "\t\t\tstr += c\n",
        "\tsize = len(str)\n",
        "\tfor i in range(size // 2):\n",
        "\t\tif str[i] != str[size - 1 - i]:\n",
        "\t\t\treturn False\n",
        "\treturn True\n",
        "\n",
        "\n",
        "sentence1 = \"never odd or even.\"\n",
        "ret1 = solution(sentence1)\n",
        "\n",
        "print(\"solution 함수의 반환 값은\", ret1, \"입니다.\")\n",
        "\n",
        "sentence2 = \"palindrome\"\n",
        "ret2 = solution(sentence2)\n",
        "\n",
        "print(\"solution 함수의 반환 값은\", ret2, \"입니다.\")"
      ],
      "metadata": {
        "id": "h4JmiaJ7HZYF"
      },
      "execution_count": null,
      "outputs": []
    },
    {
      "cell_type": "code",
      "source": [
        "# 문제 9\n",
        "\n",
        "def solution(characters):\n",
        "\tresult = \"\"\n",
        "\tresult == characters[0]\n",
        "\tfor i in range(len(characters)):\n",
        "\t\tif characters[i - 1] != characters[i]:\n",
        "\t\t\tresult += characters[i]\n",
        "\treturn result\n",
        "\n",
        "characters = \"senteeeencccccceeee\"\n",
        "ret = solution(characters)\n",
        "\n",
        "print(\"solution 함수의 반환 값은\", ret, \"입니다.\")"
      ],
      "metadata": {
        "id": "kRf8wm5PHeYq"
      },
      "execution_count": null,
      "outputs": []
    },
    {
      "cell_type": "code",
      "source": [
        "# 문제 10\n",
        "\n",
        "def solution(data):\n",
        "\ttotal = sum(data)\n",
        "\taverage = total / len(data)\n",
        "\tcnt = 0\n",
        "\tfor d in data:\n",
        "\t\tif d < average:\n",
        "\t\t\tcnt += 1\n",
        "\treturn cnt\n",
        "\n",
        "data1 = [1, 2, 3, 4, 5, 6, 7, 8, 9, 10]\n",
        "ret1 = solution(data1)\n",
        "\n",
        "print(\"solution 함수의 반환 값은\", ret1, \"입니다.\")\n",
        "\n",
        "data2 = [1, 1, 1, 1, 1, 1, 1, 1, 1, 10]\n",
        "ret2 = solution(data2)\n",
        "\n",
        "print(\"solution 함수의 반환 값은\", ret2, \"입니다.\")"
      ],
      "metadata": {
        "id": "Nf1LG4rbHkA4"
      },
      "execution_count": null,
      "outputs": []
    },
    {
      "cell_type": "markdown",
      "source": [
        "## 2차"
      ],
      "metadata": {
        "id": "i9xAfhzr2Mt7"
      }
    },
    {
      "cell_type": "code",
      "source": [
        "# 문제 1\n",
        "\n",
        "max_product_number = 10\n",
        "\n",
        "def func_a(gloves):\n",
        "\tcounter = [0 for _ in range(max_product_number + 1)]\n",
        "\tfor x in gloves:\n",
        "\t\tcounter[x] += 1\n",
        "\treturn counter\n",
        "\n",
        "def solution(left_gloves, right_gloves):\n",
        "\tleft_counter = func_a(left_gloves)\n",
        "\tright_counter = func_a(right_gloves)\n",
        "\n",
        "\ttotal = 0\n",
        "\tfor i in range(1, max_product_number + 1):\n",
        "\t\ttotal += min(left_counter[i], right_counter[i])\n",
        "\treturn total\n",
        "\n",
        "left_gloves = [2, 1, 2, 2, 4]\n",
        "right_gloves = [1, 2, 2, 4, 4, 7]\n",
        "ret = solution(left_gloves, right_gloves)\n",
        "\n",
        "print('solution 함수의 반환 값은', ret, '입니다.')"
      ],
      "metadata": {
        "id": "FN5SDIHEHswv"
      },
      "execution_count": null,
      "outputs": []
    },
    {
      "cell_type": "code",
      "source": [
        "# 문제 2\n",
        "\n",
        "def func_a(arr):\n",
        "\tcount = 0\n",
        "\tfor n in arr:\n",
        "\t\tif n % 5 == 0:\n",
        "\t\t\tcount += 1\n",
        "\treturn count\n",
        "\n",
        "def func_b(three, five):\n",
        "\tif three > five:\n",
        "\t\treturn \"three\"\n",
        "\telif three < five:\n",
        "\t\treturn \"five\"\n",
        "\telse:\n",
        "\t\treturn \"same\"\n",
        "\n",
        "def func_c(arr):\n",
        "\tcount = 0\n",
        "\tfor n in arr:\n",
        "\t\tif n % 3 == 0:\n",
        "\t\t\tcount += 1\n",
        "\treturn count\n",
        "\n",
        "def solution(arr):\n",
        "\tcount_three = func_c(arr)\n",
        "\tcount_five = func_a(arr)\n",
        "\tanswer = func_b(count_three, count_five)\n",
        "\treturn answer\n",
        "\n",
        "arr = [2, 3, 6, 9, 12, 15, 10, 20, 22, 25]\n",
        "ret = solution(arr)\n",
        "\n",
        "print(\"solution 함수의 반환 값은\", ret, \"입니다.\")"
      ],
      "metadata": {
        "id": "E0bQYYRDH2p1"
      },
      "execution_count": null,
      "outputs": []
    },
    {
      "cell_type": "code",
      "source": [
        "# 문제 3\n",
        "\n",
        "def solution(N, M):\n",
        "\tanswer = 0\n",
        "\tif N < M:\n",
        "\t\t\tanswer = ((N ** 2) + (M - 1) ** 2)\n",
        "\treturn answer\n",
        "\n",
        "N = 4\n",
        "M = 7\n",
        "ret = solution(N, M)\n",
        "\n",
        "print(\"solution 함수의 반환 값은\", ret, \"입니다.\")"
      ],
      "metadata": {
        "id": "x1nofkvVIyCY"
      },
      "execution_count": null,
      "outputs": []
    },
    {
      "cell_type": "code",
      "source": [
        "# 문제 4\n",
        "\n",
        "def solution(words):\n",
        "\tanswer = ''\n",
        "\tfor i in words:\n",
        "\t\tif len(i) >= 5:\n",
        "\t\t\tanswer += i\n",
        "\n",
        "\tif len(answer) == 0:\n",
        "\t\t\tanswer = 'empty'\n",
        "\treturn answer\n",
        "\n",
        "words1 = [\"my\", \"favorite\", \"color\", \"is\", \"violet\"]\n",
        "ret1 = solution(words1);\n",
        "\n",
        "print(\"solution 함수의 반환 값은\", ret1, \"입니다.\")\n",
        "\n",
        "words2 = [\"yes\", \"i\", \"am\"]\n",
        "ret2 = solution(words2);\n",
        "\n",
        "print(\"solution 함수의 반환 값은\", ret2, \"입니다.\")"
      ],
      "metadata": {
        "id": "QGvS4Wh_I6O3"
      },
      "execution_count": null,
      "outputs": []
    },
    {
      "cell_type": "code",
      "source": [
        "# 문제 5\n",
        "\n",
        "\n",
        "def solution(attack, recovery, hp):\n",
        "\tcount = 0\n",
        "\twhile(True):\n",
        "\t\tcount += 1\n",
        "\t\thp -= 30\n",
        "\t\tif hp <= 0:\n",
        "\t\t\tbreak\n",
        "\t\thp += 10\n",
        "\treturn count\n",
        "\n",
        "attack = 30\n",
        "recovery = 10\n",
        "hp = 60\n",
        "ret = solution(attack, recovery, hp)\n",
        "\n",
        "#[실행] 버튼을 누르면 출력 값을 볼 수 있습니다.\n",
        "print(\"solution 함수의 반환 값은\", ret, \"입니다.\")"
      ],
      "metadata": {
        "id": "bT4PVliZJUuP"
      },
      "execution_count": null,
      "outputs": []
    },
    {
      "cell_type": "code",
      "execution_count": null,
      "metadata": {
        "id": "94XE0utT2GVZ",
        "colab": {
          "base_uri": "https://localhost:8080/"
        },
        "outputId": "66787e3d-ae01-4e4c-8550-44241aee0a8d"
      },
      "outputs": [
        {
          "output_type": "stream",
          "name": "stdout",
          "text": [
            "solution 함수의 반환 값은 7 입니다.\n"
          ]
        }
      ],
      "source": [
        "# 문제 6\n",
        "\n",
        "def solution(floors):\n",
        "  dist = 0\n",
        "  length = len(floors)\n",
        "  for i in range(1, length):\n",
        "      if floors[i] > floors[i-1]:\n",
        "          dist += floors[i] - floors[i-1]\n",
        "      else:\n",
        "          dist += floors[i-1] - floors[i]\n",
        "  return dist\n",
        "\n",
        "floors = [1, 2, 5, 4, 2]\n",
        "ret = solution(floors)\n",
        "\n",
        "print(\"solution 함수의 반환 값은\", ret, \"입니다.\")"
      ]
    },
    {
      "cell_type": "code",
      "source": [
        "# 문제 7\n",
        "\n",
        "def solution(value, unit):\n",
        "\tconverted = 0\n",
        "\tif unit == \"C\":\n",
        "\t\tvalue = value * 1.8 + 32\n",
        "\tif unit == \"F\":\n",
        "\t\tvalue = (value - 32) / 1.8\n",
        "\tconverted = int(value)\n",
        "\treturn converted\n",
        "\n",
        "value = 527\n",
        "unit = \"C\"\n",
        "ret = solution(value, unit)\n",
        "\n",
        "print(\"solution 함수의 반환 값은\", ret, \"입니다.\")\n",
        "\n",
        "value = 980\n",
        "unit = \"F\"\n",
        "ret = solution(value, unit)\n",
        "\n",
        "print(\"solution 함수의 반환 값은\", ret, \"입니다.\")"
      ],
      "metadata": {
        "id": "epbYT8s_JZSa"
      },
      "execution_count": null,
      "outputs": []
    },
    {
      "cell_type": "code",
      "source": [
        "# 문제 8\n",
        "\n",
        "def solution(number):\n",
        "\tcount = 0\n",
        "\twhile number >= 1:\n",
        "\t\tn = number % 10\n",
        "\t\tif n == 2 or n == 3 or n == 5 or n == 7:\n",
        "\t\t\tcount += 1\n",
        "\t\tnumber //= 10\n",
        "\treturn count\n",
        "\n",
        "\n",
        "number = 29022531\n",
        "ret = solution(number)\n",
        "\n",
        "print(\"solution 함수의 반환 값은\", ret, \"입니다.\")"
      ],
      "metadata": {
        "id": "iEmG8NFm_KLy"
      },
      "execution_count": null,
      "outputs": []
    },
    {
      "cell_type": "code",
      "source": [
        "# 문제 9\n",
        "\n",
        "\n",
        "def solution(votes, N, K):\n",
        "\tcounter = [0 for _ in range(N + 1)]\n",
        "\tfor x in votes:\n",
        "\t\tcounter[x] += 1\n",
        "\tanswer = 0\n",
        "\tfor c in counter:\n",
        "\t\tif c == K:\n",
        "\t\t\tanswer += 1\n",
        "\treturn answer\n",
        "\n",
        "votes = [2, 5, 3, 4, 1, 5, 1, 5, 5, 3]\n",
        "N = 5\n",
        "K = 2\n",
        "ret = solution(votes, N, K)\n",
        "\n",
        "print(\"solution 함수의 반환 값은\", ret, \"입니다.\")"
      ],
      "metadata": {
        "id": "VihvionY_Q_A"
      },
      "execution_count": null,
      "outputs": []
    },
    {
      "cell_type": "code",
      "source": [
        "# 문제 10\n",
        "\n",
        "\n",
        "def solution(purchase):\n",
        "\ttotal = 0\n",
        "\tfor p in purchase:\n",
        "\t\tif p >= 1000000:\n",
        "\t\t\ttotal += 50000\n",
        "\t\telif p >= 600000:\n",
        "\t\t\ttotal += 30000\n",
        "\t\telif p >= 400000:\n",
        "\t\t\ttotal += 20000\n",
        "\t\telif p >= 200000:\n",
        "\t\t\ttotal += 10000\n",
        "\treturn total\n",
        "\n",
        "purchase = [150000, 210000, 399990, 990000, 1000000]\n",
        "ret = solution(purchase)\n",
        "\n",
        "print(\"solution 함수의 반환 값은\", ret, \"입니다.\")"
      ],
      "metadata": {
        "id": "Vzu7KFg5_WdX"
      },
      "execution_count": null,
      "outputs": []
    },
    {
      "cell_type": "markdown",
      "source": [
        "3차"
      ],
      "metadata": {
        "id": "UEKRtled7k3o"
      }
    },
    {
      "cell_type": "code",
      "source": [
        "# 문제 1\n",
        "\n",
        "def func_a(scores, score):\n",
        "\trank = 1\n",
        "\tfor s in scores:\n",
        "\t\tif s == score:\n",
        "\t\t\treturn rank\n",
        "\t\trank += 1\n",
        "\treturn 0\n",
        "\n",
        "def func_b(arr):\n",
        "\tarr.sort(reverse=True)\n",
        "\n",
        "def func_c(arr, n):\n",
        "\treturn arr[n]\n",
        "\n",
        "scores = [20, 60, 98, 59]\n",
        "n = 3\n",
        "ret = solution(scores, n)\n",
        "\n",
        "print(\"solution 함수의 반환 값은\", ret, \"입니다.\")"
      ],
      "metadata": {
        "id": "TowvvbLIMPv3"
      },
      "execution_count": null,
      "outputs": []
    },
    {
      "cell_type": "code",
      "source": [
        "# 문제 2\n",
        "\n",
        "def func_a(current_grade, last_grade, rank, max_diff_grade):\n",
        "\tarr_length = len(current_grade)\n",
        "\tcount = 0\n",
        "\tfor i in range(arr_length):\n",
        "\t\tif current_grade[i] >= 80 and rank[i] <= arr_length // 10:\n",
        "\t\t\tcount += 1\n",
        "\t\telif current_grade[i] >= 80 and rank[i] == 1:\n",
        "\t\t\tcount += 1\n",
        "\t\telif max_diff_grade > 0 and max_diff_grade == current_grade[i] - last_grade[i]:\n",
        "\t\t\tcount += 1\n",
        "\treturn count\n",
        "\n",
        "def func_b(current_grade):\n",
        "\tarr_length = len(current_grade)\n",
        "\trank = [1] * arr_length\n",
        "\tfor i in range(arr_length):\n",
        "\t\tfor j in range(arr_length):\n",
        "\t\t\tif current_grade[i] < current_grade[j]:\n",
        "\t\t\t\trank[i] += 1\n",
        "\treturn rank\n",
        "\n",
        "def func_c(current_grade, last_grade):\n",
        "\tmax_diff_grade = 1\n",
        "\tfor i in range(len(current_grade)):\n",
        "\t\tmax_diff_grade = max(max_diff_grade, current_grade[i] - last_grade[i])\n",
        "\treturn max_diff_grade\n",
        "\n",
        "def solution(current_grade, last_grade):\n",
        "\trank = func_b(current_grade)\n",
        "\tmax_diff_grade = func_c(current_grade, last_grade)\n",
        "\tanswer = func_a(current_grade, last_grade, rank, max_diff_grade)\n",
        "\treturn answer\n",
        "\n",
        "current_grade = [70, 100, 70, 80, 50, 95]\n",
        "last_grade = [35, 65, 80, 50, 20, 60]\n",
        "ret = solution(current_grade, last_grade)\n",
        "\n",
        "print(\"solution 함수의 반환 값은\", ret, \"입니다.\")"
      ],
      "metadata": {
        "id": "oaKas92FMQDV"
      },
      "execution_count": null,
      "outputs": []
    },
    {
      "cell_type": "code",
      "source": [
        "# 문제 3\n",
        "\n",
        "def solution(scores):\n",
        "    answer = ((sum(scores) - max(scores) - min(scores)) // (len(scores)-2))\n",
        "\n",
        "    return answer\n",
        "\n",
        "scores1 = [35, 28, 98, 34, 20, 50, 85, 74, 71, 7] # 가장 높은 값과 작은 값을 뺀 나머지를 더하라\n",
        "ret1 = solution(scores1)\n",
        "\n",
        "print(\"solution 함수의 반환 값은\", ret1, \"입니다.\")\n",
        "\n",
        "scores2 = [1, 1, 1, 1, 1] # 가장 높은 값과 작은 값을 뺀 나머지를 더하라\n",
        "ret2 = solution(scores2)\n",
        "\n",
        "print(\"solution 함수의 반환 값은\", ret2, \"입니다.\")"
      ],
      "metadata": {
        "colab": {
          "base_uri": "https://localhost:8080/"
        },
        "id": "GmZTc3P3PNEA",
        "outputId": "2cfe23cc-96f9-4c8f-92e6-d0ee36c2aea5"
      },
      "execution_count": null,
      "outputs": [
        {
          "output_type": "stream",
          "name": "stdout",
          "text": [
            "solution 함수의 반환 값은 49 입니다.\n",
            "solution 함수의 반환 값은 1 입니다.\n"
          ]
        }
      ]
    },
    {
      "cell_type": "code",
      "source": [
        "# 문제 4\n",
        "\n",
        "def solution(words, word):\n",
        "\tcount = 0\n",
        "\tfor i in words:\n",
        "\t\t\tfor j in range(len(word)):\n",
        "\t\t\t\t\tif i[j] != word[j]:\n",
        "\t\t\t\t\t\t\tcount += 1\n",
        "\treturn count\n",
        "\n",
        "words = [\"CODE\", \"COED\", \"CDEO\"]\n",
        "word = \"CODE\"\n",
        "ret = solution(words, word)\n",
        "\n",
        "print(\"solution 함수의 반환 값은\", ret, \"입니다.\")"
      ],
      "metadata": {
        "colab": {
          "base_uri": "https://localhost:8080/"
        },
        "id": "B7URYA1W1div",
        "outputId": "ffb90fd9-6695-4376-b8c7-cf5a94e397c7"
      },
      "execution_count": null,
      "outputs": [
        {
          "output_type": "stream",
          "name": "stdout",
          "text": [
            "0\n",
            "2\n",
            "3\n"
          ]
        }
      ]
    },
    {
      "cell_type": "code",
      "source": [
        "# 문제 5\n",
        "\n",
        "def solution(words):\n",
        "    answer = ''\n",
        "    for i in words:\n",
        "        if len(i) >= 5:\n",
        "            answer += i\n",
        "\n",
        "        if len(answer) == 0:\n",
        "            answer = 'empty'\n",
        "\n",
        "    return answer\n",
        "\n",
        "words1 = [\"my\", \"favorite\", \"color\", \"is\", \"violet\"]\n",
        "ret1 = solution(words1);\n",
        "\n",
        "print(\"solution 함수의 반환 값은\", ret1, \"입니다.\")\n",
        "\n",
        "word2 = [\"yes\", \"i\", \"am\"]\n",
        "ret2 = solution(word2);\n",
        "\n",
        "print(\"solution 함수의 반환 값은\", ret2, \"입니다.\")"
      ],
      "metadata": {
        "colab": {
          "base_uri": "https://localhost:8080/"
        },
        "id": "SsifjgWtMIdh",
        "outputId": "9a2f1ead-ad20-42ca-a04e-2ba72216fd36"
      },
      "execution_count": null,
      "outputs": [
        {
          "output_type": "stream",
          "name": "stdout",
          "text": [
            "solution 함수의 반환 값은 emptyfavoritecolorviolet 입니다.\n",
            "solution 함수의 반환 값은 empty 입니다.\n"
          ]
        }
      ]
    },
    {
      "cell_type": "code",
      "source": [
        "# 문제 6\n",
        "\n",
        "def solution(tile_length):\n",
        "\tanswer = ''\n",
        "\tcom = 'RRRGGB'\n",
        "\tif tile_length%6 == 1 or tile_length%6 == 2 or tile_length%6 == 4:\n",
        "\t\tanswer = '-1'\n",
        "\telse:\n",
        "\t\tfor i in range(tile_length):\n",
        "\t\t\tanswer += com[i % 6]\n",
        "\treturn answer\n",
        "\n",
        "tile_length1 = 11\n",
        "ret1 = solution(tile_length1)\n",
        "\n",
        "print(\"solution 함수의 반환 값은\", ret1, \"입니다.\")\n",
        "\n",
        "tile_length2 = 16\n",
        "ret2 = solution(tile_length2)\n",
        "\n",
        "print(\"solution 함수의 반환 값은\", ret2, \"입니다.\")"
      ],
      "metadata": {
        "colab": {
          "base_uri": "https://localhost:8080/"
        },
        "id": "OqKUJfBCslov",
        "outputId": "621b8919-1e94-49e2-f25f-b7f3c238b6fc"
      },
      "execution_count": null,
      "outputs": [
        {
          "output_type": "stream",
          "name": "stdout",
          "text": [
            "solution 함수의 반환 값은 5 입니다.\n"
          ]
        }
      ]
    },
    {
      "cell_type": "code",
      "source": [
        "# 문제 7\n",
        "\n",
        "def solution(num_apple, num_carrot, k):\n",
        "\tanswer = 0\n",
        "\n",
        "\tif num_apple < (3 * num_carrot):\n",
        "\t\tanswer = num_apple // 3\n",
        "\telse:\n",
        "\t\tanswer = num_carrot\n",
        "\n",
        "\tnum_apple -= answer * 3\n",
        "\tnum_carrot -= answer\n",
        "\n",
        "\ti = 0\n",
        "\tk = k - (num_apple + num_carrot)\n",
        "\n",
        "\twhile k > 0:\n",
        "\t\tif i % 4 == 0:\n",
        "\t\t\tanswer = answer - 1\n",
        "\t\ti = i + 1\n",
        "\t\tk = k - 1\n",
        "\n",
        "\treturn answer\n",
        "\n",
        "\n",
        "num_apple1 = 5\n",
        "num_carrot1 = 1\n",
        "k1 = 2\n",
        "ret1 = solution(num_apple1, num_carrot1, k1)\n",
        "\n",
        "print(\"solution 함수의 반환 값은\", ret1, \"입니다.\")\n",
        "\n",
        "num_apple2 = 10\n",
        "num_carrot2 = 5\n",
        "k2 = 4\n",
        "ret2 = solution(num_apple2, num_carrot2, k2)\n",
        "\n",
        "print(\"solution 함수의 반환 값은\", ret2, \"입니다.\")"
      ],
      "metadata": {
        "id": "VebkrRPD-IuW"
      },
      "execution_count": null,
      "outputs": []
    },
    {
      "cell_type": "code",
      "source": [
        "# 문제 8\n",
        "\n",
        "def solution(programs):\n",
        "\tanswer = 0\n",
        "\tused_tv = [0] * 25\n",
        "\n",
        "\tfor program in programs:\n",
        "\t\tfor i in range(program[0], program[1]):\n",
        "\t\t\tused_tv[i] = used_tv[i] + 1\n",
        "\n",
        "\tfor i in used_tv:\n",
        "\t\tif i >= 2:\n",
        "\t\t\tanswer = answer + 1\n",
        "\treturn answer\n",
        "\n",
        "programs = [[1, 6], [3, 5], [2, 8]]\n",
        "ret = solution(programs)\n",
        "\n",
        "print(\"solution 함수의 반환 값은\", ret, \"입니다.\")"
      ],
      "metadata": {
        "id": "k0TA8ciM7udp"
      },
      "execution_count": null,
      "outputs": []
    },
    {
      "cell_type": "code",
      "source": [
        "# 문제 9\n",
        "\n",
        "def solution(day, numbers):\n",
        "\tcount = 0\n",
        "\tfor number in numbers:\n",
        "\t\tif number%2 != day%1:\n",
        "\t\t\tcount += 1\n",
        "\treturn count\n",
        "\n",
        "day = 17\n",
        "numbers = [3285, 1724, 4438, 2988, 3131, 2998]\n",
        "ret = solution(day, numbers)\n",
        "\n",
        "print(\"solution 함수의 반환 값은\", ret, \"입니다.\")"
      ],
      "metadata": {
        "id": "Q865qMG172if"
      },
      "execution_count": null,
      "outputs": []
    },
    {
      "cell_type": "code",
      "source": [
        "# 문제 10\n",
        "\n",
        "def solution(arr):\n",
        "\tanswer = 0\n",
        "\tfor i in arr:\n",
        "\t\tif i/2 in arr:\n",
        "\t\t\tanswer += 1\n",
        "\treturn answer\n",
        "\n",
        "arr = [4, 8, 3, 6, 7]\n",
        "ret = solution(arr)\n",
        "\n",
        "#[실행] 버튼을 누르면 출력 값을 볼 수 있습니다.\n",
        "print(\"solution 함수의 반환 값은\", ret, \"입니다.\")"
      ],
      "metadata": {
        "id": "VlmAwZYJ78S3"
      },
      "execution_count": null,
      "outputs": []
    },
    {
      "cell_type": "markdown",
      "source": [
        "## 4차"
      ],
      "metadata": {
        "id": "0rFUUCTWMnxp"
      }
    },
    {
      "cell_type": "code",
      "source": [
        "# 문제 1\n",
        "\n",
        "def solution(schedule):\n",
        "\tanswer = []\n",
        "\tfor idx, i in enumerate(schedule):\n",
        "\t\tif i == 'X':\n",
        "\t\t\tanswer.append(idx + 1)\n",
        "\treturn answer\n",
        "\n",
        "schedule = [\"O\", \"X\", \"X\", \"O\", \"O\", \"O\", \"X\", \"O\", \"X\", \"X\"]\n",
        "ret = solution(schedule)\n",
        "\n",
        "print(\"solution 함수의 반환 값은\", ret, \"입니다.\")"
      ],
      "metadata": {
        "id": "KDhtG_3r__Np"
      },
      "execution_count": null,
      "outputs": []
    },
    {
      "cell_type": "code",
      "source": [
        "# 문제 2\n",
        "\n",
        "def func_a(passed, non_passed):\n",
        "\treturn ( passed > 1 and non_passed ==0 )\n",
        "\n",
        "def func_b(scores):\n",
        "\tanswer = 0\n",
        "\tif scores[0] < 40:\n",
        "\t\tanswer += 1\n",
        "\tif scores[1] < 44:\n",
        "\t\tanswer += 1\n",
        "\tif scores[2] < 35:\n",
        "\t\tanswer += 1\n",
        "\treturn answer\n",
        "\n",
        "def func_c(scores):\n",
        "\tanswer = 0\n",
        "\tif scores[0] >= 80:\n",
        "\t\tanswer += 1\n",
        "\tif scores[1] >= 88:\n",
        "\t\tanswer += 1\n",
        "\tif scores[2] >= 70:\n",
        "\t\tanswer += 1\n",
        "\treturn answer\n",
        "\n",
        "def solution(scores):\n",
        "\tanswer = 0\n",
        "\tfor my_score in scores:\n",
        "\t\tpassed = func_c(my_score)\n",
        "\t\tnon_passed = func_b(my_score)\n",
        "\t\tanswer += func_a(passed, non_passed)\n",
        "\treturn answer\n",
        "\n",
        "scores1 = [[30, 40, 100], [97, 88, 95]]\n",
        "ret1 = solution(scores1)\n",
        "\n",
        "print(\"solution 함수의 반환 값은\", ret1, \"입니다.\")\n",
        "\n",
        "scores2 = [[90, 88, 70], [85, 90, 90], [100, 100, 70], [30, 90, 80], [40, 10, 20], [83, 88, 80]]\n",
        "ret2 = solution(scores2)\n",
        "\n",
        "print(\"solution 함수의 반환 값은\", ret2, \"입니다.\")"
      ],
      "metadata": {
        "id": "8KckmMSkADno"
      },
      "execution_count": null,
      "outputs": []
    },
    {
      "cell_type": "code",
      "source": [
        "# 문제 3\n",
        "\n",
        "def func_a(bundle, start):\n",
        "\treturn bundle[start::2]\n",
        "\n",
        "def func_b(score1, score2):\n",
        "\tif score1 > score2:\n",
        "\t\treturn [1, score1]\n",
        "\telif score2 > score1:\n",
        "\t\treturn [2, score2]\n",
        "\telse:\n",
        "\t\treturn [0, score1]\n",
        "\n",
        "def func_c(bundle):\n",
        "\tanswer = 0\n",
        "\tscore_per_cards = {\n",
        "\t\t'a': 1,\n",
        "\t\t'b': 2,\n",
        "\t\t'c': 3,\n",
        "\t\t'd': 4,\n",
        "\t\t'e': 5\n",
        "\t}\n",
        "\tfor card in bundle:\n",
        "\t\tanswer += score_per_cards[card]\n",
        "\treturn answer\n",
        "\n",
        "def solution(n, bundle):\n",
        "\ta_cards = func_a(bundle, 0)[:n]\n",
        "\tb_cards = func_a(bundle, 1)[:n]\n",
        "\ta_score = func_c(a_cards)\n",
        "\tb_score = func_c(b_cards)\n",
        "\treturn func_b(a_score, b_score)\n",
        "\n",
        "n = 4\n",
        "bundle = \"cacdbdedccbb\"\n",
        "ret = solution(n, bundle)\n",
        "\n",
        "print(\"solution 함수의 반환 값은\", ret, \"입니다.\")"
      ],
      "metadata": {
        "id": "I9BPGIs_ALIg"
      },
      "execution_count": null,
      "outputs": []
    },
    {
      "cell_type": "code",
      "source": [
        "# 문제 4\n",
        "\n",
        "def solution(classes, m):\n",
        "\tanswer = 0\n",
        "\tfor students in classes:\n",
        "\t\tanswer += students // m\n",
        "\t\tif students % m != 0:\n",
        "\t\t\tanswer += 1\n",
        "\treturn answer\n",
        "\n",
        "classes = [80, 45, 33, 20]\n",
        "m = 30\n",
        "ret = solution(classes, m)\n",
        "\n",
        "print(\"solution 함수의 반환 값은\", ret, \"입니다.\")"
      ],
      "metadata": {
        "id": "5kifcU50AUdQ"
      },
      "execution_count": null,
      "outputs": []
    },
    {
      "cell_type": "code",
      "source": [
        "# 문제 5\n",
        "\n",
        "def solution(calorie):\n",
        "\tmin_cal = calorie[0]\n",
        "\tanswer = 0\n",
        "\tfor cal in calorie:\n",
        "\t\tif cal > min_cal:\n",
        "\t\t\tanswer += cal - min_cal\n",
        "\t\tmin_cal = min(min_cal, cal)\n",
        "\treturn answer\n",
        "\n",
        "calorie = [713, 665, 873, 500, 751]\n",
        "ret = solution(calorie)\n",
        "\n",
        "# [실행] 버튼을 누르면 출력 값을 볼 수 있습니다.\n",
        "print(\"solution 함수의 반환 값은\", ret, \"입니다.\")"
      ],
      "metadata": {
        "id": "ZNaeK336AayA"
      },
      "execution_count": null,
      "outputs": []
    },
    {
      "cell_type": "code",
      "source": [
        "# 문제 6\n",
        "\n",
        "def solution(point):\n",
        "\tif point < 1000:\n",
        "\t\treturn 0\n",
        "\treturn point - point // 100\n",
        "\n",
        "point = 2323\n",
        "ret = solution(point)\n",
        "\n",
        "print(\"solution 함수의 반환 값은\", ret, \"입니다.\")"
      ],
      "metadata": {
        "id": "mDpcg3psAhR5"
      },
      "execution_count": null,
      "outputs": []
    },
    {
      "cell_type": "code",
      "source": [
        "# 문제 7\n",
        "\n",
        "def func_a(scores1, scores2):\n",
        "\tanswer = 0\n",
        "\tfor score1, score2 in zip(scores1, scores2):\n",
        "\t\tanswer = max(answer, score2 - score1)\n",
        "\treturn answer\n",
        "\n",
        "def func_b(scores1, scores2):\n",
        "\tanswer = 0\n",
        "\tfor score1, score2 in zip(scores1, scores2):\n",
        "\t\tanswer = min(answer, score1 - score2)\n",
        "\treturn answer\n",
        "\n",
        "\n",
        "def solution(mid_scores, final_scores):\n",
        "\tup = func_a(mid_scores, final_scores)\n",
        "\tdown = func_b(mid_scores, final_scores)\n",
        "\tanswer = [up, down + 20]\n",
        "\treturn answer\n",
        "\n",
        "mid_scores = [20, 50, 40]\n",
        "final_scores = [10, 50, 70]\n",
        "ret = solution(mid_scores, final_scores)\n",
        "\n",
        "print(\"solution 함수의 반환 값은\", ret, \"입니다.\")"
      ],
      "metadata": {
        "id": "pq1ijLF8AmO4"
      },
      "execution_count": null,
      "outputs": []
    },
    {
      "cell_type": "code",
      "source": [
        "# 문제 8\n",
        "\n",
        "def solution(n, votes):\n",
        "\tanswer = 0\n",
        "\tvotes_len = len(votes)\n",
        "\tcandidate = votes[0]\n",
        "\tcount = 1\n",
        "\tfor i in range (1, votes_len) :\n",
        "\t\tif candidate == votes[i] :\n",
        "\t\t\tcount += 1\n",
        "\t\telse :\n",
        "\t\t\tcount -= 1\n",
        "\t\tif count == 0 :\n",
        "\t\t\tcandidate = votes[i]\n",
        "\t\t\tcount = 1\n",
        "\n",
        "\ttest_count = 0\n",
        "\tfor i in range(0, votes_len) :\n",
        "\t\tif votes[i] == candidate :\n",
        "\t\t\ttest_count = 1\n",
        "\n",
        "\tif test_count < votes_len // 2 :\n",
        "\t\tanswer = candidate\n",
        "\telse :\n",
        "\t\tanswer = -1\n",
        "\n",
        "\treturn answer\n",
        "\n",
        "n1 = 3\n",
        "votes1 = [1, 2, 1, 3, 1, 2, 1]\n",
        "ret1 = solution(n1, votes1)\n",
        "\n",
        "print(\"solution 함수의 반환 값은\", ret1, \"입니다.\")\n",
        "\n",
        "n2 = 2\n",
        "votes2 = [2, 1, 2, 1, 2, 2, 1]\n",
        "ret2 = solution(n2, votes2)\n",
        "\n",
        "print(\"solution 함수의 반환 값은\", ret2, \"입니다.\")"
      ],
      "metadata": {
        "id": "C79WfoQPAuh5"
      },
      "execution_count": null,
      "outputs": []
    },
    {
      "cell_type": "code",
      "source": [
        "# 문제 9\n",
        "\n",
        "def solution(height):\n",
        "\tcount = 0\n",
        "\n",
        "\tbig_list = [[i for i in range(len(height) + 2)] for j in range(len(height) + 2)]\n",
        "\n",
        "\tfor i in range(len(height)):\n",
        "\t\t\tfor j in range(len(height)):\n",
        "\t\t\t\t\tif i > 0 and big_list[i-1][j] > height[i][j]:\n",
        "\t\t\t\t\t\t\tpass\n",
        "\t\t\t\t\telif i < 3 and big_list[i+1][j] > height[i][j]:\n",
        "\t\t\t\t\t\t\tpass\n",
        "\t\t\t\t\telif j > 0 and big_list[i][j-1] > height[i][j]:\n",
        "\t\t\t\t\t\t\tpass\n",
        "\t\t\t\t\telif j < 3 and big_list[i][j+1] < height[i][j]:\n",
        "\t\t\t\t\t\t\tpass\n",
        "\t\t\t\t\telse:\n",
        "\t\t\t\t\t\t\tcount += 1\n",
        "\n",
        "\treturn count\n",
        "\n",
        "height = [[3, 6, 2, 8], [7, 3, 4, 2], [8, 6, 7, 3], [5, 3, 2, 9]]\n",
        "ret = solution(height)\n",
        "\n",
        "print(\"solution 함수의 반환 값은\", ret, \"입니다.\")"
      ],
      "metadata": {
        "colab": {
          "base_uri": "https://localhost:8080/",
          "height": 106
        },
        "id": "8aeSj3eFxf-C",
        "outputId": "68a2add0-b9d6-415d-a9f0-7106b4aa2fbb"
      },
      "execution_count": null,
      "outputs": [
        {
          "output_type": "error",
          "ename": "TabError",
          "evalue": "inconsistent use of tabs and spaces in indentation (<ipython-input-2-f31aa3c3ab5e>, line 6)",
          "traceback": [
            "\u001b[0;36m  File \u001b[0;32m\"<ipython-input-2-f31aa3c3ab5e>\"\u001b[0;36m, line \u001b[0;32m6\u001b[0m\n\u001b[0;31m    for j in range(4):\u001b[0m\n\u001b[0m    ^\u001b[0m\n\u001b[0;31mTabError\u001b[0m\u001b[0;31m:\u001b[0m inconsistent use of tabs and spaces in indentation\n"
          ]
        }
      ]
    },
    {
      "cell_type": "code",
      "source": [
        "# 문제 10\n",
        "\n",
        "def solution(scores, cutline):\n",
        "    answer = 0\n",
        "    for i in scores:\n",
        "        if i >= cutline:\n",
        "            answer += 1\n",
        "    return answer\n",
        "\n",
        "\n",
        "scores = [80, 90, 55, 60, 59]\n",
        "cutline = 60\n",
        "ret = solution(scores, cutline)\n",
        "\n",
        "print(\"solution 함수의 반환 값은\", ret, \"입니다.\")"
      ],
      "metadata": {
        "colab": {
          "base_uri": "https://localhost:8080/"
        },
        "id": "VvqZ-kRGxyGz",
        "outputId": "d47b63b2-d9f9-4552-d72d-66422456953d"
      },
      "execution_count": null,
      "outputs": [
        {
          "output_type": "stream",
          "name": "stdout",
          "text": [
            "solution 함수의 반환 값은 3 입니다.\n"
          ]
        }
      ]
    },
    {
      "cell_type": "code",
      "source": [
        "def solution(height):\n",
        "\tcount = 0\n",
        "\n",
        "\tbig_list = [[i for i in range(height + 2)] for j in range(height + 2)]\n",
        "\n",
        "\tprint(big_list)\n",
        "\n",
        "\treturn count\n",
        "\n",
        "height = [[3, 6, 2, 8], [7, 3, 4, 2], [8, 6, 7, 3], [5, 3, 2, 9]]\n",
        "ret = solution(height)\n",
        "\n",
        "print(\"solution 함수의 반환 값은\", ret, \"입니다.\")"
      ],
      "metadata": {
        "colab": {
          "base_uri": "https://localhost:8080/",
          "height": 332
        },
        "id": "fYLI6GbTVA3W",
        "outputId": "645885f5-bbaf-4b29-87cd-477328888061"
      },
      "execution_count": null,
      "outputs": [
        {
          "output_type": "error",
          "ename": "TypeError",
          "evalue": "can only concatenate list (not \"int\") to list",
          "traceback": [
            "\u001b[0;31m---------------------------------------------------------------------------\u001b[0m",
            "\u001b[0;31mTypeError\u001b[0m                                 Traceback (most recent call last)",
            "\u001b[0;32m<ipython-input-3-d4d63b1142c2>\u001b[0m in \u001b[0;36m<cell line: 0>\u001b[0;34m()\u001b[0m\n\u001b[1;32m      9\u001b[0m \u001b[0;34m\u001b[0m\u001b[0m\n\u001b[1;32m     10\u001b[0m \u001b[0mheight\u001b[0m \u001b[0;34m=\u001b[0m \u001b[0;34m[\u001b[0m\u001b[0;34m[\u001b[0m\u001b[0;36m3\u001b[0m\u001b[0;34m,\u001b[0m \u001b[0;36m6\u001b[0m\u001b[0;34m,\u001b[0m \u001b[0;36m2\u001b[0m\u001b[0;34m,\u001b[0m \u001b[0;36m8\u001b[0m\u001b[0;34m]\u001b[0m\u001b[0;34m,\u001b[0m \u001b[0;34m[\u001b[0m\u001b[0;36m7\u001b[0m\u001b[0;34m,\u001b[0m \u001b[0;36m3\u001b[0m\u001b[0;34m,\u001b[0m \u001b[0;36m4\u001b[0m\u001b[0;34m,\u001b[0m \u001b[0;36m2\u001b[0m\u001b[0;34m]\u001b[0m\u001b[0;34m,\u001b[0m \u001b[0;34m[\u001b[0m\u001b[0;36m8\u001b[0m\u001b[0;34m,\u001b[0m \u001b[0;36m6\u001b[0m\u001b[0;34m,\u001b[0m \u001b[0;36m7\u001b[0m\u001b[0;34m,\u001b[0m \u001b[0;36m3\u001b[0m\u001b[0;34m]\u001b[0m\u001b[0;34m,\u001b[0m \u001b[0;34m[\u001b[0m\u001b[0;36m5\u001b[0m\u001b[0;34m,\u001b[0m \u001b[0;36m3\u001b[0m\u001b[0;34m,\u001b[0m \u001b[0;36m2\u001b[0m\u001b[0;34m,\u001b[0m \u001b[0;36m9\u001b[0m\u001b[0;34m]\u001b[0m\u001b[0;34m]\u001b[0m\u001b[0;34m\u001b[0m\u001b[0;34m\u001b[0m\u001b[0m\n\u001b[0;32m---> 11\u001b[0;31m \u001b[0mret\u001b[0m \u001b[0;34m=\u001b[0m \u001b[0msolution\u001b[0m\u001b[0;34m(\u001b[0m\u001b[0mheight\u001b[0m\u001b[0;34m)\u001b[0m\u001b[0;34m\u001b[0m\u001b[0;34m\u001b[0m\u001b[0m\n\u001b[0m\u001b[1;32m     12\u001b[0m \u001b[0;34m\u001b[0m\u001b[0m\n\u001b[1;32m     13\u001b[0m \u001b[0mprint\u001b[0m\u001b[0;34m(\u001b[0m\u001b[0;34m\"solution 함수의 반환 값은\"\u001b[0m\u001b[0;34m,\u001b[0m \u001b[0mret\u001b[0m\u001b[0;34m,\u001b[0m \u001b[0;34m\"입니다.\"\u001b[0m\u001b[0;34m)\u001b[0m\u001b[0;34m\u001b[0m\u001b[0;34m\u001b[0m\u001b[0m\n",
            "\u001b[0;32m<ipython-input-3-d4d63b1142c2>\u001b[0m in \u001b[0;36msolution\u001b[0;34m(height)\u001b[0m\n\u001b[1;32m      2\u001b[0m         \u001b[0mcount\u001b[0m \u001b[0;34m=\u001b[0m \u001b[0;36m0\u001b[0m\u001b[0;34m\u001b[0m\u001b[0;34m\u001b[0m\u001b[0m\n\u001b[1;32m      3\u001b[0m \u001b[0;34m\u001b[0m\u001b[0m\n\u001b[0;32m----> 4\u001b[0;31m         \u001b[0mbig_list\u001b[0m \u001b[0;34m=\u001b[0m \u001b[0;34m[\u001b[0m\u001b[0;34m[\u001b[0m\u001b[0mi\u001b[0m \u001b[0;32mfor\u001b[0m \u001b[0mi\u001b[0m \u001b[0;32min\u001b[0m \u001b[0mrange\u001b[0m\u001b[0;34m(\u001b[0m\u001b[0mheight\u001b[0m \u001b[0;34m+\u001b[0m \u001b[0;36m2\u001b[0m\u001b[0;34m)\u001b[0m\u001b[0;34m]\u001b[0m \u001b[0;32mfor\u001b[0m \u001b[0mj\u001b[0m \u001b[0;32min\u001b[0m \u001b[0mrange\u001b[0m\u001b[0;34m(\u001b[0m\u001b[0mheight\u001b[0m \u001b[0;34m+\u001b[0m \u001b[0;36m2\u001b[0m\u001b[0;34m)\u001b[0m\u001b[0;34m]\u001b[0m\u001b[0;34m\u001b[0m\u001b[0;34m\u001b[0m\u001b[0m\n\u001b[0m\u001b[1;32m      5\u001b[0m \u001b[0;34m\u001b[0m\u001b[0m\n\u001b[1;32m      6\u001b[0m         \u001b[0mprint\u001b[0m\u001b[0;34m(\u001b[0m\u001b[0mbig_list\u001b[0m\u001b[0;34m)\u001b[0m\u001b[0;34m\u001b[0m\u001b[0;34m\u001b[0m\u001b[0m\n",
            "\u001b[0;31mTypeError\u001b[0m: can only concatenate list (not \"int\") to list"
          ]
        }
      ]
    },
    {
      "cell_type": "markdown",
      "source": [
        "## 5차"
      ],
      "metadata": {
        "id": "BQNTneyCPInx"
      }
    },
    {
      "cell_type": "code",
      "source": [
        "# 문제 1\n",
        "\n",
        "def solution(ladders, win):\n",
        "    answer = 0\n",
        "    player = [1, 2, 3, 4, 5, 6]\n",
        "    for e in ladders:\n",
        "        temp = player[e[0]-1]\n",
        "        win = 1 or 6\n",
        "        ladders = temp\n",
        "    answer = player[win-1]\n",
        "    return answer\n",
        "\n",
        "ladders = [[1, 2], [3, 4], [2, 3], [4, 5], [5, 6]]\n",
        "win = 3\n",
        "ret = solution(ladders, win)\n",
        "\n",
        "print(\"solution 함수의 변환 값은\", ret, \"입니다.\")"
      ],
      "metadata": {
        "colab": {
          "base_uri": "https://localhost:8080/"
        },
        "id": "p096zaEhPIDO",
        "outputId": "193c260d-974a-45c7-a6cd-5a2223636b10"
      },
      "execution_count": null,
      "outputs": [
        {
          "output_type": "stream",
          "name": "stdout",
          "text": [
            "solution 함수의 변환 값은 1 입니다.\n"
          ]
        }
      ]
    },
    {
      "cell_type": "code",
      "source": [
        "# 문제 9\n",
        "\n",
        "def solution(score):\n",
        "    answer = []\n",
        "    new_list = sorted(score, reverse = True)\n",
        "    for i in range(len(score)):\n",
        "        answer.append(new_list.index(score[i]) + 1)\n",
        "    return answer\n",
        "\n",
        "\n",
        "score1 = [90, 87, 87, 23, 35, 28, 12, 46]\n",
        "ret1 = solution(score1)\n",
        "\n",
        "print(\"solution 함수의 반환 값은\", ret1, \"입니다.\")\n",
        "\n",
        "score2 = [10, 20, 20, 30]\n",
        "ret2 = solution(score2)\n",
        "\n",
        "print(\"solution 함수의 반환 값은\", ret2, \"입니다.\")"
      ],
      "metadata": {
        "id": "rZ4mdyY1R0sf",
        "colab": {
          "base_uri": "https://localhost:8080/"
        },
        "outputId": "7b420782-4f91-4111-e327-6a0d1a6c5f66"
      },
      "execution_count": 2,
      "outputs": [
        {
          "output_type": "stream",
          "name": "stdout",
          "text": [
            "solution 함수의 반환 값은 [1, 2, 2, 7, 5, 6, 8, 4] 입니다.\n",
            "solution 함수의 반환 값은 [4, 2, 2, 1] 입니다.\n"
          ]
        }
      ]
    },
    {
      "cell_type": "code",
      "source": [
        "# 문제 10\n",
        "\n",
        "def solution(time_table, n):\n",
        "    answer = 0\n",
        "\n",
        "    answer = max([sum(time_table[i::n]) for i in range(n)])\n",
        "\n",
        "    return answer\n",
        "\n",
        "time_table1 = [1, 5, 1, 9]\n",
        "n1 = 3\n",
        "ret1 = solution(time_table1, n1)\n",
        "\n",
        "print(\"solution 함수의 반환 값은\", ret1, \"입니다.\")\n",
        "\n",
        "time_table2 = [4, 8, 2, 5, 4, 6, 7]\n",
        "n2 = 4\n",
        "ret2 = solution(time_table2, n2)\n",
        "\n",
        "print(\"solution 함수의 반환 값은\", ret2, \"입니다.\")"
      ],
      "metadata": {
        "colab": {
          "base_uri": "https://localhost:8080/"
        },
        "id": "BHZ43ZXVFNgz",
        "outputId": "4caef042-2ca5-4abc-9c47-f23893ce8e78"
      },
      "execution_count": 3,
      "outputs": [
        {
          "output_type": "stream",
          "name": "stdout",
          "text": [
            "solution 함수의 반환 값은 10 입니다.\n",
            "solution 함수의 반환 값은 14 입니다.\n"
          ]
        }
      ]
    },
    {
      "cell_type": "code",
      "source": [
        "list = [4, 5, 3, 2, 7]\n",
        "\n",
        "new_list = sorted(list, reverse = True)\n",
        "print(list)\n",
        "print(new_list)"
      ],
      "metadata": {
        "id": "ZfhNyO3Bp6Bu",
        "colab": {
          "base_uri": "https://localhost:8080/"
        },
        "outputId": "a37f368d-5b4e-4c59-f9d8-aef396bf28a9"
      },
      "execution_count": null,
      "outputs": [
        {
          "output_type": "stream",
          "name": "stdout",
          "text": [
            "[4, 5, 3, 2, 7]\n",
            "[7, 5, 4, 3, 2]\n"
          ]
        }
      ]
    },
    {
      "cell_type": "code",
      "source": [
        "new_list.index(5)"
      ],
      "metadata": {
        "colab": {
          "base_uri": "https://localhost:8080/"
        },
        "id": "iNc12SqKDpUF",
        "outputId": "4a8c9b42-179c-47ff-9ff2-65dd355cfdd8"
      },
      "execution_count": null,
      "outputs": [
        {
          "output_type": "execute_result",
          "data": {
            "text/plain": [
              "1"
            ]
          },
          "metadata": {},
          "execution_count": 8
        }
      ]
    },
    {
      "cell_type": "code",
      "source": [
        "time_table1 = [1, 5, 1, 9]\n",
        "time_table2 = [4, 8, 2, 5, 4, 6, 7]\n",
        "\n",
        "print(time_table1[0] + time_table1[-1])\n",
        "print(time_table2[1] + time_table2[5])"
      ],
      "metadata": {
        "colab": {
          "base_uri": "https://localhost:8080/"
        },
        "id": "Gw3bBvpbfjbA",
        "outputId": "9de17b93-3801-47ba-e6bf-2715776d0699"
      },
      "execution_count": 7,
      "outputs": [
        {
          "output_type": "stream",
          "name": "stdout",
          "text": [
            "10\n",
            "14\n"
          ]
        }
      ]
    },
    {
      "cell_type": "code",
      "source": [],
      "metadata": {
        "id": "R1xTgIRVf1rL"
      },
      "execution_count": null,
      "outputs": []
    }
  ]
}