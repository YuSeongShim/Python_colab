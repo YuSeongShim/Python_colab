{
  "nbformat": 4,
  "nbformat_minor": 0,
  "metadata": {
    "colab": {
      "provenance": [],
      "authorship_tag": "ABX9TyMbZeTmjIB8MjK17yGLzgGl",
      "include_colab_link": true
    },
    "kernelspec": {
      "name": "python3",
      "display_name": "Python 3"
    },
    "language_info": {
      "name": "python"
    }
  },
  "cells": [
    {
      "cell_type": "markdown",
      "metadata": {
        "id": "view-in-github",
        "colab_type": "text"
      },
      "source": [
        "<a href=\"https://colab.research.google.com/github/YuSeongShim/Python_colab/blob/main/25_05_14_Python_%EC%88%98%EC%97%85(%EB%9E%8C%EB%8B%A4_%ED%91%9C%ED%98%84%EC%8B%9D_%EC%82%AC%EC%9A%A9%ED%95%98%EA%B8%B0).ipynb\" target=\"_parent\"><img src=\"https://colab.research.google.com/assets/colab-badge.svg\" alt=\"Open In Colab\"/></a>"
      ]
    },
    {
      "cell_type": "markdown",
      "source": [
        "## 람다 표현식으로 함수 만들기"
      ],
      "metadata": {
        "id": "UFDn_ts0_HFw"
      }
    },
    {
      "cell_type": "code",
      "execution_count": 3,
      "metadata": {
        "colab": {
          "base_uri": "https://localhost:8080/"
        },
        "id": "vuP8xHnx-1gW",
        "outputId": "97a33754-791c-45bf-81d7-367de7d93b8d"
      },
      "outputs": [
        {
          "output_type": "execute_result",
          "data": {
            "text/plain": [
              "11"
            ]
          },
          "metadata": {},
          "execution_count": 3
        }
      ],
      "source": [
        "# 람다 표현식을 사용하기 전에 먼저 숫자를 받은 뒤 10를 더해서 변하는 함수\n",
        "\n",
        "def plus_ten(x):\n",
        "    return x + 10 # 매개변수 x에 10을 더한 값을 반환\n",
        "\n",
        "plus_ten(1)"
      ]
    },
    {
      "cell_type": "code",
      "source": [
        "# lambda 매개변수들: 식\n",
        "# 람다 표현식을 익명 함수라고 부름\n",
        "\n",
        "lambda x: x + 10 # 이대로 호출 x, 왜냐하면 람다 표현식은 이름이 없는 함수를 만들기 때문"
      ],
      "metadata": {
        "colab": {
          "base_uri": "https://localhost:8080/"
        },
        "id": "Z0BKLTTZABQO",
        "outputId": "8c79fdf3-64a8-4e81-a671-58e72fbfc93e"
      },
      "execution_count": 4,
      "outputs": [
        {
          "output_type": "execute_result",
          "data": {
            "text/plain": [
              "<function __main__.<lambda>(x)>"
            ]
          },
          "metadata": {},
          "execution_count": 4
        }
      ]
    },
    {
      "cell_type": "code",
      "source": [
        "plus_ten = lambda x: x+ 10 # 익명 함수 호출하려면 다음과 같이 람다 표현식을 변수에 할당\n",
        "plus_ten(1)"
      ],
      "metadata": {
        "colab": {
          "base_uri": "https://localhost:8080/"
        },
        "id": "uXaojzL9Ad5U",
        "outputId": "a277f536-2f13-4015-fa77-74372e5ec8ca"
      },
      "execution_count": 5,
      "outputs": [
        {
          "output_type": "execute_result",
          "data": {
            "text/plain": [
              "11"
            ]
          },
          "metadata": {},
          "execution_count": 5
        }
      ]
    },
    {
      "cell_type": "markdown",
      "source": [
        "## 람다 표현식 자체를 호출하기"
      ],
      "metadata": {
        "id": "ZiqOgIMZBzxg"
      }
    },
    {
      "cell_type": "code",
      "source": [
        "# 람다 표현식은 변수에 할당 x, 표현식 자체를 바로 호출 가능\n",
        "# 람다 표현식은 ()괄호로 묶은 뒤 다시 ()를 붙이고 인수를 넣어서 호출함\n",
        "\n",
        "(lambda x: x + 10)(1)"
      ],
      "metadata": {
        "colab": {
          "base_uri": "https://localhost:8080/"
        },
        "id": "DlNjyalOA5lP",
        "outputId": "3b35e783-cf5b-4156-fea4-49e81299761c"
      },
      "execution_count": 6,
      "outputs": [
        {
          "output_type": "execute_result",
          "data": {
            "text/plain": [
              "11"
            ]
          },
          "metadata": {},
          "execution_count": 6
        }
      ]
    },
    {
      "cell_type": "markdown",
      "source": [
        "## 람다 표현식 안에서는 변수를 만들 수 없다"
      ],
      "metadata": {
        "id": "jJGtSRE8CnF3"
      }
    },
    {
      "cell_type": "code",
      "source": [
        "# 람다 표현식 안에서는 새 변수를 만들 필요 x\n",
        "# 따라서 반환값 부분은 변수 없이 식 한줄로 표현할 수 있어야 함\n",
        "# 반드시 필요에 따라서는 def도 필요!!\n",
        "\n",
        "# 단 람다 표현식 바깥에 있는 변수는 사용할 수 o\n",
        "(lambda x: y = 10; x + y)(1)"
      ],
      "metadata": {
        "colab": {
          "base_uri": "https://localhost:8080/",
          "height": 110
        },
        "id": "u4gtMD5sCWQ3",
        "outputId": "693627a9-d0cd-45a9-ae3a-40adb87671f3"
      },
      "execution_count": 10,
      "outputs": [
        {
          "output_type": "error",
          "ename": "SyntaxError",
          "evalue": "invalid syntax (<ipython-input-10-582c463cfb89>, line 5)",
          "traceback": [
            "\u001b[0;36m  File \u001b[0;32m\"<ipython-input-10-582c463cfb89>\"\u001b[0;36m, line \u001b[0;32m5\u001b[0m\n\u001b[0;31m    (lambda x: y = 10; x + y)(1)\u001b[0m\n\u001b[0m                 ^\u001b[0m\n\u001b[0;31mSyntaxError\u001b[0m\u001b[0;31m:\u001b[0m invalid syntax\n"
          ]
        }
      ]
    },
    {
      "cell_type": "code",
      "source": [
        "# 매개변수 x와 람다 표현식 바깥에 있는 변수 y를 더해서 반환\n",
        "\n",
        "y = 10\n",
        "(lambda x:x + y)(1)"
      ],
      "metadata": {
        "colab": {
          "base_uri": "https://localhost:8080/"
        },
        "id": "uG1MifMPDA5F",
        "outputId": "a12a2717-4437-427b-9e49-62a5791f941a"
      },
      "execution_count": 9,
      "outputs": [
        {
          "output_type": "execute_result",
          "data": {
            "text/plain": [
              "11"
            ]
          },
          "metadata": {},
          "execution_count": 9
        }
      ]
    },
    {
      "cell_type": "markdown",
      "source": [
        "## 람다 표현식을 인수로 사용하기"
      ],
      "metadata": {
        "id": "WeatzdUnD9AH"
      }
    },
    {
      "cell_type": "code",
      "source": [
        "# 람다 표현식을 사용하는 이유 -> 함수의 인수 부분에서 간단하게 함수를 만들기 위함\n",
        "# 대표적인 예) map\n",
        "\n",
        "def plus_ten(x):\n",
        "    return x + 10\n",
        "\n",
        "list(map(plus_ten, [1,2,3]))"
      ],
      "metadata": {
        "colab": {
          "base_uri": "https://localhost:8080/"
        },
        "id": "gwuHn4L7DNY6",
        "outputId": "4bd53389-faa9-4b2e-f9f6-8ceb1f468ba1"
      },
      "execution_count": 11,
      "outputs": [
        {
          "output_type": "execute_result",
          "data": {
            "text/plain": [
              "[11, 12, 13]"
            ]
          },
          "metadata": {},
          "execution_count": 11
        }
      ]
    },
    {
      "cell_type": "code",
      "source": [
        "# 람다 표현식으로 함수 만들어서 map에 넣음\n",
        "\n",
        "list(map(lambda x: x + 10, [1,2,3]))"
      ],
      "metadata": {
        "colab": {
          "base_uri": "https://localhost:8080/"
        },
        "id": "SwHxL18WEUba",
        "outputId": "565e1872-a688-4287-d2bf-8d0890cb5bf5"
      },
      "execution_count": 12,
      "outputs": [
        {
          "output_type": "execute_result",
          "data": {
            "text/plain": [
              "[11, 12, 13]"
            ]
          },
          "metadata": {},
          "execution_count": 12
        }
      ]
    },
    {
      "cell_type": "markdown",
      "source": [
        "## 람다 표현식으로 매개변수가 없는 함수 만들기"
      ],
      "metadata": {
        "id": "Wt41BgLcFBGT"
      }
    },
    {
      "cell_type": "code",
      "source": [
        "# 매개변수가 없는 함수를 만들 때는 lambda 뒤에 아무것도 저장하지 않고 :(콜론)을 붙임\n",
        "# 단 콜론 뒤에는 반드시 반환값이 있어야 함\n",
        "# 표현식은 반드시 값으로 평가되기 때문!!\n",
        "\n",
        "(lambda : 1)()"
      ],
      "metadata": {
        "colab": {
          "base_uri": "https://localhost:8080/"
        },
        "id": "ll_bAkXLE1ME",
        "outputId": "e9016372-2ad3-43bb-c76d-aad559b73289"
      },
      "execution_count": 13,
      "outputs": [
        {
          "output_type": "execute_result",
          "data": {
            "text/plain": [
              "1"
            ]
          },
          "metadata": {},
          "execution_count": 13
        }
      ]
    },
    {
      "cell_type": "code",
      "source": [
        "x = 10\n",
        "(lambda : x)()"
      ],
      "metadata": {
        "colab": {
          "base_uri": "https://localhost:8080/"
        },
        "id": "tF6vrGuqFzRX",
        "outputId": "a20042a8-9928-41a3-f2e4-1b61514e15e0"
      },
      "execution_count": 14,
      "outputs": [
        {
          "output_type": "execute_result",
          "data": {
            "text/plain": [
              "10"
            ]
          },
          "metadata": {},
          "execution_count": 14
        }
      ]
    },
    {
      "cell_type": "markdown",
      "source": [
        "## 람다 표현식과 map, filter, reduce 함수 활용하기"
      ],
      "metadata": {
        "id": "w-zP4oZ6HzSa"
      }
    },
    {
      "cell_type": "code",
      "source": [
        "# lambda 매개변수들 : 식1 if 조건식 else 식2\n",
        "# lambda의 반환값도 요소!!\n",
        "# 하지만 람다 안에서 if, else 문 사용 할 때는 :(콜론)을 붙이지 x\n",
        "\n",
        "a = [1, 2, 3, 4, 5, 6, 7, 8, 9, 10]\n",
        "list(map(lambda x: str(x) if x % 3 == 0 else x, a))"
      ],
      "metadata": {
        "colab": {
          "base_uri": "https://localhost:8080/"
        },
        "id": "idOcZLuhF2jb",
        "outputId": "4937beb3-f4b9-4201-d8c5-c62465fc48a6"
      },
      "execution_count": 15,
      "outputs": [
        {
          "output_type": "execute_result",
          "data": {
            "text/plain": [
              "[1, 2, '3', 4, 5, '6', 7, 8, '9', 10]"
            ]
          },
          "metadata": {},
          "execution_count": 15
        }
      ]
    },
    {
      "cell_type": "code",
      "source": [
        "# 람다 표현식에서 if를 사용하면 else를 반드시 사용해야 함\n",
        "# 만약 if만 사용하면 문법 에러가 발생함\n",
        "\n",
        "list(map(lambda x: str(x) if x % 3 == 0, a))"
      ],
      "metadata": {
        "colab": {
          "base_uri": "https://localhost:8080/",
          "height": 110
        },
        "id": "_mD65GetJRFw",
        "outputId": "f49de7bb-dbbf-49f5-a572-2cae2649beea"
      },
      "execution_count": 17,
      "outputs": [
        {
          "output_type": "error",
          "ename": "SyntaxError",
          "evalue": "expected 'else' after 'if' expression (<ipython-input-17-30dc23f5cb6f>, line 4)",
          "traceback": [
            "\u001b[0;36m  File \u001b[0;32m\"<ipython-input-17-30dc23f5cb6f>\"\u001b[0;36m, line \u001b[0;32m4\u001b[0m\n\u001b[0;31m    list(map(lambda x: str(x) if x % 3 == 0, a))\u001b[0m\n\u001b[0m                       ^\u001b[0m\n\u001b[0;31mSyntaxError\u001b[0m\u001b[0;31m:\u001b[0m expected 'else' after 'if' expression\n"
          ]
        }
      ]
    },
    {
      "cell_type": "code",
      "source": [
        "# 그리고 람다 표현식 안에서 elif 사용 x\n",
        "# lambda 매개변수들: 식1 if 조건식1 else 식2 if 조건식2 else 식3\n",
        "\n",
        "# 요 코드는 권장 X\n",
        "a = [1, 2, 3, 4, 5, 6, 7, 8, 9, 10]\n",
        "list(map(lambda x: str(x) if x == 1 else float(x) if x == 2 else x + 10, a))"
      ],
      "metadata": {
        "colab": {
          "base_uri": "https://localhost:8080/"
        },
        "id": "MeHV2Y2RKOq-",
        "outputId": "df374d8d-39a3-4f37-f889-e71ada3b2346"
      },
      "execution_count": 18,
      "outputs": [
        {
          "output_type": "execute_result",
          "data": {
            "text/plain": [
              "['1', 2.0, 13, 14, 15, 16, 17, 18, 19, 20]"
            ]
          },
          "metadata": {},
          "execution_count": 18
        }
      ]
    },
    {
      "cell_type": "code",
      "source": [
        "def f(x):\n",
        "  if x == 1:\n",
        "      return str(x)\n",
        "  elif x == 2:\n",
        "      return float(x)\n",
        "  else:\n",
        "      return x + 10\n",
        "\n",
        "a = [1, 2, 3, 4, 5, 6, 7, 8, 9, 10]\n",
        "list(map(f, a))"
      ],
      "metadata": {
        "colab": {
          "base_uri": "https://localhost:8080/"
        },
        "id": "yochDg_PK5kz",
        "outputId": "0c9c9b82-76dd-4de1-d0db-d64f05f29455"
      },
      "execution_count": 19,
      "outputs": [
        {
          "output_type": "execute_result",
          "data": {
            "text/plain": [
              "['1', 2.0, 13, 14, 15, 16, 17, 18, 19, 20]"
            ]
          },
          "metadata": {},
          "execution_count": 19
        }
      ]
    },
    {
      "cell_type": "markdown",
      "source": [
        "## map에 객체를 여러 개 넣기"
      ],
      "metadata": {
        "id": "8y7MFcG6LXzd"
      }
    },
    {
      "cell_type": "code",
      "source": [
        "# map은 리스트 등의 반복 가능한 객체를 여러 개 넣을 수 있음\n",
        "\n",
        "a = [1, 2, 3, 4, 5]\n",
        "b = [2, 4, 6, 8, 10]\n",
        "list(map(lambda x, y: x * y, a, b))"
      ],
      "metadata": {
        "colab": {
          "base_uri": "https://localhost:8080/"
        },
        "id": "qp3sZdbNLP5q",
        "outputId": "cdd0ec7a-d6df-4479-a226-53696c4bed04"
      },
      "execution_count": 20,
      "outputs": [
        {
          "output_type": "execute_result",
          "data": {
            "text/plain": [
              "[2, 8, 18, 32, 50]"
            ]
          },
          "metadata": {},
          "execution_count": 20
        }
      ]
    },
    {
      "cell_type": "markdown",
      "source": [
        "## filter 사용하기"
      ],
      "metadata": {
        "id": "EhnOwewMMUXH"
      }
    },
    {
      "cell_type": "code",
      "source": [
        "# filter는 반복 가능한 객쳉서 특정 조건에 맞는 요소만 가져오는데, filter에 지정한 함수의 반환값이 True 일 때 해당 요소를 가져옴\n",
        "\n",
        "# filter(함수, 반복가능한객체)\n",
        "\n",
        "def f(x):\n",
        "    return x > 5 and x < 10\n",
        "\n",
        "a = [8, 3, 2, 10, 15, 7, 11, 9, 0, 11]\n",
        "list(filter(f, a))"
      ],
      "metadata": {
        "colab": {
          "base_uri": "https://localhost:8080/"
        },
        "id": "5DFaHUtaL0Bo",
        "outputId": "b9a05e29-cc28-46d4-c360-2421771b899a"
      },
      "execution_count": 22,
      "outputs": [
        {
          "output_type": "execute_result",
          "data": {
            "text/plain": [
              "[8, 7, 9]"
            ]
          },
          "metadata": {},
          "execution_count": 22
        }
      ]
    },
    {
      "cell_type": "code",
      "source": [
        "# 람다 식으로 만든 filter\n",
        "\n",
        "a = [8, 3, 2, 10, 15, 7, 1, 9, 0, 11]\n",
        "list(filter(lambda x: x > 5 and x < 10, a))"
      ],
      "metadata": {
        "colab": {
          "base_uri": "https://localhost:8080/"
        },
        "id": "YsYqovhQM4M3",
        "outputId": "9d923905-c27b-4c0d-ef94-b8b8c3d87f9e"
      },
      "execution_count": 24,
      "outputs": [
        {
          "output_type": "execute_result",
          "data": {
            "text/plain": [
              "[8, 7, 9]"
            ]
          },
          "metadata": {},
          "execution_count": 24
        }
      ]
    },
    {
      "cell_type": "markdown",
      "source": [
        "## reduce 사용하기"
      ],
      "metadata": {
        "id": "AO1Wr274NgUC"
      }
    },
    {
      "cell_type": "code",
      "source": [
        "# reduce는 반복 가능한 객체의 각 요소를 지정된 함수로 처리 한뒤, 이전 결과와 누적해서 반환하는 함수\n",
        "\n",
        "# from functools import reduce\n",
        "# reduce(함수, 반복가능한객체)\n",
        "\n",
        "def f(x, y):\n",
        "  return x + y\n",
        "\n",
        "a = [1, 2, 3, 4, 5]\n",
        "from functools import reduce\n",
        "reduce(f, a)"
      ],
      "metadata": {
        "colab": {
          "base_uri": "https://localhost:8080/"
        },
        "id": "t6Kip4GgNTl8",
        "outputId": "1181973f-1e7d-4675-8a2c-3c456aa87096"
      },
      "execution_count": 25,
      "outputs": [
        {
          "output_type": "execute_result",
          "data": {
            "text/plain": [
              "15"
            ]
          },
          "metadata": {},
          "execution_count": 25
        }
      ]
    },
    {
      "cell_type": "code",
      "source": [
        "# 람다 표현식으로 만들어서 사용하기\n",
        "\n",
        "a = [1, 2, 3, 4, 5]\n",
        "from functools import reduce\n",
        "reduce(lambda x, y: x + y, a) # 매개변수 x, y를 지정한 뒤, x와 y를 더한 결과를 반환"
      ],
      "metadata": {
        "colab": {
          "base_uri": "https://localhost:8080/"
        },
        "id": "uqcGRJlhN-iv",
        "outputId": "585191c2-cdac-4673-8133-d5d6e5922d4a"
      },
      "execution_count": 26,
      "outputs": [
        {
          "output_type": "execute_result",
          "data": {
            "text/plain": [
              "15"
            ]
          },
          "metadata": {},
          "execution_count": 26
        }
      ]
    },
    {
      "cell_type": "markdown",
      "source": [
        "## map, filter, reduce와 리스트 표현식"
      ],
      "metadata": {
        "id": "EKT8FgUbOcNx"
      }
    },
    {
      "cell_type": "code",
      "source": [
        "a = [8, 3, 2, 10, 15, 7, 1, 9, 0, 11]\n",
        "[i for i in a if i > 5 and i < 10]"
      ],
      "metadata": {
        "colab": {
          "base_uri": "https://localhost:8080/"
        },
        "id": "op2Gv5okOP8w",
        "outputId": "eed97680-6172-4264-b868-a5ecc8b7d582"
      },
      "execution_count": 27,
      "outputs": [
        {
          "output_type": "execute_result",
          "data": {
            "text/plain": [
              "[8, 7, 9]"
            ]
          },
          "metadata": {},
          "execution_count": 27
        }
      ]
    },
    {
      "cell_type": "code",
      "source": [
        "# 리스트 표현식을 사용한다면??\n",
        "\n",
        "a = [1, 2, 3, 4, 5]\n",
        "x = a[0]\n",
        "for i in range(len(a) - 1):\n",
        "    x = x + a[i + 1]\n",
        "\n",
        "x"
      ],
      "metadata": {
        "colab": {
          "base_uri": "https://localhost:8080/"
        },
        "id": "Uq5Y3YI3OsbQ",
        "outputId": "dd5f7aec-19c9-446a-933c-6e4acb1c4c21"
      },
      "execution_count": 28,
      "outputs": [
        {
          "output_type": "execute_result",
          "data": {
            "text/plain": [
              "15"
            ]
          },
          "metadata": {},
          "execution_count": 28
        }
      ]
    },
    {
      "cell_type": "markdown",
      "source": [
        "## 연습문제: 이미지 파일만 가져오기"
      ],
      "metadata": {
        "id": "QQAJAM43Pfhn"
      }
    },
    {
      "cell_type": "code",
      "source": [
        "files = ['font', '1.png', '10.jpg', '11.gif', '2.jpg', '3.png', 'table.xslx', 'spec.docx']\n",
        "\n",
        "print(list(filter(lambda x: x.find('.jpg') != -1 or x.find('.png') != -1, files)))"
      ],
      "metadata": {
        "colab": {
          "base_uri": "https://localhost:8080/"
        },
        "id": "XrW6sJhtO7NC",
        "outputId": "760e783d-018f-46f6-8979-d3284ec48421"
      },
      "execution_count": 29,
      "outputs": [
        {
          "output_type": "stream",
          "name": "stdout",
          "text": [
            "['1.png', '10.jpg', '2.jpg', '3.png']\n"
          ]
        }
      ]
    },
    {
      "cell_type": "markdown",
      "source": [
        "## 심사문제 : 파일 이름을 한꺼번에 바꾸기"
      ],
      "metadata": {
        "id": "O6UKy4CeQ8ht"
      }
    },
    {
      "cell_type": "code",
      "source": [
        "## 다시 복습해보기!!\n",
        "\n",
        "files = input().split()\n",
        "\n",
        "print(list(map(lambda x: '{0:03d}.{1}'.format(int(x.split('.')[0]),x.split('.')[1]) ,files)))"
      ],
      "metadata": {
        "colab": {
          "base_uri": "https://localhost:8080/"
        },
        "id": "o4t9Q8XAQAXl",
        "outputId": "605cfe54-ab79-491d-91d1-d1970489c67a"
      },
      "execution_count": 34,
      "outputs": [
        {
          "output_type": "stream",
          "name": "stdout",
          "text": [
            "1.jpg 10.png 11.png 2.jpg 3.png\n",
            "['001.jpg', '010.png', '011.png', '002.jpg', '003.png']\n"
          ]
        }
      ]
    },
    {
      "cell_type": "code",
      "source": [],
      "metadata": {
        "id": "bkzTwtMlVb0N"
      },
      "execution_count": null,
      "outputs": []
    }
  ]
}