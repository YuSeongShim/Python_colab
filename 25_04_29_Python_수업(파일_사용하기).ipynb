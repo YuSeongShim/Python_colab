{
  "nbformat": 4,
  "nbformat_minor": 0,
  "metadata": {
    "colab": {
      "provenance": [],
      "authorship_tag": "ABX9TyNfN0kAwGtJzFqgb+ScVXg1",
      "include_colab_link": true
    },
    "kernelspec": {
      "name": "python3",
      "display_name": "Python 3"
    },
    "language_info": {
      "name": "python"
    }
  },
  "cells": [
    {
      "cell_type": "markdown",
      "metadata": {
        "id": "view-in-github",
        "colab_type": "text"
      },
      "source": [
        "<a href=\"https://colab.research.google.com/github/YuSeongShim/Python_colab/blob/main/25_04_29_Python_%EC%88%98%EC%97%85(%ED%8C%8C%EC%9D%BC_%EC%82%AC%EC%9A%A9%ED%95%98%EA%B8%B0).ipynb\" target=\"_parent\"><img src=\"https://colab.research.google.com/assets/colab-badge.svg\" alt=\"Open In Colab\"/></a>"
      ]
    },
    {
      "cell_type": "markdown",
      "source": [
        "## 파일에 문자열 쓰기, 읽기"
      ],
      "metadata": {
        "id": "1hKs-aO-4VLj"
      }
    },
    {
      "cell_type": "markdown",
      "source": [
        "## 파일에 문자열 쓰기"
      ],
      "metadata": {
        "id": "ylZhAu-W4aor"
      }
    },
    {
      "cell_type": "code",
      "execution_count": 1,
      "metadata": {
        "id": "O6uGiMMZ4L6Y"
      },
      "outputs": [],
      "source": [
        "# 파일에 문자열 쓸 때 open 함수로 열어서 파일 객체를 얻음, write 메서드 사용\n",
        "\n",
        "# 파일객체 = open(파일이름, 파일모드)\n",
        "# 파일객체.write('문자열')\n",
        "# 파일객체.close()"
      ]
    },
    {
      "cell_type": "code",
      "source": [
        "file = open('hello.txt', 'w') # hello.txt 파일을 쓰기 모드(w)로 열기, 파일 객체 변환\n",
        "file.write('Hello, world!') # 파일에 문자열 저장\n",
        "file.close() # 파일 객체 닫기"
      ],
      "metadata": {
        "id": "pqT0Dgzw49wb"
      },
      "execution_count": 3,
      "outputs": []
    },
    {
      "cell_type": "markdown",
      "source": [
        "## 파일에서 문자열 읽기"
      ],
      "metadata": {
        "id": "p0hGwA918jNU"
      }
    },
    {
      "cell_type": "code",
      "source": [
        "# 변수 = 파일객체.read()\n",
        "\n",
        "file = open('hello.txt', 'r') # hello.txt 파일을 읽기 모드(r)로 열기, 파일 객체 변환\n",
        "s = file.read()               # 파일에서 문자열 읽기\n",
        "print(s)                      # Hello, world!\n",
        "file.close()                  # 파일 객체 닫기"
      ],
      "metadata": {
        "colab": {
          "base_uri": "https://localhost:8080/"
        },
        "id": "0cvh1J_B5R9c",
        "outputId": "166fe085-302e-45f4-8fbd-72cf664db3f9"
      },
      "execution_count": 4,
      "outputs": [
        {
          "output_type": "stream",
          "name": "stdout",
          "text": [
            "Hello, world!\n"
          ]
        }
      ]
    },
    {
      "cell_type": "markdown",
      "source": [
        "## 자동으로 파일 객체 닫기"
      ],
      "metadata": {
        "id": "HcyVoW_x9fQS"
      }
    },
    {
      "cell_type": "code",
      "source": [
        "## 파이썬에서 with as를 사용하면 파일을 사용한 뒤 자동으로 파일 객체 닫아줌\n",
        "\n",
        "with open('hello.txt', 'r') as file:    # hello.txt 파일을 읽기 모드(r)로 열기\n",
        "    s = file.read()                     # 파일에서 문자열 읽기\n",
        "    print(s)                            # Hello, world!"
      ],
      "metadata": {
        "colab": {
          "base_uri": "https://localhost:8080/"
        },
        "id": "__Brm9h99i-6",
        "outputId": "06da697a-51f9-48ff-eed0-2cb7b7d2b5ca"
      },
      "execution_count": 8,
      "outputs": [
        {
          "output_type": "stream",
          "name": "stdout",
          "text": [
            "안녕하세요.\n",
            "파이썬\n",
            "코딩 도장입니다.\n",
            "\n"
          ]
        }
      ]
    },
    {
      "cell_type": "markdown",
      "source": [
        "## 문자열 여러 줄을 파일에 쓰기, 읽기"
      ],
      "metadata": {
        "id": "ppni00lE-Pq3"
      }
    },
    {
      "cell_type": "markdown",
      "source": [
        "## 반복문으로 문자열 여러 줄을 파일에 쓰기"
      ],
      "metadata": {
        "id": "IiX3fC4N-WTF"
      }
    },
    {
      "cell_type": "code",
      "source": [
        "# 파일에 문자열 여러 줄을 저장할 때 주의할 부분은 개행 문자 부분\n",
        "# 'Hello, world! {0}\\n'와 같이 문자열 끝에 개행 문자 \\n를 해야 줄바꿈이 됨\n",
        "\n",
        "with open('hello.txt', 'w')as file: # hello.txt 파일을 쓰기 모드(a)로 열기\n",
        "  for i in range(3):\n",
        "      file.write('Hello, world! {0}\\n'.format(i))"
      ],
      "metadata": {
        "id": "W4FY_Y7w-BUN"
      },
      "execution_count": 6,
      "outputs": []
    },
    {
      "cell_type": "markdown",
      "source": [
        "## 리스트에 들어있는 문자열을 파일에 쓰기"
      ],
      "metadata": {
        "id": "x_aPzj5r_rzi"
      }
    },
    {
      "cell_type": "code",
      "source": [
        "# 파일 객체.writelines(문자열리스트)\n",
        "# 특히 writelines는 리스트에 들어있는 문자열을 파일에 씀\n",
        "\n",
        "lines = ['안녕하세요.\\n', '파이썬\\n', '코딩 도장입니다.\\n']\n",
        "\n",
        "with open('hello.txt', 'w') as file:  # hello.txt 파일을 쓰기 모드(w)로 열기\n",
        "    file.writelines(lines)"
      ],
      "metadata": {
        "id": "i6kWXppV-yEA"
      },
      "execution_count": 7,
      "outputs": []
    },
    {
      "cell_type": "markdown",
      "source": [
        "## 파일의 내용을 한 줄 씩 리스트로 가져오기"
      ],
      "metadata": {
        "id": "RSR3w2ifAm1_"
      }
    },
    {
      "cell_type": "code",
      "source": [
        "# readlines는 파일의 한줄 씩 리스트 형태로 가져옴\n",
        "# 변수 = 파일객체.readlines()\n",
        "\n",
        "with open('hello.txt', 'r') as file:  # hello.txt 파일을 읽기 모드(r)로 열기\n",
        "  lines = file.readlines()\n",
        "  print(lines)"
      ],
      "metadata": {
        "colab": {
          "base_uri": "https://localhost:8080/"
        },
        "id": "1QLySdtUALca",
        "outputId": "f0f805df-5242-41ac-980b-aaf210d46943"
      },
      "execution_count": null,
      "outputs": [
        {
          "output_type": "stream",
          "name": "stdout",
          "text": [
            "['안녕하세요.\\n', '파이썬\\n', '코딩 도장입니다.\\n']\n"
          ]
        }
      ]
    },
    {
      "cell_type": "markdown",
      "source": [
        "## 파일의 내용을 한 줄 씩 읽기"
      ],
      "metadata": {
        "id": "nn-FXVNYBS9c"
      }
    },
    {
      "cell_type": "code",
      "source": [
        "# 변수 = 파일 객체.readline()\n",
        "# readline을 활용할 때 = while 사용 -> 파일에 문자열이 몇 줄이나 있는지 모르기 때문\n",
        "\n",
        "\n",
        "with open('hello.txt', 'r')as file: # hello.txt 파일을 읽기 모드(r)로 열기\n",
        "    line = None   # 변수 line을 None으로 초기화\n",
        "    while line != '':   # 빈 문자열이 아닐 때 계속 반복\n",
        "      line = file.readline()\n",
        "      print(line.strip('\\n')) # 파일에서 읽어온 문자열에서 \\n 삭제하여 출력"
      ],
      "metadata": {
        "id": "CPp84l09BPhf"
      },
      "execution_count": null,
      "outputs": []
    },
    {
      "cell_type": "markdown",
      "source": [
        "## for 반복문으로 파일의 내용을 줄 단위로 읽기"
      ],
      "metadata": {
        "id": "UlRsnbk2EuFj"
      }
    },
    {
      "cell_type": "code",
      "source": [
        "## 파이썬에서는 for 반복문으로 좀 더 간단하게 파일의 내용을 읽을 수 있음\n",
        "\n",
        "with open('hello.txt', 'r') as file:    # hello.txt 파일을 읽기모드(r)로 열기\n",
        "  for line in file:   # for에 파일 객체를 지정하면\n",
        "                      # 파일의 내용을 한 줄 씩 읽어서 변수에 저장함\n",
        "      print(line.strip('\\n')) # 파일에서 읽어온 문자열에서 \\n을 삭제하여 출력"
      ],
      "metadata": {
        "colab": {
          "base_uri": "https://localhost:8080/"
        },
        "id": "x4P3GBE3EtnH",
        "outputId": "a4a230a4-5a44-42e0-dbb8-bf2bb8aff7ac"
      },
      "execution_count": null,
      "outputs": [
        {
          "output_type": "stream",
          "name": "stdout",
          "text": [
            "안녕하세요.\n",
            "파이썬\n",
            "코딩 도장입니다.\n"
          ]
        }
      ]
    },
    {
      "cell_type": "markdown",
      "source": [
        "## 파일 객체는 이터레이터"
      ],
      "metadata": {
        "id": "bON7Qw_9GEU5"
      }
    },
    {
      "cell_type": "code",
      "source": [
        "# 파일 객체는 이터레이터\n",
        "# 변수 여러 개에 저장하는 언패킹도 가능함\n",
        "\n",
        "file = open('hello.txt', 'r')\n",
        "a, b, c = file\n",
        "a, b, c"
      ],
      "metadata": {
        "colab": {
          "base_uri": "https://localhost:8080/"
        },
        "id": "ABWNfNsTFY1p",
        "outputId": "25732b7b-2e95-445e-bd14-3db8bd4096fc"
      },
      "execution_count": null,
      "outputs": [
        {
          "output_type": "execute_result",
          "data": {
            "text/plain": [
              "('안녕하세요.\\n', '파이썬\\n', '코딩 도장입니다.\\n')"
            ]
          },
          "metadata": {},
          "execution_count": 24
        }
      ]
    },
    {
      "cell_type": "markdown",
      "source": [
        "## 파이썬 객체를 파일에 저장하기, 가져오기"
      ],
      "metadata": {
        "id": "pm4ZAn_ZGdOz"
      }
    },
    {
      "cell_type": "code",
      "source": [
        "# 파이썬은 객체를 파일에 저장하는 pickle 모듈을 제공함\n",
        "# 파이썬 객체를 파일에 저장하는 과정 => 피클링, 파일에서 객체를 읽어오는 과정 => 언피클링"
      ],
      "metadata": {
        "id": "o4IgB9d7GPFN"
      },
      "execution_count": null,
      "outputs": []
    },
    {
      "cell_type": "markdown",
      "source": [
        "## 파이썬 객체를 파일에 저장하기"
      ],
      "metadata": {
        "id": "rkdyXSjpGyFp"
      }
    },
    {
      "cell_type": "code",
      "source": [
        "import pickle\n",
        "\n",
        "name = 'james'\n",
        "age = 17\n",
        "address = '서울시 서초구 반포동'\n",
        "scores = {'korean' : 90, 'english' : 95, 'mathematics' : 85, 'science' : 82}\n",
        "\n",
        "with open('james.p', 'wb') as file: # james.p 파일을 바이너리 쓰기 모드(wb)로 열기\n",
        "    pickle.dump(name, file)\n",
        "    pickle.dump(age, file)\n",
        "    pickle.dump(address, file)\n",
        "    pickle.dump(scores, file)"
      ],
      "metadata": {
        "id": "p2RcyHesG2K2"
      },
      "execution_count": 12,
      "outputs": []
    },
    {
      "cell_type": "markdown",
      "source": [
        "## 파일에서 파이썬 객체 읽기"
      ],
      "metadata": {
        "id": "1ZnGZv-oZMN2"
      }
    },
    {
      "cell_type": "code",
      "source": [
        "# 파일에서 파이썬 객체를 읽어오는 것 = 언피클링\n",
        "# 언피클링은 pickle 모듈의 load를 사용\n",
        "# 언피클링을 할 때 반드시 파일 모드를 읽기모드(rb)로 지정해야 함\n",
        "\n",
        "import pickle\n",
        "\n",
        "with open('james.p', 'rb') as file: # james.p 파일을 바이너리 읽기 모드(rb)로 열기\n",
        "    name = pickle.load(file)\n",
        "    age = pickle.load(file)\n",
        "    address = pickle.load(file)\n",
        "    scores = pickle.load(file)\n",
        "    print(name)\n",
        "    print(age)\n",
        "    print(address)\n",
        "    print(scores)"
      ],
      "metadata": {
        "id": "6yWMcLcjIBqE",
        "colab": {
          "base_uri": "https://localhost:8080/"
        },
        "outputId": "b4523462-4b9a-4795-e729-094cf58897c4"
      },
      "execution_count": 13,
      "outputs": [
        {
          "output_type": "stream",
          "name": "stdout",
          "text": [
            "james\n",
            "17\n",
            "서울시 서초구 반포동\n",
            "{'korean': 90, 'english': 95, 'mathematics': 85, 'science': 82}\n"
          ]
        }
      ]
    },
    {
      "cell_type": "markdown",
      "source": [
        "## 퀴즈"
      ],
      "metadata": {
        "id": "zSv45g22atWi"
      }
    },
    {
      "cell_type": "code",
      "source": [
        "# 다음 중 파일에 문자열을 쓸 때 파일 열기 방법으로 올바른 것을 고르세요\n",
        "\n",
        "# d"
      ],
      "metadata": {
        "id": "CLc6_q8nd32B"
      },
      "execution_count": 14,
      "outputs": []
    },
    {
      "cell_type": "code",
      "source": [
        "# 다음 중 파일에서 문자열을 한 줄씩 읽어서 리스트 형태로 가져오는 메서드로 올바른 것을 고르세요\n",
        "\n",
        "# c"
      ],
      "metadata": {
        "id": "D7eQdsJ2eADF"
      },
      "execution_count": 15,
      "outputs": []
    },
    {
      "cell_type": "code",
      "source": [
        "# 다음 중 pickle 모듈로 파일에 저장된 파이썬의 객체를 읽어올 때 파일 열기 방법으로 올바른 것을 고르세요\n",
        "\n",
        "# b"
      ],
      "metadata": {
        "id": "AQSs0S8ZeK41"
      },
      "execution_count": null,
      "outputs": []
    },
    {
      "cell_type": "markdown",
      "source": [
        "## 연습문제 : 파일에서 10자 이하인 단어 개수 세기"
      ],
      "metadata": {
        "id": "5G7_hETfeeF5"
      }
    },
    {
      "cell_type": "code",
      "source": [
        "with open('word.txt','wb') as file:\n",
        "  count = 0\n",
        "\n",
        "  words = file.readlines()\n",
        "  for words in words:\n",
        "    if len(word.strip('\\n')) <= 10:\n",
        "        count += 1\n",
        "\n"
      ],
      "metadata": {
        "colab": {
          "base_uri": "https://localhost:8080/",
          "height": 215
        },
        "id": "Z0uaFVPGei-Z",
        "outputId": "85d47807-4125-4252-eae0-53a840ffe3c7"
      },
      "execution_count": 18,
      "outputs": [
        {
          "output_type": "error",
          "ename": "UnsupportedOperation",
          "evalue": "read",
          "traceback": [
            "\u001b[0;31m---------------------------------------------------------------------------\u001b[0m",
            "\u001b[0;31mUnsupportedOperation\u001b[0m                      Traceback (most recent call last)",
            "\u001b[0;32m<ipython-input-18-e2fc5bc1ccf1>\u001b[0m in \u001b[0;36m<cell line: 0>\u001b[0;34m()\u001b[0m\n\u001b[1;32m      2\u001b[0m   \u001b[0mcount\u001b[0m \u001b[0;34m=\u001b[0m \u001b[0;36m0\u001b[0m\u001b[0;34m\u001b[0m\u001b[0;34m\u001b[0m\u001b[0m\n\u001b[1;32m      3\u001b[0m \u001b[0;34m\u001b[0m\u001b[0m\n\u001b[0;32m----> 4\u001b[0;31m   \u001b[0mwords\u001b[0m \u001b[0;34m=\u001b[0m \u001b[0mfile\u001b[0m\u001b[0;34m.\u001b[0m\u001b[0mreadlines\u001b[0m\u001b[0;34m(\u001b[0m\u001b[0;34m)\u001b[0m\u001b[0;34m\u001b[0m\u001b[0;34m\u001b[0m\u001b[0m\n\u001b[0m\u001b[1;32m      5\u001b[0m   \u001b[0;32mfor\u001b[0m \u001b[0mwords\u001b[0m \u001b[0;32min\u001b[0m \u001b[0mwords\u001b[0m\u001b[0;34m:\u001b[0m\u001b[0;34m\u001b[0m\u001b[0;34m\u001b[0m\u001b[0m\n\u001b[1;32m      6\u001b[0m     \u001b[0;32mif\u001b[0m \u001b[0mlen\u001b[0m\u001b[0;34m(\u001b[0m\u001b[0mword\u001b[0m\u001b[0;34m.\u001b[0m\u001b[0mstrip\u001b[0m\u001b[0;34m(\u001b[0m\u001b[0;34m'\\n'\u001b[0m\u001b[0;34m)\u001b[0m\u001b[0;34m)\u001b[0m \u001b[0;34m<=\u001b[0m \u001b[0;36m10\u001b[0m\u001b[0;34m:\u001b[0m\u001b[0;34m\u001b[0m\u001b[0;34m\u001b[0m\u001b[0m\n",
            "\u001b[0;31mUnsupportedOperation\u001b[0m: read"
          ]
        }
      ]
    },
    {
      "cell_type": "code",
      "source": [
        "with open('word.txt', 'r') as file:    # hello.txt 파일을 읽기 모드(r)로 열기\n",
        "    s = file.read()                     # 파일에서 문자열 읽기\n",
        "    print(s)"
      ],
      "metadata": {
        "colab": {
          "base_uri": "https://localhost:8080/",
          "height": 179
        },
        "id": "23sJLEdLflLN",
        "outputId": "126b7609-e474-4046-bb74-e3ff527a4c8c"
      },
      "execution_count": 17,
      "outputs": [
        {
          "output_type": "error",
          "ename": "FileNotFoundError",
          "evalue": "[Errno 2] No such file or directory: 'word.txt'",
          "traceback": [
            "\u001b[0;31m---------------------------------------------------------------------------\u001b[0m",
            "\u001b[0;31mFileNotFoundError\u001b[0m                         Traceback (most recent call last)",
            "\u001b[0;32m<ipython-input-17-9b2af1f7ab0e>\u001b[0m in \u001b[0;36m<cell line: 0>\u001b[0;34m()\u001b[0m\n\u001b[0;32m----> 1\u001b[0;31m \u001b[0;32mwith\u001b[0m \u001b[0mopen\u001b[0m\u001b[0;34m(\u001b[0m\u001b[0;34m'word.txt'\u001b[0m\u001b[0;34m,\u001b[0m \u001b[0;34m'r'\u001b[0m\u001b[0;34m)\u001b[0m \u001b[0;32mas\u001b[0m \u001b[0mfile\u001b[0m\u001b[0;34m:\u001b[0m    \u001b[0;31m# hello.txt 파일을 읽기 모드(r)로 열기\u001b[0m\u001b[0;34m\u001b[0m\u001b[0;34m\u001b[0m\u001b[0m\n\u001b[0m\u001b[1;32m      2\u001b[0m     \u001b[0ms\u001b[0m \u001b[0;34m=\u001b[0m \u001b[0mfile\u001b[0m\u001b[0;34m.\u001b[0m\u001b[0mread\u001b[0m\u001b[0;34m(\u001b[0m\u001b[0;34m)\u001b[0m                     \u001b[0;31m# 파일에서 문자열 읽기\u001b[0m\u001b[0;34m\u001b[0m\u001b[0;34m\u001b[0m\u001b[0m\n\u001b[1;32m      3\u001b[0m     \u001b[0mprint\u001b[0m\u001b[0;34m(\u001b[0m\u001b[0ms\u001b[0m\u001b[0;34m)\u001b[0m\u001b[0;34m\u001b[0m\u001b[0;34m\u001b[0m\u001b[0m\n",
            "\u001b[0;31mFileNotFoundError\u001b[0m: [Errno 2] No such file or directory: 'word.txt'"
          ]
        }
      ]
    },
    {
      "cell_type": "code",
      "source": [],
      "metadata": {
        "id": "Kw5umcYIf0UA"
      },
      "execution_count": null,
      "outputs": []
    }
  ]
}