{
  "nbformat": 4,
  "nbformat_minor": 0,
  "metadata": {
    "colab": {
      "provenance": [],
      "authorship_tag": "ABX9TyMKhTv3aXCTLV+ylm8gqS6R",
      "include_colab_link": true
    },
    "kernelspec": {
      "name": "python3",
      "display_name": "Python 3"
    },
    "language_info": {
      "name": "python"
    }
  },
  "cells": [
    {
      "cell_type": "markdown",
      "metadata": {
        "id": "view-in-github",
        "colab_type": "text"
      },
      "source": [
        "<a href=\"https://colab.research.google.com/github/YuSeongShim/Python_colab/blob/main/25_05_08_Python_%EC%88%98%EC%97%85(%ED%95%A8%EC%88%98_%EC%82%AC%EC%9A%A9%ED%95%98%EA%B8%B0).ipynb\" target=\"_parent\"><img src=\"https://colab.research.google.com/assets/colab-badge.svg\" alt=\"Open In Colab\"/></a>"
      ]
    },
    {
      "cell_type": "code",
      "execution_count": 1,
      "metadata": {
        "id": "YDHPXJ75FPy7"
      },
      "outputs": [],
      "source": [
        "# 함수는 특정 용도의 코드를 한곳에 모아 놓은 것\n",
        "# 한번 작성하면 나중에 필요할 때 계속 불러쓰기 가능\n",
        "# ex)  print, input도 모두 파이썬에서 미리 만든 함수"
      ]
    },
    {
      "cell_type": "code",
      "source": [
        "# 함수를 사용하면 좋은 점\n",
        "#1. 코드의 용도를 구분할 수 있음\n",
        "#2. 코드를 재사용할 수 있음\n",
        "#3. 실수를 줄일 수 있음"
      ],
      "metadata": {
        "id": "yrW0qrveF0dz"
      },
      "execution_count": null,
      "outputs": []
    },
    {
      "cell_type": "markdown",
      "source": [
        "## Hello, world! 출력 함수 만들기"
      ],
      "metadata": {
        "id": "uOJy1MlZF9xd"
      }
    },
    {
      "cell_type": "code",
      "source": [
        "# 함수는 def에 함수 이름을 지정하고 ()와 :을 붙인 뒤 다음 줄에 원하는 코드를 작성\n",
        "# 이때 코드는 반드시 들여쓰기 해야 함!!\n",
        "# def는 정의하다 (define)에서 따온 키워드\n",
        "\n",
        "def 함수이름():\n",
        "    코드 # <- 들여쓰기 4칸"
      ],
      "metadata": {
        "id": "ZUhOItCEGDKm"
      },
      "execution_count": 2,
      "outputs": []
    },
    {
      "cell_type": "markdown",
      "source": [
        "## 함수 만들기"
      ],
      "metadata": {
        "id": "DLrpySKYGfHA"
      }
    },
    {
      "cell_type": "code",
      "source": [
        "def hello(): # 함수 이름을 Hello로 지정\n",
        "    print('Hello, world!')"
      ],
      "metadata": {
        "id": "T7CcWyfIGWN8"
      },
      "execution_count": 3,
      "outputs": []
    },
    {
      "cell_type": "markdown",
      "source": [
        "## 함수 호출하기"
      ],
      "metadata": {
        "id": "-W8OEXKrGreN"
      }
    },
    {
      "cell_type": "code",
      "source": [
        "# 함수\n",
        "hello() # 함수를 사용하는 방법을 함수를 호출(call)한다라고 부름"
      ],
      "metadata": {
        "colab": {
          "base_uri": "https://localhost:8080/"
        },
        "id": "CSb0vmL7GpIr",
        "outputId": "c3487acf-a0d5-495c-f0eb-af310f8534b4"
      },
      "execution_count": 4,
      "outputs": [
        {
          "output_type": "stream",
          "name": "stdout",
          "text": [
            "Hello, world!\n"
          ]
        }
      ]
    },
    {
      "cell_type": "markdown",
      "source": [
        "## 소스 파일에서 함수를 만들고 호출하기"
      ],
      "metadata": {
        "id": "hN_sxXnDG8CP"
      }
    },
    {
      "cell_type": "code",
      "source": [
        "def hello(): # hello 라는 함수 생성\n",
        "  print('Hello, world!')\n",
        "\n",
        "hello()"
      ],
      "metadata": {
        "colab": {
          "base_uri": "https://localhost:8080/"
        },
        "id": "cga1UtGJGw1Y",
        "outputId": "796c5b85-86dd-4f80-d8d7-25468b6af1ac"
      },
      "execution_count": 5,
      "outputs": [
        {
          "output_type": "stream",
          "name": "stdout",
          "text": [
            "Hello, world!\n"
          ]
        }
      ]
    },
    {
      "cell_type": "markdown",
      "source": [
        "## 함수의 실행순서"
      ],
      "metadata": {
        "id": "alttJFspHVmq"
      }
    },
    {
      "cell_type": "code",
      "source": [
        "# hello 함수는 다음과 같은 순서로 실행 됨\n",
        "\n",
        "#1. 파이썬 스크립트 최초 실행\n",
        "#2. hello 함수 호출\n",
        "#3. hello 함수 실행\n",
        "#4. print 함수 실행 및 Hello, world! 출력\n",
        "#5. hello 함수 종료\n",
        "#6. 파이썬 스크립트 종료"
      ],
      "metadata": {
        "id": "0RfWSovIHLmq"
      },
      "execution_count": null,
      "outputs": []
    },
    {
      "cell_type": "markdown",
      "source": [
        "## 함수 작성과 함수 호출 순서"
      ],
      "metadata": {
        "id": "l4bXL6NCIPkI"
      }
    },
    {
      "cell_type": "code",
      "source": [
        "# 함수를 만들기 전에 함수를 먼저 호출하면 안 된다는 점\n",
        "\n",
        "pyt() # hello 함수를 만들기 전에 함수를 먼저 호출\n",
        "\n",
        "def pyt(): # hello 함수를 만듦\n",
        "    print('Hello, python')"
      ],
      "metadata": {
        "colab": {
          "base_uri": "https://localhost:8080/",
          "height": 219
        },
        "id": "Yc6NIcs-IpPb",
        "outputId": "d1787894-e935-4ac3-fd30-d8a190c9edc1"
      },
      "execution_count": 14,
      "outputs": [
        {
          "output_type": "error",
          "ename": "NameError",
          "evalue": "name 'pyt' is not defined",
          "traceback": [
            "\u001b[0;31m---------------------------------------------------------------------------\u001b[0m",
            "\u001b[0;31mNameError\u001b[0m                                 Traceback (most recent call last)",
            "\u001b[0;32m<ipython-input-14-500ab0137a53>\u001b[0m in \u001b[0;36m<cell line: 0>\u001b[0;34m()\u001b[0m\n\u001b[1;32m      1\u001b[0m \u001b[0;31m# 함수를 만들기 전에 함수를 먼저 호출하면 안 된다는 점\u001b[0m\u001b[0;34m\u001b[0m\u001b[0;34m\u001b[0m\u001b[0m\n\u001b[1;32m      2\u001b[0m \u001b[0;34m\u001b[0m\u001b[0m\n\u001b[0;32m----> 3\u001b[0;31m \u001b[0mpyt\u001b[0m\u001b[0;34m(\u001b[0m\u001b[0;34m)\u001b[0m \u001b[0;31m# hello 함수를 만들기 전에 함수를 먼저 호출\u001b[0m\u001b[0;34m\u001b[0m\u001b[0;34m\u001b[0m\u001b[0m\n\u001b[0m\u001b[1;32m      4\u001b[0m \u001b[0;34m\u001b[0m\u001b[0m\n\u001b[1;32m      5\u001b[0m \u001b[0;32mdef\u001b[0m \u001b[0mpyt\u001b[0m\u001b[0;34m(\u001b[0m\u001b[0;34m)\u001b[0m\u001b[0;34m:\u001b[0m \u001b[0;31m# hello 함수를 만듦\u001b[0m\u001b[0;34m\u001b[0m\u001b[0;34m\u001b[0m\u001b[0m\n",
            "\u001b[0;31mNameError\u001b[0m: name 'pyt' is not defined"
          ]
        }
      ]
    },
    {
      "cell_type": "markdown",
      "source": [
        "## 빈 함수 만들기"
      ],
      "metadata": {
        "id": "OGiScXxhKEr9"
      }
    },
    {
      "cell_type": "code",
      "source": [
        "# 내용이 없는 빈 함수를 만들 때 코드 부분에 pass를 넣어줌\n",
        "\n",
        "def hello():\n",
        "    pass"
      ],
      "metadata": {
        "id": "qNdDdRPJJEvS"
      },
      "execution_count": 15,
      "outputs": []
    },
    {
      "cell_type": "markdown",
      "source": [
        "## 덧셈 함수 만들기"
      ],
      "metadata": {
        "id": "zehAdmGlLFUL"
      }
    },
    {
      "cell_type": "code",
      "source": [
        "# 지금 까지 만든 hello 함수는 동작이 고정!!\n",
        "# 이러면 같은 문자열만 출력됨"
      ],
      "metadata": {
        "id": "t8CkkSS8KQkS"
      },
      "execution_count": 16,
      "outputs": []
    },
    {
      "cell_type": "code",
      "source": [
        "# 함수에서 값을 받으려면 ()괄호 안에 변수 이름을 지정하면 됨\n",
        "# 이 변수를 매개변수(parameter) 라고 함\n",
        "\n",
        "# def 함수이름(매개변수 1, 매개변수 2):\n",
        " #    코드"
      ],
      "metadata": {
        "colab": {
          "base_uri": "https://localhost:8080/",
          "height": 110
        },
        "id": "y378Oj1oLUqk",
        "outputId": "a255c0f5-57ee-4a29-a491-201d85e2d533"
      },
      "execution_count": 17,
      "outputs": [
        {
          "output_type": "error",
          "ename": "SyntaxError",
          "evalue": "invalid syntax (<ipython-input-17-4b66fbddadd9>, line 4)",
          "traceback": [
            "\u001b[0;36m  File \u001b[0;32m\"<ipython-input-17-4b66fbddadd9>\"\u001b[0;36m, line \u001b[0;32m4\u001b[0m\n\u001b[0;31m    def 함수이름(매개변수 1, 매개변수 2):\u001b[0m\n\u001b[0m                  ^\u001b[0m\n\u001b[0;31mSyntaxError\u001b[0m\u001b[0;31m:\u001b[0m invalid syntax\n"
          ]
        }
      ]
    },
    {
      "cell_type": "code",
      "source": [
        " # 두 수를 더하는 함수\n",
        "def add(a, b):\n",
        "    print(a+b)"
      ],
      "metadata": {
        "id": "xl_Xq71oLjX3"
      },
      "execution_count": 18,
      "outputs": []
    },
    {
      "cell_type": "code",
      "source": [
        "# 함수를 호출할 때 넣는 값을 인수라고 부름\n",
        "\n",
        "add(10, 20) # 10과 20이 인수"
      ],
      "metadata": {
        "colab": {
          "base_uri": "https://localhost:8080/"
        },
        "id": "jnoaeFscLvTx",
        "outputId": "42f2aba6-431d-45f9-e073-0b3cc5e48d1a"
      },
      "execution_count": 19,
      "outputs": [
        {
          "output_type": "stream",
          "name": "stdout",
          "text": [
            "30\n"
          ]
        }
      ]
    },
    {
      "cell_type": "markdown",
      "source": [
        "## 함수 독스트링 사용"
      ],
      "metadata": {
        "id": "Re26OHb7MFdn"
      }
    },
    {
      "cell_type": "code",
      "source": [
        "# 파이썬에서 함수의 :(콜론) 바로 다음 줄에 \"\"\" \"\"\"(큰 따옴표 세 개)로 문자열을 입력하면 함수에 대한 설명을 넣을 수 있음\n",
        "# 이런 방식의 문자열을 독스트링(문서화 문자열, documentation strings, docstrings)\n",
        "# 단 독스트링 윗줄에 다른 코드가 오면 x\n",
        "\n",
        "# def 함수이름(매개변수):\n",
        "    # \"\"\" 독스트링 \"\"\"\n",
        "    # 코드\n",
        "\n",
        "# def 함수이름(매개변수):\n",
        "    # \"\"\" 독스트링 \"\"\"\n",
        "    # 코드"
      ],
      "metadata": {
        "id": "JmTKJ7mULxVp"
      },
      "execution_count": null,
      "outputs": []
    },
    {
      "cell_type": "code",
      "source": [
        "# 추가로 설명하자면\n",
        "# 독스트링을 출력하려면 print(add.__doc__)와 같이 함수의 __doc__을 출력\n",
        "\n",
        "def add(a, b):\n",
        "  \"\"\"이 함수는 a와 b를 더한 뒤 결과를 변환하는 함수입니다.\"\"\"\n",
        "  return a + b\n",
        "\n",
        "x = add(10, 20) # 함수를 호출해도 독스트링은 출력되지 않음\n",
        "print(x)\n",
        "\n",
        "print(add.__doc__) # 함수의 __doc__ 으로 독스트링 출력"
      ],
      "metadata": {
        "colab": {
          "base_uri": "https://localhost:8080/"
        },
        "id": "EciSP80-gw-u",
        "outputId": "faa5f74e-a56e-4e65-ae08-4083bd8f0b7d"
      },
      "execution_count": 20,
      "outputs": [
        {
          "output_type": "stream",
          "name": "stdout",
          "text": [
            "30\n",
            "이 함수는 a와 b를 더한 뒤 결과를 변환하는 함수입니다.\n"
          ]
        }
      ]
    },
    {
      "cell_type": "code",
      "source": [
        "help(add)"
      ],
      "metadata": {
        "colab": {
          "base_uri": "https://localhost:8080/"
        },
        "id": "xyzEXl8Phe1Q",
        "outputId": "f32f34e0-b431-4a74-a983-a738d4145c7b"
      },
      "execution_count": 21,
      "outputs": [
        {
          "output_type": "stream",
          "name": "stdout",
          "text": [
            "Help on function add in module __main__:\n",
            "\n",
            "add(a, b)\n",
            "    이 함수는 a와 b를 더한 뒤 결과를 변환하는 함수입니다.\n",
            "\n"
          ]
        }
      ]
    },
    {
      "cell_type": "markdown",
      "source": [
        "## 함수의 결과를 반환하기"
      ],
      "metadata": {
        "id": "sYAHXKyOhqRg"
      }
    },
    {
      "cell_type": "code",
      "source": [
        "# return을 사용하면 값을 함수 바깥으로 반환함(return에 값을 지정하지 않으면 None을 반환)\n",
        "\n",
        "def 함수이름(매개변수):\n",
        "    return 반환값"
      ],
      "metadata": {
        "id": "A_tQ-3tEhkpL"
      },
      "execution_count": 22,
      "outputs": []
    },
    {
      "cell_type": "code",
      "source": [
        "def add(a, b):\n",
        "    return a + b"
      ],
      "metadata": {
        "id": "zk1-GOWjiAH9"
      },
      "execution_count": 23,
      "outputs": []
    },
    {
      "cell_type": "code",
      "source": [
        "x = add(10, 20)\n",
        "x"
      ],
      "metadata": {
        "colab": {
          "base_uri": "https://localhost:8080/"
        },
        "id": "81AAgkhziHz3",
        "outputId": "cecf98f1-bd7a-45d5-cc87-223b947d4eb4"
      },
      "execution_count": 25,
      "outputs": [
        {
          "output_type": "execute_result",
          "data": {
            "text/plain": [
              "30"
            ]
          },
          "metadata": {},
          "execution_count": 25
        }
      ]
    },
    {
      "cell_type": "code",
      "source": [
        "# 변환값을 변수에 저장하지 x -> 다른 함수에 넣을 수 있음\n",
        "\n",
        "print(add(10, 20))"
      ],
      "metadata": {
        "colab": {
          "base_uri": "https://localhost:8080/"
        },
        "id": "w1-UMP2RiZR6",
        "outputId": "1a6fb1ea-f7d9-4a32-8e5c-1ad7aefe0bce"
      },
      "execution_count": 26,
      "outputs": [
        {
          "output_type": "stream",
          "name": "stdout",
          "text": [
            "30\n"
          ]
        }
      ]
    },
    {
      "cell_type": "markdown",
      "source": [
        "## 매개변수는 없고 반환값만 있는 함수"
      ],
      "metadata": {
        "id": "lGT8bw8Iikpx"
      }
    },
    {
      "cell_type": "code",
      "source": [
        "# 함수를 만들 때 매개변수는 없지만 값만 반환하는 함수를 만들 수 있음\n",
        "\n",
        "def one():\n",
        "    return 1 # 매개변수 없이 1반환\n",
        "\n",
        "x = one()\n",
        "x"
      ],
      "metadata": {
        "colab": {
          "base_uri": "https://localhost:8080/"
        },
        "id": "KXh3rSi8iiJB",
        "outputId": "0f867197-3697-4e48-fc83-c36d694fc630"
      },
      "execution_count": 27,
      "outputs": [
        {
          "output_type": "execute_result",
          "data": {
            "text/plain": [
              "1"
            ]
          },
          "metadata": {},
          "execution_count": 27
        }
      ]
    },
    {
      "cell_type": "markdown",
      "source": [
        "## return으로 함수 중간에서 빠져나오기"
      ],
      "metadata": {
        "id": "8h9M4-AMi11j"
      }
    },
    {
      "cell_type": "code",
      "source": [
        "# return은 값을 반환하는 기능뿐 아니라, 함수 중간에 바로 빠져나오는 기능이 있음\n",
        "\n",
        "def not_ten(a):\n",
        "    if a == 10:\n",
        "        return\n",
        "    print(a, '입니다.', sep='')\n",
        "\n",
        "not_ten(5)"
      ],
      "metadata": {
        "colab": {
          "base_uri": "https://localhost:8080/"
        },
        "id": "USMvnOKTiw-G",
        "outputId": "5b0d642a-da90-49cf-c57e-504ff19f5c84"
      },
      "execution_count": 28,
      "outputs": [
        {
          "output_type": "stream",
          "name": "stdout",
          "text": [
            "5입니다.\n"
          ]
        }
      ]
    },
    {
      "cell_type": "code",
      "source": [
        "# 10을 넣으면 중간에 빠져나오기 때문에 그 아래에 있는 print 실행 x\n",
        "# return은 함수 중간에 빠져나올 때 자주 사용함\n",
        "# 보통은 if와 조합해서 특정조건일 때 함수 중간에 빠져나옴\n",
        "\n",
        "not(10)"
      ],
      "metadata": {
        "colab": {
          "base_uri": "https://localhost:8080/"
        },
        "id": "D5Fn45xjjRpd",
        "outputId": "1e409266-0709-47b3-d729-e055bbb42260"
      },
      "execution_count": 29,
      "outputs": [
        {
          "output_type": "execute_result",
          "data": {
            "text/plain": [
              "False"
            ]
          },
          "metadata": {},
          "execution_count": 29
        }
      ]
    },
    {
      "cell_type": "markdown",
      "source": [
        "## 함수에서 값을 여러 개 반환하기"
      ],
      "metadata": {
        "id": "dCDGUI1gjuXh"
      }
    },
    {
      "cell_type": "code",
      "source": [
        "# 함수에서 값을 여러 개 변환할 때는 다음과 같이 return에 값이나 변수를 ,(콤마)로 구분해서 지정함\n",
        "\n",
        "def 함수이름(매개변수):\n",
        "    return 반환값1, 반환값2"
      ],
      "metadata": {
        "id": "Di2pAvgOjSYP"
      },
      "execution_count": 30,
      "outputs": []
    },
    {
      "cell_type": "code",
      "source": [
        "# 두 수를 더한 값과 뺀 값을 반환하는 함수\n",
        "\n",
        "def add_sub(a, b):\n",
        "    return a + b, a - b"
      ],
      "metadata": {
        "id": "UF9r51jSkCD5"
      },
      "execution_count": 31,
      "outputs": []
    },
    {
      "cell_type": "code",
      "source": [
        "x, y = add_sub(10, 20)\n",
        "x"
      ],
      "metadata": {
        "colab": {
          "base_uri": "https://localhost:8080/"
        },
        "id": "SA6XWqFxkLXU",
        "outputId": "af16110e-add2-4672-f307-dfa8eb3ab826"
      },
      "execution_count": 32,
      "outputs": [
        {
          "output_type": "execute_result",
          "data": {
            "text/plain": [
              "30"
            ]
          },
          "metadata": {},
          "execution_count": 32
        }
      ]
    },
    {
      "cell_type": "code",
      "source": [
        "y"
      ],
      "metadata": {
        "colab": {
          "base_uri": "https://localhost:8080/"
        },
        "id": "3BEGF-2ykN-s",
        "outputId": "82ccc748-64cc-4a16-eb09-81520f8d9027"
      },
      "execution_count": 33,
      "outputs": [
        {
          "output_type": "execute_result",
          "data": {
            "text/plain": [
              "-10"
            ]
          },
          "metadata": {},
          "execution_count": 33
        }
      ]
    },
    {
      "cell_type": "code",
      "source": [
        "# return으로 값을 여러 개 반환하면 실제로는 튜플이 반환됨\n",
        "# 튜플이 여러 개 할당되는 특성을 이용한 것\n",
        "\n",
        "x = add_sub(10, 20)\n",
        "x"
      ],
      "metadata": {
        "colab": {
          "base_uri": "https://localhost:8080/"
        },
        "id": "XBu7OPwjkOf5",
        "outputId": "ce1aa57d-0ee0-4d33-aa7d-21233aeac101"
      },
      "execution_count": 34,
      "outputs": [
        {
          "output_type": "execute_result",
          "data": {
            "text/plain": [
              "(30, -10)"
            ]
          },
          "metadata": {},
          "execution_count": 34
        }
      ]
    },
    {
      "cell_type": "code",
      "source": [
        "y"
      ],
      "metadata": {
        "colab": {
          "base_uri": "https://localhost:8080/"
        },
        "id": "MkTHWPJ-kfb7",
        "outputId": "c86ba8ac-17c3-46c2-8a7f-0e12bf8ecddb"
      },
      "execution_count": 35,
      "outputs": [
        {
          "output_type": "execute_result",
          "data": {
            "text/plain": [
              "-10"
            ]
          },
          "metadata": {},
          "execution_count": 35
        }
      ]
    },
    {
      "cell_type": "markdown",
      "source": [
        "## 값 여러 개를 직접 반환하기"
      ],
      "metadata": {
        "id": "PsN7axcGkowH"
      }
    },
    {
      "cell_type": "code",
      "source": [
        "def one_two():\n",
        "    return (1, 2)"
      ],
      "metadata": {
        "id": "SS7cgWIqkgXC"
      },
      "execution_count": 36,
      "outputs": []
    },
    {
      "cell_type": "code",
      "source": [
        "1, 2"
      ],
      "metadata": {
        "colab": {
          "base_uri": "https://localhost:8080/"
        },
        "id": "rgwM4Bc3kuJL",
        "outputId": "d240b60f-1dfe-4328-dbfc-1d51ea745a00"
      },
      "execution_count": 37,
      "outputs": [
        {
          "output_type": "execute_result",
          "data": {
            "text/plain": [
              "(1, 2)"
            ]
          },
          "metadata": {},
          "execution_count": 37
        }
      ]
    },
    {
      "cell_type": "code",
      "source": [
        "def one_two():\n",
        "    return 1, 2 # return (1, 2)와 같음"
      ],
      "metadata": {
        "id": "kRiMuV0tkurA"
      },
      "execution_count": 39,
      "outputs": []
    },
    {
      "cell_type": "code",
      "source": [
        "# 물론 return에서 리스트를 직접 반환해도 됨\n",
        "\n",
        "def one_two():\n",
        "    return [1, 2]\n",
        "\n",
        "x, y = one_two()\n",
        "print(x, y)"
      ],
      "metadata": {
        "colab": {
          "base_uri": "https://localhost:8080/"
        },
        "id": "B6_lwh0Zk1M2",
        "outputId": "f10b4bfe-b457-47e1-94f9-d5db638ac948"
      },
      "execution_count": 40,
      "outputs": [
        {
          "output_type": "stream",
          "name": "stdout",
          "text": [
            "1 2\n"
          ]
        }
      ]
    },
    {
      "cell_type": "markdown",
      "source": [
        "## 함수의 호출 과정 알아보기"
      ],
      "metadata": {
        "id": "qmLC63vSlF5e"
      }
    },
    {
      "cell_type": "code",
      "source": [
        "# 줄 1부터 12까지 실행하면 전역 프레임에 함수 mul, add 변수 x,y가 들어감# 줄 1부터 12까지 실행하면 전역 프레임에 함수 mul, add 변수 x,y가 들어감\n",
        "\n",
        "def mul(a, b):\n",
        "  c = a * b\n",
        "  return c\n",
        "\n",
        "def add(a, b):\n",
        "  c = a + b\n",
        "  print(c)\n",
        "  d = mul(a, b)\n",
        "  print(d)\n",
        "\n",
        "x = 10\n",
        "y = 20\n",
        "add(x, y)"
      ],
      "metadata": {
        "colab": {
          "base_uri": "https://localhost:8080/"
        },
        "id": "oxCD-cuYlDHm",
        "outputId": "3e801253-9fd2-4ff1-ffa2-5c0b0eacd7f8"
      },
      "execution_count": 42,
      "outputs": [
        {
          "output_type": "stream",
          "name": "stdout",
          "text": [
            "30\n",
            "200\n"
          ]
        }
      ]
    },
    {
      "cell_type": "markdown",
      "source": [
        "## 연습문제 : 몫과 너머지를 구하는 함수 만들기"
      ],
      "metadata": {
        "id": "8cNUGmtmn1Vl"
      }
    },
    {
      "cell_type": "code",
      "source": [
        "x = 10\n",
        "y = 3\n",
        "\n",
        "def get_quotient_remainder(a, b):\n",
        "    return a // b, a % b\n",
        "\n",
        "quotient, remainder = get_quotient_remainder(x, y)\n",
        "print('몫: {0}, 나머지: {1}'.format(quotient, remainder))"
      ],
      "metadata": {
        "colab": {
          "base_uri": "https://localhost:8080/"
        },
        "id": "zi511WZKlQhu",
        "outputId": "99c02e44-e1b5-46bf-9672-060259836848"
      },
      "execution_count": 43,
      "outputs": [
        {
          "output_type": "stream",
          "name": "stdout",
          "text": [
            "몫: 3, 나머지: 1\n"
          ]
        }
      ]
    },
    {
      "cell_type": "markdown",
      "source": [
        "## 심사문제 : 사칙 연산 함수 만들기"
      ],
      "metadata": {
        "id": "GA_hvs5-osjH"
      }
    },
    {
      "cell_type": "code",
      "source": [
        "x, y = map(int, input().split())\n",
        "\n",
        "def calc(a, b):\n",
        "    return a + b, a - b, a * b, a / b\n",
        "\n",
        "a, s, m, d = calc(x, y)\n",
        "print('덧셈: {0}, 뺄셈: {1}, 곱셈: {2}, 나눗셈: {3}'.format(a, s, m, d))"
      ],
      "metadata": {
        "colab": {
          "base_uri": "https://localhost:8080/"
        },
        "id": "Fz5v_HYEoW4w",
        "outputId": "2930c5c1-447a-4efa-e944-afe4d9adddcc"
      },
      "execution_count": 45,
      "outputs": [
        {
          "output_type": "stream",
          "name": "stdout",
          "text": [
            "10 20\n",
            "덧셈: 30, 뺄셈: -10, 곱셈: 200, 나눗셈: 0.5\n"
          ]
        }
      ]
    },
    {
      "cell_type": "code",
      "source": [],
      "metadata": {
        "id": "JN91AhippZaf"
      },
      "execution_count": null,
      "outputs": []
    }
  ]
}