{
  "nbformat": 4,
  "nbformat_minor": 0,
  "metadata": {
    "colab": {
      "provenance": [],
      "authorship_tag": "ABX9TyNeHzmJc1rx0GSv6fSZeK8a",
      "include_colab_link": true
    },
    "kernelspec": {
      "name": "python3",
      "display_name": "Python 3"
    },
    "language_info": {
      "name": "python"
    }
  },
  "cells": [
    {
      "cell_type": "markdown",
      "metadata": {
        "id": "view-in-github",
        "colab_type": "text"
      },
      "source": [
        "<a href=\"https://colab.research.google.com/github/YuSeongShim/Python_colab/blob/main/25_05_17_Python_%EC%88%98%EC%97%85(%ED%81%B4%EB%9E%98%EC%8A%A4_%EC%82%AC%EC%9A%A9%ED%95%98%EA%B8%B0).ipynb\" target=\"_parent\"><img src=\"https://colab.research.google.com/assets/colab-badge.svg\" alt=\"Open In Colab\"/></a>"
      ]
    },
    {
      "cell_type": "markdown",
      "source": [
        "## 클래스 사용하기"
      ],
      "metadata": {
        "id": "dOb3oIsK_0Fu"
      }
    },
    {
      "cell_type": "code",
      "execution_count": null,
      "metadata": {
        "id": "2p69Q1br8LI_"
      },
      "outputs": [],
      "source": [
        "# 클래스는 객체를 표현하기 위한 문법\n",
        "# 객체(object)는 특정한 개념이나 모양으로 존재하는 것을 객체\n",
        "# 프로그래밍으로 객체를 사용하는 것이 클래스\n",
        "# 속성은 게임 캐릭터안에서 체력, 마나, 물리 공격력, 주문력 등의 데이터를 말함\n",
        "# 베기, 찌르기 등의 기능을 메서드라고 함"
      ]
    },
    {
      "cell_type": "code",
      "source": [
        "# 객체지향 프로그래밍 -> 복잡한 문제를 잘게 나누어 객체로 만들고, 객체를 조합해서 문제를 해결함\n",
        "# 복잡한 문제를 처리하는데 유용하며, 기능을 개선하고 발전시킬 때 해당 클래스를 수정한 하면 되기에 유지보수도 쉬움!!"
      ],
      "metadata": {
        "id": "2BqLqPtXAV73"
      },
      "execution_count": null,
      "outputs": []
    },
    {
      "cell_type": "markdown",
      "source": [
        "## 클래스와 매서드 만들기"
      ],
      "metadata": {
        "id": "sDe4lNSfAU0T"
      }
    },
    {
      "cell_type": "code",
      "source": [
        "# 클래스는 class에 이름을 지정한후, :(콜론)을 붙인 뒤 다음 줄부터 def로 메서드를 작성하면 됨\n",
        "# 메서드는 클래스 안에 들어있는 함수를 뜻함\n",
        "\n",
        "class 클래스이름:\n",
        "    def 메서드(self): # 클래스의 변수를 사용하기 위해서 필요!!\n",
        "        코드"
      ],
      "metadata": {
        "id": "CeKjxYk4AuhX"
      },
      "execution_count": null,
      "outputs": []
    },
    {
      "cell_type": "code",
      "source": [
        "# 간단한 사람 클래스 작성해보기\n",
        "\n",
        "class Person:\n",
        "  def greeting(self):\n",
        "      print('Hello')"
      ],
      "metadata": {
        "id": "7zvD9ZPLBFbl"
      },
      "execution_count": null,
      "outputs": []
    },
    {
      "cell_type": "code",
      "source": [
        "# 클래스를 사용하기 위해서는 ()을 붙인 뒤 변수에 할당 함\n",
        "# 인스턴스 = 클래스()\n",
        "# Person 으로 변수 james를 만드는 데, james = Person의 인스턴스\n",
        "# 클래스는 특정 개념을 표현만 하기에 사용을 하려면 '인스턴스' 필요!!\n",
        "\n",
        "james = Person()"
      ],
      "metadata": {
        "id": "s0TlQQoHBSCR"
      },
      "execution_count": null,
      "outputs": []
    },
    {
      "cell_type": "markdown",
      "source": [
        "## 메서드 호출하기"
      ],
      "metadata": {
        "id": "uJ6wmoAHD2aT"
      }
    },
    {
      "cell_type": "code",
      "source": [
        "# 메서드는 클래스 x, 인스턴스를 통해 호출함\n",
        "# 인스턴스를 통해 호출하는 메서드 = 인스턴스 매서드\n",
        "\n",
        "james.greeting()"
      ],
      "metadata": {
        "colab": {
          "base_uri": "https://localhost:8080/"
        },
        "id": "ReLCX7eiCAmZ",
        "outputId": "f9a529bf-fea9-474b-dbde-2fb401f6ea6e"
      },
      "execution_count": null,
      "outputs": [
        {
          "output_type": "stream",
          "name": "stdout",
          "text": [
            "Hello\n"
          ]
        }
      ]
    },
    {
      "cell_type": "markdown",
      "source": [
        "## 파이썬에서 흔히 볼 수 있는 클래스"
      ],
      "metadata": {
        "id": "3EOVrR9hEQNQ"
      }
    },
    {
      "cell_type": "code",
      "source": [
        "# 우리가 지금까지 사용한 int, list, dict 등도 클래스임\n",
        "\n",
        "a = int(10)\n",
        "a"
      ],
      "metadata": {
        "id": "pat_hyqdEM97",
        "colab": {
          "base_uri": "https://localhost:8080/"
        },
        "outputId": "cd524647-ca1d-43d5-d3ad-107092f78f53"
      },
      "execution_count": null,
      "outputs": [
        {
          "output_type": "execute_result",
          "data": {
            "text/plain": [
              "10"
            ]
          },
          "metadata": {},
          "execution_count": 4
        }
      ]
    },
    {
      "cell_type": "code",
      "source": [
        "b = list(range(10))\n",
        "b"
      ],
      "metadata": {
        "colab": {
          "base_uri": "https://localhost:8080/"
        },
        "id": "nSuu5y3tFgro",
        "outputId": "4cc19298-9a3c-4c0e-cf31-76addefc7d2c"
      },
      "execution_count": null,
      "outputs": [
        {
          "output_type": "execute_result",
          "data": {
            "text/plain": [
              "[0, 1, 2, 3, 4, 5, 6, 7, 8, 9]"
            ]
          },
          "metadata": {},
          "execution_count": 6
        }
      ]
    },
    {
      "cell_type": "code",
      "source": [
        "c = dict(x=10, y = 20)"
      ],
      "metadata": {
        "id": "9AmkGsn0Fi3B"
      },
      "execution_count": null,
      "outputs": []
    },
    {
      "cell_type": "code",
      "source": [
        "c"
      ],
      "metadata": {
        "colab": {
          "base_uri": "https://localhost:8080/"
        },
        "id": "fssN07E4Fq2m",
        "outputId": "b84bf4b9-c9a0-4a75-e631-3d7fb92935b7"
      },
      "execution_count": null,
      "outputs": [
        {
          "output_type": "execute_result",
          "data": {
            "text/plain": [
              "{'x': 10, 'y': 20}"
            ]
          },
          "metadata": {},
          "execution_count": 10
        }
      ]
    },
    {
      "cell_type": "code",
      "source": [
        "# 인스턴스 b에서 메서드 append를 호출해서 값을 추가함\n",
        "\n",
        "b = list(range(10))\n",
        "b.append(20)\n",
        "b"
      ],
      "metadata": {
        "colab": {
          "base_uri": "https://localhost:8080/"
        },
        "id": "qXuXyhMXFrMq",
        "outputId": "a6092cc2-b57f-4886-8c7b-0df3740ded21"
      },
      "execution_count": null,
      "outputs": [
        {
          "output_type": "execute_result",
          "data": {
            "text/plain": [
              "[0, 1, 2, 3, 4, 5, 6, 7, 8, 9, 20]"
            ]
          },
          "metadata": {},
          "execution_count": 11
        }
      ]
    },
    {
      "cell_type": "code",
      "source": [
        "# 파이썬에서 자료형 -> 클래스\n",
        "# type을 사용하면 객체가 어떤 클래스인지 확인 가능o\n",
        "\n",
        "a = 10\n",
        "type(a)"
      ],
      "metadata": {
        "colab": {
          "base_uri": "https://localhost:8080/"
        },
        "id": "SZB4Af6AGI4k",
        "outputId": "6a580948-db20-40a2-b7c9-558897435082"
      },
      "execution_count": null,
      "outputs": [
        {
          "output_type": "execute_result",
          "data": {
            "text/plain": [
              "int"
            ]
          },
          "metadata": {},
          "execution_count": 12
        }
      ]
    },
    {
      "cell_type": "code",
      "source": [
        "b = [0, 1, 2]\n",
        "type(b)"
      ],
      "metadata": {
        "colab": {
          "base_uri": "https://localhost:8080/"
        },
        "id": "c6ZSp_bgGawy",
        "outputId": "226f45b9-93b0-454d-8e8d-2040867c72b4"
      },
      "execution_count": null,
      "outputs": [
        {
          "output_type": "execute_result",
          "data": {
            "text/plain": [
              "list"
            ]
          },
          "metadata": {},
          "execution_count": 13
        }
      ]
    },
    {
      "cell_type": "code",
      "source": [
        "c = {'x': 10, 'y': 20}\n",
        "type(c)"
      ],
      "metadata": {
        "colab": {
          "base_uri": "https://localhost:8080/"
        },
        "id": "Xbhn65IPGcqh",
        "outputId": "aa7215d1-b6c6-417e-f170-349a7d7124b3"
      },
      "execution_count": null,
      "outputs": [
        {
          "output_type": "execute_result",
          "data": {
            "text/plain": [
              "dict"
            ]
          },
          "metadata": {},
          "execution_count": 14
        }
      ]
    },
    {
      "cell_type": "code",
      "source": [
        "maria = Person()\n",
        "print(type(maria))"
      ],
      "metadata": {
        "colab": {
          "base_uri": "https://localhost:8080/"
        },
        "id": "FTW-5eN9Gh_8",
        "outputId": "89c45049-0f35-492a-a5c4-455ea36c4854"
      },
      "execution_count": null,
      "outputs": [
        {
          "output_type": "stream",
          "name": "stdout",
          "text": [
            "<class '__main__.Person'>\n"
          ]
        }
      ]
    },
    {
      "cell_type": "markdown",
      "source": [
        "## 인스턴스와 객체의 차이점?"
      ],
      "metadata": {
        "id": "IQv8NANJHCd7"
      }
    },
    {
      "cell_type": "code",
      "source": [
        "# 사실 인스턴스와 객체는 같은 의미\n",
        "# 보통 객체만 지칭할 때는 객체라고 부름\n",
        "# 클래스와 연관지어서 말할 때 = 인스턴스(instance)라고 부름\n",
        "\n",
        "a = list(range(10)) # a는 객체, list 클래스는 인스턴스\n",
        "b = list(range(20)) # b는 객체, list 클래스는 인스턴스"
      ],
      "metadata": {
        "id": "1_cUzuwOG3il"
      },
      "execution_count": null,
      "outputs": []
    },
    {
      "cell_type": "markdown",
      "source": [
        "## 빈 클래스 만들기"
      ],
      "metadata": {
        "id": "p6g-vOKWIWrB"
      }
    },
    {
      "cell_type": "code",
      "source": [
        "# 내용이 없는 빈 부분은 코드 부분에 pass를 넣어줌\n",
        "\n",
        "class Person:\n",
        "    pass"
      ],
      "metadata": {
        "id": "XvBG2p7iINCl"
      },
      "execution_count": null,
      "outputs": []
    },
    {
      "cell_type": "markdown",
      "source": [
        "## 매서드 안에서 매서드 호출하기"
      ],
      "metadata": {
        "id": "fxigH1aFIf1_"
      }
    },
    {
      "cell_type": "code",
      "source": [
        "# 매서드 안에서 매서드 호출할 때는 다음과 같이 self.매서드() 형식으로 호출해야 함\n",
        "# self 없이 메서드 이름만 사용하면 클래스 바깥쪽에 있는 함수를 호출한다는 뜻이 되기에 주의해야 함!!\n",
        "\n",
        "class Person:\n",
        "    def greeting(self):\n",
        "        print('Hello')\n",
        "\n",
        "    def hello(self):\n",
        "        self.greeting() # self.메서드() 형식으로 클래스 안의 메서드를 호출\n",
        "\n",
        "james = Person()\n",
        "james.hello()   # Hello"
      ],
      "metadata": {
        "colab": {
          "base_uri": "https://localhost:8080/"
        },
        "id": "U9JOOJ2AIjQh",
        "outputId": "adcc308e-9a99-433d-a887-3af51d028573"
      },
      "execution_count": null,
      "outputs": [
        {
          "output_type": "stream",
          "name": "stdout",
          "text": [
            "Hello\n"
          ]
        }
      ]
    },
    {
      "cell_type": "markdown",
      "source": [
        "## 특정 클래스의 인스턴스인지 확인하기"
      ],
      "metadata": {
        "id": "1dRDTYbaJhJN"
      }
    },
    {
      "cell_type": "code",
      "source": [
        "# 현재 인스턴스가 특정 클래스의 인스턴스인지 확인할 때 = isinstance 함수를 사용함\n",
        "# 특정 클래스의 인스턴스가 맞으면 True, 아니면 False 반환\n",
        "\n",
        "# isinstance(인스턴스, 클래스)\n",
        "\n",
        "class Person:\n",
        "    pass\n",
        "\n",
        "james = Person()\n",
        "isinstance(james, Person)"
      ],
      "metadata": {
        "colab": {
          "base_uri": "https://localhost:8080/"
        },
        "id": "rs4i58HmJUzK",
        "outputId": "30d96aaf-5162-4036-e5fd-9138c433ed70"
      },
      "execution_count": null,
      "outputs": [
        {
          "output_type": "execute_result",
          "data": {
            "text/plain": [
              "True"
            ]
          },
          "metadata": {},
          "execution_count": 19
        }
      ]
    },
    {
      "cell_type": "code",
      "source": [
        "def factorial(n):\n",
        "    if not isinstance(n, int) or n < 0: # n이 정수가 아니거나 음수이면 함수를 끝냄\n",
        "        return None\n",
        "    if n == 1:\n",
        "        return 1\n",
        "    return n * factorial(n-1)\n",
        "\n",
        "print(factorial(5))"
      ],
      "metadata": {
        "colab": {
          "base_uri": "https://localhost:8080/"
        },
        "id": "PoELnMiEKRIt",
        "outputId": "e5063622-2ea0-405d-8d8b-e562c1be8586"
      },
      "execution_count": null,
      "outputs": [
        {
          "output_type": "stream",
          "name": "stdout",
          "text": [
            "120\n"
          ]
        }
      ]
    },
    {
      "cell_type": "markdown",
      "source": [
        "## 속성 사용하기"
      ],
      "metadata": {
        "id": "kKeeRjprMeb0"
      }
    },
    {
      "cell_type": "code",
      "source": [
        "# 속성을 만들 때는 __init__ 메서드 안에서 self 속성 값을 할당 함\n",
        "\n",
        "class 클래스이름:\n",
        "    def __init__(self):\n",
        "        self.속성 = 값"
      ],
      "metadata": {
        "id": "I3tNyOaYKnIy"
      },
      "execution_count": null,
      "outputs": []
    },
    {
      "cell_type": "code",
      "source": [
        "class Person:\n",
        "    def __init__(self): # __init__ 메서드는 james = Person() 처럼 클래스에 ()괄호를 붙여서 인스턴스를 만들 때 호출되는 특별한 메서드임, 인스턴스(객체)를 초기화 해줌\n",
        "        self.hello = '안녕하세요.'\n",
        "\n",
        "    def greeting(self):\n",
        "        print(self.hello)\n",
        "\n",
        "james = Person()\n",
        "james.greeting()  # 안녕하세요"
      ],
      "metadata": {
        "colab": {
          "base_uri": "https://localhost:8080/"
        },
        "id": "knA8fUnNM3oh",
        "outputId": "bd086bee-4a7b-41d1-8338-7b260a1b4299"
      },
      "execution_count": null,
      "outputs": [
        {
          "output_type": "stream",
          "name": "stdout",
          "text": [
            "안녕하세요.\n"
          ]
        }
      ]
    },
    {
      "cell_type": "markdown",
      "source": [
        "## self의 의미"
      ],
      "metadata": {
        "id": "7h5o_gsnOoug"
      }
    },
    {
      "cell_type": "code",
      "source": [
        "# self는 인스턴스 자기 자신을 의미함\n",
        "# 인스턴스가 생성될 때 self.hello = '안녕하세요' 처럼 자기 자신에 속성을 추가함\n",
        "# __init__의 매개변수 self에 들어가는 값 = person(), 그리고 self가 완성된뒤 james에 할당"
      ],
      "metadata": {
        "id": "CqRgLX0fNMi6"
      },
      "execution_count": null,
      "outputs": []
    },
    {
      "cell_type": "markdown",
      "source": [
        "## 인스턴스를 만들 때 값 받기"
      ],
      "metadata": {
        "id": "Iu9PUvATQKl9"
      }
    },
    {
      "cell_type": "code",
      "source": [
        "# ___init__ 메서드에서 self 값을 받을 매개변수 지정\n",
        "# 매개변수 속성에 self.속성에 넣어줌\n",
        "\n",
        "class 클래스이름:\n",
        "    def __init__(self, 매개변수1, 매개변수2):\n",
        "        self.속성1 = 매개변수1\n",
        "        self.속성2 = 매개변수2"
      ],
      "metadata": {
        "id": "RUaQW57-QOTf"
      },
      "execution_count": null,
      "outputs": []
    },
    {
      "cell_type": "code",
      "source": [
        "# Person 클래스로 인스턴스를 받을 때 이름, 나이, 주소를 받아보자\n",
        "\n",
        "class Person:\n",
        "    def __init__(self, name, age, address):\n",
        "        self.hello = '안녕하세요'\n",
        "        self.name = name\n",
        "        self.age = age\n",
        "        self.address = address\n",
        "\n",
        "\n",
        "    def greeting(self):\n",
        "        print('{0} 저는 {1} 입니다.' .format(self.hello, self.name))\n",
        "\n",
        "maria = Person('마리아', 20, '서울시 서초구 반포동')\n",
        "maria.greeting()  # 안녕하세요. 저는 마리아 입니다.\n",
        "\n",
        "print('이름: ', maria.name) # 마리아\n",
        "print('나이: ', maria.age) # 20\n",
        "print('주소: ', maria.address) # 서울시 서초구 반포동"
      ],
      "metadata": {
        "id": "o4SJuBkhQubu",
        "colab": {
          "base_uri": "https://localhost:8080/"
        },
        "outputId": "2bdbaa8a-afe9-4717-aa32-e0e4518e6cd3"
      },
      "execution_count": null,
      "outputs": [
        {
          "output_type": "stream",
          "name": "stdout",
          "text": [
            "안녕하세요 저는 마리아 입니다.\n",
            "이름:  마리아\n",
            "나이:  20\n",
            "주소:  서울시 서초구 반포동\n"
          ]
        }
      ]
    },
    {
      "cell_type": "markdown",
      "source": [
        "## 클래스의 위치 인수, 키워드 인수"
      ],
      "metadata": {
        "id": "L3mTLrJBSdBr"
      }
    },
    {
      "cell_type": "code",
      "source": [
        "# 위치인수와 리스트 언패킹을 사용하려면 = *args 쓰면 됨\n",
        "# 이때 매개변수에서 값을 가져오려면 = args[0]\n",
        "\n",
        "class Person:\n",
        "    def __init__(self, *args):\n",
        "        self.name = args[0]\n",
        "        self.age = args[1]\n",
        "        self.address = args[2]\n",
        "\n",
        "maria = Person(*['마리아', 20, '서울시 서초구 반포동'])"
      ],
      "metadata": {
        "id": "o7cgMXudSETM"
      },
      "execution_count": null,
      "outputs": []
    },
    {
      "cell_type": "code",
      "source": [
        "from ctypes import addressof\n",
        "# 키워드 인수와 딕셔너리 언패킹을 사용하려면 = **kwargs\n",
        "# 매개변수에서 값을 가져오려면 kwargs['name']처럼 사용!!\n",
        "\n",
        "class Person:\n",
        "    def __init__(self, **kwargs): # 키워드 인수\n",
        "        self.name = kwargs['name']\n",
        "        self.age = kwargs ['age']\n",
        "        self.address = kwargs['address']\n",
        "\n",
        "maria1 = Person(name='마리아', age = 20, address = '서울시 서초구 반포동')\n",
        "maria2 = Person(**{'name' : '마리아', 'age' : 20, 'address' : '서울시 서초구 반포동'})"
      ],
      "metadata": {
        "id": "oDDO1pDiTIqC"
      },
      "execution_count": null,
      "outputs": []
    },
    {
      "cell_type": "markdown",
      "source": [
        "## 인스턴스를 생성한 뒤에 속성 추가하기, 특정 속성만 허용하기"
      ],
      "metadata": {
        "id": "Q47UDyeMa4ey"
      }
    },
    {
      "cell_type": "code",
      "source": [
        "# 인스턴스를 만든 뒤 name 속성을 추가\n",
        "\n",
        "class Person:\n",
        "    pass\n",
        "\n",
        "maria = Person() # 인스턴스 생성\n",
        "maria.name = '마리아' # 인스턴스를 만든 뒤 속성 추가\n",
        "maria.name"
      ],
      "metadata": {
        "colab": {
          "base_uri": "https://localhost:8080/",
          "height": 36
        },
        "id": "vI4qPo89UF2n",
        "outputId": "6d52d7bf-fb48-412d-d732-ba4ce1480f99"
      },
      "execution_count": null,
      "outputs": [
        {
          "output_type": "execute_result",
          "data": {
            "text/plain": [
              "'마리아'"
            ],
            "application/vnd.google.colaboratory.intrinsic+json": {
              "type": "string"
            }
          },
          "metadata": {},
          "execution_count": 31
        }
      ]
    },
    {
      "cell_type": "code",
      "source": [
        "# 추가한 속성은 해당 인스턴스에만 생성됨\n",
        "# 클래스로 다른 인스턴스를 만들었을 때 추가한 속성이 생성 x\n",
        "\n",
        "james = Person() # james 인스턴스 생성\n",
        "james.name  # maria 인스턴스에만 name 속성을 추가했기에 james 인스턴스에는 속성 x"
      ],
      "metadata": {
        "id": "ew55P30Jc1wI"
      },
      "execution_count": null,
      "outputs": []
    },
    {
      "cell_type": "code",
      "source": [
        "# 인스턴스는 생성한 뒤에 속성 추가 o, __init__ 메서드가 아닌 다른 메서드 속성 o\n",
        "# 이때는 반드시 호출해야 속성이 생성됨\n",
        "\n",
        "class Person:\n",
        "    def greeting(self):\n",
        "        self.hello = '안녕하세요' # greeting 메서드에서 hello 속성 추가\n"
      ],
      "metadata": {
        "id": "0dQ-l8Yvd2PE",
        "colab": {
          "base_uri": "https://localhost:8080/",
          "height": 211
        },
        "outputId": "35636046-6a1f-48bf-b6df-bb07299d996a"
      },
      "execution_count": 32,
      "outputs": [
        {
          "output_type": "error",
          "ename": "AttributeError",
          "evalue": "'Person' object has no attribute 'hello'",
          "traceback": [
            "\u001b[0;31m---------------------------------------------------------------------------\u001b[0m",
            "\u001b[0;31mAttributeError\u001b[0m                            Traceback (most recent call last)",
            "\u001b[0;32m<ipython-input-32-043c468fa305>\u001b[0m in \u001b[0;36m<cell line: 0>\u001b[0;34m()\u001b[0m\n\u001b[1;32m      7\u001b[0m \u001b[0;34m\u001b[0m\u001b[0m\n\u001b[1;32m      8\u001b[0m \u001b[0mmaria\u001b[0m \u001b[0;34m=\u001b[0m \u001b[0mPerson\u001b[0m\u001b[0;34m(\u001b[0m\u001b[0;34m)\u001b[0m\u001b[0;34m\u001b[0m\u001b[0;34m\u001b[0m\u001b[0m\n\u001b[0;32m----> 9\u001b[0;31m \u001b[0mmaria\u001b[0m\u001b[0;34m.\u001b[0m\u001b[0mhello\u001b[0m \u001b[0;31m# hello 속성 x\u001b[0m\u001b[0;34m\u001b[0m\u001b[0;34m\u001b[0m\u001b[0m\n\u001b[0m\u001b[1;32m     10\u001b[0m \u001b[0;34m\u001b[0m\u001b[0m\n\u001b[1;32m     11\u001b[0m \u001b[0mmaria\u001b[0m\u001b[0;34m.\u001b[0m\u001b[0mgreeting\u001b[0m\u001b[0;34m(\u001b[0m\u001b[0;34m)\u001b[0m \u001b[0;31m# greeting 메서드를 호출해야\u001b[0m\u001b[0;34m\u001b[0m\u001b[0;34m\u001b[0m\u001b[0m\n",
            "\u001b[0;31mAttributeError\u001b[0m: 'Person' object has no attribute 'hello'"
          ]
        }
      ]
    },
    {
      "cell_type": "code",
      "source": [
        "maria = Person()\n",
        "maria.hello # hello 속성 x"
      ],
      "metadata": {
        "colab": {
          "base_uri": "https://localhost:8080/",
          "height": 158
        },
        "id": "qvdpb1Nqf84-",
        "outputId": "5e237a71-9eb7-4f9e-92b9-2f38e31038b1"
      },
      "execution_count": 33,
      "outputs": [
        {
          "output_type": "error",
          "ename": "AttributeError",
          "evalue": "'Person' object has no attribute 'hello'",
          "traceback": [
            "\u001b[0;31m---------------------------------------------------------------------------\u001b[0m",
            "\u001b[0;31mAttributeError\u001b[0m                            Traceback (most recent call last)",
            "\u001b[0;32m<ipython-input-33-7195a31d2cc6>\u001b[0m in \u001b[0;36m<cell line: 0>\u001b[0;34m()\u001b[0m\n\u001b[1;32m      1\u001b[0m \u001b[0mmaria\u001b[0m \u001b[0;34m=\u001b[0m \u001b[0mPerson\u001b[0m\u001b[0;34m(\u001b[0m\u001b[0;34m)\u001b[0m\u001b[0;34m\u001b[0m\u001b[0;34m\u001b[0m\u001b[0m\n\u001b[0;32m----> 2\u001b[0;31m \u001b[0mmaria\u001b[0m\u001b[0;34m.\u001b[0m\u001b[0mhello\u001b[0m \u001b[0;31m# hello 속성 x\u001b[0m\u001b[0;34m\u001b[0m\u001b[0;34m\u001b[0m\u001b[0m\n\u001b[0m",
            "\u001b[0;31mAttributeError\u001b[0m: 'Person' object has no attribute 'hello'"
          ]
        }
      ]
    },
    {
      "cell_type": "code",
      "source": [
        "maria.greeting() # greeting 메서드를 호출해야\n",
        "maria.hello      # hello 속성이 생성됨"
      ],
      "metadata": {
        "colab": {
          "base_uri": "https://localhost:8080/",
          "height": 36
        },
        "id": "fByyDncOgCXI",
        "outputId": "ec8f07d6-01dd-46ec-d855-a73aa7167d50"
      },
      "execution_count": 34,
      "outputs": [
        {
          "output_type": "execute_result",
          "data": {
            "text/plain": [
              "'안녕하세요'"
            ],
            "application/vnd.google.colaboratory.intrinsic+json": {
              "type": "string"
            }
          },
          "metadata": {},
          "execution_count": 34
        }
      ]
    },
    {
      "cell_type": "code",
      "source": [
        "# 인스턴스에서 다른 속성을 제한하고 싶다면 -> __slots__ 사용\n",
        "\n",
        "# __slots__ = ['속성이름1', '속성이름2']\n",
        "\n",
        "class Person:\n",
        "    __slots__ = ['name', 'age'] # name, age 만 허용(다른 속성은 생성 제한)\n",
        "\n",
        "maria = Person()\n",
        "maria.name = '마리아' # 허용된 속성\n",
        "maria.age = 20      # 허용된 속성\n",
        "maria.address = '서울시 서초구 반포동'  # 허용되지 않은 속성은 추가할 때 에러가 발생함"
      ],
      "metadata": {
        "colab": {
          "base_uri": "https://localhost:8080/",
          "height": 176
        },
        "id": "x-sbhCv2gHTx",
        "outputId": "7c01eede-35dc-4c69-bd02-02166b7f5129"
      },
      "execution_count": 35,
      "outputs": [
        {
          "output_type": "error",
          "ename": "AttributeError",
          "evalue": "'Person' object has no attribute 'address'",
          "traceback": [
            "\u001b[0;31m---------------------------------------------------------------------------\u001b[0m",
            "\u001b[0;31mAttributeError\u001b[0m                            Traceback (most recent call last)",
            "\u001b[0;32m<ipython-input-35-99868e5be5cd>\u001b[0m in \u001b[0;36m<cell line: 0>\u001b[0;34m()\u001b[0m\n\u001b[1;32m      9\u001b[0m \u001b[0mmaria\u001b[0m\u001b[0;34m.\u001b[0m\u001b[0mname\u001b[0m \u001b[0;34m=\u001b[0m \u001b[0;34m'마리아'\u001b[0m \u001b[0;31m# 허용된 속성\u001b[0m\u001b[0;34m\u001b[0m\u001b[0;34m\u001b[0m\u001b[0m\n\u001b[1;32m     10\u001b[0m \u001b[0mmaria\u001b[0m\u001b[0;34m.\u001b[0m\u001b[0mage\u001b[0m \u001b[0;34m=\u001b[0m \u001b[0;36m20\u001b[0m      \u001b[0;31m# 허용된 속성\u001b[0m\u001b[0;34m\u001b[0m\u001b[0;34m\u001b[0m\u001b[0m\n\u001b[0;32m---> 11\u001b[0;31m \u001b[0mmaria\u001b[0m\u001b[0;34m.\u001b[0m\u001b[0maddress\u001b[0m \u001b[0;34m=\u001b[0m \u001b[0;34m'서울시 서초구 반포동'\u001b[0m  \u001b[0;31m# 허용되지 않은 속성은 추가할 때 에러가 발생함\u001b[0m\u001b[0;34m\u001b[0m\u001b[0;34m\u001b[0m\u001b[0m\n\u001b[0m",
            "\u001b[0;31mAttributeError\u001b[0m: 'Person' object has no attribute 'address'"
          ]
        }
      ]
    },
    {
      "cell_type": "markdown",
      "source": [
        "## 비공개 속성 사용하기"
      ],
      "metadata": {
        "id": "pwjB5txEhiJm"
      }
    },
    {
      "cell_type": "code",
      "source": [
        "class Person:\n",
        "    def __init__(self, name, age, address):\n",
        "        self.hello = '안녕하세요'\n",
        "        self.name = name\n",
        "        self.age = name\n",
        "        self.address = address"
      ],
      "metadata": {
        "id": "_amOlsH5hfn6"
      },
      "execution_count": 36,
      "outputs": []
    },
    {
      "cell_type": "code",
      "source": [
        "maria = Person('마리아', 20, '서울시 서초구 반포동')\n",
        "maria.name"
      ],
      "metadata": {
        "colab": {
          "base_uri": "https://localhost:8080/",
          "height": 36
        },
        "id": "PYi5bdXmifwK",
        "outputId": "0b16cba0-86c8-4cb6-ce7c-a7b22347ad49"
      },
      "execution_count": 37,
      "outputs": [
        {
          "output_type": "execute_result",
          "data": {
            "text/plain": [
              "'마리아'"
            ],
            "application/vnd.google.colaboratory.intrinsic+json": {
              "type": "string"
            }
          },
          "metadata": {},
          "execution_count": 37
        }
      ]
    },
    {
      "cell_type": "code",
      "source": [
        "# 클래스 바깥에서는 접근 x, 클래스 안에서 사용할 수 있는 비공개 속성\n",
        "# __속성과 같이 이름이 __(밑줄 두 개)로 시작해야 함..\n",
        "# 단 __속성__처럼 밑줄 두 개가 양 옆에 왔을 때는 비공개 속성 x\n",
        "\n",
        "class 클래스이름:\n",
        "    def __init__(self, 매개변수)\n",
        "       self.__속성 = 값"
      ],
      "metadata": {
        "id": "INwdxp4Uim08"
      },
      "execution_count": null,
      "outputs": []
    },
    {
      "cell_type": "code",
      "source": [
        "# person 클래스에 지갑 속성넣기 __wallet__\n",
        "\n",
        "class Person:\n",
        "    def __init__(self, 매개변수)\n",
        "      self.__속성 = 값"
      ],
      "metadata": {
        "id": "bTIh-xAbjit5"
      },
      "execution_count": null,
      "outputs": []
    },
    {
      "cell_type": "code",
      "source": [
        "class Person:\n",
        "    def __init__(self, name, age, address, wallet):\n",
        "        self.name = name\n",
        "        self.age = age\n",
        "        self.address = address\n",
        "        self.__wallet = wallet # 변수 앞에 __를 붙여서 비공개 속성으로 만듬\n",
        "\n",
        "maria = Person('마리아', 20, '서울시 서초구 반포동', 10000)\n",
        "maria.__wallet -= 10000 # 클래스 바깥에서 비공개 속성에 접근하면 에러가 발생함"
      ],
      "metadata": {
        "colab": {
          "base_uri": "https://localhost:8080/",
          "height": 176
        },
        "id": "WuslK6tAlhlm",
        "outputId": "62c392b9-fd4a-4086-9684-39bc1e613cc2"
      },
      "execution_count": 38,
      "outputs": [
        {
          "output_type": "error",
          "ename": "AttributeError",
          "evalue": "'Person' object has no attribute '__wallet'",
          "traceback": [
            "\u001b[0;31m---------------------------------------------------------------------------\u001b[0m",
            "\u001b[0;31mAttributeError\u001b[0m                            Traceback (most recent call last)",
            "\u001b[0;32m<ipython-input-38-6391cb1244e4>\u001b[0m in \u001b[0;36m<cell line: 0>\u001b[0;34m()\u001b[0m\n\u001b[1;32m      7\u001b[0m \u001b[0;34m\u001b[0m\u001b[0m\n\u001b[1;32m      8\u001b[0m \u001b[0mmaria\u001b[0m \u001b[0;34m=\u001b[0m \u001b[0mPerson\u001b[0m\u001b[0;34m(\u001b[0m\u001b[0;34m'마리아'\u001b[0m\u001b[0;34m,\u001b[0m \u001b[0;36m20\u001b[0m\u001b[0;34m,\u001b[0m \u001b[0;34m'서울시 서초구 반포동'\u001b[0m\u001b[0;34m,\u001b[0m \u001b[0;36m10000\u001b[0m\u001b[0;34m)\u001b[0m\u001b[0;34m\u001b[0m\u001b[0;34m\u001b[0m\u001b[0m\n\u001b[0;32m----> 9\u001b[0;31m \u001b[0mmaria\u001b[0m\u001b[0;34m.\u001b[0m\u001b[0m__wallet\u001b[0m \u001b[0;34m-=\u001b[0m \u001b[0;36m10000\u001b[0m \u001b[0;31m# 클래스 바깥에서 비공개 속성에 접근하면 에러가 발생함\u001b[0m\u001b[0;34m\u001b[0m\u001b[0;34m\u001b[0m\u001b[0m\n\u001b[0m",
            "\u001b[0;31mAttributeError\u001b[0m: 'Person' object has no attribute '__wallet'"
          ]
        }
      ]
    },
    {
      "cell_type": "code",
      "source": [
        "# 돈을 내는 pay 메서드를 만들어보자!!\n",
        "\n",
        "class Person:\n",
        "    def __init__(self, name, age, address, wallet):\n",
        "        self.name = name\n",
        "        self.age = age\n",
        "        self.address = address\n",
        "        self.__wallet = wallet # 변수 앞에 __를 붙여서 비공개 속성으로 만듬\n",
        "\n",
        "    def pay(self, amout):\n",
        "        self.__wallet -= amout # 비공개 속성은 클래스 안의 매서드에서만 접근 가능\n",
        "        print('이제 {0}원 남았네요.'.format(self.__wallet))\n",
        "\n",
        "maria = Person('마리아', 20, '서울시 서초구 반포동', 10000)\n",
        "maria.pay(3000)"
      ],
      "metadata": {
        "colab": {
          "base_uri": "https://localhost:8080/"
        },
        "id": "iSAv3ZYJnlMr",
        "outputId": "c30ed123-b16c-431f-d88f-fde18058149a"
      },
      "execution_count": 39,
      "outputs": [
        {
          "output_type": "stream",
          "name": "stdout",
          "text": [
            "이제 7000원 남았네요.\n"
          ]
        }
      ]
    },
    {
      "cell_type": "code",
      "source": [
        "def pay(self, amout):\n",
        "    if amount > self.__wallet:\n",
        "        print('돈이 모자라네...')\n",
        "        return\n",
        "    self.__wallet -= amount"
      ],
      "metadata": {
        "id": "DGR8RcaLpnEn"
      },
      "execution_count": 40,
      "outputs": []
    },
    {
      "cell_type": "markdown",
      "source": [
        "## 공개 속성과 비공개 속성"
      ],
      "metadata": {
        "id": "LCnT6qCzqiN3"
      }
    },
    {
      "cell_type": "code",
      "source": [
        "# 공개 속성 : 접근할 수 있는 속성\n",
        "# 비공개 속성 : 클래스 안에서만 접근할 수 있는 속성을 비공개 속성"
      ],
      "metadata": {
        "id": "iqMhksnNqb9n"
      },
      "execution_count": null,
      "outputs": []
    },
    {
      "cell_type": "markdown",
      "source": [
        "## 비공개 메서드 사용하기"
      ],
      "metadata": {
        "id": "qGoU7AyIqwTO"
      }
    },
    {
      "cell_type": "code",
      "source": [
        "# 메서드도 이름이 __로 시작하면 클래스 안에서만 호출할 수 있는 비공개 메서드가 됨\n",
        "\n",
        "class Person:\n",
        "    def __greeting(self):\n",
        "        print('Hello')\n",
        "\n",
        "    def hello(self):\n",
        "        self.__greeting() # 클래스 안에서는 비공개 메서드를 호출 할 수 있음\n",
        "\n",
        "james = Person()\n",
        "james.greeting()  # 에러 : 클래스 바깥에서는 비공개 메서드를 호출 할 수 없음"
      ],
      "metadata": {
        "id": "FNzo5RxzqybI"
      },
      "execution_count": null,
      "outputs": []
    },
    {
      "cell_type": "markdown",
      "source": [
        "## 연습문제 : 게임 캐릭터 클래스 만들기"
      ],
      "metadata": {
        "id": "0kKaCExxvQRk"
      }
    },
    {
      "cell_type": "code",
      "source": [
        "class Knight:\n",
        "    def __init__(self, health, mana, armor):\n",
        "        self.health = health\n",
        "        self.mana = mana\n",
        "        self.armor = armor\n",
        "\n",
        "    def slash(self):\n",
        "        print('베기')\n",
        "\n",
        "x = Knight(health=542.4, mana=210.3, armor=38)\n",
        "print(x.health, x.mana, x.armor)\n",
        "x.slash()"
      ],
      "metadata": {
        "colab": {
          "base_uri": "https://localhost:8080/"
        },
        "id": "ol9Zv0cgvV2l",
        "outputId": "1b452b0b-d960-4ab9-9bed-7d91e7aa48a7"
      },
      "execution_count": 41,
      "outputs": [
        {
          "output_type": "stream",
          "name": "stdout",
          "text": [
            "542.4 210.3 38\n",
            "베기\n"
          ]
        }
      ]
    },
    {
      "cell_type": "markdown",
      "source": [
        "## 심사문제: 게임 캐릭터 클래스 만들기"
      ],
      "metadata": {
        "id": "FcUoP7Rnv-EC"
      }
    },
    {
      "cell_type": "code",
      "source": [
        "class Annie:\n",
        "    def __init__(self, health, mana, ability_power):\n",
        "        self.health = health\n",
        "        self.mana = mana\n",
        "        self.ability_power = ability_power\n",
        "\n",
        "    def tibbers(self):\n",
        "        print('티버: 피해량',ability_power * 0.65 + 400)\n",
        "\n",
        "health, mana, ability_power = map(float, input().split())\n",
        "\n",
        "x = Annie(health=health, mana=mana, ability_power=ability_power)\n",
        "x.tibbers()"
      ],
      "metadata": {
        "colab": {
          "base_uri": "https://localhost:8080/"
        },
        "id": "nAB79T4Nv5r6",
        "outputId": "621b8d48-90ee-4c10-f49d-ea9a0347703c"
      },
      "execution_count": 43,
      "outputs": [
        {
          "output_type": "stream",
          "name": "stdout",
          "text": [
            "511.68 334.0 298\n",
            "티버: 피해량 593.7\n"
          ]
        }
      ]
    },
    {
      "cell_type": "code",
      "source": [],
      "metadata": {
        "id": "d6l-uIHZxLWS"
      },
      "execution_count": null,
      "outputs": []
    }
  ]
}