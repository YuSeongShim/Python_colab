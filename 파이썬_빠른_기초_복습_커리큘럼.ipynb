{
  "nbformat": 4,
  "nbformat_minor": 0,
  "metadata": {
    "colab": {
      "provenance": [],
      "authorship_tag": "ABX9TyMQUG6t+RyTWtvXsZsj1IvR",
      "include_colab_link": true
    },
    "kernelspec": {
      "name": "python3",
      "display_name": "Python 3"
    },
    "language_info": {
      "name": "python"
    }
  },
  "cells": [
    {
      "cell_type": "markdown",
      "metadata": {
        "id": "view-in-github",
        "colab_type": "text"
      },
      "source": [
        "<a href=\"https://colab.research.google.com/github/YuSeongShim/Python_colab/blob/main/%ED%8C%8C%EC%9D%B4%EC%8D%AC_%EB%B9%A0%EB%A5%B8_%EA%B8%B0%EC%B4%88_%EB%B3%B5%EC%8A%B5_%EC%BB%A4%EB%A6%AC%ED%81%98%EB%9F%BC.ipynb\" target=\"_parent\"><img src=\"https://colab.research.google.com/assets/colab-badge.svg\" alt=\"Open In Colab\"/></a>"
      ]
    },
    {
      "cell_type": "markdown",
      "source": [
        "## Day 1: 파이썬의 기본 구조 & 입출력 기초"
      ],
      "metadata": {
        "id": "1KsqaGpu3ORO"
      }
    },
    {
      "cell_type": "markdown",
      "source": [
        "### 파이썬 프로그램의 구조"
      ],
      "metadata": {
        "id": "-0cXOM-g3dwe"
      }
    },
    {
      "cell_type": "code",
      "execution_count": null,
      "metadata": {
        "colab": {
          "base_uri": "https://localhost:8080/"
        },
        "id": "I3EtTFWM20Mk",
        "outputId": "16609867-a70c-4313-f229-e298e8bfe60b"
      },
      "outputs": [
        {
          "output_type": "stream",
          "name": "stdout",
          "text": [
            "Hello, world!\n",
            "This is Python.\n"
          ]
        }
      ],
      "source": [
        "print(\"Hello, world!\")\n",
        "print(\"This is Python.\")"
      ]
    },
    {
      "cell_type": "markdown",
      "source": [
        "### 출력 함수 print()"
      ],
      "metadata": {
        "id": "dniVXUGK3if4"
      }
    },
    {
      "cell_type": "code",
      "source": [
        "## 데이터를 화면에 출력하는 함수\n",
        "## 문자열을 출력할 땐 반드시 \"따옴표\" 또는 '따옴표'로 감싸야 함\n",
        "\n",
        "print(\"안녕하세요\")\n",
        "print(3 + 5)\n",
        "print(\"3 + 5=\", 3 + 5)"
      ],
      "metadata": {
        "colab": {
          "base_uri": "https://localhost:8080/"
        },
        "id": "gDLg8K6l3h8W",
        "outputId": "687cae42-e9a3-4212-9ac4-f0a28a1db3f5"
      },
      "execution_count": null,
      "outputs": [
        {
          "output_type": "stream",
          "name": "stdout",
          "text": [
            "안녕하세요\n",
            "8\n",
            "3 + 5= 8\n"
          ]
        }
      ]
    },
    {
      "cell_type": "markdown",
      "source": [
        "### 입력 함수 input()"
      ],
      "metadata": {
        "id": "f21gImh43-kG"
      }
    },
    {
      "cell_type": "code",
      "source": [
        "## 사용자가 직접 입력할 수 있게 해주는 함수\n",
        "## 입력된 값은 항상 문자열(str) 형태로 저장됌.\n",
        "\n",
        "name = input(\"이름을 입력하세요: \")\n",
        "print(\"안녕하세요,\", name, \"님!\")"
      ],
      "metadata": {
        "colab": {
          "base_uri": "https://localhost:8080/"
        },
        "id": "62TspWrl4Ban",
        "outputId": "d79d31ba-253a-4925-ec21-d5b875b36c5b"
      },
      "execution_count": null,
      "outputs": [
        {
          "output_type": "stream",
          "name": "stdout",
          "text": [
            "이름을 입력하세요: 유성\n",
            "안녕하세요, 유성 님!\n"
          ]
        }
      ]
    },
    {
      "cell_type": "markdown",
      "source": [
        "### 변수란?"
      ],
      "metadata": {
        "id": "pXWdWh6A4f3h"
      }
    },
    {
      "cell_type": "code",
      "source": [
        "## 데이터를 저장하는 공간\n",
        "## 파이썬은 자료형을 자동으로 추론해줌\n",
        "\n",
        "age = 23\n",
        "name = \"Skyler\"\n",
        "height = 176.8\n",
        "print(name, \"의 나이는\", age, \"살이고 키는\", height, \"cm 입니다.\")"
      ],
      "metadata": {
        "colab": {
          "base_uri": "https://localhost:8080/"
        },
        "id": "996oJgSu4a8U",
        "outputId": "79180336-95d3-4097-cd04-be98d5bfab0b"
      },
      "execution_count": null,
      "outputs": [
        {
          "output_type": "stream",
          "name": "stdout",
          "text": [
            "Skyler 의 나이는 23 살이고 키는 176.8 cm 입니다.\n"
          ]
        }
      ]
    },
    {
      "cell_type": "markdown",
      "source": [
        "### 주석과 들여쓰기"
      ],
      "metadata": {
        "id": "Xd0U3eCH44oN"
      }
    },
    {
      "cell_type": "code",
      "source": [
        "## 주석 -> 프로그램 실행에 영향을 주지 않고 설명을 적는 용도\n",
        "## #으로 시작함\n",
        "\n",
        "# 이건 주석입니다.\n",
        "print(\"주석은 실행되지 않아요!\") # 이 부분도 주석\n"
      ],
      "metadata": {
        "id": "rbrOn_j446tR"
      },
      "execution_count": null,
      "outputs": []
    },
    {
      "cell_type": "code",
      "source": [
        "## 들여쓰기 -> 파이썬은 {} 대신 들여쓰기로 코드 블록을 구분\n",
        "\n",
        "if True:\n",
        "    print(\"이건 들여쓰기 된 문장\")\n",
        "print(\"이건 밖에 있는 문장\")"
      ],
      "metadata": {
        "colab": {
          "base_uri": "https://localhost:8080/"
        },
        "id": "hDsNJ3Nr6OUV",
        "outputId": "cd70b74d-16d0-4cd9-dad2-1646e7f8f33e"
      },
      "execution_count": null,
      "outputs": [
        {
          "output_type": "stream",
          "name": "stdout",
          "text": [
            "이건 들여쓰기 된 문장\n",
            "이건 밖에 있는 문장\n"
          ]
        }
      ]
    },
    {
      "cell_type": "markdown",
      "source": [
        "### 실습 미션"
      ],
      "metadata": {
        "id": "tOL0ModL60z4"
      }
    },
    {
      "cell_type": "code",
      "source": [
        "# 인사 프로그램 만들기\n",
        "\n",
        "name = input(\"이름을 입력하세요: \")\n",
        "age = input(\"나이를 입력하세요: \")\n",
        "print(\"안녕하세요\", name, \"님! 당신은\", age, \"살이시군요.\")"
      ],
      "metadata": {
        "colab": {
          "base_uri": "https://localhost:8080/"
        },
        "id": "h5swHdVW639O",
        "outputId": "01b377a8-aa8c-43f2-8335-56e646198c44"
      },
      "execution_count": null,
      "outputs": [
        {
          "output_type": "stream",
          "name": "stdout",
          "text": [
            "이름을 입력하세요: 유성\n",
            "나이를 입력하세요: 23\n",
            "안녕하세요 유성 님! 당신은 23 살이시군요.\n"
          ]
        }
      ]
    },
    {
      "cell_type": "code",
      "source": [
        "# 간단한 계산기\n",
        "\n",
        "# 두 수를 입력받아서 합을 출력하기\n",
        "a = input(\"첫 번째 숫자를 입력하세요: \")\n",
        "b = input(\"두 번째 숫자를 입력하세요: \")\n",
        "\n",
        "sum = int(a) + int(b)\n",
        "print(\"두 수의 합은: \", sum)"
      ],
      "metadata": {
        "colab": {
          "base_uri": "https://localhost:8080/"
        },
        "id": "N5tjS0Sn7j5C",
        "outputId": "ca5b27ef-d1a6-4ad0-b70e-4c4e725b40bb"
      },
      "execution_count": null,
      "outputs": [
        {
          "output_type": "stream",
          "name": "stdout",
          "text": [
            "첫 번째 숫자를 입력하세요: 3\n",
            "두 번째 숫자를 입력하세요: 5\n",
            "두 수의 합은:  8\n"
          ]
        }
      ]
    },
    {
      "cell_type": "markdown",
      "source": [
        "## Day2 - 자료형 완전 정복편"
      ],
      "metadata": {
        "id": "N2oA3xIwGnCU"
      }
    },
    {
      "cell_type": "markdown",
      "source": [
        "### 자료형(Type) 이란?"
      ],
      "metadata": {
        "id": "El_xxpreGswC"
      }
    },
    {
      "cell_type": "code",
      "source": [
        "## 데이터에는 종류(타입)이 있음\n",
        "## ex) 10은 숫자, \"10\"은 문자로 인식함\n",
        "\n",
        "# | 자료형   | 예시             | 설명                  |\n",
        "# | ----- | -------------- | ------------------- |\n",
        "# | int   | 10, -5         | 정수 (소수점 없음)         |\n",
        "# | float | 3.14, -0.5     | 실수 (소수점 있음)         |\n",
        "# | str   | \"Hello\", '123' | 문자열 (따옴표로 감싸진 문자)   |\n",
        "# | bool  | True, False    | 참(True) / 거짓(False) |\n"
      ],
      "metadata": {
        "id": "7qVWYiWyGqcE"
      },
      "execution_count": null,
      "outputs": []
    },
    {
      "cell_type": "markdown",
      "source": [
        "### 숫자형(int, float)"
      ],
      "metadata": {
        "id": "kqSUYCENHFUr"
      }
    },
    {
      "cell_type": "code",
      "source": [
        "a = 10 # int 정수\n",
        "b = 3.14 # float 실수\n",
        "\n",
        "print(a + b) # 13.14\n",
        "print(a * b) # 31.4\n",
        "print(a / 3) # 3.333...\n",
        "print(a // 3) # 3\n",
        "print(a % 3) # 1"
      ],
      "metadata": {
        "colab": {
          "base_uri": "https://localhost:8080/"
        },
        "id": "I7b2I33-HEKo",
        "outputId": "5a20862a-e484-492c-bc4d-f499c4869c43"
      },
      "execution_count": null,
      "outputs": [
        {
          "output_type": "stream",
          "name": "stdout",
          "text": [
            "13.14\n",
            "31.400000000000002\n",
            "3.3333333333333335\n",
            "3\n",
            "1\n"
          ]
        }
      ]
    },
    {
      "cell_type": "markdown",
      "source": [
        "### 문자열(str)"
      ],
      "metadata": {
        "id": "PsPdSwbTHsXt"
      }
    },
    {
      "cell_type": "code",
      "source": [
        "# 문자열은 따옴표(\"\") 또는 (\")로 감싸면 됨\n",
        "\n",
        "text = \"Python\"\n",
        "print(text)"
      ],
      "metadata": {
        "colab": {
          "base_uri": "https://localhost:8080/"
        },
        "id": "-ze0wbDXHuq6",
        "outputId": "3e738974-68db-4cf4-ef2f-3c818cf5608b"
      },
      "execution_count": null,
      "outputs": [
        {
          "output_type": "stream",
          "name": "stdout",
          "text": [
            "Python\n"
          ]
        }
      ]
    },
    {
      "cell_type": "code",
      "source": [
        "# 문자열 연결 반복\n",
        "\n",
        "a = \"Hello\"\n",
        "b = \"World\"\n",
        "\n",
        "print(a + b)\n",
        "print(a + \" \" + b)\n",
        "print(a * 3)"
      ],
      "metadata": {
        "colab": {
          "base_uri": "https://localhost:8080/"
        },
        "id": "ZRwcIP_tH6Qt",
        "outputId": "78e85f3c-1302-4872-d27c-0fedc5176cde"
      },
      "execution_count": null,
      "outputs": [
        {
          "output_type": "stream",
          "name": "stdout",
          "text": [
            "HelloWorld\n",
            "Hello World\n",
            "HelloHelloHello\n"
          ]
        }
      ]
    },
    {
      "cell_type": "markdown",
      "source": [
        "### 인덱싱(indexing)"
      ],
      "metadata": {
        "id": "TuWjrcWFIMKN"
      }
    },
    {
      "cell_type": "code",
      "source": [
        "# 문자열 안의 한 글자에 접근 o\n",
        "\n",
        "word = \"Python\"\n",
        "print(word[0]) # P\n",
        "print(word[1]) # t\n",
        "print(word[2]) # n 뒤에서부터"
      ],
      "metadata": {
        "colab": {
          "base_uri": "https://localhost:8080/"
        },
        "id": "NYh7XSxFIHb-",
        "outputId": "d9ddbd8b-9673-4a52-d522-1dd375db0deb"
      },
      "execution_count": null,
      "outputs": [
        {
          "output_type": "stream",
          "name": "stdout",
          "text": [
            "P\n",
            "y\n",
            "t\n"
          ]
        }
      ]
    },
    {
      "cell_type": "markdown",
      "source": [
        "### 슬라이싱(Slicing)"
      ],
      "metadata": {
        "id": "xK_EeHoJIfnF"
      }
    },
    {
      "cell_type": "code",
      "source": [
        "# 일부 문자를 잘라내는 방법\n",
        "\n",
        "word = \"Python\"\n",
        "print(word[0:2])\n",
        "print(word[2:5])\n",
        "print(word[:3])\n",
        "print(word[3:])"
      ],
      "metadata": {
        "colab": {
          "base_uri": "https://localhost:8080/"
        },
        "id": "5dokigRjIfHE",
        "outputId": "0017a0b5-13b3-4cc8-c2e9-241a0da306b8"
      },
      "execution_count": null,
      "outputs": [
        {
          "output_type": "stream",
          "name": "stdout",
          "text": [
            "Py\n",
            "tho\n",
            "Pyt\n",
            "hon\n"
          ]
        }
      ]
    },
    {
      "cell_type": "markdown",
      "source": [
        "### 불리언(bool)"
      ],
      "metadata": {
        "id": "7s2CgTalIvY-"
      }
    },
    {
      "cell_type": "code",
      "source": [
        "# 참(True)과 거짓(False)를 표현하는 자료형\n",
        "# 비교연산이나 조건문에서 많이 씀\n",
        "\n",
        "print(5 > 3)\n",
        "print(5 < 3)\n",
        "print(10 == 10)\n",
        "print(10 != 5)"
      ],
      "metadata": {
        "colab": {
          "base_uri": "https://localhost:8080/"
        },
        "id": "Onx0kgXLItMk",
        "outputId": "452fbee4-4ee0-4ea2-bb70-ea2201ab51a2"
      },
      "execution_count": null,
      "outputs": [
        {
          "output_type": "stream",
          "name": "stdout",
          "text": [
            "True\n",
            "False\n",
            "True\n",
            "True\n"
          ]
        }
      ]
    },
    {
      "cell_type": "markdown",
      "source": [
        "### type() 함수"
      ],
      "metadata": {
        "id": "zI5PKNvRI_64"
      }
    },
    {
      "cell_type": "code",
      "source": [
        "# 데이터가 어떤 타입인지 확인할 수 있음\n",
        "\n",
        "x = 10\n",
        "y = \"10\"\n",
        "\n",
        "print(type(x))\n",
        "print(type(y))"
      ],
      "metadata": {
        "colab": {
          "base_uri": "https://localhost:8080/"
        },
        "id": "NwXjrsMXI-4Q",
        "outputId": "757910cf-bc34-4b27-b4c0-16a45c652162"
      },
      "execution_count": null,
      "outputs": [
        {
          "output_type": "stream",
          "name": "stdout",
          "text": [
            "<class 'int'>\n",
            "<class 'str'>\n"
          ]
        }
      ]
    },
    {
      "cell_type": "markdown",
      "source": [
        "### 실습 미션"
      ],
      "metadata": {
        "id": "pJfcW6P9JLSK"
      }
    },
    {
      "cell_type": "code",
      "source": [
        "## 실습1 : 나이 계산기\n",
        "\n",
        "birth = input(\"태어난 년도를 입력하세요: \")\n",
        "age = 2025 - int(birth) + 1\n",
        "print(\"당신의 나이는\", age, \"살입니다.\")"
      ],
      "metadata": {
        "colab": {
          "base_uri": "https://localhost:8080/"
        },
        "id": "gdozdE67JKJA",
        "outputId": "d85ea76b-3539-4659-8ba5-e3fc11d484d4"
      },
      "execution_count": null,
      "outputs": [
        {
          "output_type": "stream",
          "name": "stdout",
          "text": [
            "태어난 년도를 입력하세요: 2003\n",
            "당신의 나이는 23 살입니다.\n"
          ]
        }
      ]
    },
    {
      "cell_type": "code",
      "source": [
        "## 실습 2: 문자열 조작\n",
        "\n",
        "word = \"Accessibility\"\n",
        "print(\"1번쨰 글자: \", word[0])\n",
        "print(\"마지막 글자:\", word[-1])\n",
        "print(\"앞 4글자: \", word[:4])\n",
        "print(\"뒤 4글자: \", word[-4:])"
      ],
      "metadata": {
        "colab": {
          "base_uri": "https://localhost:8080/"
        },
        "id": "BONRFKs9Jcs_",
        "outputId": "9001acbb-3d4a-4083-a2ea-bd4bd9e2c46f"
      },
      "execution_count": null,
      "outputs": [
        {
          "output_type": "stream",
          "name": "stdout",
          "text": [
            "1번쨰 글자:  A\n",
            "마지막 글자: y\n",
            "앞 4글자:  Acce\n",
            "뒤 4글자:  lity\n"
          ]
        }
      ]
    },
    {
      "cell_type": "code",
      "source": [
        "## 실습 3: 불리언 비교 연습\n",
        "\n",
        "num = int(input(\"숫자를 입력하세요: \"))\n",
        "print(num > 10)\n",
        "print(num == 10)\n",
        "print(num < 10)"
      ],
      "metadata": {
        "colab": {
          "base_uri": "https://localhost:8080/"
        },
        "id": "kcFPnF9VJ6BW",
        "outputId": "3cd35d12-ee44-4781-b5d6-81d9eac9312b"
      },
      "execution_count": null,
      "outputs": [
        {
          "output_type": "stream",
          "name": "stdout",
          "text": [
            "숫자를 입력하세요: 10\n",
            "False\n",
            "True\n",
            "False\n"
          ]
        }
      ]
    },
    {
      "cell_type": "markdown",
      "source": [
        "###복습 과제"
      ],
      "metadata": {
        "id": "v4f2JmIkK1DH"
      }
    },
    {
      "cell_type": "code",
      "source": [
        "# 자기 이름 문자열을 변수에 저장하고, 이름의 첫 글자와 마지막 글자 출력\n",
        "\n",
        "name = input(\"이름을 입력해주세요: \")\n",
        "\n",
        "print(name[0])\n",
        "print(name[-1])"
      ],
      "metadata": {
        "colab": {
          "base_uri": "https://localhost:8080/"
        },
        "id": "uA0W8KBOJ2sA",
        "outputId": "5ce1aa36-4d60-4220-c37f-6a9d69a2a809"
      },
      "execution_count": null,
      "outputs": [
        {
          "output_type": "stream",
          "name": "stdout",
          "text": [
            "이름을 입력해주세요: yuseong\n",
            "y\n",
            "g\n"
          ]
        }
      ]
    },
    {
      "cell_type": "code",
      "source": [
        "# input()으로 받은 두 숫자를 더하는 코드 작성\n",
        "\n",
        "num1 = int(input())\n",
        "num2 = int(input())\n",
        "\n",
        "print(num1 + num2)\n"
      ],
      "metadata": {
        "colab": {
          "base_uri": "https://localhost:8080/"
        },
        "id": "m7F5712aK7U7",
        "outputId": "d68a1fbe-fc50-465f-9b43-6771444c85fe"
      },
      "execution_count": null,
      "outputs": [
        {
          "output_type": "stream",
          "name": "stdout",
          "text": [
            "1\n",
            "2\n",
            "3\n"
          ]
        }
      ]
    },
    {
      "cell_type": "code",
      "source": [
        "# 불리언 비교 3가지 만들어서 결과 예측하기\n",
        "\n",
        "print(3 > 4)\n",
        "print(5 < 2)\n",
        "print(10 == 10)"
      ],
      "metadata": {
        "colab": {
          "base_uri": "https://localhost:8080/"
        },
        "id": "rJ-iHQh8K938",
        "outputId": "7481d72a-eedf-4b8b-f71c-7d50c30cf0ff"
      },
      "execution_count": null,
      "outputs": [
        {
          "output_type": "stream",
          "name": "stdout",
          "text": [
            "False\n",
            "False\n",
            "True\n"
          ]
        }
      ]
    },
    {
      "cell_type": "markdown",
      "source": [
        "# Day 3: 리스트 · 튜플 · 세트 · 딕셔너리"
      ],
      "metadata": {
        "id": "4s-VLUVwNjVg"
      }
    },
    {
      "cell_type": "markdown",
      "source": [
        "## 리스트"
      ],
      "metadata": {
        "id": "a84y0IRkPQ0x"
      }
    },
    {
      "cell_type": "code",
      "source": [
        "# 여러 값을 순서대로 저장할 수 있는 가변형 시퀀스\n",
        "\n",
        "fruits = [\"apple\", \"banana\", \"cherry\"]\n",
        "\n",
        "print(fruits)\n",
        "print(fruits[0]) # apple\n",
        "print(fruits[-1]) # cherry"
      ],
      "metadata": {
        "id": "uDElrPFtMRkY",
        "colab": {
          "base_uri": "https://localhost:8080/"
        },
        "outputId": "82017274-3083-4a06-b85e-366a817be8a1"
      },
      "execution_count": 1,
      "outputs": [
        {
          "output_type": "stream",
          "name": "stdout",
          "text": [
            "['apple', 'banana', 'cherry']\n",
            "apple\n",
            "cherry\n"
          ]
        }
      ]
    },
    {
      "cell_type": "code",
      "source": [
        "# 수정/추가/삭제\n",
        "\n",
        "fruits[1] = \"orange\" # 수정\n",
        "fruits.append(\"grape\") # 추가\n",
        "fruits.remove(\"apple\") # 삭제\n",
        "print(fruits)"
      ],
      "metadata": {
        "colab": {
          "base_uri": "https://localhost:8080/",
          "height": 193
        },
        "id": "B8KCFFm4PqnY",
        "outputId": "373c94f1-f350-4f19-c8c7-5b97c8fd3dc9"
      },
      "execution_count": 4,
      "outputs": [
        {
          "output_type": "error",
          "ename": "ValueError",
          "evalue": "list.remove(x): x not in list",
          "traceback": [
            "\u001b[0;31m---------------------------------------------------------------------------\u001b[0m",
            "\u001b[0;31mValueError\u001b[0m                                Traceback (most recent call last)",
            "\u001b[0;32m/tmp/ipython-input-2226261661.py\u001b[0m in \u001b[0;36m<cell line: 0>\u001b[0;34m()\u001b[0m\n\u001b[1;32m      3\u001b[0m \u001b[0mfruits\u001b[0m\u001b[0;34m[\u001b[0m\u001b[0;36m1\u001b[0m\u001b[0;34m]\u001b[0m \u001b[0;34m=\u001b[0m \u001b[0;34m\"orange\"\u001b[0m \u001b[0;31m# 수정\u001b[0m\u001b[0;34m\u001b[0m\u001b[0;34m\u001b[0m\u001b[0m\n\u001b[1;32m      4\u001b[0m \u001b[0mfruits\u001b[0m\u001b[0;34m.\u001b[0m\u001b[0mappend\u001b[0m\u001b[0;34m(\u001b[0m\u001b[0;34m\"grape\"\u001b[0m\u001b[0;34m)\u001b[0m \u001b[0;31m# 추가\u001b[0m\u001b[0;34m\u001b[0m\u001b[0;34m\u001b[0m\u001b[0m\n\u001b[0;32m----> 5\u001b[0;31m \u001b[0mfruits\u001b[0m\u001b[0;34m.\u001b[0m\u001b[0mremove\u001b[0m\u001b[0;34m(\u001b[0m\u001b[0;34m\"apple\"\u001b[0m\u001b[0;34m)\u001b[0m \u001b[0;31m# 삭제\u001b[0m\u001b[0;34m\u001b[0m\u001b[0;34m\u001b[0m\u001b[0m\n\u001b[0m\u001b[1;32m      6\u001b[0m \u001b[0mprint\u001b[0m\u001b[0;34m(\u001b[0m\u001b[0mfruits\u001b[0m\u001b[0;34m)\u001b[0m\u001b[0;34m\u001b[0m\u001b[0;34m\u001b[0m\u001b[0m\n",
            "\u001b[0;31mValueError\u001b[0m: list.remove(x): x not in list"
          ]
        }
      ]
    },
    {
      "cell_type": "markdown",
      "source": [
        "## 튜플(Tuple)"
      ],
      "metadata": {
        "id": "HzuPeD4VQUNp"
      }
    },
    {
      "cell_type": "code",
      "source": [
        "# 리스트처럼 여러 값을 저장하지만 수정이 불가능\n",
        "# - 소괄호 `()` 사용\n",
        "# - 읽기 전용, 데이터 변경 불가\n",
        "# - 빠르고 안전한 데이터 저장용으로 자주 사용됨\n",
        "\n",
        "t = (1, 2, 3)\n",
        "print(t[0]) # 1\n",
        "# t[0] = 10"
      ],
      "metadata": {
        "colab": {
          "base_uri": "https://localhost:8080/"
        },
        "id": "glxSLfljP57s",
        "outputId": "ee278791-6305-4115-9e9e-08e49138fc15"
      },
      "execution_count": 5,
      "outputs": [
        {
          "output_type": "stream",
          "name": "stdout",
          "text": [
            "1\n"
          ]
        }
      ]
    },
    {
      "cell_type": "code",
      "source": [
        "# ex) 좌표가 고정된 설정값을 저장할 때\n",
        "\n",
        "pos = (37.5, 127.0)"
      ],
      "metadata": {
        "id": "NpjxxCXgQgZ6"
      },
      "execution_count": 7,
      "outputs": []
    },
    {
      "cell_type": "markdown",
      "source": [
        "## 세트 (Set)"
      ],
      "metadata": {
        "id": "w9qgSQC5QxD7"
      }
    },
    {
      "cell_type": "code",
      "source": [
        "# 중복이 x, 순서가 없는 집합형 자료형\n",
        "\n",
        "nums = {1, 2, 3, 3, 2, 1}\n",
        "print(nums) # {1, 2, 3} (중복 제거됨)"
      ],
      "metadata": {
        "colab": {
          "base_uri": "https://localhost:8080/"
        },
        "id": "nD-Jig2vQvIX",
        "outputId": "5b5f9bfd-8b16-4d51-fdce-e6512b8fc5ea"
      },
      "execution_count": 8,
      "outputs": [
        {
          "output_type": "stream",
          "name": "stdout",
          "text": [
            "{1, 2, 3}\n"
          ]
        }
      ]
    },
    {
      "cell_type": "code",
      "source": [
        "# 집합 연산\n",
        "# - 중복 제거용으로 자주 사용\n",
        "# - `list()`로 변환 가능\n",
        "\n",
        "a = {1, 2, 3}\n",
        "b = {3, 4, 5}\n",
        "\n",
        "print(a | b) # 합집합 {1, 2, 3, 4, 5}\n",
        "print(a & b) # 교집합 {3}\n",
        "print(a - b) # 차집합 {1, 2}"
      ],
      "metadata": {
        "colab": {
          "base_uri": "https://localhost:8080/"
        },
        "id": "l7AxKBIlQ_l2",
        "outputId": "b0cde631-884e-4a6b-f6bd-c5682e64c7a3"
      },
      "execution_count": 9,
      "outputs": [
        {
          "output_type": "stream",
          "name": "stdout",
          "text": [
            "{1, 2, 3, 4, 5}\n",
            "{3}\n",
            "{1, 2}\n"
          ]
        }
      ]
    },
    {
      "cell_type": "markdown",
      "source": [
        "## 딕셔너리 (Dictionary)"
      ],
      "metadata": {
        "id": "WfqD_S_IRdsS"
      }
    },
    {
      "cell_type": "code",
      "source": [
        "person = {\"name\": \"yuseong\", \"age\":23, \"city\": \"Gwangyang\"}\n",
        "\n",
        "print(person[\"name\"]) # yuseong\n",
        "print(person[\"age\"]) # 23"
      ],
      "metadata": {
        "colab": {
          "base_uri": "https://localhost:8080/"
        },
        "id": "e_Jw8funRGqk",
        "outputId": "942fb46f-0462-4eaa-c8d5-bbe8b72be354"
      },
      "execution_count": 10,
      "outputs": [
        {
          "output_type": "stream",
          "name": "stdout",
          "text": [
            "yuseong\n",
            "23\n"
          ]
        }
      ]
    },
    {
      "cell_type": "code",
      "source": [
        "# 추가/수정/삭제\n",
        "\n",
        "person[\"job\"] = \"Engineer\" # 추가\n",
        "person[\"age\"] = 24 # 수정\n",
        "del person[\"city\"] # 삭제"
      ],
      "metadata": {
        "id": "6SoHVwMHRv58"
      },
      "execution_count": 11,
      "outputs": []
    },
    {
      "cell_type": "code",
      "source": [
        "# 딕셔너리 메서드\n",
        "# keys() -> 모든 key 반환\n",
        "# values() -> 모든 value 반환\n",
        "# items -> (key, value) 쌍 반환\n",
        "\n",
        "for key, value in person.items():\n",
        "    print(key, \":\", value)\n"
      ],
      "metadata": {
        "colab": {
          "base_uri": "https://localhost:8080/"
        },
        "id": "DNiXHL4WSQR4",
        "outputId": "d4712a00-e539-4228-af17-059f108d1bea"
      },
      "execution_count": 12,
      "outputs": [
        {
          "output_type": "stream",
          "name": "stdout",
          "text": [
            "name : yuseong\n",
            "age : 24\n",
            "job : Engineer\n"
          ]
        }
      ]
    },
    {
      "cell_type": "markdown",
      "source": [
        "## 실습 미션"
      ],
      "metadata": {
        "id": "rK04kKMmSmHe"
      }
    },
    {
      "cell_type": "code",
      "source": [
        "# 실습1 : 리스트 관리 프로그램\n",
        "\n",
        "fruits = [\"apple\", \"banana\", \"cherry\"]\n",
        "print(\"현재 리스트: \", fruits)\n",
        "\n",
        "new = input(\"추가할 과일 이름: \")\n",
        "fruits.append(new)\n",
        "print(\"추가 후: \", fruits)"
      ],
      "metadata": {
        "colab": {
          "base_uri": "https://localhost:8080/"
        },
        "id": "hV50yabqSnWd",
        "outputId": "60de16d2-c5b8-4b80-d083-02aba451b13b"
      },
      "execution_count": 13,
      "outputs": [
        {
          "output_type": "stream",
          "name": "stdout",
          "text": [
            "현재 리스트:  ['apple', 'banana', 'cherry']\n",
            "추가할 과일 이름: mango\n",
            "추가 후:  ['apple', 'banana', 'cherry', 'mango']\n"
          ]
        }
      ]
    },
    {
      "cell_type": "code",
      "source": [
        "# 실습 2 : 세트 중복 제거\n",
        "\n",
        "nums = [1, 2, 2, 3, 4, 4, 5]\n",
        "unique_nums = set(nums)\n",
        "print(\"중복 제거 결과: \", unique_nums)"
      ],
      "metadata": {
        "colab": {
          "base_uri": "https://localhost:8080/"
        },
        "id": "aJk6Al0RS75Q",
        "outputId": "3d17c87b-f345-4481-c98d-110bfec5b977"
      },
      "execution_count": 14,
      "outputs": [
        {
          "output_type": "stream",
          "name": "stdout",
          "text": [
            "중복 제거 결과:  {1, 2, 3, 4, 5}\n"
          ]
        }
      ]
    },
    {
      "cell_type": "code",
      "source": [
        "# 실습 3 : 딕셔너리 정보 출력\n",
        "\n",
        "person = {\"name\": \"Sirius\", \"age\": 23, \"city\": \"Busan\"}\n",
        "print(\"이름: \", person[\"name\"])\n",
        "print(\"나이: \", person[\"age\"])\n",
        "print(\"사는 곳: \", person[\"city\"])"
      ],
      "metadata": {
        "colab": {
          "base_uri": "https://localhost:8080/"
        },
        "id": "zO2f_m6cTGwR",
        "outputId": "3fbea75f-19b9-4d1c-d05d-d789050b3c7c"
      },
      "execution_count": 15,
      "outputs": [
        {
          "output_type": "stream",
          "name": "stdout",
          "text": [
            "이름:  Sirius\n",
            "나이:  23\n",
            "사는 곳:  Busan\n"
          ]
        }
      ]
    },
    {
      "cell_type": "code",
      "source": [],
      "metadata": {
        "id": "_iKriYrYT63G"
      },
      "execution_count": null,
      "outputs": []
    }
  ]
}