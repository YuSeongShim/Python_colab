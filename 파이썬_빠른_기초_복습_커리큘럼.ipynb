{
  "nbformat": 4,
  "nbformat_minor": 0,
  "metadata": {
    "colab": {
      "provenance": [],
      "authorship_tag": "ABX9TyOD8Y+b+IxVFGOiJv9FcOaL",
      "include_colab_link": true
    },
    "kernelspec": {
      "name": "python3",
      "display_name": "Python 3"
    },
    "language_info": {
      "name": "python"
    }
  },
  "cells": [
    {
      "cell_type": "markdown",
      "metadata": {
        "id": "view-in-github",
        "colab_type": "text"
      },
      "source": [
        "<a href=\"https://colab.research.google.com/github/YuSeongShim/Python_colab/blob/main/%ED%8C%8C%EC%9D%B4%EC%8D%AC_%EB%B9%A0%EB%A5%B8_%EA%B8%B0%EC%B4%88_%EB%B3%B5%EC%8A%B5_%EC%BB%A4%EB%A6%AC%ED%81%98%EB%9F%BC.ipynb\" target=\"_parent\"><img src=\"https://colab.research.google.com/assets/colab-badge.svg\" alt=\"Open In Colab\"/></a>"
      ]
    },
    {
      "cell_type": "markdown",
      "source": [
        "# Day 1 : 파이썬 첫걸음 & 입출력 시작"
      ],
      "metadata": {
        "id": "Y4dJeJqPxduT"
      }
    },
    {
      "cell_type": "markdown",
      "source": [
        "## print() 출력하기"
      ],
      "metadata": {
        "id": "jlonbCebxnVH"
      }
    },
    {
      "cell_type": "code",
      "execution_count": 1,
      "metadata": {
        "colab": {
          "base_uri": "https://localhost:8080/"
        },
        "id": "DHmtSTBJSVhz",
        "outputId": "d7a2c7f1-bd2e-45e4-f6f3-d9144ae9f1e8"
      },
      "outputs": [
        {
          "output_type": "stream",
          "name": "stdout",
          "text": [
            "Hello, Sirius!\n",
            "파이썬을 다시 시작한다!\n"
          ]
        }
      ],
      "source": [
        "# print()는 화면에 결과를 보여주는 명령어\n",
        "# \"\"나 '' 안에 넣으면 문자열(string)으로 인식돼.\n",
        "\n",
        "print(\"Hello, Sirius!\")\n",
        "print(\"파이썬을 다시 시작한다!\")"
      ]
    },
    {
      "cell_type": "code",
      "source": [
        "# 연습문제 1\n",
        "\n",
        "print(\"내 이름은 유성이고, Inclusive UX Researcher가 되는 게 목표입니다.\")"
      ],
      "metadata": {
        "colab": {
          "base_uri": "https://localhost:8080/"
        },
        "id": "dRt0OZ8Lx0fY",
        "outputId": "fd223f8e-11d4-4235-d25b-4954f75b472c"
      },
      "execution_count": 2,
      "outputs": [
        {
          "output_type": "stream",
          "name": "stdout",
          "text": [
            "내 이름은 유성이고, Inclusive UX Researcher가 되는 게 목표입니다.\n"
          ]
        }
      ]
    },
    {
      "cell_type": "markdown",
      "source": [
        "# input() 입력받기"
      ],
      "metadata": {
        "id": "cXdvNRFUyGCu"
      }
    },
    {
      "cell_type": "code",
      "source": [
        "# input()은 사용자의 입력을 받아 문자열로 저장함\n",
        "\n",
        "name = input(\"당신의 이름은 무엇인가요? \")\n",
        "print(\"안녕하세요, \", name, \"님!\")"
      ],
      "metadata": {
        "colab": {
          "base_uri": "https://localhost:8080/"
        },
        "id": "LpmRgbbIyFPH",
        "outputId": "f879058a-e0f0-4bf1-824f-c6e46c127b3e"
      },
      "execution_count": 3,
      "outputs": [
        {
          "output_type": "stream",
          "name": "stdout",
          "text": [
            "당신의 이름은 무엇인가요? 유성\n",
            "안녕하세요,  유성 님!\n"
          ]
        }
      ]
    },
    {
      "cell_type": "code",
      "source": [
        "# 연습문제 2\n",
        "\n",
        "age = int(input(\"나이를 입력하세요: \"))\n",
        "print(\"유성님은 \", age, \"살이군요!\")"
      ],
      "metadata": {
        "colab": {
          "base_uri": "https://localhost:8080/"
        },
        "id": "t1h3KJE0yX65",
        "outputId": "aa268571-3a0d-4c73-c1f2-6f65960b2a34"
      },
      "execution_count": 4,
      "outputs": [
        {
          "output_type": "stream",
          "name": "stdout",
          "text": [
            "나이를 입력하세요: 23\n",
            "유성님은  23 살이군요!\n"
          ]
        }
      ]
    },
    {
      "cell_type": "markdown",
      "source": [
        "# 문자열 결합과 포맷팅"
      ],
      "metadata": {
        "id": "dUnX2njSyrtV"
      }
    },
    {
      "cell_type": "code",
      "source": [
        "# 문자열끼리 더할 수도 있음\n",
        "\n",
        "name = \"Sirius\"\n",
        "print(\"안녕, \" + name + \"!\")"
      ],
      "metadata": {
        "colab": {
          "base_uri": "https://localhost:8080/"
        },
        "id": "dIHxVrPyyogY",
        "outputId": "872ba6d0-34d6-40cd-af4e-57408cda3eef"
      },
      "execution_count": 5,
      "outputs": [
        {
          "output_type": "stream",
          "name": "stdout",
          "text": [
            "안녕, Sirius!\n"
          ]
        }
      ]
    },
    {
      "cell_type": "code",
      "source": [
        "# 혹은 f-string 쓰면 훨씬 깔끔함\n",
        "\n",
        "print(f\"안녕, {name}!\")"
      ],
      "metadata": {
        "colab": {
          "base_uri": "https://localhost:8080/"
        },
        "id": "k3Js50ity4fQ",
        "outputId": "8b57bbfc-3e05-4157-d239-ffe5e9e46f28"
      },
      "execution_count": 6,
      "outputs": [
        {
          "output_type": "stream",
          "name": "stdout",
          "text": [
            "안녕, Sirius!\n"
          ]
        }
      ]
    },
    {
      "cell_type": "code",
      "source": [
        "# 연습문제 3\n",
        "\n",
        "name = input(\"이름을 입력해 주세요: \")\n",
        "job = input(\"당신의 직업을 입력해 주세요: \")\n",
        "\n",
        "print(name, \"님의 직업은\", job, \"입니다.\")"
      ],
      "metadata": {
        "colab": {
          "base_uri": "https://localhost:8080/"
        },
        "id": "xBxnvDC-y-83",
        "outputId": "cd4827e4-320b-4c7a-8a1b-26e65abb0498"
      },
      "execution_count": 8,
      "outputs": [
        {
          "output_type": "stream",
          "name": "stdout",
          "text": [
            "이름을 입력해 주세요: 유성\n",
            "당신의 직업을 입력해 주세요: Researcher\n",
            "유성 님의 직업은 Researcher 입니다.\n"
          ]
        }
      ]
    },
    {
      "cell_type": "markdown",
      "source": [
        "# 미니 프로젝트 - 자기소개"
      ],
      "metadata": {
        "id": "_lotCnMjzZZd"
      }
    },
    {
      "cell_type": "code",
      "source": [
        "# 아래 형식처럼 나올 수 있게 작성해보자.\n",
        "\n",
        "name = input(\"이름을 입력하세요: \")\n",
        "age = int(input(\"나이를 입력하세요: \"))\n",
        "job = input(\"직업을 입력하세요: \")\n",
        "\n",
        "print(\"----------------------\")\n",
        "print(\"안녕하세요\", name, \"님!\")\n",
        "print(age, \"살\", job, \"로 활동 중이시군요.\")\n",
        "print(\"파이썬 공부 화이팅 입니다!\")"
      ],
      "metadata": {
        "colab": {
          "base_uri": "https://localhost:8080/"
        },
        "id": "vusOcUd6zSSi",
        "outputId": "0c2cffaf-afb4-445c-b969-be8d70491ad3"
      },
      "execution_count": 11,
      "outputs": [
        {
          "output_type": "stream",
          "name": "stdout",
          "text": [
            "이름을 입력하세요: 유성\n",
            "나이를 입력하세요: 23\n",
            "직업을 입력하세요: UX Researcher\n",
            "----------------------\n",
            "안녕하세요 유성 님!\n",
            "23 살 UX Researcher 로 활동 중이시군요.\n",
            "파이썬 공부 화이팅 입니다!\n"
          ]
        }
      ]
    },
    {
      "cell_type": "code",
      "source": [],
      "metadata": {
        "id": "CP54URwe0BT5"
      },
      "execution_count": null,
      "outputs": []
    }
  ]
}