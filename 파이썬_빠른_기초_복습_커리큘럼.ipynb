{
  "nbformat": 4,
  "nbformat_minor": 0,
  "metadata": {
    "colab": {
      "provenance": [],
      "authorship_tag": "ABX9TyNa84QVwiQ+PdIaocpfRLJn",
      "include_colab_link": true
    },
    "kernelspec": {
      "name": "python3",
      "display_name": "Python 3"
    },
    "language_info": {
      "name": "python"
    }
  },
  "cells": [
    {
      "cell_type": "markdown",
      "metadata": {
        "id": "view-in-github",
        "colab_type": "text"
      },
      "source": [
        "<a href=\"https://colab.research.google.com/github/YuSeongShim/Python_colab/blob/main/%ED%8C%8C%EC%9D%B4%EC%8D%AC_%EB%B9%A0%EB%A5%B8_%EA%B8%B0%EC%B4%88_%EB%B3%B5%EC%8A%B5_%EC%BB%A4%EB%A6%AC%ED%81%98%EB%9F%BC.ipynb\" target=\"_parent\"><img src=\"https://colab.research.google.com/assets/colab-badge.svg\" alt=\"Open In Colab\"/></a>"
      ]
    },
    {
      "cell_type": "markdown",
      "source": [
        "## Day 1: 파이썬의 기본 구조 & 입출력 기초"
      ],
      "metadata": {
        "id": "1KsqaGpu3ORO"
      }
    },
    {
      "cell_type": "markdown",
      "source": [
        "### 파이썬 프로그램의 구조"
      ],
      "metadata": {
        "id": "-0cXOM-g3dwe"
      }
    },
    {
      "cell_type": "code",
      "execution_count": 1,
      "metadata": {
        "colab": {
          "base_uri": "https://localhost:8080/"
        },
        "id": "I3EtTFWM20Mk",
        "outputId": "16609867-a70c-4313-f229-e298e8bfe60b"
      },
      "outputs": [
        {
          "output_type": "stream",
          "name": "stdout",
          "text": [
            "Hello, world!\n",
            "This is Python.\n"
          ]
        }
      ],
      "source": [
        "print(\"Hello, world!\")\n",
        "print(\"This is Python.\")"
      ]
    },
    {
      "cell_type": "markdown",
      "source": [
        "### 출력 함수 print()"
      ],
      "metadata": {
        "id": "dniVXUGK3if4"
      }
    },
    {
      "cell_type": "code",
      "source": [
        "## 데이터를 화면에 출력하는 함수\n",
        "## 문자열을 출력할 땐 반드시 \"따옴표\" 또는 '따옴표'로 감싸야 함\n",
        "\n",
        "print(\"안녕하세요\")\n",
        "print(3 + 5)\n",
        "print(\"3 + 5=\", 3 + 5)"
      ],
      "metadata": {
        "colab": {
          "base_uri": "https://localhost:8080/"
        },
        "id": "gDLg8K6l3h8W",
        "outputId": "687cae42-e9a3-4212-9ac4-f0a28a1db3f5"
      },
      "execution_count": 2,
      "outputs": [
        {
          "output_type": "stream",
          "name": "stdout",
          "text": [
            "안녕하세요\n",
            "8\n",
            "3 + 5= 8\n"
          ]
        }
      ]
    },
    {
      "cell_type": "markdown",
      "source": [
        "### 입력 함수 input()"
      ],
      "metadata": {
        "id": "f21gImh43-kG"
      }
    },
    {
      "cell_type": "code",
      "source": [
        "## 사용자가 직접 입력할 수 있게 해주는 함수\n",
        "## 입력된 값은 항상 문자열(str) 형태로 저장됌.\n",
        "\n",
        "name = input(\"이름을 입력하세요: \")\n",
        "print(\"안녕하세요,\", name, \"님!\")"
      ],
      "metadata": {
        "colab": {
          "base_uri": "https://localhost:8080/"
        },
        "id": "62TspWrl4Ban",
        "outputId": "d79d31ba-253a-4925-ec21-d5b875b36c5b"
      },
      "execution_count": 5,
      "outputs": [
        {
          "output_type": "stream",
          "name": "stdout",
          "text": [
            "이름을 입력하세요: 유성\n",
            "안녕하세요, 유성 님!\n"
          ]
        }
      ]
    },
    {
      "cell_type": "markdown",
      "source": [
        "### 변수란?"
      ],
      "metadata": {
        "id": "pXWdWh6A4f3h"
      }
    },
    {
      "cell_type": "code",
      "source": [
        "## 데이터를 저장하는 공간\n",
        "## 파이썬은 자료형을 자동으로 추론해줌\n",
        "\n",
        "age = 23\n",
        "name = \"Skyler\"\n",
        "height = 176.8\n",
        "print(name, \"의 나이는\", age, \"살이고 키는\", height, \"cm 입니다.\")"
      ],
      "metadata": {
        "colab": {
          "base_uri": "https://localhost:8080/"
        },
        "id": "996oJgSu4a8U",
        "outputId": "79180336-95d3-4097-cd04-be98d5bfab0b"
      },
      "execution_count": 6,
      "outputs": [
        {
          "output_type": "stream",
          "name": "stdout",
          "text": [
            "Skyler 의 나이는 23 살이고 키는 176.8 cm 입니다.\n"
          ]
        }
      ]
    },
    {
      "cell_type": "markdown",
      "source": [
        "### 주석과 들여쓰기"
      ],
      "metadata": {
        "id": "Xd0U3eCH44oN"
      }
    },
    {
      "cell_type": "code",
      "source": [
        "## 주석 -> 프로그램 실행에 영향을 주지 않고 설명을 적는 용도\n",
        "## #으로 시작함\n",
        "\n",
        "# 이건 주석입니다.\n",
        "print(\"주석은 실행되지 않아요!\") # 이 부분도 주석\n"
      ],
      "metadata": {
        "id": "rbrOn_j446tR"
      },
      "execution_count": null,
      "outputs": []
    },
    {
      "cell_type": "code",
      "source": [
        "## 들여쓰기 -> 파이썬은 {} 대신 들여쓰기로 코드 블록을 구분\n",
        "\n",
        "if True:\n",
        "    print(\"이건 들여쓰기 된 문장\")\n",
        "print(\"이건 밖에 있는 문장\")"
      ],
      "metadata": {
        "colab": {
          "base_uri": "https://localhost:8080/"
        },
        "id": "hDsNJ3Nr6OUV",
        "outputId": "cd70b74d-16d0-4cd9-dad2-1646e7f8f33e"
      },
      "execution_count": 7,
      "outputs": [
        {
          "output_type": "stream",
          "name": "stdout",
          "text": [
            "이건 들여쓰기 된 문장\n",
            "이건 밖에 있는 문장\n"
          ]
        }
      ]
    },
    {
      "cell_type": "markdown",
      "source": [
        "### 실습 미션"
      ],
      "metadata": {
        "id": "tOL0ModL60z4"
      }
    },
    {
      "cell_type": "code",
      "source": [
        "# 인사 프로그램 만들기\n",
        "\n",
        "name = input(\"이름을 입력하세요: \")\n",
        "age = input(\"나이를 입력하세요: \")\n",
        "print(\"안녕하세요\", name, \"님! 당신은\", age, \"살이시군요.\")"
      ],
      "metadata": {
        "colab": {
          "base_uri": "https://localhost:8080/"
        },
        "id": "h5swHdVW639O",
        "outputId": "01b377a8-aa8c-43f2-8335-56e646198c44"
      },
      "execution_count": 9,
      "outputs": [
        {
          "output_type": "stream",
          "name": "stdout",
          "text": [
            "이름을 입력하세요: 유성\n",
            "나이를 입력하세요: 23\n",
            "안녕하세요 유성 님! 당신은 23 살이시군요.\n"
          ]
        }
      ]
    },
    {
      "cell_type": "code",
      "source": [
        "# 간단한 계산기\n",
        "\n",
        "# 두 수를 입력받아서 합을 출력하기\n",
        "a = input(\"첫 번째 숫자를 입력하세요: \")\n",
        "b = input(\"두 번째 숫자를 입력하세요: \")\n",
        "\n",
        "sum = int(a) + int(b)\n",
        "print(\"두 수의 합은: \", sum)"
      ],
      "metadata": {
        "colab": {
          "base_uri": "https://localhost:8080/"
        },
        "id": "N5tjS0Sn7j5C",
        "outputId": "ca5b27ef-d1a6-4ad0-b70e-4c4e725b40bb"
      },
      "execution_count": 10,
      "outputs": [
        {
          "output_type": "stream",
          "name": "stdout",
          "text": [
            "첫 번째 숫자를 입력하세요: 3\n",
            "두 번째 숫자를 입력하세요: 5\n",
            "두 수의 합은:  8\n"
          ]
        }
      ]
    }
  ]
}