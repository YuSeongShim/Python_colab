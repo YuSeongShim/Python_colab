{
  "nbformat": 4,
  "nbformat_minor": 0,
  "metadata": {
    "colab": {
      "provenance": [],
      "authorship_tag": "ABX9TyMLmrAHmPVkVxi1hc+FKErC",
      "include_colab_link": true
    },
    "kernelspec": {
      "name": "python3",
      "display_name": "Python 3"
    },
    "language_info": {
      "name": "python"
    }
  },
  "cells": [
    {
      "cell_type": "markdown",
      "metadata": {
        "id": "view-in-github",
        "colab_type": "text"
      },
      "source": [
        "<a href=\"https://colab.research.google.com/github/YuSeongShim/Python_colab/blob/main/%ED%8C%8C%EC%9D%B4%EC%8D%AC_%EB%B9%A0%EB%A5%B8_%EA%B8%B0%EC%B4%88_%EB%B3%B5%EC%8A%B5_%EC%BB%A4%EB%A6%AC%ED%81%98%EB%9F%BC.ipynb\" target=\"_parent\"><img src=\"https://colab.research.google.com/assets/colab-badge.svg\" alt=\"Open In Colab\"/></a>"
      ]
    },
    {
      "cell_type": "markdown",
      "source": [
        "# Day 1 : 파이썬 첫걸음 & 입출력 시작"
      ],
      "metadata": {
        "id": "Y4dJeJqPxduT"
      }
    },
    {
      "cell_type": "markdown",
      "source": [
        "## print() 출력하기"
      ],
      "metadata": {
        "id": "jlonbCebxnVH"
      }
    },
    {
      "cell_type": "code",
      "execution_count": null,
      "metadata": {
        "colab": {
          "base_uri": "https://localhost:8080/"
        },
        "id": "DHmtSTBJSVhz",
        "outputId": "d7a2c7f1-bd2e-45e4-f6f3-d9144ae9f1e8"
      },
      "outputs": [
        {
          "output_type": "stream",
          "name": "stdout",
          "text": [
            "Hello, Sirius!\n",
            "파이썬을 다시 시작한다!\n"
          ]
        }
      ],
      "source": [
        "# print()는 화면에 결과를 보여주는 명령어\n",
        "# \"\"나 '' 안에 넣으면 문자열(string)으로 인식돼.\n",
        "\n",
        "print(\"Hello, Sirius!\")\n",
        "print(\"파이썬을 다시 시작한다!\")"
      ]
    },
    {
      "cell_type": "code",
      "source": [
        "# 연습문제 1\n",
        "\n",
        "print(\"내 이름은 유성이고, Inclusive UX Researcher가 되는 게 목표입니다.\")"
      ],
      "metadata": {
        "colab": {
          "base_uri": "https://localhost:8080/"
        },
        "id": "dRt0OZ8Lx0fY",
        "outputId": "fd223f8e-11d4-4235-d25b-4954f75b472c"
      },
      "execution_count": null,
      "outputs": [
        {
          "output_type": "stream",
          "name": "stdout",
          "text": [
            "내 이름은 유성이고, Inclusive UX Researcher가 되는 게 목표입니다.\n"
          ]
        }
      ]
    },
    {
      "cell_type": "markdown",
      "source": [
        "# input() 입력받기"
      ],
      "metadata": {
        "id": "cXdvNRFUyGCu"
      }
    },
    {
      "cell_type": "code",
      "source": [
        "# input()은 사용자의 입력을 받아 문자열로 저장함\n",
        "\n",
        "name = input(\"당신의 이름은 무엇인가요? \")\n",
        "print(\"안녕하세요, \", name, \"님!\")"
      ],
      "metadata": {
        "colab": {
          "base_uri": "https://localhost:8080/"
        },
        "id": "LpmRgbbIyFPH",
        "outputId": "f879058a-e0f0-4bf1-824f-c6e46c127b3e"
      },
      "execution_count": null,
      "outputs": [
        {
          "output_type": "stream",
          "name": "stdout",
          "text": [
            "당신의 이름은 무엇인가요? 유성\n",
            "안녕하세요,  유성 님!\n"
          ]
        }
      ]
    },
    {
      "cell_type": "code",
      "source": [
        "# 연습문제 2\n",
        "\n",
        "age = int(input(\"나이를 입력하세요: \"))\n",
        "print(\"유성님은 \", age, \"살이군요!\")"
      ],
      "metadata": {
        "colab": {
          "base_uri": "https://localhost:8080/"
        },
        "id": "t1h3KJE0yX65",
        "outputId": "aa268571-3a0d-4c73-c1f2-6f65960b2a34"
      },
      "execution_count": null,
      "outputs": [
        {
          "output_type": "stream",
          "name": "stdout",
          "text": [
            "나이를 입력하세요: 23\n",
            "유성님은  23 살이군요!\n"
          ]
        }
      ]
    },
    {
      "cell_type": "markdown",
      "source": [
        "# 문자열 결합과 포맷팅"
      ],
      "metadata": {
        "id": "dUnX2njSyrtV"
      }
    },
    {
      "cell_type": "code",
      "source": [
        "# 문자열끼리 더할 수도 있음\n",
        "\n",
        "name = \"Sirius\"\n",
        "print(\"안녕, \" + name + \"!\")"
      ],
      "metadata": {
        "colab": {
          "base_uri": "https://localhost:8080/"
        },
        "id": "dIHxVrPyyogY",
        "outputId": "872ba6d0-34d6-40cd-af4e-57408cda3eef"
      },
      "execution_count": null,
      "outputs": [
        {
          "output_type": "stream",
          "name": "stdout",
          "text": [
            "안녕, Sirius!\n"
          ]
        }
      ]
    },
    {
      "cell_type": "code",
      "source": [
        "# 혹은 f-string 쓰면 훨씬 깔끔함\n",
        "\n",
        "print(f\"안녕, {name}!\")"
      ],
      "metadata": {
        "colab": {
          "base_uri": "https://localhost:8080/"
        },
        "id": "k3Js50ity4fQ",
        "outputId": "8b57bbfc-3e05-4157-d239-ffe5e9e46f28"
      },
      "execution_count": null,
      "outputs": [
        {
          "output_type": "stream",
          "name": "stdout",
          "text": [
            "안녕, Sirius!\n"
          ]
        }
      ]
    },
    {
      "cell_type": "code",
      "source": [
        "# 연습문제 3\n",
        "\n",
        "name = input(\"이름을 입력해 주세요: \")\n",
        "job = input(\"당신의 직업을 입력해 주세요: \")\n",
        "\n",
        "print(name, \"님의 직업은\", job, \"입니다.\")"
      ],
      "metadata": {
        "colab": {
          "base_uri": "https://localhost:8080/"
        },
        "id": "xBxnvDC-y-83",
        "outputId": "cd4827e4-320b-4c7a-8a1b-26e65abb0498"
      },
      "execution_count": null,
      "outputs": [
        {
          "output_type": "stream",
          "name": "stdout",
          "text": [
            "이름을 입력해 주세요: 유성\n",
            "당신의 직업을 입력해 주세요: Researcher\n",
            "유성 님의 직업은 Researcher 입니다.\n"
          ]
        }
      ]
    },
    {
      "cell_type": "markdown",
      "source": [
        "# 미니 프로젝트 - 자기소개"
      ],
      "metadata": {
        "id": "_lotCnMjzZZd"
      }
    },
    {
      "cell_type": "code",
      "source": [
        "# 아래 형식처럼 나올 수 있게 작성해보자.\n",
        "\n",
        "name = input(\"이름을 입력하세요: \")\n",
        "age = int(input(\"나이를 입력하세요: \"))\n",
        "job = input(\"직업을 입력하세요: \")\n",
        "\n",
        "print(\"----------------------\")\n",
        "print(\"안녕하세요\", name, \"님!\")\n",
        "print(age, \"살\", job, \"로 활동 중이시군요.\")\n",
        "print(\"파이썬 공부 화이팅 입니다!\")"
      ],
      "metadata": {
        "colab": {
          "base_uri": "https://localhost:8080/"
        },
        "id": "vusOcUd6zSSi",
        "outputId": "0c2cffaf-afb4-445c-b969-be8d70491ad3"
      },
      "execution_count": null,
      "outputs": [
        {
          "output_type": "stream",
          "name": "stdout",
          "text": [
            "이름을 입력하세요: 유성\n",
            "나이를 입력하세요: 23\n",
            "직업을 입력하세요: UX Researcher\n",
            "----------------------\n",
            "안녕하세요 유성 님!\n",
            "23 살 UX Researcher 로 활동 중이시군요.\n",
            "파이썬 공부 화이팅 입니다!\n"
          ]
        }
      ]
    },
    {
      "cell_type": "markdown",
      "source": [
        "# Day 2 : 변수와 자료형"
      ],
      "metadata": {
        "id": "jzlItFf8BTNR"
      }
    },
    {
      "cell_type": "markdown",
      "source": [
        "## Step 1. 변수란?"
      ],
      "metadata": {
        "id": "gVWsrjuyBZhL"
      }
    },
    {
      "cell_type": "code",
      "source": [
        "# 변수란 데이터를 담는 상자\n",
        "\n",
        "name = \"유성\"\n",
        "age = 23\n",
        "goal = \"Inclusive UX Researcher\""
      ],
      "metadata": {
        "id": "CP54URwe0BT5"
      },
      "execution_count": 2,
      "outputs": []
    },
    {
      "cell_type": "markdown",
      "source": [
        "## Step 2. 자료형(Data Type)"
      ],
      "metadata": {
        "id": "1zl3FvsgBp7u"
      }
    },
    {
      "cell_type": "code",
      "source": [
        "# | **타입** | **예시** | **설명** |\n",
        "# | --- | --- | --- |\n",
        "# | int | 10, -5 | 정수 |\n",
        "# | float | 3.14, -0.1 | 실수 |\n",
        "# | str | “Hello”, ‘유성’ | 문자열 |\n",
        "# | bool | True, False | 논리값 |\n",
        "\n",
        "age = 25 #int\n",
        "height = 178.5 # float\n",
        "name = \"유성\" # str\n",
        "is_student = True # bool"
      ],
      "metadata": {
        "id": "sCbjH3vOBkIT"
      },
      "execution_count": 3,
      "outputs": []
    },
    {
      "cell_type": "code",
      "source": [
        "# type() 함수로 자료형 확인\n",
        "\n",
        "print(type(age))\n",
        "print(type(name))"
      ],
      "metadata": {
        "colab": {
          "base_uri": "https://localhost:8080/"
        },
        "id": "zMm2BQhpCEfO",
        "outputId": "1d669882-ff74-456d-c3b1-5a743ccc2810"
      },
      "execution_count": 4,
      "outputs": [
        {
          "output_type": "stream",
          "name": "stdout",
          "text": [
            "<class 'int'>\n",
            "<class 'str'>\n"
          ]
        }
      ]
    },
    {
      "cell_type": "markdown",
      "source": [
        "## Step3. 형변환(Type Casting)"
      ],
      "metadata": {
        "id": "P6hbDD5ACLAq"
      }
    },
    {
      "cell_type": "code",
      "source": [
        "# 가끔 문자열을 숫자로 바꾸거나, 숫자를 문자열로 바꿔야 할 때가 있음\n",
        "\n",
        "num_str = \"10\"\n",
        "num_int = int(num_str) # \"10\" -> 10\n",
        "print(num_int + 5) # 15\n",
        "\n",
        "age = 23\n",
        "print(\"나이는 \" + str(age) + \"살입니다.\")"
      ],
      "metadata": {
        "colab": {
          "base_uri": "https://localhost:8080/"
        },
        "id": "G1javE1yCJ0O",
        "outputId": "853e6c13-302e-4509-e9b4-290c03a1ce1a"
      },
      "execution_count": 6,
      "outputs": [
        {
          "output_type": "stream",
          "name": "stdout",
          "text": [
            "15\n",
            "나이는 23살입니다.\n"
          ]
        }
      ]
    },
    {
      "cell_type": "markdown",
      "source": [
        "##Step4. 간단한 계산 연습"
      ],
      "metadata": {
        "id": "Y7kJ39UaCqRM"
      }
    },
    {
      "cell_type": "code",
      "source": [
        "a = 10\n",
        "b = 3\n",
        "print(a + b) #  덧셈\n",
        "print(a - b) # 뺄셈\n",
        "print(a * b) # 곱셈\n",
        "print(a / b) # 나눗셈 (실수 결과)\n",
        "print(a // b) # 몫\n",
        "print(a % b) # 나머지"
      ],
      "metadata": {
        "colab": {
          "base_uri": "https://localhost:8080/"
        },
        "id": "ObNS5qozCj6n",
        "outputId": "473d74b2-2b87-4b55-eb2f-a6928f0eb7ce"
      },
      "execution_count": 7,
      "outputs": [
        {
          "output_type": "stream",
          "name": "stdout",
          "text": [
            "13\n",
            "7\n",
            "30\n",
            "3.3333333333333335\n",
            "3\n",
            "1\n"
          ]
        }
      ]
    },
    {
      "cell_type": "code",
      "source": [
        "# 연습문제 1\n",
        "# 두 수를 입력받아 더한 결과를 출력해보자.\n",
        "\n",
        "a = int(input())\n",
        "b = int(input())\n",
        "\n",
        "print(a + b)"
      ],
      "metadata": {
        "colab": {
          "base_uri": "https://localhost:8080/"
        },
        "id": "JRTo4WU5C7TX",
        "outputId": "288ceecc-08e3-43ef-d661-028f3c200e75"
      },
      "execution_count": 8,
      "outputs": [
        {
          "output_type": "stream",
          "name": "stdout",
          "text": [
            "2\n",
            "3\n",
            "5\n"
          ]
        }
      ]
    },
    {
      "cell_type": "markdown",
      "source": [
        "## Step5. 미니 프로젝트 - 온도 변환기"
      ],
      "metadata": {
        "id": "uei5eeNkDINW"
      }
    },
    {
      "cell_type": "code",
      "source": [
        "# 화씨 = (섭씨 * 9/5) + 32\n",
        "\n",
        "celsius = float(input(\"섭씨 온도를 입력하세요: \"))\n",
        "fahrenheit = (celsius * 9/5) + 32\n",
        "print(f\"섭씨 {celsius}도는 화씨 {fahrenheit}도 입니다.\")"
      ],
      "metadata": {
        "colab": {
          "base_uri": "https://localhost:8080/"
        },
        "id": "arZ4-zsEDET6",
        "outputId": "335d8d24-7439-40ba-82a0-f17794713050"
      },
      "execution_count": 13,
      "outputs": [
        {
          "output_type": "stream",
          "name": "stdout",
          "text": [
            "섭씨 온도를 입력하세요: 30\n",
            "섭씨 30.0도는 화씨 86.0도 입니다.\n"
          ]
        }
      ]
    },
    {
      "cell_type": "code",
      "source": [
        "# 섭씨 = (화씨 - 32) * 5/9\n",
        "\n",
        "fahrenheit = int(input(\"화씨 온도를 입력하세요: \"))\n",
        "celsius = (fahrenheit - 32) * 5/9\n",
        "print(f\"화씨 {fahrenheit}도는 화씨 {celsius}도 입니다.\")"
      ],
      "metadata": {
        "colab": {
          "base_uri": "https://localhost:8080/"
        },
        "id": "3PvP1iAbDj1f",
        "outputId": "8e05bde2-f2a7-411a-af7c-2f8f5b0c2d11"
      },
      "execution_count": 15,
      "outputs": [
        {
          "output_type": "stream",
          "name": "stdout",
          "text": [
            "화씨 온도를 입력하세요: 80\n",
            "화씨 80도는 화씨 26.666666666666668도 입니다.\n"
          ]
        }
      ]
    },
    {
      "cell_type": "code",
      "source": [],
      "metadata": {
        "id": "aXxZIzvrEE3-"
      },
      "execution_count": null,
      "outputs": []
    }
  ]
}