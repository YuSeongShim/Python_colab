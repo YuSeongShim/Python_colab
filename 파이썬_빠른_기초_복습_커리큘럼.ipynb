{
  "nbformat": 4,
  "nbformat_minor": 0,
  "metadata": {
    "colab": {
      "provenance": [],
      "authorship_tag": "ABX9TyMXt50ND7IF4HViJ6Ev7+MU",
      "include_colab_link": true
    },
    "kernelspec": {
      "name": "python3",
      "display_name": "Python 3"
    },
    "language_info": {
      "name": "python"
    }
  },
  "cells": [
    {
      "cell_type": "markdown",
      "metadata": {
        "id": "view-in-github",
        "colab_type": "text"
      },
      "source": [
        "<a href=\"https://colab.research.google.com/github/YuSeongShim/Python_colab/blob/main/%ED%8C%8C%EC%9D%B4%EC%8D%AC_%EB%B9%A0%EB%A5%B8_%EA%B8%B0%EC%B4%88_%EB%B3%B5%EC%8A%B5_%EC%BB%A4%EB%A6%AC%ED%81%98%EB%9F%BC.ipynb\" target=\"_parent\"><img src=\"https://colab.research.google.com/assets/colab-badge.svg\" alt=\"Open In Colab\"/></a>"
      ]
    },
    {
      "cell_type": "markdown",
      "source": [
        "## Day 1: 파이썬의 기본 구조 & 입출력 기초"
      ],
      "metadata": {
        "id": "1KsqaGpu3ORO"
      }
    },
    {
      "cell_type": "markdown",
      "source": [
        "### 파이썬 프로그램의 구조"
      ],
      "metadata": {
        "id": "-0cXOM-g3dwe"
      }
    },
    {
      "cell_type": "code",
      "execution_count": null,
      "metadata": {
        "colab": {
          "base_uri": "https://localhost:8080/"
        },
        "id": "I3EtTFWM20Mk",
        "outputId": "16609867-a70c-4313-f229-e298e8bfe60b"
      },
      "outputs": [
        {
          "output_type": "stream",
          "name": "stdout",
          "text": [
            "Hello, world!\n",
            "This is Python.\n"
          ]
        }
      ],
      "source": [
        "print(\"Hello, world!\")\n",
        "print(\"This is Python.\")"
      ]
    },
    {
      "cell_type": "markdown",
      "source": [
        "### 출력 함수 print()"
      ],
      "metadata": {
        "id": "dniVXUGK3if4"
      }
    },
    {
      "cell_type": "code",
      "source": [
        "## 데이터를 화면에 출력하는 함수\n",
        "## 문자열을 출력할 땐 반드시 \"따옴표\" 또는 '따옴표'로 감싸야 함\n",
        "\n",
        "print(\"안녕하세요\")\n",
        "print(3 + 5)\n",
        "print(\"3 + 5=\", 3 + 5)"
      ],
      "metadata": {
        "colab": {
          "base_uri": "https://localhost:8080/"
        },
        "id": "gDLg8K6l3h8W",
        "outputId": "687cae42-e9a3-4212-9ac4-f0a28a1db3f5"
      },
      "execution_count": null,
      "outputs": [
        {
          "output_type": "stream",
          "name": "stdout",
          "text": [
            "안녕하세요\n",
            "8\n",
            "3 + 5= 8\n"
          ]
        }
      ]
    },
    {
      "cell_type": "markdown",
      "source": [
        "### 입력 함수 input()"
      ],
      "metadata": {
        "id": "f21gImh43-kG"
      }
    },
    {
      "cell_type": "code",
      "source": [
        "## 사용자가 직접 입력할 수 있게 해주는 함수\n",
        "## 입력된 값은 항상 문자열(str) 형태로 저장됌.\n",
        "\n",
        "name = input(\"이름을 입력하세요: \")\n",
        "print(\"안녕하세요,\", name, \"님!\")"
      ],
      "metadata": {
        "colab": {
          "base_uri": "https://localhost:8080/"
        },
        "id": "62TspWrl4Ban",
        "outputId": "d79d31ba-253a-4925-ec21-d5b875b36c5b"
      },
      "execution_count": null,
      "outputs": [
        {
          "output_type": "stream",
          "name": "stdout",
          "text": [
            "이름을 입력하세요: 유성\n",
            "안녕하세요, 유성 님!\n"
          ]
        }
      ]
    },
    {
      "cell_type": "markdown",
      "source": [
        "### 변수란?"
      ],
      "metadata": {
        "id": "pXWdWh6A4f3h"
      }
    },
    {
      "cell_type": "code",
      "source": [
        "## 데이터를 저장하는 공간\n",
        "## 파이썬은 자료형을 자동으로 추론해줌\n",
        "\n",
        "age = 23\n",
        "name = \"Skyler\"\n",
        "height = 176.8\n",
        "print(name, \"의 나이는\", age, \"살이고 키는\", height, \"cm 입니다.\")"
      ],
      "metadata": {
        "colab": {
          "base_uri": "https://localhost:8080/"
        },
        "id": "996oJgSu4a8U",
        "outputId": "79180336-95d3-4097-cd04-be98d5bfab0b"
      },
      "execution_count": null,
      "outputs": [
        {
          "output_type": "stream",
          "name": "stdout",
          "text": [
            "Skyler 의 나이는 23 살이고 키는 176.8 cm 입니다.\n"
          ]
        }
      ]
    },
    {
      "cell_type": "markdown",
      "source": [
        "### 주석과 들여쓰기"
      ],
      "metadata": {
        "id": "Xd0U3eCH44oN"
      }
    },
    {
      "cell_type": "code",
      "source": [
        "## 주석 -> 프로그램 실행에 영향을 주지 않고 설명을 적는 용도\n",
        "## #으로 시작함\n",
        "\n",
        "# 이건 주석입니다.\n",
        "print(\"주석은 실행되지 않아요!\") # 이 부분도 주석\n"
      ],
      "metadata": {
        "id": "rbrOn_j446tR"
      },
      "execution_count": null,
      "outputs": []
    },
    {
      "cell_type": "code",
      "source": [
        "## 들여쓰기 -> 파이썬은 {} 대신 들여쓰기로 코드 블록을 구분\n",
        "\n",
        "if True:\n",
        "    print(\"이건 들여쓰기 된 문장\")\n",
        "print(\"이건 밖에 있는 문장\")"
      ],
      "metadata": {
        "colab": {
          "base_uri": "https://localhost:8080/"
        },
        "id": "hDsNJ3Nr6OUV",
        "outputId": "cd70b74d-16d0-4cd9-dad2-1646e7f8f33e"
      },
      "execution_count": null,
      "outputs": [
        {
          "output_type": "stream",
          "name": "stdout",
          "text": [
            "이건 들여쓰기 된 문장\n",
            "이건 밖에 있는 문장\n"
          ]
        }
      ]
    },
    {
      "cell_type": "markdown",
      "source": [
        "### 실습 미션"
      ],
      "metadata": {
        "id": "tOL0ModL60z4"
      }
    },
    {
      "cell_type": "code",
      "source": [
        "# 인사 프로그램 만들기\n",
        "\n",
        "name = input(\"이름을 입력하세요: \")\n",
        "age = input(\"나이를 입력하세요: \")\n",
        "print(\"안녕하세요\", name, \"님! 당신은\", age, \"살이시군요.\")"
      ],
      "metadata": {
        "colab": {
          "base_uri": "https://localhost:8080/"
        },
        "id": "h5swHdVW639O",
        "outputId": "01b377a8-aa8c-43f2-8335-56e646198c44"
      },
      "execution_count": null,
      "outputs": [
        {
          "output_type": "stream",
          "name": "stdout",
          "text": [
            "이름을 입력하세요: 유성\n",
            "나이를 입력하세요: 23\n",
            "안녕하세요 유성 님! 당신은 23 살이시군요.\n"
          ]
        }
      ]
    },
    {
      "cell_type": "code",
      "source": [
        "# 간단한 계산기\n",
        "\n",
        "# 두 수를 입력받아서 합을 출력하기\n",
        "a = input(\"첫 번째 숫자를 입력하세요: \")\n",
        "b = input(\"두 번째 숫자를 입력하세요: \")\n",
        "\n",
        "sum = int(a) + int(b)\n",
        "print(\"두 수의 합은: \", sum)"
      ],
      "metadata": {
        "colab": {
          "base_uri": "https://localhost:8080/"
        },
        "id": "N5tjS0Sn7j5C",
        "outputId": "ca5b27ef-d1a6-4ad0-b70e-4c4e725b40bb"
      },
      "execution_count": null,
      "outputs": [
        {
          "output_type": "stream",
          "name": "stdout",
          "text": [
            "첫 번째 숫자를 입력하세요: 3\n",
            "두 번째 숫자를 입력하세요: 5\n",
            "두 수의 합은:  8\n"
          ]
        }
      ]
    },
    {
      "cell_type": "markdown",
      "source": [
        "## Day2 - 자료형 완전 정복편"
      ],
      "metadata": {
        "id": "N2oA3xIwGnCU"
      }
    },
    {
      "cell_type": "markdown",
      "source": [
        "### 자료형(Type) 이란?"
      ],
      "metadata": {
        "id": "El_xxpreGswC"
      }
    },
    {
      "cell_type": "code",
      "source": [
        "## 데이터에는 종류(타입)이 있음\n",
        "## ex) 10은 숫자, \"10\"은 문자로 인식함\n",
        "\n",
        "# | 자료형   | 예시             | 설명                  |\n",
        "# | ----- | -------------- | ------------------- |\n",
        "# | int   | 10, -5         | 정수 (소수점 없음)         |\n",
        "# | float | 3.14, -0.5     | 실수 (소수점 있음)         |\n",
        "# | str   | \"Hello\", '123' | 문자열 (따옴표로 감싸진 문자)   |\n",
        "# | bool  | True, False    | 참(True) / 거짓(False) |\n"
      ],
      "metadata": {
        "id": "7qVWYiWyGqcE"
      },
      "execution_count": null,
      "outputs": []
    },
    {
      "cell_type": "markdown",
      "source": [
        "### 숫자형(int, float)"
      ],
      "metadata": {
        "id": "kqSUYCENHFUr"
      }
    },
    {
      "cell_type": "code",
      "source": [
        "a = 10 # int 정수\n",
        "b = 3.14 # float 실수\n",
        "\n",
        "print(a + b) # 13.14\n",
        "print(a * b) # 31.4\n",
        "print(a / 3) # 3.333...\n",
        "print(a // 3) # 3\n",
        "print(a % 3) # 1"
      ],
      "metadata": {
        "colab": {
          "base_uri": "https://localhost:8080/"
        },
        "id": "I7b2I33-HEKo",
        "outputId": "5a20862a-e484-492c-bc4d-f499c4869c43"
      },
      "execution_count": null,
      "outputs": [
        {
          "output_type": "stream",
          "name": "stdout",
          "text": [
            "13.14\n",
            "31.400000000000002\n",
            "3.3333333333333335\n",
            "3\n",
            "1\n"
          ]
        }
      ]
    },
    {
      "cell_type": "markdown",
      "source": [
        "### 문자열(str)"
      ],
      "metadata": {
        "id": "PsPdSwbTHsXt"
      }
    },
    {
      "cell_type": "code",
      "source": [
        "# 문자열은 따옴표(\"\") 또는 (\")로 감싸면 됨\n",
        "\n",
        "text = \"Python\"\n",
        "print(text)"
      ],
      "metadata": {
        "colab": {
          "base_uri": "https://localhost:8080/"
        },
        "id": "-ze0wbDXHuq6",
        "outputId": "3e738974-68db-4cf4-ef2f-3c818cf5608b"
      },
      "execution_count": null,
      "outputs": [
        {
          "output_type": "stream",
          "name": "stdout",
          "text": [
            "Python\n"
          ]
        }
      ]
    },
    {
      "cell_type": "code",
      "source": [
        "# 문자열 연결 반복\n",
        "\n",
        "a = \"Hello\"\n",
        "b = \"World\"\n",
        "\n",
        "print(a + b)\n",
        "print(a + \" \" + b)\n",
        "print(a * 3)"
      ],
      "metadata": {
        "colab": {
          "base_uri": "https://localhost:8080/"
        },
        "id": "ZRwcIP_tH6Qt",
        "outputId": "78e85f3c-1302-4872-d27c-0fedc5176cde"
      },
      "execution_count": null,
      "outputs": [
        {
          "output_type": "stream",
          "name": "stdout",
          "text": [
            "HelloWorld\n",
            "Hello World\n",
            "HelloHelloHello\n"
          ]
        }
      ]
    },
    {
      "cell_type": "markdown",
      "source": [
        "### 인덱싱(indexing)"
      ],
      "metadata": {
        "id": "TuWjrcWFIMKN"
      }
    },
    {
      "cell_type": "code",
      "source": [
        "# 문자열 안의 한 글자에 접근 o\n",
        "\n",
        "word = \"Python\"\n",
        "print(word[0]) # P\n",
        "print(word[1]) # t\n",
        "print(word[2]) # n 뒤에서부터"
      ],
      "metadata": {
        "colab": {
          "base_uri": "https://localhost:8080/"
        },
        "id": "NYh7XSxFIHb-",
        "outputId": "d9ddbd8b-9673-4a52-d522-1dd375db0deb"
      },
      "execution_count": null,
      "outputs": [
        {
          "output_type": "stream",
          "name": "stdout",
          "text": [
            "P\n",
            "y\n",
            "t\n"
          ]
        }
      ]
    },
    {
      "cell_type": "markdown",
      "source": [
        "### 슬라이싱(Slicing)"
      ],
      "metadata": {
        "id": "xK_EeHoJIfnF"
      }
    },
    {
      "cell_type": "code",
      "source": [
        "# 일부 문자를 잘라내는 방법\n",
        "\n",
        "word = \"Python\"\n",
        "print(word[0:2])\n",
        "print(word[2:5])\n",
        "print(word[:3])\n",
        "print(word[3:])"
      ],
      "metadata": {
        "colab": {
          "base_uri": "https://localhost:8080/"
        },
        "id": "5dokigRjIfHE",
        "outputId": "0017a0b5-13b3-4cc8-c2e9-241a0da306b8"
      },
      "execution_count": null,
      "outputs": [
        {
          "output_type": "stream",
          "name": "stdout",
          "text": [
            "Py\n",
            "tho\n",
            "Pyt\n",
            "hon\n"
          ]
        }
      ]
    },
    {
      "cell_type": "markdown",
      "source": [
        "### 불리언(bool)"
      ],
      "metadata": {
        "id": "7s2CgTalIvY-"
      }
    },
    {
      "cell_type": "code",
      "source": [
        "# 참(True)과 거짓(False)를 표현하는 자료형\n",
        "# 비교연산이나 조건문에서 많이 씀\n",
        "\n",
        "print(5 > 3)\n",
        "print(5 < 3)\n",
        "print(10 == 10)\n",
        "print(10 != 5)"
      ],
      "metadata": {
        "colab": {
          "base_uri": "https://localhost:8080/"
        },
        "id": "Onx0kgXLItMk",
        "outputId": "452fbee4-4ee0-4ea2-bb70-ea2201ab51a2"
      },
      "execution_count": null,
      "outputs": [
        {
          "output_type": "stream",
          "name": "stdout",
          "text": [
            "True\n",
            "False\n",
            "True\n",
            "True\n"
          ]
        }
      ]
    },
    {
      "cell_type": "markdown",
      "source": [
        "### type() 함수"
      ],
      "metadata": {
        "id": "zI5PKNvRI_64"
      }
    },
    {
      "cell_type": "code",
      "source": [
        "# 데이터가 어떤 타입인지 확인할 수 있음\n",
        "\n",
        "x = 10\n",
        "y = \"10\"\n",
        "\n",
        "print(type(x))\n",
        "print(type(y))"
      ],
      "metadata": {
        "colab": {
          "base_uri": "https://localhost:8080/"
        },
        "id": "NwXjrsMXI-4Q",
        "outputId": "757910cf-bc34-4b27-b4c0-16a45c652162"
      },
      "execution_count": null,
      "outputs": [
        {
          "output_type": "stream",
          "name": "stdout",
          "text": [
            "<class 'int'>\n",
            "<class 'str'>\n"
          ]
        }
      ]
    },
    {
      "cell_type": "markdown",
      "source": [
        "### 실습 미션"
      ],
      "metadata": {
        "id": "pJfcW6P9JLSK"
      }
    },
    {
      "cell_type": "code",
      "source": [
        "## 실습1 : 나이 계산기\n",
        "\n",
        "birth = input(\"태어난 년도를 입력하세요: \")\n",
        "age = 2025 - int(birth) + 1\n",
        "print(\"당신의 나이는\", age, \"살입니다.\")"
      ],
      "metadata": {
        "colab": {
          "base_uri": "https://localhost:8080/"
        },
        "id": "gdozdE67JKJA",
        "outputId": "d85ea76b-3539-4659-8ba5-e3fc11d484d4"
      },
      "execution_count": null,
      "outputs": [
        {
          "output_type": "stream",
          "name": "stdout",
          "text": [
            "태어난 년도를 입력하세요: 2003\n",
            "당신의 나이는 23 살입니다.\n"
          ]
        }
      ]
    },
    {
      "cell_type": "code",
      "source": [
        "## 실습 2: 문자열 조작\n",
        "\n",
        "word = \"Accessibility\"\n",
        "print(\"1번쨰 글자: \", word[0])\n",
        "print(\"마지막 글자:\", word[-1])\n",
        "print(\"앞 4글자: \", word[:4])\n",
        "print(\"뒤 4글자: \", word[-4:])"
      ],
      "metadata": {
        "colab": {
          "base_uri": "https://localhost:8080/"
        },
        "id": "BONRFKs9Jcs_",
        "outputId": "9001acbb-3d4a-4083-a2ea-bd4bd9e2c46f"
      },
      "execution_count": null,
      "outputs": [
        {
          "output_type": "stream",
          "name": "stdout",
          "text": [
            "1번쨰 글자:  A\n",
            "마지막 글자: y\n",
            "앞 4글자:  Acce\n",
            "뒤 4글자:  lity\n"
          ]
        }
      ]
    },
    {
      "cell_type": "code",
      "source": [
        "## 실습 3: 불리언 비교 연습\n",
        "\n",
        "num = int(input(\"숫자를 입력하세요: \"))\n",
        "print(num > 10)\n",
        "print(num == 10)\n",
        "print(num < 10)"
      ],
      "metadata": {
        "colab": {
          "base_uri": "https://localhost:8080/"
        },
        "id": "kcFPnF9VJ6BW",
        "outputId": "3cd35d12-ee44-4781-b5d6-81d9eac9312b"
      },
      "execution_count": null,
      "outputs": [
        {
          "output_type": "stream",
          "name": "stdout",
          "text": [
            "숫자를 입력하세요: 10\n",
            "False\n",
            "True\n",
            "False\n"
          ]
        }
      ]
    },
    {
      "cell_type": "markdown",
      "source": [
        "###복습 과제"
      ],
      "metadata": {
        "id": "v4f2JmIkK1DH"
      }
    },
    {
      "cell_type": "code",
      "source": [
        "# 자기 이름 문자열을 변수에 저장하고, 이름의 첫 글자와 마지막 글자 출력\n",
        "\n",
        "name = input(\"이름을 입력해주세요: \")\n",
        "\n",
        "print(name[0])\n",
        "print(name[-1])"
      ],
      "metadata": {
        "colab": {
          "base_uri": "https://localhost:8080/"
        },
        "id": "uA0W8KBOJ2sA",
        "outputId": "5ce1aa36-4d60-4220-c37f-6a9d69a2a809"
      },
      "execution_count": null,
      "outputs": [
        {
          "output_type": "stream",
          "name": "stdout",
          "text": [
            "이름을 입력해주세요: yuseong\n",
            "y\n",
            "g\n"
          ]
        }
      ]
    },
    {
      "cell_type": "code",
      "source": [
        "# input()으로 받은 두 숫자를 더하는 코드 작성\n",
        "\n",
        "num1 = int(input())\n",
        "num2 = int(input())\n",
        "\n",
        "print(num1 + num2)\n"
      ],
      "metadata": {
        "colab": {
          "base_uri": "https://localhost:8080/"
        },
        "id": "m7F5712aK7U7",
        "outputId": "d68a1fbe-fc50-465f-9b43-6771444c85fe"
      },
      "execution_count": null,
      "outputs": [
        {
          "output_type": "stream",
          "name": "stdout",
          "text": [
            "1\n",
            "2\n",
            "3\n"
          ]
        }
      ]
    },
    {
      "cell_type": "code",
      "source": [
        "# 불리언 비교 3가지 만들어서 결과 예측하기\n",
        "\n",
        "print(3 > 4)\n",
        "print(5 < 2)\n",
        "print(10 == 10)"
      ],
      "metadata": {
        "colab": {
          "base_uri": "https://localhost:8080/"
        },
        "id": "rJ-iHQh8K938",
        "outputId": "7481d72a-eedf-4b8b-f71c-7d50c30cf0ff"
      },
      "execution_count": null,
      "outputs": [
        {
          "output_type": "stream",
          "name": "stdout",
          "text": [
            "False\n",
            "False\n",
            "True\n"
          ]
        }
      ]
    },
    {
      "cell_type": "markdown",
      "source": [
        "# Day 3: 리스트 · 튜플 · 세트 · 딕셔너리"
      ],
      "metadata": {
        "id": "4s-VLUVwNjVg"
      }
    },
    {
      "cell_type": "markdown",
      "source": [
        "## 리스트"
      ],
      "metadata": {
        "id": "a84y0IRkPQ0x"
      }
    },
    {
      "cell_type": "code",
      "source": [
        "# 여러 값을 순서대로 저장할 수 있는 가변형 시퀀스\n",
        "\n",
        "fruits = [\"apple\", \"banana\", \"cherry\"]\n",
        "\n",
        "print(fruits)\n",
        "print(fruits[0]) # apple\n",
        "print(fruits[-1]) # cherry"
      ],
      "metadata": {
        "id": "uDElrPFtMRkY",
        "colab": {
          "base_uri": "https://localhost:8080/"
        },
        "outputId": "82017274-3083-4a06-b85e-366a817be8a1"
      },
      "execution_count": null,
      "outputs": [
        {
          "output_type": "stream",
          "name": "stdout",
          "text": [
            "['apple', 'banana', 'cherry']\n",
            "apple\n",
            "cherry\n"
          ]
        }
      ]
    },
    {
      "cell_type": "code",
      "source": [
        "# 수정/추가/삭제\n",
        "\n",
        "fruits[1] = \"orange\" # 수정\n",
        "fruits.append(\"grape\") # 추가\n",
        "fruits.remove(\"apple\") # 삭제\n",
        "print(fruits)"
      ],
      "metadata": {
        "colab": {
          "base_uri": "https://localhost:8080/",
          "height": 193
        },
        "id": "B8KCFFm4PqnY",
        "outputId": "373c94f1-f350-4f19-c8c7-5b97c8fd3dc9"
      },
      "execution_count": null,
      "outputs": [
        {
          "output_type": "error",
          "ename": "ValueError",
          "evalue": "list.remove(x): x not in list",
          "traceback": [
            "\u001b[0;31m---------------------------------------------------------------------------\u001b[0m",
            "\u001b[0;31mValueError\u001b[0m                                Traceback (most recent call last)",
            "\u001b[0;32m/tmp/ipython-input-2226261661.py\u001b[0m in \u001b[0;36m<cell line: 0>\u001b[0;34m()\u001b[0m\n\u001b[1;32m      3\u001b[0m \u001b[0mfruits\u001b[0m\u001b[0;34m[\u001b[0m\u001b[0;36m1\u001b[0m\u001b[0;34m]\u001b[0m \u001b[0;34m=\u001b[0m \u001b[0;34m\"orange\"\u001b[0m \u001b[0;31m# 수정\u001b[0m\u001b[0;34m\u001b[0m\u001b[0;34m\u001b[0m\u001b[0m\n\u001b[1;32m      4\u001b[0m \u001b[0mfruits\u001b[0m\u001b[0;34m.\u001b[0m\u001b[0mappend\u001b[0m\u001b[0;34m(\u001b[0m\u001b[0;34m\"grape\"\u001b[0m\u001b[0;34m)\u001b[0m \u001b[0;31m# 추가\u001b[0m\u001b[0;34m\u001b[0m\u001b[0;34m\u001b[0m\u001b[0m\n\u001b[0;32m----> 5\u001b[0;31m \u001b[0mfruits\u001b[0m\u001b[0;34m.\u001b[0m\u001b[0mremove\u001b[0m\u001b[0;34m(\u001b[0m\u001b[0;34m\"apple\"\u001b[0m\u001b[0;34m)\u001b[0m \u001b[0;31m# 삭제\u001b[0m\u001b[0;34m\u001b[0m\u001b[0;34m\u001b[0m\u001b[0m\n\u001b[0m\u001b[1;32m      6\u001b[0m \u001b[0mprint\u001b[0m\u001b[0;34m(\u001b[0m\u001b[0mfruits\u001b[0m\u001b[0;34m)\u001b[0m\u001b[0;34m\u001b[0m\u001b[0;34m\u001b[0m\u001b[0m\n",
            "\u001b[0;31mValueError\u001b[0m: list.remove(x): x not in list"
          ]
        }
      ]
    },
    {
      "cell_type": "markdown",
      "source": [
        "## 튜플(Tuple)"
      ],
      "metadata": {
        "id": "HzuPeD4VQUNp"
      }
    },
    {
      "cell_type": "code",
      "source": [
        "# 리스트처럼 여러 값을 저장하지만 수정이 불가능\n",
        "# - 소괄호 `()` 사용\n",
        "# - 읽기 전용, 데이터 변경 불가\n",
        "# - 빠르고 안전한 데이터 저장용으로 자주 사용됨\n",
        "\n",
        "t = (1, 2, 3)\n",
        "print(t[0]) # 1\n",
        "# t[0] = 10"
      ],
      "metadata": {
        "colab": {
          "base_uri": "https://localhost:8080/"
        },
        "id": "glxSLfljP57s",
        "outputId": "ee278791-6305-4115-9e9e-08e49138fc15"
      },
      "execution_count": null,
      "outputs": [
        {
          "output_type": "stream",
          "name": "stdout",
          "text": [
            "1\n"
          ]
        }
      ]
    },
    {
      "cell_type": "code",
      "source": [
        "# ex) 좌표가 고정된 설정값을 저장할 때\n",
        "\n",
        "pos = (37.5, 127.0)"
      ],
      "metadata": {
        "id": "NpjxxCXgQgZ6"
      },
      "execution_count": null,
      "outputs": []
    },
    {
      "cell_type": "markdown",
      "source": [
        "## 세트 (Set)"
      ],
      "metadata": {
        "id": "w9qgSQC5QxD7"
      }
    },
    {
      "cell_type": "code",
      "source": [
        "# 중복이 x, 순서가 없는 집합형 자료형\n",
        "\n",
        "nums = {1, 2, 3, 3, 2, 1}\n",
        "print(nums) # {1, 2, 3} (중복 제거됨)"
      ],
      "metadata": {
        "colab": {
          "base_uri": "https://localhost:8080/"
        },
        "id": "nD-Jig2vQvIX",
        "outputId": "5b5f9bfd-8b16-4d51-fdce-e6512b8fc5ea"
      },
      "execution_count": null,
      "outputs": [
        {
          "output_type": "stream",
          "name": "stdout",
          "text": [
            "{1, 2, 3}\n"
          ]
        }
      ]
    },
    {
      "cell_type": "code",
      "source": [
        "# 집합 연산\n",
        "# - 중복 제거용으로 자주 사용\n",
        "# - `list()`로 변환 가능\n",
        "\n",
        "a = {1, 2, 3}\n",
        "b = {3, 4, 5}\n",
        "\n",
        "print(a | b) # 합집합 {1, 2, 3, 4, 5}\n",
        "print(a & b) # 교집합 {3}\n",
        "print(a - b) # 차집합 {1, 2}"
      ],
      "metadata": {
        "colab": {
          "base_uri": "https://localhost:8080/"
        },
        "id": "l7AxKBIlQ_l2",
        "outputId": "b0cde631-884e-4a6b-f6bd-c5682e64c7a3"
      },
      "execution_count": null,
      "outputs": [
        {
          "output_type": "stream",
          "name": "stdout",
          "text": [
            "{1, 2, 3, 4, 5}\n",
            "{3}\n",
            "{1, 2}\n"
          ]
        }
      ]
    },
    {
      "cell_type": "markdown",
      "source": [
        "## 딕셔너리 (Dictionary)"
      ],
      "metadata": {
        "id": "WfqD_S_IRdsS"
      }
    },
    {
      "cell_type": "code",
      "source": [
        "person = {\"name\": \"yuseong\", \"age\":23, \"city\": \"Gwangyang\"}\n",
        "\n",
        "print(person[\"name\"]) # yuseong\n",
        "print(person[\"age\"]) # 23"
      ],
      "metadata": {
        "colab": {
          "base_uri": "https://localhost:8080/"
        },
        "id": "e_Jw8funRGqk",
        "outputId": "942fb46f-0462-4eaa-c8d5-bbe8b72be354"
      },
      "execution_count": null,
      "outputs": [
        {
          "output_type": "stream",
          "name": "stdout",
          "text": [
            "yuseong\n",
            "23\n"
          ]
        }
      ]
    },
    {
      "cell_type": "code",
      "source": [
        "# 추가/수정/삭제\n",
        "\n",
        "person[\"job\"] = \"Engineer\" # 추가\n",
        "person[\"age\"] = 24 # 수정\n",
        "del person[\"city\"] # 삭제"
      ],
      "metadata": {
        "id": "6SoHVwMHRv58"
      },
      "execution_count": null,
      "outputs": []
    },
    {
      "cell_type": "code",
      "source": [
        "# 딕셔너리 메서드\n",
        "# keys() -> 모든 key 반환\n",
        "# values() -> 모든 value 반환\n",
        "# items -> (key, value) 쌍 반환\n",
        "\n",
        "for key, value in person.items():\n",
        "    print(key, \":\", value)\n"
      ],
      "metadata": {
        "colab": {
          "base_uri": "https://localhost:8080/"
        },
        "id": "DNiXHL4WSQR4",
        "outputId": "d4712a00-e539-4228-af17-059f108d1bea"
      },
      "execution_count": null,
      "outputs": [
        {
          "output_type": "stream",
          "name": "stdout",
          "text": [
            "name : yuseong\n",
            "age : 24\n",
            "job : Engineer\n"
          ]
        }
      ]
    },
    {
      "cell_type": "markdown",
      "source": [
        "## 실습 미션"
      ],
      "metadata": {
        "id": "rK04kKMmSmHe"
      }
    },
    {
      "cell_type": "code",
      "source": [
        "# 실습1 : 리스트 관리 프로그램\n",
        "\n",
        "fruits = [\"apple\", \"banana\", \"cherry\"]\n",
        "print(\"현재 리스트: \", fruits)\n",
        "\n",
        "new = input(\"추가할 과일 이름: \")\n",
        "fruits.append(new)\n",
        "print(\"추가 후: \", fruits)"
      ],
      "metadata": {
        "colab": {
          "base_uri": "https://localhost:8080/"
        },
        "id": "hV50yabqSnWd",
        "outputId": "60de16d2-c5b8-4b80-d083-02aba451b13b"
      },
      "execution_count": null,
      "outputs": [
        {
          "output_type": "stream",
          "name": "stdout",
          "text": [
            "현재 리스트:  ['apple', 'banana', 'cherry']\n",
            "추가할 과일 이름: mango\n",
            "추가 후:  ['apple', 'banana', 'cherry', 'mango']\n"
          ]
        }
      ]
    },
    {
      "cell_type": "code",
      "source": [
        "# 실습 2 : 세트 중복 제거\n",
        "\n",
        "nums = [1, 2, 2, 3, 4, 4, 5]\n",
        "unique_nums = set(nums)\n",
        "print(\"중복 제거 결과: \", unique_nums)"
      ],
      "metadata": {
        "colab": {
          "base_uri": "https://localhost:8080/"
        },
        "id": "aJk6Al0RS75Q",
        "outputId": "3d17c87b-f345-4481-c98d-110bfec5b977"
      },
      "execution_count": null,
      "outputs": [
        {
          "output_type": "stream",
          "name": "stdout",
          "text": [
            "중복 제거 결과:  {1, 2, 3, 4, 5}\n"
          ]
        }
      ]
    },
    {
      "cell_type": "code",
      "source": [
        "# 실습 3 : 딕셔너리 정보 출력\n",
        "\n",
        "person = {\"name\": \"Sirius\", \"age\": 23, \"city\": \"Busan\"}\n",
        "print(\"이름: \", person[\"name\"])\n",
        "print(\"나이: \", person[\"age\"])\n",
        "print(\"사는 곳: \", person[\"city\"])"
      ],
      "metadata": {
        "colab": {
          "base_uri": "https://localhost:8080/"
        },
        "id": "zO2f_m6cTGwR",
        "outputId": "3fbea75f-19b9-4d1c-d05d-d789050b3c7c"
      },
      "execution_count": null,
      "outputs": [
        {
          "output_type": "stream",
          "name": "stdout",
          "text": [
            "이름:  Sirius\n",
            "나이:  23\n",
            "사는 곳:  Busan\n"
          ]
        }
      ]
    },
    {
      "cell_type": "markdown",
      "source": [
        "# Day 4: 제어문 (if, elif, else)"
      ],
      "metadata": {
        "id": "U5rtR3odMX-y"
      }
    },
    {
      "cell_type": "markdown",
      "source": [
        "## if문 기본 구조"
      ],
      "metadata": {
        "id": "1Jl3Kh-qMeIx"
      }
    },
    {
      "cell_type": "code",
      "source": [
        "if 조건식:\n",
        "    실행문"
      ],
      "metadata": {
        "id": "cqyvz5HWMdfR"
      },
      "execution_count": null,
      "outputs": []
    },
    {
      "cell_type": "code",
      "source": [
        "# 조건식이 True 면 실행, False면 건너뜀\n",
        "\n",
        "age = 20\n",
        "if age >= 18:\n",
        "    print(\"성인입니다.\")"
      ],
      "metadata": {
        "colab": {
          "base_uri": "https://localhost:8080/"
        },
        "id": "cDAvskUmMkH5",
        "outputId": "6654a15e-6279-46f9-cf3c-397ddaddbfca"
      },
      "execution_count": null,
      "outputs": [
        {
          "output_type": "stream",
          "name": "stdout",
          "text": [
            "성인입니다.\n"
          ]
        }
      ]
    },
    {
      "cell_type": "markdown",
      "source": [
        "## if-else문"
      ],
      "metadata": {
        "id": "W9mXLuerMu18"
      }
    },
    {
      "cell_type": "code",
      "source": [
        "if 조건식:\n",
        "    실행문1\n",
        "else:\n",
        "    실행문2"
      ],
      "metadata": {
        "id": "K8zT3s_HMw33"
      },
      "execution_count": null,
      "outputs": []
    },
    {
      "cell_type": "code",
      "source": [
        "num = int(input(\"숫자를 입력하세요: \"))\n",
        "\n",
        "if num % 2 == 0:\n",
        "    print(\"짝수입니다.\")\n",
        "else:\n",
        "    print(\"홀수입니다.\")"
      ],
      "metadata": {
        "colab": {
          "base_uri": "https://localhost:8080/"
        },
        "id": "jhTsfOh9M17G",
        "outputId": "2dd64557-9f5a-44f9-969c-7d2985e1da1a"
      },
      "execution_count": null,
      "outputs": [
        {
          "output_type": "stream",
          "name": "stdout",
          "text": [
            "숫자를 입력하세요: 5\n",
            "홀수입니다.\n"
          ]
        }
      ]
    },
    {
      "cell_type": "markdown",
      "source": [
        "## if-elif-else문"
      ],
      "metadata": {
        "id": "kl7f9ewANHDl"
      }
    },
    {
      "cell_type": "code",
      "source": [
        "# 여러 조건을 순서대로 검사할때 사용\n",
        "# 위에서부터 순서대로 검사, 한 번 참이면 나머지는 검사 x\n",
        "\n",
        "score = int(input(\"점수를 입력하세요: \"))\n",
        "\n",
        "if score >= 90:\n",
        "    print(\"A등급\")\n",
        "elif score >= 80:\n",
        "    print(\"B등급\")\n",
        "elif score >= 70:\n",
        "    print(\"C등급\")\n",
        "else:\n",
        "    print(\"D등급\")"
      ],
      "metadata": {
        "colab": {
          "base_uri": "https://localhost:8080/"
        },
        "id": "izC5U1bXNKKJ",
        "outputId": "dfdd7886-36de-42b9-9696-6d9ca2ea915b"
      },
      "execution_count": null,
      "outputs": [
        {
          "output_type": "stream",
          "name": "stdout",
          "text": [
            "점수를 입력하세요: 67\n",
            "D등급\n"
          ]
        }
      ]
    },
    {
      "cell_type": "markdown",
      "source": [
        "## 중첩 if문"
      ],
      "metadata": {
        "id": "b2AwSgd8N1A-"
      }
    },
    {
      "cell_type": "code",
      "source": [
        "# if문 안에 if문을 넣을 수 있음\n",
        "\n",
        "age = int(input(\"나이를 입력하세요: \"))\n",
        "gender = input(\"성별을 입력하세요(M/F): \")\n",
        "\n",
        "if age >= 18:\n",
        "  if gender == \"M\":\n",
        "      print(\"성인 남성입니다.\")\n",
        "  else:\n",
        "      print(\"성인 여성입니다.\")\n",
        "else:\n",
        "    print(\"미성년자입니다.\")"
      ],
      "metadata": {
        "colab": {
          "base_uri": "https://localhost:8080/"
        },
        "id": "Mmkj30j5N3Z1",
        "outputId": "bd5984b3-1a7e-461a-cb51-f2450bd95df9"
      },
      "execution_count": null,
      "outputs": [
        {
          "output_type": "stream",
          "name": "stdout",
          "text": [
            "나이를 입력하세요: 23\n",
            "성별을 입력하세요(M/F): M\n",
            "성인 남성입니다.\n"
          ]
        }
      ]
    },
    {
      "cell_type": "markdown",
      "source": [
        "## 논리 연산자 (and, or, not)"
      ],
      "metadata": {
        "id": "_D8v9vIOOZqm"
      }
    },
    {
      "cell_type": "code",
      "source": [
        "# and -> 두 조건이 모두 참 ex) x > 0 and x < 10\n",
        "# or -> 둘 중 하나라도 참 ex) x < 0 or x > 10\n",
        "# not -> 참 <-> 거짓 반전 ex) not True -> False\n",
        "\n",
        "num = 7\n",
        "if num > 0 and num < 10:\n",
        "    print(\"1자리 양수입니다.\")"
      ],
      "metadata": {
        "colab": {
          "base_uri": "https://localhost:8080/"
        },
        "id": "WUDdi3RUOY4a",
        "outputId": "de2af31d-75e3-4a76-8084-141ae3385bea"
      },
      "execution_count": null,
      "outputs": [
        {
          "output_type": "stream",
          "name": "stdout",
          "text": [
            "1자리 양수입니다.\n"
          ]
        }
      ]
    },
    {
      "cell_type": "markdown",
      "source": [
        "## 실습 미션"
      ],
      "metadata": {
        "id": "goHKeFgkO_AH"
      }
    },
    {
      "cell_type": "code",
      "source": [
        "# 실습 1: 성적 판별 프로그램\n",
        "\n",
        "score = int(input(\"점수를 입력하세요: \"))\n",
        "\n",
        "if score >= 90:\n",
        "    print(\"A\")\n",
        "elif score >= 80:\n",
        "    print(\"B\")\n",
        "elif score >= 70:\n",
        "    print(\"C\")\n",
        "else:\n",
        "    print(\"F\")"
      ],
      "metadata": {
        "colab": {
          "base_uri": "https://localhost:8080/"
        },
        "id": "zYCPvieqO9xF",
        "outputId": "bebf6f78-4a22-4bcd-bea5-a0c384ba5459"
      },
      "execution_count": null,
      "outputs": [
        {
          "output_type": "stream",
          "name": "stdout",
          "text": [
            "점수를 입력하세요: 78\n",
            "C\n"
          ]
        }
      ]
    },
    {
      "cell_type": "code",
      "source": [
        "# 실습 2 : 로그인 프로그램\n",
        "\n",
        "id = input(\"ID 입력: \")\n",
        "pw = input(\"비밀번호 입력: \")\n",
        "\n",
        "if id == \"Sirius\" and pw == \"1234\":\n",
        "    print(\"로그인 성공!\")\n",
        "else:\n",
        "    print(\"로그인 실패!\")"
      ],
      "metadata": {
        "colab": {
          "base_uri": "https://localhost:8080/"
        },
        "id": "r7Y8m6MFRMW2",
        "outputId": "458bef09-a1e5-4c5a-cb12-8d7f8f2f6077"
      },
      "execution_count": null,
      "outputs": [
        {
          "output_type": "stream",
          "name": "stdout",
          "text": [
            "ID 입력: Sirius\n",
            "비밀번호 입력: 1234\n",
            "로그인 성공!\n"
          ]
        }
      ]
    },
    {
      "cell_type": "code",
      "source": [
        "# 실습 3 : 양수/음수/0 판별\n",
        "\n",
        "num = int(input(\"숫자를 입력하세요: \"))\n",
        "\n",
        "if num > 0:\n",
        "    print(\"양수\")\n",
        "elif num < 0:\n",
        "    print(\"음수\")\n",
        "else:\n",
        "    print(\"0입니다.\")"
      ],
      "metadata": {
        "colab": {
          "base_uri": "https://localhost:8080/"
        },
        "id": "vbpGble8WWvy",
        "outputId": "4c83efe0-cc95-4139-fc04-9e687b34736d"
      },
      "execution_count": null,
      "outputs": [
        {
          "output_type": "stream",
          "name": "stdout",
          "text": [
            "숫자를 입력하세요: 20\n",
            "양수\n"
          ]
        }
      ]
    },
    {
      "cell_type": "markdown",
      "source": [
        "# Day 5: 반복문(for, while)"
      ],
      "metadata": {
        "id": "ks0Or6aohF7R"
      }
    },
    {
      "cell_type": "markdown",
      "source": [
        "## for문 - 정해진 횟수만큼 반복"
      ],
      "metadata": {
        "id": "iUsFUoaLhNS5"
      }
    },
    {
      "cell_type": "code",
      "source": [
        "for 변수 in 반복할_객체:\n",
        "    실행문"
      ],
      "metadata": {
        "id": "FKouw3OQhVzs"
      },
      "execution_count": null,
      "outputs": []
    },
    {
      "cell_type": "code",
      "source": [
        "for i in range(5):\n",
        "    print(\"Hello\", i)"
      ],
      "metadata": {
        "colab": {
          "base_uri": "https://localhost:8080/"
        },
        "id": "ScyFUuLLhaaO",
        "outputId": "e729b570-6dd3-40fd-845a-eefc189fa1b3"
      },
      "execution_count": null,
      "outputs": [
        {
          "output_type": "stream",
          "name": "stdout",
          "text": [
            "Hello 0\n",
            "Hello 1\n",
            "Hello 2\n",
            "Hello 3\n",
            "Hello 4\n"
          ]
        }
      ]
    },
    {
      "cell_type": "markdown",
      "source": [
        "## range() 함수"
      ],
      "metadata": {
        "id": "A30uId3xhoaV"
      }
    },
    {
      "cell_type": "code",
      "source": [
        "# range(n) -> 0부터 n-1까지 range(5) -> 0, 1, 2, 3, 4\n",
        "# range(a, b) -> a부터 b-1까지 range(2, 6) -> 2, 3, 4, 5\n",
        "# range(a, b, c) -> a부터 b-1까지 c 간격으로 -> range(1, 10, 2) -> 1, 3, 5, 7, 9\n",
        "\n",
        "for i in range(1, 6):\n",
        "    print(i, \"번째 반복 중\")"
      ],
      "metadata": {
        "colab": {
          "base_uri": "https://localhost:8080/"
        },
        "id": "BLsk5GKnhd7T",
        "outputId": "bf30ac4a-061a-41d6-e454-446ec02f3da0"
      },
      "execution_count": null,
      "outputs": [
        {
          "output_type": "stream",
          "name": "stdout",
          "text": [
            "1 번째 반복 중\n",
            "2 번째 반복 중\n",
            "3 번째 반복 중\n",
            "4 번째 반복 중\n",
            "5 번째 반복 중\n"
          ]
        }
      ]
    },
    {
      "cell_type": "markdown",
      "source": [
        "## while문 - 조건이 참일 동안 반복문"
      ],
      "metadata": {
        "id": "uItR5N-7iLDS"
      }
    },
    {
      "cell_type": "code",
      "source": [
        "while 조건식:\n",
        "    실행문"
      ],
      "metadata": {
        "id": "i1ningfoiE85"
      },
      "execution_count": null,
      "outputs": []
    },
    {
      "cell_type": "code",
      "source": [
        "count = 1\n",
        "while count <= 5:\n",
        "    print(\"현재 카운트: \", count)\n",
        "    count += 1"
      ],
      "metadata": {
        "colab": {
          "base_uri": "https://localhost:8080/"
        },
        "id": "DlYxKEzHiRsk",
        "outputId": "f504132a-12e0-4a1c-91fe-31e3800a2e99"
      },
      "execution_count": null,
      "outputs": [
        {
          "output_type": "stream",
          "name": "stdout",
          "text": [
            "현재 카운트:  1\n",
            "현재 카운트:  2\n",
            "현재 카운트:  3\n",
            "현재 카운트:  4\n",
            "현재 카운트:  5\n"
          ]
        }
      ]
    },
    {
      "cell_type": "markdown",
      "source": [
        "## break & continue"
      ],
      "metadata": {
        "id": "BuHvABq-ibvD"
      }
    },
    {
      "cell_type": "code",
      "source": [
        "# break -> 반복 종료\n",
        "\n",
        "for i in range(1, 10):\n",
        "  if i == 5:\n",
        "      break\n",
        "  print(i)"
      ],
      "metadata": {
        "colab": {
          "base_uri": "https://localhost:8080/"
        },
        "id": "FrZkwsuGiZHO",
        "outputId": "5cb05f03-fc68-4696-c3ec-a99c6c1e3ac6"
      },
      "execution_count": null,
      "outputs": [
        {
          "output_type": "stream",
          "name": "stdout",
          "text": [
            "1\n",
            "2\n",
            "3\n",
            "4\n"
          ]
        }
      ]
    },
    {
      "cell_type": "code",
      "source": [
        "# continue -> 현재 반복 건너뛰기\n",
        "\n",
        "for i in range(1, 6):\n",
        "    if i == 3:\n",
        "        continue\n",
        "    print(i)"
      ],
      "metadata": {
        "colab": {
          "base_uri": "https://localhost:8080/"
        },
        "id": "TAEKgILYinJH",
        "outputId": "a4521ce5-f5ac-4c00-f63b-dceac9dc5fb7"
      },
      "execution_count": null,
      "outputs": [
        {
          "output_type": "stream",
          "name": "stdout",
          "text": [
            "1\n",
            "2\n",
            "4\n",
            "5\n"
          ]
        }
      ]
    },
    {
      "cell_type": "markdown",
      "source": [
        "## 중첩 반복문"
      ],
      "metadata": {
        "id": "aIfKmYfCizyH"
      }
    },
    {
      "cell_type": "code",
      "source": [
        "# 반복문 안에 또 반복문 넣을 수 있음\n",
        "\n",
        "for i in range(3):\n",
        "    for j in range(2):\n",
        "        print(i, j)"
      ],
      "metadata": {
        "colab": {
          "base_uri": "https://localhost:8080/"
        },
        "id": "L855KUlHiyI3",
        "outputId": "7d4b713f-d67c-4d0e-8d00-2b25546284b0"
      },
      "execution_count": null,
      "outputs": [
        {
          "output_type": "stream",
          "name": "stdout",
          "text": [
            "0 0\n",
            "0 1\n",
            "1 0\n",
            "1 1\n",
            "2 0\n",
            "2 1\n"
          ]
        }
      ]
    },
    {
      "cell_type": "markdown",
      "source": [
        "## 실습 미션"
      ],
      "metadata": {
        "id": "jNmr2zHUjCMA"
      }
    },
    {
      "cell_type": "code",
      "source": [
        "# 실습1 : 1 부터 10까지의 합 구하기\n",
        "\n",
        "total = 0\n",
        "for i in range(1, 11):\n",
        "    total += i\n",
        "print(\"합계: \", total)"
      ],
      "metadata": {
        "colab": {
          "base_uri": "https://localhost:8080/"
        },
        "id": "SQjfMFe8i9Eu",
        "outputId": "2df3634e-8ed6-461c-9e59-0b6987ef823a"
      },
      "execution_count": null,
      "outputs": [
        {
          "output_type": "stream",
          "name": "stdout",
          "text": [
            "합계:  55\n"
          ]
        }
      ]
    },
    {
      "cell_type": "code",
      "source": [
        "# 실습 2: 구구단 출력(2단만)\n",
        "\n",
        "for i in range(1, 10):\n",
        "    print(\"2 x\", i, \"=\", 2 * i)"
      ],
      "metadata": {
        "colab": {
          "base_uri": "https://localhost:8080/"
        },
        "id": "SC_d7YMVjP1r",
        "outputId": "b2c157f6-7492-44b5-ffcf-37e95bddb825"
      },
      "execution_count": null,
      "outputs": [
        {
          "output_type": "stream",
          "name": "stdout",
          "text": [
            "2 x 1 = 2\n",
            "2 x 2 = 4\n",
            "2 x 3 = 6\n",
            "2 x 4 = 8\n",
            "2 x 5 = 10\n",
            "2 x 6 = 12\n",
            "2 x 7 = 14\n",
            "2 x 8 = 16\n",
            "2 x 9 = 18\n"
          ]
        }
      ]
    },
    {
      "cell_type": "code",
      "source": [
        "# 실습 3: while문으로 1~5 출력\n",
        "\n",
        "num = 1\n",
        "while num <= 5:\n",
        "    print(num)\n",
        "    num += 1"
      ],
      "metadata": {
        "colab": {
          "base_uri": "https://localhost:8080/"
        },
        "id": "edwW30AfjaTo",
        "outputId": "cd58376b-e780-408d-8bdc-2cd297a6d362"
      },
      "execution_count": null,
      "outputs": [
        {
          "output_type": "stream",
          "name": "stdout",
          "text": [
            "1\n",
            "2\n",
            "3\n",
            "4\n",
            "5\n"
          ]
        }
      ]
    },
    {
      "cell_type": "markdown",
      "source": [
        "# Day 6: 반복문 응용 (합계, 중첩, 패턴)"
      ],
      "metadata": {
        "id": "ousyxz3q2dIa"
      }
    },
    {
      "cell_type": "markdown",
      "source": [
        "## 누적합 (총합 구하기)"
      ],
      "metadata": {
        "id": "KQRTZwuN2mxm"
      }
    },
    {
      "cell_type": "code",
      "source": [
        "total = 0\n",
        "for i in range(1, 11):\n",
        "    total += i\n",
        "print(\"1부터 10까지의 합: \", total)"
      ],
      "metadata": {
        "id": "VJ5R5noZjkaf",
        "colab": {
          "base_uri": "https://localhost:8080/"
        },
        "outputId": "7e3f6e3a-8ea8-4b64-8bf8-2d8053d5ffce"
      },
      "execution_count": null,
      "outputs": [
        {
          "output_type": "stream",
          "name": "stdout",
          "text": [
            "1부터 10까지의 합:  55\n"
          ]
        }
      ]
    },
    {
      "cell_type": "markdown",
      "source": [
        "## 짝수의 합 / 홀수의 합"
      ],
      "metadata": {
        "id": "i-N32dsv28Z8"
      }
    },
    {
      "cell_type": "code",
      "source": [
        "even_sum = 0\n",
        "odd_sum = 0\n",
        "\n",
        "for i in range(1, 11):\n",
        "    if i % 2 == 0:\n",
        "        even_sum += i\n",
        "    else:\n",
        "        odd_sum += i\n",
        "\n",
        "print(\"짝수 합: \", even_sum)\n",
        "print(\"홀수 합: \", odd_sum)"
      ],
      "metadata": {
        "colab": {
          "base_uri": "https://localhost:8080/"
        },
        "id": "ogFXTjFu25W8",
        "outputId": "a770b118-8e16-4625-f21f-a544776f5722"
      },
      "execution_count": null,
      "outputs": [
        {
          "output_type": "stream",
          "name": "stdout",
          "text": [
            "짝수 합:  30\n",
            "홀수 합:  25\n"
          ]
        }
      ]
    },
    {
      "cell_type": "markdown",
      "source": [
        "## 중첩 for문 (이중 반복)"
      ],
      "metadata": {
        "id": "-I-_kw7-3WPD"
      }
    },
    {
      "cell_type": "code",
      "source": [
        "for i in range(2, 10):\n",
        "    for j in range(1, 10):\n",
        "        print(i, \"x\", j, \"=\", i*j)"
      ],
      "metadata": {
        "colab": {
          "base_uri": "https://localhost:8080/"
        },
        "id": "uJ1gOKtC3RsK",
        "outputId": "30bc6786-b64f-4880-f273-2aaaaa843dd1"
      },
      "execution_count": null,
      "outputs": [
        {
          "output_type": "stream",
          "name": "stdout",
          "text": [
            "2 x 1 = 2\n",
            "2 x 2 = 4\n",
            "2 x 3 = 6\n",
            "2 x 4 = 8\n",
            "2 x 5 = 10\n",
            "2 x 6 = 12\n",
            "2 x 7 = 14\n",
            "2 x 8 = 16\n",
            "2 x 9 = 18\n",
            "3 x 1 = 3\n",
            "3 x 2 = 6\n",
            "3 x 3 = 9\n",
            "3 x 4 = 12\n",
            "3 x 5 = 15\n",
            "3 x 6 = 18\n",
            "3 x 7 = 21\n",
            "3 x 8 = 24\n",
            "3 x 9 = 27\n",
            "4 x 1 = 4\n",
            "4 x 2 = 8\n",
            "4 x 3 = 12\n",
            "4 x 4 = 16\n",
            "4 x 5 = 20\n",
            "4 x 6 = 24\n",
            "4 x 7 = 28\n",
            "4 x 8 = 32\n",
            "4 x 9 = 36\n",
            "5 x 1 = 5\n",
            "5 x 2 = 10\n",
            "5 x 3 = 15\n",
            "5 x 4 = 20\n",
            "5 x 5 = 25\n",
            "5 x 6 = 30\n",
            "5 x 7 = 35\n",
            "5 x 8 = 40\n",
            "5 x 9 = 45\n",
            "6 x 1 = 6\n",
            "6 x 2 = 12\n",
            "6 x 3 = 18\n",
            "6 x 4 = 24\n",
            "6 x 5 = 30\n",
            "6 x 6 = 36\n",
            "6 x 7 = 42\n",
            "6 x 8 = 48\n",
            "6 x 9 = 54\n",
            "7 x 1 = 7\n",
            "7 x 2 = 14\n",
            "7 x 3 = 21\n",
            "7 x 4 = 28\n",
            "7 x 5 = 35\n",
            "7 x 6 = 42\n",
            "7 x 7 = 49\n",
            "7 x 8 = 56\n",
            "7 x 9 = 63\n",
            "8 x 1 = 8\n",
            "8 x 2 = 16\n",
            "8 x 3 = 24\n",
            "8 x 4 = 32\n",
            "8 x 5 = 40\n",
            "8 x 6 = 48\n",
            "8 x 7 = 56\n",
            "8 x 8 = 64\n",
            "8 x 9 = 72\n",
            "9 x 1 = 9\n",
            "9 x 2 = 18\n",
            "9 x 3 = 27\n",
            "9 x 4 = 36\n",
            "9 x 5 = 45\n",
            "9 x 6 = 54\n",
            "9 x 7 = 63\n",
            "9 x 8 = 72\n",
            "9 x 9 = 81\n"
          ]
        }
      ]
    },
    {
      "cell_type": "markdown",
      "source": [
        "## 별(*) 패턴 출력"
      ],
      "metadata": {
        "id": "JMZngzOO3oJ6"
      }
    },
    {
      "cell_type": "code",
      "source": [
        "# 오른쪽 아래 삼각형\n",
        "\n",
        "for i in range(1, 6):\n",
        "    print(\"*\" * i)"
      ],
      "metadata": {
        "colab": {
          "base_uri": "https://localhost:8080/"
        },
        "id": "TbCvzRC43iDX",
        "outputId": "29b9f102-d3eb-4543-a091-43376dd05ad0"
      },
      "execution_count": null,
      "outputs": [
        {
          "output_type": "stream",
          "name": "stdout",
          "text": [
            "*\n",
            "**\n",
            "***\n",
            "****\n",
            "*****\n"
          ]
        }
      ]
    },
    {
      "cell_type": "code",
      "source": [
        "# 역삼각형\n",
        "\n",
        "for i in range(5, 0, -1):\n",
        "    print(\"*\" * i)"
      ],
      "metadata": {
        "colab": {
          "base_uri": "https://localhost:8080/"
        },
        "id": "PugdDsrZ3yhy",
        "outputId": "cadef03c-f088-4d79-ded7-6ea48d8e060c"
      },
      "execution_count": null,
      "outputs": [
        {
          "output_type": "stream",
          "name": "stdout",
          "text": [
            "*****\n",
            "****\n",
            "***\n",
            "**\n",
            "*\n"
          ]
        }
      ]
    },
    {
      "cell_type": "markdown",
      "source": [
        "## while문으로 입력 제어하기"
      ],
      "metadata": {
        "id": "wyl_uVT539X9"
      }
    },
    {
      "cell_type": "code",
      "source": [
        "# 무한루프를 돌다가 `break`로 종료하는 패턴 — 실제 서비스(로그인 시도, 반복 입력 등)에도 자주 쓰임.\n",
        "\n",
        "while True:\n",
        "    num = int(input(\"숫자 입력 (0 입력 시 종료): \"))\n",
        "    if num == 0:\n",
        "        print(\"종료합니다.\")\n",
        "        break\n",
        "    print(\"입력한 숫자: \", num)"
      ],
      "metadata": {
        "colab": {
          "base_uri": "https://localhost:8080/"
        },
        "id": "9F0QnAfl37M-",
        "outputId": "994ea17e-105a-4890-e55c-f62b07f766f1"
      },
      "execution_count": null,
      "outputs": [
        {
          "output_type": "stream",
          "name": "stdout",
          "text": [
            "숫자 입력 (0 입력 시 종료): 20\n",
            "입력한 숫자:  20\n",
            "숫자 입력 (0 입력 시 종료): 0\n",
            "종료합니다.\n"
          ]
        }
      ]
    },
    {
      "cell_type": "markdown",
      "source": [
        "## 실습 미션"
      ],
      "metadata": {
        "id": "GNKnzqjN4j_g"
      }
    },
    {
      "cell_type": "code",
      "source": [
        "# 실습1 : 1~100 사이 3의 배수의 합 구하기\n",
        "\n",
        "total = 0\n",
        "for i in range(1, 101):\n",
        "    if i % 3 == 0:\n",
        "        total += i\n",
        "print(\"3의 배수의 합: \", total)"
      ],
      "metadata": {
        "colab": {
          "base_uri": "https://localhost:8080/"
        },
        "id": "WWDy9OGV4VEO",
        "outputId": "9c080593-e580-4140-ae49-0a504774a44f"
      },
      "execution_count": null,
      "outputs": [
        {
          "output_type": "stream",
          "name": "stdout",
          "text": [
            "3의 배수의 합:  1683\n"
          ]
        }
      ]
    },
    {
      "cell_type": "code",
      "source": [
        "# 실습 2 : 구구단 3단 출력\n",
        "\n",
        "for i in range(1, 10):\n",
        "    print(\"3 x\", i, \"=\", 3 * i)"
      ],
      "metadata": {
        "colab": {
          "base_uri": "https://localhost:8080/"
        },
        "id": "zsmJkdE240Ni",
        "outputId": "55d54728-3014-467c-f2a3-72c3136155de"
      },
      "execution_count": null,
      "outputs": [
        {
          "output_type": "stream",
          "name": "stdout",
          "text": [
            "3 x 1 = 3\n",
            "3 x 2 = 6\n",
            "3 x 3 = 9\n",
            "3 x 4 = 12\n",
            "3 x 5 = 15\n",
            "3 x 6 = 18\n",
            "3 x 7 = 21\n",
            "3 x 8 = 24\n",
            "3 x 9 = 27\n"
          ]
        }
      ]
    },
    {
      "cell_type": "code",
      "source": [
        "# 실습 3: 별 피라미드 출력\n",
        "\n",
        "for i in range(1, 6):\n",
        "    print(\" \" * (5 - i) + \"*\" * (2 * i - 1))"
      ],
      "metadata": {
        "colab": {
          "base_uri": "https://localhost:8080/"
        },
        "id": "zE4cjdlu480l",
        "outputId": "1fede0a6-e196-441d-f0e9-5573709a2f83"
      },
      "execution_count": null,
      "outputs": [
        {
          "output_type": "stream",
          "name": "stdout",
          "text": [
            "    *\n",
            "   ***\n",
            "  *****\n",
            " *******\n",
            "*********\n"
          ]
        }
      ]
    },
    {
      "cell_type": "markdown",
      "source": [
        "# Day 7: 함수 (def, return, 매개변수)"
      ],
      "metadata": {
        "id": "t0z59nMf6vHR"
      }
    },
    {
      "cell_type": "markdown",
      "source": [
        "## 함수 기본 구조"
      ],
      "metadata": {
        "id": "1A5fPFiN63ft"
      }
    },
    {
      "cell_type": "code",
      "source": [
        "def 함수이름():\n",
        "    실행문"
      ],
      "metadata": {
        "id": "A5p0AuFb5LwV"
      },
      "execution_count": null,
      "outputs": []
    },
    {
      "cell_type": "code",
      "source": [
        "# 예시\n",
        "\n",
        "def greeting():\n",
        "    print(\"안녕하세요!\")\n",
        "    print(\"오늘도 좋은 하루 되세요 :)\")\n",
        "\n",
        "greeting()"
      ],
      "metadata": {
        "colab": {
          "base_uri": "https://localhost:8080/"
        },
        "id": "uT1p6hNk68_i",
        "outputId": "83f9bb63-9592-4887-9bfd-8a9dce74cdbe"
      },
      "execution_count": null,
      "outputs": [
        {
          "output_type": "stream",
          "name": "stdout",
          "text": [
            "안녕하세요!\n",
            "오늘도 좋은 하루 되세요 :)\n"
          ]
        }
      ]
    },
    {
      "cell_type": "markdown",
      "source": [
        "## 매개변수(Parameter)"
      ],
      "metadata": {
        "id": "QhMR0O9k7N8K"
      }
    },
    {
      "cell_type": "code",
      "source": [
        "# 매개변수는 함수가 받아들이는 값\n",
        "\n",
        "def introduce(name):\n",
        "    print(\"안녕하세요,\", name, \"님!\")\n",
        "\n",
        "    introduce(\"유성\")\n",
        "    introduce(\"Sirius\")"
      ],
      "metadata": {
        "id": "jtoqZwEf7Gu8"
      },
      "execution_count": null,
      "outputs": []
    },
    {
      "cell_type": "markdown",
      "source": [
        "## 반환값(Return)"
      ],
      "metadata": {
        "id": "VDxKWqM37huP"
      }
    },
    {
      "cell_type": "code",
      "source": [
        "# return은 함수가 \"결과값을 돌려주는\" 명령어\n",
        "# print()와 달리, return은 함수를 끝내면서 값을 내보냄\n",
        "\n",
        "def add(a, b):\n",
        "      return a + b\n",
        "\n",
        "result = add(3, 5)\n",
        "print(\"결과: \", result)"
      ],
      "metadata": {
        "colab": {
          "base_uri": "https://localhost:8080/"
        },
        "id": "2Gtg2V847bOn",
        "outputId": "9de521db-aa27-49a3-a06f-4ebb74ed4f3f"
      },
      "execution_count": null,
      "outputs": [
        {
          "output_type": "stream",
          "name": "stdout",
          "text": [
            "결과:  8\n"
          ]
        }
      ]
    },
    {
      "cell_type": "markdown",
      "source": [
        "## 여러 개의 매개변수와 반환"
      ],
      "metadata": {
        "id": "hQlp5nGG77N3"
      }
    },
    {
      "cell_type": "code",
      "source": [
        "# return으로 여러 값을 튜플 행태로 반환 가능\n",
        "\n",
        "def calc(a, b):\n",
        "    plus = a + b\n",
        "    minus = a - b\n",
        "    return plus, minus\n",
        "\n",
        "x, y = calc(10, 5)\n",
        "print(\"덧셈: \", x)\n",
        "print(\"뺄셈: \", y)"
      ],
      "metadata": {
        "colab": {
          "base_uri": "https://localhost:8080/"
        },
        "id": "W51p_iI37tuo",
        "outputId": "1b0a9441-97d8-4b61-b23e-db58db5a023a"
      },
      "execution_count": null,
      "outputs": [
        {
          "output_type": "stream",
          "name": "stdout",
          "text": [
            "덧셈:  15\n",
            "뺄셈:  5\n"
          ]
        }
      ]
    },
    {
      "cell_type": "markdown",
      "source": [
        "## 매개변수 기본값(Default Parameter)"
      ],
      "metadata": {
        "id": "KINML2vx8dEh"
      }
    },
    {
      "cell_type": "code",
      "source": [
        "# 인자를 안 넣으면 기본값이 사용됨\n",
        "\n",
        "def greet(name=\"손님\"):\n",
        "    print(\"안녕하세요,\", name, \"님!\")\n",
        "\n",
        "greet()\n",
        "greet(\"유성\")"
      ],
      "metadata": {
        "colab": {
          "base_uri": "https://localhost:8080/"
        },
        "id": "aOm4-t3G8Mg0",
        "outputId": "b8914795-1d34-4071-c478-6ddaf8a23f21"
      },
      "execution_count": null,
      "outputs": [
        {
          "output_type": "stream",
          "name": "stdout",
          "text": [
            "안녕하세요, 손님 님!\n",
            "안녕하세요, 유성 님!\n"
          ]
        }
      ]
    },
    {
      "cell_type": "markdown",
      "source": [
        "## 함수의 흐름 이해하기"
      ],
      "metadata": {
        "id": "tS6fQpd-895S"
      }
    },
    {
      "cell_type": "code",
      "source": [
        "# 함수는 정의 -> 호출 -> 반환 순으로 동작\n",
        "\n",
        "def square(num):\n",
        "    return num ** 2\n",
        "\n",
        "x = square(5)\n",
        "print(x) # 25"
      ],
      "metadata": {
        "colab": {
          "base_uri": "https://localhost:8080/"
        },
        "id": "C5vmf2eN9Arr",
        "outputId": "d0075e31-81b7-490b-d24d-bbff5db0b44f"
      },
      "execution_count": null,
      "outputs": [
        {
          "output_type": "stream",
          "name": "stdout",
          "text": [
            "25\n"
          ]
        }
      ]
    },
    {
      "cell_type": "markdown",
      "source": [
        "## 실습 미션"
      ],
      "metadata": {
        "id": "osA5wjk59PIs"
      }
    },
    {
      "cell_type": "code",
      "source": [
        "# 실습 1: 인사 함수\n",
        "\n",
        "def hello(name):\n",
        "      print(\"안녕허세요,\", name, \"님!\")\n",
        "\n",
        "hello(\"유성\")"
      ],
      "metadata": {
        "colab": {
          "base_uri": "https://localhost:8080/"
        },
        "id": "1FXDqkRG9HuC",
        "outputId": "c12665a9-fef2-4b8b-960b-104e2f1516c8"
      },
      "execution_count": null,
      "outputs": [
        {
          "output_type": "stream",
          "name": "stdout",
          "text": [
            "안녕허세요, 유성 님!\n"
          ]
        }
      ]
    },
    {
      "cell_type": "code",
      "source": [
        "# 실습 2 : 덧셈 함수\n",
        "\n",
        "def add(a, b):\n",
        "      result = a + b\n",
        "      return result\n",
        "\n",
        "print(\"결과: \", add(3, 7))"
      ],
      "metadata": {
        "colab": {
          "base_uri": "https://localhost:8080/"
        },
        "id": "LyPN-g-Y9ar8",
        "outputId": "8bfc9c79-f0e4-4741-e44d-cd3aee19823c"
      },
      "execution_count": null,
      "outputs": [
        {
          "output_type": "stream",
          "name": "stdout",
          "text": [
            "결과:  10\n"
          ]
        }
      ]
    },
    {
      "cell_type": "code",
      "source": [
        "# 실습 3: 짝수인지 판별하는 함수\n",
        "\n",
        "\n",
        "def is_even(num):\n",
        "      if num % 2 == 0:\n",
        "            return True\n",
        "      else:\n",
        "            return False\n",
        "\n",
        "print(is_even(4))\n",
        "print(is_even(5))"
      ],
      "metadata": {
        "colab": {
          "base_uri": "https://localhost:8080/"
        },
        "id": "vkazy63h9kB7",
        "outputId": "3a53f524-0ef2-41dc-a062-d9783c7c189f"
      },
      "execution_count": null,
      "outputs": [
        {
          "output_type": "stream",
          "name": "stdout",
          "text": [
            "True\n",
            "False\n"
          ]
        }
      ]
    },
    {
      "cell_type": "markdown",
      "source": [
        "# Day 8: 함수 응용 & 모듈(import)"
      ],
      "metadata": {
        "id": "4zPNbhYyYfUU"
      }
    },
    {
      "cell_type": "markdown",
      "source": [
        "## 내장함수 (Built-in Functions)"
      ],
      "metadata": {
        "id": "ot36EePYYqEE"
      }
    },
    {
      "cell_type": "code",
      "source": [
        "# | 함수 | 설명 | 예시 |\n",
        "# | `len()` | 길이 | `len(\"apple\") → 5` |\n",
        "# | `sum()` | 합계 | `sum([1,2,3]) → 6` |\n",
        "# | `max()` | 최댓값 | `max([10,20,5]) → 20` |\n",
        "# | `min()` | 최솟값 | `min([10,20,5]) → 5` |\n",
        "# | `round()` | 반올림 | `round(3.14159, 2) → 3.14` |\n",
        "# | `type()` | 자료형 확인 | `type(10) → int` |\n",
        "\n",
        "nums = [3, 7, 2, 9]\n",
        "print(\"합계: \", sum(nums))\n",
        "print(\"최댓값: \", max(nums))\n",
        "print(\"평균: \", sum(nums) / len(nums))"
      ],
      "metadata": {
        "id": "9tup18Vm91bb",
        "colab": {
          "base_uri": "https://localhost:8080/"
        },
        "outputId": "09b713d5-a153-44b6-f186-29e9bccf781a"
      },
      "execution_count": null,
      "outputs": [
        {
          "output_type": "stream",
          "name": "stdout",
          "text": [
            "합계:  21\n",
            "최댓값:  9\n",
            "평균:  5.25\n"
          ]
        }
      ]
    },
    {
      "cell_type": "markdown",
      "source": [
        "##모듈(Module)이란?"
      ],
      "metadata": {
        "id": "znrTL3hcZIcr"
      }
    },
    {
      "cell_type": "code",
      "source": [
        "# 미리 만들어진 파이썬 파일(.py)을 불러와서 사용하는 것\n",
        "\n",
        "import math\n",
        "print(math.sqrt(25)) # 제곱근 -> 5.0"
      ],
      "metadata": {
        "colab": {
          "base_uri": "https://localhost:8080/"
        },
        "id": "rNfhROtOZFsC",
        "outputId": "fd8ee51f-e81d-44fb-9d08-ffce79b3c8b8"
      },
      "execution_count": null,
      "outputs": [
        {
          "output_type": "stream",
          "name": "stdout",
          "text": [
            "5.0\n"
          ]
        }
      ]
    },
    {
      "cell_type": "markdown",
      "source": [
        "## import 방식 3가지"
      ],
      "metadata": {
        "id": "g_rknVo-ZY77"
      }
    },
    {
      "cell_type": "code",
      "source": [
        "# 전체 모듈 가져오기\n",
        "\n",
        "import math\n",
        "print(math.pi)"
      ],
      "metadata": {
        "colab": {
          "base_uri": "https://localhost:8080/"
        },
        "id": "AflB4tMTZX2T",
        "outputId": "c991c7e4-ee6a-45f2-fe95-99a46254e3a6"
      },
      "execution_count": null,
      "outputs": [
        {
          "output_type": "stream",
          "name": "stdout",
          "text": [
            "3.141592653589793\n"
          ]
        }
      ]
    },
    {
      "cell_type": "code",
      "source": [
        "# 모듈에서 특정 함수만 가져오기\n",
        "\n",
        "from math import sqrt, pi\n",
        "print(sqrt(16), pi)"
      ],
      "metadata": {
        "colab": {
          "base_uri": "https://localhost:8080/"
        },
        "id": "tzrYmGP2Zl7u",
        "outputId": "21426664-bdc0-4ba0-c811-15c8b9ceeea9"
      },
      "execution_count": null,
      "outputs": [
        {
          "output_type": "stream",
          "name": "stdout",
          "text": [
            "4.0 3.141592653589793\n"
          ]
        }
      ]
    },
    {
      "cell_type": "code",
      "source": [
        "# 별명(alias) 지정하기\n",
        "\n",
        "import math as m\n",
        "print(m.floor(3.7))"
      ],
      "metadata": {
        "colab": {
          "base_uri": "https://localhost:8080/"
        },
        "id": "s3dCf3JhZxJc",
        "outputId": "1ee2ae86-a4a1-4f47-9ba3-2b44135fb413"
      },
      "execution_count": null,
      "outputs": [
        {
          "output_type": "stream",
          "name": "stdout",
          "text": [
            "3\n"
          ]
        }
      ]
    },
    {
      "cell_type": "markdown",
      "source": [
        "## math 모듈 주요 함수"
      ],
      "metadata": {
        "id": "MHL_NNfzZ-oZ"
      }
    },
    {
      "cell_type": "code",
      "source": [
        "# | 함수 | 설명 | 예시 |\n",
        "# | `math.sqrt(x)` | 제곱근 | 16 → 4.0 |\n",
        "# | `math.pow(a,b)` | a의 b제곱 | 2,3 → 8 |\n",
        "# | `math.ceil(x)` | 올림 | 3.2 → 4 |\n",
        "# | `math.floor(x)` | 내림 | 3.7 → 3 |\n",
        "# | `math.pi` | 원주율 | 3.14159 |\n",
        "\n",
        "import math\n",
        "print(math.ceil(3.1))\n",
        "print(math.floor(3.9))\n",
        "print(math.pow(2, 3))\n",
        "print(math.pi)"
      ],
      "metadata": {
        "colab": {
          "base_uri": "https://localhost:8080/"
        },
        "id": "hpzVp0N7Z-d_",
        "outputId": "3d88c77f-eea4-4df3-a5c7-dbe96b71b256"
      },
      "execution_count": null,
      "outputs": [
        {
          "output_type": "stream",
          "name": "stdout",
          "text": [
            "4\n",
            "3\n",
            "8.0\n",
            "3.141592653589793\n"
          ]
        }
      ]
    },
    {
      "cell_type": "markdown",
      "source": [
        "## random 모듈 (난수 생성)"
      ],
      "metadata": {
        "id": "XQ-jtKG3aU31"
      }
    },
    {
      "cell_type": "code",
      "source": [
        "import random\n",
        "\n",
        "print(random.randint(1, 10)) # 1~10 사이 정수\n",
        "print(random.choice([\"apple\", \"banana\", \"cherry\"])) # 리스트 중 랜덤 선택"
      ],
      "metadata": {
        "colab": {
          "base_uri": "https://localhost:8080/"
        },
        "id": "LaoTaKzSaSaF",
        "outputId": "b57f634e-95db-4a9c-8a12-6d36947f577c"
      },
      "execution_count": null,
      "outputs": [
        {
          "output_type": "stream",
          "name": "stdout",
          "text": [
            "5\n",
            "cherry\n"
          ]
        }
      ]
    },
    {
      "cell_type": "code",
      "source": [
        "# ex) 랜덤 숫자 게임\n",
        "\n",
        "import random\n",
        "\n",
        "num = random.randint(1, 5)\n",
        "guess = int(input(\"1~5 중 숫자를 맞혀보세요: \"))\n",
        "\n",
        "if num == guess:\n",
        "    print(\"정답\")\n",
        "else:\n",
        "    print(\"틀렸어요. 정답은\", num)"
      ],
      "metadata": {
        "colab": {
          "base_uri": "https://localhost:8080/"
        },
        "id": "UIH5ldMGalwf",
        "outputId": "b8f09be8-b1bc-4114-877d-b1172abefc47"
      },
      "execution_count": null,
      "outputs": [
        {
          "output_type": "stream",
          "name": "stdout",
          "text": [
            "1~5 중 숫자를 맞혀보세요: 5\n",
            "정답\n"
          ]
        }
      ]
    },
    {
      "cell_type": "markdown",
      "source": [
        "## 실습 미션"
      ],
      "metadata": {
        "id": "TaLoml93bBDe"
      }
    },
    {
      "cell_type": "code",
      "source": [
        "# 실습 1: 리스트 평균 구하기\n",
        "\n",
        "nums = [10, 20, 30, 40, 50]\n",
        "avg = sum(nums) / len(nums)\n",
        "print(\"평균: \", avg)"
      ],
      "metadata": {
        "colab": {
          "base_uri": "https://localhost:8080/"
        },
        "id": "PHUzsHqXa-P7",
        "outputId": "5063641d-492a-43dd-a005-a9dabeef01fb"
      },
      "execution_count": null,
      "outputs": [
        {
          "output_type": "stream",
          "name": "stdout",
          "text": [
            "평균:  30.0\n"
          ]
        }
      ]
    },
    {
      "cell_type": "code",
      "source": [
        "# 실습 2 : 반올림 출력\n",
        "\n",
        "num = 3.14159\n",
        "print(round(num, 2))"
      ],
      "metadata": {
        "colab": {
          "base_uri": "https://localhost:8080/"
        },
        "id": "c62RnFQYbMps",
        "outputId": "edc91b9b-09d0-425d-8dea-e3025f9282bf"
      },
      "execution_count": null,
      "outputs": [
        {
          "output_type": "stream",
          "name": "stdout",
          "text": [
            "3.14\n"
          ]
        }
      ]
    },
    {
      "cell_type": "code",
      "source": [
        "# 실습 3: 랜덤 주사위 시뮬레이터\n",
        "\n",
        "import random\n",
        "\n",
        "for i in range(5):\n",
        "      print(\"🎲 주사위:\", random.randint(1, 6))"
      ],
      "metadata": {
        "colab": {
          "base_uri": "https://localhost:8080/"
        },
        "id": "X1HSeFv1bV0N",
        "outputId": "a4e9a877-cd7d-4349-c729-104c1cf78515"
      },
      "execution_count": null,
      "outputs": [
        {
          "output_type": "stream",
          "name": "stdout",
          "text": [
            "🎲 주사위: 6\n",
            "🎲 주사위: 2\n",
            "🎲 주사위: 1\n",
            "🎲 주사위: 4\n",
            "🎲 주사위: 1\n"
          ]
        }
      ]
    },
    {
      "cell_type": "markdown",
      "source": [
        "# Day 9: 리스트 & 딕셔너리 응용 (함수와 함께 쓰기)"
      ],
      "metadata": {
        "id": "ZpbS9tFJxQ9g"
      }
    },
    {
      "cell_type": "markdown",
      "source": [
        "## 리스트 관련 함수 정리"
      ],
      "metadata": {
        "id": "s8LHW_2IxXmw"
      }
    },
    {
      "cell_type": "code",
      "source": [
        "# | 함수 | 설명 | 예시 |\n",
        "# | --- | --- | --- |\n",
        "# | `append(x)` | 맨 뒤에 추가 | `[1,2].append(3)` → `[1,2,3]` |\n",
        "# | `insert(i, x)` | i번째 위치에 추가 | `[1,2].insert(1,5)` → `[1,5,2]` |\n",
        "# | `remove(x)` | 해당 값 제거 | `[1,2,3].remove(2)` → `[1,3]` |\n",
        "# | `sort()` | 오름차순 정렬 | `[3,1,2].sort()` → `[1,2,3]` |\n",
        "# | `reverse()` | 순서 뒤집기 | `[1,2,3].reverse()` → `[3,2,1]` |\n",
        "\n",
        "fruits = [\"banana\", \"apple\", \"cherry\"]\n",
        "fruits.sort()\n",
        "print(fruits)"
      ],
      "metadata": {
        "id": "IWrd8rt7bnNN",
        "colab": {
          "base_uri": "https://localhost:8080/"
        },
        "outputId": "f8b5fecc-8f19-485e-fb11-a039a8423160"
      },
      "execution_count": 1,
      "outputs": [
        {
          "output_type": "stream",
          "name": "stdout",
          "text": [
            "['apple', 'banana', 'cherry']\n"
          ]
        }
      ]
    },
    {
      "cell_type": "markdown",
      "source": [
        "## 리스트와 함수 함께 사용하기"
      ],
      "metadata": {
        "id": "54KCNjemxqhJ"
      }
    },
    {
      "cell_type": "code",
      "source": [
        "# 함수 안에 리스트를 전달하고, 합계나 평균 계산 가능.\n",
        "\n",
        "def get_average(scores):\n",
        "    return sum(scores) / len(scores)\n",
        "\n",
        "    numbers = [80, 90, 100, 70, 85]\n",
        "    print(\"평균: \", get_average(numbers))"
      ],
      "metadata": {
        "id": "BpwJVkfrxn9K"
      },
      "execution_count": 3,
      "outputs": []
    },
    {
      "cell_type": "markdown",
      "source": [
        "## 딕셔너리(Dictionary) 응용"
      ],
      "metadata": {
        "id": "657_9Swbx_zY"
      }
    },
    {
      "cell_type": "code",
      "source": [
        "# | 함수 | 설명 | 예시 |\n",
        "# | --- | --- | --- |\n",
        "# | `keys()` | 키 목록 반환 | `dict.keys()` |\n",
        "# | `values()` | 값 목록 반환 | `dict.values()` |\n",
        "# | `items()` | (키, 값) 쌍 반환 | `dict.items()` |\n",
        "# | `get(key)` | 키의 값 반환 | `d.get(\"name\")` |\n",
        "\n",
        "student = {\"name\" : \"Sirius\", \"age\": 23, \"major\" : \"IT\"}\n",
        "print(student[\"name\"])\n",
        "print(student.get(\"age\"))\n",
        "print(student.keys())"
      ],
      "metadata": {
        "colab": {
          "base_uri": "https://localhost:8080/"
        },
        "id": "9-0oj1hex7Q-",
        "outputId": "748b7099-ba7d-41f7-b9a2-17f4905ac95f"
      },
      "execution_count": 4,
      "outputs": [
        {
          "output_type": "stream",
          "name": "stdout",
          "text": [
            "Sirius\n",
            "23\n",
            "dict_keys(['name', 'age', 'major'])\n"
          ]
        }
      ]
    },
    {
      "cell_type": "markdown",
      "source": [
        "## 딕셔너리와 함수 결합"
      ],
      "metadata": {
        "id": "9XDUYGzUyqzL"
      }
    },
    {
      "cell_type": "code",
      "source": [
        "# 함수에 딕셔너리 전달해서 정보 출력 가능.\n",
        "\n",
        "def introduce(person):\n",
        "    print(\"이름: \", person[\"name\"])\n",
        "    print(\"나이:\", person[\"age\"])\n",
        "    print(\"전공: \", person[\"major\"])\n",
        "\n",
        "    data = {\"name\" : \"유성\", \"age\": 23, \"major\": \"IT응용공학\"}\n",
        "    introduce(data)"
      ],
      "metadata": {
        "id": "BCfKIr4DyhOE"
      },
      "execution_count": 6,
      "outputs": []
    },
    {
      "cell_type": "markdown",
      "source": [
        "## 딕셔너리 순회하기 (for문)"
      ],
      "metadata": {
        "id": "-b0ljaJqzPO8"
      }
    },
    {
      "cell_type": "code",
      "source": [
        "student = {\"name\" : \"Sirius\", \"age\": 23, \"major\" : \"IT\"}\n",
        "\n",
        "for key, value in student.items():\n",
        "    print(key, \":\", value)"
      ],
      "metadata": {
        "colab": {
          "base_uri": "https://localhost:8080/"
        },
        "id": "sy-aswm0zIeZ",
        "outputId": "030d7c52-01f4-4788-98a8-d621378e2455"
      },
      "execution_count": 7,
      "outputs": [
        {
          "output_type": "stream",
          "name": "stdout",
          "text": [
            "name : Sirius\n",
            "age : 23\n",
            "major : IT\n"
          ]
        }
      ]
    },
    {
      "cell_type": "markdown",
      "source": [
        "## 실습 미션"
      ],
      "metadata": {
        "id": "UnO9LZSYzfLh"
      }
    },
    {
      "cell_type": "code",
      "source": [
        "# 실습 1 : 점수 평균 함수\n",
        "\n",
        "def calc_avg(scores):\n",
        "    return sum(scores) / len(scores)\n",
        "\n",
        "scores = [88, 92, 79, 93, 85]\n",
        "print(\"평균 점수: \", calc_avg(scores))"
      ],
      "metadata": {
        "colab": {
          "base_uri": "https://localhost:8080/"
        },
        "id": "XMWqAhP5zgrk",
        "outputId": "f88fc3ca-9b37-40bd-af3f-8e05b0f938b6"
      },
      "execution_count": 8,
      "outputs": [
        {
          "output_type": "stream",
          "name": "stdout",
          "text": [
            "평균 점수:  87.4\n"
          ]
        }
      ]
    },
    {
      "cell_type": "code",
      "source": [
        "# 실습 2 : 딕셔너리 정보 추가\n",
        "\n",
        "student = {\"name\" : \"유성\", \"age\" : 23}\n",
        "student[\"major\"] = \"IT응용공학\"\n",
        "print(student)"
      ],
      "metadata": {
        "colab": {
          "base_uri": "https://localhost:8080/"
        },
        "id": "5yY1N9SvzvCO",
        "outputId": "2126581e-6d37-488f-ab6a-55e985837108"
      },
      "execution_count": 9,
      "outputs": [
        {
          "output_type": "stream",
          "name": "stdout",
          "text": [
            "{'name': '유성', 'age': 23, 'major': 'IT응용공학'}\n"
          ]
        }
      ]
    },
    {
      "cell_type": "code",
      "source": [
        "# 실습 3 : 학생 정보 관리 함수\n",
        "\n",
        "def add_student(students, name, age):\n",
        "      students[name] = age\n",
        "\n",
        "students = {}\n",
        "add_student(students, \"유성\", 23)\n",
        "add_student(students, \"Sirius\", 21)\n",
        "print(students)"
      ],
      "metadata": {
        "colab": {
          "base_uri": "https://localhost:8080/"
        },
        "id": "pV7EWt1Kz8Or",
        "outputId": "e4d7f81c-d917-4ed3-a801-e3eeb4d97738"
      },
      "execution_count": 10,
      "outputs": [
        {
          "output_type": "stream",
          "name": "stdout",
          "text": [
            "{'유성': 23, 'Sirius': 21}\n"
          ]
        }
      ]
    },
    {
      "cell_type": "code",
      "source": [],
      "metadata": {
        "id": "Qd1iY5z10QqH"
      },
      "execution_count": null,
      "outputs": []
    }
  ]
}