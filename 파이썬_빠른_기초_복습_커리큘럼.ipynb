{
  "nbformat": 4,
  "nbformat_minor": 0,
  "metadata": {
    "colab": {
      "provenance": [],
      "authorship_tag": "ABX9TyP1zYl8AamGT1T92nwceKak",
      "include_colab_link": true
    },
    "kernelspec": {
      "name": "python3",
      "display_name": "Python 3"
    },
    "language_info": {
      "name": "python"
    }
  },
  "cells": [
    {
      "cell_type": "markdown",
      "metadata": {
        "id": "view-in-github",
        "colab_type": "text"
      },
      "source": [
        "<a href=\"https://colab.research.google.com/github/YuSeongShim/Python_colab/blob/main/%ED%8C%8C%EC%9D%B4%EC%8D%AC_%EB%B9%A0%EB%A5%B8_%EA%B8%B0%EC%B4%88_%EB%B3%B5%EC%8A%B5_%EC%BB%A4%EB%A6%AC%ED%81%98%EB%9F%BC.ipynb\" target=\"_parent\"><img src=\"https://colab.research.google.com/assets/colab-badge.svg\" alt=\"Open In Colab\"/></a>"
      ]
    },
    {
      "cell_type": "markdown",
      "source": [
        "# Day 1 : 파이썬 첫걸음 & 입출력 시작"
      ],
      "metadata": {
        "id": "Y4dJeJqPxduT"
      }
    },
    {
      "cell_type": "markdown",
      "source": [
        "## print() 출력하기"
      ],
      "metadata": {
        "id": "jlonbCebxnVH"
      }
    },
    {
      "cell_type": "code",
      "execution_count": null,
      "metadata": {
        "colab": {
          "base_uri": "https://localhost:8080/"
        },
        "id": "DHmtSTBJSVhz",
        "outputId": "d7a2c7f1-bd2e-45e4-f6f3-d9144ae9f1e8"
      },
      "outputs": [
        {
          "output_type": "stream",
          "name": "stdout",
          "text": [
            "Hello, Sirius!\n",
            "파이썬을 다시 시작한다!\n"
          ]
        }
      ],
      "source": [
        "# print()는 화면에 결과를 보여주는 명령어\n",
        "# \"\"나 '' 안에 넣으면 문자열(string)으로 인식돼.\n",
        "\n",
        "print(\"Hello, Sirius!\")\n",
        "print(\"파이썬을 다시 시작한다!\")"
      ]
    },
    {
      "cell_type": "code",
      "source": [
        "# 연습문제 1\n",
        "\n",
        "print(\"내 이름은 유성이고, Inclusive UX Researcher가 되는 게 목표입니다.\")"
      ],
      "metadata": {
        "colab": {
          "base_uri": "https://localhost:8080/"
        },
        "id": "dRt0OZ8Lx0fY",
        "outputId": "fd223f8e-11d4-4235-d25b-4954f75b472c"
      },
      "execution_count": null,
      "outputs": [
        {
          "output_type": "stream",
          "name": "stdout",
          "text": [
            "내 이름은 유성이고, Inclusive UX Researcher가 되는 게 목표입니다.\n"
          ]
        }
      ]
    },
    {
      "cell_type": "markdown",
      "source": [
        "# input() 입력받기"
      ],
      "metadata": {
        "id": "cXdvNRFUyGCu"
      }
    },
    {
      "cell_type": "code",
      "source": [
        "# input()은 사용자의 입력을 받아 문자열로 저장함\n",
        "\n",
        "name = input(\"당신의 이름은 무엇인가요? \")\n",
        "print(\"안녕하세요, \", name, \"님!\")"
      ],
      "metadata": {
        "colab": {
          "base_uri": "https://localhost:8080/"
        },
        "id": "LpmRgbbIyFPH",
        "outputId": "f879058a-e0f0-4bf1-824f-c6e46c127b3e"
      },
      "execution_count": null,
      "outputs": [
        {
          "output_type": "stream",
          "name": "stdout",
          "text": [
            "당신의 이름은 무엇인가요? 유성\n",
            "안녕하세요,  유성 님!\n"
          ]
        }
      ]
    },
    {
      "cell_type": "code",
      "source": [
        "# 연습문제 2\n",
        "\n",
        "age = int(input(\"나이를 입력하세요: \"))\n",
        "print(\"유성님은 \", age, \"살이군요!\")"
      ],
      "metadata": {
        "colab": {
          "base_uri": "https://localhost:8080/"
        },
        "id": "t1h3KJE0yX65",
        "outputId": "aa268571-3a0d-4c73-c1f2-6f65960b2a34"
      },
      "execution_count": null,
      "outputs": [
        {
          "output_type": "stream",
          "name": "stdout",
          "text": [
            "나이를 입력하세요: 23\n",
            "유성님은  23 살이군요!\n"
          ]
        }
      ]
    },
    {
      "cell_type": "markdown",
      "source": [
        "# 문자열 결합과 포맷팅"
      ],
      "metadata": {
        "id": "dUnX2njSyrtV"
      }
    },
    {
      "cell_type": "code",
      "source": [
        "# 문자열끼리 더할 수도 있음\n",
        "\n",
        "name = \"Sirius\"\n",
        "print(\"안녕, \" + name + \"!\")"
      ],
      "metadata": {
        "colab": {
          "base_uri": "https://localhost:8080/"
        },
        "id": "dIHxVrPyyogY",
        "outputId": "872ba6d0-34d6-40cd-af4e-57408cda3eef"
      },
      "execution_count": null,
      "outputs": [
        {
          "output_type": "stream",
          "name": "stdout",
          "text": [
            "안녕, Sirius!\n"
          ]
        }
      ]
    },
    {
      "cell_type": "code",
      "source": [
        "# 혹은 f-string 쓰면 훨씬 깔끔함\n",
        "\n",
        "print(f\"안녕, {name}!\")"
      ],
      "metadata": {
        "colab": {
          "base_uri": "https://localhost:8080/"
        },
        "id": "k3Js50ity4fQ",
        "outputId": "8b57bbfc-3e05-4157-d239-ffe5e9e46f28"
      },
      "execution_count": null,
      "outputs": [
        {
          "output_type": "stream",
          "name": "stdout",
          "text": [
            "안녕, Sirius!\n"
          ]
        }
      ]
    },
    {
      "cell_type": "code",
      "source": [
        "# 연습문제 3\n",
        "\n",
        "name = input(\"이름을 입력해 주세요: \")\n",
        "job = input(\"당신의 직업을 입력해 주세요: \")\n",
        "\n",
        "print(name, \"님의 직업은\", job, \"입니다.\")"
      ],
      "metadata": {
        "colab": {
          "base_uri": "https://localhost:8080/"
        },
        "id": "xBxnvDC-y-83",
        "outputId": "cd4827e4-320b-4c7a-8a1b-26e65abb0498"
      },
      "execution_count": null,
      "outputs": [
        {
          "output_type": "stream",
          "name": "stdout",
          "text": [
            "이름을 입력해 주세요: 유성\n",
            "당신의 직업을 입력해 주세요: Researcher\n",
            "유성 님의 직업은 Researcher 입니다.\n"
          ]
        }
      ]
    },
    {
      "cell_type": "markdown",
      "source": [
        "# 미니 프로젝트 - 자기소개"
      ],
      "metadata": {
        "id": "_lotCnMjzZZd"
      }
    },
    {
      "cell_type": "code",
      "source": [
        "# 아래 형식처럼 나올 수 있게 작성해보자.\n",
        "\n",
        "name = input(\"이름을 입력하세요: \")\n",
        "age = int(input(\"나이를 입력하세요: \"))\n",
        "job = input(\"직업을 입력하세요: \")\n",
        "\n",
        "print(\"----------------------\")\n",
        "print(\"안녕하세요\", name, \"님!\")\n",
        "print(age, \"살\", job, \"로 활동 중이시군요.\")\n",
        "print(\"파이썬 공부 화이팅 입니다!\")"
      ],
      "metadata": {
        "colab": {
          "base_uri": "https://localhost:8080/"
        },
        "id": "vusOcUd6zSSi",
        "outputId": "0c2cffaf-afb4-445c-b969-be8d70491ad3"
      },
      "execution_count": null,
      "outputs": [
        {
          "output_type": "stream",
          "name": "stdout",
          "text": [
            "이름을 입력하세요: 유성\n",
            "나이를 입력하세요: 23\n",
            "직업을 입력하세요: UX Researcher\n",
            "----------------------\n",
            "안녕하세요 유성 님!\n",
            "23 살 UX Researcher 로 활동 중이시군요.\n",
            "파이썬 공부 화이팅 입니다!\n"
          ]
        }
      ]
    },
    {
      "cell_type": "markdown",
      "source": [
        "# Day 2 : 변수와 자료형"
      ],
      "metadata": {
        "id": "jzlItFf8BTNR"
      }
    },
    {
      "cell_type": "markdown",
      "source": [
        "## Step 1. 변수란?"
      ],
      "metadata": {
        "id": "gVWsrjuyBZhL"
      }
    },
    {
      "cell_type": "code",
      "source": [
        "# 변수란 데이터를 담는 상자\n",
        "\n",
        "name = \"유성\"\n",
        "age = 23\n",
        "goal = \"Inclusive UX Researcher\""
      ],
      "metadata": {
        "id": "CP54URwe0BT5"
      },
      "execution_count": null,
      "outputs": []
    },
    {
      "cell_type": "markdown",
      "source": [
        "## Step 2. 자료형(Data Type)"
      ],
      "metadata": {
        "id": "1zl3FvsgBp7u"
      }
    },
    {
      "cell_type": "code",
      "source": [
        "# | **타입** | **예시** | **설명** |\n",
        "# | --- | --- | --- |\n",
        "# | int | 10, -5 | 정수 |\n",
        "# | float | 3.14, -0.1 | 실수 |\n",
        "# | str | “Hello”, ‘유성’ | 문자열 |\n",
        "# | bool | True, False | 논리값 |\n",
        "\n",
        "age = 25 #int\n",
        "height = 178.5 # float\n",
        "name = \"유성\" # str\n",
        "is_student = True # bool"
      ],
      "metadata": {
        "id": "sCbjH3vOBkIT"
      },
      "execution_count": null,
      "outputs": []
    },
    {
      "cell_type": "code",
      "source": [
        "# type() 함수로 자료형 확인\n",
        "\n",
        "print(type(age))\n",
        "print(type(name))"
      ],
      "metadata": {
        "colab": {
          "base_uri": "https://localhost:8080/"
        },
        "id": "zMm2BQhpCEfO",
        "outputId": "1d669882-ff74-456d-c3b1-5a743ccc2810"
      },
      "execution_count": null,
      "outputs": [
        {
          "output_type": "stream",
          "name": "stdout",
          "text": [
            "<class 'int'>\n",
            "<class 'str'>\n"
          ]
        }
      ]
    },
    {
      "cell_type": "markdown",
      "source": [
        "## Step3. 형변환(Type Casting)"
      ],
      "metadata": {
        "id": "P6hbDD5ACLAq"
      }
    },
    {
      "cell_type": "code",
      "source": [
        "# 가끔 문자열을 숫자로 바꾸거나, 숫자를 문자열로 바꿔야 할 때가 있음\n",
        "\n",
        "num_str = \"10\"\n",
        "num_int = int(num_str) # \"10\" -> 10\n",
        "print(num_int + 5) # 15\n",
        "\n",
        "age = 23\n",
        "print(\"나이는 \" + str(age) + \"살입니다.\")"
      ],
      "metadata": {
        "colab": {
          "base_uri": "https://localhost:8080/"
        },
        "id": "G1javE1yCJ0O",
        "outputId": "853e6c13-302e-4509-e9b4-290c03a1ce1a"
      },
      "execution_count": null,
      "outputs": [
        {
          "output_type": "stream",
          "name": "stdout",
          "text": [
            "15\n",
            "나이는 23살입니다.\n"
          ]
        }
      ]
    },
    {
      "cell_type": "markdown",
      "source": [
        "##Step4. 간단한 계산 연습"
      ],
      "metadata": {
        "id": "Y7kJ39UaCqRM"
      }
    },
    {
      "cell_type": "code",
      "source": [
        "a = 10\n",
        "b = 3\n",
        "print(a + b) #  덧셈\n",
        "print(a - b) # 뺄셈\n",
        "print(a * b) # 곱셈\n",
        "print(a / b) # 나눗셈 (실수 결과)\n",
        "print(a // b) # 몫\n",
        "print(a % b) # 나머지"
      ],
      "metadata": {
        "colab": {
          "base_uri": "https://localhost:8080/"
        },
        "id": "ObNS5qozCj6n",
        "outputId": "473d74b2-2b87-4b55-eb2f-a6928f0eb7ce"
      },
      "execution_count": null,
      "outputs": [
        {
          "output_type": "stream",
          "name": "stdout",
          "text": [
            "13\n",
            "7\n",
            "30\n",
            "3.3333333333333335\n",
            "3\n",
            "1\n"
          ]
        }
      ]
    },
    {
      "cell_type": "code",
      "source": [
        "# 연습문제 1\n",
        "# 두 수를 입력받아 더한 결과를 출력해보자.\n",
        "\n",
        "a = int(input())\n",
        "b = int(input())\n",
        "\n",
        "print(a + b)"
      ],
      "metadata": {
        "colab": {
          "base_uri": "https://localhost:8080/"
        },
        "id": "JRTo4WU5C7TX",
        "outputId": "288ceecc-08e3-43ef-d661-028f3c200e75"
      },
      "execution_count": null,
      "outputs": [
        {
          "output_type": "stream",
          "name": "stdout",
          "text": [
            "2\n",
            "3\n",
            "5\n"
          ]
        }
      ]
    },
    {
      "cell_type": "markdown",
      "source": [
        "## Step5. 미니 프로젝트 - 온도 변환기"
      ],
      "metadata": {
        "id": "uei5eeNkDINW"
      }
    },
    {
      "cell_type": "code",
      "source": [
        "# 화씨 = (섭씨 * 9/5) + 32\n",
        "\n",
        "celsius = float(input(\"섭씨 온도를 입력하세요: \"))\n",
        "fahrenheit = (celsius * 9/5) + 32\n",
        "print(f\"섭씨 {celsius}도는 화씨 {fahrenheit}도 입니다.\")"
      ],
      "metadata": {
        "colab": {
          "base_uri": "https://localhost:8080/"
        },
        "id": "arZ4-zsEDET6",
        "outputId": "335d8d24-7439-40ba-82a0-f17794713050"
      },
      "execution_count": null,
      "outputs": [
        {
          "output_type": "stream",
          "name": "stdout",
          "text": [
            "섭씨 온도를 입력하세요: 30\n",
            "섭씨 30.0도는 화씨 86.0도 입니다.\n"
          ]
        }
      ]
    },
    {
      "cell_type": "code",
      "source": [
        "# 섭씨 = (화씨 - 32) * 5/9\n",
        "\n",
        "fahrenheit = int(input(\"화씨 온도를 입력하세요: \"))\n",
        "celsius = (fahrenheit - 32) * 5/9\n",
        "print(f\"화씨 {fahrenheit}도는 화씨 {celsius:.2f}도 입니다.\")"
      ],
      "metadata": {
        "colab": {
          "base_uri": "https://localhost:8080/"
        },
        "id": "3PvP1iAbDj1f",
        "outputId": "5cc6330d-991a-4a19-d3c9-9af079c8d65b"
      },
      "execution_count": null,
      "outputs": [
        {
          "output_type": "stream",
          "name": "stdout",
          "text": [
            "화씨 온도를 입력하세요: 80\n",
            "화씨 80도는 화씨 26.67도 입니다.\n"
          ]
        }
      ]
    },
    {
      "cell_type": "markdown",
      "source": [
        "# Day 3 : 문자열 다루기(String Handling)"
      ],
      "metadata": {
        "id": "5E59R7Ws1HJv"
      }
    },
    {
      "cell_type": "markdown",
      "source": [
        "## Step 1. 인덱싱(indexing)"
      ],
      "metadata": {
        "id": "yKmQoGPl1OuF"
      }
    },
    {
      "cell_type": "code",
      "source": [
        "# 문자열은 문자의 리스트처럼 되어 있어서, 각 문자에는 번호(인덱스)가 있음\n",
        "# 인덱스는 0부터 시작하고, 음수는 뒤에서 부터 센다\n",
        "\n",
        "word = \"Sirius\"\n",
        "print(word[0])\n",
        "print(word[1])\n",
        "print(word[-1])"
      ],
      "metadata": {
        "id": "aXxZIzvrEE3-",
        "colab": {
          "base_uri": "https://localhost:8080/"
        },
        "outputId": "f6ce6b84-3540-4105-c794-06650a77f805"
      },
      "execution_count": null,
      "outputs": [
        {
          "output_type": "stream",
          "name": "stdout",
          "text": [
            "S\n",
            "i\n",
            "s\n"
          ]
        }
      ]
    },
    {
      "cell_type": "code",
      "source": [
        "# 연습문제 1\n",
        "# 문자열 \"Inclusive\"에서 첫 글자와 마지막 글자를 각각 출력해봐\n",
        "\n",
        "word = \"Inclusive\"\n",
        "print(word[0])\n",
        "print(word[-1])"
      ],
      "metadata": {
        "colab": {
          "base_uri": "https://localhost:8080/"
        },
        "id": "2oY2Y9bI1fP9",
        "outputId": "2c9aabf8-ad7f-4eda-d7a5-160fd3be8350"
      },
      "execution_count": null,
      "outputs": [
        {
          "output_type": "stream",
          "name": "stdout",
          "text": [
            "I\n",
            "e\n"
          ]
        }
      ]
    },
    {
      "cell_type": "markdown",
      "source": [
        "## Step 2. 슬라이싱(Slicing)"
      ],
      "metadata": {
        "id": "5MxMTced17UA"
      }
    },
    {
      "cell_type": "code",
      "source": [
        "# 인덱스의 범위를 이용해서 문자열의 일부를 자르는 것\n",
        "\n",
        "word = \"Accessibility\"\n",
        "print(word[0:4])\n",
        "print(word[:6])\n",
        "print(word[6:])\n",
        "print(word[-3:])"
      ],
      "metadata": {
        "colab": {
          "base_uri": "https://localhost:8080/"
        },
        "id": "sHFQIRin16DN",
        "outputId": "c8cb512c-6ac2-40cf-daf4-8ab9036f20c8"
      },
      "execution_count": null,
      "outputs": [
        {
          "output_type": "stream",
          "name": "stdout",
          "text": [
            "Acce\n",
            "Access\n",
            "ibility\n",
            "ity\n"
          ]
        }
      ]
    },
    {
      "cell_type": "code",
      "source": [
        "# 연습문제 2\n",
        "# InclusiveUX 에서 Inclusive만 잘라내 출력해봐\n",
        "\n",
        "word = \"InclusiveUX\"\n",
        "print(word[0:9])"
      ],
      "metadata": {
        "colab": {
          "base_uri": "https://localhost:8080/"
        },
        "id": "rBH7i-wB2O-z",
        "outputId": "fcf1e4ed-0c86-455b-dde7-3028f2b7d8eb"
      },
      "execution_count": null,
      "outputs": [
        {
          "output_type": "stream",
          "name": "stdout",
          "text": [
            "Inclusive\n"
          ]
        }
      ]
    },
    {
      "cell_type": "markdown",
      "source": [
        "## Step3. 문자열 메서드들"
      ],
      "metadata": {
        "id": "TODsrGLp2iFh"
      }
    },
    {
      "cell_type": "code",
      "source": [
        "# | 메서드 | 설명 | 예시 |\n",
        "# | --- | --- | --- |\n",
        "# | `split()` | 문자열을 나누어 리스트로 만듦 | `\"UX Research\".split()` → `['UX', 'Research']` |\n",
        "# | `replace(a, b)` | a를 b로 바꿈 | `\"Hello\".replace(\"H\", \"Y\")` → `\"Yello\"` |\n",
        "# | `upper()` | 대문자로 | `\"apple\".upper()` → `\"APPLE\"` |\n",
        "# | `lower()` | 소문자로 | `\"APPLE\".lower()` → `\"apple\"` |\n",
        "# | `strip()` | 양쪽 공백 제거 | `\"  Skyler  \".strip()` → `\"Skyler\"` |"
      ],
      "metadata": {
        "id": "_grCa0X12gcF"
      },
      "execution_count": null,
      "outputs": []
    },
    {
      "cell_type": "code",
      "source": [
        "# 연습문제 3\n",
        "# \"I want to be an Inclusive Research\"를\n",
        "# 1. 공백기준으로 split()해서 리스트 만들고\n",
        "# 2. replace()를 이용해 \"Inclusive\" -> \"AI driven Inclusive로 바꿔보자\"\n",
        "\n",
        "word = \"I want to be an Inclusive Research\"\n",
        "print(word.split())\n",
        "\n",
        "word = word.replace(\"Inclusive\", \"AI driven Inclusive\")\n",
        "print(word)\n"
      ],
      "metadata": {
        "colab": {
          "base_uri": "https://localhost:8080/"
        },
        "id": "xFg_vSRW2tUP",
        "outputId": "e8e530fe-da13-4f19-a9ac-0bd445081285"
      },
      "execution_count": null,
      "outputs": [
        {
          "output_type": "stream",
          "name": "stdout",
          "text": [
            "['I', 'want', 'to', 'be', 'an', 'Inclusive', 'Research']\n",
            "I want to be an AI driven Inclusive Research\n"
          ]
        }
      ]
    },
    {
      "cell_type": "markdown",
      "source": [
        "## Step 4. 미니 프로젝트 - 이름 변환기"
      ],
      "metadata": {
        "id": "UXhvFK1u3w6S"
      }
    },
    {
      "cell_type": "code",
      "source": [
        "# 입력된 이름을 전부 대문자로 바꿔봐\n",
        "\n",
        "full_name = input(\"영문 이름을 입력하세요: (예: Skyler Yoo): \")\n",
        "first, last = full_name.split()\n",
        "print(f\"당신의 이니셜은 {first[0].upper()}.{last[0].upper()} 입니다\")"
      ],
      "metadata": {
        "colab": {
          "base_uri": "https://localhost:8080/"
        },
        "id": "wTh-MQzu3V0M",
        "outputId": "aab4afe5-d17a-4c49-9fe2-f1bf3d26abde"
      },
      "execution_count": null,
      "outputs": [
        {
          "output_type": "stream",
          "name": "stdout",
          "text": [
            "영문 이름을 입력하세요: (예: Skyler Yoo): Sirius Yoo\n",
            "당신의 이니셜은 S.Y 입니다..\n"
          ]
        }
      ]
    },
    {
      "cell_type": "markdown",
      "source": [
        "# Day 4: 리스트(List), 튜플(Tuple), 세트(Set)"
      ],
      "metadata": {
        "id": "HEgUG3eay7-1"
      }
    },
    {
      "cell_type": "markdown",
      "source": [
        "## Step 1. 리스트 (List)"
      ],
      "metadata": {
        "id": "PJmiNAkVzEA2"
      }
    },
    {
      "cell_type": "code",
      "source": [
        "# 리스트는 수정 가능한 데이터 묶음\n",
        "\n",
        "fruits = [\"apple\", \"banana\", \"cherry\"]\n",
        "print(fruits[0])\n",
        "print(fruits[-1])"
      ],
      "metadata": {
        "id": "ehTZZZS14KR3",
        "colab": {
          "base_uri": "https://localhost:8080/"
        },
        "outputId": "936d26d1-d4a7-4e06-a5ac-2e78a3ad9f45"
      },
      "execution_count": null,
      "outputs": [
        {
          "output_type": "stream",
          "name": "stdout",
          "text": [
            "apple\n",
            "cherry\n"
          ]
        }
      ]
    },
    {
      "cell_type": "code",
      "source": [
        "# 리스트 수정\n",
        "\n",
        "fruits[1] = \"mango\" # 값 바꾸기\n",
        "print(fruits)\n",
        "\n",
        "fruits.append(\"orange\") # 추가\n",
        "fruits.remove(\"apple\") # 제거\n",
        "print(fruits)"
      ],
      "metadata": {
        "colab": {
          "base_uri": "https://localhost:8080/"
        },
        "id": "sJrQOt92zSjD",
        "outputId": "381431f9-3359-42ca-edbf-41cc7aa3b9e0"
      },
      "execution_count": null,
      "outputs": [
        {
          "output_type": "stream",
          "name": "stdout",
          "text": [
            "['apple', 'mango', 'cherry']\n",
            "['mango', 'cherry', 'orange']\n"
          ]
        }
      ]
    },
    {
      "cell_type": "code",
      "source": [
        "# 리스트 길이\n",
        "\n",
        "print(len(fruits)) # 원소 개수"
      ],
      "metadata": {
        "colab": {
          "base_uri": "https://localhost:8080/"
        },
        "id": "HPn4iPVRzkis",
        "outputId": "36733d51-740d-4c07-963e-68aa671a6bd5"
      },
      "execution_count": null,
      "outputs": [
        {
          "output_type": "stream",
          "name": "stdout",
          "text": [
            "3\n"
          ]
        }
      ]
    },
    {
      "cell_type": "code",
      "source": [
        "# 연습문제 1\n",
        "# 리스트 numbers = [10, 20, 30]에 숫자 40을 추가하고 첫 번째 원소를 삭제한 뒤리스트 전체를 출력\n",
        "\n",
        "numbers = [10, 20, 30]\n",
        "numbers.append(40)\n",
        "numbers.remove(10)\n",
        "print(numbers)"
      ],
      "metadata": {
        "colab": {
          "base_uri": "https://localhost:8080/"
        },
        "id": "V42B61690QVm",
        "outputId": "aed6224c-26be-4d8e-ab9c-a0f1ae3779df"
      },
      "execution_count": null,
      "outputs": [
        {
          "output_type": "stream",
          "name": "stdout",
          "text": [
            "[20, 30, 40]\n"
          ]
        }
      ]
    },
    {
      "cell_type": "markdown",
      "source": [
        "## Step 2. 튜플(Tuple)"
      ],
      "metadata": {
        "id": "WQQ0_bGG0wxF"
      }
    },
    {
      "cell_type": "code",
      "source": [
        "# 튜플은 수정이 불가능한 리스트\n",
        "# 소괄호로 만듬\n",
        "# 대신 데이터가 고정된 경우에 씀\n",
        "\n",
        "colors = (\"red\", \"green\", \"blue\")\n",
        "print(colors[1])\n"
      ],
      "metadata": {
        "colab": {
          "base_uri": "https://localhost:8080/"
        },
        "id": "5EQXwy_r0vBS",
        "outputId": "ee556800-8cb8-4287-e08f-c872ad291e86"
      },
      "execution_count": null,
      "outputs": [
        {
          "output_type": "stream",
          "name": "stdout",
          "text": [
            "green\n"
          ]
        }
      ]
    },
    {
      "cell_type": "code",
      "source": [
        "# 연습문제 2\n",
        "\n",
        "colors = (\"100\", \"200\", \"300\")\n",
        "print(colors[2])"
      ],
      "metadata": {
        "colab": {
          "base_uri": "https://localhost:8080/"
        },
        "id": "YRi8nwJU1BzF",
        "outputId": "dad2c618-0829-42ad-ac7c-1fff444f7f3f"
      },
      "execution_count": null,
      "outputs": [
        {
          "output_type": "stream",
          "name": "stdout",
          "text": [
            "300\n"
          ]
        }
      ]
    },
    {
      "cell_type": "markdown",
      "source": [
        "## Step3. 세트(Set)"
      ],
      "metadata": {
        "id": "iY3f4c1a1RIt"
      }
    },
    {
      "cell_type": "code",
      "source": [
        "# 세트는 중복아 없고, 순서가 없는 데이터 집합\n",
        "# 중괄호 {} 로 만듬\n",
        "\n",
        "nums = {1, 2, 3, 3, 2}\n",
        "print(nums)"
      ],
      "metadata": {
        "colab": {
          "base_uri": "https://localhost:8080/"
        },
        "id": "XlR72RQi1Pwz",
        "outputId": "01301384-a164-491b-b3d5-a6f0d9cc07c7"
      },
      "execution_count": null,
      "outputs": [
        {
          "output_type": "stream",
          "name": "stdout",
          "text": [
            "{1, 2, 3}\n"
          ]
        }
      ]
    },
    {
      "cell_type": "code",
      "source": [
        "#  세트 연산\n",
        "\n",
        "a = {1, 2, 3}\n",
        "b = {3, 4, 5}\n",
        "\n",
        "print(a | b) # 합집합 -> {1, 2, 3, 4, 5}\n",
        "print(a & b) # 교집합 -> {3}\n",
        "print(a - b) # 차집합 -> {1, 2}"
      ],
      "metadata": {
        "colab": {
          "base_uri": "https://localhost:8080/"
        },
        "id": "4Idlj5E61elI",
        "outputId": "9bd02f30-fb16-4fad-e6c1-598476b92b42"
      },
      "execution_count": null,
      "outputs": [
        {
          "output_type": "stream",
          "name": "stdout",
          "text": [
            "{1, 2, 3, 4, 5}\n",
            "{3}\n",
            "{1, 2}\n"
          ]
        }
      ]
    },
    {
      "cell_type": "code",
      "source": [
        "# 연습문제 3\n",
        "\n",
        "num1 = {1, 2, 3}\n",
        "num2 ={2, 3, 4}\n",
        "\n",
        "print(num1 & num2)\n",
        "print(num1 | num2)"
      ],
      "metadata": {
        "colab": {
          "base_uri": "https://localhost:8080/"
        },
        "id": "PyAMqqQV1zsK",
        "outputId": "9f6dcdce-77f4-4e2b-868f-97f9345a8dd5"
      },
      "execution_count": null,
      "outputs": [
        {
          "output_type": "stream",
          "name": "stdout",
          "text": [
            "{2, 3}\n",
            "{1, 2, 3, 4}\n"
          ]
        }
      ]
    },
    {
      "cell_type": "markdown",
      "source": [
        "## Step 4. 미니 프로젝트 - 평균 점수 계산기"
      ],
      "metadata": {
        "id": "V6VtqJ9g2FV1"
      }
    },
    {
      "cell_type": "code",
      "source": [
        "# 학생 점수들의 평균을 구하는 프로그램\n",
        "\n",
        "scores = list(map(int, input().split()))\n",
        "average = sum(scores) / len(scores)\n",
        "print(f\"평균 점수는 {average:.1f}점입니다.\")"
      ],
      "metadata": {
        "colab": {
          "base_uri": "https://localhost:8080/"
        },
        "id": "pmtvClpt2BPV",
        "outputId": "8e32fd4a-158a-4cfb-dada-0c58413e7470"
      },
      "execution_count": null,
      "outputs": [
        {
          "output_type": "stream",
          "name": "stdout",
          "text": [
            "90 85 100 70\n",
            "평균 점수는 86.2점입니다.\n"
          ]
        }
      ]
    },
    {
      "cell_type": "markdown",
      "source": [
        "# Day 5: 딕셔너리"
      ],
      "metadata": {
        "id": "3xjr4gIXJFoy"
      }
    },
    {
      "cell_type": "markdown",
      "source": [
        "## Step 1. 딕셔너리 기본 구조"
      ],
      "metadata": {
        "id": "8Ky7zRSvJVgt"
      }
    },
    {
      "cell_type": "code",
      "source": [
        "person = {\n",
        "    \"name\" : \"유성\",\n",
        "    \"age\" : 23,\n",
        "    \"job\" : \"Researcher\"\n",
        "}"
      ],
      "metadata": {
        "id": "C3_gZt8n2jTE"
      },
      "execution_count": 1,
      "outputs": []
    },
    {
      "cell_type": "code",
      "source": [
        "print(person[\"name\"]) # 유성\n",
        "print(person[\"job\"]) # Researcher"
      ],
      "metadata": {
        "colab": {
          "base_uri": "https://localhost:8080/"
        },
        "id": "e8tQUQ6XJqXz",
        "outputId": "c4c92b1d-4c3f-45e1-b7a0-a75392334cd2"
      },
      "execution_count": 3,
      "outputs": [
        {
          "output_type": "stream",
          "name": "stdout",
          "text": [
            "유성\n",
            "Researcher\n"
          ]
        }
      ]
    },
    {
      "cell_type": "markdown",
      "source": [
        "## Step 2. 값 추가, 수정, 삭제"
      ],
      "metadata": {
        "id": "Av4DUnGdJ1M1"
      }
    },
    {
      "cell_type": "code",
      "source": [
        "# 💡 딕셔너리는 순서가 아니라 “키 이름”으로 접근한다는 점이 포인트야.\n",
        "\n",
        "person[\"country\"] = \"Korea\" # 추가\n",
        "person[\"age\"] = 23 # 수정\n",
        "del person[\"job\"] # 삭제\n",
        "print(person)"
      ],
      "metadata": {
        "colab": {
          "base_uri": "https://localhost:8080/"
        },
        "id": "tWj_IrIMJwLk",
        "outputId": "535d7e54-4226-48d5-9089-6594dcbab75a"
      },
      "execution_count": 5,
      "outputs": [
        {
          "output_type": "stream",
          "name": "stdout",
          "text": [
            "{'name': '유성', 'age': 23, 'country': 'Korea'}\n"
          ]
        }
      ]
    },
    {
      "cell_type": "markdown",
      "source": [
        "## Step 3. 딕셔너리 주요 메서드"
      ],
      "metadata": {
        "id": "-TG1-GrJKM80"
      }
    },
    {
      "cell_type": "code",
      "source": [
        "# .keys()\t모든 키 반환\tdict_keys(['name', 'age'])\n",
        "# .values()\t모든 값 반환\tdict_values(['유성', 25])\n",
        "# .items()\t키-값 쌍 반환\t[('name', '유성'), ('age', 25)]\n",
        "\n",
        "for key, value in person.items():\n",
        "    print(key, \":\", value)"
      ],
      "metadata": {
        "colab": {
          "base_uri": "https://localhost:8080/"
        },
        "id": "jCI5u9D7J9nH",
        "outputId": "ca8fa73f-caa5-4029-958a-ee420397696d"
      },
      "execution_count": 6,
      "outputs": [
        {
          "output_type": "stream",
          "name": "stdout",
          "text": [
            "name : 유성\n",
            "age : 23\n",
            "country : Korea\n"
          ]
        }
      ]
    },
    {
      "cell_type": "code",
      "source": [
        "# 연습문제 1\n",
        "#  딕셔너리 student = {\"name\": \"유성\", \"major\": \"IT\"} 에 `\"grade\": 3.5` 를 추가하고 전체를 출력해보자.\n",
        "\n",
        "student = {\"name\" : \"유성\", \"major\" : \"IT\", \"grade\" : 3.5}\n",
        "\n",
        "for key, value in student.items():\n",
        "    print(key, \":\", value)\n"
      ],
      "metadata": {
        "colab": {
          "base_uri": "https://localhost:8080/"
        },
        "id": "R5uTHiRlKZ7n",
        "outputId": "64d521ac-b0ac-4652-f957-753d22cbbd54"
      },
      "execution_count": 10,
      "outputs": [
        {
          "output_type": "stream",
          "name": "stdout",
          "text": [
            "name : 유성\n",
            "major : IT\n",
            "grade : 3.5\n"
          ]
        }
      ]
    },
    {
      "cell_type": "markdown",
      "source": [
        "## Step 4. 미니 프로젝트 - 전화번호부"
      ],
      "metadata": {
        "id": "BBHI3bKgLQ8X"
      }
    },
    {
      "cell_type": "code",
      "source": [
        "# 이름(key)과 전화번호(value)를 저장하고 조회하는 프로그램 만들기!\n",
        "\n",
        "phonebook = {}\n",
        "\n",
        "# 입력받기\n",
        "\n",
        "while True:\n",
        "    name = input(\"이름을 입력하세요 (그만하려면 0): \")\n",
        "    if name == \"0\":\n",
        "        break\n",
        "    number = input(\"전화번호를 입력하세요: \")\n",
        "    phonebook[name] = number\n",
        "\n",
        "# 번호 등록\n",
        "phonebook[\"유성\"] = \"010-1234-5678\"\n",
        "phonebook[\"민수\"] = \"010-9876-5432\"\n",
        "\n",
        "# 전체 보기\n",
        "for name, number in phonebook.items():\n",
        "    print(f\"{name}: {number}\")\n",
        "\n",
        "# 특정 이름 조회\n",
        "\n",
        "search = input(\"검색할 이름을 입력하세요: \")\n",
        "if search in phonebook:\n",
        "    print(f\"{search}님의 번호는 {phonebook[search]} 입니다.\")\n",
        "else:\n",
        "    print(\"등록되지 않은 이름입니다.\")"
      ],
      "metadata": {
        "colab": {
          "base_uri": "https://localhost:8080/",
          "height": 460
        },
        "id": "Bejs77k1K5Xg",
        "outputId": "f64b177c-65fe-4ce6-c0af-d706b7fe36d4"
      },
      "execution_count": 19,
      "outputs": [
        {
          "output_type": "stream",
          "name": "stdout",
          "text": [
            "이름을 입력하세요 (그만하려면 0): 진수\n",
            "전화번호를 입력하세요: 010-5678-7654\n",
            "이름을 입력하세요 (그만하려면 0): 0\n",
            "진수: 010-5678-7654\n",
            "유성: 010-1234-5678\n",
            "민수: 010-9876-5432\n"
          ]
        },
        {
          "output_type": "error",
          "ename": "KeyboardInterrupt",
          "evalue": "Interrupted by user",
          "traceback": [
            "\u001b[0;31m---------------------------------------------------------------------------\u001b[0m",
            "\u001b[0;31mKeyboardInterrupt\u001b[0m                         Traceback (most recent call last)",
            "\u001b[0;32m/tmp/ipython-input-281575675.py\u001b[0m in \u001b[0;36m<cell line: 0>\u001b[0;34m()\u001b[0m\n\u001b[1;32m     22\u001b[0m \u001b[0;31m# 특정 이름 조회\u001b[0m\u001b[0;34m\u001b[0m\u001b[0;34m\u001b[0m\u001b[0m\n\u001b[1;32m     23\u001b[0m \u001b[0;34m\u001b[0m\u001b[0m\n\u001b[0;32m---> 24\u001b[0;31m \u001b[0msearch\u001b[0m \u001b[0;34m=\u001b[0m \u001b[0minput\u001b[0m\u001b[0;34m(\u001b[0m\u001b[0;34m\"검색할 이름을 입력하세요: \"\u001b[0m\u001b[0;34m)\u001b[0m\u001b[0;34m\u001b[0m\u001b[0;34m\u001b[0m\u001b[0m\n\u001b[0m\u001b[1;32m     25\u001b[0m \u001b[0;32mif\u001b[0m \u001b[0msearch\u001b[0m \u001b[0;32min\u001b[0m \u001b[0mphonebook\u001b[0m\u001b[0;34m:\u001b[0m\u001b[0;34m\u001b[0m\u001b[0;34m\u001b[0m\u001b[0m\n\u001b[1;32m     26\u001b[0m     \u001b[0mprint\u001b[0m\u001b[0;34m(\u001b[0m\u001b[0;34mf\"{search}님의 번호는 {phonebook[search]} 입니다.\"\u001b[0m\u001b[0;34m)\u001b[0m\u001b[0;34m\u001b[0m\u001b[0;34m\u001b[0m\u001b[0m\n",
            "\u001b[0;32m/usr/local/lib/python3.12/dist-packages/ipykernel/kernelbase.py\u001b[0m in \u001b[0;36mraw_input\u001b[0;34m(self, prompt)\u001b[0m\n\u001b[1;32m   1175\u001b[0m                 \u001b[0;34m\"raw_input was called, but this frontend does not support input requests.\"\u001b[0m\u001b[0;34m\u001b[0m\u001b[0;34m\u001b[0m\u001b[0m\n\u001b[1;32m   1176\u001b[0m             )\n\u001b[0;32m-> 1177\u001b[0;31m         return self._input_request(\n\u001b[0m\u001b[1;32m   1178\u001b[0m             \u001b[0mstr\u001b[0m\u001b[0;34m(\u001b[0m\u001b[0mprompt\u001b[0m\u001b[0;34m)\u001b[0m\u001b[0;34m,\u001b[0m\u001b[0;34m\u001b[0m\u001b[0;34m\u001b[0m\u001b[0m\n\u001b[1;32m   1179\u001b[0m             \u001b[0mself\u001b[0m\u001b[0;34m.\u001b[0m\u001b[0m_parent_ident\u001b[0m\u001b[0;34m[\u001b[0m\u001b[0;34m\"shell\"\u001b[0m\u001b[0;34m]\u001b[0m\u001b[0;34m,\u001b[0m\u001b[0;34m\u001b[0m\u001b[0;34m\u001b[0m\u001b[0m\n",
            "\u001b[0;32m/usr/local/lib/python3.12/dist-packages/ipykernel/kernelbase.py\u001b[0m in \u001b[0;36m_input_request\u001b[0;34m(self, prompt, ident, parent, password)\u001b[0m\n\u001b[1;32m   1217\u001b[0m             \u001b[0;32mexcept\u001b[0m \u001b[0mKeyboardInterrupt\u001b[0m\u001b[0;34m:\u001b[0m\u001b[0;34m\u001b[0m\u001b[0;34m\u001b[0m\u001b[0m\n\u001b[1;32m   1218\u001b[0m                 \u001b[0;31m# re-raise KeyboardInterrupt, to truncate traceback\u001b[0m\u001b[0;34m\u001b[0m\u001b[0;34m\u001b[0m\u001b[0m\n\u001b[0;32m-> 1219\u001b[0;31m                 \u001b[0;32mraise\u001b[0m \u001b[0mKeyboardInterrupt\u001b[0m\u001b[0;34m(\u001b[0m\u001b[0;34m\"Interrupted by user\"\u001b[0m\u001b[0;34m)\u001b[0m \u001b[0;32mfrom\u001b[0m \u001b[0;32mNone\u001b[0m\u001b[0;34m\u001b[0m\u001b[0;34m\u001b[0m\u001b[0m\n\u001b[0m\u001b[1;32m   1220\u001b[0m             \u001b[0;32mexcept\u001b[0m \u001b[0mException\u001b[0m\u001b[0;34m:\u001b[0m\u001b[0;34m\u001b[0m\u001b[0;34m\u001b[0m\u001b[0m\n\u001b[1;32m   1221\u001b[0m                 \u001b[0mself\u001b[0m\u001b[0;34m.\u001b[0m\u001b[0mlog\u001b[0m\u001b[0;34m.\u001b[0m\u001b[0mwarning\u001b[0m\u001b[0;34m(\u001b[0m\u001b[0;34m\"Invalid Message:\"\u001b[0m\u001b[0;34m,\u001b[0m \u001b[0mexc_info\u001b[0m\u001b[0;34m=\u001b[0m\u001b[0;32mTrue\u001b[0m\u001b[0;34m)\u001b[0m\u001b[0;34m\u001b[0m\u001b[0;34m\u001b[0m\u001b[0m\n",
            "\u001b[0;31mKeyboardInterrupt\u001b[0m: Interrupted by user"
          ]
        }
      ]
    },
    {
      "cell_type": "code",
      "source": [],
      "metadata": {
        "id": "9373j8m6P5bN"
      },
      "execution_count": null,
      "outputs": []
    }
  ]
}