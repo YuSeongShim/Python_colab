{
  "nbformat": 4,
  "nbformat_minor": 0,
  "metadata": {
    "colab": {
      "provenance": [],
      "authorship_tag": "ABX9TyP4XIhiY+DLhLhKyskexTcS",
      "include_colab_link": true
    },
    "kernelspec": {
      "name": "python3",
      "display_name": "Python 3"
    },
    "language_info": {
      "name": "python"
    }
  },
  "cells": [
    {
      "cell_type": "markdown",
      "metadata": {
        "id": "view-in-github",
        "colab_type": "text"
      },
      "source": [
        "<a href=\"https://colab.research.google.com/github/YuSeongShim/Python_colab/blob/main/25_05_09_Python_%EC%88%98%EC%97%85(%ED%95%A8%EC%88%98%EC%97%90%EC%84%9C_%EC%9C%84%EC%B9%98_%EC%9D%B8%EC%88%98%EC%99%80_%ED%82%A4%EC%9B%8C%EB%93%9C_%EC%9D%B8%EC%88%98_%EC%82%AC%EC%9A%A9%ED%95%98%EA%B8%B0).ipynb\" target=\"_parent\"><img src=\"https://colab.research.google.com/assets/colab-badge.svg\" alt=\"Open In Colab\"/></a>"
      ]
    },
    {
      "cell_type": "markdown",
      "source": [
        "## 위치 인수와 리스트 언패킹 사용하기"
      ],
      "metadata": {
        "id": "MiFrrRTEOtMc"
      }
    },
    {
      "cell_type": "code",
      "execution_count": null,
      "metadata": {
        "id": "_lc5pZbsNscr",
        "colab": {
          "base_uri": "https://localhost:8080/"
        },
        "outputId": "0c496e66-1e97-4b49-ee1a-e2bdfc63304a"
      },
      "outputs": [
        {
          "output_type": "stream",
          "name": "stdout",
          "text": [
            "10 20 30\n"
          ]
        }
      ],
      "source": [
        "## 함수에 인수를 순서대로 넣는 방식 -> 위치 인수(positional argument)라고 함\n",
        "## 인수의 위치가 정해져 있음\n",
        "\n",
        "print(10, 20, 30)"
      ]
    },
    {
      "cell_type": "markdown",
      "source": [
        "## 위치 인수를 사용하는 함수를 만들고 호출하기"
      ],
      "metadata": {
        "id": "wD5Y1z-lQA5s"
      }
    },
    {
      "cell_type": "code",
      "source": [
        "def print_numbers(a, b, c):\n",
        "    print(a)\n",
        "    print(b)\n",
        "    print(c)"
      ],
      "metadata": {
        "id": "f4RejUD8P9kQ"
      },
      "execution_count": null,
      "outputs": []
    },
    {
      "cell_type": "code",
      "source": [
        "print_numbers(10, 20, 30)"
      ],
      "metadata": {
        "colab": {
          "base_uri": "https://localhost:8080/"
        },
        "id": "cjv8V148QOx8",
        "outputId": "6ede8878-e2c8-4f0a-d0ca-873571dca261"
      },
      "execution_count": null,
      "outputs": [
        {
          "output_type": "stream",
          "name": "stdout",
          "text": [
            "10\n",
            "20\n",
            "30\n"
          ]
        }
      ]
    },
    {
      "cell_type": "markdown",
      "source": [
        "## 언패킹 사용하기"
      ],
      "metadata": {
        "id": "ZICrbfdnQXoj"
      }
    },
    {
      "cell_type": "code",
      "source": [
        "# 함수(*리스트)\n",
        "# 함수(*튜플)\n",
        "\n",
        "x = [10, 20, 30]\n",
        "print_numbers(*x)"
      ],
      "metadata": {
        "colab": {
          "base_uri": "https://localhost:8080/"
        },
        "id": "aaWT6xnkQRIl",
        "outputId": "6a8fee50-17e0-4276-abde-adab20d237a4"
      },
      "execution_count": null,
      "outputs": [
        {
          "output_type": "stream",
          "name": "stdout",
          "text": [
            "10\n",
            "20\n",
            "30\n"
          ]
        }
      ]
    },
    {
      "cell_type": "code",
      "source": [
        "# 즉, 리스트(튜플) 앞에 *을 붙이면 언패킹 됨\n",
        "# print_numbers(10, 20, 30)과 똑같은 동작이 됨 -> 말 그대로 포장을 푼다"
      ],
      "metadata": {
        "id": "ZcSWQGXxQlTc"
      },
      "execution_count": null,
      "outputs": []
    },
    {
      "cell_type": "code",
      "source": [
        "# 리스트 변수 대신 리스트 앞에 바로 *을 붙여도 동작은 같음\n",
        "print_numbers(*[10, 20, 30])"
      ],
      "metadata": {
        "colab": {
          "base_uri": "https://localhost:8080/"
        },
        "id": "WDGSJ09bRMfB",
        "outputId": "7e18238a-5882-4e4e-c833-e525160e827e"
      },
      "execution_count": null,
      "outputs": [
        {
          "output_type": "stream",
          "name": "stdout",
          "text": [
            "10\n",
            "20\n",
            "30\n"
          ]
        }
      ]
    },
    {
      "cell_type": "code",
      "source": [
        "# 이때의 매개변수 개수와 리스트의 요소 개수는 같아야 함\n",
        "# 만약 개수가 다르면 함수를 호출 할 수 x\n",
        "\n",
        "print_numbers(*[10, 20])"
      ],
      "metadata": {
        "colab": {
          "base_uri": "https://localhost:8080/",
          "height": 182
        },
        "id": "qqFiKOl5RWCe",
        "outputId": "ff9d22c7-f0a6-49c3-a16a-d958bd59c76a"
      },
      "execution_count": null,
      "outputs": [
        {
          "output_type": "error",
          "ename": "TypeError",
          "evalue": "print_numbers() missing 1 required positional argument: 'c'",
          "traceback": [
            "\u001b[0;31m---------------------------------------------------------------------------\u001b[0m",
            "\u001b[0;31mTypeError\u001b[0m                                 Traceback (most recent call last)",
            "\u001b[0;32m<ipython-input-8-e1b2aa05364b>\u001b[0m in \u001b[0;36m<cell line: 0>\u001b[0;34m()\u001b[0m\n\u001b[1;32m      2\u001b[0m \u001b[0;31m# 만약 개수가 다르면 함수를 호출 할 수 x\u001b[0m\u001b[0;34m\u001b[0m\u001b[0;34m\u001b[0m\u001b[0m\n\u001b[1;32m      3\u001b[0m \u001b[0;34m\u001b[0m\u001b[0m\n\u001b[0;32m----> 4\u001b[0;31m \u001b[0mprint_numbers\u001b[0m\u001b[0;34m(\u001b[0m\u001b[0;34m*\u001b[0m\u001b[0;34m[\u001b[0m\u001b[0;36m10\u001b[0m\u001b[0;34m,\u001b[0m \u001b[0;36m20\u001b[0m\u001b[0;34m]\u001b[0m\u001b[0;34m)\u001b[0m\u001b[0;34m\u001b[0m\u001b[0;34m\u001b[0m\u001b[0m\n\u001b[0m",
            "\u001b[0;31mTypeError\u001b[0m: print_numbers() missing 1 required positional argument: 'c'"
          ]
        }
      ]
    },
    {
      "cell_type": "markdown",
      "source": [
        "## 가변 인수 함수 만들기"
      ],
      "metadata": {
        "id": "vN4JmIkmaqnY"
      }
    },
    {
      "cell_type": "code",
      "source": [
        "# 위치 인수와 리스트 언패킹은 인수의 개수가 정해지지 않은 가변 인수를 사용\n",
        "# 즉 같은 함수에 인수 한 개를 넣을 수 있고, 열 개를 넣을 수도 있음, 또는 인수를 넣지 않을 수 o\n",
        "\n",
        "# 가변 함수는 매개변수 앞에 *을 붙여서 만듬\n",
        "\n",
        "def 함수이름(*매개변수):\n",
        "    코드"
      ],
      "metadata": {
        "id": "gpddwxlUajc1"
      },
      "execution_count": null,
      "outputs": []
    },
    {
      "cell_type": "code",
      "source": [
        "# 숫자를 여러 개 받고, 숫자를 각 줄에 출력하는 함수를 만듬\n",
        "# 함수를 만들 때 괄호 안에 *args와 같이 매개변수 앞에 *을 붙암\n",
        "\n",
        "def print_numbers(*args):\n",
        "    for arg in args: # arg는 튜플이라서 for로 반복 가능\n",
        "        print(arg)"
      ],
      "metadata": {
        "id": "odUkjCGvbWmA"
      },
      "execution_count": null,
      "outputs": []
    },
    {
      "cell_type": "code",
      "source": [
        "print_numbers(10)"
      ],
      "metadata": {
        "colab": {
          "base_uri": "https://localhost:8080/"
        },
        "id": "wHbFsXHubxs7",
        "outputId": "b364669c-2ca7-4ed5-d651-7b6dc0bdf17a"
      },
      "execution_count": null,
      "outputs": [
        {
          "output_type": "stream",
          "name": "stdout",
          "text": [
            "10\n"
          ]
        }
      ]
    },
    {
      "cell_type": "code",
      "source": [
        "print_numbers(10, 20, 30, 40)"
      ],
      "metadata": {
        "colab": {
          "base_uri": "https://localhost:8080/"
        },
        "id": "UHqqpHurcG8Y",
        "outputId": "498905ef-22b9-4596-9ca9-1d1487ad5c20"
      },
      "execution_count": null,
      "outputs": [
        {
          "output_type": "stream",
          "name": "stdout",
          "text": [
            "10\n",
            "20\n",
            "30\n",
            "40\n"
          ]
        }
      ]
    },
    {
      "cell_type": "code",
      "source": [
        "# 함수에 인수 여러 개를 직접 넣어도 되고, 리스트(튜플) 언패킹을 사용되도 됨\n",
        "\n",
        "x = [10]\n",
        "print_numbers(*x)"
      ],
      "metadata": {
        "colab": {
          "base_uri": "https://localhost:8080/"
        },
        "id": "uE5rE_P7cJOm",
        "outputId": "c64d4a75-c69b-4003-f0b9-3df94ec76a84"
      },
      "execution_count": null,
      "outputs": [
        {
          "output_type": "stream",
          "name": "stdout",
          "text": [
            "10\n"
          ]
        }
      ]
    },
    {
      "cell_type": "code",
      "source": [
        "y = [10, 20, 30, 40]\n",
        "print_numbers(*y)"
      ],
      "metadata": {
        "colab": {
          "base_uri": "https://localhost:8080/"
        },
        "id": "V6npE4Cgcbxq",
        "outputId": "5371406d-397c-422c-d41d-0f54cde4e5f1"
      },
      "execution_count": null,
      "outputs": [
        {
          "output_type": "stream",
          "name": "stdout",
          "text": [
            "10\n",
            "20\n",
            "30\n",
            "40\n"
          ]
        }
      ]
    },
    {
      "cell_type": "markdown",
      "source": [
        "## 고정 인수와 가변 인수를 함께 사용하기"
      ],
      "metadata": {
        "id": "ghFft3Tfcub1"
      }
    },
    {
      "cell_type": "code",
      "source": [
        "# 고정 인수와 가변 인수를 함께 사용할 땐, 고정 매개변수 먼저 저장 후, 그 다음 매개변수에 *을 붙여주면 됨\n",
        "\n",
        "def print_numbers(a, *args):\n",
        "    print(a)\n",
        "    print(args)"
      ],
      "metadata": {
        "id": "6PiiYnSrce92"
      },
      "execution_count": null,
      "outputs": []
    },
    {
      "cell_type": "code",
      "source": [
        "print_numbers(1)"
      ],
      "metadata": {
        "colab": {
          "base_uri": "https://localhost:8080/"
        },
        "id": "G23AegBZdHIK",
        "outputId": "7632a2a1-7623-4c76-ed33-185d36b25f9a"
      },
      "execution_count": null,
      "outputs": [
        {
          "output_type": "stream",
          "name": "stdout",
          "text": [
            "1\n",
            "()\n"
          ]
        }
      ]
    },
    {
      "cell_type": "code",
      "source": [
        "print_numbers(1, 10, 20)"
      ],
      "metadata": {
        "colab": {
          "base_uri": "https://localhost:8080/"
        },
        "id": "VWrU4nWSdJG_",
        "outputId": "63a67bb0-1086-458b-dff5-110703d70480"
      },
      "execution_count": null,
      "outputs": [
        {
          "output_type": "stream",
          "name": "stdout",
          "text": [
            "1\n",
            "(10, 20)\n"
          ]
        }
      ]
    },
    {
      "cell_type": "code",
      "source": [
        "print_numbers(*[10, 20, 30])"
      ],
      "metadata": {
        "colab": {
          "base_uri": "https://localhost:8080/"
        },
        "id": "U1R54qFkdMCW",
        "outputId": "2a35ebc9-be75-47f7-a8c7-a933d87ad448"
      },
      "execution_count": null,
      "outputs": [
        {
          "output_type": "stream",
          "name": "stdout",
          "text": [
            "10\n",
            "(20, 30)\n"
          ]
        }
      ]
    },
    {
      "cell_type": "markdown",
      "source": [
        "## 키워드 인수 사용하기"
      ],
      "metadata": {
        "id": "LAIA4GWLdV-h"
      }
    },
    {
      "cell_type": "code",
      "source": [
        "# 개인정보를 출력하는 함수\n",
        "\n",
        "def personal_info(name, age, address):\n",
        "    print('이름: ', name)\n",
        "    print('나이: ', age)\n",
        "    print('주소: ', address)"
      ],
      "metadata": {
        "id": "xn7cBx1FdPzi"
      },
      "execution_count": null,
      "outputs": []
    },
    {
      "cell_type": "code",
      "source": [
        "# 이 함수를 사용할 때는 첫번째 인수에 이름(name), 나이(age), 주소(adress)를 넣어야 함\n",
        "personal_info('홍길동', 30, '서울시 용산구 이촌동')"
      ],
      "metadata": {
        "colab": {
          "base_uri": "https://localhost:8080/"
        },
        "id": "tE699A_ag7zF",
        "outputId": "de05a326-5886-462c-a718-002572d8c9ea"
      },
      "execution_count": null,
      "outputs": [
        {
          "output_type": "stream",
          "name": "stdout",
          "text": [
            "이름:  홍길동\n",
            "나이:  30\n",
            "주소:  서울시 용산구 이촌동\n"
          ]
        }
      ]
    },
    {
      "cell_type": "code",
      "source": [
        "# 인수의 순서와 용도를 매번 기억하지 않도록 키워드 인수(keyword argument)라는 기능 제공\n",
        "# 키워드 인수는 말 그대로 인수에 이름(키워드)을 붙이는 기능, 키워드 = 값 형식 사용\n",
        "\n",
        "# 함수(키워드=값)"
      ],
      "metadata": {
        "id": "-k4lCJUchAp9"
      },
      "execution_count": null,
      "outputs": []
    },
    {
      "cell_type": "code",
      "source": [
        "# personal_info 함수를 키워드 인수 방식으로 호출\n",
        "\n",
        "personal_info(name='홍길동', age= 30, address='서울시 용산구 이촌동')"
      ],
      "metadata": {
        "colab": {
          "base_uri": "https://localhost:8080/"
        },
        "id": "UVioD_kPhsNK",
        "outputId": "c925497b-e5e5-4384-b196-e1dd9cc0c97a"
      },
      "execution_count": null,
      "outputs": [
        {
          "output_type": "stream",
          "name": "stdout",
          "text": [
            "이름:  홍길동\n",
            "나이:  30\n",
            "주소:  서울시 용산구 이촌동\n"
          ]
        }
      ]
    },
    {
      "cell_type": "code",
      "source": [
        "# 키워드 함수를 사용하면 인수의 순서를 맞추지 않아도 키워드에 해당 하는 값이 들어감\n",
        "\n",
        "personal_info(age=30, address='서울시 용산구 이촌동', name='홍길동')"
      ],
      "metadata": {
        "colab": {
          "base_uri": "https://localhost:8080/"
        },
        "id": "BcPiCnKOh-HF",
        "outputId": "28d8ac13-648c-4ac2-85c9-c8d5b2c97ab6"
      },
      "execution_count": null,
      "outputs": [
        {
          "output_type": "stream",
          "name": "stdout",
          "text": [
            "이름:  홍길동\n",
            "나이:  30\n",
            "주소:  서울시 용산구 이촌동\n"
          ]
        }
      ]
    },
    {
      "cell_type": "code",
      "source": [
        "# personal_info 함수는 이름, 나이, 주소순으로 인수를 넣어야 하지만, 키워드 인수를 사용해서 순서를 지키지 않고 값을 넣음\n",
        "# 참고로 print 함수에서 사용했던 sep, end도 키워드 함수임\n",
        "\n",
        "print(10, 20, 30, sep=':', end='')"
      ],
      "metadata": {
        "colab": {
          "base_uri": "https://localhost:8080/"
        },
        "id": "85SioqYaiYr2",
        "outputId": "8d74d7fb-787f-427a-8b8d-70e6f42a33f6"
      },
      "execution_count": null,
      "outputs": [
        {
          "output_type": "stream",
          "name": "stdout",
          "text": [
            "10:20:30"
          ]
        }
      ]
    },
    {
      "cell_type": "markdown",
      "source": [
        "## 키워드 인수와 딕셔너리 언패킹 사용하기"
      ],
      "metadata": {
        "id": "NJmuaT1ci2JE"
      }
    },
    {
      "cell_type": "code",
      "source": [
        "# 함수(**딕셔너리)\n",
        "\n",
        "def personal_info(name, age, address):\n",
        "    print('이름: ', name)\n",
        "    print('나이: ', age)\n",
        "    print('주소: ', address)"
      ],
      "metadata": {
        "id": "c4g_aULgiyGr"
      },
      "execution_count": null,
      "outputs": []
    },
    {
      "cell_type": "code",
      "source": [
        "# 딕셔너리에 '키워드':값 형식으로 인수를 저장하고 앞에 **를 붙여서 함수에 넣어줌\n",
        "# 이때 딕셔너리의 키워드(키)는 반드시 문자열 이어야 함\n",
        "\n",
        "x = {'name' : '홍길동', 'age': 30, 'address' : '서울시 용산구 이촌동'}\n",
        "personal_info(**x)"
      ],
      "metadata": {
        "colab": {
          "base_uri": "https://localhost:8080/"
        },
        "id": "2YORG1ABjgfb",
        "outputId": "f023aa8c-b279-48d8-fb47-f0d4f07d4828"
      },
      "execution_count": null,
      "outputs": [
        {
          "output_type": "stream",
          "name": "stdout",
          "text": [
            "이름:  홍길동\n",
            "나이:  30\n",
            "주소:  서울시 용산구 이촌동\n"
          ]
        }
      ]
    },
    {
      "cell_type": "code",
      "source": [
        "# 딕셔너리 변수 대신 바로 앞에 **을 붙여도 상관 x\n",
        "\n",
        "personal_info(**{'name': '홍길동', 'age' : 30, 'address' : '서울시 용산구 이촌동'})"
      ],
      "metadata": {
        "colab": {
          "base_uri": "https://localhost:8080/"
        },
        "id": "Apg1rz8akVuJ",
        "outputId": "2f43d954-d1c5-4c16-e9d8-e54737619bb7"
      },
      "execution_count": null,
      "outputs": [
        {
          "output_type": "stream",
          "name": "stdout",
          "text": [
            "이름:  홍길동\n",
            "나이:  30\n",
            "주소:  서울시 용산구 이촌동\n"
          ]
        }
      ]
    },
    {
      "cell_type": "code",
      "source": [
        "# 딕셔너리 언패킹을 할 때 매개변수 이름 = 딕셔너리의 키 이름\n",
        "# 또한 매개변수 개수 = 딕셔너리 키의 개수\n",
        "# 만약 이름과 개수가 다르면 호출 x"
      ],
      "metadata": {
        "id": "tuxhC0NdlAQF"
      },
      "execution_count": null,
      "outputs": []
    },
    {
      "cell_type": "code",
      "source": [
        "personal_info(**{'name' : '홍길동', 'old' : 30, 'address' : '서울시 용산구 이촌동'})"
      ],
      "metadata": {
        "colab": {
          "base_uri": "https://localhost:8080/",
          "height": 146
        },
        "id": "u8LNqCTsliRx",
        "outputId": "766a2dc1-0bc3-4c2b-9282-b3c1851155f5"
      },
      "execution_count": null,
      "outputs": [
        {
          "output_type": "error",
          "ename": "TypeError",
          "evalue": "personal_info() got an unexpected keyword argument 'old'",
          "traceback": [
            "\u001b[0;31m---------------------------------------------------------------------------\u001b[0m",
            "\u001b[0;31mTypeError\u001b[0m                                 Traceback (most recent call last)",
            "\u001b[0;32m<ipython-input-27-85b7ae5d4bc0>\u001b[0m in \u001b[0;36m<cell line: 0>\u001b[0;34m()\u001b[0m\n\u001b[0;32m----> 1\u001b[0;31m \u001b[0mpersonal_info\u001b[0m\u001b[0;34m(\u001b[0m\u001b[0;34m**\u001b[0m\u001b[0;34m{\u001b[0m\u001b[0;34m'name'\u001b[0m \u001b[0;34m:\u001b[0m \u001b[0;34m'홍길동'\u001b[0m\u001b[0;34m,\u001b[0m \u001b[0;34m'old'\u001b[0m \u001b[0;34m:\u001b[0m \u001b[0;36m30\u001b[0m\u001b[0;34m,\u001b[0m \u001b[0;34m'address'\u001b[0m \u001b[0;34m:\u001b[0m \u001b[0;34m'서울시 용산구 이촌동'\u001b[0m\u001b[0;34m}\u001b[0m\u001b[0;34m)\u001b[0m\u001b[0;34m\u001b[0m\u001b[0;34m\u001b[0m\u001b[0m\n\u001b[0m",
            "\u001b[0;31mTypeError\u001b[0m: personal_info() got an unexpected keyword argument 'old'"
          ]
        }
      ]
    },
    {
      "cell_type": "code",
      "source": [
        "personal_info(**{'name': '홍길동', 'age' : 30})"
      ],
      "metadata": {
        "colab": {
          "base_uri": "https://localhost:8080/",
          "height": 146
        },
        "id": "1RAD4tLVltPk",
        "outputId": "280b1670-f7c0-42e9-c32c-729b87c4836b"
      },
      "execution_count": null,
      "outputs": [
        {
          "output_type": "error",
          "ename": "TypeError",
          "evalue": "personal_info() missing 1 required positional argument: 'address'",
          "traceback": [
            "\u001b[0;31m---------------------------------------------------------------------------\u001b[0m",
            "\u001b[0;31mTypeError\u001b[0m                                 Traceback (most recent call last)",
            "\u001b[0;32m<ipython-input-28-b62f369465b8>\u001b[0m in \u001b[0;36m<cell line: 0>\u001b[0;34m()\u001b[0m\n\u001b[0;32m----> 1\u001b[0;31m \u001b[0mpersonal_info\u001b[0m\u001b[0;34m(\u001b[0m\u001b[0;34m**\u001b[0m\u001b[0;34m{\u001b[0m\u001b[0;34m'name'\u001b[0m\u001b[0;34m:\u001b[0m \u001b[0;34m'홍길동'\u001b[0m\u001b[0;34m,\u001b[0m \u001b[0;34m'age'\u001b[0m \u001b[0;34m:\u001b[0m \u001b[0;36m30\u001b[0m\u001b[0;34m}\u001b[0m\u001b[0;34m)\u001b[0m\u001b[0;34m\u001b[0m\u001b[0;34m\u001b[0m\u001b[0m\n\u001b[0m",
            "\u001b[0;31mTypeError\u001b[0m: personal_info() missing 1 required positional argument: 'address'"
          ]
        }
      ]
    },
    {
      "cell_type": "markdown",
      "source": [
        "## **을 두 번 사용하는 이유"
      ],
      "metadata": {
        "id": "IrpvcfANl3lj"
      }
    },
    {
      "cell_type": "code",
      "source": [
        "# 딕셔너리는 키-값 쌍 형태로 값이 저장되기 때문\n",
        "\n",
        "x = {'name' : '홍길동', 'age' : 30, 'address' : '서울시 용산구 이촌동'}\n",
        "personal_info(*x)"
      ],
      "metadata": {
        "colab": {
          "base_uri": "https://localhost:8080/"
        },
        "id": "ub8pOadvl1YN",
        "outputId": "78b19f81-d34f-4ef0-fe40-3ab8b284b5b1"
      },
      "execution_count": null,
      "outputs": [
        {
          "output_type": "stream",
          "name": "stdout",
          "text": [
            "이름:  name\n",
            "나이:  age\n",
            "주소:  address\n"
          ]
        }
      ]
    },
    {
      "cell_type": "code",
      "source": [
        "# personal_info에 *x를 넣으면 x의 키가 출력\n",
        "# 즉 딕셔너리를 한 번 언패킹하면 키를 사용한다는 뜻\n",
        "# 따라서 **처럼 딕셔너리를 두 번 언패킹하여 값을 사용하도록 만들어야 함\n",
        "\n",
        "x = {'name' : '홍길동', 'age' : 30, 'address' : '서울시 용산구 이촌동'}\n",
        "personal_info(**x)"
      ],
      "metadata": {
        "colab": {
          "base_uri": "https://localhost:8080/"
        },
        "id": "hmdz2f8nmLpI",
        "outputId": "5df1750a-7102-42b0-c6e6-9775f6338b21"
      },
      "execution_count": null,
      "outputs": [
        {
          "output_type": "stream",
          "name": "stdout",
          "text": [
            "이름:  홍길동\n",
            "나이:  30\n",
            "주소:  서울시 용산구 이촌동\n"
          ]
        }
      ]
    },
    {
      "cell_type": "markdown",
      "source": [
        "## 키워드 인수를 사용하는 가변 인수 함수 만들기"
      ],
      "metadata": {
        "id": "hlYpyIVNm0n9"
      }
    },
    {
      "cell_type": "code",
      "source": [
        "def 함수이름(**매개변수):\n",
        "    코드"
      ],
      "metadata": {
        "id": "vAP0UCH2mh5s"
      },
      "execution_count": null,
      "outputs": []
    },
    {
      "cell_type": "code",
      "source": [
        "# 값 여러 개를 받아서 매개변수 이름과 값을 각 줄에 출력하는 함수를 만듬\n",
        "\n",
        "def personal_info(**kwargs): # 매개변수 이름은 원하는 데로 지어도 됨\n",
        "    for kw, arg in kwargs.items():\n",
        "        print(kw, ':', arg, sep='')"
      ],
      "metadata": {
        "id": "5k-_NExBnl3V"
      },
      "execution_count": null,
      "outputs": []
    },
    {
      "cell_type": "code",
      "source": [
        "from os import name\n",
        "# personal_info 함수에 키워드와 값을 넣어서 실행\n",
        "\n",
        "personal_info(name='홍길동')"
      ],
      "metadata": {
        "colab": {
          "base_uri": "https://localhost:8080/"
        },
        "id": "SnAPwNAvn9hn",
        "outputId": "b11b7daf-4b0d-4329-e0da-0cb12dda2160"
      },
      "execution_count": null,
      "outputs": [
        {
          "output_type": "stream",
          "name": "stdout",
          "text": [
            "name:홍길동\n"
          ]
        }
      ]
    },
    {
      "cell_type": "code",
      "source": [
        "personal_info(name='홍길동', age=30, address='서울시 용산구 이촌동')"
      ],
      "metadata": {
        "colab": {
          "base_uri": "https://localhost:8080/"
        },
        "id": "Bo14e_1NoOyk",
        "outputId": "f0403e8d-c923-43ee-bb98-0c099a30192a"
      },
      "execution_count": null,
      "outputs": [
        {
          "output_type": "stream",
          "name": "stdout",
          "text": [
            "name:홍길동\n",
            "age:30\n",
            "address:서울시 용산구 이촌동\n"
          ]
        }
      ]
    },
    {
      "cell_type": "code",
      "source": [
        "## 딕셔너리 만들고 앞에 **을 넣기\n",
        "\n",
        "x = {'name' : '홍길동'}\n",
        "personal_info(**x)"
      ],
      "metadata": {
        "colab": {
          "base_uri": "https://localhost:8080/"
        },
        "id": "PzVrPw8UoYGB",
        "outputId": "9397381b-87aa-4a0f-a993-6b467ba46a5c"
      },
      "execution_count": null,
      "outputs": [
        {
          "output_type": "stream",
          "name": "stdout",
          "text": [
            "name:홍길동\n"
          ]
        }
      ]
    },
    {
      "cell_type": "code",
      "source": [
        "y = {'name' : '홍길동', 'age' : 30, 'address' : '서울시 용산구 이촌동'}\n",
        "personal_info(**y)"
      ],
      "metadata": {
        "colab": {
          "base_uri": "https://localhost:8080/"
        },
        "id": "NooJZDqcoktc",
        "outputId": "67dc3934-2197-4534-9f96-3fc3b4b06d17"
      },
      "execution_count": null,
      "outputs": [
        {
          "output_type": "stream",
          "name": "stdout",
          "text": [
            "name:홍길동\n",
            "age:30\n",
            "address:서울시 용산구 이촌동\n"
          ]
        }
      ]
    },
    {
      "cell_type": "code",
      "source": [
        "def personal_info(**kwargs):\n",
        "    if 'name' in kwargs: # in으로 딕셔너리 안에 특정 키가 있는지 확인\n",
        "        print('이름: ', kwargs['name'])\n",
        "    if 'age' in kwargs:\n",
        "        print('나이: ', kwargs['age'])\n",
        "    if 'address' in kwargs:\n",
        "        print('주소: ', kwargs['address'])"
      ],
      "metadata": {
        "id": "jrAXhB0ro81s"
      },
      "execution_count": null,
      "outputs": []
    },
    {
      "cell_type": "markdown",
      "source": [
        "## 고정 인수와 가변 인수(키워드 인수) 함께 사용하기"
      ],
      "metadata": {
        "id": "m1CRAtIDp_Ty"
      }
    },
    {
      "cell_type": "code",
      "source": [
        "# 고정 인수와 가변 인수(키워드 인수)를 함께 사용할 때는 다음과 같이 고정 매개변수를 먼저 지정, 그 다음에 매개변수 **를 붙어주면 됨\n",
        "\n",
        "def personal_info(name, **kwargs):\n",
        "    print(name)\n",
        "    print(kwargs)\n",
        "\n",
        "personal_info('홍길동')"
      ],
      "metadata": {
        "colab": {
          "base_uri": "https://localhost:8080/"
        },
        "id": "sxMH4gcep8sY",
        "outputId": "40387f80-df9e-49de-ba5e-88fb903cb636"
      },
      "execution_count": null,
      "outputs": [
        {
          "output_type": "stream",
          "name": "stdout",
          "text": [
            "홍길동\n",
            "{}\n"
          ]
        }
      ]
    },
    {
      "cell_type": "code",
      "source": [
        "personal_info('홍길동', age=30, address='서울시 용산구 이촌동')"
      ],
      "metadata": {
        "colab": {
          "base_uri": "https://localhost:8080/"
        },
        "id": "Lr9SXAYOqXEH",
        "outputId": "06fd06c0-6bb7-4c0b-cead-bbb3059ef4d4"
      },
      "execution_count": null,
      "outputs": [
        {
          "output_type": "stream",
          "name": "stdout",
          "text": [
            "홍길동\n",
            "{'age': 30, 'address': '서울시 용산구 이촌동'}\n"
          ]
        }
      ]
    },
    {
      "cell_type": "code",
      "source": [
        "personal_info(**{'name': '홍길동', 'age' : 30, 'address' : '서울시 용산구 이촌동'})"
      ],
      "metadata": {
        "colab": {
          "base_uri": "https://localhost:8080/"
        },
        "id": "DzPzR9ACqhj7",
        "outputId": "b98d3741-f21a-4ca1-b841-6e038d4945ba"
      },
      "execution_count": null,
      "outputs": [
        {
          "output_type": "stream",
          "name": "stdout",
          "text": [
            "홍길동\n",
            "{'age': 30, 'address': '서울시 용산구 이촌동'}\n"
          ]
        }
      ]
    },
    {
      "cell_type": "markdown",
      "source": [
        "## 위치 인수와 키워드 인수를 함께 사용하기"
      ],
      "metadata": {
        "id": "3nV_bpcUrDDt"
      }
    },
    {
      "cell_type": "code",
      "source": [
        "# 다음과 같이 함수의 매개변수를 *args, **kwargs로 지정하면 위치인수와 키워드 인수 같이 사용\n",
        "\n",
        "def custom_print(*args, **kwargs):\n",
        "    print(*args, **kwargs)\n",
        "\n",
        "custom_print(1, 2, 3, sep=':', end='')"
      ],
      "metadata": {
        "colab": {
          "base_uri": "https://localhost:8080/"
        },
        "id": "SnzKynRHqzvW",
        "outputId": "31849f66-971e-4a63-8333-caa990ccfd6a"
      },
      "execution_count": null,
      "outputs": [
        {
          "output_type": "stream",
          "name": "stdout",
          "text": [
            "1:2:3"
          ]
        }
      ]
    },
    {
      "cell_type": "markdown",
      "source": [
        "## 매개변수에 초깃값 지정하기"
      ],
      "metadata": {
        "id": "dEIwZCWwruQV"
      }
    },
    {
      "cell_type": "code",
      "source": [
        "# 초기값은 다음과 같이 함수를 만들 때 매개변수 = 값 형식으로 지정\n",
        "\n",
        "def 함수이름(매개변수=값):\n",
        "    코드"
      ],
      "metadata": {
        "colab": {
          "base_uri": "https://localhost:8080/",
          "height": 200
        },
        "id": "N4qxQwx8rkUW",
        "outputId": "50bbdd54-ae34-4808-fb17-aeea0b41fd53"
      },
      "execution_count": null,
      "outputs": [
        {
          "output_type": "error",
          "ename": "NameError",
          "evalue": "name '값' is not defined",
          "traceback": [
            "\u001b[0;31m---------------------------------------------------------------------------\u001b[0m",
            "\u001b[0;31mNameError\u001b[0m                                 Traceback (most recent call last)",
            "\u001b[0;32m<ipython-input-46-cd99c9bd1345>\u001b[0m in \u001b[0;36m<cell line: 0>\u001b[0;34m()\u001b[0m\n\u001b[1;32m      1\u001b[0m \u001b[0;31m# 초기값은 다음과 같이 함수를 만들 때 매개변수 = 값 형식으로 지정\u001b[0m\u001b[0;34m\u001b[0m\u001b[0;34m\u001b[0m\u001b[0m\n\u001b[1;32m      2\u001b[0m \u001b[0;34m\u001b[0m\u001b[0m\n\u001b[0;32m----> 3\u001b[0;31m \u001b[0;32mdef\u001b[0m \u001b[0m함수이름\u001b[0m\u001b[0;34m(\u001b[0m\u001b[0m매개변수\u001b[0m\u001b[0;34m=\u001b[0m\u001b[0m값\u001b[0m\u001b[0;34m)\u001b[0m\u001b[0;34m:\u001b[0m\u001b[0;34m\u001b[0m\u001b[0;34m\u001b[0m\u001b[0m\n\u001b[0m\u001b[1;32m      4\u001b[0m     \u001b[0m코드\u001b[0m\u001b[0;34m\u001b[0m\u001b[0;34m\u001b[0m\u001b[0m\n",
            "\u001b[0;31mNameError\u001b[0m: name '값' is not defined"
          ]
        }
      ]
    },
    {
      "cell_type": "code",
      "source": [
        "# 매개변수의 초깃값은 주로 사용하는 값이 있으면서 가끔 다른 값을 사용할 때 활용해야 함\n",
        "# 대표적인 예) print -> sep 초깃값이 ''(공백)으로 지정되어 있어서 대부분 그대로 사용가능, 가끔 sep에 다른 값을 넣어서 사용"
      ],
      "metadata": {
        "id": "xP7KjB_Dr66p"
      },
      "execution_count": null,
      "outputs": []
    },
    {
      "cell_type": "code",
      "source": [
        "# personal_info 함수에서 매개변수 address의 초깃값을 '비공개'로 지정\n",
        "\n",
        "def personal_info(name, age, address='비공개'):\n",
        "    print('이름: ', name)\n",
        "    print('나이: ', age)\n",
        "    print('주소: ', address)"
      ],
      "metadata": {
        "id": "zidZrui6sSo4"
      },
      "execution_count": null,
      "outputs": []
    },
    {
      "cell_type": "code",
      "source": [
        "personal_info('홍길동', 30)"
      ],
      "metadata": {
        "colab": {
          "base_uri": "https://localhost:8080/"
        },
        "id": "hxHGBr68srLO",
        "outputId": "ddeea9db-213d-4c1c-bb1e-e30e3d7cda4a"
      },
      "execution_count": null,
      "outputs": [
        {
          "output_type": "stream",
          "name": "stdout",
          "text": [
            "이름:  홍길동\n",
            "나이:  30\n",
            "주소:  비공개\n"
          ]
        }
      ]
    },
    {
      "cell_type": "code",
      "source": [
        "# 매개변수에 초깃삾이 지정되어 있더라도 해당 값을 넣으면 전달 됨\n",
        "\n",
        "personal_info('홍길동', 30, '서울시 용산구 이촌동')"
      ],
      "metadata": {
        "colab": {
          "base_uri": "https://localhost:8080/"
        },
        "id": "caOouNC1sxBx",
        "outputId": "a6c0ced4-fe1f-4e70-b080-e70d14ece754"
      },
      "execution_count": null,
      "outputs": [
        {
          "output_type": "stream",
          "name": "stdout",
          "text": [
            "이름:  홍길동\n",
            "나이:  30\n",
            "주소:  서울시 용산구 이촌동\n"
          ]
        }
      ]
    },
    {
      "cell_type": "markdown",
      "source": [
        "## 초깃값이 지정된 매개변수 위치"
      ],
      "metadata": {
        "id": "RHeup3B3s_Ix"
      }
    },
    {
      "cell_type": "code",
      "source": [
        "# 매개변수의 초기값을 지정할 때 주의할 점 -> 초깃값이 지정된 매개변수 다음에는 초기값 x\n",
        "\n",
        "def personal_info(name, address='비공개', age):\n",
        "    print('이름: ', name)\n",
        "    print('나이: ', age)\n",
        "    print('주소: ', address)\n",
        "\n",
        "    # 즉 초기값이 지정된 매개변수는 뒤쪽으로 몰아주면 됨\n",
        "\n",
        "def personal_info(name, age, address='비공개'):\n",
        "  def personal_info(name, age=0, address='비공개'):\n",
        "    def personal_info(name='비공개', age=0, address='비공개'):\n"
      ],
      "metadata": {
        "colab": {
          "base_uri": "https://localhost:8080/",
          "height": 110
        },
        "id": "KPW6oZlUs9RT",
        "outputId": "96b40518-e4b8-4d35-92a9-9c2cd5d70292"
      },
      "execution_count": null,
      "outputs": [
        {
          "output_type": "error",
          "ename": "SyntaxError",
          "evalue": "non-default argument follows default argument (<ipython-input-51-34ed5408cc85>, line 3)",
          "traceback": [
            "\u001b[0;36m  File \u001b[0;32m\"<ipython-input-51-34ed5408cc85>\"\u001b[0;36m, line \u001b[0;32m3\u001b[0m\n\u001b[0;31m    def personal_info(name, address='비공개', age):\u001b[0m\n\u001b[0m                                           ^\u001b[0m\n\u001b[0;31mSyntaxError\u001b[0m\u001b[0;31m:\u001b[0m non-default argument follows default argument\n"
          ]
        }
      ]
    },
    {
      "cell_type": "markdown",
      "source": [
        "## 연습문제 : 가장 높은 점수를 구하는 함수 만들기"
      ],
      "metadata": {
        "id": "fpxvYBkjvnaK"
      }
    },
    {
      "cell_type": "code",
      "source": [
        "korean, english, mathmatics, science = 100, 86, 81, 91\n",
        "\n",
        "def get_max_score(*args):\n",
        "    return max(args)\n",
        "\n",
        "max_score = get_max_score(korean, english, mathmatics, science)\n",
        "print('높은 점수: ', max_score)\n",
        "\n",
        "\n",
        "max_score = get_max_score(english, science)\n",
        "print('높은 점수: ', max_score)"
      ],
      "metadata": {
        "colab": {
          "base_uri": "https://localhost:8080/"
        },
        "id": "PvMKr4Yhte6R",
        "outputId": "acea14ab-608d-4403-d277-f240b2a1e4f5"
      },
      "execution_count": null,
      "outputs": [
        {
          "output_type": "stream",
          "name": "stdout",
          "text": [
            "높은 점수:  100\n",
            "높은 점수:  91\n"
          ]
        }
      ]
    },
    {
      "cell_type": "markdown",
      "source": [
        "## 심사문제 : 가장 낮은 점수, 높은 점수와 평균 점수를 구하는 함수 만들기"
      ],
      "metadata": {
        "id": "NQhRin3jwnSo"
      }
    },
    {
      "cell_type": "code",
      "source": [
        "korean, english, mathmatics, science = map(int, input().split())\n",
        "\n",
        "def get_min_max_score(*args):\n",
        "    return min(args), max(args)\n",
        "\n",
        "def get_average(korean=0, english=0, mathmatics=0, science=0):\n",
        "    a = [korean, english, mathmatics, science]\n",
        "    c = 0\n",
        "    for i in a:\n",
        "      if i != 0:\n",
        "        c += 1\n",
        "\n",
        "    return (korean+english+mathmatics+science)/c\n",
        "\n",
        "\n",
        "min_score, max_score = get_min_max_score(korean, english, mathmatics, science)\n",
        "average_score = get_average(korean=korean, english=english,\n",
        "                            mathmatics=mathmatics, science=science)\n",
        "print('낮은 점수: {0:.2f}, 높은 점수: {1:.2f}, 평균 점수: {2:.2f}'\n",
        "      .format(min_score, max_score, average_score))\n",
        "\n",
        "min_score, max_score = get_min_max_score(english, science)\n",
        "average_score = get_average(english=english, science=science)\n",
        "print('낮은 점수: {0: .2f}, 높은 점수: {1:.2f}, 평균 점수: {2:.2f}'\n",
        "      .format(min_score, max_score, average_score))"
      ],
      "metadata": {
        "colab": {
          "base_uri": "https://localhost:8080/"
        },
        "id": "bvo7LuADwgtz",
        "outputId": "5c29e6c7-4b3c-4d70-aaff-309b738a1bef"
      },
      "execution_count": null,
      "outputs": [
        {
          "output_type": "stream",
          "name": "stdout",
          "text": [
            "76 82 89 84\n",
            "낮은 점수: 76.00, 높은 점수: 89.00, 평균 점수: 82.75\n",
            "낮은 점수:  82.00, 높은 점수: 84.00, 평균 점수: 83.00\n"
          ]
        }
      ]
    },
    {
      "cell_type": "code",
      "source": [],
      "metadata": {
        "id": "Y15HiJgJx5M1"
      },
      "execution_count": null,
      "outputs": []
    }
  ]
}