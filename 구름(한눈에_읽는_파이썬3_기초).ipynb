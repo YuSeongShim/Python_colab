{
  "nbformat": 4,
  "nbformat_minor": 0,
  "metadata": {
    "colab": {
      "provenance": [],
      "authorship_tag": "ABX9TyNp1Eryoom7M21AcrCuCK1J",
      "include_colab_link": true
    },
    "kernelspec": {
      "name": "python3",
      "display_name": "Python 3"
    },
    "language_info": {
      "name": "python"
    }
  },
  "cells": [
    {
      "cell_type": "markdown",
      "metadata": {
        "id": "view-in-github",
        "colab_type": "text"
      },
      "source": [
        "<a href=\"https://colab.research.google.com/github/YuSeongShim/Python_colab/blob/main/%EA%B5%AC%EB%A6%84(%ED%95%9C%EB%88%88%EC%97%90_%EC%9D%BD%EB%8A%94_%ED%8C%8C%EC%9D%B4%EC%8D%AC3_%EA%B8%B0%EC%B4%88).ipynb\" target=\"_parent\"><img src=\"https://colab.research.google.com/assets/colab-badge.svg\" alt=\"Open In Colab\"/></a>"
      ]
    },
    {
      "cell_type": "markdown",
      "source": [
        "## 04.문자열(string)"
      ],
      "metadata": {
        "id": "W4bgl7VQGwCf"
      }
    },
    {
      "cell_type": "code",
      "execution_count": null,
      "metadata": {
        "colab": {
          "base_uri": "https://localhost:8080/"
        },
        "id": "Wd3u-Vs3GquG",
        "outputId": "e7237d60-1cd9-4cc1-feb6-9a37274ddd02"
      },
      "outputs": [
        {
          "output_type": "stream",
          "name": "stdout",
          "text": [
            "Hello goorm: !@#$%^&*()\\|/ Hello3\n"
          ]
        }
      ],
      "source": [
        "str1 = \"Hello\"\n",
        "str2 = \"goorm: !@#$%^&*()\\|/\"\n",
        "str3 = \"3\"\n",
        "\n",
        "print(str1, str2, str1 + str3)"
      ]
    },
    {
      "cell_type": "code",
      "source": [
        "## 따음표를 문자열로 표현하고 싶을 때\n",
        "\n",
        "str1 = 'He said \"I love you\"'\n",
        "str2 = \"It's so beautiful\"\n",
        "str3 = \"\"\"My name is \"goorm\" \"\"\"\n",
        "str4 = '''It's an apple'''\n",
        "\n",
        "print(str1)\n",
        "print(str2)\n",
        "print(str3)\n",
        "print(str4)"
      ],
      "metadata": {
        "colab": {
          "base_uri": "https://localhost:8080/"
        },
        "id": "yRKXOlesHHxE",
        "outputId": "a20aaf9e-6b1f-490e-959c-1c84535613e6"
      },
      "execution_count": null,
      "outputs": [
        {
          "output_type": "stream",
          "name": "stdout",
          "text": [
            "He said \"I love you\"\n",
            "It's so beautiful\n",
            "My name is \"goorm\" \n",
            "It's an apple\n"
          ]
        }
      ]
    },
    {
      "cell_type": "code",
      "source": [
        "str1 = \"한 눈에 읽는\\n파이썬3\"\n",
        "str2 = '설치가 필요없는 클라우드 IDE, 구름IDE'\n",
        "str3 = '''이스케이프 시퀀스를\n",
        "배워봅시다.'''\n",
        "str4 = \"\"\"한 눈에 읽는\n",
        "파이썬3\"\"\"\n",
        "\n",
        "print(str1)\n",
        "print(str2)\n",
        "print(str3)\n",
        "print(str4)"
      ],
      "metadata": {
        "colab": {
          "base_uri": "https://localhost:8080/"
        },
        "id": "piPX0SuNHoHv",
        "outputId": "e6c31082-8502-49fc-a25f-272aaf76ebdd"
      },
      "execution_count": null,
      "outputs": [
        {
          "output_type": "stream",
          "name": "stdout",
          "text": [
            "한 눈에 읽는\n",
            "파이썬3\n",
            "설치가 필요없는 클라우드 IDE, 구름IDE\n",
            "이스케이프 시퀀스를\n",
            "배워봅시다.\n",
            "한 눈에 읽는\n",
            "파이썬3\n"
          ]
        }
      ]
    },
    {
      "cell_type": "markdown",
      "source": [
        "## 이스케이프 시퀀스"
      ],
      "metadata": {
        "id": "dnKeGMY4HxNM"
      }
    },
    {
      "cell_type": "code",
      "source": [
        "str1 = \"한 눈에 읽는\\n파이썬3\"\n",
        "str2 = '설치가 필요없는 클라우드 IDE, \\n구름IDE'\n",
        "str3 = '''이스케이프 시퀀스를\\n배워봅시다.'''\n",
        "str4 = \"\"\"한 눈에 읽는\\nPython3\"\"\"\n",
        "\n",
        "print(str1)\n",
        "print(str2)\n",
        "print(str3)\n",
        "print(str4)"
      ],
      "metadata": {
        "colab": {
          "base_uri": "https://localhost:8080/"
        },
        "id": "QkNwdXLoHpdw",
        "outputId": "3509c835-9e0a-46f6-b649-dec6279a99f5"
      },
      "execution_count": null,
      "outputs": [
        {
          "output_type": "stream",
          "name": "stdout",
          "text": [
            "한 눈에 읽는\n",
            "파이썬3\n",
            "설치가 필요없는 클라우드 IDE, \n",
            "구름IDE\n",
            "이스케이프 시퀀스를\n",
            "배워봅시다.\n",
            "한 눈에 읽는\n",
            "Python3\n"
          ]
        }
      ]
    },
    {
      "cell_type": "markdown",
      "source": [
        "## 문자열 연산"
      ],
      "metadata": {
        "id": "QfH6xiq1IFvN"
      }
    },
    {
      "cell_type": "code",
      "source": [
        "# 문자열의 덧셈\n",
        "\n",
        "str1 = \"Hello\"\n",
        "str2 = \"goorm!\"\n",
        "result = str1 + str2\n",
        "print(result)"
      ],
      "metadata": {
        "colab": {
          "base_uri": "https://localhost:8080/"
        },
        "id": "FGn5W1aLIH8w",
        "outputId": "451e3621-26ff-48c6-d521-2ef62bfc894c"
      },
      "execution_count": null,
      "outputs": [
        {
          "output_type": "stream",
          "name": "stdout",
          "text": [
            "Hellogoorm!\n"
          ]
        }
      ]
    },
    {
      "cell_type": "code",
      "source": [
        "# 문자열의 곱셈\n",
        "\n",
        "str = \"Hello \"\n",
        "num = 5\n",
        "result = str * num\n",
        "print(result)"
      ],
      "metadata": {
        "colab": {
          "base_uri": "https://localhost:8080/"
        },
        "id": "oeCL9i8oIRIs",
        "outputId": "68a96e12-755c-48ed-beb3-bbe857ac87b3"
      },
      "execution_count": null,
      "outputs": [
        {
          "output_type": "stream",
          "name": "stdout",
          "text": [
            "Hello Hello Hello Hello Hello \n"
          ]
        }
      ]
    },
    {
      "cell_type": "markdown",
      "source": [
        "## 인덱싱과 슬라이싱"
      ],
      "metadata": {
        "id": "XHCtbD6TIkU6"
      }
    },
    {
      "cell_type": "code",
      "source": [
        "# 인덱스는 수많은 데이터 중 원하는 항목을 쉽게 찾을 수 있도록 기록된 표기\n",
        "# 문자열은 바로 2진수로 바꿀 수 없기에, 아스키코드(ASCII CODE)를 사용\n",
        "\n",
        "print(ord(\"A\"))\n",
        "print(chr(65))"
      ],
      "metadata": {
        "colab": {
          "base_uri": "https://localhost:8080/"
        },
        "id": "fHgL_ZcOIem1",
        "outputId": "4b5c1231-c48b-497f-f17b-7e83db65394b"
      },
      "execution_count": null,
      "outputs": [
        {
          "output_type": "stream",
          "name": "stdout",
          "text": [
            "65\n",
            "A\n"
          ]
        }
      ]
    },
    {
      "cell_type": "code",
      "source": [
        "# 인덱싱은 문자열에 포함된 각 문자에 대해 순차적으로 번호를 매기는 것\n",
        "\n",
        "str = \"apple\"\n",
        "print(\"str의 첫 번째 문자는 \", str[0], \"네 번째 문자는\", str[3])"
      ],
      "metadata": {
        "colab": {
          "base_uri": "https://localhost:8080/"
        },
        "id": "MkIE6_IlI-uI",
        "outputId": "2f52963a-7944-4962-9e13-224151eada22"
      },
      "execution_count": null,
      "outputs": [
        {
          "output_type": "stream",
          "name": "stdout",
          "text": [
            "str의 첫 번째 문자는  a 네 번째 문자는 l\n"
          ]
        }
      ]
    },
    {
      "cell_type": "code",
      "source": [
        "# 인덱스를 문자연산 사용\n",
        "\n",
        "a = \"Hello goorm!\"\n",
        "b = a[4] + a[5] + a[6]\n",
        "print(a[0], a[1], a[2], a[3], a[4])\n",
        "print(b)"
      ],
      "metadata": {
        "colab": {
          "base_uri": "https://localhost:8080/"
        },
        "id": "bfkyw3NMJYzW",
        "outputId": "207eba48-51b3-46c7-b880-c3fe1a435e58"
      },
      "execution_count": null,
      "outputs": [
        {
          "output_type": "stream",
          "name": "stdout",
          "text": [
            "H e l l o\n",
            "o g\n"
          ]
        }
      ]
    },
    {
      "cell_type": "code",
      "source": [
        "a = \"Hello goorm!\"\n",
        "b = a[-1] + a[-2] + a[-3]\n",
        "c = a[-0]\n",
        "print(b)\n",
        "print(c)"
      ],
      "metadata": {
        "colab": {
          "base_uri": "https://localhost:8080/"
        },
        "id": "gMoBzo3VJyjW",
        "outputId": "bee69a16-f8cb-4c65-b64b-b8ad02937bff"
      },
      "execution_count": null,
      "outputs": [
        {
          "output_type": "stream",
          "name": "stdout",
          "text": [
            "!mr\n",
            "H\n"
          ]
        }
      ]
    },
    {
      "cell_type": "markdown",
      "source": [
        "## 슬라이싱"
      ],
      "metadata": {
        "id": "RjO912CEJ6Zx"
      }
    },
    {
      "cell_type": "code",
      "source": [
        "a = \"Hello goorm!\"\n",
        "b = a[0:5]\n",
        "print(b)"
      ],
      "metadata": {
        "colab": {
          "base_uri": "https://localhost:8080/"
        },
        "id": "gXxa08awJ3SF",
        "outputId": "f336fb7a-0c8f-4905-959f-6bf93f481969"
      },
      "execution_count": null,
      "outputs": [
        {
          "output_type": "stream",
          "name": "stdout",
          "text": [
            "Hello\n"
          ]
        }
      ]
    },
    {
      "cell_type": "code",
      "source": [
        "a = \"Hello goorm!\"\n",
        "\n",
        "b = a[:5]\n",
        "c = a[5:]\n",
        "print(b)\n",
        "print(c)"
      ],
      "metadata": {
        "colab": {
          "base_uri": "https://localhost:8080/"
        },
        "id": "gz2usdKqKHKH",
        "outputId": "c30e3321-0859-482d-d243-b872d1daf139"
      },
      "execution_count": null,
      "outputs": [
        {
          "output_type": "stream",
          "name": "stdout",
          "text": [
            "Hello\n",
            " goorm!\n"
          ]
        }
      ]
    },
    {
      "cell_type": "code",
      "source": [
        "a = \"Hello goorm!\"\n",
        "\n",
        "b = a[0:-5]\n",
        "c = a[6:-11]\n",
        "print(b)\n",
        "print(c)"
      ],
      "metadata": {
        "colab": {
          "base_uri": "https://localhost:8080/"
        },
        "id": "EKzERbJQKIcR",
        "outputId": "38dc6216-326d-4424-b8e3-e215b1b712e9"
      },
      "execution_count": null,
      "outputs": [
        {
          "output_type": "stream",
          "name": "stdout",
          "text": [
            "Hello g\n",
            "\n"
          ]
        }
      ]
    },
    {
      "cell_type": "markdown",
      "source": [
        "## 문자열 포매팅1"
      ],
      "metadata": {
        "id": "dw7d1njXKRnZ"
      }
    },
    {
      "cell_type": "code",
      "source": [
        "city = \"seoul\"\n",
        "today = 12\n",
        "day = \"화요일\"\n",
        "temperature = 26\n",
        "\n",
        "#정수형 temperature은 문자열과 덧셈 불가 -> str(문자열)로 형변환\n",
        "announcement = city + \"의 \" + str(today) + \"일 \" +day + \" 기온은 \" + str(temperature) + \"도 입니다.\"\n",
        "\n",
        "#1번 방법\n",
        "print(city,\"의\",today,\"일\",day,\"기온은\",temperature,\"도 입니다.\")\n",
        "#2번 방법\n",
        "print(announcement)"
      ],
      "metadata": {
        "colab": {
          "base_uri": "https://localhost:8080/",
          "height": 221
        },
        "id": "iGskXutAKK1A",
        "outputId": "4f39e9af-997d-48ce-e242-c7ac2c812911"
      },
      "execution_count": null,
      "outputs": [
        {
          "output_type": "error",
          "ename": "TypeError",
          "evalue": "'str' object is not callable",
          "traceback": [
            "\u001b[0;31m---------------------------------------------------------------------------\u001b[0m",
            "\u001b[0;31mTypeError\u001b[0m                                 Traceback (most recent call last)",
            "\u001b[0;32m/tmp/ipython-input-16-71195920.py\u001b[0m in \u001b[0;36m<cell line: 0>\u001b[0;34m()\u001b[0m\n\u001b[1;32m      5\u001b[0m \u001b[0;34m\u001b[0m\u001b[0m\n\u001b[1;32m      6\u001b[0m \u001b[0;31m#정수형 temperature은 문자열과 덧셈 불가 -> str(문자열)로 형변환\u001b[0m\u001b[0;34m\u001b[0m\u001b[0;34m\u001b[0m\u001b[0m\n\u001b[0;32m----> 7\u001b[0;31m \u001b[0mannouncement\u001b[0m \u001b[0;34m=\u001b[0m \u001b[0mcity\u001b[0m \u001b[0;34m+\u001b[0m \u001b[0;34m\"의 \"\u001b[0m \u001b[0;34m+\u001b[0m \u001b[0mstr\u001b[0m\u001b[0;34m(\u001b[0m\u001b[0mtoday\u001b[0m\u001b[0;34m)\u001b[0m \u001b[0;34m+\u001b[0m \u001b[0;34m\"일 \"\u001b[0m \u001b[0;34m+\u001b[0m\u001b[0mday\u001b[0m \u001b[0;34m+\u001b[0m \u001b[0;34m\" 기온은 \"\u001b[0m \u001b[0;34m+\u001b[0m \u001b[0mstr\u001b[0m\u001b[0;34m(\u001b[0m\u001b[0mtemperature\u001b[0m\u001b[0;34m)\u001b[0m \u001b[0;34m+\u001b[0m \u001b[0;34m\"도 입니다.\"\u001b[0m\u001b[0;34m\u001b[0m\u001b[0;34m\u001b[0m\u001b[0m\n\u001b[0m\u001b[1;32m      8\u001b[0m \u001b[0;34m\u001b[0m\u001b[0m\n\u001b[1;32m      9\u001b[0m \u001b[0;31m#1번 방법\u001b[0m\u001b[0;34m\u001b[0m\u001b[0;34m\u001b[0m\u001b[0m\n",
            "\u001b[0;31mTypeError\u001b[0m: 'str' object is not callable"
          ]
        }
      ]
    },
    {
      "cell_type": "code",
      "source": [
        "city = \"seoul\"\n",
        "today = 12\n",
        "day = \"화요일\"\n",
        "temperature = 26\n",
        "announcement = \"%s의 %d일 %s 기온은 %d도 입니다.\" %(city, today, day, temperature)\n",
        "\n",
        "print(\"%s의 %d일 %s 기온은 %d도 입니다.\" %(city, today, day, temperature)) #1번 방법\n",
        "print(announcement) #2번 방법"
      ],
      "metadata": {
        "colab": {
          "base_uri": "https://localhost:8080/"
        },
        "id": "fWK8GtVTKuUo",
        "outputId": "fbcd2d6e-b203-4607-f6dc-57d026fa86e5"
      },
      "execution_count": null,
      "outputs": [
        {
          "output_type": "stream",
          "name": "stdout",
          "text": [
            "seoul의 12일 화요일 기온은 26도 입니다.\n",
            "seoul의 12일 화요일 기온은 26도 입니다.\n"
          ]
        }
      ]
    },
    {
      "cell_type": "code",
      "source": [
        "name = \"goorm\"\n",
        "age = 25\n",
        "height = 181.523456\n",
        "\n",
        "print(\"저의 이름은 %s입니다.\" %name)\n",
        "\n",
        "print(\"저는 %d살입니다.\" %25)\n",
        "print(\"제 나이는 %d살입니다.\" %age)\n",
        "print(\"제 나이는 %s살입니다.\" %age)\n",
        "print(\"제 나이는 %.2f살입니다.\" %age)\n",
        "\n",
        "print(\"저의 키는 %fcm입니다.\" %height)\n",
        "print(\"저의 키는 %.2fcm입니다.\" %height)\n",
        "print(\"저의 키는 %dcm입니다.\" %height)\n",
        "\n",
        "print(\"저의 성은 '%c'입니다.\" %\"남\")\n",
        "\n",
        "print(\"저의 나이는 16진수로 표현하면 %x, 8진수로 표현하면 %o입니다.\" %(age, age))\n",
        "\n",
        "print(\"%10d %010d\" %(10, 10))\n",
        "\n",
        "#'김구름'을 포함하여 8칸의 공간 발생 -> 공백 5칸 + 김구름 3칸\n",
        "print(\"%8s %8d %8s\" %(\"김구름\", 6, \"컴퓨터공학\"))\n",
        "print(\"%-8s %-8d %-8s\" %(\"김구름\", 6, \"컴퓨터공학\"))"
      ],
      "metadata": {
        "colab": {
          "base_uri": "https://localhost:8080/"
        },
        "id": "JNlDtOffKuy-",
        "outputId": "1bb8faba-a1eb-429a-9153-6c8a0ccb66cb"
      },
      "execution_count": null,
      "outputs": [
        {
          "output_type": "stream",
          "name": "stdout",
          "text": [
            "저의 이름은 goorm입니다.\n",
            "저는 25살입니다.\n",
            "제 나이는 25살입니다.\n",
            "제 나이는 25살입니다.\n",
            "제 나이는 25.00살입니다.\n",
            "저의 키는 181.523456cm입니다.\n",
            "저의 키는 181.52cm입니다.\n",
            "저의 키는 181cm입니다.\n",
            "저의 성은 '남'입니다.\n",
            "저의 나이는 16진수로 표현하면 19, 8진수로 표현하면 31입니다.\n",
            "        10 0000000010\n",
            "     김구름        6    컴퓨터공학\n",
            "김구름      6        컴퓨터공학   \n"
          ]
        }
      ]
    },
    {
      "cell_type": "markdown",
      "source": [
        "## 문자열 포맷팅 2"
      ],
      "metadata": {
        "id": "j736wIqwMPK1"
      }
    },
    {
      "cell_type": "code",
      "source": [
        "# 변수 이름으로 대입\n",
        "\n",
        "print(\"저의 이름은 {1}입니다. 그리고 나이는 {age}살이고 키는 {0}cm입니다. 제 가장 친한 친구는 {name}입니다.\".format(181.12, \"김구름\",height = 181.123, age = 25, name = \"박에듀\"))"
      ],
      "metadata": {
        "colab": {
          "base_uri": "https://localhost:8080/"
        },
        "id": "AY8hJPUVK3l8",
        "outputId": "3e1c34a2-49fa-41e7-9b98-fe54d83dabe4"
      },
      "execution_count": null,
      "outputs": [
        {
          "output_type": "stream",
          "name": "stdout",
          "text": [
            "저의 이름은 김구름입니다. 그리고 나이는 25살이고 키는 181.12cm입니다. 제 가장 친한 친구는 박에듀입니다.\n"
          ]
        }
      ]
    },
    {
      "cell_type": "code",
      "source": [
        "print(\"{length: >10d}\".format(length = 30))\n",
        "# 공백문자: (공백) ,정렬: 오른쪽 정렬, 폭: 10\n",
        "# 순서대로 입력해야하고 생략 가능\n",
        "\n",
        "print(\"{0:0^10}\".format(\"goorm\"))\n",
        "# 공백문자: 0 ,정렬: 가운데 정렬, 폭: 10\n",
        "# 순서대로 입력해야하고 생략 가능\n",
        "\n",
        "print(\"{height:!>13.2f}\".format(height = 181.24363))\n",
        "# 공백문자: ! ,정렬: 오른쪽 정렬, 폭: 13, 소수점 2자리 표시\n",
        "# 순서대로 입력해야하고 생략 가능"
      ],
      "metadata": {
        "colab": {
          "base_uri": "https://localhost:8080/"
        },
        "id": "bNl38rafMNmn",
        "outputId": "15ce1a74-2b58-4c40-ec17-f3430440b9f6"
      },
      "execution_count": null,
      "outputs": [
        {
          "output_type": "stream",
          "name": "stdout",
          "text": [
            "        30\n",
            "00goorm000\n",
            "!!!!!!!181.24\n"
          ]
        }
      ]
    },
    {
      "cell_type": "code",
      "source": [
        "name = \"김구름\"\n",
        "age = 25\n",
        "height = 181.123\n",
        "print(f\"저의 이름은 {name}입니다. 그리고 나이는 {age+10}살이고 키는 {height:!^10.2f}cm입니다.\")"
      ],
      "metadata": {
        "colab": {
          "base_uri": "https://localhost:8080/"
        },
        "id": "Zjuh-inJNAmO",
        "outputId": "7c990835-54db-4b4e-edec-79d033f28852"
      },
      "execution_count": null,
      "outputs": [
        {
          "output_type": "stream",
          "name": "stdout",
          "text": [
            "저의 이름은 김구름입니다. 그리고 나이는 35살이고 키는 !!181.12!!cm입니다.\n"
          ]
        }
      ]
    },
    {
      "cell_type": "markdown",
      "source": [
        "## 문자열 함수"
      ],
      "metadata": {
        "id": "bjxdBUZRNceK"
      }
    },
    {
      "cell_type": "code",
      "source": [
        "str = \" Hello goorm! I study Python.  \"\n",
        "\n",
        "num = str.count(' ') #빈칸의 개수\n",
        "print(\"빈칸의 개수는 %d입니다.\" %num)\n",
        "print(\"처음 등장하는 'l'의 인덱스 값은 %d입니다.\" %str.find('l'))\n",
        "print(\"Good day에서 처음 등장하는 'y'의 인덱스 값은 %d입니다.\" %\"Good day\".index('y'))\n",
        "\n",
        "print(\" \".join(str))\n",
        "print(str.upper())\n",
        "print(str.lower())\n",
        "print(str.lstrip())\n",
        "print(str.rstrip())\n",
        "print(str.replace('Python', 'C'))\n",
        "print(str.split())"
      ],
      "metadata": {
        "colab": {
          "base_uri": "https://localhost:8080/"
        },
        "id": "pFW-DWgoNBAy",
        "outputId": "9f5b44fc-93b7-420c-ccc1-0c5f3e94719f"
      },
      "execution_count": null,
      "outputs": [
        {
          "output_type": "stream",
          "name": "stdout",
          "text": [
            "빈칸의 개수는 7입니다.\n",
            "처음 등장하는 'l'의 인덱스 값은 3입니다.\n",
            "Good day에서 처음 등장하는 'y'의 인덱스 값은 7입니다.\n",
            "  H e l l o   g o o r m !   I   s t u d y   P y t h o n .    \n",
            " HELLO GOORM! I STUDY PYTHON.  \n",
            " hello goorm! i study python.  \n",
            "Hello goorm! I study Python.  \n",
            " Hello goorm! I study Python.\n",
            " Hello goorm! I study C.  \n",
            "['Hello', 'goorm!', 'I', 'study', 'Python.']\n"
          ]
        }
      ]
    },
    {
      "cell_type": "code",
      "source": [
        "sentence = \"I like studying Python\"\n",
        "print(len(sentence), len(\"goorm\"))"
      ],
      "metadata": {
        "colab": {
          "base_uri": "https://localhost:8080/"
        },
        "id": "zrEcqz1YNoBW",
        "outputId": "7cee97f6-e020-4dee-ad47-e7bb2f1f533c"
      },
      "execution_count": null,
      "outputs": [
        {
          "output_type": "stream",
          "name": "stdout",
          "text": [
            "22 5\n"
          ]
        }
      ]
    },
    {
      "cell_type": "markdown",
      "source": [
        "## 값의 집합: 리스트"
      ],
      "metadata": {
        "id": "SmjBOtEiWtp5"
      }
    },
    {
      "cell_type": "code",
      "source": [
        "oddnumber = [1, 3, 5, 7, 9]\n",
        "cafes = ['star', 'bene', 'yoger', 'friends']\n",
        "A = [1, 5, 'A', 'CC', 'B']\n",
        "listInList = [[1, 3, 5, 6, 7], cafes, oddnumber, 1, 3, 'Abc']\n",
        "\n",
        "print(oddnumber)\n",
        "print(cafes)\n",
        "print(A)\n",
        "print(listInList)"
      ],
      "metadata": {
        "id": "AKdFLQhzN6ej",
        "colab": {
          "base_uri": "https://localhost:8080/"
        },
        "outputId": "b74585d9-f0e2-4a90-bf6c-f1c02690ec2a"
      },
      "execution_count": null,
      "outputs": [
        {
          "output_type": "stream",
          "name": "stdout",
          "text": [
            "[1, 3, 5, 7, 9]\n",
            "['star', 'bene', 'yoger', 'friends']\n",
            "[1, 5, 'A', 'CC', 'B']\n",
            "[[1, 3, 5, 6, 7], ['star', 'bene', 'yoger', 'friends'], [1, 3, 5, 7, 9], 1, 3, 'Abc']\n"
          ]
        }
      ]
    },
    {
      "cell_type": "code",
      "source": [
        "## 인덱싱과 슬라이싱\n",
        "\n",
        "oddnumber = [1, 3, 5, 7, 9]\n",
        "cafes = ['star', 'bene', 'yoger', 'friends']\n",
        "A = [1, 5, 'A', 'CC', 'B']\n",
        "listInList = [[1, 3, 5, 6, 7], cafes, oddnumber, 1, 3, 'Abc']\n",
        "\n",
        "a = oddnumber[3]\n",
        "b = cafes[1]\n",
        "c = A[2]\n",
        "d = listInList[0][1] #리스트 내 리스트 접근\n",
        "\n",
        "print(a)\n",
        "print(b)\n",
        "print(c)\n",
        "print(d)\n",
        "print(a + d, oddnumber[4] * listInList[4]) #숫자 + 숫자 연산 가능\n",
        "print(b + c) #문자열 + 문자열: 문자열 합하기"
      ],
      "metadata": {
        "colab": {
          "base_uri": "https://localhost:8080/"
        },
        "id": "RrbPn-09W6N-",
        "outputId": "e58be6ec-a384-40f6-d6ea-26aa0596bc90"
      },
      "execution_count": null,
      "outputs": [
        {
          "output_type": "stream",
          "name": "stdout",
          "text": [
            "7\n",
            "bene\n",
            "A\n",
            "3\n",
            "10 27\n",
            "beneA\n"
          ]
        }
      ]
    },
    {
      "cell_type": "code",
      "source": [
        "oddnumber = [1, 3, 5, 7, 9]\n",
        "cafes = ['star', 'bene', 'yoger', 'friends']\n",
        "A = [1, 5, 'A', 'CC', 'B']\n",
        "listInList = [[1, 3, 5, 6, 7], cafes, oddnumber, 1, 3, 'Abc']\n",
        "\n",
        "a = oddnumber[1:5]\n",
        "b = cafes[1:]\n",
        "c = A[:2]\n",
        "d = listInList[0][1:4] #리스트 내 리스트 접근\n",
        "\n",
        "print(a)\n",
        "print(b)\n",
        "print(c)\n",
        "print(d)"
      ],
      "metadata": {
        "colab": {
          "base_uri": "https://localhost:8080/"
        },
        "id": "7zifUevIXKEC",
        "outputId": "8b3d8ca4-d819-4f17-f451-18d730bd7e13"
      },
      "execution_count": null,
      "outputs": [
        {
          "output_type": "stream",
          "name": "stdout",
          "text": [
            "[3, 5, 7, 9]\n",
            "['bene', 'yoger', 'friends']\n",
            "[1, 5]\n",
            "[3, 5, 6]\n"
          ]
        }
      ]
    },
    {
      "cell_type": "code",
      "source": [
        "## 리스트 연산과 수정\n",
        "\n",
        "evennumbers = [2, 4, 6, 8, 10]\n",
        "oddnumbers = [1, 3, 5, 7, 9]\n",
        "\n",
        "numbers = evennumbers + oddnumbers\n",
        "print(numbers)\n",
        "print(numbers * 4)"
      ],
      "metadata": {
        "colab": {
          "base_uri": "https://localhost:8080/"
        },
        "id": "ifi9lEZgXKgw",
        "outputId": "992fdc4f-847f-4b6c-c4b6-f5dead869c7b"
      },
      "execution_count": null,
      "outputs": [
        {
          "output_type": "stream",
          "name": "stdout",
          "text": [
            "[2, 4, 6, 8, 10, 1, 3, 5, 7, 9]\n",
            "[2, 4, 6, 8, 10, 1, 3, 5, 7, 9, 2, 4, 6, 8, 10, 1, 3, 5, 7, 9, 2, 4, 6, 8, 10, 1, 3, 5, 7, 9, 2, 4, 6, 8, 10, 1, 3, 5, 7, 9]\n"
          ]
        }
      ]
    },
    {
      "cell_type": "code",
      "source": [
        "## 리스트 수정\n",
        "\n",
        "numbers = [2, 4, 6, 8, 10, 1, 3, 5, 7, 9]\n",
        "\n",
        "numbers[4] = 100\n",
        "print(numbers)\n",
        "\n",
        "numbers[2] = \"hello\"\n",
        "print(numbers)\n",
        "\n",
        "numbers[0] = numbers[9]\n",
        "print(numbers)\n",
        "\n",
        "numbers[8] = ['a', 'b', 'c']\n",
        "print(numbers)"
      ],
      "metadata": {
        "colab": {
          "base_uri": "https://localhost:8080/"
        },
        "id": "rcT4dClmXv6s",
        "outputId": "6625822c-b7d1-48df-a337-60beb592ab1c"
      },
      "execution_count": null,
      "outputs": [
        {
          "output_type": "stream",
          "name": "stdout",
          "text": [
            "[2, 4, 6, 8, 100, 1, 3, 5, 7, 9]\n",
            "[2, 4, 'hello', 8, 100, 1, 3, 5, 7, 9]\n",
            "[9, 4, 'hello', 8, 100, 1, 3, 5, 7, 9]\n",
            "[9, 4, 'hello', 8, 100, 1, 3, 5, ['a', 'b', 'c'], 9]\n"
          ]
        }
      ]
    },
    {
      "cell_type": "code",
      "source": [
        "numbers = [2, 4, 6, 8, 10, 1, 3, 5, 7, 9]\n",
        "\n",
        "numbers[4:5] = [80]\n",
        "print(numbers)\n",
        "\n",
        "numbers[2:6] = \"hello\"\n",
        "print(numbers)\n",
        "\n",
        "numbers[2:3] = ['a','b','c']\n",
        "print(numbers)\n",
        "\n",
        "numbers[8] = ['a', 'b', 'c'] #리스트 전체를 형태 유지하며 대입\n",
        "print(numbers)\n",
        "\n",
        "numbers[:] = [1]\n",
        "print(numbers)\n"
      ],
      "metadata": {
        "colab": {
          "base_uri": "https://localhost:8080/"
        },
        "id": "p8wcBNGXX6Ad",
        "outputId": "a5950c81-2f5f-4909-aefb-ad64af9fc496"
      },
      "execution_count": null,
      "outputs": [
        {
          "output_type": "stream",
          "name": "stdout",
          "text": [
            "[2, 4, 6, 8, 80, 1, 3, 5, 7, 9]\n",
            "[2, 4, 'h', 'e', 'l', 'l', 'o', 3, 5, 7, 9]\n",
            "[2, 4, 'a', 'b', 'c', 'e', 'l', 'l', 'o', 3, 5, 7, 9]\n",
            "[2, 4, 'a', 'b', 'c', 'e', 'l', 'l', ['a', 'b', 'c'], 3, 5, 7, 9]\n",
            "[1]\n"
          ]
        }
      ]
    },
    {
      "cell_type": "code",
      "source": [
        "## 리스트 삭제\n",
        "\n",
        "numbers = [2, 4, 6, 8, 10, 1, 3, 5, 7, 9]\n",
        "\n",
        "#값만 삭제\n",
        "numbers[3] = \"\"\n",
        "print(numbers)"
      ],
      "metadata": {
        "colab": {
          "base_uri": "https://localhost:8080/"
        },
        "id": "HcUW_1tOYmNF",
        "outputId": "c3251a6d-3dce-43c9-b784-87cb9ed6fee9"
      },
      "execution_count": null,
      "outputs": [
        {
          "output_type": "stream",
          "name": "stdout",
          "text": [
            "[2, 4, 6, '', 10, 1, 3, 5, 7, 9]\n"
          ]
        }
      ]
    },
    {
      "cell_type": "code",
      "source": [
        "numbers = [2, 4, 6, 8, 10, 1, 3, 5, 7, 9]\n",
        "\n",
        "a = \"goorm\"\n",
        "\n",
        "#공간까지 삭제\n",
        "del numbers[4]\n",
        "print(numbers)\n",
        "\n",
        "del numbers[:5]\n",
        "print(numbers)\n",
        "\n",
        "#객체 자체를 삭제\n",
        "del a"
      ],
      "metadata": {
        "colab": {
          "base_uri": "https://localhost:8080/"
        },
        "id": "5j2kbmGLYodF",
        "outputId": "836e781a-8d92-4b54-a1a8-a031ef949e28"
      },
      "execution_count": null,
      "outputs": [
        {
          "output_type": "stream",
          "name": "stdout",
          "text": [
            "[2, 4, 6, 8, 1, 3, 5, 7, 9]\n",
            "[3, 5, 7, 9]\n"
          ]
        }
      ]
    },
    {
      "cell_type": "code",
      "source": [
        "## 리스트 함수\n",
        "\n",
        "numbers = [2, 4, 6, 8, 10, 1, 3, 5, 7, 9]\n",
        "print(numbers)\n",
        "\n",
        "numbers.insert(3, [11, 12, 13])\n",
        "print(numbers)\n",
        "\n",
        "#append와 extend의 차이\n",
        "numbers.extend(['a', 'b', 'c'])\n",
        "print(numbers)\n",
        "numbers.append(['a', 'b', 'c'])\n",
        "print(numbers)"
      ],
      "metadata": {
        "colab": {
          "base_uri": "https://localhost:8080/"
        },
        "id": "22RYgWVOYryj",
        "outputId": "70ce3f60-c541-42f6-a18f-522dcb31bcfa"
      },
      "execution_count": null,
      "outputs": [
        {
          "output_type": "stream",
          "name": "stdout",
          "text": [
            "[2, 4, 6, 8, 10, 1, 3, 5, 7, 9]\n",
            "[2, 4, 6, [11, 12, 13], 8, 10, 1, 3, 5, 7, 9]\n",
            "[2, 4, 6, [11, 12, 13], 8, 10, 1, 3, 5, 7, 9, 'a', 'b', 'c']\n",
            "[2, 4, 6, [11, 12, 13], 8, 10, 1, 3, 5, 7, 9, 'a', 'b', 'c', ['a', 'b', 'c']]\n"
          ]
        }
      ]
    },
    {
      "cell_type": "code",
      "source": [
        "## 삭제하는 함수\n",
        "\n",
        "numbers = [2, 4, 6, 8, 1, 3, 5, 7]\n",
        "print(numbers)\n",
        "\n",
        "numbers.insert(3, [11, 12, 13])\n",
        "print(numbers)\n",
        "\n",
        "numbers.remove(3)\n",
        "print(numbers)\n",
        "print(numbers.pop())\n",
        "print(numbers)"
      ],
      "metadata": {
        "colab": {
          "base_uri": "https://localhost:8080/"
        },
        "id": "npVWGzwfZAhP",
        "outputId": "e73ddf55-090d-4534-e8b5-1d382ec237d7"
      },
      "execution_count": null,
      "outputs": [
        {
          "output_type": "stream",
          "name": "stdout",
          "text": [
            "[2, 4, 6, 8, 1, 3, 5, 7]\n",
            "[2, 4, 6, [11, 12, 13], 8, 1, 3, 5, 7]\n",
            "[2, 4, 6, [11, 12, 13], 8, 1, 5, 7]\n",
            "7\n",
            "[2, 4, 6, [11, 12, 13], 8, 1, 5]\n"
          ]
        }
      ]
    },
    {
      "cell_type": "code",
      "source": [
        "## 정렬 함수\n",
        "\n",
        "evennumbers = [2, 4, 6, 8]\n",
        "oddnumbers = [1, 3, 5, 7]\n",
        "print(evennumbers, oddnumbers)\n",
        "\n",
        "numbers = evennumbers + oddnumbers\n",
        "print(numbers)\n",
        "\n",
        "numbers.sort()\n",
        "print(numbers)\n",
        "\n",
        "numbers.reverse()\n",
        "print(numbers)"
      ],
      "metadata": {
        "colab": {
          "base_uri": "https://localhost:8080/"
        },
        "id": "mME50APoZipV",
        "outputId": "5f182495-4dd1-45ec-8459-6a4ca3c84eb4"
      },
      "execution_count": null,
      "outputs": [
        {
          "output_type": "stream",
          "name": "stdout",
          "text": [
            "[2, 4, 6, 8] [1, 3, 5, 7]\n",
            "[2, 4, 6, 8, 1, 3, 5, 7]\n",
            "[1, 2, 3, 4, 5, 6, 7, 8]\n",
            "[8, 7, 6, 5, 4, 3, 2, 1]\n"
          ]
        }
      ]
    },
    {
      "cell_type": "code",
      "source": [
        "## 리스트 정보\n",
        "\n",
        "numbers = [1, 6, 7, 3, 5, 6, 8, 3, 3]\n",
        "\n",
        "numbers.index(6)\n",
        "print(numbers)\n",
        "print(numbers.count(3))"
      ],
      "metadata": {
        "colab": {
          "base_uri": "https://localhost:8080/"
        },
        "id": "87hZfw0gZpHi",
        "outputId": "e8e365d1-898e-4f32-b461-15a38d8783a7"
      },
      "execution_count": null,
      "outputs": [
        {
          "output_type": "stream",
          "name": "stdout",
          "text": [
            "[1, 6, 7, 3, 5, 6, 8, 3, 3]\n",
            "3\n"
          ]
        }
      ]
    },
    {
      "cell_type": "code",
      "source": [
        "list1 = [2,5,2,0,1]\n",
        "list2 = [4,1,2]\n",
        "\n",
        "list1.append(list2)\n",
        "print(list1, len(list1))"
      ],
      "metadata": {
        "colab": {
          "base_uri": "https://localhost:8080/"
        },
        "id": "GnL3pwshZrrh",
        "outputId": "f0c167b3-b073-4988-ae76-7b583d7be0b4"
      },
      "execution_count": null,
      "outputs": [
        {
          "output_type": "stream",
          "name": "stdout",
          "text": [
            "[2, 5, 2, 0, 1, [4, 1, 2]] 6\n"
          ]
        }
      ]
    },
    {
      "cell_type": "markdown",
      "source": [
        "## 딕셔너리"
      ],
      "metadata": {
        "id": "4X-fDySo1-R2"
      }
    },
    {
      "cell_type": "code",
      "source": [
        "## 딕셔너리 자료형\n",
        "\n",
        "dic = {}\n",
        "\n",
        "dic[\"apple\"] = \"사과\"\n",
        "dic[\"grape\"] = \"포도\"\n",
        "dic[\"fruits\"] = [\"바나나\", \"딸기\", \"오렌지\"]\n",
        "print(dic)"
      ],
      "metadata": {
        "colab": {
          "base_uri": "https://localhost:8080/"
        },
        "id": "VFz6dy1M1muY",
        "outputId": "fe75c493-93bc-458b-8058-9b75485a8145"
      },
      "execution_count": 1,
      "outputs": [
        {
          "output_type": "stream",
          "name": "stdout",
          "text": [
            "{'apple': '사과', 'grape': '포도', 'fruits': ['바나나', '딸기', '오렌지']}\n"
          ]
        }
      ]
    },
    {
      "cell_type": "code",
      "source": [
        "## 자료형 삭제\n",
        "\n",
        "dic1 = {\"apple\":\"사과\", \"bird\":\"새\", \"bug\": \"벌레\"}\n",
        "print(dic1)\n",
        "\n",
        "del dic1[\"bug\"]\n",
        "print(dic1)"
      ],
      "metadata": {
        "colab": {
          "base_uri": "https://localhost:8080/"
        },
        "id": "Fd9DGyxC2R9g",
        "outputId": "294f3813-5adb-4577-8714-aa2260a2c0a5"
      },
      "execution_count": 2,
      "outputs": [
        {
          "output_type": "stream",
          "name": "stdout",
          "text": [
            "{'apple': '사과', 'bird': '새', 'bug': '벌레'}\n",
            "{'apple': '사과', 'bird': '새'}\n"
          ]
        }
      ]
    },
    {
      "cell_type": "code",
      "source": [
        "## 딕셔너리 함수\n",
        "\n",
        "mem = {\"김구름\": 25, \"박에듀\": 23, \"온라인\": 24}\n",
        "mem = {\"김구름\": 25, \"박에듀\": 23, \"온라인\": 24}\n",
        "print(mem.keys())\n",
        "names = list(mem.keys()) #새로운 리스트 변수에 초기화\n",
        "\n",
        "names.append(\"윤레벨\")\n",
        "print(\"새로운 리스트\",names)\n",
        "\n",
        "print(\"원래 딕셔너리에서 key 모음\", list(mem.keys()))\n",
        "\n",
        "print(mem.values())\n",
        "\n",
        "print(list(mem.values()))\n",
        "\n",
        "print(\"key와 value를 튜플로\", mem.items())\n",
        "\n",
        "print(mem.get(\"정판교\", \"없습니다\"), mem.get(\"온라인\", \"없습니다\"))\n",
        "\n",
        "exist = '박에듀' in mem #굉장히 직관적인 용법\n",
        "print(exist)\n",
        "\n",
        "exist = '한바로' in mem\n",
        "print(exist)\n",
        "\n",
        "mem.clear()\n",
        "print(mem) #빈 딕셔너리 출력"
      ],
      "metadata": {
        "colab": {
          "base_uri": "https://localhost:8080/"
        },
        "id": "vrGm2Pxi2nd-",
        "outputId": "c7778886-b1ce-4cbf-b411-7bef582f667f"
      },
      "execution_count": 4,
      "outputs": [
        {
          "output_type": "stream",
          "name": "stdout",
          "text": [
            "dict_keys(['김구름', '박에듀', '온라인'])\n",
            "새로운 리스트 ['김구름', '박에듀', '온라인', '윤레벨']\n",
            "원래 딕셔너리에서 key 모음 ['김구름', '박에듀', '온라인']\n",
            "dict_values([25, 23, 24])\n",
            "[25, 23, 24]\n",
            "key와 value를 튜플로 dict_items([('김구름', 25), ('박에듀', 23), ('온라인', 24)])\n",
            "없습니다 24\n",
            "True\n",
            "False\n",
            "{}\n"
          ]
        }
      ]
    },
    {
      "cell_type": "markdown",
      "source": [
        "## 튜플과 집합"
      ],
      "metadata": {
        "id": "MQxqecfdFQmU"
      }
    },
    {
      "cell_type": "code",
      "source": [
        "## 튜플과 집합\n",
        "\n",
        "t1 = ('a', 'b', 'c', 1, 2, 3)\n",
        "print(t1, t1[2])\n",
        "\n",
        "t2 = (\"hello\",) #하나의 값이면 뒤에 콤마 입력\n",
        "print(t2)\n",
        "\n",
        "t3 = \"goorm\", 'b', \"hello\", 1, 2, 3 #괄호 생략 가능\n",
        "print(t3, t3[2])\n",
        "\n",
        "s1 = list(set([1,2,3])) #다음에 배우게 될 집합 Mutable 타입\n",
        "t4 = ([1, 2, 3], {\"사과\":\"apple\", \"포도\":\"grape\"}, ('a', 'b', 'c'), s1) #리스트 내 어떤 값도 가능\n",
        "print(t4, t4[1])\n",
        "\n",
        "t4[3][2] = \"edit\" #중요: 튜플 요소가 Mutable하면 수정할 수 있음\n",
        "t4[1][\"사과\"] = \"edit\"\n",
        "t4[0][2] = \"edit\"\n",
        "print(t4)"
      ],
      "metadata": {
        "colab": {
          "base_uri": "https://localhost:8080/"
        },
        "id": "SqaIV8LlE0EN",
        "outputId": "5f665026-a359-4218-f99a-e42558b91d5b"
      },
      "execution_count": 5,
      "outputs": [
        {
          "output_type": "stream",
          "name": "stdout",
          "text": [
            "('a', 'b', 'c', 1, 2, 3) c\n",
            "('hello',)\n",
            "('goorm', 'b', 'hello', 1, 2, 3) hello\n",
            "([1, 2, 3], {'사과': 'apple', '포도': 'grape'}, ('a', 'b', 'c'), [1, 2, 3]) {'사과': 'apple', '포도': 'grape'}\n",
            "([1, 2, 'edit'], {'사과': 'edit', '포도': 'grape'}, ('a', 'b', 'c'), [1, 2, 'edit'])\n"
          ]
        }
      ]
    },
    {
      "cell_type": "code",
      "source": [
        "t1 = ('a', 'b', 'c', 1, 2, 3)\n",
        "t2 = (\"hello\",)\n",
        "t3 = \"goorm\", 'b', \"hello\", 1, 2, 3\n",
        "\n",
        "print(t1 + t2 + t3) #튜플 결합\n",
        "print(t2 * t3[4]) #곱셈으로 반복 출력"
      ],
      "metadata": {
        "colab": {
          "base_uri": "https://localhost:8080/"
        },
        "id": "COVWUl_wGPYc",
        "outputId": "251204b4-dd17-4c25-d5b2-4c21f0190db9"
      },
      "execution_count": 6,
      "outputs": [
        {
          "output_type": "stream",
          "name": "stdout",
          "text": [
            "('a', 'b', 'c', 1, 2, 3, 'hello', 'goorm', 'b', 'hello', 1, 2, 3)\n",
            "('hello', 'hello')\n"
          ]
        }
      ]
    },
    {
      "cell_type": "code",
      "source": [
        "t = (13, 6, 9)\n",
        "print(t)\n",
        "print(t.index(13), t.count(6))"
      ],
      "metadata": {
        "colab": {
          "base_uri": "https://localhost:8080/"
        },
        "id": "j-X6DrgVIw4J",
        "outputId": "d78d23b2-d067-48d4-e008-101499cd8a69"
      },
      "execution_count": 7,
      "outputs": [
        {
          "output_type": "stream",
          "name": "stdout",
          "text": [
            "(13, 6, 9)\n",
            "0 1\n"
          ]
        }
      ]
    },
    {
      "cell_type": "code",
      "source": [
        "## 중복과 순서가 없는 집합\n",
        "s1 = {3, 2, 5, 1, 8, 4, 3} # 집합으로 바로 선언 및 초기화\n",
        "print(s1, type(s1))"
      ],
      "metadata": {
        "colab": {
          "base_uri": "https://localhost:8080/"
        },
        "id": "-JniOndmL9zv",
        "outputId": "3fd71d36-cad1-4d28-b759-137d843955db"
      },
      "execution_count": 8,
      "outputs": [
        {
          "output_type": "stream",
          "name": "stdout",
          "text": [
            "{1, 2, 3, 4, 5, 8} <class 'set'>\n"
          ]
        }
      ]
    },
    {
      "cell_type": "code",
      "source": [
        "str = \"Hello goorm!!!\"\n",
        "print(str, type(str))\n",
        "\n",
        "s0 = set(str)\n",
        "print(s0, type(s0))\n",
        "\n",
        "l = ['a', 'a', 'c', \"goorm\", \"hello\", 10, 30, 30]\n",
        "print(l, type(l))\n",
        "\n",
        "s1 = set(l)\n",
        "print(s1, type(s1))\n",
        "\n",
        "d = {\"Anna\":25, \"Bob\": 23}\n",
        "print(d, type(d))\n",
        "\n",
        "s2 = set(d)\n",
        "print(s2, type(s2))\n",
        "\n",
        "t = (190,)\n",
        "print(t, type(t))\n",
        "\n",
        "s3 = set(t)\n",
        "print(s3, type(s3))"
      ],
      "metadata": {
        "colab": {
          "base_uri": "https://localhost:8080/"
        },
        "id": "xhfj32OnMKlm",
        "outputId": "ed0d4da1-8cc8-4c7a-d8f6-3fe5d8247a62"
      },
      "execution_count": 9,
      "outputs": [
        {
          "output_type": "stream",
          "name": "stdout",
          "text": [
            "Hello goorm!!! <class 'str'>\n",
            "{'o', 'r', 'e', '!', 'm', 'g', ' ', 'H', 'l'} <class 'set'>\n",
            "['a', 'a', 'c', 'goorm', 'hello', 10, 30, 30] <class 'list'>\n",
            "{'hello', 'goorm', 10, 'c', 'a', 30} <class 'set'>\n",
            "{'Anna': 25, 'Bob': 23} <class 'dict'>\n",
            "{'Anna', 'Bob'} <class 'set'>\n",
            "(190,) <class 'tuple'>\n",
            "{190} <class 'set'>\n"
          ]
        }
      ]
    },
    {
      "cell_type": "code",
      "source": [
        "str = \"Hello goorm!!!\"\n",
        "print(str, type(str))\n",
        "\n",
        "s0 = set(str)\n",
        "print(s0, type(s0))\n",
        "\n",
        "newstr = tuple(s0)\n",
        "print(newstr, newstr[4], newstr[5:], type(newstr)) #인덱싱, 슬라이싱 가능\n",
        "\n",
        "l = [1,2,3,4,5,6,7,8]\n",
        "print(l, type(l))\n",
        "\n",
        "s1 = set(l)\n",
        "print(s1, type(s1))\n",
        "\n",
        "newlist = list(s1)\n",
        "print(newlist, newlist[4], newlist[:-5], type(newlist))"
      ],
      "metadata": {
        "colab": {
          "base_uri": "https://localhost:8080/"
        },
        "id": "oGjyIQiGMdDU",
        "outputId": "0e49004d-081e-4dab-e39e-2239ccab14aa"
      },
      "execution_count": 10,
      "outputs": [
        {
          "output_type": "stream",
          "name": "stdout",
          "text": [
            "Hello goorm!!! <class 'str'>\n",
            "{'o', 'r', 'e', '!', 'm', 'g', ' ', 'H', 'l'} <class 'set'>\n",
            "('o', 'r', 'e', '!', 'm', 'g', ' ', 'H', 'l') m ('g', ' ', 'H', 'l') <class 'tuple'>\n",
            "[1, 2, 3, 4, 5, 6, 7, 8] <class 'list'>\n",
            "{1, 2, 3, 4, 5, 6, 7, 8} <class 'set'>\n",
            "[1, 2, 3, 4, 5, 6, 7, 8] 5 [1, 2, 3] <class 'list'>\n"
          ]
        }
      ]
    },
    {
      "cell_type": "code",
      "source": [
        "## 집합 함수\n",
        "\n",
        "s1 = set([2,4,6,8,10])\n",
        "s2 = set([1,2,3,4,5,6,7,8])\n",
        "\n",
        "interset = s1 & s2 #교집합\n",
        "print(interset)\n",
        "print(s1.intersection(s2), s2.intersection(s1)) #함수 사용\n",
        "print(s1) #s1의 값이 바뀌는 것이 아님\n",
        "\n",
        "uniset = s1 | s2 #합집합\n",
        "print(uniset)\n",
        "print(s1.union(s2))\n",
        "print(s1) #s1의 값이 바뀌는 것이 아님\n",
        "\n",
        "difset1 = s1 - s2 #어떤 집합에서 어떤 집합을 빼느냐에 따라 다른 결괏값\n",
        "difset2 = s2 - s1\n",
        "print(difset1)\n",
        "print(difset2)"
      ],
      "metadata": {
        "colab": {
          "base_uri": "https://localhost:8080/"
        },
        "id": "mt7G9fCyNDpY",
        "outputId": "a481701a-5d7e-4815-cac6-7cc8f496871f"
      },
      "execution_count": 11,
      "outputs": [
        {
          "output_type": "stream",
          "name": "stdout",
          "text": [
            "{8, 2, 4, 6}\n",
            "{8, 2, 4, 6} {8, 2, 4, 6}\n",
            "{2, 4, 6, 8, 10}\n",
            "{1, 2, 3, 4, 5, 6, 7, 8, 10}\n",
            "{1, 2, 3, 4, 5, 6, 7, 8, 10}\n",
            "{2, 4, 6, 8, 10}\n",
            "{10}\n",
            "{1, 3, 5, 7}\n"
          ]
        }
      ]
    },
    {
      "cell_type": "code",
      "source": [
        "s1 = {1, 2, 3, 4}\n",
        "\n",
        "s1.add(\"hello\")\n",
        "print(s1)\n",
        "\n",
        "s1.add(10)\n",
        "print(s1)\n",
        "\n",
        "s1.add((1,2,3)) #add() 사용 시 튜플/문자열은 값 하나로 인식\n",
        "print(s1)\n",
        "\n",
        "\n",
        "s1.update(['a', 'b', 'c']) #set()과 같이 여러 값을 한 요소로 저장\n",
        "s1.update((11,12))\n",
        "print(s1)\n",
        "\n",
        "s1.update(\"zyx\") #s1.add(\"hello\")와의 차이\n",
        "print(s1)\n",
        "\n",
        "s1.remove(\"hello\") #하나의 값만 제거 가능\n",
        "print(s1)"
      ],
      "metadata": {
        "colab": {
          "base_uri": "https://localhost:8080/"
        },
        "id": "3wjefZ5qOJzY",
        "outputId": "b30ae834-2027-4335-d55e-1dcf72e866c5"
      },
      "execution_count": 12,
      "outputs": [
        {
          "output_type": "stream",
          "name": "stdout",
          "text": [
            "{1, 2, 3, 4, 'hello'}\n",
            "{1, 2, 3, 4, 'hello', 10}\n",
            "{1, 2, 3, 4, 'hello', 10, (1, 2, 3)}\n",
            "{1, 2, 3, 4, 'hello', 10, (1, 2, 3), 11, 12, 'c', 'a', 'b'}\n",
            "{1, 2, 3, 4, 'hello', 10, (1, 2, 3), 11, 12, 'c', 'x', 'a', 'z', 'b', 'y'}\n",
            "{1, 2, 3, 4, 10, (1, 2, 3), 11, 12, 'c', 'x', 'a', 'z', 'b', 'y'}\n"
          ]
        }
      ]
    },
    {
      "cell_type": "code",
      "source": [],
      "metadata": {
        "id": "wmNhTg3xP9Vm"
      },
      "execution_count": null,
      "outputs": []
    }
  ]
}