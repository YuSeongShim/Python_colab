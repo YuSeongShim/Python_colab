{
  "nbformat": 4,
  "nbformat_minor": 0,
  "metadata": {
    "colab": {
      "provenance": [],
      "authorship_tag": "ABX9TyOBQSBpVc95yO5Mf/Sc45d6",
      "include_colab_link": true
    },
    "kernelspec": {
      "name": "python3",
      "display_name": "Python 3"
    },
    "language_info": {
      "name": "python"
    }
  },
  "cells": [
    {
      "cell_type": "markdown",
      "metadata": {
        "id": "view-in-github",
        "colab_type": "text"
      },
      "source": [
        "<a href=\"https://colab.research.google.com/github/YuSeongShim/Python_colab/blob/main/%EA%B5%AC%EB%A6%84(%ED%95%9C%EB%88%88%EC%97%90_%EC%9D%BD%EB%8A%94_%ED%8C%8C%EC%9D%B4%EC%8D%AC3_%EA%B8%B0%EC%B4%88).ipynb\" target=\"_parent\"><img src=\"https://colab.research.google.com/assets/colab-badge.svg\" alt=\"Open In Colab\"/></a>"
      ]
    },
    {
      "cell_type": "markdown",
      "source": [
        "## 04.문자열(string)"
      ],
      "metadata": {
        "id": "W4bgl7VQGwCf"
      }
    },
    {
      "cell_type": "code",
      "execution_count": 1,
      "metadata": {
        "colab": {
          "base_uri": "https://localhost:8080/"
        },
        "id": "Wd3u-Vs3GquG",
        "outputId": "e7237d60-1cd9-4cc1-feb6-9a37274ddd02"
      },
      "outputs": [
        {
          "output_type": "stream",
          "name": "stdout",
          "text": [
            "Hello goorm: !@#$%^&*()\\|/ Hello3\n"
          ]
        }
      ],
      "source": [
        "str1 = \"Hello\"\n",
        "str2 = \"goorm: !@#$%^&*()\\|/\"\n",
        "str3 = \"3\"\n",
        "\n",
        "print(str1, str2, str1 + str3)"
      ]
    },
    {
      "cell_type": "code",
      "source": [
        "## 따음표를 문자열로 표현하고 싶을 때\n",
        "\n",
        "str1 = 'He said \"I love you\"'\n",
        "str2 = \"It's so beautiful\"\n",
        "str3 = \"\"\"My name is \"goorm\" \"\"\"\n",
        "str4 = '''It's an apple'''\n",
        "\n",
        "print(str1)\n",
        "print(str2)\n",
        "print(str3)\n",
        "print(str4)"
      ],
      "metadata": {
        "colab": {
          "base_uri": "https://localhost:8080/"
        },
        "id": "yRKXOlesHHxE",
        "outputId": "a20aaf9e-6b1f-490e-959c-1c84535613e6"
      },
      "execution_count": 2,
      "outputs": [
        {
          "output_type": "stream",
          "name": "stdout",
          "text": [
            "He said \"I love you\"\n",
            "It's so beautiful\n",
            "My name is \"goorm\" \n",
            "It's an apple\n"
          ]
        }
      ]
    },
    {
      "cell_type": "code",
      "source": [
        "str1 = \"한 눈에 읽는\\n파이썬3\"\n",
        "str2 = '설치가 필요없는 클라우드 IDE, 구름IDE'\n",
        "str3 = '''이스케이프 시퀀스를\n",
        "배워봅시다.'''\n",
        "str4 = \"\"\"한 눈에 읽는\n",
        "파이썬3\"\"\"\n",
        "\n",
        "print(str1)\n",
        "print(str2)\n",
        "print(str3)\n",
        "print(str4)"
      ],
      "metadata": {
        "colab": {
          "base_uri": "https://localhost:8080/"
        },
        "id": "piPX0SuNHoHv",
        "outputId": "e6c31082-8502-49fc-a25f-272aaf76ebdd"
      },
      "execution_count": 3,
      "outputs": [
        {
          "output_type": "stream",
          "name": "stdout",
          "text": [
            "한 눈에 읽는\n",
            "파이썬3\n",
            "설치가 필요없는 클라우드 IDE, 구름IDE\n",
            "이스케이프 시퀀스를\n",
            "배워봅시다.\n",
            "한 눈에 읽는\n",
            "파이썬3\n"
          ]
        }
      ]
    },
    {
      "cell_type": "markdown",
      "source": [
        "## 이스케이프 시퀀스"
      ],
      "metadata": {
        "id": "dnKeGMY4HxNM"
      }
    },
    {
      "cell_type": "code",
      "source": [
        "str1 = \"한 눈에 읽는\\n파이썬3\"\n",
        "str2 = '설치가 필요없는 클라우드 IDE, \\n구름IDE'\n",
        "str3 = '''이스케이프 시퀀스를\\n배워봅시다.'''\n",
        "str4 = \"\"\"한 눈에 읽는\\nPython3\"\"\"\n",
        "\n",
        "print(str1)\n",
        "print(str2)\n",
        "print(str3)\n",
        "print(str4)"
      ],
      "metadata": {
        "colab": {
          "base_uri": "https://localhost:8080/"
        },
        "id": "QkNwdXLoHpdw",
        "outputId": "3509c835-9e0a-46f6-b649-dec6279a99f5"
      },
      "execution_count": 4,
      "outputs": [
        {
          "output_type": "stream",
          "name": "stdout",
          "text": [
            "한 눈에 읽는\n",
            "파이썬3\n",
            "설치가 필요없는 클라우드 IDE, \n",
            "구름IDE\n",
            "이스케이프 시퀀스를\n",
            "배워봅시다.\n",
            "한 눈에 읽는\n",
            "Python3\n"
          ]
        }
      ]
    },
    {
      "cell_type": "markdown",
      "source": [
        "## 문자열 연산"
      ],
      "metadata": {
        "id": "QfH6xiq1IFvN"
      }
    },
    {
      "cell_type": "code",
      "source": [
        "# 문자열의 덧셈\n",
        "\n",
        "str1 = \"Hello\"\n",
        "str2 = \"goorm!\"\n",
        "result = str1 + str2\n",
        "print(result)"
      ],
      "metadata": {
        "colab": {
          "base_uri": "https://localhost:8080/"
        },
        "id": "FGn5W1aLIH8w",
        "outputId": "451e3621-26ff-48c6-d521-2ef62bfc894c"
      },
      "execution_count": 6,
      "outputs": [
        {
          "output_type": "stream",
          "name": "stdout",
          "text": [
            "Hellogoorm!\n"
          ]
        }
      ]
    },
    {
      "cell_type": "code",
      "source": [
        "# 문자열의 곱셈\n",
        "\n",
        "str = \"Hello \"\n",
        "num = 5\n",
        "result = str * num\n",
        "print(result)"
      ],
      "metadata": {
        "colab": {
          "base_uri": "https://localhost:8080/"
        },
        "id": "oeCL9i8oIRIs",
        "outputId": "68a96e12-755c-48ed-beb3-bbe857ac87b3"
      },
      "execution_count": 7,
      "outputs": [
        {
          "output_type": "stream",
          "name": "stdout",
          "text": [
            "Hello Hello Hello Hello Hello \n"
          ]
        }
      ]
    },
    {
      "cell_type": "markdown",
      "source": [
        "## 인덱싱과 슬라이싱"
      ],
      "metadata": {
        "id": "XHCtbD6TIkU6"
      }
    },
    {
      "cell_type": "code",
      "source": [
        "# 인덱스는 수많은 데이터 중 원하는 항목을 쉽게 찾을 수 있도록 기록된 표기\n",
        "# 문자열은 바로 2진수로 바꿀 수 없기에, 아스키코드(ASCII CODE)를 사용\n",
        "\n",
        "print(ord(\"A\"))\n",
        "print(chr(65))"
      ],
      "metadata": {
        "colab": {
          "base_uri": "https://localhost:8080/"
        },
        "id": "fHgL_ZcOIem1",
        "outputId": "4b5c1231-c48b-497f-f17b-7e83db65394b"
      },
      "execution_count": 9,
      "outputs": [
        {
          "output_type": "stream",
          "name": "stdout",
          "text": [
            "65\n",
            "A\n"
          ]
        }
      ]
    },
    {
      "cell_type": "code",
      "source": [
        "# 인덱싱은 문자열에 포함된 각 문자에 대해 순차적으로 번호를 매기는 것\n",
        "\n",
        "str = \"apple\"\n",
        "print(\"str의 첫 번째 문자는 \", str[0], \"네 번째 문자는\", str[3])"
      ],
      "metadata": {
        "colab": {
          "base_uri": "https://localhost:8080/"
        },
        "id": "MkIE6_IlI-uI",
        "outputId": "2f52963a-7944-4962-9e13-224151eada22"
      },
      "execution_count": 10,
      "outputs": [
        {
          "output_type": "stream",
          "name": "stdout",
          "text": [
            "str의 첫 번째 문자는  a 네 번째 문자는 l\n"
          ]
        }
      ]
    },
    {
      "cell_type": "code",
      "source": [
        "# 인덱스를 문자연산 사용\n",
        "\n",
        "a = \"Hello goorm!\"\n",
        "b = a[4] + a[5] + a[6]\n",
        "print(a[0], a[1], a[2], a[3], a[4])\n",
        "print(b)"
      ],
      "metadata": {
        "colab": {
          "base_uri": "https://localhost:8080/"
        },
        "id": "bfkyw3NMJYzW",
        "outputId": "207eba48-51b3-46c7-b880-c3fe1a435e58"
      },
      "execution_count": 11,
      "outputs": [
        {
          "output_type": "stream",
          "name": "stdout",
          "text": [
            "H e l l o\n",
            "o g\n"
          ]
        }
      ]
    },
    {
      "cell_type": "code",
      "source": [
        "a = \"Hello goorm!\"\n",
        "b = a[-1] + a[-2] + a[-3]\n",
        "c = a[-0]\n",
        "print(b)\n",
        "print(c)"
      ],
      "metadata": {
        "colab": {
          "base_uri": "https://localhost:8080/"
        },
        "id": "gMoBzo3VJyjW",
        "outputId": "bee69a16-f8cb-4c65-b64b-b8ad02937bff"
      },
      "execution_count": 12,
      "outputs": [
        {
          "output_type": "stream",
          "name": "stdout",
          "text": [
            "!mr\n",
            "H\n"
          ]
        }
      ]
    },
    {
      "cell_type": "markdown",
      "source": [
        "## 슬라이싱"
      ],
      "metadata": {
        "id": "RjO912CEJ6Zx"
      }
    },
    {
      "cell_type": "code",
      "source": [
        "a = \"Hello goorm!\"\n",
        "b = a[0:5]\n",
        "print(b)"
      ],
      "metadata": {
        "colab": {
          "base_uri": "https://localhost:8080/"
        },
        "id": "gXxa08awJ3SF",
        "outputId": "f336fb7a-0c8f-4905-959f-6bf93f481969"
      },
      "execution_count": 13,
      "outputs": [
        {
          "output_type": "stream",
          "name": "stdout",
          "text": [
            "Hello\n"
          ]
        }
      ]
    },
    {
      "cell_type": "code",
      "source": [
        "a = \"Hello goorm!\"\n",
        "\n",
        "b = a[:5]\n",
        "c = a[5:]\n",
        "print(b)\n",
        "print(c)"
      ],
      "metadata": {
        "colab": {
          "base_uri": "https://localhost:8080/"
        },
        "id": "gz2usdKqKHKH",
        "outputId": "c30e3321-0859-482d-d243-b872d1daf139"
      },
      "execution_count": 14,
      "outputs": [
        {
          "output_type": "stream",
          "name": "stdout",
          "text": [
            "Hello\n",
            " goorm!\n"
          ]
        }
      ]
    },
    {
      "cell_type": "code",
      "source": [
        "a = \"Hello goorm!\"\n",
        "\n",
        "b = a[0:-5]\n",
        "c = a[6:-11]\n",
        "print(b)\n",
        "print(c)"
      ],
      "metadata": {
        "colab": {
          "base_uri": "https://localhost:8080/"
        },
        "id": "EKzERbJQKIcR",
        "outputId": "38dc6216-326d-4424-b8e3-e215b1b712e9"
      },
      "execution_count": 15,
      "outputs": [
        {
          "output_type": "stream",
          "name": "stdout",
          "text": [
            "Hello g\n",
            "\n"
          ]
        }
      ]
    },
    {
      "cell_type": "markdown",
      "source": [
        "## 문자열 포매팅1"
      ],
      "metadata": {
        "id": "dw7d1njXKRnZ"
      }
    },
    {
      "cell_type": "code",
      "source": [
        "city = \"seoul\"\n",
        "today = 12\n",
        "day = \"화요일\"\n",
        "temperature = 26\n",
        "\n",
        "#정수형 temperature은 문자열과 덧셈 불가 -> str(문자열)로 형변환\n",
        "announcement = city + \"의 \" + str(today) + \"일 \" +day + \" 기온은 \" + str(temperature) + \"도 입니다.\"\n",
        "\n",
        "#1번 방법\n",
        "print(city,\"의\",today,\"일\",day,\"기온은\",temperature,\"도 입니다.\")\n",
        "#2번 방법\n",
        "print(announcement)"
      ],
      "metadata": {
        "colab": {
          "base_uri": "https://localhost:8080/",
          "height": 221
        },
        "id": "iGskXutAKK1A",
        "outputId": "4f39e9af-997d-48ce-e242-c7ac2c812911"
      },
      "execution_count": 16,
      "outputs": [
        {
          "output_type": "error",
          "ename": "TypeError",
          "evalue": "'str' object is not callable",
          "traceback": [
            "\u001b[0;31m---------------------------------------------------------------------------\u001b[0m",
            "\u001b[0;31mTypeError\u001b[0m                                 Traceback (most recent call last)",
            "\u001b[0;32m/tmp/ipython-input-16-71195920.py\u001b[0m in \u001b[0;36m<cell line: 0>\u001b[0;34m()\u001b[0m\n\u001b[1;32m      5\u001b[0m \u001b[0;34m\u001b[0m\u001b[0m\n\u001b[1;32m      6\u001b[0m \u001b[0;31m#정수형 temperature은 문자열과 덧셈 불가 -> str(문자열)로 형변환\u001b[0m\u001b[0;34m\u001b[0m\u001b[0;34m\u001b[0m\u001b[0m\n\u001b[0;32m----> 7\u001b[0;31m \u001b[0mannouncement\u001b[0m \u001b[0;34m=\u001b[0m \u001b[0mcity\u001b[0m \u001b[0;34m+\u001b[0m \u001b[0;34m\"의 \"\u001b[0m \u001b[0;34m+\u001b[0m \u001b[0mstr\u001b[0m\u001b[0;34m(\u001b[0m\u001b[0mtoday\u001b[0m\u001b[0;34m)\u001b[0m \u001b[0;34m+\u001b[0m \u001b[0;34m\"일 \"\u001b[0m \u001b[0;34m+\u001b[0m\u001b[0mday\u001b[0m \u001b[0;34m+\u001b[0m \u001b[0;34m\" 기온은 \"\u001b[0m \u001b[0;34m+\u001b[0m \u001b[0mstr\u001b[0m\u001b[0;34m(\u001b[0m\u001b[0mtemperature\u001b[0m\u001b[0;34m)\u001b[0m \u001b[0;34m+\u001b[0m \u001b[0;34m\"도 입니다.\"\u001b[0m\u001b[0;34m\u001b[0m\u001b[0;34m\u001b[0m\u001b[0m\n\u001b[0m\u001b[1;32m      8\u001b[0m \u001b[0;34m\u001b[0m\u001b[0m\n\u001b[1;32m      9\u001b[0m \u001b[0;31m#1번 방법\u001b[0m\u001b[0;34m\u001b[0m\u001b[0;34m\u001b[0m\u001b[0m\n",
            "\u001b[0;31mTypeError\u001b[0m: 'str' object is not callable"
          ]
        }
      ]
    },
    {
      "cell_type": "code",
      "source": [
        "city = \"seoul\"\n",
        "today = 12\n",
        "day = \"화요일\"\n",
        "temperature = 26\n",
        "announcement = \"%s의 %d일 %s 기온은 %d도 입니다.\" %(city, today, day, temperature)\n",
        "\n",
        "print(\"%s의 %d일 %s 기온은 %d도 입니다.\" %(city, today, day, temperature)) #1번 방법\n",
        "print(announcement) #2번 방법"
      ],
      "metadata": {
        "colab": {
          "base_uri": "https://localhost:8080/"
        },
        "id": "fWK8GtVTKuUo",
        "outputId": "fbcd2d6e-b203-4607-f6dc-57d026fa86e5"
      },
      "execution_count": 17,
      "outputs": [
        {
          "output_type": "stream",
          "name": "stdout",
          "text": [
            "seoul의 12일 화요일 기온은 26도 입니다.\n",
            "seoul의 12일 화요일 기온은 26도 입니다.\n"
          ]
        }
      ]
    },
    {
      "cell_type": "code",
      "source": [
        "name = \"goorm\"\n",
        "age = 25\n",
        "height = 181.523456\n",
        "\n",
        "print(\"저의 이름은 %s입니다.\" %name)\n",
        "\n",
        "print(\"저는 %d살입니다.\" %25)\n",
        "print(\"제 나이는 %d살입니다.\" %age)\n",
        "print(\"제 나이는 %s살입니다.\" %age)\n",
        "print(\"제 나이는 %.2f살입니다.\" %age)\n",
        "\n",
        "print(\"저의 키는 %fcm입니다.\" %height)\n",
        "print(\"저의 키는 %.2fcm입니다.\" %height)\n",
        "print(\"저의 키는 %dcm입니다.\" %height)\n",
        "\n",
        "print(\"저의 성은 '%c'입니다.\" %\"남\")\n",
        "\n",
        "print(\"저의 나이는 16진수로 표현하면 %x, 8진수로 표현하면 %o입니다.\" %(age, age))\n",
        "\n",
        "print(\"%10d %010d\" %(10, 10))\n",
        "\n",
        "#'김구름'을 포함하여 8칸의 공간 발생 -> 공백 5칸 + 김구름 3칸\n",
        "print(\"%8s %8d %8s\" %(\"김구름\", 6, \"컴퓨터공학\"))\n",
        "print(\"%-8s %-8d %-8s\" %(\"김구름\", 6, \"컴퓨터공학\"))"
      ],
      "metadata": {
        "colab": {
          "base_uri": "https://localhost:8080/"
        },
        "id": "JNlDtOffKuy-",
        "outputId": "1bb8faba-a1eb-429a-9153-6c8a0ccb66cb"
      },
      "execution_count": 18,
      "outputs": [
        {
          "output_type": "stream",
          "name": "stdout",
          "text": [
            "저의 이름은 goorm입니다.\n",
            "저는 25살입니다.\n",
            "제 나이는 25살입니다.\n",
            "제 나이는 25살입니다.\n",
            "제 나이는 25.00살입니다.\n",
            "저의 키는 181.523456cm입니다.\n",
            "저의 키는 181.52cm입니다.\n",
            "저의 키는 181cm입니다.\n",
            "저의 성은 '남'입니다.\n",
            "저의 나이는 16진수로 표현하면 19, 8진수로 표현하면 31입니다.\n",
            "        10 0000000010\n",
            "     김구름        6    컴퓨터공학\n",
            "김구름      6        컴퓨터공학   \n"
          ]
        }
      ]
    },
    {
      "cell_type": "code",
      "source": [],
      "metadata": {
        "id": "AY8hJPUVK3l8"
      },
      "execution_count": null,
      "outputs": []
    }
  ]
}