{
  "nbformat": 4,
  "nbformat_minor": 0,
  "metadata": {
    "colab": {
      "provenance": [],
      "authorship_tag": "ABX9TyOGq7jYcpAl0OGrLmyPfuiH",
      "include_colab_link": true
    },
    "kernelspec": {
      "name": "python3",
      "display_name": "Python 3"
    },
    "language_info": {
      "name": "python"
    }
  },
  "cells": [
    {
      "cell_type": "markdown",
      "metadata": {
        "id": "view-in-github",
        "colab_type": "text"
      },
      "source": [
        "<a href=\"https://colab.research.google.com/github/YuSeongShim/Python_colab/blob/main/25_05_15_Python_%EC%88%98%EC%97%85(%ED%81%B4%EB%A1%9C%EC%A0%80_%EC%82%AC%EC%9A%A9%ED%95%98%EA%B8%B0).ipynb\" target=\"_parent\"><img src=\"https://colab.research.google.com/assets/colab-badge.svg\" alt=\"Open In Colab\"/></a>"
      ]
    },
    {
      "cell_type": "markdown",
      "source": [
        "## 변수의 사용 범위 알아보기"
      ],
      "metadata": {
        "id": "HmAn2o7kJDlo"
      }
    },
    {
      "cell_type": "code",
      "execution_count": null,
      "metadata": {
        "colab": {
          "base_uri": "https://localhost:8080/"
        },
        "id": "LpXqtV2rI7Np",
        "outputId": "451b7416-f2c2-4937-d723-0b9008daebdd"
      },
      "outputs": [
        {
          "output_type": "stream",
          "name": "stdout",
          "text": [
            "10\n",
            "10\n"
          ]
        }
      ],
      "source": [
        "# 파이썬 스크립트에서 변수를 만들면 다음과 같이 함수 안에서도 사용 가능\n",
        "# 함수를 포함하여 스크립트 전체에서 접근할 수 있는 변수 = 전역변수\n",
        "# 전역 변수에 접근할 수 있는 범위 = 전역 범위\n",
        "\n",
        "x = 10    # 전역변수\n",
        "def foo():\n",
        "    print(x) # 전역 변수 출력\n",
        "\n",
        "foo()\n",
        "print(x)    # 전역 변수 출력"
      ]
    },
    {
      "cell_type": "code",
      "source": [
        "# 변수 x를 함수 foo 안에서 만들게 된다면??\n",
        "\n",
        "def foo():\n",
        "    x = 10    # foo의 지역 변수\n",
        "    print(x)  # foo의 지역 변수 출력\n",
        "\n",
        "foo()\n",
        "print(x)  # 에러. foo의 지역 변수는 출력할 수 x"
      ],
      "metadata": {
        "colab": {
          "base_uri": "https://localhost:8080/",
          "height": 202
        },
        "id": "Wm6aoVp9JdAH",
        "outputId": "6bc4c491-40f1-4078-8a58-f5c914c5c90b"
      },
      "execution_count": null,
      "outputs": [
        {
          "output_type": "stream",
          "name": "stdout",
          "text": [
            "10\n"
          ]
        },
        {
          "output_type": "error",
          "ename": "NameError",
          "evalue": "name 'x' is not defined",
          "traceback": [
            "\u001b[0;31m---------------------------------------------------------------------------\u001b[0m",
            "\u001b[0;31mNameError\u001b[0m                                 Traceback (most recent call last)",
            "\u001b[0;32m<ipython-input-1-427647379b1f>\u001b[0m in \u001b[0;36m<cell line: 0>\u001b[0;34m()\u001b[0m\n\u001b[1;32m      6\u001b[0m \u001b[0;34m\u001b[0m\u001b[0m\n\u001b[1;32m      7\u001b[0m \u001b[0mfoo\u001b[0m\u001b[0;34m(\u001b[0m\u001b[0;34m)\u001b[0m\u001b[0;34m\u001b[0m\u001b[0;34m\u001b[0m\u001b[0m\n\u001b[0;32m----> 8\u001b[0;31m \u001b[0mprint\u001b[0m\u001b[0;34m(\u001b[0m\u001b[0mx\u001b[0m\u001b[0;34m)\u001b[0m  \u001b[0;31m# 에러. foo의 지역 변수는 출력할 수 x\u001b[0m\u001b[0;34m\u001b[0m\u001b[0;34m\u001b[0m\u001b[0m\n\u001b[0m",
            "\u001b[0;31mNameError\u001b[0m: name 'x' is not defined"
          ]
        }
      ]
    },
    {
      "cell_type": "code",
      "source": [
        "# 지역 변수 -> 변수를 만든 함수 안에서만 접근 할 수 있음, 함수 바깥에 접근 x\n",
        "# 지역 범위 -> 지역 변수에 접근 할 수 있는 범위"
      ],
      "metadata": {
        "id": "lLUUzFdVKHEv"
      },
      "execution_count": null,
      "outputs": []
    },
    {
      "cell_type": "markdown",
      "source": [
        "## 함수 안에서 전역변수 변경하기"
      ],
      "metadata": {
        "id": "4kQyEu-MKu9V"
      }
    },
    {
      "cell_type": "code",
      "source": [
        "x = 10  # 전역 변수\n",
        "def foo():\n",
        "    x = 20  # x는 foo의 지역 변수\n",
        "    print(x)  # foo의 지역 변수 출력\n",
        "\n",
        "foo()\n",
        "print(x)    # 전역 변수 출력"
      ],
      "metadata": {
        "colab": {
          "base_uri": "https://localhost:8080/"
        },
        "id": "cTZUP47XKuqe",
        "outputId": "a3cd949c-3b26-4321-a0bd-edb09a58a97f"
      },
      "execution_count": null,
      "outputs": [
        {
          "output_type": "stream",
          "name": "stdout",
          "text": [
            "20\n",
            "10\n"
          ]
        }
      ]
    },
    {
      "cell_type": "code",
      "source": [
        "# 함수 안에서 전역 변수의 값을 변경하려면 global 키워드를 사용해야 함\n",
        "\n",
        "x = 10  # 전역 변수\n",
        "def foo():\n",
        "    global x # 전역 변수 x를 사용하겠다고 설정\n",
        "    x = 20  # x는 전역 변수\n",
        "    print(x) # 전역 변수 출력\n",
        "\n",
        "foo()\n",
        "print(x)    # 전역 변수 출력"
      ],
      "metadata": {
        "colab": {
          "base_uri": "https://localhost:8080/"
        },
        "id": "Y5Gu--08NDm4",
        "outputId": "4582f3b0-670c-43bc-8bbc-6364c56dc555"
      },
      "execution_count": null,
      "outputs": [
        {
          "output_type": "stream",
          "name": "stdout",
          "text": [
            "20\n",
            "20\n"
          ]
        }
      ]
    },
    {
      "cell_type": "code",
      "source": [
        "# 전역 변수 x, 함수 안에서 global을 사용하면 해당 변수는 전역 변수가 됨\n",
        "# 전역 변수 x가 없는 상태\n",
        "\n",
        "def foo():\n",
        "    global x # x를 전역 변수로 만듦\n",
        "    x = 20   # x는 전역 변수\n",
        "    print(x)  # 전역 변수 출력\n",
        "\n",
        "foo()\n",
        "print(x)  # 전역 변수 출력"
      ],
      "metadata": {
        "colab": {
          "base_uri": "https://localhost:8080/"
        },
        "id": "9OXHQiIHNg-7",
        "outputId": "8e90c6cc-aad4-4281-d09d-b514eb4e8c12"
      },
      "execution_count": null,
      "outputs": [
        {
          "output_type": "stream",
          "name": "stdout",
          "text": [
            "20\n",
            "20\n"
          ]
        }
      ]
    },
    {
      "cell_type": "markdown",
      "source": [
        "## 네임스페이스"
      ],
      "metadata": {
        "id": "71kwNnFeOfM6"
      }
    },
    {
      "cell_type": "code",
      "source": [
        "# 파이썬 변수는 네임스페이스(namespace, 이름공간)에 저장됨\n",
        "# local 함수를 사용하면 현재 네임스페이스를 딕셔너리 형태로 출력할 수 있음\n",
        "\n",
        "x = 10\n",
        "locals()"
      ],
      "metadata": {
        "colab": {
          "base_uri": "https://localhost:8080/"
        },
        "id": "Be6fz_V_OUZK",
        "outputId": "6f0cf4b6-555e-4db7-84fc-7f5440d7b9d4"
      },
      "execution_count": null,
      "outputs": [
        {
          "output_type": "execute_result",
          "data": {
            "text/plain": [
              "{'__name__': '__main__',\n",
              " '__doc__': 'Automatically created module for IPython interactive environment',\n",
              " '__package__': None,\n",
              " '__loader__': None,\n",
              " '__spec__': None,\n",
              " '__builtin__': <module 'builtins' (built-in)>,\n",
              " '__builtins__': <module 'builtins' (built-in)>,\n",
              " '_ih': ['',\n",
              "  '# 변수 x를 함수 foo 안에서 만들게 된다면??\\n\\ndef foo():\\n    x = 10    # foo의 지역 변수\\n    print(x)  # foo의 지역 변수 출력\\n\\nfoo()\\nprint(x)  # 에러. foo의 지역 변수는 출력할 수 x',\n",
              "  'x = 10  # 전역 변수\\ndef foo():\\n    x = 20  # x는 foo의 지역 변수\\n    print(x)  # foo의 지역 변수 출력\\n\\nfoo()\\nprint(x)    # 전역 변수 출력',\n",
              "  '# 함수 안에서 전역 변수의 값을 변경하려면 global 키워드를 사용해야 함\\n\\nx = 10  # 전역 변수\\ndef foo():\\n    global x # 전역 변수 x를 사용하겠다고 설정\\n    x = 20  # x는 전역 변수\\n    print(x) # 전역 변수 출력\\n\\nfoo()\\nprint(x)    # 전역 변수 출력',\n",
              "  '# 전역 변수 x, 함수 안에서 global을 사용하면 해당 변수는 전역 변수가 됨\\n# 전역 변수 x가 없는 상태\\n\\ndef foo():\\n    global x # x를 전역 변수로 만듦\\n    x = 20   # x는 전역 변수\\n    print(x)  # 전역 변수 출력\\n\\nfoo()\\nprint(x)  # 전역 변수 출력',\n",
              "  '# 파이썬 변수는 네임스페이스(namespace, 이름공간)에 저장됨\\n# local 함수를 사용하면 현재 네임스페이스를 딕셔너리 형태로 출력할 수 있음\\n\\nx = 10\\nlocals()'],\n",
              " '_oh': {},\n",
              " '_dh': ['/content'],\n",
              " 'In': ['',\n",
              "  '# 변수 x를 함수 foo 안에서 만들게 된다면??\\n\\ndef foo():\\n    x = 10    # foo의 지역 변수\\n    print(x)  # foo의 지역 변수 출력\\n\\nfoo()\\nprint(x)  # 에러. foo의 지역 변수는 출력할 수 x',\n",
              "  'x = 10  # 전역 변수\\ndef foo():\\n    x = 20  # x는 foo의 지역 변수\\n    print(x)  # foo의 지역 변수 출력\\n\\nfoo()\\nprint(x)    # 전역 변수 출력',\n",
              "  '# 함수 안에서 전역 변수의 값을 변경하려면 global 키워드를 사용해야 함\\n\\nx = 10  # 전역 변수\\ndef foo():\\n    global x # 전역 변수 x를 사용하겠다고 설정\\n    x = 20  # x는 전역 변수\\n    print(x) # 전역 변수 출력\\n\\nfoo()\\nprint(x)    # 전역 변수 출력',\n",
              "  '# 전역 변수 x, 함수 안에서 global을 사용하면 해당 변수는 전역 변수가 됨\\n# 전역 변수 x가 없는 상태\\n\\ndef foo():\\n    global x # x를 전역 변수로 만듦\\n    x = 20   # x는 전역 변수\\n    print(x)  # 전역 변수 출력\\n\\nfoo()\\nprint(x)  # 전역 변수 출력',\n",
              "  '# 파이썬 변수는 네임스페이스(namespace, 이름공간)에 저장됨\\n# local 함수를 사용하면 현재 네임스페이스를 딕셔너리 형태로 출력할 수 있음\\n\\nx = 10\\nlocals()'],\n",
              " 'Out': {},\n",
              " 'get_ipython': <bound method InteractiveShell.get_ipython of <google.colab._shell.Shell object at 0x7c7f3e02b890>>,\n",
              " 'exit': <IPython.core.autocall.ZMQExitAutocall at 0x7c7f3e04e450>,\n",
              " 'quit': <IPython.core.autocall.ZMQExitAutocall at 0x7c7f3e04e450>,\n",
              " '_': '',\n",
              " '__': '',\n",
              " '___': '',\n",
              " '_i': '# 전역 변수 x, 함수 안에서 global을 사용하면 해당 변수는 전역 변수가 됨\\n# 전역 변수 x가 없는 상태\\n\\ndef foo():\\n    global x # x를 전역 변수로 만듦\\n    x = 20   # x는 전역 변수\\n    print(x)  # 전역 변수 출력\\n\\nfoo()\\nprint(x)  # 전역 변수 출력',\n",
              " '_ii': '# 함수 안에서 전역 변수의 값을 변경하려면 global 키워드를 사용해야 함\\n\\nx = 10  # 전역 변수\\ndef foo():\\n    global x # 전역 변수 x를 사용하겠다고 설정\\n    x = 20  # x는 전역 변수\\n    print(x) # 전역 변수 출력\\n\\nfoo()\\nprint(x)    # 전역 변수 출력',\n",
              " '_iii': 'x = 10  # 전역 변수\\ndef foo():\\n    x = 20  # x는 foo의 지역 변수\\n    print(x)  # foo의 지역 변수 출력\\n\\nfoo()\\nprint(x)    # 전역 변수 출력',\n",
              " '_i1': '# 변수 x를 함수 foo 안에서 만들게 된다면??\\n\\ndef foo():\\n    x = 10    # foo의 지역 변수\\n    print(x)  # foo의 지역 변수 출력\\n\\nfoo()\\nprint(x)  # 에러. foo의 지역 변수는 출력할 수 x',\n",
              " 'foo': <function __main__.foo()>,\n",
              " '_i2': 'x = 10  # 전역 변수\\ndef foo():\\n    x = 20  # x는 foo의 지역 변수\\n    print(x)  # foo의 지역 변수 출력\\n\\nfoo()\\nprint(x)    # 전역 변수 출력',\n",
              " 'x': 10,\n",
              " '_i3': '# 함수 안에서 전역 변수의 값을 변경하려면 global 키워드를 사용해야 함\\n\\nx = 10  # 전역 변수\\ndef foo():\\n    global x # 전역 변수 x를 사용하겠다고 설정\\n    x = 20  # x는 전역 변수\\n    print(x) # 전역 변수 출력\\n\\nfoo()\\nprint(x)    # 전역 변수 출력',\n",
              " '_i4': '# 전역 변수 x, 함수 안에서 global을 사용하면 해당 변수는 전역 변수가 됨\\n# 전역 변수 x가 없는 상태\\n\\ndef foo():\\n    global x # x를 전역 변수로 만듦\\n    x = 20   # x는 전역 변수\\n    print(x)  # 전역 변수 출력\\n\\nfoo()\\nprint(x)  # 전역 변수 출력',\n",
              " '_i5': '# 파이썬 변수는 네임스페이스(namespace, 이름공간)에 저장됨\\n# local 함수를 사용하면 현재 네임스페이스를 딕셔너리 형태로 출력할 수 있음\\n\\nx = 10\\nlocals()'}"
            ]
          },
          "metadata": {},
          "execution_count": 5
        }
      ]
    },
    {
      "cell_type": "code",
      "source": [
        "def foo():\n",
        "    x = 10\n",
        "    print(locals())\n",
        "\n",
        "foo()"
      ],
      "metadata": {
        "colab": {
          "base_uri": "https://localhost:8080/"
        },
        "id": "s3OurZ3yOyX9",
        "outputId": "06093656-6890-4dd0-8207-5d7566357fd7"
      },
      "execution_count": null,
      "outputs": [
        {
          "output_type": "stream",
          "name": "stdout",
          "text": [
            "{'x': 10}\n"
          ]
        }
      ]
    },
    {
      "cell_type": "markdown",
      "source": [
        "## 함수 안에서 함수 만들기"
      ],
      "metadata": {
        "id": "CsTk6X4gPDP5"
      }
    },
    {
      "cell_type": "code",
      "source": [
        "def 함수이름1():\n",
        "    코드\n",
        "    def 함수이름2():\n",
        "        코드"
      ],
      "metadata": {
        "id": "vaBZzUhSO_kN"
      },
      "execution_count": null,
      "outputs": []
    },
    {
      "cell_type": "code",
      "source": [
        "# 함수 안에서 문자열을 출력하는 함수를 만들고 호출\n",
        "\n",
        "def print_hello():\n",
        "    hello = 'Hello, world!'\n",
        "    def print_message():\n",
        "        print(hello)\n",
        "    print_message()\n",
        "\n",
        "print_hello()"
      ],
      "metadata": {
        "colab": {
          "base_uri": "https://localhost:8080/"
        },
        "id": "Rwj8_ZwsQXe4",
        "outputId": "9ada7831-8f30-4a11-a64c-ee7985381926"
      },
      "execution_count": null,
      "outputs": [
        {
          "output_type": "stream",
          "name": "stdout",
          "text": [
            "Hello, world!\n"
          ]
        }
      ]
    },
    {
      "cell_type": "markdown",
      "source": [
        "## 지역 변수의 범위"
      ],
      "metadata": {
        "id": "mIJTKkxYSPZe"
      }
    },
    {
      "cell_type": "code",
      "source": [
        "def print_hello():\n",
        "    hello = 'Hello, world!'\n",
        "    def print_message():\n",
        "        print(hello)  # 바깥쪽 함수의 지역 변수를 사용\n",
        "    print_message()\n",
        "\n",
        "print_hello()"
      ],
      "metadata": {
        "colab": {
          "base_uri": "https://localhost:8080/"
        },
        "id": "GKrD8ULRQu-s",
        "outputId": "deff3abd-55e5-4d66-abe9-ab607bd48455"
      },
      "execution_count": null,
      "outputs": [
        {
          "output_type": "stream",
          "name": "stdout",
          "text": [
            "Hello, world!\n"
          ]
        }
      ]
    },
    {
      "cell_type": "markdown",
      "source": [
        "## 지역 변수 변경하기"
      ],
      "metadata": {
        "id": "67D7-iQPS1Re"
      }
    },
    {
      "cell_type": "code",
      "source": [
        "# 파이썬에서는 함수에서 변수를 만들면 항상 현재 함수의 지역 변수가 됨\n",
        "\n",
        "def A():\n",
        "    x = 10 # A의 지역 변수 x\n",
        "    def B():\n",
        "        x = 20 # x에 지역 할당\n",
        "\n",
        "    B()\n",
        "    print(x) # A의 지역 변수 x 출력\n",
        "\n",
        "A()"
      ],
      "metadata": {
        "colab": {
          "base_uri": "https://localhost:8080/"
        },
        "id": "CCwdzOJ-Sgpb",
        "outputId": "b7b69500-9162-4fc0-948f-814612525963"
      },
      "execution_count": null,
      "outputs": [
        {
          "output_type": "stream",
          "name": "stdout",
          "text": [
            "10\n"
          ]
        }
      ]
    },
    {
      "cell_type": "code",
      "source": [
        "def A():\n",
        "    x = 10    # A의 지역 변수 x\n",
        "    def B():\n",
        "        x = 20  # B의 지역 변수 x를 새로 만듬"
      ],
      "metadata": {
        "id": "B7Wb1-EkTXvM"
      },
      "execution_count": null,
      "outputs": []
    },
    {
      "cell_type": "code",
      "source": [
        "# 함수 바깥쪽에 있는 지역 변수의 값을 변경하려면 nonlocal 키워드를 사용해야 함\n",
        "\n",
        "# nonlocal 지역변수\n",
        "\n",
        "def A():\n",
        "    x = 10  # A의 지역 변수 x\n",
        "    def B():\n",
        "        nonlocal x # 현재 함수의 바깥쪽에 있는 지역 변수 사용\n",
        "        x = 20\n",
        "\n",
        "    B()\n",
        "    print(x)\n",
        "\n",
        "A()"
      ],
      "metadata": {
        "colab": {
          "base_uri": "https://localhost:8080/"
        },
        "id": "AC4xaVOlTx4z",
        "outputId": "93de2f20-e257-487c-9296-5552433b1c38"
      },
      "execution_count": null,
      "outputs": [
        {
          "output_type": "stream",
          "name": "stdout",
          "text": [
            "20\n"
          ]
        }
      ]
    },
    {
      "cell_type": "markdown",
      "source": [
        "## nonlocal이 변수를 찾는 순서"
      ],
      "metadata": {
        "id": "o3XxO1MzUX2c"
      }
    },
    {
      "cell_type": "code",
      "source": [
        "def A():\n",
        "    x = 10\n",
        "    y = 100\n",
        "    def B():\n",
        "        x = 20\n",
        "        def C():\n",
        "            nonlocal x\n",
        "            nonlocal y\n",
        "            x = x + 30\n",
        "            y = y + 300\n",
        "            print(x)\n",
        "            print(y)\n",
        "        C()\n",
        "    B()\n",
        "\n",
        "A()"
      ],
      "metadata": {
        "colab": {
          "base_uri": "https://localhost:8080/"
        },
        "id": "5rDJtIM3UOgQ",
        "outputId": "2a35e551-e6b5-41c5-8523-aa426d009c7e"
      },
      "execution_count": null,
      "outputs": [
        {
          "output_type": "stream",
          "name": "stdout",
          "text": [
            "50\n",
            "400\n"
          ]
        }
      ]
    },
    {
      "cell_type": "markdown",
      "source": [
        "## global로 전역 변수 사용하기"
      ],
      "metadata": {
        "id": "lLJq3w0gVB27"
      }
    },
    {
      "cell_type": "code",
      "source": [
        "# 함수의 단계에 상관없이 global 키워드를 사용하면 무조건 전역 변수 사용하게 됨\n",
        "# 함수에서 값을 주고 받을 때는 매개변수와 반환값을 사용하는 것이 좋음\n",
        "# 특히 전역 변수는 코드가 복잡해졌을 때 변수의 값을 어디서 바꾸는지 알기가 어려움...\n",
        "# 전역 변수는 가급적 사용 x\n",
        "\n",
        "x = 1\n",
        "def A():\n",
        "    x = 10\n",
        "    def B():\n",
        "        x = 20\n",
        "        def C():\n",
        "            global x\n",
        "            x = x + 30\n",
        "            print(x)\n",
        "        C()\n",
        "    B()\n",
        "\n",
        "A()"
      ],
      "metadata": {
        "colab": {
          "base_uri": "https://localhost:8080/"
        },
        "id": "BmkMjQ-OUwJg",
        "outputId": "e4487ae2-37dc-4aee-be66-c84e0ff73068"
      },
      "execution_count": null,
      "outputs": [
        {
          "output_type": "stream",
          "name": "stdout",
          "text": [
            "31\n"
          ]
        }
      ]
    },
    {
      "cell_type": "markdown",
      "source": [
        "## 클로저 사용하기"
      ],
      "metadata": {
        "id": "lVcyqWHmWQzy"
      }
    },
    {
      "cell_type": "code",
      "source": [
        "# 함수를 호출할 때 다시 꺼내서 사용하는 함수 = 클로저\n",
        "# 여기에서는 c에 저장된 함수가 됨\n",
        "\n",
        "def calc():\n",
        "    a = 3\n",
        "    b = 5\n",
        "    def mul_add(x):\n",
        "        return a * x + b # 함수 바깥쪽에 있는 지역 변수 a, b를 사용하여 계산\n",
        "    return mul_add       # mul_add 함수를 반환\n",
        "\n",
        "c = calc()\n",
        "print(c(1), c(2), c(3), c(4), c(5))"
      ],
      "metadata": {
        "colab": {
          "base_uri": "https://localhost:8080/"
        },
        "id": "6qQJij4SVdfm",
        "outputId": "58d2a789-0198-476e-b5ec-0e46bf3b259e"
      },
      "execution_count": null,
      "outputs": [
        {
          "output_type": "stream",
          "name": "stdout",
          "text": [
            "8 11 14 17 20\n"
          ]
        }
      ]
    },
    {
      "cell_type": "markdown",
      "source": [
        "## lambda로 클로저 만들기"
      ],
      "metadata": {
        "id": "qeTUN_bHnbmS"
      }
    },
    {
      "cell_type": "code",
      "source": [
        "# 람다는 이름 없는 익명 함수를 뜻함, 클로저는 함수를 둘러싼 환경을 유지했다가 나중에 다시 사용하는 함수\n",
        "\n",
        "def calc():\n",
        "    a = 3\n",
        "    b = 5\n",
        "    return lambda x: a * x + b  # 람다 표현식을 반환\n",
        "\n",
        "c = calc()\n",
        "print(c(1), c(2), c(3), c(4), c(5))"
      ],
      "metadata": {
        "colab": {
          "base_uri": "https://localhost:8080/"
        },
        "id": "_2e_TVYlXX1X",
        "outputId": "13970945-3879-4222-956c-d2094c2a2546"
      },
      "execution_count": null,
      "outputs": [
        {
          "output_type": "stream",
          "name": "stdout",
          "text": [
            "8 11 14 17 20\n"
          ]
        }
      ]
    },
    {
      "cell_type": "markdown",
      "source": [
        "## 클로저의 지역 변수 변경하기"
      ],
      "metadata": {
        "id": "Fgfx0Drnop4B"
      }
    },
    {
      "cell_type": "code",
      "source": [
        "def calc():\n",
        "    a = 3\n",
        "    b = 5\n",
        "    total = 0\n",
        "    def mul_add(x):\n",
        "        nonlocal total # 클로저의 지역 변수를 변경하고 싶을때 사용\n",
        "        total = total + a * x + b\n",
        "        print(total)\n",
        "    return mul_add\n",
        "\n",
        "c = calc()\n",
        "c(1)\n",
        "c(2)\n",
        "c(3)"
      ],
      "metadata": {
        "colab": {
          "base_uri": "https://localhost:8080/"
        },
        "id": "yz_7YUHNntPG",
        "outputId": "5047d2da-7069-43a1-969f-3c61a88537db"
      },
      "execution_count": null,
      "outputs": [
        {
          "output_type": "stream",
          "name": "stdout",
          "text": [
            "8\n",
            "19\n",
            "33\n"
          ]
        }
      ]
    },
    {
      "cell_type": "markdown",
      "source": [
        "## 연습 문제 : 호출 횟수를 세는 함수 만들기"
      ],
      "metadata": {
        "id": "zqb3wotpq6M2"
      }
    },
    {
      "cell_type": "code",
      "source": [
        "def counter():\n",
        "    i = 0\n",
        "    def count():\n",
        "        nonlocal i\n",
        "        i += 1\n",
        "        return i\n",
        "    return count\n",
        "\n",
        "c = counter()\n",
        "for i in range(10):\n",
        "    print(c(), end=' ')"
      ],
      "metadata": {
        "colab": {
          "base_uri": "https://localhost:8080/"
        },
        "id": "P7-m9nSfpcsd",
        "outputId": "abc96516-62e5-4fb1-ff06-a14e38e0a5fa"
      },
      "execution_count": null,
      "outputs": [
        {
          "output_type": "stream",
          "name": "stdout",
          "text": [
            "1 2 3 4 5 6 7 8 9 10 "
          ]
        }
      ]
    },
    {
      "cell_type": "markdown",
      "source": [
        "## 심사문제: 카운트다운 함수 만들기"
      ],
      "metadata": {
        "id": "PDWijKljra8m"
      }
    },
    {
      "cell_type": "code",
      "source": [
        "def countdown(n):\n",
        "    i = 0\n",
        "    def count():\n",
        "        nonlocal n\n",
        "        n -= 1\n",
        "        return n + 1\n",
        "    return count\n",
        "\n",
        "n = int(input())\n",
        "\n",
        "c = countdown(n)\n",
        "for i in range(n):\n",
        "    print(c(), end=' ')"
      ],
      "metadata": {
        "colab": {
          "base_uri": "https://localhost:8080/"
        },
        "id": "aKQlsiTvrShy",
        "outputId": "893630a1-a220-4c97-c732-f8aaddd025f4"
      },
      "execution_count": null,
      "outputs": [
        {
          "output_type": "stream",
          "name": "stdout",
          "text": [
            "20\n",
            "20 19 18 17 16 15 14 13 12 11 10 9 8 7 6 5 4 3 2 1 "
          ]
        }
      ]
    },
    {
      "cell_type": "code",
      "source": [],
      "metadata": {
        "id": "vFPraqz7r93C"
      },
      "execution_count": null,
      "outputs": []
    }
  ]
}