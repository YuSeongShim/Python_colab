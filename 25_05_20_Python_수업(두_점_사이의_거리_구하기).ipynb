{
  "nbformat": 4,
  "nbformat_minor": 0,
  "metadata": {
    "colab": {
      "provenance": [],
      "authorship_tag": "ABX9TyNdUtdq0zvY5kl9Zeqi5eAy",
      "include_colab_link": true
    },
    "kernelspec": {
      "name": "python3",
      "display_name": "Python 3"
    },
    "language_info": {
      "name": "python"
    }
  },
  "cells": [
    {
      "cell_type": "markdown",
      "metadata": {
        "id": "view-in-github",
        "colab_type": "text"
      },
      "source": [
        "<a href=\"https://colab.research.google.com/github/YuSeongShim/Python_colab/blob/main/25_05_20_Python_%EC%88%98%EC%97%85(%EB%91%90_%EC%A0%90_%EC%82%AC%EC%9D%B4%EC%9D%98_%EA%B1%B0%EB%A6%AC_%EA%B5%AC%ED%95%98%EA%B8%B0).ipynb\" target=\"_parent\"><img src=\"https://colab.research.google.com/assets/colab-badge.svg\" alt=\"Open In Colab\"/></a>"
      ]
    },
    {
      "cell_type": "markdown",
      "source": [
        "## 클래스로 점 구현하기"
      ],
      "metadata": {
        "id": "IOqr_MgWgNG0"
      }
    },
    {
      "cell_type": "code",
      "execution_count": null,
      "metadata": {
        "id": "QxfFFgspgHMR"
      },
      "outputs": [],
      "source": [
        "# Point2D 클래스를 구현하고 x와 y를 속성으로 넣기\n",
        "\n",
        "class Point2D:\n",
        "    def __init__(self, x, y):\n",
        "        self.x = x\n",
        "        self.y = y"
      ]
    },
    {
      "cell_type": "code",
      "source": [
        "# Point2D 클래스로 점 두 개 만들기\n",
        "\n",
        "class Point2D:\n",
        "    def __init__(self, x, y):\n",
        "        self.x = x\n",
        "        self.y = y\n",
        "\n",
        "p1 = Point2D(x=30, y=20) # 점1\n",
        "p2 = Point2D(x=60, y=50) # 점2\n",
        "\n",
        "print('p1: {} {}'.format(p1.x, p1.y)) # 30 20\n",
        "print('p2: {} {}'.format(p2.x, p2.y)) # 60 50"
      ],
      "metadata": {
        "colab": {
          "base_uri": "https://localhost:8080/"
        },
        "id": "1isCv1F6ghOj",
        "outputId": "9631b5a5-6b0a-4f11-e6cd-bbda3db8954b"
      },
      "execution_count": null,
      "outputs": [
        {
          "output_type": "stream",
          "name": "stdout",
          "text": [
            "p1: 30 20\n",
            "p2: 60 30\n"
          ]
        }
      ]
    },
    {
      "cell_type": "markdown",
      "source": [
        "## 피타고라스의 정리로 두 점 거리 구하기"
      ],
      "metadata": {
        "id": "5XU-P100hcxH"
      }
    },
    {
      "cell_type": "code",
      "source": [
        "# 피타고라스 정리를 대입하기 위해선 선 a와 b의 길이를 구해야 함\n",
        "\n",
        "a = p2.x - p1.x # 선 a의 길이\n",
        "b = p2.y - p1.y # 선 b의 길이"
      ],
      "metadata": {
        "id": "pSemb_dwhBPA"
      },
      "execution_count": null,
      "outputs": []
    },
    {
      "cell_type": "code",
      "source": [
        "# math.sqrt(값) -> 제곱근을 반환, 값이 음수이면 에러 발생\n",
        "\n",
        "import math\n",
        "\n",
        "class Point2D:\n",
        "    def __init__(self, x, y):\n",
        "        self.x = x\n",
        "        self.y = y\n",
        "\n",
        "p1 = Point2D(x=30, y=20) # 점1\n",
        "p2 = Point2D(x=60, y=50) # 점2\n",
        "\n",
        "a = p2.x - p1.x  # 선 a의 길이\n",
        "b = p2.y - p1.y  # 선 b의 길이\n",
        "\n",
        "c = math.sqrt((a*a) + (b*b)) # (a * a) + (b * b)의 제곱근을 구함\n",
        "print(c)"
      ],
      "metadata": {
        "colab": {
          "base_uri": "https://localhost:8080/"
        },
        "id": "9IHx7SsihuwJ",
        "outputId": "ceffe6c6-b9e0-4446-f3fa-e8d271b003b3"
      },
      "execution_count": null,
      "outputs": [
        {
          "output_type": "stream",
          "name": "stdout",
          "text": [
            "42.42640687119285\n"
          ]
        }
      ]
    },
    {
      "cell_type": "code",
      "source": [
        "# pow 함수를 이용해서 구해보기\n",
        "# math.pow(값, 지수) = 값을 지수만큼 거듭제곱한 값을 반환\n",
        "\n",
        "import math\n",
        "\n",
        "class Point2D:\n",
        "    def __init__(self, x, y):\n",
        "        self.x = x\n",
        "        self.y = y\n",
        "\n",
        "p1 = Point2D(x=30, y=20)\n",
        "p2 = Point2D(x=60, y=50)\n",
        "\n",
        "a = p2.x - p1.x\n",
        "b = p2.y - p1.y\n",
        "\n",
        "# 수정된 부분\n",
        "c = math.sqrt(math.pow(a, 2) + math.pow(b, 2))\n",
        "print(c)\n"
      ],
      "metadata": {
        "colab": {
          "base_uri": "https://localhost:8080/"
        },
        "id": "4z9Y-EFPizlj",
        "outputId": "fa5fc538-99ba-4e00-a3f4-7d3e4d5641e5"
      },
      "execution_count": null,
      "outputs": [
        {
          "output_type": "stream",
          "name": "stdout",
          "text": [
            "42.42640687119285\n"
          ]
        }
      ]
    },
    {
      "cell_type": "code",
      "source": [
        "# 만약 선의 위치를 구할 때 p1에서 p2를 빼면\n",
        "# a ** + b ** = c** 식에서 a와 b는 같은 값을 두 번 곱하는데 음수끼리 곱하면 양수가 되기에 상관 x\n",
        "# 즉 양수 * 양수, 음수 * 음수 이기 때문\n",
        "\n",
        "a = p1.x - p2.x  # 선 a의 길이\n",
        "b = p1.y - p2.y  # 선 b의 길이"
      ],
      "metadata": {
        "id": "iG_CmvAcjUQW"
      },
      "execution_count": null,
      "outputs": []
    },
    {
      "cell_type": "markdown",
      "source": [
        "## 절댓값 함수"
      ],
      "metadata": {
        "id": "C0kKrzztliKv"
      }
    },
    {
      "cell_type": "code",
      "source": [
        "# 내장 함수 abs 또는 math 모듈의 fabs 함수를 사용하면 양수 또는 음수를 절댓값으로 만들 수 있음\n",
        "\n",
        "# abs(값) : 정수는 절댓값을 정수로 반환, 실수는 절댓값을 실수로 반환\n",
        "# math.fabs(값) : 절댓값을 실수로 반환"
      ],
      "metadata": {
        "id": "C_1SpQFulQKV"
      },
      "execution_count": null,
      "outputs": []
    },
    {
      "cell_type": "markdown",
      "source": [
        "## namedtuple 사용하기"
      ],
      "metadata": {
        "id": "Wo8QBjK9l2u9"
      }
    },
    {
      "cell_type": "code",
      "source": [
        "# namedtuple은 자료형 이름과 요소의 이름을 지정하면 클래스로 생성해줌\n",
        "\n",
        "# 클래스 = collections.nametuple('자료형이름', ['요소이름1', '요소이름2'])\n",
        "\n",
        "# 인스턴스 = 클래스(값1, 값2)\n",
        "# 인스턴스 = 클래스(요소이름1 = 값1, 요소이름2 = 값2)\n",
        "# 인스턴스.요소이름1\n",
        "# 인스턴스[인덱스]\n",
        "\n",
        "import math\n",
        "import collections\n",
        "\n",
        "Point2D = collections.namedtuple('Point2D', ['x', 'y']) # namedtuple로 점 표현\n",
        "\n",
        "p1 = Point2D(x=30, y=20) # 점1\n",
        "p2 = Point2D(x=60, y=50) # 점2\n",
        "\n",
        "a = p1.x - p2.x  # 선 a의 길이\n",
        "b = p1.y - p2.y  # 선 b의 길이\n",
        "\n",
        "c = math.sqrt((a * a) + (b * b))\n",
        "print(c)"
      ],
      "metadata": {
        "colab": {
          "base_uri": "https://localhost:8080/"
        },
        "id": "xhzjPseQl5eI",
        "outputId": "eec7f963-a630-47b3-efd5-ae8680ea5810"
      },
      "execution_count": null,
      "outputs": [
        {
          "output_type": "stream",
          "name": "stdout",
          "text": [
            "42.42640687119285\n"
          ]
        }
      ]
    },
    {
      "cell_type": "markdown",
      "source": [
        "## 연습문제: 사각형 넓이 구하기"
      ],
      "metadata": {
        "id": "rIjBfhKRnX97"
      }
    },
    {
      "cell_type": "code",
      "source": [
        "class Rectangle:\n",
        "    def __init__(self, x1, y1, x2, y2):\n",
        "        self.x1 = x1\n",
        "        self.y1 = y1\n",
        "        self.x2 = x2\n",
        "        self.y2 = y2\n",
        "\n",
        "rect = Rectangle(x1=20, y1=20, x2=40, y2=30)\n",
        "\n",
        "width = abs(rect.x2 - rect.x1)\n",
        "height = abs(rect.y2 - rect.y1)\n",
        "area = width * height\n",
        "print(area)"
      ],
      "metadata": {
        "colab": {
          "base_uri": "https://localhost:8080/"
        },
        "id": "BWRUeLJWnRfx",
        "outputId": "87f52d18-0d89-43da-c133-3cac3541e323"
      },
      "execution_count": 1,
      "outputs": [
        {
          "output_type": "stream",
          "name": "stdout",
          "text": [
            "200\n"
          ]
        }
      ]
    },
    {
      "cell_type": "code",
      "source": [
        "import math\n",
        "\n",
        "class Point2D:\n",
        "    def __init__(self, x=0, y = 0):\n",
        "        self.x = x\n",
        "        self.y = y\n",
        "\n",
        "length = 0.0\n",
        "p = [Point2D(), Point2D(), Point2D(), Point2D()]\n",
        "p[0].x, p[0].y, p[1].x, p[1].y, p[2].x, p[2].y, p[3].x, p[3].y = map(int, input().split())\n",
        "\n",
        "for i in range(len(p) - 1):\n",
        "  a = p[i+1].x - p[i].x\n",
        "  b = p[i+1].y - p[i].y\n",
        "  length += math.sqrt(math.pow(a, 2) + math.pow(b, 2))\n",
        "\n",
        "print(length)"
      ],
      "metadata": {
        "id": "PEL9IVl7n4LF",
        "colab": {
          "base_uri": "https://localhost:8080/"
        },
        "outputId": "56fd2127-852b-4c2d-820a-97299e5acee5"
      },
      "execution_count": 3,
      "outputs": [
        {
          "output_type": "stream",
          "name": "stdout",
          "text": [
            "10 10 20 20 30 30 40 40\n",
            "42.42640687119285\n"
          ]
        }
      ]
    },
    {
      "cell_type": "code",
      "source": [],
      "metadata": {
        "id": "rTBvJfoHCRxJ"
      },
      "execution_count": null,
      "outputs": []
    }
  ]
}