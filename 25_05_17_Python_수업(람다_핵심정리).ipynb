{
  "nbformat": 4,
  "nbformat_minor": 0,
  "metadata": {
    "colab": {
      "provenance": [],
      "authorship_tag": "ABX9TyOR0bf4E9c+BdefQYRl9HzZ",
      "include_colab_link": true
    },
    "kernelspec": {
      "name": "python3",
      "display_name": "Python 3"
    },
    "language_info": {
      "name": "python"
    }
  },
  "cells": [
    {
      "cell_type": "markdown",
      "metadata": {
        "id": "view-in-github",
        "colab_type": "text"
      },
      "source": [
        "<a href=\"https://colab.research.google.com/github/YuSeongShim/Python_colab/blob/main/25_05_17_Python_%EC%88%98%EC%97%85(%EB%9E%8C%EB%8B%A4_%ED%95%B5%EC%8B%AC%EC%A0%95%EB%A6%AC).ipynb\" target=\"_parent\"><img src=\"https://colab.research.google.com/assets/colab-badge.svg\" alt=\"Open In Colab\"/></a>"
      ]
    },
    {
      "cell_type": "markdown",
      "source": [
        "## 람다 표현식"
      ],
      "metadata": {
        "id": "9-c2X6WQ1qIV"
      }
    },
    {
      "cell_type": "code",
      "execution_count": null,
      "metadata": {
        "id": "dJOu-Ql51N8N"
      },
      "outputs": [],
      "source": [
        "# 람다 표현식은 간단한 식으로 함수를 만들 때 사용\n",
        "# 람다 표현식으로 만든 함수는 이름이 없어서 익명 함수라고도 부르기도 함\n",
        "# 출력하기 위해서는 표현식을 괄호로 묶은 뒤, 다시 괄호를 붙이고 인수를 넣어서 호출함\n",
        "\n",
        "lambda 매개변수1, 매개변수2: 반환값   # 람다 표현식으로 함수를 만듦\n",
        "(lambda 매개변수1, 매개변수2: 반환값)(인수1, 인수2) # 람다 표현식 자체를 호출\n",
        "\n",
        "lambda 매개변수1, 매개변수2: 식1 if 조건식 else 식2 # 람다 표현식에서 조건부 표현식 사용\n",
        "lambda x: str(x) if x % 3 == 0 else x\n",
        "\n",
        "lambda 매개변수1, 매개변수2: 식1 if 조건식1 else 식2 else 식3 # if를 여러 개 사용\n",
        "lambda x: str(x) if x == 1 else float(x) if x == 2 else x + 10"
      ]
    },
    {
      "cell_type": "markdown",
      "source": [
        "## 변수의 사용 범위"
      ],
      "metadata": {
        "id": "Y9oqAL0Q3A3V"
      }
    },
    {
      "cell_type": "code",
      "source": [
        "# 전역 변수는 스크립트 전체에서 접근할 수 있음, 지역 변수는 해당 함수 안에서만 접근 가능\n",
        "# 만약 함수 안에서 전역 변수 사용하려면 global에 변수 이름 지정함\n",
        "# 전역 변수에 아무 값이 없다면 -> global 변수가 전역 변수가 됨\n",
        "\n",
        "x = 10 # 전역 변수\n",
        "\n",
        "def foo():\n",
        "    global x # 전역 변수 x를 사용하겠다고 설정\n",
        "    y = 10   # foo의 지역 변수"
      ],
      "metadata": {
        "id": "WFE0aqkK2_4G"
      },
      "execution_count": null,
      "outputs": []
    },
    {
      "cell_type": "markdown",
      "source": [
        "## 함수 안에서 함수 사용하기"
      ],
      "metadata": {
        "id": "LwDuhb8K4VJ1"
      }
    },
    {
      "cell_type": "code",
      "source": [
        "# 파이썬에서는 def로 함수 만들고 다시 def로 함수 만들 수 있음\n",
        "\n",
        "def 함수이름1():\n",
        "    코드\n",
        "    def 함수이름2():\n",
        "        코드"
      ],
      "metadata": {
        "id": "eVnmR3io4JmD"
      },
      "execution_count": null,
      "outputs": []
    },
    {
      "cell_type": "code",
      "source": [
        "# 함수 안에 함수를 만들고 안쪽 함수에서 바깥쪽 함수의 지역 변수를 변경하려면 nonlocal 변수 이름 지정\n",
        "\n",
        "def A():\n",
        "    x = 10    # A의 지역 변수 x\n",
        "    def B():\n",
        "        nonlocal x  # 현재 함수에서 바깥쪽에 있는 지역 변수를 사용\n",
        "        x = 20      # A의 지역 변수 x에 20 할당"
      ],
      "metadata": {
        "id": "--WRaclc4nSi"
      },
      "execution_count": null,
      "outputs": []
    },
    {
      "cell_type": "markdown",
      "source": [
        "## 클로저"
      ],
      "metadata": {
        "id": "Qz1dtcYt5J_W"
      }
    },
    {
      "cell_type": "code",
      "source": [
        "# 함수를 둘러싼 환경(지역 변수, 코드 등)을 계속 유지하거나 함수를 호출할 때 다시 꺼내서 사용하는 함수\n",
        "# 변수와 코드를 묶어서 사용하고 싶을 때 활용함\n",
        "# 클로저에 속한 지역 변수는 바깥에서 직접 접근 x -> 데이터를 숨기고 싶을 때 사용\n",
        "\n",
        "def calc(): # calc 함수 안에 mul_add 함수를 만듦\n",
        "    a = 3\n",
        "    b = 5\n",
        "    def mul_add(x):\n",
        "        return a * x + b  # 함수 바깥쪽에 있는 지역 변수 a, b를 사용하여 계산\n",
        "    return mul_add        # mul_add 함수를 반환\n",
        "\n",
        "c = calc()  # c에 저장된 클로저 함수\n",
        "print(c(1), c(2), c(3), c(4), c(5)) # 8 11 14 17 20"
      ],
      "metadata": {
        "colab": {
          "base_uri": "https://localhost:8080/"
        },
        "id": "vzyqZw8T5AzD",
        "outputId": "ece20c30-fa36-4939-b26a-5a6b5e4ba691"
      },
      "execution_count": null,
      "outputs": [
        {
          "output_type": "stream",
          "name": "stdout",
          "text": [
            "8 11 14 17 20\n"
          ]
        }
      ]
    },
    {
      "cell_type": "code",
      "source": [
        "## 람다 표현식으로도 사용 가능\n",
        "\n",
        "def calc():\n",
        "    a = 3\n",
        "    b = 5\n",
        "    return lambda x: a * x + b # 람다 표현식을 반환"
      ],
      "metadata": {
        "id": "w_KDVkkt6HQZ"
      },
      "execution_count": null,
      "outputs": []
    },
    {
      "cell_type": "markdown",
      "source": [
        "## 람다와 클로저"
      ],
      "metadata": {
        "id": "LV7_t-KC6YEc"
      }
    },
    {
      "cell_type": "code",
      "source": [
        "# 클로저는 람다와 함께 사용하는 경우가 많아 둘을 혼동하기가 쉬움\n",
        "# 람다는 이름이 없는 익명함수, 클로저는 함수를 둘러싼 환경을 유지했다가 나중에 다시 사용하는 함수를 뜻함"
      ],
      "metadata": {
        "id": "mrhrK_lG6UX2"
      },
      "execution_count": null,
      "outputs": []
    },
    {
      "cell_type": "markdown",
      "source": [
        "## 일급 객체란?"
      ],
      "metadata": {
        "id": "3r7r6Crp7XI1"
      }
    },
    {
      "cell_type": "code",
      "source": [
        "# 일급 객체 -> 다음 조건을 만족하는 객체를 뜻함\n",
        "\n",
        "# 변수나 데이터 구조에 넣을 수 있어야 함\n",
        "# 매개변수에 전달 할 수 있어야 함\n",
        "# 반환값으로 사용할 수 있어야 함"
      ],
      "metadata": {
        "id": "_rK0zuUv7ZGm"
      },
      "execution_count": null,
      "outputs": []
    }
  ]
}