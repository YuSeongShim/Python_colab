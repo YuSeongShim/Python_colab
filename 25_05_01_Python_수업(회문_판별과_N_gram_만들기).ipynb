{
  "nbformat": 4,
  "nbformat_minor": 0,
  "metadata": {
    "colab": {
      "provenance": [],
      "authorship_tag": "ABX9TyOdwgY9gyagaOUcQ679xZ6X",
      "include_colab_link": true
    },
    "kernelspec": {
      "name": "python3",
      "display_name": "Python 3"
    },
    "language_info": {
      "name": "python"
    }
  },
  "cells": [
    {
      "cell_type": "markdown",
      "metadata": {
        "id": "view-in-github",
        "colab_type": "text"
      },
      "source": [
        "<a href=\"https://colab.research.google.com/github/YuSeongShim/Python_colab/blob/main/25_05_01_Python_%EC%88%98%EC%97%85(%ED%9A%8C%EB%AC%B8_%ED%8C%90%EB%B3%84%EA%B3%BC_N_gram_%EB%A7%8C%EB%93%A4%EA%B8%B0).ipynb\" target=\"_parent\"><img src=\"https://colab.research.google.com/assets/colab-badge.svg\" alt=\"Open In Colab\"/></a>"
      ]
    },
    {
      "cell_type": "markdown",
      "source": [
        "## 반복문으로 문자 검사하기"
      ],
      "metadata": {
        "id": "K-SLg_sA2W5V"
      }
    },
    {
      "cell_type": "code",
      "execution_count": null,
      "metadata": {
        "colab": {
          "base_uri": "https://localhost:8080/"
        },
        "id": "L_9hfoJx16rU",
        "outputId": "20b0d3cd-5892-4f98-d60a-559f8053d924"
      },
      "outputs": [
        {
          "output_type": "stream",
          "name": "stdout",
          "text": [
            "단어를 입력하세요: hello\n",
            "False\n"
          ]
        }
      ],
      "source": [
        "word = input('단어를 입력하세요: ')\n",
        "\n",
        "is_palindrome = True # 회문 판별값을 저장할 변수, 초기값은 True\n",
        "for i in range(len(word) // 2): # 0부터 문자열 길이의 절반만큼 반복\n",
        "    if word[i] != word[-1 - i]: # 왼쪽 문자와 오른쪽 문자를 비교하여 문자가 다르면\n",
        "        is_palindrome = False   # 회문이 아님\n",
        "        break\n",
        "\n",
        "print(is_palindrome) # 회문 판별값 출력"
      ]
    },
    {
      "cell_type": "markdown",
      "source": [
        "## 시퀀스 뒤집기로 문자 검사하기"
      ],
      "metadata": {
        "id": "baMSShnS7bhn"
      }
    },
    {
      "cell_type": "code",
      "source": [
        "word = input('단어를 입력하세요: ')\n",
        "\n",
        "print(word == word[::-1]) # 원래 문자열과 반댈로 뒤집은 문자열을 비교"
      ],
      "metadata": {
        "colab": {
          "base_uri": "https://localhost:8080/"
        },
        "id": "HMJxjXFI3q5s",
        "outputId": "cedeb935-d78a-4911-ef8e-3dd4eb5fb35c"
      },
      "execution_count": null,
      "outputs": [
        {
          "output_type": "stream",
          "name": "stdout",
          "text": [
            "단어를 입력하세요: hello\n",
            "False\n"
          ]
        }
      ]
    },
    {
      "cell_type": "markdown",
      "source": [
        "## 리스트와 resersed 사용하기"
      ],
      "metadata": {
        "id": "7E1Nx2gJ8nct"
      }
    },
    {
      "cell_type": "code",
      "source": [
        "# 반복 가능한 객체의 요소 순서를 반대로 뒤집는 reversed 사용\n",
        "# 두 리스트를 == 로 비교하면 문자열이 회문인지 판별 o\n",
        "\n",
        "word = 'level'\n",
        "list(word) == list(reversed(word))"
      ],
      "metadata": {
        "colab": {
          "base_uri": "https://localhost:8080/"
        },
        "id": "XoPWeW0H7zjn",
        "outputId": "2470ffa3-318e-4e19-a409-d12c352deaa1"
      },
      "execution_count": null,
      "outputs": [
        {
          "output_type": "execute_result",
          "data": {
            "text/plain": [
              "True"
            ]
          },
          "metadata": {},
          "execution_count": 5
        }
      ]
    },
    {
      "cell_type": "code",
      "source": [
        "# list에 문자열을 넣으면 문자 하나하나가 리스트의 요소로 들어감\n",
        "# 여기서 reversed로 문자열을 반대로 뒤집어서 list에 넣으면 순서가 반대로 된 리스트 구할 수 있음\n",
        "\n",
        "list(word)"
      ],
      "metadata": {
        "colab": {
          "base_uri": "https://localhost:8080/"
        },
        "id": "SuHUZcJe84G-",
        "outputId": "d9b00865-7735-40fc-d327-e20430aee08b"
      },
      "execution_count": null,
      "outputs": [
        {
          "output_type": "execute_result",
          "data": {
            "text/plain": [
              "['l', 'e', 'v', 'e', 'l']"
            ]
          },
          "metadata": {},
          "execution_count": 6
        }
      ]
    },
    {
      "cell_type": "code",
      "source": [
        "list(reversed(word))"
      ],
      "metadata": {
        "colab": {
          "base_uri": "https://localhost:8080/"
        },
        "id": "5k80FDH39UxZ",
        "outputId": "5e3e2899-08f9-4bfd-d1b1-f514f5d081dd"
      },
      "execution_count": null,
      "outputs": [
        {
          "output_type": "execute_result",
          "data": {
            "text/plain": [
              "['l', 'e', 'v', 'e', 'l']"
            ]
          },
          "metadata": {},
          "execution_count": 7
        }
      ]
    },
    {
      "cell_type": "markdown",
      "source": [
        "## 문자열의 join 메서드와 reversed 사용하기"
      ],
      "metadata": {
        "id": "BodFhuAU9otd"
      }
    },
    {
      "cell_type": "code",
      "source": [
        "# 리스트와 reversed를 사용하는 방법 말고도, 문자열의 join 메서드를 사용해서 회문 판별 가능\n",
        "\n",
        "word = 'level'\n",
        "word == ''.join(reversed(word))"
      ],
      "metadata": {
        "colab": {
          "base_uri": "https://localhost:8080/"
        },
        "id": "3vxz6Jc_9W7l",
        "outputId": "9ac59779-0209-453d-b1f8-1729a5b0abe2"
      },
      "execution_count": null,
      "outputs": [
        {
          "output_type": "execute_result",
          "data": {
            "text/plain": [
              "True"
            ]
          },
          "metadata": {},
          "execution_count": 8
        }
      ]
    },
    {
      "cell_type": "code",
      "source": [
        "# join은 구분자 연결리스트 요소\n",
        "# 여기서는 빈 문자열 '' + reversed(word) 요소 연결함\n",
        "# 이 두 문자열을 == 로 비교하면 문자열이 회문인지 판별 o\n",
        "\n",
        "word"
      ],
      "metadata": {
        "colab": {
          "base_uri": "https://localhost:8080/",
          "height": 36
        },
        "id": "y3HXRZJP9z_L",
        "outputId": "c54406f6-d195-4745-fd96-3e66145b7873"
      },
      "execution_count": null,
      "outputs": [
        {
          "output_type": "execute_result",
          "data": {
            "text/plain": [
              "'level'"
            ],
            "application/vnd.google.colaboratory.intrinsic+json": {
              "type": "string"
            }
          },
          "metadata": {},
          "execution_count": 9
        }
      ]
    },
    {
      "cell_type": "code",
      "source": [
        "''.join(reversed(word))"
      ],
      "metadata": {
        "colab": {
          "base_uri": "https://localhost:8080/",
          "height": 36
        },
        "id": "QU-ArJTh-dg0",
        "outputId": "56a8fdc9-a17f-46ee-a33c-4fd2311adedc"
      },
      "execution_count": null,
      "outputs": [
        {
          "output_type": "execute_result",
          "data": {
            "text/plain": [
              "'level'"
            ],
            "application/vnd.google.colaboratory.intrinsic+json": {
              "type": "string"
            }
          },
          "metadata": {},
          "execution_count": 10
        }
      ]
    },
    {
      "cell_type": "markdown",
      "source": [
        "## N-gram 만들기"
      ],
      "metadata": {
        "id": "jbJKST-C-6VQ"
      }
    },
    {
      "cell_type": "code",
      "source": [
        "# N-gram은 문자열에서 N개의 연속된 요소를 추출하는 방법\n",
        "# 만약 'Hello' 라는 문자열을 문자(글자) 단위 2-gram으로 추출하면 다음과 같이 됨\n",
        "\n",
        "# He\n",
        "# el\n",
        "# ll\n",
        "# lo"
      ],
      "metadata": {
        "colab": {
          "base_uri": "https://localhost:8080/",
          "height": 211
        },
        "id": "-MP8Mpfe-gqo",
        "outputId": "6793bcd7-6f9e-43b1-9f20-2149b297d448"
      },
      "execution_count": null,
      "outputs": [
        {
          "output_type": "error",
          "ename": "NameError",
          "evalue": "name 'He' is not defined",
          "traceback": [
            "\u001b[0;31m---------------------------------------------------------------------------\u001b[0m",
            "\u001b[0;31mNameError\u001b[0m                                 Traceback (most recent call last)",
            "\u001b[0;32m<ipython-input-11-8f445a48b35f>\u001b[0m in \u001b[0;36m<cell line: 0>\u001b[0;34m()\u001b[0m\n\u001b[1;32m      2\u001b[0m \u001b[0;31m# 만약 'Hello' 라는 문자열을 문자(글자) 단위 2-gram으로 추출하면 다음과 같이 됨\u001b[0m\u001b[0;34m\u001b[0m\u001b[0;34m\u001b[0m\u001b[0m\n\u001b[1;32m      3\u001b[0m \u001b[0;34m\u001b[0m\u001b[0m\n\u001b[0;32m----> 4\u001b[0;31m \u001b[0mHe\u001b[0m\u001b[0;34m\u001b[0m\u001b[0;34m\u001b[0m\u001b[0m\n\u001b[0m\u001b[1;32m      5\u001b[0m \u001b[0mel\u001b[0m\u001b[0;34m\u001b[0m\u001b[0;34m\u001b[0m\u001b[0m\n\u001b[1;32m      6\u001b[0m \u001b[0mll\u001b[0m\u001b[0;34m\u001b[0m\u001b[0;34m\u001b[0m\u001b[0m\n",
            "\u001b[0;31mNameError\u001b[0m: name 'He' is not defined"
          ]
        }
      ]
    },
    {
      "cell_type": "code",
      "source": [
        "## 반복문으로 N-gram 출력하기\n",
        "\n",
        "text = 'Hello'\n",
        "\n",
        "# 2-gram이므로, 문자열의 끝에서 한 글자 앞까지만 반복함\n",
        "for i in range(len(text) - 1):\n",
        "    print(text[i], text[i + 1], sep='') # 현재 문자와 그 다음 문자 출력"
      ],
      "metadata": {
        "colab": {
          "base_uri": "https://localhost:8080/"
        },
        "id": "8FrzBP-w_nYj",
        "outputId": "6591f7d7-f7d3-416b-c4ac-2704b40c812a"
      },
      "execution_count": null,
      "outputs": [
        {
          "output_type": "stream",
          "name": "stdout",
          "text": [
            "He\n",
            "el\n",
            "ll\n",
            "lo\n"
          ]
        }
      ]
    },
    {
      "cell_type": "code",
      "source": [
        "text = 'this is python script'\n",
        "words = text.split()  # 공백을 기준으로 문자열을 분리하여 리스트로 만듬\n",
        "\n",
        "# 2-gram 이므로 리스트의 마지막에서 요소 한 개 앞까지만 반복함\n",
        "for i in range(len(words)-1):\n",
        "    print(words[i], words[i + 1]) # 현재 문자열과 그 다음 문자열 출력"
      ],
      "metadata": {
        "colab": {
          "base_uri": "https://localhost:8080/"
        },
        "id": "c5497rF5_q-W",
        "outputId": "a09a17db-4a6c-4b33-d7aa-f84652715190"
      },
      "execution_count": null,
      "outputs": [
        {
          "output_type": "stream",
          "name": "stdout",
          "text": [
            "this is\n",
            "is python\n",
            "python script\n"
          ]
        }
      ]
    },
    {
      "cell_type": "markdown",
      "source": [
        "## zip으로 2-gram 만들기"
      ],
      "metadata": {
        "id": "EO9Ug_n0F6-V"
      }
    },
    {
      "cell_type": "code",
      "source": [
        "text = 'hello'\n",
        "\n",
        "two_gram = zip(text, text[1:])\n",
        "for i in two_gram:\n",
        "    print(i[0], i[1], sep='')"
      ],
      "metadata": {
        "colab": {
          "base_uri": "https://localhost:8080/"
        },
        "id": "7uPZ1pXGFLmP",
        "outputId": "83352bd6-e617-479e-90ba-84e7ab0ff8ed"
      },
      "execution_count": null,
      "outputs": [
        {
          "output_type": "stream",
          "name": "stdout",
          "text": [
            "he\n",
            "el\n",
            "ll\n",
            "lo\n"
          ]
        }
      ]
    },
    {
      "cell_type": "code",
      "source": [
        "text = 'hello'\n",
        "list(zip(text, text[1:]))"
      ],
      "metadata": {
        "colab": {
          "base_uri": "https://localhost:8080/"
        },
        "id": "0buwxGODGPBs",
        "outputId": "277a869e-83cd-4357-f98f-14909ff582c9"
      },
      "execution_count": null,
      "outputs": [
        {
          "output_type": "execute_result",
          "data": {
            "text/plain": [
              "[('h', 'e'), ('e', 'l'), ('l', 'l'), ('l', 'o')]"
            ]
          },
          "metadata": {},
          "execution_count": 18
        }
      ]
    },
    {
      "cell_type": "code",
      "source": [
        "# 단어 단위 2-gram도 같은 방법으로 만들면 됨\n",
        "\n",
        "text = 'this is python script'\n",
        "words = text.split()\n",
        "list(zip(words, words[1:]))"
      ],
      "metadata": {
        "colab": {
          "base_uri": "https://localhost:8080/"
        },
        "id": "UX29_sW9GcCB",
        "outputId": "06b3b5a5-d41f-4f26-bb61-9cb3befc012c"
      },
      "execution_count": null,
      "outputs": [
        {
          "output_type": "execute_result",
          "data": {
            "text/plain": [
              "[('this', 'is'), ('is', 'python'), ('python', 'script')]"
            ]
          },
          "metadata": {},
          "execution_count": 21
        }
      ]
    },
    {
      "cell_type": "code",
      "source": [
        "# 3-gram으로 만들고 싶다면\n",
        "\n",
        "text = 'this is python script'\n",
        "words = text.split()\n",
        "list(zip(words, words[1:], words[2:]))"
      ],
      "metadata": {
        "colab": {
          "base_uri": "https://localhost:8080/"
        },
        "id": "S8cHKP1nHIAU",
        "outputId": "70f48680-d353-48ba-fe6c-7efff13cb8a6"
      },
      "execution_count": null,
      "outputs": [
        {
          "output_type": "execute_result",
          "data": {
            "text/plain": [
              "[('this', 'is', 'python'), ('is', 'python', 'script')]"
            ]
          },
          "metadata": {},
          "execution_count": 22
        }
      ]
    },
    {
      "cell_type": "markdown",
      "source": [
        "## zip와 리스트 표현식으로 N-gram 만들기"
      ],
      "metadata": {
        "id": "PRmIwUTtH9pY"
      }
    },
    {
      "cell_type": "code",
      "source": [
        "# N-gram의 숫자가 늘어나면, 그 만큼 슬라이스도 여러 개 입력해 줘야 함\n",
        "\n",
        "text = 'hello'\n",
        "[text[i:] for i in range(3)]"
      ],
      "metadata": {
        "colab": {
          "base_uri": "https://localhost:8080/"
        },
        "id": "tOzNNzb_HwdB",
        "outputId": "dcc1561c-779c-4c74-cdab-3dfbf508be94"
      },
      "execution_count": null,
      "outputs": [
        {
          "output_type": "execute_result",
          "data": {
            "text/plain": [
              "['hello', 'ello', 'llo']"
            ]
          },
          "metadata": {},
          "execution_count": 23
        }
      ]
    },
    {
      "cell_type": "code",
      "source": [
        "list(zip(['hello', 'ello', 'llo']))"
      ],
      "metadata": {
        "colab": {
          "base_uri": "https://localhost:8080/"
        },
        "id": "B86ILANyIcWa",
        "outputId": "dd1fecd3-9cc4-4523-e2b7-57b9bba0ae70"
      },
      "execution_count": null,
      "outputs": [
        {
          "output_type": "execute_result",
          "data": {
            "text/plain": [
              "[('hello',), ('ello',), ('llo',)]"
            ]
          },
          "metadata": {},
          "execution_count": 24
        }
      ]
    },
    {
      "cell_type": "code",
      "source": [
        "# zip에 각 콤마를 구분해서 넣으려면 리스트 앞에 *를 붙어야 함\n",
        "\n",
        "list(zip(*['hello', 'ello', 'llo']))"
      ],
      "metadata": {
        "colab": {
          "base_uri": "https://localhost:8080/"
        },
        "id": "1lmXbjO3IuY3",
        "outputId": "2939aebe-a76d-4483-eddb-b1cd788c7a5e"
      },
      "execution_count": null,
      "outputs": [
        {
          "output_type": "execute_result",
          "data": {
            "text/plain": [
              "[('h', 'e', 'l'), ('e', 'l', 'l'), ('l', 'l', 'o')]"
            ]
          },
          "metadata": {},
          "execution_count": 25
        }
      ]
    },
    {
      "cell_type": "code",
      "source": [
        "# 리스트 표현식에 바로 zip를 넣어주려면 표현식 앞에 *를 붙어야 함\n",
        "\n",
        "list(zip(*[text[i:] for i in range(3)]))"
      ],
      "metadata": {
        "colab": {
          "base_uri": "https://localhost:8080/"
        },
        "id": "Z8omYgI3JF0L",
        "outputId": "be5ad7e1-9041-48ec-a95a-1184e705bd3c"
      },
      "execution_count": null,
      "outputs": [
        {
          "output_type": "execute_result",
          "data": {
            "text/plain": [
              "[('h', 'e', 'l'), ('e', 'l', 'l'), ('l', 'l', 'o')]"
            ]
          },
          "metadata": {},
          "execution_count": 26
        }
      ]
    },
    {
      "cell_type": "markdown",
      "source": [
        "## 연습문제 : 단어 단위 N-gram 만들기"
      ],
      "metadata": {
        "id": "3TnIt6oXQAKM"
      }
    },
    {
      "cell_type": "code",
      "source": [
        "n = int(input())\n",
        "text = input()\n",
        "words = text.split()\n",
        "\n",
        "if len(words) < n:\n",
        "    print('worng')\n",
        "else:\n",
        "    n_gram = zip(*[words[i:] for i in range(n)])\n",
        "    for i in n_gram:\n",
        "        print(i)"
      ],
      "metadata": {
        "colab": {
          "base_uri": "https://localhost:8080/"
        },
        "id": "HhHLBVPlJStf",
        "outputId": "fd117324-cbee-4239-ec71-51f9e6d2024b"
      },
      "execution_count": null,
      "outputs": [
        {
          "output_type": "stream",
          "name": "stdout",
          "text": [
            "7\n",
            "Python is a programming language that lets you work quickly\n",
            "('Python', 'is', 'a', 'programming', 'language', 'that', 'lets')\n",
            "('is', 'a', 'programming', 'language', 'that', 'lets', 'you')\n",
            "('a', 'programming', 'language', 'that', 'lets', 'you', 'work')\n",
            "('programming', 'language', 'that', 'lets', 'you', 'work', 'quickly')\n"
          ]
        }
      ]
    },
    {
      "cell_type": "markdown",
      "source": [
        "## 심사문제: 파일에서 회문인 단어 출력하기"
      ],
      "metadata": {
        "id": "6NhRCLFR9dLS"
      }
    },
    {
      "cell_type": "code",
      "source": [
        "word = ['apache', 'decal', 'did', 'neep', 'noon', 'refer', 'river']\n",
        "\n",
        "for w in word:\n",
        "    words = w.split()\n",
        "    for word in words:\n",
        "        if list(word) == list(reversed(word)):\n",
        "            print(word.strip())"
      ],
      "metadata": {
        "id": "rksmyuhwQorr",
        "colab": {
          "base_uri": "https://localhost:8080/"
        },
        "outputId": "11a20240-fb8f-4430-cb3f-9a2a3462fe4a"
      },
      "execution_count": null,
      "outputs": [
        {
          "output_type": "stream",
          "name": "stdout",
          "text": [
            "did\n",
            "noon\n",
            "refer\n"
          ]
        }
      ]
    },
    {
      "cell_type": "code",
      "source": [
        "with open('wordss.txt','r') as file:\n",
        "    for line in file:\n",
        "        words=line.split() #공백을 기준으로 분리하여 리스트로\n",
        "        for word in words:\n",
        "            if list(word)==list(reversed(word)): #만약 회문이면 출력\n",
        "                print(word.strip())"
      ],
      "metadata": {
        "id": "wpR_Qx6p-Dc1",
        "colab": {
          "base_uri": "https://localhost:8080/"
        },
        "outputId": "862fb6c2-d89f-4360-83a2-73f3ac7d12b1"
      },
      "execution_count": null,
      "outputs": [
        {
          "output_type": "stream",
          "name": "stdout",
          "text": [
            "did\n",
            "noon\n",
            "refer\n"
          ]
        }
      ]
    },
    {
      "cell_type": "code",
      "source": [],
      "metadata": {
        "id": "MTbfbcTTU3T_"
      },
      "execution_count": null,
      "outputs": []
    }
  ]
}