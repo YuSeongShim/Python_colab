{
  "nbformat": 4,
  "nbformat_minor": 0,
  "metadata": {
    "colab": {
      "provenance": [],
      "authorship_tag": "ABX9TyM8qEnj7vPjrJ98W1DyK1Pg",
      "include_colab_link": true
    },
    "kernelspec": {
      "name": "python3",
      "display_name": "Python 3"
    },
    "language_info": {
      "name": "python"
    }
  },
  "cells": [
    {
      "cell_type": "markdown",
      "metadata": {
        "id": "view-in-github",
        "colab_type": "text"
      },
      "source": [
        "<a href=\"https://colab.research.google.com/github/YuSeongShim/Python_colab/blob/main/25_05_13_Python_%EC%88%98%EC%97%85(%ED%95%A8%EC%88%98_%ED%95%B5%EC%8B%AC%EC%A0%95%EB%A6%AC).ipynb\" target=\"_parent\"><img src=\"https://colab.research.google.com/assets/colab-badge.svg\" alt=\"Open In Colab\"/></a>"
      ]
    },
    {
      "cell_type": "markdown",
      "source": [
        "## 함수"
      ],
      "metadata": {
        "id": "mq2Cj9s_DUlD"
      }
    },
    {
      "cell_type": "code",
      "execution_count": null,
      "metadata": {
        "id": "A9GHRUvyDCv5"
      },
      "outputs": [],
      "source": [
        "def 함수이름(): # 함수 만들기\n",
        "    코드\n",
        "\n",
        "함수()  # 함수 호출"
      ]
    },
    {
      "cell_type": "code",
      "source": [
        "# 인수 -> 함수를 호출 할 때 넣는 값\n",
        "#          매개변수를 통해서 사용할 수 있음\n",
        "# 반환값 -> 함수가 호출된 뒤 함수 안에서 나오는 값을 반환값 -> 반환값은 함수 안에서 return 됨\n",
        "\n",
        "def 함수이름(매개변수1, 매개변수2):   # 매개변수 지정\n",
        "    return 반환값                     # 함수에서 값 변환\n",
        "변수 = 함수(인수1, 인수2) # 함수에 인수를 넣어서 호출한 뒤 함수의 반환값을 변수에 지정"
      ],
      "metadata": {
        "id": "ziD-DA1IDeNg"
      },
      "execution_count": null,
      "outputs": []
    },
    {
      "cell_type": "markdown",
      "source": [
        "## 매개변수와 인수"
      ],
      "metadata": {
        "id": "UlY0GCYeERSX"
      }
    },
    {
      "cell_type": "code",
      "source": [
        "# 함수 바깥에서 전달받은 값이 저장되는 변수 -> 매개변수\n",
        "\n",
        "def add(a, b):  # a와 b가 매개변수\n",
        "    return a + b"
      ],
      "metadata": {
        "id": "YLIyJkn8D3OS"
      },
      "execution_count": null,
      "outputs": []
    },
    {
      "cell_type": "code",
      "source": [
        "# 함수를 호출 할 떄 전달받은 값이나 변수를 인수라고 함\n",
        "\n",
        "add(10, 20) # 10과 20이 인수"
      ],
      "metadata": {
        "colab": {
          "base_uri": "https://localhost:8080/"
        },
        "id": "338q7MdiEfia",
        "outputId": "ecb1b765-b48a-4534-83f8-d42743de5467"
      },
      "execution_count": null,
      "outputs": [
        {
          "output_type": "execute_result",
          "data": {
            "text/plain": [
              "30"
            ]
          },
          "metadata": {},
          "execution_count": 3
        }
      ]
    },
    {
      "cell_type": "markdown",
      "source": [
        "## 함수에서 값을 여러 개 반환하기"
      ],
      "metadata": {
        "id": "CJgRgG5SErcS"
      }
    },
    {
      "cell_type": "code",
      "source": [
        "# 함수에서 값을 여러 개 반환할 떄는 return에 값이나 변수를 ,(콤마)로 구분해서 지정함\n",
        "# 이렇게 하면 반환값을 변수 여러 개 저장 가능\n",
        "\n",
        "def 함수이름(매개변수):\n",
        "    return 반환값1, 반환값2   # 값을 여러 개 변환\n",
        "\n",
        "변수1, 변수2 = 함수(인수)   # 변환값을 변수 여러 개 저장"
      ],
      "metadata": {
        "colab": {
          "base_uri": "https://localhost:8080/",
          "height": 184
        },
        "id": "ZWnTMlvHEm68",
        "outputId": "40ea009a-a843-4532-ad1a-33d4166ce2d8"
      },
      "execution_count": null,
      "outputs": [
        {
          "output_type": "error",
          "ename": "NameError",
          "evalue": "name '함수' is not defined",
          "traceback": [
            "\u001b[0;31m---------------------------------------------------------------------------\u001b[0m",
            "\u001b[0;31mNameError\u001b[0m                                 Traceback (most recent call last)",
            "\u001b[0;32m<ipython-input-4-676ac592e2f5>\u001b[0m in \u001b[0;36m<cell line: 0>\u001b[0;34m()\u001b[0m\n\u001b[1;32m      5\u001b[0m     \u001b[0;32mreturn\u001b[0m \u001b[0m반환값1\u001b[0m\u001b[0;34m,\u001b[0m \u001b[0m반환값2\u001b[0m   \u001b[0;31m# 값을 여러 개 변환\u001b[0m\u001b[0;34m\u001b[0m\u001b[0;34m\u001b[0m\u001b[0m\n\u001b[1;32m      6\u001b[0m \u001b[0;34m\u001b[0m\u001b[0m\n\u001b[0;32m----> 7\u001b[0;31m \u001b[0m변수1\u001b[0m\u001b[0;34m,\u001b[0m \u001b[0m변수2\u001b[0m \u001b[0;34m=\u001b[0m \u001b[0m함수\u001b[0m\u001b[0;34m(\u001b[0m\u001b[0m인수\u001b[0m\u001b[0;34m)\u001b[0m   \u001b[0;31m# 변환값을 변수 여러 개 저장\u001b[0m\u001b[0;34m\u001b[0m\u001b[0;34m\u001b[0m\u001b[0m\n\u001b[0m",
            "\u001b[0;31mNameError\u001b[0m: name '함수' is not defined"
          ]
        }
      ]
    },
    {
      "cell_type": "markdown",
      "source": [
        "## 위치 인수"
      ],
      "metadata": {
        "id": "P5ptWSnlFMwk"
      }
    },
    {
      "cell_type": "code",
      "source": [
        "# 함수에 인수를 순서대로 넣는 방식 -> 위치 인수\n",
        "# 위치 인수를 사용하는 함수는 리스트(튜플) 앞에 *(에스터리스크)를 붙여서 리스트 언패킹으로 넣을 수 있음\n",
        "\n",
        "def 함수이름(매개변수1, 매개변수2): # 위치 인수를 사용하는 함수\n",
        "    코드\n",
        "\n",
        "함수(*리스트) # 리스트 언패킹\n",
        "함수(*튜플) # 튜플 언패킹"
      ],
      "metadata": {
        "colab": {
          "base_uri": "https://localhost:8080/",
          "height": 202
        },
        "id": "CqqIZFvvFK6F",
        "outputId": "7f7b3f4f-a627-439f-fd89-2efbb962f992"
      },
      "execution_count": null,
      "outputs": [
        {
          "output_type": "error",
          "ename": "NameError",
          "evalue": "name '함수' is not defined",
          "traceback": [
            "\u001b[0;31m---------------------------------------------------------------------------\u001b[0m",
            "\u001b[0;31mNameError\u001b[0m                                 Traceback (most recent call last)",
            "\u001b[0;32m<ipython-input-5-c10b9dcdb9ad>\u001b[0m in \u001b[0;36m<cell line: 0>\u001b[0;34m()\u001b[0m\n\u001b[1;32m      5\u001b[0m     \u001b[0m코드\u001b[0m\u001b[0;34m\u001b[0m\u001b[0;34m\u001b[0m\u001b[0m\n\u001b[1;32m      6\u001b[0m \u001b[0;34m\u001b[0m\u001b[0m\n\u001b[0;32m----> 7\u001b[0;31m \u001b[0m함수\u001b[0m\u001b[0;34m(\u001b[0m\u001b[0;34m*\u001b[0m\u001b[0m리스트\u001b[0m\u001b[0;34m)\u001b[0m \u001b[0;31m# 리스트 언패킹\u001b[0m\u001b[0;34m\u001b[0m\u001b[0;34m\u001b[0m\u001b[0m\n\u001b[0m\u001b[1;32m      8\u001b[0m \u001b[0m함수\u001b[0m\u001b[0;34m(\u001b[0m\u001b[0;34m*\u001b[0m\u001b[0m튜플\u001b[0m\u001b[0;34m)\u001b[0m \u001b[0;31m# 튜플 언패킹\u001b[0m\u001b[0;34m\u001b[0m\u001b[0;34m\u001b[0m\u001b[0m\n",
            "\u001b[0;31mNameError\u001b[0m: name '함수' is not defined"
          ]
        }
      ]
    },
    {
      "cell_type": "code",
      "source": [
        "# 위치 인수를 사용하는 가변 인수 함수는 매개변수 앞에 *을 붙여서 만듬\n",
        "\n",
        "def 함수이름(*매개변수): # 위치 인수를 사용하는 가변 인수 함수\n",
        "    코드\n",
        "\n",
        "함수(인수1, 인수2) # 인수 여러 개를 직접 넣기\n",
        "함수(*리스트) # 리스트 언패킹\n",
        "함수(*튜플)   # 튜플 언패킹"
      ],
      "metadata": {
        "id": "RSQfcUnXFrEw"
      },
      "execution_count": null,
      "outputs": []
    },
    {
      "cell_type": "markdown",
      "source": [
        "## 키워드 인수"
      ],
      "metadata": {
        "id": "hsk0MfQ8GDhP"
      }
    },
    {
      "cell_type": "code",
      "source": [
        "# 함수에 넣는 인수에 이름(키워드)를 붙이는 방식 -> 키워드 인수\n",
        "# 키워드 인수는 딕셔너리 옆에 **(에스터리스트 두개)를 붙여서 딕셔너리 언패킹으로 넣을 수 있음\n",
        "\n",
        "함수(키워드1=값1, 키워드2=값2)   # 함수를 키워드 인수 방식으로 호출\n",
        "\n",
        "함수(**딕셔너리)  # 딕셔너리 언패킹"
      ],
      "metadata": {
        "id": "DQxc1DtjGDQg"
      },
      "execution_count": null,
      "outputs": []
    },
    {
      "cell_type": "code",
      "source": [
        "## 키워드 인수를 사용하는 가변 인수 함수는 매개변수 앞에 **을 붙여서 만듬\n",
        "\n",
        "def 함수이름(**매개변수): # 키워드 인수를 사용하는 가변 인수 함수\n",
        "    코드\n",
        "\n",
        "함수 (키워드1=값1, 키워드2=값2) # 키워드 인수를 직접 넣기\n",
        "함수(**딕셔너리) # 딕셔너리 언패킹"
      ],
      "metadata": {
        "id": "xaujQS2LHbLC"
      },
      "execution_count": null,
      "outputs": []
    },
    {
      "cell_type": "markdown",
      "source": [
        "## 매개변수의 초깃값"
      ],
      "metadata": {
        "id": "MKcYTN4WHxdh"
      }
    },
    {
      "cell_type": "code",
      "source": [
        "# 함수를 만들 때 매개변수에 초깃값을 지정하면 함수를 호출할 떄 해당 인수를 비워두고 호출 가능\n",
        "\n",
        "def 함수이름(매개변수=값):  # 매개변수에 초깃값 지정\n",
        "    코드\n",
        "\n",
        "함수()  # 매개변수에 초깃값이 있으므로 인수를 비워두고 호출"
      ],
      "metadata": {
        "id": "m4QwLHpPHzsC"
      },
      "execution_count": null,
      "outputs": []
    },
    {
      "cell_type": "markdown",
      "source": [
        "## 함수의 재귀호출"
      ],
      "metadata": {
        "id": "HRUdZplOIGuv"
      }
    },
    {
      "cell_type": "code",
      "source": [
        "# 함수 안에서 자기 자신을 호출하는 방식을 재귀호출\n",
        "# 반드시 종료 조건을 만들어줘야 함\n",
        "\n",
        "def factorial(n):   # 재귀호출로 팩토리얼을 구하는 함수\n",
        "    if n == 1:      # n이 1일 때\n",
        "        return 1 # 1을 반환하고 재귀호출을 끝냄\n",
        "    return n * factorial(n - 1) # n과 factorial 함수에 n - 1을 넣어서 변환된 값을 곱함"
      ],
      "metadata": {
        "id": "PO7Jm-LkIIqd"
      },
      "execution_count": null,
      "outputs": []
    }
  ]
}