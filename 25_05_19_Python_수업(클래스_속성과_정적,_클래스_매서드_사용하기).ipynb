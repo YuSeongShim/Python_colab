{
  "nbformat": 4,
  "nbformat_minor": 0,
  "metadata": {
    "colab": {
      "provenance": [],
      "authorship_tag": "ABX9TyPifPxwuvejkY7OnH2Xpp+a",
      "include_colab_link": true
    },
    "kernelspec": {
      "name": "python3",
      "display_name": "Python 3"
    },
    "language_info": {
      "name": "python"
    }
  },
  "cells": [
    {
      "cell_type": "markdown",
      "metadata": {
        "id": "view-in-github",
        "colab_type": "text"
      },
      "source": [
        "<a href=\"https://colab.research.google.com/github/YuSeongShim/Python_colab/blob/main/25_05_19_Python_%EC%88%98%EC%97%85(%ED%81%B4%EB%9E%98%EC%8A%A4_%EC%86%8D%EC%84%B1%EA%B3%BC_%EC%A0%95%EC%A0%81%2C_%ED%81%B4%EB%9E%98%EC%8A%A4_%EB%A7%A4%EC%84%9C%EB%93%9C_%EC%82%AC%EC%9A%A9%ED%95%98%EA%B8%B0).ipynb\" target=\"_parent\"><img src=\"https://colab.research.google.com/assets/colab-badge.svg\" alt=\"Open In Colab\"/></a>"
      ]
    },
    {
      "cell_type": "markdown",
      "source": [
        "## 35.1 클래스 속성과 인스턴스 속성 알아보기"
      ],
      "metadata": {
        "id": "yYQ3dt9kuX7_"
      }
    },
    {
      "cell_type": "code",
      "execution_count": null,
      "metadata": {
        "id": "QLyJwN48uL7q"
      },
      "outputs": [],
      "source": [
        "## 사실 속성에는 두 가지가 있음 -> 클래스 속성, 인스턴스 속성\n",
        "## __init__ 매서드에서 만들었던 속성은 인스턴스 속성"
      ]
    },
    {
      "cell_type": "markdown",
      "source": [
        "## 35.1.1 클래스 속성 사용하기"
      ],
      "metadata": {
        "id": "jcgZYahdut2m"
      }
    },
    {
      "cell_type": "code",
      "source": [
        "class 클래스이름:\n",
        "    속성 = 값"
      ],
      "metadata": {
        "id": "fAxnN3izvRqu"
      },
      "execution_count": null,
      "outputs": []
    },
    {
      "cell_type": "code",
      "source": [
        "# 간단하게 사람 클래스에 클래스 속성으로 가방 속성을 넣고 사용\n",
        "\n",
        "class Person:\n",
        "    bag = []\n",
        "\n",
        "    def put_bag(self, stuff):\n",
        "        self.bag.append(stuff)\n",
        "\n",
        "james = Person()\n",
        "james.put_bag('책')\n",
        "\n",
        "maria = Person()\n",
        "maria.put_bag('열쇠')\n",
        "\n",
        "print(james.bag)\n",
        "print(maria.bag)"
      ],
      "metadata": {
        "colab": {
          "base_uri": "https://localhost:8080/"
        },
        "id": "8wg6pPbmvWk2",
        "outputId": "5d61f42f-ffd4-4d80-c819-84bd718da914"
      },
      "execution_count": null,
      "outputs": [
        {
          "output_type": "stream",
          "name": "stdout",
          "text": [
            "['책', '열쇠']\n",
            "['책', '열쇠']\n"
          ]
        }
      ]
    },
    {
      "cell_type": "code",
      "source": [
        "# 클래스 속성을 접근할 때는 다음가 같이 클래스 이름으로 접근하면 됨\n",
        "\n",
        "# 클래스, 속성\n",
        "\n",
        "class Person:\n",
        "    bag = []\n",
        "\n",
        "    def put_bag(self,sutff):\n",
        "        Person.bag.append(sutff) # 클래스 이름으로 클래스 속성에 접근\n",
        "\n",
        "print(Person.bag)"
      ],
      "metadata": {
        "colab": {
          "base_uri": "https://localhost:8080/"
        },
        "id": "Bg8q-n1AwkZW",
        "outputId": "8d914b8b-c514-40a8-c953-b5cc0f8c1d9b"
      },
      "execution_count": null,
      "outputs": [
        {
          "output_type": "stream",
          "name": "stdout",
          "text": [
            "[]\n"
          ]
        }
      ]
    },
    {
      "cell_type": "markdown",
      "source": [
        "## 속성, 메서드 이름을 찾는 순서"
      ],
      "metadata": {
        "id": "JPiej0AzvWCG"
      }
    },
    {
      "cell_type": "code",
      "source": [
        "# 파이썬에서 속성, 매서드 이름을 찾을 때 인스턴스, 클래스 순으로 찾음\n",
        "# 인스턴스 속성이 없으면 클래스 속성을 찾게 되므로 문제 없이 작동함\n",
        "\n",
        "# 인스턴스 .__dict__, 클래스.__dict__\n",
        "\n",
        "james.__dict__"
      ],
      "metadata": {
        "colab": {
          "base_uri": "https://localhost:8080/"
        },
        "id": "v4skYhyXxIWu",
        "outputId": "144cf0e4-2436-4632-ca15-073dde7d8d9d"
      },
      "execution_count": null,
      "outputs": [
        {
          "output_type": "execute_result",
          "data": {
            "text/plain": [
              "{}"
            ]
          },
          "metadata": {},
          "execution_count": 4
        }
      ]
    },
    {
      "cell_type": "code",
      "source": [
        "Person.__dict__"
      ],
      "metadata": {
        "colab": {
          "base_uri": "https://localhost:8080/"
        },
        "id": "PhUk2arhxuvP",
        "outputId": "b8c963bf-5400-4e2e-c05c-c93c9b71a84e"
      },
      "execution_count": null,
      "outputs": [
        {
          "output_type": "execute_result",
          "data": {
            "text/plain": [
              "mappingproxy({'__module__': '__main__',\n",
              "              'bag': [],\n",
              "              'put_bag': <function __main__.Person.put_bag(self, sutff)>,\n",
              "              '__dict__': <attribute '__dict__' of 'Person' objects>,\n",
              "              '__weakref__': <attribute '__weakref__' of 'Person' objects>,\n",
              "              '__doc__': None,\n",
              "              '__annotations__': {}})"
            ]
          },
          "metadata": {},
          "execution_count": 5
        }
      ]
    },
    {
      "cell_type": "markdown",
      "source": [
        "## 35.1.2 인스턴스 속성 사용하기"
      ],
      "metadata": {
        "id": "VWf_i7t1x-BW"
      }
    },
    {
      "cell_type": "code",
      "source": [
        "# 가방을 여러 사람이 공유하지 x -> bag을 인스턴스 속성으로 만들면 됨\n",
        "\n",
        "class Person:\n",
        "    def __init__(self):\n",
        "        self.bag = []\n",
        "\n",
        "    def put_bag(self, stuff):\n",
        "        self.bag.append(stuff)\n",
        "\n",
        "james = Person()\n",
        "james.put_bag('책')\n",
        "\n",
        "maria = Person()\n",
        "maria.put_bag('열쇠')\n",
        "\n",
        "print(james.bag)\n",
        "print(maria.bag)"
      ],
      "metadata": {
        "colab": {
          "base_uri": "https://localhost:8080/"
        },
        "id": "sz-CYtiKxwo2",
        "outputId": "1a1b0fba-d5e3-4f9e-d180-e3810945f0cc"
      },
      "execution_count": null,
      "outputs": [
        {
          "output_type": "stream",
          "name": "stdout",
          "text": [
            "['책']\n",
            "['열쇠']\n"
          ]
        }
      ]
    },
    {
      "cell_type": "code",
      "source": [
        "## 클래스 속성과 인스턴스 속성 차이점\n",
        "# 클래스 속성 : 모든 인스턴스가 공유. 인스턴스 전체가 사용해야 하는 값을 저장할때 사용\n",
        "# 인스턴스 속성 : 인스턴스별로 독립되어 있음. 각 인스턴스가 값을 따로 저장해야 할 떄 사용"
      ],
      "metadata": {
        "id": "tx-hbtk8ygsv"
      },
      "execution_count": null,
      "outputs": []
    },
    {
      "cell_type": "markdown",
      "source": [
        "## 35.1.3 비공개 클래스 속성 사용하기"
      ],
      "metadata": {
        "id": "QV1MUuYrzXCe"
      }
    },
    {
      "cell_type": "code",
      "source": [
        "# 클래스 속성을 만들 때 _속성과 같이 __(밑줄 두개)로 시작하면 비공개 속성!!\n",
        "\n",
        "class 클래스 이름:\n",
        "    __속성 = 값 # 비공개 클래스 속성"
      ],
      "metadata": {
        "id": "GVO__GGwzabF"
      },
      "execution_count": null,
      "outputs": []
    },
    {
      "cell_type": "code",
      "source": [
        "# 예를 들어 비공개 클래스는 게임 캐릭터가 아이템을 최대 10개까지만 보유할 수 있다고 함\n",
        "# 비공개 클래스 속성은 클래스 바깥으로 드러내고 싶지 않은 값을 사용\n",
        "\n",
        "class Knight:\n",
        "    __item_limit = 10   # 비공개 클래스 속성\n",
        "\n",
        "    def print_item_limit(self):\n",
        "        print(Knight.__item_limit)  # 클래스 안에서만 접근할 수 있음\n",
        "\n",
        "x = Knight()\n",
        "x.print_item_limit()  # 10\n",
        "\n",
        "print(Knight.__item_limit)  # 클래스 바깥에서는 접근 할 수 없음"
      ],
      "metadata": {
        "colab": {
          "base_uri": "https://localhost:8080/",
          "height": 202
        },
        "id": "cYwDCI8izm2F",
        "outputId": "cb6de7d0-753a-4fd1-d9fd-3bec0f6ab498"
      },
      "execution_count": null,
      "outputs": [
        {
          "output_type": "stream",
          "name": "stdout",
          "text": [
            "10\n"
          ]
        },
        {
          "output_type": "error",
          "ename": "AttributeError",
          "evalue": "type object 'Knight' has no attribute '__item_limit'",
          "traceback": [
            "\u001b[0;31m---------------------------------------------------------------------------\u001b[0m",
            "\u001b[0;31mAttributeError\u001b[0m                            Traceback (most recent call last)",
            "\u001b[0;32m<ipython-input-7-26c51fd54667>\u001b[0m in \u001b[0;36m<cell line: 0>\u001b[0;34m()\u001b[0m\n\u001b[1;32m     10\u001b[0m \u001b[0mx\u001b[0m\u001b[0;34m.\u001b[0m\u001b[0mprint_item_limit\u001b[0m\u001b[0;34m(\u001b[0m\u001b[0;34m)\u001b[0m  \u001b[0;31m# 10\u001b[0m\u001b[0;34m\u001b[0m\u001b[0;34m\u001b[0m\u001b[0m\n\u001b[1;32m     11\u001b[0m \u001b[0;34m\u001b[0m\u001b[0m\n\u001b[0;32m---> 12\u001b[0;31m \u001b[0mprint\u001b[0m\u001b[0;34m(\u001b[0m\u001b[0mKnight\u001b[0m\u001b[0;34m.\u001b[0m\u001b[0m__item_limit\u001b[0m\u001b[0;34m)\u001b[0m  \u001b[0;31m# 클래스 바깥에서는 접근 할 수 없음\u001b[0m\u001b[0;34m\u001b[0m\u001b[0;34m\u001b[0m\u001b[0m\n\u001b[0m",
            "\u001b[0;31mAttributeError\u001b[0m: type object 'Knight' has no attribute '__item_limit'"
          ]
        }
      ]
    },
    {
      "cell_type": "markdown",
      "source": [
        "## 클래스와 매서드의 독스트링 사용하기"
      ],
      "metadata": {
        "id": "Ygx3zUhu0jwW"
      }
    },
    {
      "cell_type": "code",
      "source": [
        "# :(콜론)바로 다음 줄에 \"\"\" \"\"\"(큰 따옴표 세개), '''(작은 따옴표 세 개)를 문자열로 입력하면 됨\n",
        "# 클래스의 독스트링은 -> 클래스._doc__ 형식\n",
        "# 매서드의 독스트링은 -> 인스턴스.메서드._doc__ 형식\n",
        "\n",
        "class Person:\n",
        "    ''' 사람 클래스입니다. '''\n",
        "\n",
        "    def greeting(self):\n",
        "        '''인사 메서드입니다. '''\n",
        "        print('Hello')\n",
        "\n",
        "print(Person.__doc__) # 사람 클래스입니다.\n",
        "print(Person.greeting.__doc__)  # 인사 메서드입니다.\n",
        "\n",
        "maria = Person()\n",
        "print(maria.greeting.__doc__) # 인사 메서드입니다."
      ],
      "metadata": {
        "id": "Gab2BzhL0XYJ"
      },
      "execution_count": null,
      "outputs": []
    },
    {
      "cell_type": "markdown",
      "source": [
        "## 35.2 정적 메서드 사용하기"
      ],
      "metadata": {
        "id": "Jg_KGUiQ1_2d"
      }
    },
    {
      "cell_type": "code",
      "source": [
        "# 정적 메서드는 메서드 위에 -> @staticmethod를 붙임\n",
        "# 매개변수에 self를 지정 x\n",
        "# 앞에 @ 붙은 것을 데코레이터라고 하며, 메서드(함수)에 추가 기능을 구현할 때 사용\n",
        "\n",
        "class 클래스이름:\n",
        "    @staticmethod\n",
        "    def 메서드(매개변수1, 매개변수2):\n",
        "        코드"
      ],
      "metadata": {
        "id": "CQDJbusr2Dkd"
      },
      "execution_count": null,
      "outputs": []
    },
    {
      "cell_type": "code",
      "source": [
        "# 덧셈과 곱셈을 하는 클래스\n",
        "\n",
        "class Calc:\n",
        "    @staticmethod\n",
        "    def add(a, b):\n",
        "        print(a + b)\n",
        "\n",
        "    @staticmethod\n",
        "    def mul(a, b):\n",
        "        print(a * b)\n",
        "\n",
        "Calc.add(10, 20)  # 클래스에서 바로 메서드 호출, 인스턴스 속성 접근 x\n",
        "Calc.mul(10, 20)  # 클래스에서 바로 메서드 호출, 인스턴스 속성 접근 x"
      ],
      "metadata": {
        "colab": {
          "base_uri": "https://localhost:8080/"
        },
        "id": "nehMTEwO2fj-",
        "outputId": "912a7220-b774-4157-f590-35d6fd2d018b"
      },
      "execution_count": null,
      "outputs": [
        {
          "output_type": "stream",
          "name": "stdout",
          "text": [
            "30\n",
            "200\n"
          ]
        }
      ]
    },
    {
      "cell_type": "code",
      "source": [
        "# 순수 함수(pure function) -> 부수 효과가 없고 입력 값이 같으면 언제나 같은 출력 값을 반환\n",
        "# 정적 메서드는 인스턴스의 상태를 변화시키지 않은 메서드를 사용할 때 사용"
      ],
      "metadata": {
        "id": "Vd_5zUtZ26H5"
      },
      "execution_count": null,
      "outputs": []
    },
    {
      "cell_type": "markdown",
      "source": [
        "## 참고 | 파이썬 자료형의 인스턴스 매서드와 정적 매서드"
      ],
      "metadata": {
        "id": "qEKa8MnT3UnN"
      }
    },
    {
      "cell_type": "code",
      "source": [
        "# 세트의 요소를 더할 때 -> 인스턴스 메서드\n",
        "# 합집합을 구할 떄 -> 정적 메서드\n",
        "\n",
        "a = {1, 2, 3, 4}\n",
        "a.update({5}) # 인스턴스 메서드\n",
        "a"
      ],
      "metadata": {
        "colab": {
          "base_uri": "https://localhost:8080/"
        },
        "id": "5lms0Dna3UXV",
        "outputId": "0a6a66f1-f209-4f39-b18b-24e336e67750"
      },
      "execution_count": null,
      "outputs": [
        {
          "output_type": "execute_result",
          "data": {
            "text/plain": [
              "{1, 2, 3, 4, 5}"
            ]
          },
          "metadata": {},
          "execution_count": 9
        }
      ]
    },
    {
      "cell_type": "code",
      "source": [
        "set.union({1, 2, 3, 4}, {5})  # 정적(클래스) 메서드"
      ],
      "metadata": {
        "colab": {
          "base_uri": "https://localhost:8080/"
        },
        "id": "dVicV-ox3oJW",
        "outputId": "d27c8d0b-4b36-4be7-93a2-a221f2baef40"
      },
      "execution_count": null,
      "outputs": [
        {
          "output_type": "execute_result",
          "data": {
            "text/plain": [
              "{1, 2, 3, 4, 5}"
            ]
          },
          "metadata": {},
          "execution_count": 10
        }
      ]
    },
    {
      "cell_type": "markdown",
      "source": [
        "## 35.3 클래스 메서드 사용하기"
      ],
      "metadata": {
        "id": "9uoozQMR38Jl"
      }
    },
    {
      "cell_type": "code",
      "source": [
        "# 클래스 메서드는 메서드 위에 @classmethod를 붙임\n",
        "# 첫번째 매개변수에 cls를 지정해야 함\n",
        "\n",
        "class 클래스이름:\n",
        "    @classmethod\n",
        "    def 메서드(cls, 매개변수1, 매개변수2):\n",
        "        코드"
      ],
      "metadata": {
        "id": "yuYzwtRz3tZf"
      },
      "execution_count": null,
      "outputs": []
    },
    {
      "cell_type": "code",
      "source": [
        "# 사람 클래스를 만들고 인스턴스 개수 출력하기\n",
        "\n",
        "class Person:\n",
        "    count = 0 # 클래스 속성\n",
        "\n",
        "    def __init__(self):\n",
        "        Person.count += 1 # 인스턴스가 만들어질 때\n",
        "                          # 클래스 속성 count에 1을 더함\n",
        "\n",
        "    @classmethod\n",
        "    def print_count(cls):\n",
        "        print('{0}명 생성되었습니다.'.format(cls.count))  # cls로 클래스 속성에 접근\n",
        "\n",
        "james = Person()\n",
        "maria = Person()\n",
        "\n",
        "Person.print_count()  # 2명 생성되었습니다."
      ],
      "metadata": {
        "colab": {
          "base_uri": "https://localhost:8080/"
        },
        "id": "WZi_aJm-wYQN",
        "outputId": "6903333c-acdf-4865-e0c1-70d90aebf797"
      },
      "execution_count": 2,
      "outputs": [
        {
          "output_type": "stream",
          "name": "stdout",
          "text": [
            "2명 생성되었습니다.\n"
          ]
        }
      ]
    },
    {
      "cell_type": "markdown",
      "source": [
        "## 연습문제: 날짜 클래스 만들기"
      ],
      "metadata": {
        "id": "CkAkvseUz5ju"
      }
    },
    {
      "cell_type": "code",
      "source": [
        "class Date:\n",
        "  @staticmethod\n",
        "  def is_date_valid(date_string):\n",
        "      year, month, day = map(int, date_string.split('-'))\n",
        "      return month <= 12 and day <= 31\n",
        "\n",
        "if Date.is_date_valid('2000-10-31'):\n",
        "    print('올바른 날짜 형식입니다.')\n",
        "else:\n",
        "    print('잘못된 날짜 형식입니다.')"
      ],
      "metadata": {
        "colab": {
          "base_uri": "https://localhost:8080/"
        },
        "id": "M6D81RFDxCsI",
        "outputId": "fd485798-ae35-47ea-e8a4-490cc37e6a6e"
      },
      "execution_count": 6,
      "outputs": [
        {
          "output_type": "stream",
          "name": "stdout",
          "text": [
            "올바른 날짜 형식입니다.\n"
          ]
        }
      ]
    },
    {
      "cell_type": "markdown",
      "source": [
        "## 심사문제 : 시간 클래스 만들기"
      ],
      "metadata": {
        "id": "1Ef8yFVI5utX"
      }
    },
    {
      "cell_type": "code",
      "source": [
        "class Time:\n",
        "    def __init__(self, hour, minute, second):\n",
        "        self.hour = hour\n",
        "        self.minute = minute\n",
        "        self.second = second\n",
        "\n",
        "    @classmethod\n",
        "    def from_string(cls, time_string):\n",
        "      hour,minute,second = map(int, time_string.split(':'))\n",
        "      time = cls(hour, minute, second)\n",
        "      return time\n",
        "\n",
        "    @staticmethod\n",
        "    def is_time_valid(time_string):\n",
        "        hour, minute, second = map(int, time_string.split(':'))\n",
        "        return hour <= 24 and minute <= 59 and second <= 60\n",
        "\n",
        "time_string = input()\n",
        "\n",
        "if  Time.is_time_valid(time_string):\n",
        "    t = Time.from_string(time_string)\n",
        "    print(t.hour, t.minute, t.second)\n",
        "else:\n",
        "    print('잘못된 시간 형식입니다.')\n",
        "\n"
      ],
      "metadata": {
        "colab": {
          "base_uri": "https://localhost:8080/"
        },
        "id": "msI9vJDL5i6p",
        "outputId": "d9c381d7-2666-4b1b-c766-ff9fd8aace2d"
      },
      "execution_count": 15,
      "outputs": [
        {
          "output_type": "stream",
          "name": "stdout",
          "text": [
            "23:35:59\n",
            "23 35 59\n"
          ]
        }
      ]
    },
    {
      "cell_type": "code",
      "source": [],
      "metadata": {
        "id": "1IFgkvaZ9IIL"
      },
      "execution_count": null,
      "outputs": []
    }
  ]
}